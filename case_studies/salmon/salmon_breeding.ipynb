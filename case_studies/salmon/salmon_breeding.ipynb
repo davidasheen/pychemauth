{
 "cells": [
  {
   "cell_type": "code",
   "execution_count": 1,
   "metadata": {
    "ExecuteTime": {
     "end_time": "2021-03-11T16:30:50.836834Z",
     "start_time": "2021-03-11T16:30:48.996965Z"
    }
   },
   "outputs": [],
   "source": [
    "import numpy as np\n",
    "import pandas as pd"
   ]
  },
  {
   "cell_type": "code",
   "execution_count": 2,
   "metadata": {
    "ExecuteTime": {
     "end_time": "2021-03-11T16:30:51.636779Z",
     "start_time": "2021-03-11T16:30:51.625548Z"
    }
   },
   "outputs": [],
   "source": [
    "def get_X():\n",
    "    df = pd.read_csv('./data_Fish_Mucus_BV_200115_actual data.csv')\n",
    "    X = df[df.Stock.isin(['CULL', 'BROOD'])]\n",
    "    X = X.drop(['ID', 'Class', 'Strain', 'Fork Length (cm)', 'Weight (kg)'], axis=1)\n",
    "    return X\n",
    "\n",
    "def sort_columns(X):\n",
    "    sorted_columns = sorted([a.split('_') for a in X.drop(['Stock', 'Breeding Value'], axis=1).columns.values],\n",
    "                        key=lambda x:(int(x[0][1]), int(x[1])), reverse=True)\n",
    "    cutoff = [0]\n",
    "    for i in range(1, len(sorted_columns)):\n",
    "        if sorted_columns[i][0] != sorted_columns[i-1][0]:\n",
    "            cutoff.append(i)\n",
    "            \n",
    "    return sorted_columns, cutoff, X[['_'.join((a,b)) for a,b in sorted_columns]].values\n",
    "\n",
    "def extract(target='Breeding Value'):\n",
    "    X_df = get_X()\n",
    "    y_vals = X_df[target].values\n",
    "    sorted_columns, cutoff, X_vals = sort_columns(X_df)\n",
    "    \n",
    "    return X_vals, y_vals, cutoff"
   ]
  },
  {
   "cell_type": "code",
   "execution_count": 4,
   "metadata": {
    "ExecuteTime": {
     "end_time": "2021-03-11T16:31:07.037040Z",
     "start_time": "2021-03-11T16:31:07.013733Z"
    },
    "scrolled": false
   },
   "outputs": [],
   "source": [
    "table = pd.read_csv('./data_Fish_Mucus_BV_200115_actual data.csv')"
   ]
  },
  {
   "cell_type": "code",
   "execution_count": 29,
   "metadata": {
    "ExecuteTime": {
     "end_time": "2021-03-11T16:38:52.419884Z",
     "start_time": "2021-03-11T16:38:52.408577Z"
    }
   },
   "outputs": [
    {
     "data": {
      "text/plain": [
       "0                CULL\n",
       "1                CULL\n",
       "2                CULL\n",
       "3                CULL\n",
       "4                CULL\n",
       "5                CULL\n",
       "6                CULL\n",
       "7                CULL\n",
       "8                CULL\n",
       "9                CULL\n",
       "10               CULL\n",
       "11               CULL\n",
       "12               CULL\n",
       "13               CULL\n",
       "14               CULL\n",
       "15               CULL\n",
       "16               CULL\n",
       "17               CULL\n",
       "18               CULL\n",
       "19               CULL\n",
       "20               CULL\n",
       "21               CULL\n",
       "22                NaN\n",
       "23               CULL\n",
       "24               CULL\n",
       "25              BROOD\n",
       "26             BROOD \n",
       "27    BROOD - CONTROL\n",
       "28              BROOD\n",
       "29    BROOD - CONTROL\n",
       "           ...       \n",
       "70               CULL\n",
       "71                NaN\n",
       "72               CULL\n",
       "73               CULL\n",
       "74               CULL\n",
       "75              BROOD\n",
       "76              BROOD\n",
       "77              BROOD\n",
       "78              BROOD\n",
       "79              BROOD\n",
       "80              BROOD\n",
       "81              BROOD\n",
       "82    BROOD - CONTROL\n",
       "83              BROOD\n",
       "84              BROOD\n",
       "85              BROOD\n",
       "86             BROOD \n",
       "87              BROOD\n",
       "88              BROOD\n",
       "89           TEN-TSAO\n",
       "90              BROOD\n",
       "91              BROOD\n",
       "92              BROOD\n",
       "93              BROOD\n",
       "94              BROOD\n",
       "95             BROOD \n",
       "96    BROOD - CONTROL\n",
       "97              BROOD\n",
       "98              BROOD\n",
       "99              BROOD\n",
       "Name: Stock, Length: 100, dtype: object"
      ]
     },
     "execution_count": 29,
     "metadata": {},
     "output_type": "execute_result"
    }
   ],
   "source": [
    "table['Stock']"
   ]
  },
  {
   "cell_type": "code",
   "execution_count": 38,
   "metadata": {
    "ExecuteTime": {
     "end_time": "2021-03-11T16:40:14.536921Z",
     "start_time": "2021-03-11T16:40:14.525596Z"
    },
    "scrolled": true
   },
   "outputs": [
    {
     "data": {
      "text/plain": [
       "13"
      ]
     },
     "execution_count": 38,
     "metadata": {},
     "output_type": "execute_result"
    }
   ],
   "source": [
    "np.sum(table['Class'] [table['Stock'] == 'BROOD'].apply(lambda x:'F' in x))"
   ]
  },
  {
   "cell_type": "code",
   "execution_count": 40,
   "metadata": {
    "ExecuteTime": {
     "end_time": "2021-03-11T16:40:19.188911Z",
     "start_time": "2021-03-11T16:40:19.178011Z"
    }
   },
   "outputs": [
    {
     "data": {
      "text/plain": [
       "20"
      ]
     },
     "execution_count": 40,
     "metadata": {},
     "output_type": "execute_result"
    }
   ],
   "source": [
    "np.sum(table['Class'] [table['Stock'] == 'BROOD'].apply(lambda x:'F' not in x))"
   ]
  },
  {
   "cell_type": "code",
   "execution_count": 25,
   "metadata": {
    "ExecuteTime": {
     "end_time": "2021-03-11T16:34:17.576168Z",
     "start_time": "2021-03-11T16:34:17.565709Z"
    }
   },
   "outputs": [
    {
     "data": {
      "text/plain": [
       "0                CULL\n",
       "1                CULL\n",
       "2                CULL\n",
       "3                CULL\n",
       "4                CULL\n",
       "5                CULL\n",
       "6                CULL\n",
       "7                CULL\n",
       "8                CULL\n",
       "9                CULL\n",
       "10               CULL\n",
       "11               CULL\n",
       "12               CULL\n",
       "13               CULL\n",
       "14               CULL\n",
       "15               CULL\n",
       "16               CULL\n",
       "17               CULL\n",
       "18               CULL\n",
       "19               CULL\n",
       "20               CULL\n",
       "21               CULL\n",
       "22                NaN\n",
       "23               CULL\n",
       "24               CULL\n",
       "25              BROOD\n",
       "26             BROOD \n",
       "27    BROOD - CONTROL\n",
       "28              BROOD\n",
       "29    BROOD - CONTROL\n",
       "           ...       \n",
       "70               CULL\n",
       "71                NaN\n",
       "72               CULL\n",
       "73               CULL\n",
       "74               CULL\n",
       "75              BROOD\n",
       "76              BROOD\n",
       "77              BROOD\n",
       "78              BROOD\n",
       "79              BROOD\n",
       "80              BROOD\n",
       "81              BROOD\n",
       "82    BROOD - CONTROL\n",
       "83              BROOD\n",
       "84              BROOD\n",
       "85              BROOD\n",
       "86             BROOD \n",
       "87              BROOD\n",
       "88              BROOD\n",
       "89           TEN-TSAO\n",
       "90              BROOD\n",
       "91              BROOD\n",
       "92              BROOD\n",
       "93              BROOD\n",
       "94              BROOD\n",
       "95             BROOD \n",
       "96    BROOD - CONTROL\n",
       "97              BROOD\n",
       "98              BROOD\n",
       "99              BROOD\n",
       "Name: Stock, Length: 100, dtype: object"
      ]
     },
     "execution_count": 25,
     "metadata": {},
     "output_type": "execute_result"
    }
   ],
   "source": [
    "table['Stock']"
   ]
  },
  {
   "cell_type": "code",
   "execution_count": null,
   "metadata": {},
   "outputs": [],
   "source": []
  },
  {
   "cell_type": "code",
   "execution_count": 357,
   "metadata": {
    "ExecuteTime": {
     "end_time": "2020-07-06T15:34:46.594686Z",
     "start_time": "2020-07-06T15:34:46.592922Z"
    }
   },
   "outputs": [],
   "source": [
    "# df.isna().sum().sort_values(ascending=False).head(10)"
   ]
  },
  {
   "cell_type": "code",
   "execution_count": 358,
   "metadata": {
    "ExecuteTime": {
     "end_time": "2020-07-06T15:34:53.274575Z",
     "start_time": "2020-07-06T15:34:53.272935Z"
    }
   },
   "outputs": [],
   "source": [
    "# df.Stock.unique()"
   ]
  },
  {
   "cell_type": "code",
   "execution_count": 193,
   "metadata": {
    "ExecuteTime": {
     "end_time": "2020-07-06T14:37:45.066535Z",
     "start_time": "2020-07-06T14:37:45.064524Z"
    }
   },
   "outputs": [],
   "source": [
    "# According to Erin Legacki, Brood Control NOT selected based on breeding value\n",
    "# Just want to compare Brood to Cull"
   ]
  },
  {
   "cell_type": "code",
   "execution_count": 359,
   "metadata": {
    "ExecuteTime": {
     "end_time": "2020-07-06T15:34:55.325584Z",
     "start_time": "2020-07-06T15:34:55.321640Z"
    }
   },
   "outputs": [],
   "source": [
    "# X = df[df.Stock.isin(['CULL', 'BROOD'])]"
   ]
  },
  {
   "cell_type": "code",
   "execution_count": 360,
   "metadata": {
    "ExecuteTime": {
     "end_time": "2020-07-06T15:34:57.537564Z",
     "start_time": "2020-07-06T15:34:57.533380Z"
    },
    "scrolled": true
   },
   "outputs": [],
   "source": [
    "# X"
   ]
  },
  {
   "cell_type": "code",
   "execution_count": 361,
   "metadata": {
    "ExecuteTime": {
     "end_time": "2020-07-06T15:34:59.590040Z",
     "start_time": "2020-07-06T15:34:59.585966Z"
    }
   },
   "outputs": [],
   "source": [
    "# X.Strain.unique() # All same strain"
   ]
  },
  {
   "cell_type": "code",
   "execution_count": 362,
   "metadata": {
    "ExecuteTime": {
     "end_time": "2020-07-06T15:35:01.494614Z",
     "start_time": "2020-07-06T15:35:01.492993Z"
    }
   },
   "outputs": [],
   "source": [
    "# X = X.drop(['ID', 'Class', 'Strain', 'Fork Length (cm)', 'Weight (kg)'], axis=1)"
   ]
  },
  {
   "cell_type": "code",
   "execution_count": 363,
   "metadata": {
    "ExecuteTime": {
     "end_time": "2020-07-06T15:35:03.389282Z",
     "start_time": "2020-07-06T15:35:03.385353Z"
    }
   },
   "outputs": [],
   "source": [
    "# X.isna().sum().sort_values(ascending=False).head() # No NaN left"
   ]
  },
  {
   "cell_type": "code",
   "execution_count": 4,
   "metadata": {
    "ExecuteTime": {
     "end_time": "2020-07-17T12:44:19.362620Z",
     "start_time": "2020-07-17T12:44:19.307357Z"
    }
   },
   "outputs": [],
   "source": [
    "X = get_X()"
   ]
  },
  {
   "cell_type": "code",
   "execution_count": 5,
   "metadata": {
    "ExecuteTime": {
     "end_time": "2020-07-17T12:44:20.510222Z",
     "start_time": "2020-07-17T12:44:20.435530Z"
    }
   },
   "outputs": [
    {
     "data": {
      "text/html": [
       "<div>\n",
       "<style scoped>\n",
       "    .dataframe tbody tr th:only-of-type {\n",
       "        vertical-align: middle;\n",
       "    }\n",
       "\n",
       "    .dataframe tbody tr th {\n",
       "        vertical-align: top;\n",
       "    }\n",
       "\n",
       "    .dataframe thead th {\n",
       "        text-align: right;\n",
       "    }\n",
       "</style>\n",
       "<table border=\"1\" class=\"dataframe\">\n",
       "  <thead>\n",
       "    <tr style=\"text-align: right;\">\n",
       "      <th></th>\n",
       "      <th>Stock</th>\n",
       "      <th>Breeding Value</th>\n",
       "      <th>B7_4994</th>\n",
       "      <th>B7_4875</th>\n",
       "      <th>B7_4525</th>\n",
       "      <th>B7_3616</th>\n",
       "      <th>B7_3503</th>\n",
       "      <th>B7_3393</th>\n",
       "      <th>B7_1522</th>\n",
       "      <th>B7_1093</th>\n",
       "      <th>...</th>\n",
       "      <th>B0_9047</th>\n",
       "      <th>B0_8992</th>\n",
       "      <th>B0_8938</th>\n",
       "      <th>B0_8825</th>\n",
       "      <th>B0_8759</th>\n",
       "      <th>B0_8651</th>\n",
       "      <th>B0_8562</th>\n",
       "      <th>B0_8515</th>\n",
       "      <th>B0_1677</th>\n",
       "      <th>B0_1468</th>\n",
       "    </tr>\n",
       "  </thead>\n",
       "  <tbody>\n",
       "    <tr>\n",
       "      <th>0</th>\n",
       "      <td>CULL</td>\n",
       "      <td>397.0</td>\n",
       "      <td>131305.45310</td>\n",
       "      <td>144981.26560</td>\n",
       "      <td>142388.828100</td>\n",
       "      <td>96999.42188</td>\n",
       "      <td>156190.81250</td>\n",
       "      <td>95217.79688</td>\n",
       "      <td>29787.84375</td>\n",
       "      <td>112778.85940</td>\n",
       "      <td>...</td>\n",
       "      <td>110548.06250</td>\n",
       "      <td>122697.26560</td>\n",
       "      <td>139708.01560</td>\n",
       "      <td>103893.06250</td>\n",
       "      <td>246991.5469</td>\n",
       "      <td>215101.6875</td>\n",
       "      <td>65581.21875</td>\n",
       "      <td>26646.21875</td>\n",
       "      <td>86967.81250</td>\n",
       "      <td>20274.750000</td>\n",
       "    </tr>\n",
       "    <tr>\n",
       "      <th>1</th>\n",
       "      <td>CULL</td>\n",
       "      <td>-91.0</td>\n",
       "      <td>183441.31250</td>\n",
       "      <td>209126.93750</td>\n",
       "      <td>201864.062500</td>\n",
       "      <td>127183.81250</td>\n",
       "      <td>206881.21880</td>\n",
       "      <td>117774.50000</td>\n",
       "      <td>18977.25000</td>\n",
       "      <td>165255.56250</td>\n",
       "      <td>...</td>\n",
       "      <td>110431.21880</td>\n",
       "      <td>121501.68750</td>\n",
       "      <td>125174.62500</td>\n",
       "      <td>89302.81250</td>\n",
       "      <td>214140.1250</td>\n",
       "      <td>212868.2813</td>\n",
       "      <td>65850.68750</td>\n",
       "      <td>27119.37500</td>\n",
       "      <td>71080.46875</td>\n",
       "      <td>35608.625000</td>\n",
       "    </tr>\n",
       "    <tr>\n",
       "      <th>2</th>\n",
       "      <td>CULL</td>\n",
       "      <td>344.0</td>\n",
       "      <td>206015.93750</td>\n",
       "      <td>255455.95310</td>\n",
       "      <td>262075.812500</td>\n",
       "      <td>139335.82810</td>\n",
       "      <td>237417.71880</td>\n",
       "      <td>151135.73440</td>\n",
       "      <td>15748.59375</td>\n",
       "      <td>205730.31250</td>\n",
       "      <td>...</td>\n",
       "      <td>256810.57810</td>\n",
       "      <td>265815.42190</td>\n",
       "      <td>260946.79690</td>\n",
       "      <td>178281.76560</td>\n",
       "      <td>414871.1250</td>\n",
       "      <td>377639.4219</td>\n",
       "      <td>109138.48440</td>\n",
       "      <td>54492.51563</td>\n",
       "      <td>81977.62500</td>\n",
       "      <td>18493.968750</td>\n",
       "    </tr>\n",
       "    <tr>\n",
       "      <th>3</th>\n",
       "      <td>CULL</td>\n",
       "      <td>132.0</td>\n",
       "      <td>7692.09375</td>\n",
       "      <td>24164.28125</td>\n",
       "      <td>8611.937500</td>\n",
       "      <td>17506.75000</td>\n",
       "      <td>5935.12500</td>\n",
       "      <td>32927.78125</td>\n",
       "      <td>15251.34375</td>\n",
       "      <td>-13094.31250</td>\n",
       "      <td>...</td>\n",
       "      <td>71889.03125</td>\n",
       "      <td>69318.43750</td>\n",
       "      <td>86390.09375</td>\n",
       "      <td>53759.62500</td>\n",
       "      <td>138607.2500</td>\n",
       "      <td>153938.9063</td>\n",
       "      <td>46037.78125</td>\n",
       "      <td>9949.40625</td>\n",
       "      <td>69577.68750</td>\n",
       "      <td>30906.343750</td>\n",
       "    </tr>\n",
       "    <tr>\n",
       "      <th>4</th>\n",
       "      <td>CULL</td>\n",
       "      <td>81.0</td>\n",
       "      <td>123934.34380</td>\n",
       "      <td>135644.43750</td>\n",
       "      <td>130603.562500</td>\n",
       "      <td>66523.73438</td>\n",
       "      <td>131626.43750</td>\n",
       "      <td>76109.89063</td>\n",
       "      <td>31055.37500</td>\n",
       "      <td>101598.00000</td>\n",
       "      <td>...</td>\n",
       "      <td>135593.29690</td>\n",
       "      <td>144686.14060</td>\n",
       "      <td>149021.18750</td>\n",
       "      <td>102828.29690</td>\n",
       "      <td>245571.5469</td>\n",
       "      <td>234731.1563</td>\n",
       "      <td>61604.43750</td>\n",
       "      <td>27374.95313</td>\n",
       "      <td>74492.90625</td>\n",
       "      <td>26447.078130</td>\n",
       "    </tr>\n",
       "    <tr>\n",
       "      <th>5</th>\n",
       "      <td>CULL</td>\n",
       "      <td>429.0</td>\n",
       "      <td>290384.06250</td>\n",
       "      <td>347091.12500</td>\n",
       "      <td>355762.500000</td>\n",
       "      <td>194267.06250</td>\n",
       "      <td>329096.09380</td>\n",
       "      <td>206285.46880</td>\n",
       "      <td>29214.34375</td>\n",
       "      <td>280182.37500</td>\n",
       "      <td>...</td>\n",
       "      <td>127781.37500</td>\n",
       "      <td>147525.96880</td>\n",
       "      <td>165985.71880</td>\n",
       "      <td>131556.46880</td>\n",
       "      <td>293351.7813</td>\n",
       "      <td>269546.5625</td>\n",
       "      <td>78873.81250</td>\n",
       "      <td>36208.21875</td>\n",
       "      <td>107334.84380</td>\n",
       "      <td>27606.531250</td>\n",
       "    </tr>\n",
       "    <tr>\n",
       "      <th>6</th>\n",
       "      <td>CULL</td>\n",
       "      <td>-286.0</td>\n",
       "      <td>261019.51560</td>\n",
       "      <td>329700.28130</td>\n",
       "      <td>299399.375000</td>\n",
       "      <td>181392.60940</td>\n",
       "      <td>294012.71880</td>\n",
       "      <td>183316.59380</td>\n",
       "      <td>22588.98438</td>\n",
       "      <td>239955.81250</td>\n",
       "      <td>...</td>\n",
       "      <td>193689.48440</td>\n",
       "      <td>199850.82810</td>\n",
       "      <td>206418.28130</td>\n",
       "      <td>149919.35940</td>\n",
       "      <td>390524.2813</td>\n",
       "      <td>399034.0781</td>\n",
       "      <td>122480.87500</td>\n",
       "      <td>59434.90625</td>\n",
       "      <td>107830.29690</td>\n",
       "      <td>43734.062500</td>\n",
       "    </tr>\n",
       "    <tr>\n",
       "      <th>7</th>\n",
       "      <td>CULL</td>\n",
       "      <td>195.0</td>\n",
       "      <td>328016.31250</td>\n",
       "      <td>396385.40630</td>\n",
       "      <td>382876.718800</td>\n",
       "      <td>222742.93750</td>\n",
       "      <td>412153.03130</td>\n",
       "      <td>212401.68750</td>\n",
       "      <td>31094.68750</td>\n",
       "      <td>317184.06250</td>\n",
       "      <td>...</td>\n",
       "      <td>89041.59375</td>\n",
       "      <td>93681.90625</td>\n",
       "      <td>96268.50000</td>\n",
       "      <td>76213.40625</td>\n",
       "      <td>182045.8750</td>\n",
       "      <td>156460.0313</td>\n",
       "      <td>51217.96875</td>\n",
       "      <td>20244.75000</td>\n",
       "      <td>70463.96875</td>\n",
       "      <td>26667.031250</td>\n",
       "    </tr>\n",
       "    <tr>\n",
       "      <th>8</th>\n",
       "      <td>CULL</td>\n",
       "      <td>351.0</td>\n",
       "      <td>236282.50000</td>\n",
       "      <td>296350.21880</td>\n",
       "      <td>256868.796900</td>\n",
       "      <td>164860.62500</td>\n",
       "      <td>269298.64060</td>\n",
       "      <td>155648.15630</td>\n",
       "      <td>31185.42188</td>\n",
       "      <td>203687.71880</td>\n",
       "      <td>...</td>\n",
       "      <td>133576.56250</td>\n",
       "      <td>152403.65630</td>\n",
       "      <td>173485.48440</td>\n",
       "      <td>116418.89060</td>\n",
       "      <td>287908.5313</td>\n",
       "      <td>288285.5781</td>\n",
       "      <td>81752.18750</td>\n",
       "      <td>38785.71875</td>\n",
       "      <td>115929.03130</td>\n",
       "      <td>14783.312500</td>\n",
       "    </tr>\n",
       "    <tr>\n",
       "      <th>9</th>\n",
       "      <td>CULL</td>\n",
       "      <td>138.0</td>\n",
       "      <td>265450.21880</td>\n",
       "      <td>301020.81250</td>\n",
       "      <td>308198.343800</td>\n",
       "      <td>174483.40630</td>\n",
       "      <td>292474.81250</td>\n",
       "      <td>172620.93750</td>\n",
       "      <td>19889.06250</td>\n",
       "      <td>250961.56250</td>\n",
       "      <td>...</td>\n",
       "      <td>152058.15630</td>\n",
       "      <td>161631.31250</td>\n",
       "      <td>173007.00000</td>\n",
       "      <td>111558.46880</td>\n",
       "      <td>290437.6563</td>\n",
       "      <td>301213.2813</td>\n",
       "      <td>79094.25000</td>\n",
       "      <td>33810.00000</td>\n",
       "      <td>99867.28125</td>\n",
       "      <td>32941.968750</td>\n",
       "    </tr>\n",
       "    <tr>\n",
       "      <th>10</th>\n",
       "      <td>CULL</td>\n",
       "      <td>482.0</td>\n",
       "      <td>501216.15630</td>\n",
       "      <td>591749.12500</td>\n",
       "      <td>601041.812500</td>\n",
       "      <td>343506.25000</td>\n",
       "      <td>584026.12500</td>\n",
       "      <td>325304.18750</td>\n",
       "      <td>30251.43750</td>\n",
       "      <td>489036.65630</td>\n",
       "      <td>...</td>\n",
       "      <td>219257.68750</td>\n",
       "      <td>232757.12500</td>\n",
       "      <td>236917.53130</td>\n",
       "      <td>147016.56250</td>\n",
       "      <td>361014.3750</td>\n",
       "      <td>321348.0313</td>\n",
       "      <td>81879.37500</td>\n",
       "      <td>34678.34375</td>\n",
       "      <td>109652.62500</td>\n",
       "      <td>32192.968750</td>\n",
       "    </tr>\n",
       "    <tr>\n",
       "      <th>11</th>\n",
       "      <td>CULL</td>\n",
       "      <td>230.0</td>\n",
       "      <td>105375.57810</td>\n",
       "      <td>116387.76560</td>\n",
       "      <td>108543.609400</td>\n",
       "      <td>79288.54688</td>\n",
       "      <td>114885.87500</td>\n",
       "      <td>71632.93750</td>\n",
       "      <td>35565.46875</td>\n",
       "      <td>78475.29688</td>\n",
       "      <td>...</td>\n",
       "      <td>133889.37500</td>\n",
       "      <td>143623.73440</td>\n",
       "      <td>159186.53130</td>\n",
       "      <td>112457.84380</td>\n",
       "      <td>278265.5938</td>\n",
       "      <td>260079.8906</td>\n",
       "      <td>67969.82813</td>\n",
       "      <td>35516.81250</td>\n",
       "      <td>89875.26563</td>\n",
       "      <td>21905.703130</td>\n",
       "    </tr>\n",
       "    <tr>\n",
       "      <th>12</th>\n",
       "      <td>CULL</td>\n",
       "      <td>-115.0</td>\n",
       "      <td>281270.84380</td>\n",
       "      <td>300272.89060</td>\n",
       "      <td>323220.625000</td>\n",
       "      <td>211412.29690</td>\n",
       "      <td>278851.85940</td>\n",
       "      <td>179669.96880</td>\n",
       "      <td>73648.20313</td>\n",
       "      <td>262746.71880</td>\n",
       "      <td>...</td>\n",
       "      <td>171396.75000</td>\n",
       "      <td>170620.75000</td>\n",
       "      <td>178276.15630</td>\n",
       "      <td>120322.46880</td>\n",
       "      <td>295098.0938</td>\n",
       "      <td>303566.8594</td>\n",
       "      <td>114722.48440</td>\n",
       "      <td>63450.68750</td>\n",
       "      <td>347774.17190</td>\n",
       "      <td>394114.609400</td>\n",
       "    </tr>\n",
       "    <tr>\n",
       "      <th>13</th>\n",
       "      <td>CULL</td>\n",
       "      <td>138.0</td>\n",
       "      <td>170912.03130</td>\n",
       "      <td>195483.87500</td>\n",
       "      <td>167396.062500</td>\n",
       "      <td>139278.21880</td>\n",
       "      <td>175361.46880</td>\n",
       "      <td>142242.34380</td>\n",
       "      <td>77612.96875</td>\n",
       "      <td>149724.59380</td>\n",
       "      <td>...</td>\n",
       "      <td>184406.12500</td>\n",
       "      <td>200589.12500</td>\n",
       "      <td>210880.53130</td>\n",
       "      <td>151413.18750</td>\n",
       "      <td>355963.4688</td>\n",
       "      <td>370942.6563</td>\n",
       "      <td>125033.68750</td>\n",
       "      <td>69345.18750</td>\n",
       "      <td>334366.25000</td>\n",
       "      <td>388817.937500</td>\n",
       "    </tr>\n",
       "    <tr>\n",
       "      <th>14</th>\n",
       "      <td>CULL</td>\n",
       "      <td>-169.0</td>\n",
       "      <td>284421.40630</td>\n",
       "      <td>362978.25000</td>\n",
       "      <td>372639.281300</td>\n",
       "      <td>203330.87500</td>\n",
       "      <td>372810.09380</td>\n",
       "      <td>205977.50000</td>\n",
       "      <td>42643.53125</td>\n",
       "      <td>274451.53130</td>\n",
       "      <td>...</td>\n",
       "      <td>148783.43750</td>\n",
       "      <td>166385.93750</td>\n",
       "      <td>169475.18750</td>\n",
       "      <td>122874.84380</td>\n",
       "      <td>312160.9063</td>\n",
       "      <td>287080.5313</td>\n",
       "      <td>75964.25000</td>\n",
       "      <td>39425.65625</td>\n",
       "      <td>72707.68750</td>\n",
       "      <td>28696.375000</td>\n",
       "    </tr>\n",
       "    <tr>\n",
       "      <th>15</th>\n",
       "      <td>CULL</td>\n",
       "      <td>-91.0</td>\n",
       "      <td>151167.32810</td>\n",
       "      <td>184971.64060</td>\n",
       "      <td>154667.218800</td>\n",
       "      <td>106638.70310</td>\n",
       "      <td>179102.04690</td>\n",
       "      <td>122665.50000</td>\n",
       "      <td>38206.40625</td>\n",
       "      <td>125388.70310</td>\n",
       "      <td>...</td>\n",
       "      <td>179281.09380</td>\n",
       "      <td>178091.40630</td>\n",
       "      <td>190132.23440</td>\n",
       "      <td>148950.84380</td>\n",
       "      <td>355155.5000</td>\n",
       "      <td>315778.7500</td>\n",
       "      <td>96631.57813</td>\n",
       "      <td>41894.98438</td>\n",
       "      <td>109032.93750</td>\n",
       "      <td>20231.984380</td>\n",
       "    </tr>\n",
       "    <tr>\n",
       "      <th>16</th>\n",
       "      <td>CULL</td>\n",
       "      <td>397.0</td>\n",
       "      <td>209597.10940</td>\n",
       "      <td>259878.46880</td>\n",
       "      <td>263331.765600</td>\n",
       "      <td>163880.34380</td>\n",
       "      <td>268645.62500</td>\n",
       "      <td>172776.35940</td>\n",
       "      <td>39081.82813</td>\n",
       "      <td>223283.06250</td>\n",
       "      <td>...</td>\n",
       "      <td>157629.67190</td>\n",
       "      <td>159300.31250</td>\n",
       "      <td>163396.90630</td>\n",
       "      <td>117903.06250</td>\n",
       "      <td>289134.3438</td>\n",
       "      <td>268994.3906</td>\n",
       "      <td>83605.70313</td>\n",
       "      <td>37351.37500</td>\n",
       "      <td>57819.21875</td>\n",
       "      <td>32089.921880</td>\n",
       "    </tr>\n",
       "    <tr>\n",
       "      <th>17</th>\n",
       "      <td>CULL</td>\n",
       "      <td>422.0</td>\n",
       "      <td>336051.81250</td>\n",
       "      <td>384270.43750</td>\n",
       "      <td>432134.953100</td>\n",
       "      <td>280201.29690</td>\n",
       "      <td>395511.89060</td>\n",
       "      <td>248144.64060</td>\n",
       "      <td>87454.79688</td>\n",
       "      <td>349783.73440</td>\n",
       "      <td>...</td>\n",
       "      <td>209317.18750</td>\n",
       "      <td>229531.26560</td>\n",
       "      <td>233053.87500</td>\n",
       "      <td>165965.18750</td>\n",
       "      <td>405428.0469</td>\n",
       "      <td>395867.7344</td>\n",
       "      <td>130438.03130</td>\n",
       "      <td>68444.75000</td>\n",
       "      <td>318145.25000</td>\n",
       "      <td>378151.859400</td>\n",
       "    </tr>\n",
       "    <tr>\n",
       "      <th>18</th>\n",
       "      <td>CULL</td>\n",
       "      <td>-109.0</td>\n",
       "      <td>51234.14063</td>\n",
       "      <td>79461.81250</td>\n",
       "      <td>38407.875000</td>\n",
       "      <td>38051.59375</td>\n",
       "      <td>68147.56250</td>\n",
       "      <td>47963.26563</td>\n",
       "      <td>13680.92188</td>\n",
       "      <td>36241.56250</td>\n",
       "      <td>...</td>\n",
       "      <td>77012.32813</td>\n",
       "      <td>85931.95313</td>\n",
       "      <td>103453.57810</td>\n",
       "      <td>82436.89063</td>\n",
       "      <td>188994.8906</td>\n",
       "      <td>181215.1875</td>\n",
       "      <td>43135.85938</td>\n",
       "      <td>16553.98438</td>\n",
       "      <td>77904.31250</td>\n",
       "      <td>27385.562500</td>\n",
       "    </tr>\n",
       "    <tr>\n",
       "      <th>19</th>\n",
       "      <td>CULL</td>\n",
       "      <td>-286.0</td>\n",
       "      <td>110712.54690</td>\n",
       "      <td>134107.67190</td>\n",
       "      <td>120949.125000</td>\n",
       "      <td>74768.35938</td>\n",
       "      <td>94077.73438</td>\n",
       "      <td>75601.93750</td>\n",
       "      <td>32784.46875</td>\n",
       "      <td>87815.98438</td>\n",
       "      <td>...</td>\n",
       "      <td>145898.71880</td>\n",
       "      <td>155469.87500</td>\n",
       "      <td>151185.90630</td>\n",
       "      <td>112779.28130</td>\n",
       "      <td>264416.1250</td>\n",
       "      <td>224564.7031</td>\n",
       "      <td>62093.68750</td>\n",
       "      <td>36011.50000</td>\n",
       "      <td>89994.39063</td>\n",
       "      <td>22859.250000</td>\n",
       "    </tr>\n",
       "    <tr>\n",
       "      <th>20</th>\n",
       "      <td>CULL</td>\n",
       "      <td>-109.0</td>\n",
       "      <td>91671.28125</td>\n",
       "      <td>127960.75000</td>\n",
       "      <td>81247.437500</td>\n",
       "      <td>59065.17188</td>\n",
       "      <td>96478.95313</td>\n",
       "      <td>51723.75000</td>\n",
       "      <td>28166.79688</td>\n",
       "      <td>80409.09375</td>\n",
       "      <td>...</td>\n",
       "      <td>145993.20310</td>\n",
       "      <td>160882.98440</td>\n",
       "      <td>169095.84380</td>\n",
       "      <td>118938.42190</td>\n",
       "      <td>297322.5781</td>\n",
       "      <td>286714.8750</td>\n",
       "      <td>76176.12500</td>\n",
       "      <td>41073.46875</td>\n",
       "      <td>74487.42188</td>\n",
       "      <td>28019.484380</td>\n",
       "    </tr>\n",
       "    <tr>\n",
       "      <th>21</th>\n",
       "      <td>CULL</td>\n",
       "      <td>482.0</td>\n",
       "      <td>255563.93750</td>\n",
       "      <td>301770.03130</td>\n",
       "      <td>288368.593800</td>\n",
       "      <td>146992.28130</td>\n",
       "      <td>257439.40630</td>\n",
       "      <td>140526.65630</td>\n",
       "      <td>32405.90625</td>\n",
       "      <td>209547.90630</td>\n",
       "      <td>...</td>\n",
       "      <td>127721.03130</td>\n",
       "      <td>148345.50000</td>\n",
       "      <td>160251.75000</td>\n",
       "      <td>113508.43750</td>\n",
       "      <td>256166.5313</td>\n",
       "      <td>226501.1563</td>\n",
       "      <td>65136.00000</td>\n",
       "      <td>30361.75000</td>\n",
       "      <td>72538.96875</td>\n",
       "      <td>26922.187500</td>\n",
       "    </tr>\n",
       "    <tr>\n",
       "      <th>23</th>\n",
       "      <td>CULL</td>\n",
       "      <td>-91.0</td>\n",
       "      <td>192060.40630</td>\n",
       "      <td>243428.06250</td>\n",
       "      <td>217467.843800</td>\n",
       "      <td>129902.56250</td>\n",
       "      <td>204376.56250</td>\n",
       "      <td>107464.12500</td>\n",
       "      <td>38497.40625</td>\n",
       "      <td>170535.59380</td>\n",
       "      <td>...</td>\n",
       "      <td>106493.90630</td>\n",
       "      <td>107667.50000</td>\n",
       "      <td>125612.00000</td>\n",
       "      <td>90358.59375</td>\n",
       "      <td>229291.8750</td>\n",
       "      <td>203667.0625</td>\n",
       "      <td>55479.78125</td>\n",
       "      <td>33741.75000</td>\n",
       "      <td>86522.56250</td>\n",
       "      <td>24600.281250</td>\n",
       "    </tr>\n",
       "    <tr>\n",
       "      <th>24</th>\n",
       "      <td>CULL</td>\n",
       "      <td>351.0</td>\n",
       "      <td>23339.93750</td>\n",
       "      <td>40453.59375</td>\n",
       "      <td>13684.062500</td>\n",
       "      <td>12105.31250</td>\n",
       "      <td>20708.31250</td>\n",
       "      <td>16849.18750</td>\n",
       "      <td>19697.34375</td>\n",
       "      <td>-731.28125</td>\n",
       "      <td>...</td>\n",
       "      <td>163393.68750</td>\n",
       "      <td>180126.68750</td>\n",
       "      <td>178946.31250</td>\n",
       "      <td>113447.87500</td>\n",
       "      <td>258663.3750</td>\n",
       "      <td>233808.2500</td>\n",
       "      <td>71459.81250</td>\n",
       "      <td>36745.18750</td>\n",
       "      <td>114582.34380</td>\n",
       "      <td>76429.531250</td>\n",
       "    </tr>\n",
       "    <tr>\n",
       "      <th>25</th>\n",
       "      <td>BROOD</td>\n",
       "      <td>488.0</td>\n",
       "      <td>98127.32813</td>\n",
       "      <td>130935.51560</td>\n",
       "      <td>81061.250000</td>\n",
       "      <td>44027.14063</td>\n",
       "      <td>95323.71875</td>\n",
       "      <td>69051.98438</td>\n",
       "      <td>36339.04688</td>\n",
       "      <td>56314.31250</td>\n",
       "      <td>...</td>\n",
       "      <td>213998.39060</td>\n",
       "      <td>277683.59380</td>\n",
       "      <td>316797.06250</td>\n",
       "      <td>262929.03130</td>\n",
       "      <td>718884.3750</td>\n",
       "      <td>710982.0781</td>\n",
       "      <td>205634.01560</td>\n",
       "      <td>121978.84380</td>\n",
       "      <td>149880.14060</td>\n",
       "      <td>34953.500000</td>\n",
       "    </tr>\n",
       "    <tr>\n",
       "      <th>28</th>\n",
       "      <td>BROOD</td>\n",
       "      <td>490.0</td>\n",
       "      <td>61204.09375</td>\n",
       "      <td>110768.75000</td>\n",
       "      <td>54980.625000</td>\n",
       "      <td>44154.56250</td>\n",
       "      <td>54258.43750</td>\n",
       "      <td>68761.65625</td>\n",
       "      <td>23014.15625</td>\n",
       "      <td>29773.37500</td>\n",
       "      <td>...</td>\n",
       "      <td>190774.46880</td>\n",
       "      <td>199761.56250</td>\n",
       "      <td>210702.59380</td>\n",
       "      <td>147826.71880</td>\n",
       "      <td>353543.0625</td>\n",
       "      <td>328219.5000</td>\n",
       "      <td>88299.12500</td>\n",
       "      <td>41155.56250</td>\n",
       "      <td>100542.09380</td>\n",
       "      <td>17583.468750</td>\n",
       "    </tr>\n",
       "    <tr>\n",
       "      <th>32</th>\n",
       "      <td>BROOD</td>\n",
       "      <td>490.0</td>\n",
       "      <td>76369.56250</td>\n",
       "      <td>111363.07810</td>\n",
       "      <td>73161.328130</td>\n",
       "      <td>61228.90625</td>\n",
       "      <td>78672.95313</td>\n",
       "      <td>55921.54688</td>\n",
       "      <td>22776.01563</td>\n",
       "      <td>61454.21875</td>\n",
       "      <td>...</td>\n",
       "      <td>193702.87500</td>\n",
       "      <td>199756.32810</td>\n",
       "      <td>204125.25000</td>\n",
       "      <td>140340.32810</td>\n",
       "      <td>338930.6094</td>\n",
       "      <td>322209.5469</td>\n",
       "      <td>85860.01563</td>\n",
       "      <td>42496.18750</td>\n",
       "      <td>76274.04688</td>\n",
       "      <td>18113.406250</td>\n",
       "    </tr>\n",
       "    <tr>\n",
       "      <th>34</th>\n",
       "      <td>BROOD</td>\n",
       "      <td>759.0</td>\n",
       "      <td>44654.51563</td>\n",
       "      <td>71546.50000</td>\n",
       "      <td>10838.765630</td>\n",
       "      <td>31080.09375</td>\n",
       "      <td>39216.81250</td>\n",
       "      <td>46640.48438</td>\n",
       "      <td>29252.78125</td>\n",
       "      <td>13393.17188</td>\n",
       "      <td>...</td>\n",
       "      <td>113149.23440</td>\n",
       "      <td>122553.14060</td>\n",
       "      <td>126561.15630</td>\n",
       "      <td>97557.40625</td>\n",
       "      <td>234305.3594</td>\n",
       "      <td>202574.8750</td>\n",
       "      <td>60980.03125</td>\n",
       "      <td>32565.01563</td>\n",
       "      <td>90465.17188</td>\n",
       "      <td>43497.859380</td>\n",
       "    </tr>\n",
       "    <tr>\n",
       "      <th>36</th>\n",
       "      <td>BROOD</td>\n",
       "      <td>515.0</td>\n",
       "      <td>107073.76560</td>\n",
       "      <td>123572.12500</td>\n",
       "      <td>150628.562500</td>\n",
       "      <td>82517.06250</td>\n",
       "      <td>144085.57810</td>\n",
       "      <td>76929.32813</td>\n",
       "      <td>28436.28125</td>\n",
       "      <td>91539.70313</td>\n",
       "      <td>...</td>\n",
       "      <td>120610.04690</td>\n",
       "      <td>127924.84380</td>\n",
       "      <td>134227.50000</td>\n",
       "      <td>112919.65630</td>\n",
       "      <td>295518.0625</td>\n",
       "      <td>254890.8594</td>\n",
       "      <td>70104.26563</td>\n",
       "      <td>22887.00000</td>\n",
       "      <td>206845.40630</td>\n",
       "      <td>27946.218750</td>\n",
       "    </tr>\n",
       "    <tr>\n",
       "      <th>37</th>\n",
       "      <td>BROOD</td>\n",
       "      <td>662.0</td>\n",
       "      <td>54170.14063</td>\n",
       "      <td>91418.31250</td>\n",
       "      <td>46458.531250</td>\n",
       "      <td>45236.73438</td>\n",
       "      <td>71321.90625</td>\n",
       "      <td>52326.75000</td>\n",
       "      <td>20292.03125</td>\n",
       "      <td>28041.07813</td>\n",
       "      <td>...</td>\n",
       "      <td>184387.60940</td>\n",
       "      <td>202259.00000</td>\n",
       "      <td>209691.92190</td>\n",
       "      <td>156805.45310</td>\n",
       "      <td>361657.5156</td>\n",
       "      <td>317481.5469</td>\n",
       "      <td>94405.81250</td>\n",
       "      <td>41919.70313</td>\n",
       "      <td>108109.09380</td>\n",
       "      <td>25022.296880</td>\n",
       "    </tr>\n",
       "    <tr>\n",
       "      <th>...</th>\n",
       "      <td>...</td>\n",
       "      <td>...</td>\n",
       "      <td>...</td>\n",
       "      <td>...</td>\n",
       "      <td>...</td>\n",
       "      <td>...</td>\n",
       "      <td>...</td>\n",
       "      <td>...</td>\n",
       "      <td>...</td>\n",
       "      <td>...</td>\n",
       "      <td>...</td>\n",
       "      <td>...</td>\n",
       "      <td>...</td>\n",
       "      <td>...</td>\n",
       "      <td>...</td>\n",
       "      <td>...</td>\n",
       "      <td>...</td>\n",
       "      <td>...</td>\n",
       "      <td>...</td>\n",
       "      <td>...</td>\n",
       "      <td>...</td>\n",
       "    </tr>\n",
       "    <tr>\n",
       "      <th>64</th>\n",
       "      <td>CULL</td>\n",
       "      <td>429.0</td>\n",
       "      <td>374961.56250</td>\n",
       "      <td>471137.04690</td>\n",
       "      <td>508911.625000</td>\n",
       "      <td>260769.09380</td>\n",
       "      <td>464968.00000</td>\n",
       "      <td>291105.15630</td>\n",
       "      <td>42740.92188</td>\n",
       "      <td>385372.75000</td>\n",
       "      <td>...</td>\n",
       "      <td>159028.71880</td>\n",
       "      <td>170467.43750</td>\n",
       "      <td>173344.65630</td>\n",
       "      <td>123631.12500</td>\n",
       "      <td>314574.2969</td>\n",
       "      <td>304886.2344</td>\n",
       "      <td>95651.35938</td>\n",
       "      <td>46776.60938</td>\n",
       "      <td>83604.98438</td>\n",
       "      <td>3470.468750</td>\n",
       "    </tr>\n",
       "    <tr>\n",
       "      <th>65</th>\n",
       "      <td>CULL</td>\n",
       "      <td>403.0</td>\n",
       "      <td>120517.64060</td>\n",
       "      <td>146076.54690</td>\n",
       "      <td>109902.171900</td>\n",
       "      <td>94304.45313</td>\n",
       "      <td>130986.15630</td>\n",
       "      <td>82093.98438</td>\n",
       "      <td>33495.76563</td>\n",
       "      <td>81847.96875</td>\n",
       "      <td>...</td>\n",
       "      <td>142973.20310</td>\n",
       "      <td>145907.95310</td>\n",
       "      <td>169219.15630</td>\n",
       "      <td>118460.20310</td>\n",
       "      <td>278479.7969</td>\n",
       "      <td>267123.1563</td>\n",
       "      <td>68269.04688</td>\n",
       "      <td>34302.21875</td>\n",
       "      <td>72491.20313</td>\n",
       "      <td>9332.515625</td>\n",
       "    </tr>\n",
       "    <tr>\n",
       "      <th>66</th>\n",
       "      <td>CULL</td>\n",
       "      <td>166.0</td>\n",
       "      <td>138181.73440</td>\n",
       "      <td>157403.32810</td>\n",
       "      <td>96156.468750</td>\n",
       "      <td>76965.56250</td>\n",
       "      <td>131218.03130</td>\n",
       "      <td>84305.90625</td>\n",
       "      <td>31378.03125</td>\n",
       "      <td>74776.84375</td>\n",
       "      <td>...</td>\n",
       "      <td>135112.64060</td>\n",
       "      <td>135299.65630</td>\n",
       "      <td>141423.51560</td>\n",
       "      <td>85672.37500</td>\n",
       "      <td>236809.3750</td>\n",
       "      <td>213586.2031</td>\n",
       "      <td>61158.67188</td>\n",
       "      <td>20686.67188</td>\n",
       "      <td>81572.04688</td>\n",
       "      <td>9189.140625</td>\n",
       "    </tr>\n",
       "    <tr>\n",
       "      <th>67</th>\n",
       "      <td>CULL</td>\n",
       "      <td>89.0</td>\n",
       "      <td>145094.18750</td>\n",
       "      <td>167412.68750</td>\n",
       "      <td>138174.781300</td>\n",
       "      <td>109249.31250</td>\n",
       "      <td>149527.06250</td>\n",
       "      <td>104766.78130</td>\n",
       "      <td>39986.06250</td>\n",
       "      <td>100387.93750</td>\n",
       "      <td>...</td>\n",
       "      <td>196367.40630</td>\n",
       "      <td>199618.31250</td>\n",
       "      <td>218865.15630</td>\n",
       "      <td>161594.59380</td>\n",
       "      <td>387186.0938</td>\n",
       "      <td>342662.5625</td>\n",
       "      <td>95842.18750</td>\n",
       "      <td>49246.75000</td>\n",
       "      <td>102365.62500</td>\n",
       "      <td>14888.312500</td>\n",
       "    </tr>\n",
       "    <tr>\n",
       "      <th>68</th>\n",
       "      <td>CULL</td>\n",
       "      <td>457.0</td>\n",
       "      <td>196480.46880</td>\n",
       "      <td>208446.00000</td>\n",
       "      <td>213652.406300</td>\n",
       "      <td>140707.04690</td>\n",
       "      <td>198564.23440</td>\n",
       "      <td>151493.21880</td>\n",
       "      <td>98038.45313</td>\n",
       "      <td>213277.78130</td>\n",
       "      <td>...</td>\n",
       "      <td>304255.26560</td>\n",
       "      <td>323227.09380</td>\n",
       "      <td>323653.18750</td>\n",
       "      <td>224666.78130</td>\n",
       "      <td>528530.0625</td>\n",
       "      <td>492176.3281</td>\n",
       "      <td>144828.75000</td>\n",
       "      <td>89644.70313</td>\n",
       "      <td>405417.21880</td>\n",
       "      <td>417262.828100</td>\n",
       "    </tr>\n",
       "    <tr>\n",
       "      <th>69</th>\n",
       "      <td>CULL</td>\n",
       "      <td>351.0</td>\n",
       "      <td>266171.35940</td>\n",
       "      <td>355397.98440</td>\n",
       "      <td>325047.015600</td>\n",
       "      <td>196744.70310</td>\n",
       "      <td>317496.53130</td>\n",
       "      <td>173685.62500</td>\n",
       "      <td>17230.70313</td>\n",
       "      <td>264009.15630</td>\n",
       "      <td>...</td>\n",
       "      <td>109300.85940</td>\n",
       "      <td>116118.37500</td>\n",
       "      <td>123807.14060</td>\n",
       "      <td>96387.20313</td>\n",
       "      <td>241219.7031</td>\n",
       "      <td>244820.5156</td>\n",
       "      <td>69481.01563</td>\n",
       "      <td>29329.87500</td>\n",
       "      <td>84263.65625</td>\n",
       "      <td>22454.484380</td>\n",
       "    </tr>\n",
       "    <tr>\n",
       "      <th>70</th>\n",
       "      <td>CULL</td>\n",
       "      <td>440.0</td>\n",
       "      <td>510472.79690</td>\n",
       "      <td>565089.17190</td>\n",
       "      <td>713200.828100</td>\n",
       "      <td>373779.84380</td>\n",
       "      <td>569182.60940</td>\n",
       "      <td>357699.87500</td>\n",
       "      <td>88650.17188</td>\n",
       "      <td>561776.14060</td>\n",
       "      <td>...</td>\n",
       "      <td>365095.03130</td>\n",
       "      <td>389036.39060</td>\n",
       "      <td>378197.03130</td>\n",
       "      <td>244152.79690</td>\n",
       "      <td>583294.6406</td>\n",
       "      <td>521801.0156</td>\n",
       "      <td>165155.76560</td>\n",
       "      <td>98428.59375</td>\n",
       "      <td>333013.54690</td>\n",
       "      <td>385700.062500</td>\n",
       "    </tr>\n",
       "    <tr>\n",
       "      <th>72</th>\n",
       "      <td>CULL</td>\n",
       "      <td>277.0</td>\n",
       "      <td>214055.75000</td>\n",
       "      <td>258562.78130</td>\n",
       "      <td>254400.156300</td>\n",
       "      <td>126954.37500</td>\n",
       "      <td>238291.29690</td>\n",
       "      <td>138877.51560</td>\n",
       "      <td>22798.21875</td>\n",
       "      <td>185291.23440</td>\n",
       "      <td>...</td>\n",
       "      <td>190791.71880</td>\n",
       "      <td>201151.67190</td>\n",
       "      <td>212405.09380</td>\n",
       "      <td>146897.60940</td>\n",
       "      <td>375374.9063</td>\n",
       "      <td>372152.3438</td>\n",
       "      <td>109723.82810</td>\n",
       "      <td>51982.79688</td>\n",
       "      <td>64503.60938</td>\n",
       "      <td>12293.312500</td>\n",
       "    </tr>\n",
       "    <tr>\n",
       "      <th>73</th>\n",
       "      <td>CULL</td>\n",
       "      <td>81.0</td>\n",
       "      <td>41972.90625</td>\n",
       "      <td>91246.20313</td>\n",
       "      <td>58253.906250</td>\n",
       "      <td>54528.07813</td>\n",
       "      <td>70692.26563</td>\n",
       "      <td>46307.10938</td>\n",
       "      <td>36398.23438</td>\n",
       "      <td>48647.07813</td>\n",
       "      <td>...</td>\n",
       "      <td>171695.54690</td>\n",
       "      <td>183447.14060</td>\n",
       "      <td>187228.98440</td>\n",
       "      <td>133148.15630</td>\n",
       "      <td>316113.3906</td>\n",
       "      <td>282275.5000</td>\n",
       "      <td>81050.01563</td>\n",
       "      <td>37606.14063</td>\n",
       "      <td>69754.06250</td>\n",
       "      <td>15979.312500</td>\n",
       "    </tr>\n",
       "    <tr>\n",
       "      <th>74</th>\n",
       "      <td>CULL</td>\n",
       "      <td>81.0</td>\n",
       "      <td>697019.56250</td>\n",
       "      <td>805468.21880</td>\n",
       "      <td>922127.843800</td>\n",
       "      <td>462780.50000</td>\n",
       "      <td>836370.03130</td>\n",
       "      <td>437904.25000</td>\n",
       "      <td>38052.37500</td>\n",
       "      <td>701106.75000</td>\n",
       "      <td>...</td>\n",
       "      <td>149993.84380</td>\n",
       "      <td>164264.96880</td>\n",
       "      <td>168659.28130</td>\n",
       "      <td>129540.84380</td>\n",
       "      <td>287097.8125</td>\n",
       "      <td>278118.4063</td>\n",
       "      <td>81227.06250</td>\n",
       "      <td>26538.18750</td>\n",
       "      <td>121738.84380</td>\n",
       "      <td>29378.812500</td>\n",
       "    </tr>\n",
       "    <tr>\n",
       "      <th>75</th>\n",
       "      <td>BROOD</td>\n",
       "      <td>687.0</td>\n",
       "      <td>28818.01563</td>\n",
       "      <td>38690.29688</td>\n",
       "      <td>20830.687500</td>\n",
       "      <td>40221.39063</td>\n",
       "      <td>33477.73438</td>\n",
       "      <td>26337.92188</td>\n",
       "      <td>28089.46875</td>\n",
       "      <td>11088.84375</td>\n",
       "      <td>...</td>\n",
       "      <td>91946.48438</td>\n",
       "      <td>102473.70310</td>\n",
       "      <td>118145.21880</td>\n",
       "      <td>81433.25000</td>\n",
       "      <td>205543.2500</td>\n",
       "      <td>189573.5625</td>\n",
       "      <td>53098.70313</td>\n",
       "      <td>19452.76563</td>\n",
       "      <td>92003.07813</td>\n",
       "      <td>30527.140630</td>\n",
       "    </tr>\n",
       "    <tr>\n",
       "      <th>76</th>\n",
       "      <td>BROOD</td>\n",
       "      <td>515.0</td>\n",
       "      <td>47982.14063</td>\n",
       "      <td>57739.95313</td>\n",
       "      <td>19059.515630</td>\n",
       "      <td>34856.23438</td>\n",
       "      <td>50800.96875</td>\n",
       "      <td>36158.78125</td>\n",
       "      <td>23145.20313</td>\n",
       "      <td>20040.65625</td>\n",
       "      <td>...</td>\n",
       "      <td>157918.14060</td>\n",
       "      <td>179227.45310</td>\n",
       "      <td>175564.04690</td>\n",
       "      <td>117391.32810</td>\n",
       "      <td>289439.7969</td>\n",
       "      <td>267759.9531</td>\n",
       "      <td>69145.60938</td>\n",
       "      <td>47268.04688</td>\n",
       "      <td>85857.21875</td>\n",
       "      <td>36820.093750</td>\n",
       "    </tr>\n",
       "    <tr>\n",
       "      <th>77</th>\n",
       "      <td>BROOD</td>\n",
       "      <td>555.0</td>\n",
       "      <td>44295.62500</td>\n",
       "      <td>69196.04688</td>\n",
       "      <td>6794.984375</td>\n",
       "      <td>33752.25000</td>\n",
       "      <td>43940.31250</td>\n",
       "      <td>49414.20313</td>\n",
       "      <td>32011.57813</td>\n",
       "      <td>23758.71875</td>\n",
       "      <td>...</td>\n",
       "      <td>122819.07810</td>\n",
       "      <td>135880.75000</td>\n",
       "      <td>150619.76560</td>\n",
       "      <td>106995.57810</td>\n",
       "      <td>274744.0938</td>\n",
       "      <td>260474.2969</td>\n",
       "      <td>76156.39063</td>\n",
       "      <td>30410.25000</td>\n",
       "      <td>71137.06250</td>\n",
       "      <td>24348.312500</td>\n",
       "    </tr>\n",
       "    <tr>\n",
       "      <th>78</th>\n",
       "      <td>BROOD</td>\n",
       "      <td>503.0</td>\n",
       "      <td>10606.37500</td>\n",
       "      <td>17512.65625</td>\n",
       "      <td>1730.421875</td>\n",
       "      <td>22932.79688</td>\n",
       "      <td>29014.28125</td>\n",
       "      <td>38238.89063</td>\n",
       "      <td>28278.20313</td>\n",
       "      <td>13611.23438</td>\n",
       "      <td>...</td>\n",
       "      <td>108904.70310</td>\n",
       "      <td>129755.29690</td>\n",
       "      <td>129085.81250</td>\n",
       "      <td>105986.06250</td>\n",
       "      <td>236975.6875</td>\n",
       "      <td>231325.0938</td>\n",
       "      <td>71487.46875</td>\n",
       "      <td>36591.10938</td>\n",
       "      <td>86007.76563</td>\n",
       "      <td>43817.531250</td>\n",
       "    </tr>\n",
       "    <tr>\n",
       "      <th>79</th>\n",
       "      <td>BROOD</td>\n",
       "      <td>664.0</td>\n",
       "      <td>77343.37500</td>\n",
       "      <td>125501.00000</td>\n",
       "      <td>79410.062500</td>\n",
       "      <td>60781.31250</td>\n",
       "      <td>93837.15625</td>\n",
       "      <td>65532.90625</td>\n",
       "      <td>25353.64063</td>\n",
       "      <td>58120.45313</td>\n",
       "      <td>...</td>\n",
       "      <td>157834.71880</td>\n",
       "      <td>179398.17190</td>\n",
       "      <td>190093.00000</td>\n",
       "      <td>135393.06250</td>\n",
       "      <td>328166.9375</td>\n",
       "      <td>309824.3750</td>\n",
       "      <td>93220.56250</td>\n",
       "      <td>40991.26563</td>\n",
       "      <td>129908.82810</td>\n",
       "      <td>15049.125000</td>\n",
       "    </tr>\n",
       "    <tr>\n",
       "      <th>80</th>\n",
       "      <td>BROOD</td>\n",
       "      <td>501.0</td>\n",
       "      <td>83849.40625</td>\n",
       "      <td>118475.34380</td>\n",
       "      <td>66242.375000</td>\n",
       "      <td>58671.28125</td>\n",
       "      <td>99957.65625</td>\n",
       "      <td>59230.12500</td>\n",
       "      <td>34730.71875</td>\n",
       "      <td>70861.00000</td>\n",
       "      <td>...</td>\n",
       "      <td>148511.06250</td>\n",
       "      <td>158889.31250</td>\n",
       "      <td>172897.46880</td>\n",
       "      <td>129450.34380</td>\n",
       "      <td>310234.5938</td>\n",
       "      <td>284483.0938</td>\n",
       "      <td>79031.84375</td>\n",
       "      <td>22526.56250</td>\n",
       "      <td>92477.34375</td>\n",
       "      <td>17483.656250</td>\n",
       "    </tr>\n",
       "    <tr>\n",
       "      <th>81</th>\n",
       "      <td>BROOD</td>\n",
       "      <td>735.0</td>\n",
       "      <td>62656.15625</td>\n",
       "      <td>77120.28125</td>\n",
       "      <td>49210.031250</td>\n",
       "      <td>42657.00000</td>\n",
       "      <td>65691.78125</td>\n",
       "      <td>62308.31250</td>\n",
       "      <td>33680.37500</td>\n",
       "      <td>36872.59375</td>\n",
       "      <td>...</td>\n",
       "      <td>160019.09380</td>\n",
       "      <td>173104.87500</td>\n",
       "      <td>180493.09380</td>\n",
       "      <td>111357.59380</td>\n",
       "      <td>277164.4688</td>\n",
       "      <td>238421.8750</td>\n",
       "      <td>71188.78125</td>\n",
       "      <td>25739.37500</td>\n",
       "      <td>88198.15625</td>\n",
       "      <td>29710.156250</td>\n",
       "    </tr>\n",
       "    <tr>\n",
       "      <th>83</th>\n",
       "      <td>BROOD</td>\n",
       "      <td>490.0</td>\n",
       "      <td>161017.92190</td>\n",
       "      <td>216937.76560</td>\n",
       "      <td>295847.765600</td>\n",
       "      <td>147966.90630</td>\n",
       "      <td>190332.50000</td>\n",
       "      <td>149164.34380</td>\n",
       "      <td>32017.70313</td>\n",
       "      <td>188264.23440</td>\n",
       "      <td>...</td>\n",
       "      <td>331029.01560</td>\n",
       "      <td>371424.71880</td>\n",
       "      <td>372661.28130</td>\n",
       "      <td>263681.48440</td>\n",
       "      <td>646417.7031</td>\n",
       "      <td>597508.6563</td>\n",
       "      <td>179899.42190</td>\n",
       "      <td>110003.79690</td>\n",
       "      <td>90070.64063</td>\n",
       "      <td>30584.265630</td>\n",
       "    </tr>\n",
       "    <tr>\n",
       "      <th>84</th>\n",
       "      <td>BROOD</td>\n",
       "      <td>503.0</td>\n",
       "      <td>72309.32813</td>\n",
       "      <td>102976.25000</td>\n",
       "      <td>65012.265630</td>\n",
       "      <td>35749.29688</td>\n",
       "      <td>82706.17188</td>\n",
       "      <td>53783.59375</td>\n",
       "      <td>35536.28125</td>\n",
       "      <td>48206.92188</td>\n",
       "      <td>...</td>\n",
       "      <td>224622.04690</td>\n",
       "      <td>256237.25000</td>\n",
       "      <td>255726.62500</td>\n",
       "      <td>173492.42190</td>\n",
       "      <td>428672.5156</td>\n",
       "      <td>429937.7813</td>\n",
       "      <td>116942.65630</td>\n",
       "      <td>55748.10938</td>\n",
       "      <td>119614.65630</td>\n",
       "      <td>23111.671880</td>\n",
       "    </tr>\n",
       "    <tr>\n",
       "      <th>85</th>\n",
       "      <td>BROOD</td>\n",
       "      <td>735.0</td>\n",
       "      <td>54102.56250</td>\n",
       "      <td>92899.78125</td>\n",
       "      <td>26793.859380</td>\n",
       "      <td>27455.68750</td>\n",
       "      <td>53032.76563</td>\n",
       "      <td>45234.65625</td>\n",
       "      <td>28133.01563</td>\n",
       "      <td>9202.15625</td>\n",
       "      <td>...</td>\n",
       "      <td>177555.04690</td>\n",
       "      <td>181535.26560</td>\n",
       "      <td>186244.73440</td>\n",
       "      <td>131500.84380</td>\n",
       "      <td>322732.0469</td>\n",
       "      <td>299380.9375</td>\n",
       "      <td>78002.84375</td>\n",
       "      <td>32864.64063</td>\n",
       "      <td>88944.20313</td>\n",
       "      <td>31578.765630</td>\n",
       "    </tr>\n",
       "    <tr>\n",
       "      <th>87</th>\n",
       "      <td>BROOD</td>\n",
       "      <td>687.0</td>\n",
       "      <td>159232.18750</td>\n",
       "      <td>184546.26560</td>\n",
       "      <td>208093.796900</td>\n",
       "      <td>117662.06250</td>\n",
       "      <td>181302.82810</td>\n",
       "      <td>109371.31250</td>\n",
       "      <td>27173.71875</td>\n",
       "      <td>148802.75000</td>\n",
       "      <td>...</td>\n",
       "      <td>268963.78130</td>\n",
       "      <td>281381.42190</td>\n",
       "      <td>287129.82810</td>\n",
       "      <td>196495.73440</td>\n",
       "      <td>493313.0469</td>\n",
       "      <td>459078.3125</td>\n",
       "      <td>127674.04690</td>\n",
       "      <td>65931.51563</td>\n",
       "      <td>57674.10938</td>\n",
       "      <td>16386.328130</td>\n",
       "    </tr>\n",
       "    <tr>\n",
       "      <th>88</th>\n",
       "      <td>BROOD</td>\n",
       "      <td>544.0</td>\n",
       "      <td>247667.31250</td>\n",
       "      <td>315226.68750</td>\n",
       "      <td>323810.312500</td>\n",
       "      <td>190266.21880</td>\n",
       "      <td>302392.87500</td>\n",
       "      <td>177876.75000</td>\n",
       "      <td>22559.09375</td>\n",
       "      <td>237484.06250</td>\n",
       "      <td>...</td>\n",
       "      <td>252548.56250</td>\n",
       "      <td>274732.53130</td>\n",
       "      <td>255699.87500</td>\n",
       "      <td>179135.15630</td>\n",
       "      <td>426547.6875</td>\n",
       "      <td>383144.9375</td>\n",
       "      <td>111336.78130</td>\n",
       "      <td>51007.09375</td>\n",
       "      <td>98919.53125</td>\n",
       "      <td>31490.875000</td>\n",
       "    </tr>\n",
       "    <tr>\n",
       "      <th>90</th>\n",
       "      <td>BROOD</td>\n",
       "      <td>662.0</td>\n",
       "      <td>57117.00000</td>\n",
       "      <td>60998.12500</td>\n",
       "      <td>33344.656250</td>\n",
       "      <td>41041.40625</td>\n",
       "      <td>32579.75000</td>\n",
       "      <td>27325.59375</td>\n",
       "      <td>32180.59375</td>\n",
       "      <td>17881.71875</td>\n",
       "      <td>...</td>\n",
       "      <td>70163.71875</td>\n",
       "      <td>77839.37500</td>\n",
       "      <td>67187.65625</td>\n",
       "      <td>46195.78125</td>\n",
       "      <td>134056.6250</td>\n",
       "      <td>141350.5000</td>\n",
       "      <td>33714.06250</td>\n",
       "      <td>9492.03125</td>\n",
       "      <td>69602.87500</td>\n",
       "      <td>12665.437500</td>\n",
       "    </tr>\n",
       "    <tr>\n",
       "      <th>91</th>\n",
       "      <td>BROOD</td>\n",
       "      <td>669.0</td>\n",
       "      <td>138583.25000</td>\n",
       "      <td>161452.79690</td>\n",
       "      <td>139738.265600</td>\n",
       "      <td>91341.76563</td>\n",
       "      <td>118749.10940</td>\n",
       "      <td>106876.67190</td>\n",
       "      <td>77385.79688</td>\n",
       "      <td>118950.92190</td>\n",
       "      <td>...</td>\n",
       "      <td>200059.76560</td>\n",
       "      <td>212200.29690</td>\n",
       "      <td>214651.64060</td>\n",
       "      <td>148134.73440</td>\n",
       "      <td>398863.6250</td>\n",
       "      <td>426169.1719</td>\n",
       "      <td>144946.71880</td>\n",
       "      <td>75515.56250</td>\n",
       "      <td>334536.89060</td>\n",
       "      <td>387984.140600</td>\n",
       "    </tr>\n",
       "    <tr>\n",
       "      <th>92</th>\n",
       "      <td>BROOD</td>\n",
       "      <td>503.0</td>\n",
       "      <td>34352.85938</td>\n",
       "      <td>78951.98438</td>\n",
       "      <td>26601.796880</td>\n",
       "      <td>28550.12500</td>\n",
       "      <td>29358.84375</td>\n",
       "      <td>32309.12500</td>\n",
       "      <td>17666.04688</td>\n",
       "      <td>23454.62500</td>\n",
       "      <td>...</td>\n",
       "      <td>125687.12500</td>\n",
       "      <td>131287.03130</td>\n",
       "      <td>141342.50000</td>\n",
       "      <td>103990.35940</td>\n",
       "      <td>269751.1719</td>\n",
       "      <td>266903.6094</td>\n",
       "      <td>77261.82813</td>\n",
       "      <td>34845.46875</td>\n",
       "      <td>87486.21875</td>\n",
       "      <td>33685.437500</td>\n",
       "    </tr>\n",
       "    <tr>\n",
       "      <th>93</th>\n",
       "      <td>BROOD</td>\n",
       "      <td>501.0</td>\n",
       "      <td>33347.46875</td>\n",
       "      <td>39769.53125</td>\n",
       "      <td>39994.593750</td>\n",
       "      <td>15922.25000</td>\n",
       "      <td>29864.37500</td>\n",
       "      <td>27849.87500</td>\n",
       "      <td>20655.53125</td>\n",
       "      <td>8204.71875</td>\n",
       "      <td>...</td>\n",
       "      <td>76239.09375</td>\n",
       "      <td>76527.68750</td>\n",
       "      <td>83163.28125</td>\n",
       "      <td>58422.28125</td>\n",
       "      <td>138169.3438</td>\n",
       "      <td>138162.8125</td>\n",
       "      <td>47986.96875</td>\n",
       "      <td>22129.53125</td>\n",
       "      <td>73973.09375</td>\n",
       "      <td>20770.281250</td>\n",
       "    </tr>\n",
       "    <tr>\n",
       "      <th>94</th>\n",
       "      <td>BROOD</td>\n",
       "      <td>624.0</td>\n",
       "      <td>77505.15625</td>\n",
       "      <td>101783.15630</td>\n",
       "      <td>53415.125000</td>\n",
       "      <td>42478.15625</td>\n",
       "      <td>72752.65625</td>\n",
       "      <td>65066.00000</td>\n",
       "      <td>19272.81250</td>\n",
       "      <td>59137.03125</td>\n",
       "      <td>...</td>\n",
       "      <td>217487.65630</td>\n",
       "      <td>232049.18750</td>\n",
       "      <td>226929.18750</td>\n",
       "      <td>161393.46880</td>\n",
       "      <td>408061.7813</td>\n",
       "      <td>379441.7188</td>\n",
       "      <td>106834.15630</td>\n",
       "      <td>52567.59375</td>\n",
       "      <td>88091.18750</td>\n",
       "      <td>46276.406250</td>\n",
       "    </tr>\n",
       "    <tr>\n",
       "      <th>97</th>\n",
       "      <td>BROOD</td>\n",
       "      <td>687.0</td>\n",
       "      <td>40985.90625</td>\n",
       "      <td>81220.37500</td>\n",
       "      <td>27413.968750</td>\n",
       "      <td>40364.84375</td>\n",
       "      <td>37316.31250</td>\n",
       "      <td>43518.39063</td>\n",
       "      <td>39033.73438</td>\n",
       "      <td>10693.79688</td>\n",
       "      <td>...</td>\n",
       "      <td>127539.46880</td>\n",
       "      <td>129474.48440</td>\n",
       "      <td>146000.35940</td>\n",
       "      <td>114071.26560</td>\n",
       "      <td>259179.8906</td>\n",
       "      <td>246346.0000</td>\n",
       "      <td>65071.54688</td>\n",
       "      <td>26031.64063</td>\n",
       "      <td>102766.43750</td>\n",
       "      <td>30862.687500</td>\n",
       "    </tr>\n",
       "    <tr>\n",
       "      <th>98</th>\n",
       "      <td>BROOD</td>\n",
       "      <td>624.0</td>\n",
       "      <td>329274.68750</td>\n",
       "      <td>388733.67190</td>\n",
       "      <td>412079.203100</td>\n",
       "      <td>215364.53130</td>\n",
       "      <td>380192.98440</td>\n",
       "      <td>223535.98440</td>\n",
       "      <td>25400.67188</td>\n",
       "      <td>327378.60940</td>\n",
       "      <td>...</td>\n",
       "      <td>211201.32810</td>\n",
       "      <td>235355.92190</td>\n",
       "      <td>231268.39060</td>\n",
       "      <td>163252.59380</td>\n",
       "      <td>395192.3750</td>\n",
       "      <td>365878.5781</td>\n",
       "      <td>97069.79688</td>\n",
       "      <td>42706.09375</td>\n",
       "      <td>75620.85938</td>\n",
       "      <td>27335.718750</td>\n",
       "    </tr>\n",
       "    <tr>\n",
       "      <th>99</th>\n",
       "      <td>BROOD</td>\n",
       "      <td>687.0</td>\n",
       "      <td>32405.40625</td>\n",
       "      <td>52449.28125</td>\n",
       "      <td>2637.015625</td>\n",
       "      <td>32087.73438</td>\n",
       "      <td>29400.14063</td>\n",
       "      <td>17047.65625</td>\n",
       "      <td>29117.29688</td>\n",
       "      <td>14458.06250</td>\n",
       "      <td>...</td>\n",
       "      <td>95845.31250</td>\n",
       "      <td>97386.00000</td>\n",
       "      <td>95280.25000</td>\n",
       "      <td>72634.06250</td>\n",
       "      <td>172671.4531</td>\n",
       "      <td>170785.2500</td>\n",
       "      <td>37903.00000</td>\n",
       "      <td>17486.17188</td>\n",
       "      <td>75748.67188</td>\n",
       "      <td>18642.906250</td>\n",
       "    </tr>\n",
       "  </tbody>\n",
       "</table>\n",
       "<p>81 rows × 262 columns</p>\n",
       "</div>"
      ],
      "text/plain": [
       "    Stock  Breeding Value       B7_4994       B7_4875        B7_4525  \\\n",
       "0    CULL           397.0  131305.45310  144981.26560  142388.828100   \n",
       "1    CULL           -91.0  183441.31250  209126.93750  201864.062500   \n",
       "2    CULL           344.0  206015.93750  255455.95310  262075.812500   \n",
       "3    CULL           132.0    7692.09375   24164.28125    8611.937500   \n",
       "4    CULL            81.0  123934.34380  135644.43750  130603.562500   \n",
       "5    CULL           429.0  290384.06250  347091.12500  355762.500000   \n",
       "6    CULL          -286.0  261019.51560  329700.28130  299399.375000   \n",
       "7    CULL           195.0  328016.31250  396385.40630  382876.718800   \n",
       "8    CULL           351.0  236282.50000  296350.21880  256868.796900   \n",
       "9    CULL           138.0  265450.21880  301020.81250  308198.343800   \n",
       "10   CULL           482.0  501216.15630  591749.12500  601041.812500   \n",
       "11   CULL           230.0  105375.57810  116387.76560  108543.609400   \n",
       "12   CULL          -115.0  281270.84380  300272.89060  323220.625000   \n",
       "13   CULL           138.0  170912.03130  195483.87500  167396.062500   \n",
       "14   CULL          -169.0  284421.40630  362978.25000  372639.281300   \n",
       "15   CULL           -91.0  151167.32810  184971.64060  154667.218800   \n",
       "16   CULL           397.0  209597.10940  259878.46880  263331.765600   \n",
       "17   CULL           422.0  336051.81250  384270.43750  432134.953100   \n",
       "18   CULL          -109.0   51234.14063   79461.81250   38407.875000   \n",
       "19   CULL          -286.0  110712.54690  134107.67190  120949.125000   \n",
       "20   CULL          -109.0   91671.28125  127960.75000   81247.437500   \n",
       "21   CULL           482.0  255563.93750  301770.03130  288368.593800   \n",
       "23   CULL           -91.0  192060.40630  243428.06250  217467.843800   \n",
       "24   CULL           351.0   23339.93750   40453.59375   13684.062500   \n",
       "25  BROOD           488.0   98127.32813  130935.51560   81061.250000   \n",
       "28  BROOD           490.0   61204.09375  110768.75000   54980.625000   \n",
       "32  BROOD           490.0   76369.56250  111363.07810   73161.328130   \n",
       "34  BROOD           759.0   44654.51563   71546.50000   10838.765630   \n",
       "36  BROOD           515.0  107073.76560  123572.12500  150628.562500   \n",
       "37  BROOD           662.0   54170.14063   91418.31250   46458.531250   \n",
       "..    ...             ...           ...           ...            ...   \n",
       "64   CULL           429.0  374961.56250  471137.04690  508911.625000   \n",
       "65   CULL           403.0  120517.64060  146076.54690  109902.171900   \n",
       "66   CULL           166.0  138181.73440  157403.32810   96156.468750   \n",
       "67   CULL            89.0  145094.18750  167412.68750  138174.781300   \n",
       "68   CULL           457.0  196480.46880  208446.00000  213652.406300   \n",
       "69   CULL           351.0  266171.35940  355397.98440  325047.015600   \n",
       "70   CULL           440.0  510472.79690  565089.17190  713200.828100   \n",
       "72   CULL           277.0  214055.75000  258562.78130  254400.156300   \n",
       "73   CULL            81.0   41972.90625   91246.20313   58253.906250   \n",
       "74   CULL            81.0  697019.56250  805468.21880  922127.843800   \n",
       "75  BROOD           687.0   28818.01563   38690.29688   20830.687500   \n",
       "76  BROOD           515.0   47982.14063   57739.95313   19059.515630   \n",
       "77  BROOD           555.0   44295.62500   69196.04688    6794.984375   \n",
       "78  BROOD           503.0   10606.37500   17512.65625    1730.421875   \n",
       "79  BROOD           664.0   77343.37500  125501.00000   79410.062500   \n",
       "80  BROOD           501.0   83849.40625  118475.34380   66242.375000   \n",
       "81  BROOD           735.0   62656.15625   77120.28125   49210.031250   \n",
       "83  BROOD           490.0  161017.92190  216937.76560  295847.765600   \n",
       "84  BROOD           503.0   72309.32813  102976.25000   65012.265630   \n",
       "85  BROOD           735.0   54102.56250   92899.78125   26793.859380   \n",
       "87  BROOD           687.0  159232.18750  184546.26560  208093.796900   \n",
       "88  BROOD           544.0  247667.31250  315226.68750  323810.312500   \n",
       "90  BROOD           662.0   57117.00000   60998.12500   33344.656250   \n",
       "91  BROOD           669.0  138583.25000  161452.79690  139738.265600   \n",
       "92  BROOD           503.0   34352.85938   78951.98438   26601.796880   \n",
       "93  BROOD           501.0   33347.46875   39769.53125   39994.593750   \n",
       "94  BROOD           624.0   77505.15625  101783.15630   53415.125000   \n",
       "97  BROOD           687.0   40985.90625   81220.37500   27413.968750   \n",
       "98  BROOD           624.0  329274.68750  388733.67190  412079.203100   \n",
       "99  BROOD           687.0   32405.40625   52449.28125    2637.015625   \n",
       "\n",
       "         B7_3616       B7_3503       B7_3393      B7_1522       B7_1093  ...  \\\n",
       "0    96999.42188  156190.81250   95217.79688  29787.84375  112778.85940  ...   \n",
       "1   127183.81250  206881.21880  117774.50000  18977.25000  165255.56250  ...   \n",
       "2   139335.82810  237417.71880  151135.73440  15748.59375  205730.31250  ...   \n",
       "3    17506.75000    5935.12500   32927.78125  15251.34375  -13094.31250  ...   \n",
       "4    66523.73438  131626.43750   76109.89063  31055.37500  101598.00000  ...   \n",
       "5   194267.06250  329096.09380  206285.46880  29214.34375  280182.37500  ...   \n",
       "6   181392.60940  294012.71880  183316.59380  22588.98438  239955.81250  ...   \n",
       "7   222742.93750  412153.03130  212401.68750  31094.68750  317184.06250  ...   \n",
       "8   164860.62500  269298.64060  155648.15630  31185.42188  203687.71880  ...   \n",
       "9   174483.40630  292474.81250  172620.93750  19889.06250  250961.56250  ...   \n",
       "10  343506.25000  584026.12500  325304.18750  30251.43750  489036.65630  ...   \n",
       "11   79288.54688  114885.87500   71632.93750  35565.46875   78475.29688  ...   \n",
       "12  211412.29690  278851.85940  179669.96880  73648.20313  262746.71880  ...   \n",
       "13  139278.21880  175361.46880  142242.34380  77612.96875  149724.59380  ...   \n",
       "14  203330.87500  372810.09380  205977.50000  42643.53125  274451.53130  ...   \n",
       "15  106638.70310  179102.04690  122665.50000  38206.40625  125388.70310  ...   \n",
       "16  163880.34380  268645.62500  172776.35940  39081.82813  223283.06250  ...   \n",
       "17  280201.29690  395511.89060  248144.64060  87454.79688  349783.73440  ...   \n",
       "18   38051.59375   68147.56250   47963.26563  13680.92188   36241.56250  ...   \n",
       "19   74768.35938   94077.73438   75601.93750  32784.46875   87815.98438  ...   \n",
       "20   59065.17188   96478.95313   51723.75000  28166.79688   80409.09375  ...   \n",
       "21  146992.28130  257439.40630  140526.65630  32405.90625  209547.90630  ...   \n",
       "23  129902.56250  204376.56250  107464.12500  38497.40625  170535.59380  ...   \n",
       "24   12105.31250   20708.31250   16849.18750  19697.34375    -731.28125  ...   \n",
       "25   44027.14063   95323.71875   69051.98438  36339.04688   56314.31250  ...   \n",
       "28   44154.56250   54258.43750   68761.65625  23014.15625   29773.37500  ...   \n",
       "32   61228.90625   78672.95313   55921.54688  22776.01563   61454.21875  ...   \n",
       "34   31080.09375   39216.81250   46640.48438  29252.78125   13393.17188  ...   \n",
       "36   82517.06250  144085.57810   76929.32813  28436.28125   91539.70313  ...   \n",
       "37   45236.73438   71321.90625   52326.75000  20292.03125   28041.07813  ...   \n",
       "..           ...           ...           ...          ...           ...  ...   \n",
       "64  260769.09380  464968.00000  291105.15630  42740.92188  385372.75000  ...   \n",
       "65   94304.45313  130986.15630   82093.98438  33495.76563   81847.96875  ...   \n",
       "66   76965.56250  131218.03130   84305.90625  31378.03125   74776.84375  ...   \n",
       "67  109249.31250  149527.06250  104766.78130  39986.06250  100387.93750  ...   \n",
       "68  140707.04690  198564.23440  151493.21880  98038.45313  213277.78130  ...   \n",
       "69  196744.70310  317496.53130  173685.62500  17230.70313  264009.15630  ...   \n",
       "70  373779.84380  569182.60940  357699.87500  88650.17188  561776.14060  ...   \n",
       "72  126954.37500  238291.29690  138877.51560  22798.21875  185291.23440  ...   \n",
       "73   54528.07813   70692.26563   46307.10938  36398.23438   48647.07813  ...   \n",
       "74  462780.50000  836370.03130  437904.25000  38052.37500  701106.75000  ...   \n",
       "75   40221.39063   33477.73438   26337.92188  28089.46875   11088.84375  ...   \n",
       "76   34856.23438   50800.96875   36158.78125  23145.20313   20040.65625  ...   \n",
       "77   33752.25000   43940.31250   49414.20313  32011.57813   23758.71875  ...   \n",
       "78   22932.79688   29014.28125   38238.89063  28278.20313   13611.23438  ...   \n",
       "79   60781.31250   93837.15625   65532.90625  25353.64063   58120.45313  ...   \n",
       "80   58671.28125   99957.65625   59230.12500  34730.71875   70861.00000  ...   \n",
       "81   42657.00000   65691.78125   62308.31250  33680.37500   36872.59375  ...   \n",
       "83  147966.90630  190332.50000  149164.34380  32017.70313  188264.23440  ...   \n",
       "84   35749.29688   82706.17188   53783.59375  35536.28125   48206.92188  ...   \n",
       "85   27455.68750   53032.76563   45234.65625  28133.01563    9202.15625  ...   \n",
       "87  117662.06250  181302.82810  109371.31250  27173.71875  148802.75000  ...   \n",
       "88  190266.21880  302392.87500  177876.75000  22559.09375  237484.06250  ...   \n",
       "90   41041.40625   32579.75000   27325.59375  32180.59375   17881.71875  ...   \n",
       "91   91341.76563  118749.10940  106876.67190  77385.79688  118950.92190  ...   \n",
       "92   28550.12500   29358.84375   32309.12500  17666.04688   23454.62500  ...   \n",
       "93   15922.25000   29864.37500   27849.87500  20655.53125    8204.71875  ...   \n",
       "94   42478.15625   72752.65625   65066.00000  19272.81250   59137.03125  ...   \n",
       "97   40364.84375   37316.31250   43518.39063  39033.73438   10693.79688  ...   \n",
       "98  215364.53130  380192.98440  223535.98440  25400.67188  327378.60940  ...   \n",
       "99   32087.73438   29400.14063   17047.65625  29117.29688   14458.06250  ...   \n",
       "\n",
       "         B0_9047       B0_8992       B0_8938       B0_8825      B0_8759  \\\n",
       "0   110548.06250  122697.26560  139708.01560  103893.06250  246991.5469   \n",
       "1   110431.21880  121501.68750  125174.62500   89302.81250  214140.1250   \n",
       "2   256810.57810  265815.42190  260946.79690  178281.76560  414871.1250   \n",
       "3    71889.03125   69318.43750   86390.09375   53759.62500  138607.2500   \n",
       "4   135593.29690  144686.14060  149021.18750  102828.29690  245571.5469   \n",
       "5   127781.37500  147525.96880  165985.71880  131556.46880  293351.7813   \n",
       "6   193689.48440  199850.82810  206418.28130  149919.35940  390524.2813   \n",
       "7    89041.59375   93681.90625   96268.50000   76213.40625  182045.8750   \n",
       "8   133576.56250  152403.65630  173485.48440  116418.89060  287908.5313   \n",
       "9   152058.15630  161631.31250  173007.00000  111558.46880  290437.6563   \n",
       "10  219257.68750  232757.12500  236917.53130  147016.56250  361014.3750   \n",
       "11  133889.37500  143623.73440  159186.53130  112457.84380  278265.5938   \n",
       "12  171396.75000  170620.75000  178276.15630  120322.46880  295098.0938   \n",
       "13  184406.12500  200589.12500  210880.53130  151413.18750  355963.4688   \n",
       "14  148783.43750  166385.93750  169475.18750  122874.84380  312160.9063   \n",
       "15  179281.09380  178091.40630  190132.23440  148950.84380  355155.5000   \n",
       "16  157629.67190  159300.31250  163396.90630  117903.06250  289134.3438   \n",
       "17  209317.18750  229531.26560  233053.87500  165965.18750  405428.0469   \n",
       "18   77012.32813   85931.95313  103453.57810   82436.89063  188994.8906   \n",
       "19  145898.71880  155469.87500  151185.90630  112779.28130  264416.1250   \n",
       "20  145993.20310  160882.98440  169095.84380  118938.42190  297322.5781   \n",
       "21  127721.03130  148345.50000  160251.75000  113508.43750  256166.5313   \n",
       "23  106493.90630  107667.50000  125612.00000   90358.59375  229291.8750   \n",
       "24  163393.68750  180126.68750  178946.31250  113447.87500  258663.3750   \n",
       "25  213998.39060  277683.59380  316797.06250  262929.03130  718884.3750   \n",
       "28  190774.46880  199761.56250  210702.59380  147826.71880  353543.0625   \n",
       "32  193702.87500  199756.32810  204125.25000  140340.32810  338930.6094   \n",
       "34  113149.23440  122553.14060  126561.15630   97557.40625  234305.3594   \n",
       "36  120610.04690  127924.84380  134227.50000  112919.65630  295518.0625   \n",
       "37  184387.60940  202259.00000  209691.92190  156805.45310  361657.5156   \n",
       "..           ...           ...           ...           ...          ...   \n",
       "64  159028.71880  170467.43750  173344.65630  123631.12500  314574.2969   \n",
       "65  142973.20310  145907.95310  169219.15630  118460.20310  278479.7969   \n",
       "66  135112.64060  135299.65630  141423.51560   85672.37500  236809.3750   \n",
       "67  196367.40630  199618.31250  218865.15630  161594.59380  387186.0938   \n",
       "68  304255.26560  323227.09380  323653.18750  224666.78130  528530.0625   \n",
       "69  109300.85940  116118.37500  123807.14060   96387.20313  241219.7031   \n",
       "70  365095.03130  389036.39060  378197.03130  244152.79690  583294.6406   \n",
       "72  190791.71880  201151.67190  212405.09380  146897.60940  375374.9063   \n",
       "73  171695.54690  183447.14060  187228.98440  133148.15630  316113.3906   \n",
       "74  149993.84380  164264.96880  168659.28130  129540.84380  287097.8125   \n",
       "75   91946.48438  102473.70310  118145.21880   81433.25000  205543.2500   \n",
       "76  157918.14060  179227.45310  175564.04690  117391.32810  289439.7969   \n",
       "77  122819.07810  135880.75000  150619.76560  106995.57810  274744.0938   \n",
       "78  108904.70310  129755.29690  129085.81250  105986.06250  236975.6875   \n",
       "79  157834.71880  179398.17190  190093.00000  135393.06250  328166.9375   \n",
       "80  148511.06250  158889.31250  172897.46880  129450.34380  310234.5938   \n",
       "81  160019.09380  173104.87500  180493.09380  111357.59380  277164.4688   \n",
       "83  331029.01560  371424.71880  372661.28130  263681.48440  646417.7031   \n",
       "84  224622.04690  256237.25000  255726.62500  173492.42190  428672.5156   \n",
       "85  177555.04690  181535.26560  186244.73440  131500.84380  322732.0469   \n",
       "87  268963.78130  281381.42190  287129.82810  196495.73440  493313.0469   \n",
       "88  252548.56250  274732.53130  255699.87500  179135.15630  426547.6875   \n",
       "90   70163.71875   77839.37500   67187.65625   46195.78125  134056.6250   \n",
       "91  200059.76560  212200.29690  214651.64060  148134.73440  398863.6250   \n",
       "92  125687.12500  131287.03130  141342.50000  103990.35940  269751.1719   \n",
       "93   76239.09375   76527.68750   83163.28125   58422.28125  138169.3438   \n",
       "94  217487.65630  232049.18750  226929.18750  161393.46880  408061.7813   \n",
       "97  127539.46880  129474.48440  146000.35940  114071.26560  259179.8906   \n",
       "98  211201.32810  235355.92190  231268.39060  163252.59380  395192.3750   \n",
       "99   95845.31250   97386.00000   95280.25000   72634.06250  172671.4531   \n",
       "\n",
       "        B0_8651       B0_8562       B0_8515       B0_1677        B0_1468  \n",
       "0   215101.6875   65581.21875   26646.21875   86967.81250   20274.750000  \n",
       "1   212868.2813   65850.68750   27119.37500   71080.46875   35608.625000  \n",
       "2   377639.4219  109138.48440   54492.51563   81977.62500   18493.968750  \n",
       "3   153938.9063   46037.78125    9949.40625   69577.68750   30906.343750  \n",
       "4   234731.1563   61604.43750   27374.95313   74492.90625   26447.078130  \n",
       "5   269546.5625   78873.81250   36208.21875  107334.84380   27606.531250  \n",
       "6   399034.0781  122480.87500   59434.90625  107830.29690   43734.062500  \n",
       "7   156460.0313   51217.96875   20244.75000   70463.96875   26667.031250  \n",
       "8   288285.5781   81752.18750   38785.71875  115929.03130   14783.312500  \n",
       "9   301213.2813   79094.25000   33810.00000   99867.28125   32941.968750  \n",
       "10  321348.0313   81879.37500   34678.34375  109652.62500   32192.968750  \n",
       "11  260079.8906   67969.82813   35516.81250   89875.26563   21905.703130  \n",
       "12  303566.8594  114722.48440   63450.68750  347774.17190  394114.609400  \n",
       "13  370942.6563  125033.68750   69345.18750  334366.25000  388817.937500  \n",
       "14  287080.5313   75964.25000   39425.65625   72707.68750   28696.375000  \n",
       "15  315778.7500   96631.57813   41894.98438  109032.93750   20231.984380  \n",
       "16  268994.3906   83605.70313   37351.37500   57819.21875   32089.921880  \n",
       "17  395867.7344  130438.03130   68444.75000  318145.25000  378151.859400  \n",
       "18  181215.1875   43135.85938   16553.98438   77904.31250   27385.562500  \n",
       "19  224564.7031   62093.68750   36011.50000   89994.39063   22859.250000  \n",
       "20  286714.8750   76176.12500   41073.46875   74487.42188   28019.484380  \n",
       "21  226501.1563   65136.00000   30361.75000   72538.96875   26922.187500  \n",
       "23  203667.0625   55479.78125   33741.75000   86522.56250   24600.281250  \n",
       "24  233808.2500   71459.81250   36745.18750  114582.34380   76429.531250  \n",
       "25  710982.0781  205634.01560  121978.84380  149880.14060   34953.500000  \n",
       "28  328219.5000   88299.12500   41155.56250  100542.09380   17583.468750  \n",
       "32  322209.5469   85860.01563   42496.18750   76274.04688   18113.406250  \n",
       "34  202574.8750   60980.03125   32565.01563   90465.17188   43497.859380  \n",
       "36  254890.8594   70104.26563   22887.00000  206845.40630   27946.218750  \n",
       "37  317481.5469   94405.81250   41919.70313  108109.09380   25022.296880  \n",
       "..          ...           ...           ...           ...            ...  \n",
       "64  304886.2344   95651.35938   46776.60938   83604.98438    3470.468750  \n",
       "65  267123.1563   68269.04688   34302.21875   72491.20313    9332.515625  \n",
       "66  213586.2031   61158.67188   20686.67188   81572.04688    9189.140625  \n",
       "67  342662.5625   95842.18750   49246.75000  102365.62500   14888.312500  \n",
       "68  492176.3281  144828.75000   89644.70313  405417.21880  417262.828100  \n",
       "69  244820.5156   69481.01563   29329.87500   84263.65625   22454.484380  \n",
       "70  521801.0156  165155.76560   98428.59375  333013.54690  385700.062500  \n",
       "72  372152.3438  109723.82810   51982.79688   64503.60938   12293.312500  \n",
       "73  282275.5000   81050.01563   37606.14063   69754.06250   15979.312500  \n",
       "74  278118.4063   81227.06250   26538.18750  121738.84380   29378.812500  \n",
       "75  189573.5625   53098.70313   19452.76563   92003.07813   30527.140630  \n",
       "76  267759.9531   69145.60938   47268.04688   85857.21875   36820.093750  \n",
       "77  260474.2969   76156.39063   30410.25000   71137.06250   24348.312500  \n",
       "78  231325.0938   71487.46875   36591.10938   86007.76563   43817.531250  \n",
       "79  309824.3750   93220.56250   40991.26563  129908.82810   15049.125000  \n",
       "80  284483.0938   79031.84375   22526.56250   92477.34375   17483.656250  \n",
       "81  238421.8750   71188.78125   25739.37500   88198.15625   29710.156250  \n",
       "83  597508.6563  179899.42190  110003.79690   90070.64063   30584.265630  \n",
       "84  429937.7813  116942.65630   55748.10938  119614.65630   23111.671880  \n",
       "85  299380.9375   78002.84375   32864.64063   88944.20313   31578.765630  \n",
       "87  459078.3125  127674.04690   65931.51563   57674.10938   16386.328130  \n",
       "88  383144.9375  111336.78130   51007.09375   98919.53125   31490.875000  \n",
       "90  141350.5000   33714.06250    9492.03125   69602.87500   12665.437500  \n",
       "91  426169.1719  144946.71880   75515.56250  334536.89060  387984.140600  \n",
       "92  266903.6094   77261.82813   34845.46875   87486.21875   33685.437500  \n",
       "93  138162.8125   47986.96875   22129.53125   73973.09375   20770.281250  \n",
       "94  379441.7188  106834.15630   52567.59375   88091.18750   46276.406250  \n",
       "97  246346.0000   65071.54688   26031.64063  102766.43750   30862.687500  \n",
       "98  365878.5781   97069.79688   42706.09375   75620.85938   27335.718750  \n",
       "99  170785.2500   37903.00000   17486.17188   75748.67188   18642.906250  \n",
       "\n",
       "[81 rows x 262 columns]"
      ]
     },
     "execution_count": 5,
     "metadata": {},
     "output_type": "execute_result"
    }
   ],
   "source": [
    "X"
   ]
  },
  {
   "cell_type": "code",
   "execution_count": 9,
   "metadata": {
    "ExecuteTime": {
     "end_time": "2020-07-17T12:45:36.233789Z",
     "start_time": "2020-07-17T12:45:36.227184Z"
    }
   },
   "outputs": [
    {
     "data": {
      "text/plain": [
       "(array(['BROOD', 'CULL'], dtype=object), array([33, 48]))"
      ]
     },
     "execution_count": 9,
     "metadata": {},
     "output_type": "execute_result"
    }
   ],
   "source": [
    "np.unique(X['Stock'], return_counts=True)"
   ]
  },
  {
   "cell_type": "code",
   "execution_count": 8,
   "metadata": {
    "ExecuteTime": {
     "end_time": "2020-07-17T12:44:37.102499Z",
     "start_time": "2020-07-17T12:44:37.095009Z"
    }
   },
   "outputs": [
    {
     "data": {
      "text/plain": [
       "0"
      ]
     },
     "execution_count": 8,
     "metadata": {},
     "output_type": "execute_result"
    }
   ],
   "source": [
    "# X.isnull().sum().sum() #==0"
   ]
  },
  {
   "cell_type": "code",
   "execution_count": 222,
   "metadata": {
    "ExecuteTime": {
     "end_time": "2020-07-06T14:41:23.975380Z",
     "start_time": "2020-07-06T14:41:23.973432Z"
    }
   },
   "outputs": [],
   "source": [
    "# Look at histogram of breeding values vs. class"
   ]
  },
  {
   "cell_type": "code",
   "execution_count": 223,
   "metadata": {
    "ExecuteTime": {
     "end_time": "2020-07-06T14:41:24.285457Z",
     "start_time": "2020-07-06T14:41:24.281304Z"
    }
   },
   "outputs": [],
   "source": [
    "import seaborn as sns"
   ]
  },
  {
   "cell_type": "code",
   "execution_count": 366,
   "metadata": {
    "ExecuteTime": {
     "end_time": "2020-07-06T15:35:22.242461Z",
     "start_time": "2020-07-06T15:35:22.141061Z"
    }
   },
   "outputs": [
    {
     "data": {
      "text/plain": [
       "<matplotlib.axes._subplots.AxesSubplot at 0x7f779255e7b8>"
      ]
     },
     "execution_count": 366,
     "metadata": {},
     "output_type": "execute_result"
    },
    {
     "data": {
      "image/png": "[encoded data removed]",
      "text/plain": [
       "<Figure size 432x288 with 1 Axes>"
      ]
     },
     "metadata": {
      "needs_background": "light"
     },
     "output_type": "display_data"
    }
   ],
   "source": [
    "sns.boxplot(x=\"Stock\", y=\"Breeding Value\", data=X, palette=\"vlag\")"
   ]
  },
  {
   "cell_type": "code",
   "execution_count": 367,
   "metadata": {
    "ExecuteTime": {
     "end_time": "2020-07-06T15:35:27.825356Z",
     "start_time": "2020-07-06T15:35:27.513633Z"
    }
   },
   "outputs": [
    {
     "data": {
      "image/png": "[encoded data removed]",
      "text/plain": [
       "<Figure size 432x288 with 1 Axes>"
      ]
     },
     "metadata": {
      "needs_background": "light"
     },
     "output_type": "display_data"
    }
   ],
   "source": [
    "ax = sns.distplot(a=X[X.Stock == 'CULL'][\"Breeding Value\"], bins=10, label='CULL')#, alpha=0.5)\n",
    "_ = sns.distplot(a=X[X.Stock == 'BROOD'][\"Breeding Value\"], bins=5, ax=ax, label='BROOD')#, alpha=0.5)\n",
    "_ = ax.legend()"
   ]
  },
  {
   "cell_type": "code",
   "execution_count": 368,
   "metadata": {
    "ExecuteTime": {
     "end_time": "2020-07-06T15:35:30.681563Z",
     "start_time": "2020-07-06T15:35:30.677658Z"
    }
   },
   "outputs": [],
   "source": [
    "# Appear to be disjoint so there is a discrete threshold being used it seems"
   ]
  },
  {
   "cell_type": "code",
   "execution_count": 369,
   "metadata": {
    "ExecuteTime": {
     "end_time": "2020-07-06T15:35:30.819420Z",
     "start_time": "2020-07-06T15:35:30.817337Z"
    }
   },
   "outputs": [],
   "source": [
    "# Lets try PLS to try to predict breeding value as a discrete value\n",
    "# Later can also do classification "
   ]
  },
  {
   "cell_type": "code",
   "execution_count": 370,
   "metadata": {
    "ExecuteTime": {
     "end_time": "2020-07-06T15:35:31.240162Z",
     "start_time": "2020-07-06T15:35:31.233487Z"
    }
   },
   "outputs": [
    {
     "data": {
      "text/plain": [
       "(81, 262)"
      ]
     },
     "execution_count": 370,
     "metadata": {},
     "output_type": "execute_result"
    }
   ],
   "source": [
    "X.shape"
   ]
  },
  {
   "cell_type": "code",
   "execution_count": 230,
   "metadata": {
    "ExecuteTime": {
     "end_time": "2020-07-06T14:41:29.799347Z",
     "start_time": "2020-07-06T14:41:29.797642Z"
    }
   },
   "outputs": [],
   "source": [
    "# https://nirpyresearch.com/partial-least-squares-regression-python/"
   ]
  },
  {
   "cell_type": "code",
   "execution_count": 372,
   "metadata": {
    "ExecuteTime": {
     "end_time": "2020-07-06T15:35:52.621962Z",
     "start_time": "2020-07-06T15:35:52.613409Z"
    }
   },
   "outputs": [],
   "source": [
    "original = X\n",
    "sorted_columns, cutoff = sort_columns(original)\n",
    "\n",
    "# raw = original.drop('Stock', axis=1).values\n",
    "y_ = original.Stock.values #raw[:,0]\n",
    "X_ = original[['_'.join((a,b)) for a,b in sorted_columns]].values #raw[:,1:]"
   ]
  },
  {
   "cell_type": "code",
   "execution_count": 373,
   "metadata": {
    "ExecuteTime": {
     "end_time": "2020-07-06T15:35:54.568466Z",
     "start_time": "2020-07-06T15:35:53.513842Z"
    }
   },
   "outputs": [
    {
     "data": {
      "image/png": "[encoded data removed]",
      "text/plain": [
       "<Figure size 432x288 with 1 Axes>"
      ]
     },
     "metadata": {
      "needs_background": "light"
     },
     "output_type": "display_data"
    },
    {
     "data": {
      "image/png": "[encoded data removed]",
      "text/plain": [
       "<Figure size 432x288 with 1 Axes>"
      ]
     },
     "metadata": {
      "needs_background": "light"
     },
     "output_type": "display_data"
    },
    {
     "data": {
      "image/png": "[encoded data removed]",
      "text/plain": [
       "<Figure size 432x288 with 1 Axes>"
      ]
     },
     "metadata": {
      "needs_background": "light"
     },
     "output_type": "display_data"
    },
    {
     "data": {
      "image/png": "[encoded data removed]",
      "text/plain": [
       "<Figure size 432x288 with 1 Axes>"
      ]
     },
     "metadata": {
      "needs_background": "light"
     },
     "output_type": "display_data"
    },
    {
     "data": {
      "image/png": "[encoded data removed]",
      "text/plain": [
       "<Figure size 432x288 with 1 Axes>"
      ]
     },
     "metadata": {
      "needs_background": "light"
     },
     "output_type": "display_data"
    },
    {
     "data": {
      "image/png": "[encoded data removed]",
      "text/plain": [
       "<Figure size 432x288 with 1 Axes>"
      ]
     },
     "metadata": {
      "needs_background": "light"
     },
     "output_type": "display_data"
    }
   ],
   "source": [
    "from scipy.signal import savgol_filter\n",
    "\n",
    "inspect_row = 0\n",
    "for idx in range(len(cutoff)):\n",
    "    start = cutoff[idx]\n",
    "    stop = cutoff[idx+1] if idx+1 < len(cutoff) else len(sorted_columns)\n",
    "    freq = [int(sorted_columns[i][1]) for i in range(start, stop)]\n",
    "    plt.figure()\n",
    "    y = X_[inspect_row,start:stop]\n",
    "    plt.plot(freq, y, 'o-', alpha=0.5)\n",
    "    for order in [0,1,2]:\n",
    "        y_sg = savgol_filter(y, 5, polyorder = 3, deriv=order, mode='nearest')\n",
    "        plt.plot(freq, y_sg, '--', label='order={}'.format(order), alpha=0.5)\n",
    "    plt.title(sorted_columns[start][0])\n",
    "    plt.legend(loc='best')"
   ]
  },
  {
   "cell_type": "code",
   "execution_count": 328,
   "metadata": {
    "ExecuteTime": {
     "end_time": "2020-07-06T15:27:06.699508Z",
     "start_time": "2020-07-06T15:27:06.694137Z"
    }
   },
   "outputs": [],
   "source": [
    "def savgol_chunk(X, cutoff, scale=True, deriv=1):\n",
    "    X = np.array(X) # in case\n",
    "    \n",
    "    X_filtered = []\n",
    "    for idx in range(len(cutoff)):\n",
    "        start = cutoff[idx]\n",
    "        stop = cutoff[idx+1] if idx+1 < len(cutoff) else X.shape[1]\n",
    "        y = savgol_filter(X[:,start:stop], \n",
    "                                      window_length=9, \n",
    "                                      polyorder=5, \n",
    "                                      deriv=deriv,\n",
    "                         mode='nearest')\n",
    "        if (scale):\n",
    "            y = StandardScaler().fit_transform(y)\n",
    "    \n",
    "        X_filtered.append(y)\n",
    "    \n",
    "    return np.hstack(X_filtered)\n",
    "    "
   ]
  },
  {
   "cell_type": "code",
   "execution_count": 342,
   "metadata": {
    "ExecuteTime": {
     "end_time": "2020-07-06T15:28:24.383347Z",
     "start_time": "2020-07-06T15:28:24.379936Z"
    }
   },
   "outputs": [],
   "source": [
    "X_f = savgol_chunk(X_, cutoff, scale=False, deriv=1)"
   ]
  },
  {
   "cell_type": "code",
   "execution_count": 343,
   "metadata": {
    "ExecuteTime": {
     "end_time": "2020-07-06T15:28:24.985536Z",
     "start_time": "2020-07-06T15:28:24.770347Z"
    }
   },
   "outputs": [
    {
     "data": {
      "image/png": "[encoded data removed]",
      "text/plain": [
       "<Figure size 432x288 with 1 Axes>"
      ]
     },
     "metadata": {
      "needs_background": "light"
     },
     "output_type": "display_data"
    }
   ],
   "source": [
    "for i in range(5):\n",
    "    plt.plot(X_f[i,:])"
   ]
  },
  {
   "cell_type": "code",
   "execution_count": 353,
   "metadata": {
    "ExecuteTime": {
     "end_time": "2020-07-06T15:29:07.637942Z",
     "start_time": "2020-07-06T15:29:07.616674Z"
    }
   },
   "outputs": [
    {
     "name": "stdout",
     "output_type": "stream",
     "text": [
      "0.05762778367288801 -1.1014612600940952\n"
     ]
    }
   ],
   "source": [
    "X_use_ = savgol_chunk(X_, cutoff, scale=True, deriv=1)\n",
    "y_use_ = original['Breeding Value'].values\n",
    "X_train, X_test, y_train, y_test = sklearn.model_selection.train_test_split(X_use_, \n",
    "                                                                            y_use_, \n",
    "                                                                            test_size=0.2, \n",
    "                                                                            random_state=0)\n",
    "\n",
    "pls = PLSRegression(n_components=5)\n",
    "pls.fit(X_train, y_train)\n",
    "\n",
    "print(r2_score(pls.predict(X_train), y_train), r2_score(pls.predict(X_test), y_test))"
   ]
  },
  {
   "cell_type": "code",
   "execution_count": 313,
   "metadata": {
    "ExecuteTime": {
     "end_time": "2020-07-06T15:21:09.438937Z",
     "start_time": "2020-07-06T15:21:09.280440Z"
    }
   },
   "outputs": [
    {
     "data": {
      "image/png": "[encoded data removed]",
      "text/plain": [
       "<Figure size 432x288 with 1 Axes>"
      ]
     },
     "metadata": {
      "needs_background": "light"
     },
     "output_type": "display_data"
    }
   ],
   "source": [
    "compare(pls, X_train, y_train, lim = 475)"
   ]
  },
  {
   "cell_type": "code",
   "execution_count": 314,
   "metadata": {
    "ExecuteTime": {
     "end_time": "2020-07-06T15:21:23.906510Z",
     "start_time": "2020-07-06T15:21:23.730948Z"
    }
   },
   "outputs": [
    {
     "data": {
      "image/png": "[encoded data removed]",
      "text/plain": [
       "<Figure size 432x288 with 1 Axes>"
      ]
     },
     "metadata": {
      "needs_background": "light"
     },
     "output_type": "display_data"
    }
   ],
   "source": [
    "compare(pls, X_test, y_test, lim = 475)"
   ]
  },
  {
   "cell_type": "code",
   "execution_count": null,
   "metadata": {},
   "outputs": [],
   "source": [
    "# should break up and do savgol filtering on each chunk (B0, B1, etc.)"
   ]
  },
  {
   "cell_type": "code",
   "execution_count": 113,
   "metadata": {
    "ExecuteTime": {
     "end_time": "2020-07-01T15:23:42.297798Z",
     "start_time": "2020-07-01T15:23:42.243875Z"
    }
   },
   "outputs": [
    {
     "name": "stdout",
     "output_type": "stream",
     "text": [
      "0.8812115162700812 -0.3666389758810422\n"
     ]
    }
   ],
   "source": [
    "from sklearn.cross_decomposition import PLSRegression\n",
    "from sklearn.metrics import mean_squared_error, r2_score\n",
    "from sklearn.model_selection import cross_val_predict\n",
    "from scipy.signal import savgol_filter\n",
    "from sklearn.preprocessing import StandardScaler\n",
    "import sklearn\n",
    "\n",
    "# Process data\n",
    "X_sg = savgol_filter(X, 9, polyorder = 5, deriv=1)\n",
    "X_std = StandardScaler().fit_transform(X_sg)\n",
    "\n",
    "X_train, X_test, y_train, y_test = sklearn.model_selection.train_test_split(X_std, y, test_size=0.2, \n",
    "                                                                           random_state=0)\n",
    "\n",
    "pls = PLSRegression(n_components=14)\n",
    "pls.fit(X_train, y_train)\n",
    "\n",
    "print(r2_score(pls.predict(X_train), y_train), r2_score(pls.predict(X_test), y_test))\n",
    "# mse = mean_squared_error(y, y_cv)"
   ]
  },
  {
   "cell_type": "code",
   "execution_count": 418,
   "metadata": {
    "ExecuteTime": {
     "end_time": "2020-07-06T18:31:31.528015Z",
     "start_time": "2020-07-06T18:31:31.520509Z"
    }
   },
   "outputs": [],
   "source": [
    "x_ = np.array(sorted(zip(np.arange(len(pls.coef_)), np.abs(pls.coef_)), key=lambda x:x[1], reverse=True))"
   ]
  },
  {
   "cell_type": "code",
   "execution_count": 423,
   "metadata": {
    "ExecuteTime": {
     "end_time": "2020-07-06T18:32:25.156234Z",
     "start_time": "2020-07-06T18:32:25.044442Z"
    }
   },
   "outputs": [
    {
     "data": {
      "text/plain": [
       "[<matplotlib.lines.Line2D at 0x7f77cb4891d0>]"
      ]
     },
     "execution_count": 423,
     "metadata": {},
     "output_type": "execute_result"
    },
    {
     "data": {
      "image/png": "[encoded data removed]",
      "text/plain": [
       "<Figure size 432x288 with 1 Axes>"
      ]
     },
     "metadata": {
      "needs_background": "light"
     },
     "output_type": "display_data"
    }
   ],
   "source": [
    "plt.plot([a[1][0] for a in x_], '.-')"
   ]
  },
  {
   "cell_type": "code",
   "execution_count": 114,
   "metadata": {
    "ExecuteTime": {
     "end_time": "2020-07-01T15:23:48.749986Z",
     "start_time": "2020-07-01T15:23:48.739421Z"
    }
   },
   "outputs": [
    {
     "data": {
      "text/plain": [
       "0.6087754611515399"
      ]
     },
     "execution_count": 114,
     "metadata": {},
     "output_type": "execute_result"
    }
   ],
   "source": [
    "pls.score(X_std, y)"
   ]
  },
  {
   "cell_type": "code",
   "execution_count": 311,
   "metadata": {
    "ExecuteTime": {
     "end_time": "2020-07-06T15:20:12.995090Z",
     "start_time": "2020-07-06T15:20:12.985386Z"
    }
   },
   "outputs": [],
   "source": [
    "import matplotlib.pyplot as plt\n",
    "%matplotlib inline\n",
    "def compare(model, X, y, lim = 475):\n",
    "    plt.plot(model.predict(X[y < lim]), y[y < lim], '.', color='r', label='CULL')\n",
    "    plt.plot(model.predict(X[y >= lim]), y[y >= lim], '.', color='b', label='BROOD')\n",
    "\n",
    "    plt.axis('equal')\n",
    "    x_ = np.linspace(-200, 800, 100)\n",
    "    plt.plot(x_, x_)\n",
    "    plt.xlabel('Predicted')\n",
    "    plt.ylabel('Actual')\n",
    "    plt.legend(loc='best')\n",
    "    plt.title('Breeding Value')"
   ]
  },
  {
   "cell_type": "code",
   "execution_count": 118,
   "metadata": {
    "ExecuteTime": {
     "end_time": "2020-07-01T15:24:06.048385Z",
     "start_time": "2020-07-01T15:24:05.743733Z"
    }
   },
   "outputs": [
    {
     "data": {
      "image/png": "[encoded data removed]",
      "text/plain": [
       "<Figure size 432x288 with 1 Axes>"
      ]
     },
     "metadata": {
      "needs_background": "light"
     },
     "output_type": "display_data"
    }
   ],
   "source": [
    "compare(pls, X_std, y)"
   ]
  },
  {
   "cell_type": "code",
   "execution_count": 393,
   "metadata": {
    "ExecuteTime": {
     "end_time": "2020-07-06T15:51:41.149169Z",
     "start_time": "2020-07-06T15:50:54.567216Z"
    }
   },
   "outputs": [],
   "source": [
    "# Nested CV to estimate generalization error\n",
    "# Not much data, so don't do test/train split, just do CV\n",
    "\n",
    "import sklearn\n",
    "import copy\n",
    "from sklearn.pipeline import Pipeline\n",
    "\n",
    "# Extract data and split columns up into diff spectra\n",
    "X, y, cutoff = extract('Breeding Value')\n",
    "inner_k, outer_k = 3, 5\n",
    "\n",
    "def prepend_(name, cv_grid): \n",
    "    return {name+'__'+k:v for k,v in copy.copy(cv_grid).items()}\n",
    "    \n",
    "class SavGolWrapper:\n",
    "    def __init__(self, **kwargs):\n",
    "        self.set_params(**kwargs)\n",
    "        \n",
    "    def set_params(self, **kwargs):\n",
    "        self.__params = kwargs\n",
    "        \n",
    "    def transform(self, X):\n",
    "#         return savgol_filter(X, **self.__params)\n",
    "    \n",
    "        cutoff = self.__params['cutoff']\n",
    "        savgol_params = copy.copy(self.__params)\n",
    "        del(savgol_params['cutoff'])\n",
    "        X_filtered = []\n",
    "        for idx in range(len(cutoff)):\n",
    "            start = cutoff[idx]\n",
    "            stop = cutoff[idx+1] if idx+1 < len(cutoff) else X.shape[1]\n",
    "            y = savgol_filter(X[:, start:stop], **savgol_params)\n",
    "            X_filtered.append(y)\n",
    "\n",
    "        return np.hstack(X_filtered)\n",
    "    \n",
    "    def fit(self, X, y):\n",
    "        return self\n",
    "         \n",
    "steps = [('Filter', SavGolWrapper(**{'polyorder':1, \n",
    "                                     'window_length':5, \n",
    "                                     'deriv':1, \n",
    "                                     'mode':'nearest'})),\n",
    "         ('StandardScaler', StandardScaler()), \n",
    "         ('PLS', PLSRegression(n_components=1))]\n",
    "\n",
    "filter_grid = {'polyorder':[1,2], 'window_length':[3,5,7], 'deriv':[0,1,2], 'cutoff':[cutoff]}\n",
    "pls_grid = {'n_components':np.arange(1,5+1)}\n",
    "\n",
    "inner_cv = sklearn.model_selection.KFold(n_splits=inner_k, shuffle=True, random_state=0)\n",
    "outer_cv = sklearn.model_selection.KFold(n_splits=outer_k, shuffle=True, random_state=1)\n",
    "    \n",
    "pipeline = Pipeline(steps)\n",
    "clf = sklearn.model_selection.GridSearchCV(estimator=pipeline,\n",
    "                                       param_grid={**prepend_('Filter', filter_grid),\n",
    "                                                   **prepend_('PLS', pls_grid)}, \n",
    "                                       cv=inner_cv,\n",
    "                                       iid=False,\n",
    "                                       n_jobs=-1)\n",
    "\n",
    "nested_scores = sklearn.model_selection.cross_val_score(clf,\n",
    "                                                        X=X, \n",
    "                                                        y=y, \n",
    "                                                        cv=outer_cv, \n",
    "                                                        n_jobs=1)"
   ]
  },
  {
   "cell_type": "code",
   "execution_count": 394,
   "metadata": {
    "ExecuteTime": {
     "end_time": "2020-07-06T15:53:46.471693Z",
     "start_time": "2020-07-06T15:53:46.465905Z"
    }
   },
   "outputs": [
    {
     "data": {
      "text/plain": [
       "-0.05790401793934887"
      ]
     },
     "execution_count": 394,
     "metadata": {},
     "output_type": "execute_result"
    }
   ],
   "source": [
    "np.mean(nested_scores) # Not good at regression (worse than just perdicting the mean blindly)"
   ]
  },
  {
   "cell_type": "code",
   "execution_count": 395,
   "metadata": {
    "ExecuteTime": {
     "end_time": "2020-07-06T15:54:01.127167Z",
     "start_time": "2020-07-06T15:53:53.793240Z"
    }
   },
   "outputs": [
    {
     "data": {
      "text/plain": [
       "GridSearchCV(cv=KFold(n_splits=3, random_state=0, shuffle=True),\n",
       "             error_score='raise-deprecating',\n",
       "             estimator=Pipeline(memory=None,\n",
       "                                steps=[('Filter',\n",
       "                                        <__main__.SavGolWrapper object at 0x7f77a4075be0>),\n",
       "                                       ('StandardScaler',\n",
       "                                        StandardScaler(copy=True,\n",
       "                                                       with_mean=True,\n",
       "                                                       with_std=True)),\n",
       "                                       ('PLS',\n",
       "                                        PLSRegression(copy=True, max_iter=500,\n",
       "                                                      n_components=1,\n",
       "                                                      scale=True, tol=1e-06))],\n",
       "                                verbose=False),\n",
       "             iid=False, n_jobs=-1,\n",
       "             param_grid={'Filter__cutoff': [[0, 9, 43, 144, 191, 244]],\n",
       "                         'Filter__deriv': [0, 1, 2],\n",
       "                         'Filter__polyorder': [1, 2],\n",
       "                         'Filter__window_length': [3, 5, 7],\n",
       "                         'PLS__n_components': array([1, 2, 3, 4, 5])},\n",
       "             pre_dispatch='2*n_jobs', refit=True, return_train_score=False,\n",
       "             scoring=None, verbose=0)"
      ]
     },
     "execution_count": 395,
     "metadata": {},
     "output_type": "execute_result"
    }
   ],
   "source": [
    "clf.fit(X, y)"
   ]
  },
  {
   "cell_type": "code",
   "execution_count": 396,
   "metadata": {
    "ExecuteTime": {
     "end_time": "2020-07-06T15:54:07.164072Z",
     "start_time": "2020-07-06T15:54:07.158050Z"
    }
   },
   "outputs": [
    {
     "data": {
      "text/plain": [
       "{'Filter__cutoff': [0, 9, 43, 144, 191, 244],\n",
       " 'Filter__deriv': 2,\n",
       " 'Filter__polyorder': 2,\n",
       " 'Filter__window_length': 7,\n",
       " 'PLS__n_components': 2}"
      ]
     },
     "execution_count": 396,
     "metadata": {},
     "output_type": "execute_result"
    }
   ],
   "source": [
    "clf.best_params_"
   ]
  },
  {
   "cell_type": "code",
   "execution_count": 397,
   "metadata": {
    "ExecuteTime": {
     "end_time": "2020-07-06T15:54:10.759280Z",
     "start_time": "2020-07-06T15:54:10.497556Z"
    }
   },
   "outputs": [
    {
     "data": {
      "image/png": "[encoded data removed]",
      "text/plain": [
       "<Figure size 432x288 with 1 Axes>"
      ]
     },
     "metadata": {
      "needs_background": "light"
     },
     "output_type": "display_data"
    }
   ],
   "source": [
    "compare(clf, X, y)"
   ]
  },
  {
   "cell_type": "code",
   "execution_count": 398,
   "metadata": {
    "ExecuteTime": {
     "end_time": "2020-07-06T15:55:27.551941Z",
     "start_time": "2020-07-06T15:55:27.547752Z"
    }
   },
   "outputs": [],
   "source": [
    "from sklearn.decomposition import PCA, KernelPCA"
   ]
  },
  {
   "cell_type": "code",
   "execution_count": 44,
   "metadata": {
    "ExecuteTime": {
     "end_time": "2020-07-01T14:51:04.056891Z",
     "start_time": "2020-07-01T14:51:04.049875Z"
    }
   },
   "outputs": [],
   "source": [
    "raw = original.drop('Breeding Value', axis=1).values\n",
    "X = raw[:,1:]\n",
    "y = raw[:,0]"
   ]
  },
  {
   "cell_type": "code",
   "execution_count": 45,
   "metadata": {
    "ExecuteTime": {
     "end_time": "2020-07-01T14:51:04.425763Z",
     "start_time": "2020-07-01T14:51:04.422258Z"
    }
   },
   "outputs": [
    {
     "data": {
      "text/plain": [
       "array(['CULL', 'CULL', 'CULL', 'CULL', 'CULL', 'CULL', 'CULL', 'CULL',\n",
       "       'CULL', 'CULL', 'CULL', 'CULL', 'CULL', 'CULL', 'CULL', 'CULL',\n",
       "       'CULL', 'CULL', 'CULL', 'CULL', 'CULL', 'CULL', 'CULL', 'CULL',\n",
       "       'BROOD', 'BROOD', 'BROOD', 'BROOD', 'BROOD', 'BROOD', 'BROOD',\n",
       "       'BROOD', 'BROOD', 'BROOD', 'BROOD', 'BROOD', 'BROOD', 'CULL',\n",
       "       'CULL', 'CULL', 'CULL', 'CULL', 'CULL', 'CULL', 'CULL', 'CULL',\n",
       "       'CULL', 'CULL', 'CULL', 'CULL', 'CULL', 'CULL', 'CULL', 'CULL',\n",
       "       'CULL', 'CULL', 'CULL', 'CULL', 'CULL', 'CULL', 'CULL', 'BROOD',\n",
       "       'BROOD', 'BROOD', 'BROOD', 'BROOD', 'BROOD', 'BROOD', 'BROOD',\n",
       "       'BROOD', 'BROOD', 'BROOD', 'BROOD', 'BROOD', 'BROOD', 'BROOD',\n",
       "       'BROOD', 'BROOD', 'BROOD', 'BROOD', 'BROOD'], dtype=object)"
      ]
     },
     "execution_count": 45,
     "metadata": {},
     "output_type": "execute_result"
    }
   ],
   "source": [
    "y"
   ]
  },
  {
   "cell_type": "code",
   "execution_count": 46,
   "metadata": {
    "ExecuteTime": {
     "end_time": "2020-07-01T14:51:05.721939Z",
     "start_time": "2020-07-01T14:51:05.527091Z"
    }
   },
   "outputs": [
    {
     "data": {
      "text/plain": [
       "KernelPCA(alpha=1.0, coef0=1, copy_X=True, degree=3, eigen_solver='auto',\n",
       "          fit_inverse_transform=False, gamma=None, kernel='cosine',\n",
       "          kernel_params=None, max_iter=None, n_components=2, n_jobs=None,\n",
       "          random_state=None, remove_zero_eig=False, tol=0)"
      ]
     },
     "execution_count": 46,
     "metadata": {},
     "output_type": "execute_result"
    }
   ],
   "source": [
    "p = KernelPCA(n_components=2, kernel='cosine')\n",
    "X_std = StandardScaler().fit_transform(X)\n",
    "p.fit(X_std,y)"
   ]
  },
  {
   "cell_type": "code",
   "execution_count": 47,
   "metadata": {
    "ExecuteTime": {
     "end_time": "2020-07-01T14:51:06.915410Z",
     "start_time": "2020-07-01T14:51:06.913672Z"
    }
   },
   "outputs": [],
   "source": [
    "# p.explained_variance_ratio_"
   ]
  },
  {
   "cell_type": "code",
   "execution_count": 48,
   "metadata": {
    "ExecuteTime": {
     "end_time": "2020-07-01T14:51:13.094867Z",
     "start_time": "2020-07-01T14:51:13.077941Z"
    }
   },
   "outputs": [],
   "source": [
    "X_tr = p.transform(X_std)"
   ]
  },
  {
   "cell_type": "code",
   "execution_count": 69,
   "metadata": {
    "ExecuteTime": {
     "end_time": "2020-07-01T15:13:03.415517Z",
     "start_time": "2020-07-01T15:13:03.154136Z"
    }
   },
   "outputs": [
    {
     "data": {
      "text/plain": [
       "<matplotlib.legend.Legend at 0x7f77a4123e10>"
      ]
     },
     "execution_count": 69,
     "metadata": {},
     "output_type": "execute_result"
    },
    {
     "data": {
      "image/png": "[encoded data removed]",
      "text/plain": [
       "<Figure size 432x288 with 1 Axes>"
      ]
     },
     "metadata": {
      "needs_background": "light"
     },
     "output_type": "display_data"
    }
   ],
   "source": [
    "plt.plot(X_tr[y=='BROOD'][:,0], X_tr[y=='BROOD'][:,1], '.', color='r', label='BROOD')\n",
    "plt.plot(X_tr[y=='CULL'][:,0], X_tr[y=='CULL'][:,1], '.', color='b', label='CULL')\n",
    "plt.xlabel('PC 1')\n",
    "plt.ylabel('PC 2')\n",
    "plt.legend(loc='best')"
   ]
  },
  {
   "cell_type": "code",
   "execution_count": 50,
   "metadata": {
    "ExecuteTime": {
     "end_time": "2020-07-01T14:51:47.158990Z",
     "start_time": "2020-07-01T14:51:47.154713Z"
    }
   },
   "outputs": [],
   "source": [
    "from sklearn.linear_model import LogisticRegression"
   ]
  },
  {
   "cell_type": "code",
   "execution_count": 401,
   "metadata": {
    "ExecuteTime": {
     "end_time": "2020-07-06T16:21:42.434823Z",
     "start_time": "2020-07-06T15:57:23.646351Z"
    }
   },
   "outputs": [],
   "source": [
    "X, y, cutoff = extract('Stock')\n",
    "    \n",
    "steps = [('Filter', SavGolWrapper(**{'polyorder':1, 'window_length':5, 'deriv':1})),\n",
    "         ('StandardScaler', StandardScaler()), \n",
    "         ('KernelPCA', KernelPCA()),\n",
    "         ('LR', LogisticRegression())]\n",
    "\n",
    "filter_grid = {'polyorder':[1,2,3], 'window_length':[5,7,9], 'deriv':[0,1,2], 'cutoff':[cutoff]}\n",
    "kpca_grid = {'n_components':[1,3,5,7,9], 'kernel':['cosine', 'linear', 'poly', 'rbf', 'sigmoid'],\n",
    "            'degree':[3,5,7], 'coef0':np.linspace(0,1,3)}\n",
    "lr_grid = {'penalty':['none'], 'solver':['lbfgs'], 'class_weight':['balanced', None],\n",
    "          'multi_class':['ovr'], 'max_iter':[500]}\n",
    "\n",
    "inner_k, outer_k = 5, 5\n",
    "inner_cv = sklearn.model_selection.KFold(n_splits=inner_k, shuffle=True, random_state=0)\n",
    "outer_cv = sklearn.model_selection.KFold(n_splits=outer_k, shuffle=True, random_state=1)\n",
    "    \n",
    "pipeline = Pipeline(steps)\n",
    "clf = sklearn.model_selection.GridSearchCV(estimator=pipeline,\n",
    "                                       param_grid={**prepend_('Filter', filter_grid),\n",
    "                                                   **prepend_('KernelPCA', kpca_grid),\n",
    "                                                   **prepend_('LR', lr_grid)}, \n",
    "                                       cv=inner_cv,\n",
    "                                       iid=False,\n",
    "                                       n_jobs=-1)\n",
    "\n",
    "nested_scores = sklearn.model_selection.cross_val_score(clf,\n",
    "                                                        X=X, \n",
    "                                                        y=y, \n",
    "                                                        cv=outer_cv, \n",
    "                                                        n_jobs=1)"
   ]
  },
  {
   "cell_type": "code",
   "execution_count": 402,
   "metadata": {
    "ExecuteTime": {
     "end_time": "2020-07-06T16:24:45.758829Z",
     "start_time": "2020-07-06T16:24:45.754005Z"
    }
   },
   "outputs": [
    {
     "data": {
      "text/plain": [
       "array([0.70588235, 0.875     , 0.875     , 0.75      , 0.875     ])"
      ]
     },
     "execution_count": 402,
     "metadata": {},
     "output_type": "execute_result"
    }
   ],
   "source": [
    "nested_scores"
   ]
  },
  {
   "cell_type": "code",
   "execution_count": 403,
   "metadata": {
    "ExecuteTime": {
     "end_time": "2020-07-06T16:24:52.316409Z",
     "start_time": "2020-07-06T16:24:52.310133Z"
    }
   },
   "outputs": [
    {
     "data": {
      "text/plain": [
       "0.8161764705882353"
      ]
     },
     "execution_count": 403,
     "metadata": {},
     "output_type": "execute_result"
    }
   ],
   "source": [
    "np.mean(nested_scores)"
   ]
  },
  {
   "cell_type": "code",
   "execution_count": 404,
   "metadata": {
    "ExecuteTime": {
     "end_time": "2020-07-06T16:24:57.952889Z",
     "start_time": "2020-07-06T16:24:57.946501Z"
    }
   },
   "outputs": [
    {
     "data": {
      "text/plain": [
       "0.07338220558749792"
      ]
     },
     "execution_count": 404,
     "metadata": {},
     "output_type": "execute_result"
    }
   ],
   "source": [
    "np.std(nested_scores)"
   ]
  },
  {
   "cell_type": "code",
   "execution_count": 405,
   "metadata": {
    "ExecuteTime": {
     "end_time": "2020-07-06T16:34:03.345941Z",
     "start_time": "2020-07-06T16:25:00.424813Z"
    }
   },
   "outputs": [
    {
     "data": {
      "text/plain": [
       "GridSearchCV(cv=KFold(n_splits=5, random_state=0, shuffle=True),\n",
       "             error_score='raise-deprecating',\n",
       "             estimator=Pipeline(memory=None,\n",
       "                                steps=[('Filter',\n",
       "                                        <__main__.SavGolWrapper object at 0x7f77d56dc6d8>),\n",
       "                                       ('StandardScaler',\n",
       "                                        StandardScaler(copy=True,\n",
       "                                                       with_mean=True,\n",
       "                                                       with_std=True)),\n",
       "                                       ('KernelPCA',\n",
       "                                        KernelPCA(alpha=1.0, coef0=1,\n",
       "                                                  copy_X=True, degree=3,\n",
       "                                                  eigen_solver='auto',\n",
       "                                                  fit_...\n",
       "                         'KernelPCA__coef0': array([0. , 0.5, 1. ]),\n",
       "                         'KernelPCA__degree': [3, 5, 7],\n",
       "                         'KernelPCA__kernel': ['cosine', 'linear', 'poly',\n",
       "                                               'rbf', 'sigmoid'],\n",
       "                         'KernelPCA__n_components': [1, 3, 5, 7, 9],\n",
       "                         'LR__class_weight': ['balanced', None],\n",
       "                         'LR__max_iter': [500], 'LR__multi_class': ['ovr'],\n",
       "                         'LR__penalty': ['none'], 'LR__solver': ['lbfgs']},\n",
       "             pre_dispatch='2*n_jobs', refit=True, return_train_score=False,\n",
       "             scoring=None, verbose=0)"
      ]
     },
     "execution_count": 405,
     "metadata": {},
     "output_type": "execute_result"
    }
   ],
   "source": [
    "clf.fit(X,y)"
   ]
  },
  {
   "cell_type": "code",
   "execution_count": 406,
   "metadata": {
    "ExecuteTime": {
     "end_time": "2020-07-06T16:34:03.353930Z",
     "start_time": "2020-07-06T16:34:03.347759Z"
    }
   },
   "outputs": [
    {
     "data": {
      "text/plain": [
       "{'Filter__cutoff': [0, 9, 43, 144, 191, 244],\n",
       " 'Filter__deriv': 1,\n",
       " 'Filter__polyorder': 3,\n",
       " 'Filter__window_length': 9,\n",
       " 'KernelPCA__coef0': 0.0,\n",
       " 'KernelPCA__degree': 3,\n",
       " 'KernelPCA__kernel': 'sigmoid',\n",
       " 'KernelPCA__n_components': 7,\n",
       " 'LR__class_weight': None,\n",
       " 'LR__max_iter': 500,\n",
       " 'LR__multi_class': 'ovr',\n",
       " 'LR__penalty': 'none',\n",
       " 'LR__solver': 'lbfgs'}"
      ]
     },
     "execution_count": 406,
     "metadata": {},
     "output_type": "execute_result"
    }
   ],
   "source": [
    "clf.best_params_"
   ]
  },
  {
   "cell_type": "code",
   "execution_count": 407,
   "metadata": {
    "ExecuteTime": {
     "end_time": "2020-07-06T16:34:03.456216Z",
     "start_time": "2020-07-06T16:34:03.355744Z"
    }
   },
   "outputs": [
    {
     "data": {
      "text/plain": [
       "0.8888888888888888"
      ]
     },
     "execution_count": 407,
     "metadata": {},
     "output_type": "execute_result"
    }
   ],
   "source": [
    "clf.score(X, y)"
   ]
  },
  {
   "cell_type": "code",
   "execution_count": 408,
   "metadata": {
    "ExecuteTime": {
     "end_time": "2020-07-06T16:34:03.717094Z",
     "start_time": "2020-07-06T16:34:03.458053Z"
    }
   },
   "outputs": [
    {
     "data": {
      "text/plain": [
       "Text(33.0, 0.5, 'Actual')"
      ]
     },
     "execution_count": 408,
     "metadata": {},
     "output_type": "execute_result"
    },
    {
     "data": {
      "image/png": "[encoded data removed]",
      "text/plain": [
       "<Figure size 432x288 with 2 Axes>"
      ]
     },
     "metadata": {
      "needs_background": "light"
     },
     "output_type": "display_data"
    }
   ],
   "source": [
    "cm = sklearn.metrics.confusion_matrix(y_true=y, y_pred=clf.predict(X))\n",
    "ax = sns.heatmap(cm, annot=True, xticklabels=clf.classes_, yticklabels=clf.classes_)\n",
    "ax.set_xlabel('Predicted')\n",
    "ax.set_ylabel(\"Actual\")"
   ]
  },
  {
   "cell_type": "code",
   "execution_count": 1,
   "metadata": {
    "ExecuteTime": {
     "end_time": "2020-07-13T17:23:41.606563Z",
     "start_time": "2020-07-13T17:23:41.600600Z"
    }
   },
   "outputs": [
    {
     "data": {
      "text/plain": [
       "0.8888888888888888"
      ]
     },
     "execution_count": 1,
     "metadata": {},
     "output_type": "execute_result"
    }
   ],
   "source": [
    "(28+44)/(28+44+4+5)"
   ]
  },
  {
   "cell_type": "code",
   "execution_count": null,
   "metadata": {},
   "outputs": [],
   "source": [
    "# weight, for lenght, sex differences\n",
    "# important features from PLS\n",
    "# brood vs brood control\n",
    "# RFECV with LARS Lasso\n",
    "# https://nirpyresearch.com/variable-selection-method-pls-python/\n",
    "# mutual information (pairwise)\n",
    "# Lasso regression\n",
    "# OMP\n",
    "# https://nirpyresearch.com/principal-component-selection-greedy-algorithm/"
   ]
  },
  {
   "cell_type": "code",
   "execution_count": 415,
   "metadata": {
    "ExecuteTime": {
     "end_time": "2020-07-06T18:26:35.445020Z",
     "start_time": "2020-07-06T18:26:35.440793Z"
    }
   },
   "outputs": [
    {
     "data": {
      "text/plain": [
       "KernelPCA(alpha=1.0, coef0=0.0, copy_X=True, degree=3, eigen_solver='auto',\n",
       "          fit_inverse_transform=False, gamma=None, kernel='sigmoid',\n",
       "          kernel_params=None, max_iter=None, n_components=7, n_jobs=None,\n",
       "          random_state=None, remove_zero_eig=False, tol=0)"
      ]
     },
     "execution_count": 415,
     "metadata": {},
     "output_type": "execute_result"
    }
   ],
   "source": [
    "clf.best_estimator_.steps[2][1]"
   ]
  },
  {
   "cell_type": "code",
   "execution_count": null,
   "metadata": {},
   "outputs": [],
   "source": []
  }
 ],
 "metadata": {
  "kernelspec": {
   "display_name": "Python 3",
   "language": "python",
   "name": "python3"
  },
  "language_info": {
   "codemirror_mode": {
    "name": "ipython",
    "version": 3
   },
   "file_extension": ".py",
   "mimetype": "text/x-python",
   "name": "python",
   "nbconvert_exporter": "python",
   "pygments_lexer": "ipython3",
   "version": "3.7.3"
  },
  "toc": {
   "base_numbering": 1,
   "nav_menu": {},
   "number_sections": true,
   "sideBar": false,
   "skip_h1_title": false,
   "title_cell": "Table of Contents",
   "title_sidebar": "Contents",
   "toc_cell": false,
   "toc_position": {
    "height": "782px",
    "left": "29px",
    "top": "111.133px",
    "width": "165px"
   },
   "toc_section_display": true,
   "toc_window_display": true
  }
 },
 "nbformat": 4,
 "nbformat_minor": 4
}
