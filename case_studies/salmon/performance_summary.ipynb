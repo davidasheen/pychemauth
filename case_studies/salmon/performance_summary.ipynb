{
 "cells": [
  {
   "cell_type": "code",
   "execution_count": 1,
   "metadata": {
    "ExecuteTime": {
     "end_time": "2020-08-11T14:06:10.652848Z",
     "start_time": "2020-08-11T14:06:10.644567Z"
    }
   },
   "outputs": [],
   "source": [
    "%load_ext autoreload\n",
    "%autoreload 2"
   ]
  },
  {
   "cell_type": "code",
   "execution_count": 2,
   "metadata": {
    "ExecuteTime": {
     "end_time": "2020-08-11T14:06:11.443658Z",
     "start_time": "2020-08-11T14:06:10.800287Z"
    }
   },
   "outputs": [],
   "source": [
    "import numpy as np\n",
    "import pandas as pd\n",
    "import pickle\n",
    "import sys\n",
    "sys.path.append('/home/nam4/Desktop/sandbox/')\n",
    "import ml_inspector"
   ]
  },
  {
   "cell_type": "code",
   "execution_count": null,
   "metadata": {},
   "outputs": [],
   "source": [
    "# TODO: Optimize pipelines below using GridSearchCV with MY CODE (opt-sklearn-pipe)"
   ]
  },
  {
   "cell_type": "markdown",
   "metadata": {
    "ExecuteTime": {
     "end_time": "2020-08-11T16:50:37.106839Z",
     "start_time": "2020-08-11T16:50:37.088285Z"
    }
   },
   "source": [
    "# Classification"
   ]
  },
  {
   "cell_type": "code",
   "execution_count": 18,
   "metadata": {
    "ExecuteTime": {
     "end_time": "2020-08-11T14:14:17.559609Z",
     "start_time": "2020-08-11T14:14:15.435858Z"
    }
   },
   "outputs": [],
   "source": [
    "head = 'classification/vanilla/3/'\n",
    "m = pickle.load(open('{}/fitted_model.pkl'.format(head), 'rb'))\n",
    "x_test = pickle.load(open('{}/X_test.pkl'.format(head), 'rb'))\n",
    "y_test = pickle.load(open('{}/y_test.pkl'.format(head), 'rb'))\n",
    "x_train = pickle.load(open('{}/X_train.pkl'.format(head), 'rb'))\n",
    "y_train = pickle.load(open('{}/y_train.pkl'.format(head), 'rb'))"
   ]
  },
  {
   "cell_type": "code",
   "execution_count": 19,
   "metadata": {
    "ExecuteTime": {
     "end_time": "2020-08-11T14:14:19.280072Z",
     "start_time": "2020-08-11T14:14:19.242947Z"
    }
   },
   "outputs": [
    {
     "data": {
      "text/plain": [
       "0.7647058823529411"
      ]
     },
     "execution_count": 19,
     "metadata": {},
     "output_type": "execute_result"
    }
   ],
   "source": [
    "m.score(x_test, y_test) # not very good"
   ]
  },
  {
   "cell_type": "code",
   "execution_count": 20,
   "metadata": {
    "ExecuteTime": {
     "end_time": "2020-08-11T14:14:19.936296Z",
     "start_time": "2020-08-11T14:14:19.918466Z"
    }
   },
   "outputs": [
    {
     "data": {
      "text/plain": [
       "0.984375"
      ]
     },
     "execution_count": 20,
     "metadata": {},
     "output_type": "execute_result"
    }
   ],
   "source": [
    "m.score(x_train, y_train) # surprisingly good"
   ]
  },
  {
   "cell_type": "code",
   "execution_count": 22,
   "metadata": {
    "ExecuteTime": {
     "end_time": "2020-08-11T14:15:12.590285Z",
     "start_time": "2020-08-11T14:15:10.042346Z"
    }
   },
   "outputs": [],
   "source": [
    "cv_res = pd.DataFrame(m.cv_results_)"
   ]
  },
  {
   "cell_type": "code",
   "execution_count": 108,
   "metadata": {
    "ExecuteTime": {
     "end_time": "2020-08-11T15:10:55.127196Z",
     "start_time": "2020-08-11T15:10:55.065977Z"
    },
    "scrolled": true
   },
   "outputs": [
    {
     "data": {
      "text/plain": [
       "(array(['MLPClassifier', 'bernoulli_nb', 'extra_trees', 'liblinear_svc',\n",
       "        'passive_aggressive', 'random_forest', 'sgd'], dtype=object),\n",
       " array([    2,     1,     1,     1, 12974,     2,    19]))"
      ]
     },
     "execution_count": 108,
     "metadata": {},
     "output_type": "execute_result"
    }
   ],
   "source": [
    "np.unique(cv_res.sort_values(['mean_test_score'], ascending=False)['param_classifier:__choice__'].head(13000), return_counts=True)\n",
    "# most of models that are best are passive aggressive"
   ]
  },
  {
   "cell_type": "code",
   "execution_count": 109,
   "metadata": {
    "ExecuteTime": {
     "end_time": "2020-08-11T15:11:17.181267Z",
     "start_time": "2020-08-11T15:11:17.160728Z"
    }
   },
   "outputs": [],
   "source": [
    "all_models = cv_res['param_classifier:__choice__'].unique()"
   ]
  },
  {
   "cell_type": "code",
   "execution_count": 110,
   "metadata": {
    "ExecuteTime": {
     "end_time": "2020-08-11T15:11:24.043451Z",
     "start_time": "2020-08-11T15:11:23.608655Z"
    },
    "scrolled": true
   },
   "outputs": [],
   "source": [
    "top = None\n",
    "for model in all_models:\n",
    "    x = cv_res[cv_res['param_classifier:__choice__'] == model].sort_values(['mean_test_score'], ascending=False).head(1)\n",
    "    if top is None:\n",
    "        top = x\n",
    "    else:\n",
    "        top = pd.concat((top, x), ignore_index=True)"
   ]
  },
  {
   "cell_type": "code",
   "execution_count": 111,
   "metadata": {
    "ExecuteTime": {
     "end_time": "2020-08-11T15:11:27.644051Z",
     "start_time": "2020-08-11T15:11:27.603758Z"
    },
    "scrolled": true
   },
   "outputs": [
    {
     "data": {
      "text/html": [
       "<div>\n",
       "<style scoped>\n",
       "    .dataframe tbody tr th:only-of-type {\n",
       "        vertical-align: middle;\n",
       "    }\n",
       "\n",
       "    .dataframe tbody tr th {\n",
       "        vertical-align: top;\n",
       "    }\n",
       "\n",
       "    .dataframe thead th {\n",
       "        text-align: right;\n",
       "    }\n",
       "</style>\n",
       "<table border=\"1\" class=\"dataframe\">\n",
       "  <thead>\n",
       "    <tr style=\"text-align: right;\">\n",
       "      <th></th>\n",
       "      <th>mean_test_score</th>\n",
       "      <th>mean_fit_time</th>\n",
       "      <th>params</th>\n",
       "      <th>rank_test_scores</th>\n",
       "      <th>status</th>\n",
       "      <th>budgets</th>\n",
       "      <th>param_balancing:strategy</th>\n",
       "      <th>param_classifier:__choice__</th>\n",
       "      <th>param_data_preprocessing:categorical_transformer:categorical_encoding:__choice__</th>\n",
       "      <th>param_data_preprocessing:categorical_transformer:category_coalescence:__choice__</th>\n",
       "      <th>...</th>\n",
       "      <th>param_feature_preprocessor:RFE:svc_loss</th>\n",
       "      <th>param_feature_preprocessor:RFE:svc_penalty</th>\n",
       "      <th>param_feature_preprocessor:fast_ica:n_components</th>\n",
       "      <th>param_feature_preprocessor:kernel_pca:coef0</th>\n",
       "      <th>param_feature_preprocessor:kernel_pca:degree</th>\n",
       "      <th>param_feature_preprocessor:kernel_pca:gamma</th>\n",
       "      <th>param_feature_preprocessor:nystroem_sampler:coef0</th>\n",
       "      <th>param_feature_preprocessor:nystroem_sampler:degree</th>\n",
       "      <th>param_feature_preprocessor:nystroem_sampler:gamma</th>\n",
       "      <th>param_feature_preprocessor:RFE:lr_intercept_scaling</th>\n",
       "    </tr>\n",
       "  </thead>\n",
       "  <tbody>\n",
       "    <tr>\n",
       "      <th>2</th>\n",
       "      <td>0.968750</td>\n",
       "      <td>8.256669</td>\n",
       "      <td>{'balancing:strategy': 'weighting', 'classifie...</td>\n",
       "      <td>1</td>\n",
       "      <td>Success</td>\n",
       "      <td>0.0</td>\n",
       "      <td>weighting</td>\n",
       "      <td>passive_aggressive</td>\n",
       "      <td>one_hot_encoding</td>\n",
       "      <td>minority_coalescer</td>\n",
       "      <td>...</td>\n",
       "      <td>NaN</td>\n",
       "      <td>NaN</td>\n",
       "      <td>NaN</td>\n",
       "      <td>NaN</td>\n",
       "      <td>NaN</td>\n",
       "      <td>NaN</td>\n",
       "      <td>NaN</td>\n",
       "      <td>NaN</td>\n",
       "      <td>NaN</td>\n",
       "      <td>NaN</td>\n",
       "    </tr>\n",
       "    <tr>\n",
       "      <th>8</th>\n",
       "      <td>0.937500</td>\n",
       "      <td>7.337642</td>\n",
       "      <td>{'balancing:strategy': 'none', 'classifier:__c...</td>\n",
       "      <td>12306</td>\n",
       "      <td>Success</td>\n",
       "      <td>0.0</td>\n",
       "      <td>none</td>\n",
       "      <td>sgd</td>\n",
       "      <td>no_encoding</td>\n",
       "      <td>minority_coalescer</td>\n",
       "      <td>...</td>\n",
       "      <td>NaN</td>\n",
       "      <td>NaN</td>\n",
       "      <td>NaN</td>\n",
       "      <td>NaN</td>\n",
       "      <td>NaN</td>\n",
       "      <td>NaN</td>\n",
       "      <td>NaN</td>\n",
       "      <td>NaN</td>\n",
       "      <td>NaN</td>\n",
       "      <td>NaN</td>\n",
       "    </tr>\n",
       "    <tr>\n",
       "      <th>0</th>\n",
       "      <td>0.921875</td>\n",
       "      <td>26.538084</td>\n",
       "      <td>{'balancing:strategy': 'none', 'classifier:__c...</td>\n",
       "      <td>12543</td>\n",
       "      <td>Success</td>\n",
       "      <td>0.0</td>\n",
       "      <td>none</td>\n",
       "      <td>random_forest</td>\n",
       "      <td>one_hot_encoding</td>\n",
       "      <td>no_coalescense</td>\n",
       "      <td>...</td>\n",
       "      <td>NaN</td>\n",
       "      <td>NaN</td>\n",
       "      <td>NaN</td>\n",
       "      <td>NaN</td>\n",
       "      <td>NaN</td>\n",
       "      <td>NaN</td>\n",
       "      <td>NaN</td>\n",
       "      <td>NaN</td>\n",
       "      <td>NaN</td>\n",
       "      <td>NaN</td>\n",
       "    </tr>\n",
       "    <tr>\n",
       "      <th>1</th>\n",
       "      <td>0.921875</td>\n",
       "      <td>40.495477</td>\n",
       "      <td>{'balancing:strategy': 'weighting', 'classifie...</td>\n",
       "      <td>12543</td>\n",
       "      <td>Success</td>\n",
       "      <td>0.0</td>\n",
       "      <td>weighting</td>\n",
       "      <td>lda</td>\n",
       "      <td>no_encoding</td>\n",
       "      <td>no_coalescense</td>\n",
       "      <td>...</td>\n",
       "      <td>NaN</td>\n",
       "      <td>NaN</td>\n",
       "      <td>NaN</td>\n",
       "      <td>NaN</td>\n",
       "      <td>NaN</td>\n",
       "      <td>NaN</td>\n",
       "      <td>NaN</td>\n",
       "      <td>NaN</td>\n",
       "      <td>NaN</td>\n",
       "      <td>NaN</td>\n",
       "    </tr>\n",
       "    <tr>\n",
       "      <th>3</th>\n",
       "      <td>0.921875</td>\n",
       "      <td>26.211239</td>\n",
       "      <td>{'balancing:strategy': 'weighting', 'classifie...</td>\n",
       "      <td>12543</td>\n",
       "      <td>Success</td>\n",
       "      <td>0.0</td>\n",
       "      <td>weighting</td>\n",
       "      <td>extra_trees</td>\n",
       "      <td>no_encoding</td>\n",
       "      <td>no_coalescense</td>\n",
       "      <td>...</td>\n",
       "      <td>NaN</td>\n",
       "      <td>NaN</td>\n",
       "      <td>NaN</td>\n",
       "      <td>NaN</td>\n",
       "      <td>NaN</td>\n",
       "      <td>NaN</td>\n",
       "      <td>NaN</td>\n",
       "      <td>NaN</td>\n",
       "      <td>NaN</td>\n",
       "      <td>NaN</td>\n",
       "    </tr>\n",
       "    <tr>\n",
       "      <th>5</th>\n",
       "      <td>0.921875</td>\n",
       "      <td>20.974545</td>\n",
       "      <td>{'balancing:strategy': 'weighting', 'classifie...</td>\n",
       "      <td>12543</td>\n",
       "      <td>Success</td>\n",
       "      <td>0.0</td>\n",
       "      <td>weighting</td>\n",
       "      <td>k_nearest_neighbors</td>\n",
       "      <td>no_encoding</td>\n",
       "      <td>minority_coalescer</td>\n",
       "      <td>...</td>\n",
       "      <td>NaN</td>\n",
       "      <td>NaN</td>\n",
       "      <td>NaN</td>\n",
       "      <td>NaN</td>\n",
       "      <td>NaN</td>\n",
       "      <td>NaN</td>\n",
       "      <td>NaN</td>\n",
       "      <td>NaN</td>\n",
       "      <td>NaN</td>\n",
       "      <td>NaN</td>\n",
       "    </tr>\n",
       "    <tr>\n",
       "      <th>6</th>\n",
       "      <td>0.921875</td>\n",
       "      <td>21.159492</td>\n",
       "      <td>{'balancing:strategy': 'weighting', 'classifie...</td>\n",
       "      <td>12543</td>\n",
       "      <td>Success</td>\n",
       "      <td>0.0</td>\n",
       "      <td>weighting</td>\n",
       "      <td>bernoulli_nb</td>\n",
       "      <td>no_encoding</td>\n",
       "      <td>minority_coalescer</td>\n",
       "      <td>...</td>\n",
       "      <td>NaN</td>\n",
       "      <td>NaN</td>\n",
       "      <td>NaN</td>\n",
       "      <td>NaN</td>\n",
       "      <td>NaN</td>\n",
       "      <td>NaN</td>\n",
       "      <td>NaN</td>\n",
       "      <td>NaN</td>\n",
       "      <td>NaN</td>\n",
       "      <td>NaN</td>\n",
       "    </tr>\n",
       "    <tr>\n",
       "      <th>9</th>\n",
       "      <td>0.921875</td>\n",
       "      <td>16.839201</td>\n",
       "      <td>{'balancing:strategy': 'weighting', 'classifie...</td>\n",
       "      <td>12543</td>\n",
       "      <td>Success</td>\n",
       "      <td>0.0</td>\n",
       "      <td>weighting</td>\n",
       "      <td>libsvm_svc</td>\n",
       "      <td>no_encoding</td>\n",
       "      <td>no_coalescense</td>\n",
       "      <td>...</td>\n",
       "      <td>NaN</td>\n",
       "      <td>NaN</td>\n",
       "      <td>NaN</td>\n",
       "      <td>NaN</td>\n",
       "      <td>NaN</td>\n",
       "      <td>NaN</td>\n",
       "      <td>NaN</td>\n",
       "      <td>NaN</td>\n",
       "      <td>NaN</td>\n",
       "      <td>NaN</td>\n",
       "    </tr>\n",
       "    <tr>\n",
       "      <th>10</th>\n",
       "      <td>0.921875</td>\n",
       "      <td>79.389456</td>\n",
       "      <td>{'balancing:strategy': 'weighting', 'classifie...</td>\n",
       "      <td>12543</td>\n",
       "      <td>Success</td>\n",
       "      <td>0.0</td>\n",
       "      <td>weighting</td>\n",
       "      <td>MLPClassifier</td>\n",
       "      <td>one_hot_encoding</td>\n",
       "      <td>minority_coalescer</td>\n",
       "      <td>...</td>\n",
       "      <td>NaN</td>\n",
       "      <td>NaN</td>\n",
       "      <td>NaN</td>\n",
       "      <td>NaN</td>\n",
       "      <td>NaN</td>\n",
       "      <td>NaN</td>\n",
       "      <td>NaN</td>\n",
       "      <td>NaN</td>\n",
       "      <td>NaN</td>\n",
       "      <td>NaN</td>\n",
       "    </tr>\n",
       "    <tr>\n",
       "      <th>12</th>\n",
       "      <td>0.921875</td>\n",
       "      <td>20.875286</td>\n",
       "      <td>{'balancing:strategy': 'none', 'classifier:__c...</td>\n",
       "      <td>12543</td>\n",
       "      <td>Success</td>\n",
       "      <td>0.0</td>\n",
       "      <td>none</td>\n",
       "      <td>liblinear_svc</td>\n",
       "      <td>no_encoding</td>\n",
       "      <td>minority_coalescer</td>\n",
       "      <td>...</td>\n",
       "      <td>NaN</td>\n",
       "      <td>NaN</td>\n",
       "      <td>NaN</td>\n",
       "      <td>NaN</td>\n",
       "      <td>NaN</td>\n",
       "      <td>NaN</td>\n",
       "      <td>NaN</td>\n",
       "      <td>NaN</td>\n",
       "      <td>NaN</td>\n",
       "      <td>NaN</td>\n",
       "    </tr>\n",
       "    <tr>\n",
       "      <th>4</th>\n",
       "      <td>0.906250</td>\n",
       "      <td>5.555302</td>\n",
       "      <td>{'balancing:strategy': 'none', 'classifier:__c...</td>\n",
       "      <td>13432</td>\n",
       "      <td>Success</td>\n",
       "      <td>0.0</td>\n",
       "      <td>none</td>\n",
       "      <td>adaboost</td>\n",
       "      <td>one_hot_encoding</td>\n",
       "      <td>no_coalescense</td>\n",
       "      <td>...</td>\n",
       "      <td>NaN</td>\n",
       "      <td>NaN</td>\n",
       "      <td>NaN</td>\n",
       "      <td>NaN</td>\n",
       "      <td>NaN</td>\n",
       "      <td>NaN</td>\n",
       "      <td>NaN</td>\n",
       "      <td>NaN</td>\n",
       "      <td>NaN</td>\n",
       "      <td>NaN</td>\n",
       "    </tr>\n",
       "    <tr>\n",
       "      <th>11</th>\n",
       "      <td>0.906250</td>\n",
       "      <td>6.975795</td>\n",
       "      <td>{'balancing:strategy': 'none', 'classifier:__c...</td>\n",
       "      <td>13432</td>\n",
       "      <td>Success</td>\n",
       "      <td>0.0</td>\n",
       "      <td>none</td>\n",
       "      <td>qda</td>\n",
       "      <td>one_hot_encoding</td>\n",
       "      <td>minority_coalescer</td>\n",
       "      <td>...</td>\n",
       "      <td>NaN</td>\n",
       "      <td>NaN</td>\n",
       "      <td>NaN</td>\n",
       "      <td>NaN</td>\n",
       "      <td>NaN</td>\n",
       "      <td>NaN</td>\n",
       "      <td>NaN</td>\n",
       "      <td>NaN</td>\n",
       "      <td>NaN</td>\n",
       "      <td>NaN</td>\n",
       "    </tr>\n",
       "    <tr>\n",
       "      <th>14</th>\n",
       "      <td>0.906250</td>\n",
       "      <td>5.444422</td>\n",
       "      <td>{'balancing:strategy': 'none', 'classifier:__c...</td>\n",
       "      <td>13432</td>\n",
       "      <td>Success</td>\n",
       "      <td>0.0</td>\n",
       "      <td>none</td>\n",
       "      <td>decision_tree</td>\n",
       "      <td>one_hot_encoding</td>\n",
       "      <td>no_coalescense</td>\n",
       "      <td>...</td>\n",
       "      <td>NaN</td>\n",
       "      <td>NaN</td>\n",
       "      <td>NaN</td>\n",
       "      <td>NaN</td>\n",
       "      <td>NaN</td>\n",
       "      <td>NaN</td>\n",
       "      <td>NaN</td>\n",
       "      <td>NaN</td>\n",
       "      <td>NaN</td>\n",
       "      <td>NaN</td>\n",
       "    </tr>\n",
       "    <tr>\n",
       "      <th>13</th>\n",
       "      <td>0.890625</td>\n",
       "      <td>22.739999</td>\n",
       "      <td>{'balancing:strategy': 'none', 'classifier:__c...</td>\n",
       "      <td>13868</td>\n",
       "      <td>Success</td>\n",
       "      <td>0.0</td>\n",
       "      <td>none</td>\n",
       "      <td>gaussian_nb</td>\n",
       "      <td>one_hot_encoding</td>\n",
       "      <td>no_coalescense</td>\n",
       "      <td>...</td>\n",
       "      <td>NaN</td>\n",
       "      <td>NaN</td>\n",
       "      <td>NaN</td>\n",
       "      <td>NaN</td>\n",
       "      <td>NaN</td>\n",
       "      <td>NaN</td>\n",
       "      <td>NaN</td>\n",
       "      <td>NaN</td>\n",
       "      <td>NaN</td>\n",
       "      <td>NaN</td>\n",
       "    </tr>\n",
       "    <tr>\n",
       "      <th>15</th>\n",
       "      <td>0.828125</td>\n",
       "      <td>118.033043</td>\n",
       "      <td>{'balancing:strategy': 'weighting', 'classifie...</td>\n",
       "      <td>16191</td>\n",
       "      <td>Success</td>\n",
       "      <td>0.0</td>\n",
       "      <td>weighting</td>\n",
       "      <td>multinomial_nb</td>\n",
       "      <td>one_hot_encoding</td>\n",
       "      <td>minority_coalescer</td>\n",
       "      <td>...</td>\n",
       "      <td>NaN</td>\n",
       "      <td>NaN</td>\n",
       "      <td>NaN</td>\n",
       "      <td>NaN</td>\n",
       "      <td>NaN</td>\n",
       "      <td>NaN</td>\n",
       "      <td>NaN</td>\n",
       "      <td>NaN</td>\n",
       "      <td>NaN</td>\n",
       "      <td>NaN</td>\n",
       "    </tr>\n",
       "    <tr>\n",
       "      <th>7</th>\n",
       "      <td>0.812500</td>\n",
       "      <td>505.143651</td>\n",
       "      <td>{'balancing:strategy': 'none', 'classifier:__c...</td>\n",
       "      <td>16539</td>\n",
       "      <td>Success</td>\n",
       "      <td>0.0</td>\n",
       "      <td>none</td>\n",
       "      <td>gradient_boosting</td>\n",
       "      <td>one_hot_encoding</td>\n",
       "      <td>minority_coalescer</td>\n",
       "      <td>...</td>\n",
       "      <td>NaN</td>\n",
       "      <td>NaN</td>\n",
       "      <td>NaN</td>\n",
       "      <td>NaN</td>\n",
       "      <td>NaN</td>\n",
       "      <td>NaN</td>\n",
       "      <td>NaN</td>\n",
       "      <td>NaN</td>\n",
       "      <td>NaN</td>\n",
       "      <td>NaN</td>\n",
       "    </tr>\n",
       "  </tbody>\n",
       "</table>\n",
       "<p>16 rows × 189 columns</p>\n",
       "</div>"
      ],
      "text/plain": [
       "    mean_test_score  mean_fit_time  \\\n",
       "2          0.968750       8.256669   \n",
       "8          0.937500       7.337642   \n",
       "0          0.921875      26.538084   \n",
       "1          0.921875      40.495477   \n",
       "3          0.921875      26.211239   \n",
       "5          0.921875      20.974545   \n",
       "6          0.921875      21.159492   \n",
       "9          0.921875      16.839201   \n",
       "10         0.921875      79.389456   \n",
       "12         0.921875      20.875286   \n",
       "4          0.906250       5.555302   \n",
       "11         0.906250       6.975795   \n",
       "14         0.906250       5.444422   \n",
       "13         0.890625      22.739999   \n",
       "15         0.828125     118.033043   \n",
       "7          0.812500     505.143651   \n",
       "\n",
       "                                               params  rank_test_scores  \\\n",
       "2   {'balancing:strategy': 'weighting', 'classifie...                 1   \n",
       "8   {'balancing:strategy': 'none', 'classifier:__c...             12306   \n",
       "0   {'balancing:strategy': 'none', 'classifier:__c...             12543   \n",
       "1   {'balancing:strategy': 'weighting', 'classifie...             12543   \n",
       "3   {'balancing:strategy': 'weighting', 'classifie...             12543   \n",
       "5   {'balancing:strategy': 'weighting', 'classifie...             12543   \n",
       "6   {'balancing:strategy': 'weighting', 'classifie...             12543   \n",
       "9   {'balancing:strategy': 'weighting', 'classifie...             12543   \n",
       "10  {'balancing:strategy': 'weighting', 'classifie...             12543   \n",
       "12  {'balancing:strategy': 'none', 'classifier:__c...             12543   \n",
       "4   {'balancing:strategy': 'none', 'classifier:__c...             13432   \n",
       "11  {'balancing:strategy': 'none', 'classifier:__c...             13432   \n",
       "14  {'balancing:strategy': 'none', 'classifier:__c...             13432   \n",
       "13  {'balancing:strategy': 'none', 'classifier:__c...             13868   \n",
       "15  {'balancing:strategy': 'weighting', 'classifie...             16191   \n",
       "7   {'balancing:strategy': 'none', 'classifier:__c...             16539   \n",
       "\n",
       "     status  budgets param_balancing:strategy param_classifier:__choice__  \\\n",
       "2   Success      0.0                weighting          passive_aggressive   \n",
       "8   Success      0.0                     none                         sgd   \n",
       "0   Success      0.0                     none               random_forest   \n",
       "1   Success      0.0                weighting                         lda   \n",
       "3   Success      0.0                weighting                 extra_trees   \n",
       "5   Success      0.0                weighting         k_nearest_neighbors   \n",
       "6   Success      0.0                weighting                bernoulli_nb   \n",
       "9   Success      0.0                weighting                  libsvm_svc   \n",
       "10  Success      0.0                weighting               MLPClassifier   \n",
       "12  Success      0.0                     none               liblinear_svc   \n",
       "4   Success      0.0                     none                    adaboost   \n",
       "11  Success      0.0                     none                         qda   \n",
       "14  Success      0.0                     none               decision_tree   \n",
       "13  Success      0.0                     none                 gaussian_nb   \n",
       "15  Success      0.0                weighting              multinomial_nb   \n",
       "7   Success      0.0                     none           gradient_boosting   \n",
       "\n",
       "   param_data_preprocessing:categorical_transformer:categorical_encoding:__choice__  \\\n",
       "2                                    one_hot_encoding                                 \n",
       "8                                         no_encoding                                 \n",
       "0                                    one_hot_encoding                                 \n",
       "1                                         no_encoding                                 \n",
       "3                                         no_encoding                                 \n",
       "5                                         no_encoding                                 \n",
       "6                                         no_encoding                                 \n",
       "9                                         no_encoding                                 \n",
       "10                                   one_hot_encoding                                 \n",
       "12                                        no_encoding                                 \n",
       "4                                    one_hot_encoding                                 \n",
       "11                                   one_hot_encoding                                 \n",
       "14                                   one_hot_encoding                                 \n",
       "13                                   one_hot_encoding                                 \n",
       "15                                   one_hot_encoding                                 \n",
       "7                                    one_hot_encoding                                 \n",
       "\n",
       "   param_data_preprocessing:categorical_transformer:category_coalescence:__choice__  \\\n",
       "2                                  minority_coalescer                                 \n",
       "8                                  minority_coalescer                                 \n",
       "0                                      no_coalescense                                 \n",
       "1                                      no_coalescense                                 \n",
       "3                                      no_coalescense                                 \n",
       "5                                  minority_coalescer                                 \n",
       "6                                  minority_coalescer                                 \n",
       "9                                      no_coalescense                                 \n",
       "10                                 minority_coalescer                                 \n",
       "12                                 minority_coalescer                                 \n",
       "4                                      no_coalescense                                 \n",
       "11                                 minority_coalescer                                 \n",
       "14                                     no_coalescense                                 \n",
       "13                                     no_coalescense                                 \n",
       "15                                 minority_coalescer                                 \n",
       "7                                  minority_coalescer                                 \n",
       "\n",
       "    ... param_feature_preprocessor:RFE:svc_loss  \\\n",
       "2   ...                                     NaN   \n",
       "8   ...                                     NaN   \n",
       "0   ...                                     NaN   \n",
       "1   ...                                     NaN   \n",
       "3   ...                                     NaN   \n",
       "5   ...                                     NaN   \n",
       "6   ...                                     NaN   \n",
       "9   ...                                     NaN   \n",
       "10  ...                                     NaN   \n",
       "12  ...                                     NaN   \n",
       "4   ...                                     NaN   \n",
       "11  ...                                     NaN   \n",
       "14  ...                                     NaN   \n",
       "13  ...                                     NaN   \n",
       "15  ...                                     NaN   \n",
       "7   ...                                     NaN   \n",
       "\n",
       "   param_feature_preprocessor:RFE:svc_penalty  \\\n",
       "2                                         NaN   \n",
       "8                                         NaN   \n",
       "0                                         NaN   \n",
       "1                                         NaN   \n",
       "3                                         NaN   \n",
       "5                                         NaN   \n",
       "6                                         NaN   \n",
       "9                                         NaN   \n",
       "10                                        NaN   \n",
       "12                                        NaN   \n",
       "4                                         NaN   \n",
       "11                                        NaN   \n",
       "14                                        NaN   \n",
       "13                                        NaN   \n",
       "15                                        NaN   \n",
       "7                                         NaN   \n",
       "\n",
       "   param_feature_preprocessor:fast_ica:n_components  \\\n",
       "2                                               NaN   \n",
       "8                                               NaN   \n",
       "0                                               NaN   \n",
       "1                                               NaN   \n",
       "3                                               NaN   \n",
       "5                                               NaN   \n",
       "6                                               NaN   \n",
       "9                                               NaN   \n",
       "10                                              NaN   \n",
       "12                                              NaN   \n",
       "4                                               NaN   \n",
       "11                                              NaN   \n",
       "14                                              NaN   \n",
       "13                                              NaN   \n",
       "15                                              NaN   \n",
       "7                                               NaN   \n",
       "\n",
       "   param_feature_preprocessor:kernel_pca:coef0  \\\n",
       "2                                          NaN   \n",
       "8                                          NaN   \n",
       "0                                          NaN   \n",
       "1                                          NaN   \n",
       "3                                          NaN   \n",
       "5                                          NaN   \n",
       "6                                          NaN   \n",
       "9                                          NaN   \n",
       "10                                         NaN   \n",
       "12                                         NaN   \n",
       "4                                          NaN   \n",
       "11                                         NaN   \n",
       "14                                         NaN   \n",
       "13                                         NaN   \n",
       "15                                         NaN   \n",
       "7                                          NaN   \n",
       "\n",
       "    param_feature_preprocessor:kernel_pca:degree  \\\n",
       "2                                            NaN   \n",
       "8                                            NaN   \n",
       "0                                            NaN   \n",
       "1                                            NaN   \n",
       "3                                            NaN   \n",
       "5                                            NaN   \n",
       "6                                            NaN   \n",
       "9                                            NaN   \n",
       "10                                           NaN   \n",
       "12                                           NaN   \n",
       "4                                            NaN   \n",
       "11                                           NaN   \n",
       "14                                           NaN   \n",
       "13                                           NaN   \n",
       "15                                           NaN   \n",
       "7                                            NaN   \n",
       "\n",
       "    param_feature_preprocessor:kernel_pca:gamma  \\\n",
       "2                                           NaN   \n",
       "8                                           NaN   \n",
       "0                                           NaN   \n",
       "1                                           NaN   \n",
       "3                                           NaN   \n",
       "5                                           NaN   \n",
       "6                                           NaN   \n",
       "9                                           NaN   \n",
       "10                                          NaN   \n",
       "12                                          NaN   \n",
       "4                                           NaN   \n",
       "11                                          NaN   \n",
       "14                                          NaN   \n",
       "13                                          NaN   \n",
       "15                                          NaN   \n",
       "7                                           NaN   \n",
       "\n",
       "    param_feature_preprocessor:nystroem_sampler:coef0  \\\n",
       "2                                                 NaN   \n",
       "8                                                 NaN   \n",
       "0                                                 NaN   \n",
       "1                                                 NaN   \n",
       "3                                                 NaN   \n",
       "5                                                 NaN   \n",
       "6                                                 NaN   \n",
       "9                                                 NaN   \n",
       "10                                                NaN   \n",
       "12                                                NaN   \n",
       "4                                                 NaN   \n",
       "11                                                NaN   \n",
       "14                                                NaN   \n",
       "13                                                NaN   \n",
       "15                                                NaN   \n",
       "7                                                 NaN   \n",
       "\n",
       "   param_feature_preprocessor:nystroem_sampler:degree  \\\n",
       "2                                                 NaN   \n",
       "8                                                 NaN   \n",
       "0                                                 NaN   \n",
       "1                                                 NaN   \n",
       "3                                                 NaN   \n",
       "5                                                 NaN   \n",
       "6                                                 NaN   \n",
       "9                                                 NaN   \n",
       "10                                                NaN   \n",
       "12                                                NaN   \n",
       "4                                                 NaN   \n",
       "11                                                NaN   \n",
       "14                                                NaN   \n",
       "13                                                NaN   \n",
       "15                                                NaN   \n",
       "7                                                 NaN   \n",
       "\n",
       "   param_feature_preprocessor:nystroem_sampler:gamma  \\\n",
       "2                                                NaN   \n",
       "8                                                NaN   \n",
       "0                                                NaN   \n",
       "1                                                NaN   \n",
       "3                                                NaN   \n",
       "5                                                NaN   \n",
       "6                                                NaN   \n",
       "9                                                NaN   \n",
       "10                                               NaN   \n",
       "12                                               NaN   \n",
       "4                                                NaN   \n",
       "11                                               NaN   \n",
       "14                                               NaN   \n",
       "13                                               NaN   \n",
       "15                                               NaN   \n",
       "7                                                NaN   \n",
       "\n",
       "    param_feature_preprocessor:RFE:lr_intercept_scaling  \n",
       "2                                                 NaN    \n",
       "8                                                 NaN    \n",
       "0                                                 NaN    \n",
       "1                                                 NaN    \n",
       "3                                                 NaN    \n",
       "5                                                 NaN    \n",
       "6                                                 NaN    \n",
       "9                                                 NaN    \n",
       "10                                                NaN    \n",
       "12                                                NaN    \n",
       "4                                                 NaN    \n",
       "11                                                NaN    \n",
       "14                                                NaN    \n",
       "13                                                NaN    \n",
       "15                                                NaN    \n",
       "7                                                 NaN    \n",
       "\n",
       "[16 rows x 189 columns]"
      ]
     },
     "execution_count": 111,
     "metadata": {},
     "output_type": "execute_result"
    }
   ],
   "source": [
    "top.sort_values(['mean_test_score'], ascending=False)"
   ]
  },
  {
   "cell_type": "code",
   "execution_count": 174,
   "metadata": {
    "ExecuteTime": {
     "end_time": "2020-08-11T16:44:22.799952Z",
     "start_time": "2020-08-11T16:44:22.780978Z"
    }
   },
   "outputs": [],
   "source": [
    "# Create some pipelines to optimize eventually\n",
    "from sklearn.pipeline import Pipeline\n",
    "import sklearn"
   ]
  },
  {
   "cell_type": "code",
   "execution_count": 212,
   "metadata": {
    "ExecuteTime": {
     "end_time": "2020-08-11T16:59:16.404343Z",
     "start_time": "2020-08-11T16:59:16.377774Z"
    }
   },
   "outputs": [],
   "source": [
    "from sklearn.preprocessing import StandardScaler\n",
    "from sklearn.ensemble import ExtraTreesClassifier as ERT\n",
    "from sklearn.feature_selection import SelectFromModel\n",
    "from sklearn.linear_model import PassiveAggressiveClassifier\n",
    "pipeline1 = Pipeline([('Scaler', StandardScaler()),\n",
    "                      ('ERT', SelectFromModel(ERT(bootstrap=False,\n",
    "                                                  criterion='gini',\n",
    "                                                  max_features=0.4394463397373907,\n",
    "                                                  n_estimators=100,\n",
    "                                                  random_state=0\n",
    "                                                ),\n",
    "                                             threshold='mean'\n",
    "                                            )),\n",
    "                      ('PAC', PassiveAggressiveClassifier(C=0.03575548812589056,\n",
    "                                                          fit_intercept=True,\n",
    "                                                          loss='hinge',\n",
    "                                                          average=False,\n",
    "                                                          random_state=0,\n",
    "                                                          class_weight='balanced'\n",
    "                                                         ))\n",
    "                     ])\n",
    "\n",
    "from sklearn.preprocessing import StandardScaler\n",
    "from sklearn.discriminant_analysis import LinearDiscriminantAnalysis as LDA\n",
    "from sklearn.ensemble import RandomForestClassifier\n",
    "pipeline2 = Pipeline([('Scaler', StandardScaler()), \n",
    "                     ('LDA', LDA(solver='svd',\n",
    "                                 n_components=9, # only 2 classes though so will go to 1 component\n",
    "                                )),\n",
    "                     ('RF', RandomForestClassifier(criterion='gini',\n",
    "                                                   bootstrap=True,\n",
    "                                                   max_depth=None,\n",
    "                                                   max_features=0.12324407123727832,\n",
    "                                                   class_weight='balanced'\n",
    "                                                  ))]) \n",
    "\n",
    "\n",
    "from sklearn.preprocessing import StandardScaler\n",
    "from sklearn.feature_selection import SelectFwe\n",
    "from sklearn.svm import SVC\n",
    "pipeline3 = Pipeline([('Scaler', StandardScaler()), \n",
    "                     ('SelectFwe', SelectFwe(score_func=sklearn.feature_selection.f_classif,\n",
    "                                             alpha=0.19252136279817358,\n",
    "                                            )),\n",
    "                     ('SVC', SVC(C=1310.8079513160242,\n",
    "                                 gamma=3.759385850940499e-05,\n",
    "                                 kernel='rbf',\n",
    "                                 shrinking=True,\n",
    "                                 class_weight='balanced'\n",
    "                                ))]) \n",
    "\n",
    "# Bernoulli looks for discrete data, so binarize threshold will be important to optimize\n",
    "from sklearn.preprocessing import StandardScaler\n",
    "from sklearn.discriminant_analysis import LinearDiscriminantAnalysis as LDA\n",
    "from sklearn.naive_bayes import BernoulliNB\n",
    "pipeline4 = Pipeline([('Scaler', StandardScaler()), \n",
    "                     ('LDA', LDA(n_components=9, #again will just go to 1\n",
    "                                 solver='svd'\n",
    "                                )),\n",
    "                     ('BernoulliNB', BernoulliNB(alpha=58.83897387376973,\n",
    "                                                 fit_prior=False\n",
    "                                ))]) \n",
    "\n",
    "\n",
    "from sklearn.preprocessing import StandardScaler\n",
    "from sklearn.feature_selection import SelectFromModel\n",
    "from sklearn.ensemble import ExtraTreesClassifier as ERT\n",
    "from sklearn.discriminant_analysis import LinearDiscriminantAnalysis as LDA\n",
    "pipeline5 = Pipeline([('Scaler', StandardScaler()),\n",
    "                      ('ERT', SelectFromModel(ERT(bootstrap=False,\n",
    "                                                 criterion='gini',\n",
    "                                                 max_features=0.581689983760726,\n",
    "                                                 n_estimators=100,\n",
    "                                                  random_state=0\n",
    "                                                ),\n",
    "                                             threshold='mean'\n",
    "                                            )),\n",
    "                      ('LDA', LDA(n_components=22, # again will go to 1,\n",
    "                                )\n",
    "                     )])"
   ]
  },
  {
   "cell_type": "code",
   "execution_count": 213,
   "metadata": {
    "ExecuteTime": {
     "end_time": "2020-08-11T16:59:16.692885Z",
     "start_time": "2020-08-11T16:59:16.669174Z"
    }
   },
   "outputs": [],
   "source": [
    "def train(pipeline):\n",
    "    def get_X():\n",
    "        df = pd.read_csv('./data_Fish_Mucus_BV_200115_actual data.csv')\n",
    "        X = df[df.Stock.isin(['CULL', 'BROOD'])]\n",
    "        X = X.drop(['ID', 'Class', 'Strain', 'Fork Length (cm)', 'Weight (kg)'], axis=1)\n",
    "        return X\n",
    "\n",
    "    # Import Data\n",
    "    X = get_X().drop(['Breeding Value', 'Stock'], axis=1).values\n",
    "    y = get_X()['Stock'].values\n",
    "\n",
    "    # Encode labels\n",
    "    from sklearn.preprocessing import LabelEncoder\n",
    "    enc = LabelEncoder()\n",
    "    y = enc.fit_transform(y)\n",
    "\n",
    "    # Stratified test/train split\n",
    "    from sklearn.model_selection import train_test_split\n",
    "    X_train, X_test, y_train, y_test = train_test_split(X, y, test_size=0.2, \n",
    "                                                        random_state=0, \n",
    "                                                        shuffle=True, \n",
    "                                                        stratify=y)\n",
    "\n",
    "    from sklearn.model_selection import cross_val_score\n",
    "    from sklearn.model_selection import StratifiedKFold\n",
    "    cvs = cross_val_score(pipeline, cv=StratifiedKFold(n_splits=10, # go up to 10\n",
    "                                                       shuffle=True, \n",
    "                                                       random_state=0),\n",
    "                          X=X_train,\n",
    "                          y=y_train,\n",
    "                          n_jobs=-1)\n",
    "\n",
    "    \n",
    "    print(['%.3f'%s for s in cvs])\n",
    "    print('Training CV: ', np.mean(cvs), '+/-', np.std(cvs))\n",
    "    f = pipeline.fit(X_train, y_train)\n",
    "    print('Test Set: ', f.score(X_test, y_test))"
   ]
  },
  {
   "cell_type": "code",
   "execution_count": 214,
   "metadata": {
    "ExecuteTime": {
     "end_time": "2020-08-11T16:59:17.062887Z",
     "start_time": "2020-08-11T16:59:17.044321Z"
    }
   },
   "outputs": [],
   "source": [
    "# Without any further optimization, what are these performances?\n",
    "# Looks like they are all about 90% for training CV, with tests >80%\n",
    "# However, note that the standard deviation for these is very large so probably need more data\n",
    "# before we can expect very good results.\n",
    "\n",
    "# Folds of the CV look bimodal in performance"
   ]
  },
  {
   "cell_type": "code",
   "execution_count": 217,
   "metadata": {
    "ExecuteTime": {
     "end_time": "2020-08-11T16:59:23.503370Z",
     "start_time": "2020-08-11T16:59:23.121713Z"
    }
   },
   "outputs": [
    {
     "name": "stdout",
     "output_type": "stream",
     "text": [
      "['0.857', '1.000', '0.857', '1.000', '0.833', '1.000', '0.833', '0.833', '0.833', '0.833']\n",
      "Training CV:  0.8880952380952382 +/- 0.0738095238095238\n",
      "Test Set:  0.8235294117647058\n"
     ]
    }
   ],
   "source": [
    "train(pipeline1)"
   ]
  },
  {
   "cell_type": "code",
   "execution_count": 220,
   "metadata": {
    "ExecuteTime": {
     "end_time": "2020-08-11T16:59:28.037707Z",
     "start_time": "2020-08-11T16:59:27.610967Z"
    }
   },
   "outputs": [
    {
     "name": "stdout",
     "output_type": "stream",
     "text": [
      "['0.857', '1.000', '0.857', '0.714', '0.833', '0.833', '0.667', '0.667', '1.000', '0.667']\n",
      "Training CV:  0.8095238095238095 +/- 0.12187127516256885\n",
      "Test Set:  0.7647058823529411\n"
     ]
    },
    {
     "name": "stderr",
     "output_type": "stream",
     "text": [
      "/home/nam4/anaconda3/envs/automl/lib/python3.7/site-packages/sklearn/discriminant_analysis.py:463: ChangedBehaviorWarning: n_components cannot be larger than min(n_features, n_classes - 1). Using min(n_features, n_classes - 1) = min(260, 2 - 1) = 1 components.\n",
      "  ChangedBehaviorWarning)\n",
      "/home/nam4/anaconda3/envs/automl/lib/python3.7/site-packages/sklearn/discriminant_analysis.py:469: FutureWarning: In version 0.23, setting n_components > min(n_features, n_classes - 1) will raise a ValueError. You should set n_components to None (default), or a value smaller or equal to min(n_features, n_classes - 1).\n",
      "  warnings.warn(future_msg, FutureWarning)\n"
     ]
    }
   ],
   "source": [
    "train(pipeline2)"
   ]
  },
  {
   "cell_type": "code",
   "execution_count": 223,
   "metadata": {
    "ExecuteTime": {
     "end_time": "2020-08-11T16:59:32.915060Z",
     "start_time": "2020-08-11T16:59:32.846699Z"
    }
   },
   "outputs": [
    {
     "name": "stdout",
     "output_type": "stream",
     "text": [
      "['0.857', '1.000', '0.714', '1.000', '1.000', '1.000', '0.833', '1.000', '0.833', '0.667']\n",
      "Training CV:  0.8904761904761905 +/- 0.12196427118919712\n",
      "Test Set:  0.7647058823529411\n"
     ]
    }
   ],
   "source": [
    "train(pipeline3) # 5/10 folds are 100% on validation set"
   ]
  },
  {
   "cell_type": "code",
   "execution_count": 224,
   "metadata": {
    "ExecuteTime": {
     "end_time": "2020-08-11T16:59:53.846968Z",
     "start_time": "2020-08-11T16:59:53.772303Z"
    }
   },
   "outputs": [
    {
     "name": "stdout",
     "output_type": "stream",
     "text": [
      "['0.857', '1.000', '1.000', '0.857', '1.000', '1.000', '0.667', '0.833', '1.000', '0.667']\n",
      "Training CV:  0.8880952380952382 +/- 0.12868161063687295\n",
      "Test Set:  0.8235294117647058\n"
     ]
    },
    {
     "name": "stderr",
     "output_type": "stream",
     "text": [
      "/home/nam4/anaconda3/envs/automl/lib/python3.7/site-packages/sklearn/discriminant_analysis.py:463: ChangedBehaviorWarning: n_components cannot be larger than min(n_features, n_classes - 1). Using min(n_features, n_classes - 1) = min(260, 2 - 1) = 1 components.\n",
      "  ChangedBehaviorWarning)\n",
      "/home/nam4/anaconda3/envs/automl/lib/python3.7/site-packages/sklearn/discriminant_analysis.py:469: FutureWarning: In version 0.23, setting n_components > min(n_features, n_classes - 1) will raise a ValueError. You should set n_components to None (default), or a value smaller or equal to min(n_features, n_classes - 1).\n",
      "  warnings.warn(future_msg, FutureWarning)\n"
     ]
    }
   ],
   "source": [
    "train(pipeline4) # again 5/10"
   ]
  },
  {
   "cell_type": "code",
   "execution_count": 226,
   "metadata": {
    "ExecuteTime": {
     "end_time": "2020-08-11T17:01:27.417921Z",
     "start_time": "2020-08-11T17:01:27.014856Z"
    }
   },
   "outputs": [
    {
     "name": "stdout",
     "output_type": "stream",
     "text": [
      "['1.000', '0.429', '0.571', '0.857', '0.833', '0.833', '0.167', '0.500', '0.833', '0.667']\n",
      "Training CV:  0.669047619047619 +/- 0.23962603139190644\n",
      "Test Set:  0.6470588235294118\n"
     ]
    },
    {
     "name": "stderr",
     "output_type": "stream",
     "text": [
      "/home/nam4/anaconda3/envs/automl/lib/python3.7/site-packages/sklearn/discriminant_analysis.py:463: ChangedBehaviorWarning: n_components cannot be larger than min(n_features, n_classes - 1). Using min(n_features, n_classes - 1) = min(66, 2 - 1) = 1 components.\n",
      "  ChangedBehaviorWarning)\n",
      "/home/nam4/anaconda3/envs/automl/lib/python3.7/site-packages/sklearn/discriminant_analysis.py:469: FutureWarning: In version 0.23, setting n_components > min(n_features, n_classes - 1) will raise a ValueError. You should set n_components to None (default), or a value smaller or equal to min(n_features, n_classes - 1).\n",
      "  warnings.warn(future_msg, FutureWarning)\n"
     ]
    }
   ],
   "source": [
    "train(pipeline5)"
   ]
  },
  {
   "cell_type": "code",
   "execution_count": null,
   "metadata": {},
   "outputs": [],
   "source": [
    "# BernoulliNB after scaling is an interesting result\n",
    "# Performs similar to SVC"
   ]
  },
  {
   "cell_type": "markdown",
   "metadata": {},
   "source": [
    "# Regression"
   ]
  },
  {
   "cell_type": "code",
   "execution_count": null,
   "metadata": {},
   "outputs": [],
   "source": [
    "# Regression (as expected) is quite bad - best is worse than random/mean guessing on test\n",
    "# but about random/mean on training"
   ]
  },
  {
   "cell_type": "code",
   "execution_count": 186,
   "metadata": {
    "ExecuteTime": {
     "end_time": "2020-08-11T16:49:20.349937Z",
     "start_time": "2020-08-11T16:49:19.290402Z"
    }
   },
   "outputs": [],
   "source": [
    "head = 'regression/vanilla/3/'\n",
    "m = pickle.load(open('{}/fitted_model.pkl'.format(head), 'rb'))\n",
    "x_test = pickle.load(open('{}/X_test.pkl'.format(head), 'rb'))\n",
    "y_test = pickle.load(open('{}/y_test.pkl'.format(head), 'rb'))\n",
    "x_train = pickle.load(open('{}/X_train.pkl'.format(head), 'rb'))\n",
    "y_train = pickle.load(open('{}/y_train.pkl'.format(head), 'rb'))"
   ]
  },
  {
   "cell_type": "code",
   "execution_count": 187,
   "metadata": {
    "ExecuteTime": {
     "end_time": "2020-08-11T16:49:20.925816Z",
     "start_time": "2020-08-11T16:49:20.903432Z"
    }
   },
   "outputs": [
    {
     "data": {
      "text/plain": [
       "-0.1504223341520614"
      ]
     },
     "execution_count": 187,
     "metadata": {},
     "output_type": "execute_result"
    }
   ],
   "source": [
    "m.score(x_test, y_test)"
   ]
  },
  {
   "cell_type": "code",
   "execution_count": 188,
   "metadata": {
    "ExecuteTime": {
     "end_time": "2020-08-11T16:49:22.723208Z",
     "start_time": "2020-08-11T16:49:22.700343Z"
    }
   },
   "outputs": [
    {
     "data": {
      "text/plain": [
       "1.0"
      ]
     },
     "execution_count": 188,
     "metadata": {},
     "output_type": "execute_result"
    }
   ],
   "source": [
    "m.score(x_train, y_train)"
   ]
  },
  {
   "cell_type": "code",
   "execution_count": 189,
   "metadata": {
    "ExecuteTime": {
     "end_time": "2020-08-11T16:49:37.233921Z",
     "start_time": "2020-08-11T16:49:36.484120Z"
    }
   },
   "outputs": [
    {
     "name": "stdout",
     "output_type": "stream",
     "text": [
      "auto-sklearn results:\n",
      "  Dataset name: Salmon Mucus v0\n",
      "  Metric: r2\n",
      "  Best validation score: -0.009021\n",
      "  Number of target algorithm runs: 12991\n",
      "  Number of successful target algorithm runs: 4891\n",
      "  Number of crashed target algorithm runs: 3081\n",
      "  Number of target algorithms that exceeded the time limit: 4552\n",
      "  Number of target algorithms that exceeded the memory limit: 467\n",
      "\n"
     ]
    }
   ],
   "source": [
    "print(m.sprint_statistics())"
   ]
  }
 ],
 "metadata": {
  "kernelspec": {
   "display_name": "automl",
   "language": "python",
   "name": "automl"
  },
  "language_info": {
   "codemirror_mode": {
    "name": "ipython",
    "version": 3
   },
   "file_extension": ".py",
   "mimetype": "text/x-python",
   "name": "python",
   "nbconvert_exporter": "python",
   "pygments_lexer": "ipython3",
   "version": "3.7.6"
  },
  "toc": {
   "base_numbering": 1,
   "nav_menu": {},
   "number_sections": true,
   "sideBar": true,
   "skip_h1_title": false,
   "title_cell": "Table of Contents",
   "title_sidebar": "Contents",
   "toc_cell": false,
   "toc_position": {
    "height": "calc(100% - 180px)",
    "left": "10px",
    "top": "150px",
    "width": "165px"
   },
   "toc_section_display": true,
   "toc_window_display": true
  }
 },
 "nbformat": 4,
 "nbformat_minor": 4
}
