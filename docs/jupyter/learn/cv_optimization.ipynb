{
 "cells": [
  {
   "cell_type": "markdown",
   "id": "4fb41494",
   "metadata": {
    "ExecuteTime": {
     "end_time": "2023-09-07T14:59:05.888306Z",
     "start_time": "2023-09-07T14:59:05.882800Z"
    }
   },
   "source": [
    "Optimizing Models with Cross-Validation\n",
    "==="
   ]
  },
  {
   "cell_type": "markdown",
   "id": "d16b7c41",
   "metadata": {},
   "source": [
    "Author: Nathan A. Mahynski\n",
    "\n",
    "Date: 2023/09/07\n",
    "\n",
    "Description: Introduction to different types of cross-validation strategies, when to use them, and important differences.\n",
    "\n",
    "[![Open In Colab](https://colab.research.google.com/assets/colab-badge.svg)](https://colab.research.google.com/github/mahynski/pychemauth/blob/main/docs/jupyter/learn/cv_optimization.ipynb)\n",
    "\n",
    "[Cross-validation (CV)](https://en.wikipedia.org/wiki/Cross-validation_(statistics)) is used to estimate the generalization error of a model, that is, how well it performs on unseen data. To be accurate, we must avoid testing on data used during model training since the model will be biased to fit that data. Any estimate of model performance using training data will be overly optimistic; however, it is not always clear by how much, and the scarcity of data often drives one to make assumptions that allow this data to be re-used. Various methods of CV exist to balance the amount of effort expended and assumptions made to obtain this estimate.\n",
    "\n",
    "CV is also critical to selecting optimal model hyperparameters so that the final model will perform as well as possible when deployed in real-world settings.\n",
    "\n",
    "Scikit-learn has a nice discussion available [here](https://scikit-learn.org/stable/modules/cross_validation.html) along with illustrations of the different CV splittings.\n",
    "\n",
    "Image credit throughout, unless otherwise stated, goes to [Python Machine Learning, 3rd Ed.](https://github.com/rasbt/python-machine-learning-book-3rd-edition/) by Raschka and Mirjalili.\n",
    "\n",
    "**An important note:**  In the examples below, data will be split randomly using both CV splitter and models. In sklearn the randomness can be controlled by specifying either an integer seed or a `RandomState`; see [here](https://scikit-learn.org/stable/common_pitfalls.html#controlling-randomness) for a full discussion.  In short, specifying an integer means the data is always split the same way each time the splitter or model is called.  Using a `RandomState` means the data ends up being split differently during subsequent calls to the same splitter.  There are some cases when this can use useful, but if enough data and repeats are performed the results from using an integer (illustrated below) should be similar.  For the sake of reproducibility and ensuring that algorithms being compared are looking at the same data using the tools below, an integer seed is always used."
   ]
  },
  {
   "cell_type": "code",
   "execution_count": null,
   "id": "eccb37da",
   "metadata": {},
   "outputs": [],
   "source": [
    "if 'google.colab' in str(get_ipython()):\n",
    "    !pip install git+https://github.com/mahynski/pychemauth@main\n",
    "    import os\n",
    "    os.kill(os.getpid(), 9) # Automatically restart the runtime to reload libraries"
   ]
  },
  {
   "cell_type": "code",
   "execution_count": 1,
   "id": "27ceb0ea",
   "metadata": {
    "ExecuteTime": {
     "end_time": "2023-09-07T19:43:51.183956Z",
     "start_time": "2023-09-07T19:43:50.712574Z"
    }
   },
   "outputs": [],
   "source": [
    "try:\n",
    "    import pychemauth\n",
    "except:\n",
    "    raise ImportError(\"pychemauth not installed\")\n",
    "    \n",
    "import matplotlib.pyplot as plt\n",
    "%matplotlib inline\n",
    "\n",
    "import watermark\n",
    "%load_ext watermark\n",
    "\n",
    "%load_ext autoreload\n",
    "%autoreload 2"
   ]
  },
  {
   "cell_type": "code",
   "execution_count": 44,
   "id": "86328713",
   "metadata": {
    "ExecuteTime": {
     "end_time": "2023-09-08T12:26:37.822903Z",
     "start_time": "2023-09-08T12:26:37.786736Z"
    }
   },
   "outputs": [],
   "source": [
    "import sklearn\n",
    "import scipy\n",
    "\n",
    "import numpy as np\n",
    "\n",
    "from imblearn.pipeline import Pipeline\n",
    "\n",
    "from sklearn.model_selection import train_test_split\n",
    "from sklearn import datasets\n",
    "from sklearn.linear_model import LogisticRegression\n",
    "from sklearn.model_selection import KFold, GridSearchCV, RandomizedSearchCV, cross_val_score\n",
    "from sklearn.tree import DecisionTreeClassifier\n",
    "from sklearn.svm import SVC\n",
    "\n",
    "from scipy.stats import uniform\n",
    "\n",
    "from pychemauth.preprocessing.scaling import CorrectedScaler"
   ]
  },
  {
   "cell_type": "code",
   "execution_count": 3,
   "id": "01f2f251",
   "metadata": {
    "ExecuteTime": {
     "end_time": "2023-09-07T19:43:51.689232Z",
     "start_time": "2023-09-07T19:43:51.665314Z"
    }
   },
   "outputs": [
    {
     "name": "stdout",
     "output_type": "stream",
     "text": [
      "Python implementation: CPython\n",
      "Python version       : 3.11.4\n",
      "IPython version      : 8.14.0\n",
      "\n",
      "Compiler    : GCC 12.2.0\n",
      "OS          : Linux\n",
      "Release     : 6.2.0-26-generic\n",
      "Machine     : x86_64\n",
      "Processor   : x86_64\n",
      "CPU cores   : 40\n",
      "Architecture: 64bit\n",
      "\n",
      "matplotlib: 3.7.2\n",
      "numpy     : 1.24.4\n",
      "sklearn   : 1.3.0\n",
      "json      : 2.0.9\n",
      "watermark : 2.4.3\n",
      "pychemauth: 0.0.0b3\n",
      "scipy     : 1.11.1\n",
      "\n"
     ]
    }
   ],
   "source": [
    "%watermark -t -m -v --iversions"
   ]
  },
  {
   "cell_type": "markdown",
   "id": "1b8e1334",
   "metadata": {},
   "source": [
    "<h3>Load the Data</h3>"
   ]
  },
  {
   "cell_type": "code",
   "execution_count": 4,
   "id": "f136fe57",
   "metadata": {
    "ExecuteTime": {
     "end_time": "2023-09-07T19:43:51.708429Z",
     "start_time": "2023-09-07T19:43:51.690662Z"
    }
   },
   "outputs": [],
   "source": [
    "data = datasets.load_wine()\n",
    "X, y = data.data, data.target"
   ]
  },
  {
   "cell_type": "code",
   "execution_count": 25,
   "id": "ab577335",
   "metadata": {
    "ExecuteTime": {
     "end_time": "2023-09-07T21:17:09.444772Z",
     "start_time": "2023-09-07T21:17:09.407267Z"
    }
   },
   "outputs": [],
   "source": [
    "# Assume we have a ML pipeline and we wish to optimize the hyperparameter C.  How shall we go about this?\n",
    "def my_fit(C, X, y):\n",
    "    \"\"\"Fit a pipeline with a certin hyperparameter.\"\"\"\n",
    "    pipeline = Pipeline(steps=\n",
    "                        [\n",
    "                            ('scaler', CorrectedScaler()),\n",
    "                            ('lr', LogisticRegression(random_state=0, C=C))\n",
    "                        ])\n",
    "    pipeline.fit(X, y)\n",
    "    return pipeline"
   ]
  },
  {
   "cell_type": "markdown",
   "id": "6df8461d",
   "metadata": {
    "ExecuteTime": {
     "end_time": "2023-09-07T21:14:36.863205Z",
     "start_time": "2023-09-07T21:14:36.831165Z"
    }
   },
   "source": [
    "A Simple Split\n",
    "---"
   ]
  },
  {
   "cell_type": "markdown",
   "id": "ef3c31b3",
   "metadata": {},
   "source": [
    "If a nearly infinite amount of data is available, then it is reasonable to expect that a finite but representative subsample of the data can be used to both train AND estimate the performance of a model on the rest of the data.  However, this almost never occurs in practice and if data is so plentiful, it is easy to justify holding out a certain portion of it to test the model against. The simplest solution is to simply split the data into a test and train set - you fit the model using the test set, and estimate the model's performance using the held out test set."
   ]
  },
  {
   "cell_type": "code",
   "execution_count": 26,
   "id": "9214b82f",
   "metadata": {
    "ExecuteTime": {
     "end_time": "2023-09-07T21:18:08.076318Z",
     "start_time": "2023-09-07T21:18:08.038732Z"
    }
   },
   "outputs": [],
   "source": [
    "# First split to get test set\n",
    "X_train, X_test, y_train, y_test = train_test_split(\n",
    "    X, \n",
    "    y, \n",
    "    shuffle=True, # Shuffle the data in case there was any bias in the way it was provided\n",
    "    random_state=0, # Set the random state so the same results always occur\n",
    "    test_size=0.2\n",
    ")"
   ]
  },
  {
   "cell_type": "code",
   "execution_count": 28,
   "id": "032eeabc",
   "metadata": {
    "ExecuteTime": {
     "end_time": "2023-09-07T21:18:14.976847Z",
     "start_time": "2023-09-07T21:18:14.947998Z"
    }
   },
   "outputs": [
    {
     "name": "stdout",
     "output_type": "stream",
     "text": [
      "Breakdown of 178 total data points\n",
      "Train: 142\n",
      "Test: 36\n"
     ]
    }
   ],
   "source": [
    "print('Breakdown of {} total data points\\nTrain: {}\\nTest: {}'.format(\n",
    "    X.shape[0],\n",
    "    X_train.shape[0],\n",
    "    X_test.shape[0]\n",
    "    ))"
   ]
  },
  {
   "cell_type": "code",
   "execution_count": 29,
   "id": "22270119",
   "metadata": {
    "ExecuteTime": {
     "end_time": "2023-09-07T21:19:38.387295Z",
     "start_time": "2023-09-07T21:19:37.477379Z"
    }
   },
   "outputs": [
    {
     "data": {
      "text/plain": [
       "<matplotlib.lines.Line2D at 0x7f4803c180d0>"
      ]
     },
     "execution_count": 29,
     "metadata": {},
     "output_type": "execute_result"
    },
    {
     "data": {
      "image/png": "[encoded data removed]",
      "text/plain": [
       "<Figure size 640x480 with 1 Axes>"
      ]
     },
     "metadata": {},
     "output_type": "display_data"
    }
   ],
   "source": [
    "test_scores = []\n",
    "train_scores = []\n",
    "for C in np.logspace(-4, -1, 50):\n",
    "    \"\"\"Try many different hyperparameters.\"\"\"\n",
    "    pipeline = my_fit(C, X_train, y_train)\n",
    "    test_scores.append([C, pipeline.score(X_test, y_test)]) \n",
    "    train_scores.append([C, pipeline.score(X_train, y_train)])\n",
    "test_scores = np.array(test_scores)\n",
    "train_scores = np.array(train_scores)\n",
    "\n",
    "plt.plot(train_scores[:,0], train_scores[:,1], 'o-', label='Training Score')\n",
    "plt.plot(test_scores[:,0], test_scores[:,1], 'o-', label='Test Score')\n",
    "plt.xscale('log')\n",
    "plt.xlabel(\"C Value\")\n",
    "plt.ylabel(\"Accuracy\")\n",
    "_ = plt.legend(loc=\"best\")\n",
    "\n",
    "best_c = test_scores[np.argmax(test_scores[:,1]),0]\n",
    "plt.axvline(best_c, color='red')"
   ]
  },
  {
   "cell_type": "markdown",
   "id": "ab83b516",
   "metadata": {},
   "source": [
    "We **could** simply select the best value of C based on the results of the test set above; however, the performance (here 100%) is most likely biased.  We made this selection of C based on this test set, so the results are biased to that specific set of data points.  We can still select this value of C, however, we should expect that 100% is NOT a reasonable estimate of how this model will perform on new unseen data.  To do that, we need to have another set of data that has never been used in any way."
   ]
  },
  {
   "cell_type": "markdown",
   "id": "1f8b2f13",
   "metadata": {},
   "source": [
    "Holdout\n",
    "---"
   ]
  },
  {
   "cell_type": "markdown",
   "id": "5b54ea32",
   "metadata": {},
   "source": [
    "In the \"holdout method\", the initial dataset is split twice: once into training and testing, and subsequently the former is split again to yield a validation set.  The training set is used to evaluate model hyperparameters by training on the train set, evaluating on the validation set, then choosing the best hyperparameters based on validation performance.  The final model can be refit on the entire training set (including validation), and its generalization error is estimated based on the held out test data.\n",
    "\n",
    "<img src=\"https://github.com/rasbt/python-machine-learning-book-3rd-edition/blob/master/ch06/images/06_02.png?raw=true\" style=\"width:500px;\">"
   ]
  },
  {
   "cell_type": "code",
   "execution_count": 5,
   "id": "37627eb7",
   "metadata": {
    "ExecuteTime": {
     "end_time": "2023-09-07T19:43:51.772159Z",
     "start_time": "2023-09-07T19:43:51.710097Z"
    }
   },
   "outputs": [],
   "source": [
    "# First split to get test set\n",
    "X_train, X_test, y_train, y_test = train_test_split(\n",
    "    X, \n",
    "    y, \n",
    "    shuffle=True, # Shuffle the data in case there was any bias in the way it was provided\n",
    "    random_state=0, # Set the random state so the same results always occur\n",
    "    test_size=0.2\n",
    ")\n",
    "\n",
    "# Split again to get validation set\n",
    "X_train, X_valid, y_train, y_valid = train_test_split(\n",
    "    X_train, \n",
    "    y_train,\n",
    "    shuffle=True,\n",
    "    random_state=0,\n",
    "    test_size=0.2\n",
    ")"
   ]
  },
  {
   "cell_type": "code",
   "execution_count": 30,
   "id": "c2a49308",
   "metadata": {
    "ExecuteTime": {
     "end_time": "2023-09-07T21:27:43.327302Z",
     "start_time": "2023-09-07T21:27:43.299902Z"
    }
   },
   "outputs": [
    {
     "name": "stdout",
     "output_type": "stream",
     "text": [
      "Breakdown of 178 total data points\n",
      "Train: 142\n",
      "Validation: 29\n",
      "Test: 36\n"
     ]
    }
   ],
   "source": [
    "print('Breakdown of {} total data points\\nTrain: {}\\nValidation: {}\\nTest: {}'.format(\n",
    "    X.shape[0],\n",
    "    X_train.shape[0],\n",
    "    X_valid.shape[0],\n",
    "    X_test.shape[0]\n",
    "    ))"
   ]
  },
  {
   "cell_type": "code",
   "execution_count": 7,
   "id": "8a326745",
   "metadata": {
    "ExecuteTime": {
     "end_time": "2023-09-07T19:43:52.556003Z",
     "start_time": "2023-09-07T19:43:51.798146Z"
    }
   },
   "outputs": [
    {
     "data": {
      "text/plain": [
       "<matplotlib.lines.Line2D at 0x7f480bced310>"
      ]
     },
     "execution_count": 7,
     "metadata": {},
     "output_type": "execute_result"
    },
    {
     "data": {
      "image/png": "[encoded data removed]",
      "text/plain": [
       "<Figure size 640x480 with 1 Axes>"
      ]
     },
     "metadata": {},
     "output_type": "display_data"
    }
   ],
   "source": [
    "val_scores = []\n",
    "train_scores = []\n",
    "for C in np.logspace(-4, -1, 50):\n",
    "    \"\"\"Try many different hyperparameters.\"\"\"\n",
    "    pipeline = my_fit(C, X_train, y_train)\n",
    "    val_scores.append([C, pipeline.score(X_valid, y_valid)]) # Evaluate on the validation set\n",
    "    train_scores.append([C, pipeline.score(X_train, y_train)])\n",
    "val_scores = np.array(val_scores)\n",
    "train_scores = np.array(train_scores)\n",
    "\n",
    "plt.plot(train_scores[:,0], train_scores[:,1], 'o-', label='Training Score')\n",
    "plt.plot(val_scores[:,0], val_scores[:,1], 'o-', label='Validation Score')\n",
    "plt.xscale('log')\n",
    "plt.xlabel(\"C Value\")\n",
    "plt.ylabel(\"Accuracy\")\n",
    "_ = plt.legend(loc=\"best\")\n",
    "\n",
    "best_c = val_scores[np.argmax(val_scores[:,1]),0]\n",
    "plt.axvline(best_c, color='red')"
   ]
  },
  {
   "cell_type": "code",
   "execution_count": 8,
   "id": "d3ac4ffc",
   "metadata": {
    "ExecuteTime": {
     "end_time": "2023-09-07T19:43:52.590373Z",
     "start_time": "2023-09-07T19:43:52.558057Z"
    }
   },
   "outputs": [],
   "source": [
    "# Choose C and refit on the training + validation data.\n",
    "\n",
    "X_t = np.vstack((X_train, X_valid))\n",
    "y_t = np.concatenate((y_train, y_valid))\n",
    "\n",
    "final_model = my_fit(C=best_c, X=X_t, y=y_t)"
   ]
  },
  {
   "cell_type": "code",
   "execution_count": 9,
   "id": "114c0c8a",
   "metadata": {
    "ExecuteTime": {
     "end_time": "2023-09-07T19:43:52.612698Z",
     "start_time": "2023-09-07T19:43:52.593661Z"
    }
   },
   "outputs": [
    {
     "name": "stdout",
     "output_type": "stream",
     "text": [
      "Final model performance: 94.44% test, 92.04% train\n"
     ]
    }
   ],
   "source": [
    "# Now we can evaluate on the test set to estimate how this will perform  in the real world.\n",
    "print('Final model performance: {}% test, {}% train'.format(\n",
    "    '%.2f'%(100*final_model.score(X_test, y_test)),\n",
    "    '%.2f'%(100*final_model.score(X_train, y_train))\n",
    "))"
   ]
  },
  {
   "cell_type": "markdown",
   "id": "d504f9cb",
   "metadata": {},
   "source": [
    "K-Fold and Stratified K-Fold\n",
    "---"
   ]
  },
  {
   "cell_type": "markdown",
   "id": "7e4d89d9",
   "metadata": {},
   "source": [
    "There are 2 problems with the holdout approach.\n",
    "\n",
    "1. In the case of classification, we might end up with an uneven distribution of classes in the splits above.  In the worst case, all of one class might end up only in the test set and never be trained on!\n",
    "2. How do we know we made good splits?  Similar to issue (1), if we have a certain distribution of examples in these splits based on those choices, then choosing a different set of splits might result in very different answers.\n",
    "\n",
    "Issue (1) can be solved with [\"stratification\"](https://scikit-learn.org/stable/modules/generated/sklearn.model_selection.StratifiedKFold.html#sklearn.model_selection.StratifiedKFold) - that is, automatically enforcing that the same fraction of each class ends up in each split we make.  sklearn can conveniently do this for you, and this is only an issue for classification problems.\n",
    "\n",
    "Issue (2) can be solved by making many splits and simply averaging out the results.  This is called K-fold CV.\n",
    "\n",
    "<img src=\"https://github.com/rasbt/python-machine-learning-book-3rd-edition/blob/master/ch06/images/06_03.png?raw=true\" style=\"width:500px;\">\n",
    "\n",
    "During each loop, $(k-1)$/$k$ of the data is used to train the model, and the $1/k$ part of the data is kept as the validation set. The validation performance is then averaged across all $k$ different validation sets to get a mean performance for a given model.  This is repeated for all models we wish to test, and the model (set of hyperparameters) with the lowest generalization error is taken.  This is then re-trained on the entire training set; the generalization error is then reported using the held-out test set.\n",
    "\n",
    "In the limit that only 1 point is held out for testing is called [\"Leave One Out CV\" (LOOCV)](https://scikit-learn.org/stable/modules/generated/sklearn.model_selection.LeaveOneOut.html).  This is the most computationally expensive form of CV and usually `k` splits are chosen where `k` is usually 3-10. Using smaller $k$ goes faster, but can result in a poorer estimate of model performance if the data between the splits varies significantly.  For smaller datasets increasing $k$ increases the amount of data that goes into training.  "
   ]
  },
  {
   "cell_type": "code",
   "execution_count": 10,
   "id": "1bd9e5b2",
   "metadata": {
    "ExecuteTime": {
     "end_time": "2023-09-07T19:43:52.628556Z",
     "start_time": "2023-09-07T19:43:52.614222Z"
    }
   },
   "outputs": [],
   "source": [
    "X_dummy = np.array([[1,1,1],[2,2,2],[3,3,3],[4,4,4]])\n",
    "y_dummy = np.arange(4)\n",
    "\n",
    "k = KFold(n_splits=2, shuffle=False)"
   ]
  },
  {
   "cell_type": "code",
   "execution_count": 11,
   "id": "af3376f0",
   "metadata": {
    "ExecuteTime": {
     "end_time": "2023-09-07T19:43:52.695279Z",
     "start_time": "2023-09-07T19:43:52.630627Z"
    }
   },
   "outputs": [
    {
     "name": "stdout",
     "output_type": "stream",
     "text": [
      "[2 3] [0 1]\n",
      "[0 1] [2 3]\n"
     ]
    }
   ],
   "source": [
    "for train_index, test_index in k.split(X_dummy):\n",
    "    print(train_index, test_index)\n",
    "    X_train, X_test = X_dummy[train_index], X_dummy[test_index]\n",
    "    y_train, y_test = y_dummy[train_index], y_dummy[test_index]"
   ]
  },
  {
   "cell_type": "code",
   "execution_count": 12,
   "id": "a02bb924",
   "metadata": {
    "ExecuteTime": {
     "end_time": "2023-09-07T19:43:52.768733Z",
     "start_time": "2023-09-07T19:43:52.697665Z"
    }
   },
   "outputs": [
    {
     "name": "stdout",
     "output_type": "stream",
     "text": [
      "[0 2] [1 3]\n",
      "[1 3] [0 2]\n"
     ]
    }
   ],
   "source": [
    "# The split can also shuffle and randomize X if desired\n",
    "# Shuffling is actually default in sklearn\n",
    "k = KFold(n_splits=2, shuffle=True, random_state=42)\n",
    "for train_index, test_index in k.split(X_dummy):\n",
    "    print(train_index, test_index)\n",
    "    X_train, X_test = X_dummy[train_index], X_dummy[test_index]\n",
    "    y_train, y_test = y_dummy[train_index], y_dummy[test_index]"
   ]
  },
  {
   "cell_type": "code",
   "execution_count": 13,
   "id": "a9a7cad4",
   "metadata": {
    "ExecuteTime": {
     "end_time": "2023-09-07T19:43:56.162748Z",
     "start_time": "2023-09-07T19:43:52.771609Z"
    }
   },
   "outputs": [
    {
     "data": {
      "text/plain": [
       "<matplotlib.lines.Line2D at 0x7f4803ac8250>"
      ]
     },
     "execution_count": 13,
     "metadata": {},
     "output_type": "execute_result"
    },
    {
     "data": {
      "image/png": "[encoded data removed]",
      "text/plain": [
       "<Figure size 640x480 with 1 Axes>"
      ]
     },
     "metadata": {},
     "output_type": "display_data"
    }
   ],
   "source": [
    "# First, split to get test set\n",
    "X_train, X_test, y_train, y_test = train_test_split(\n",
    "    X, \n",
    "    y, \n",
    "    shuffle=True,\n",
    "    random_state=0, \n",
    "    test_size=0.2,\n",
    "    stratify=y # Now let's stratify our splits based on the distribution naturally found in y\n",
    ")\n",
    "\n",
    "# Second, perform k-fold CV on training set\n",
    "k = KFold(n_splits=10, shuffle=True, random_state=0)\n",
    "\n",
    "kf_scores = []\n",
    "for C in np.logspace(-4, 1, 50):\n",
    "    val_scores = []\n",
    "    train_scores = []\n",
    "    for train_index, test_index in k.split(X_train): # Split the training set into k-folds\n",
    "        X_train_, X_valid_ = X_train[train_index], X_train[test_index]\n",
    "        y_train_, y_valid_ = y_train[train_index], y_train[test_index]\n",
    "        pipeline = my_fit(C, X_train_, y_train_)\n",
    "        val_scores.append(pipeline.score(X_valid_, y_valid_))\n",
    "        train_scores.append(pipeline.score(X_train_, y_train_))\n",
    "        \n",
    "    # Average score over all folds\n",
    "    kf_scores.append([C, np.mean(val_scores), np.mean(train_scores)])\n",
    "    \n",
    "kf_scores = np.array(kf_scores)\n",
    "\n",
    "plt.plot(kf_scores[:,0], kf_scores[:,2], 'o-', label='Training Score')\n",
    "plt.plot(kf_scores[:,0], kf_scores[:,1], 'o-', label='Validation Score')\n",
    "plt.xscale('log')\n",
    "plt.xlabel(\"C Value\")\n",
    "plt.ylabel(\"Accuracy\")\n",
    "_ = plt.legend(loc=\"best\")\n",
    "\n",
    "best_c = kf_scores[np.argmax(kf_scores[:,1]), 0] # Choose the best C value based on the validation score\n",
    "plt.axvline(best_c, color='red')"
   ]
  },
  {
   "cell_type": "markdown",
   "id": "5292da37",
   "metadata": {
    "ExecuteTime": {
     "end_time": "2023-09-07T16:17:40.642989Z",
     "start_time": "2023-09-07T16:17:40.615766Z"
    }
   },
   "source": [
    "Note how the shape of the curve is much smoother and the optimal value of C is an order of magnitude larger than before! In fact, this improves the model substantially."
   ]
  },
  {
   "cell_type": "code",
   "execution_count": 14,
   "id": "7de379c7",
   "metadata": {
    "ExecuteTime": {
     "end_time": "2023-09-07T19:43:56.189337Z",
     "start_time": "2023-09-07T19:43:56.165067Z"
    }
   },
   "outputs": [
    {
     "name": "stdout",
     "output_type": "stream",
     "text": [
      "Final model: 97.22% test, 98.59% train\n"
     ]
    }
   ],
   "source": [
    "# Now retrain on the entire training set.\n",
    "final_model = my_fit(C=best_c, X=X_train, y=y_train)\n",
    "\n",
    "# Fourth, report generalization error using test set\n",
    "print('Final model: {}% test, {}% train'.format(\n",
    "    '%.2f'%(100*final_model.score(X_test, y_test)),\n",
    "    '%.2f'%(100*final_model.score(X_train, y_train))\n",
    "))"
   ]
  },
  {
   "cell_type": "markdown",
   "id": "8f6abbd0",
   "metadata": {},
   "source": [
    "Leave Group Out\n",
    "---"
   ]
  },
  {
   "cell_type": "markdown",
   "id": "ad7477e6",
   "metadata": {},
   "source": [
    "We can also define groups and repeat this process at a \"group\" level, where groups can be arbitrarily defined. See [here](https://scikit-learn.org/stable/modules/generated/sklearn.model_selection.GroupKFold.html#sklearn.model_selection.GroupKFold) for scikit-learn's example.\n",
    "\n",
    "This can be helpful if we wish to study create classifiers on the basis of collections and estimate that they generalize well to collections not seen during training.  For example, training on some chemical data that has sets of molecules or atoms and trying to make sure the model can generalize to classes of molecules (e.g., ethers, carboxylic acids, etc.) not used during model fitting.\n",
    "\n",
    "Pushing it to the limit $k = g$ where $g$ is the number of groups results in [leave one group out](https://scikit-learn.org/stable/modules/generated/sklearn.model_selection.LeaveOneGroupOut.html#sklearn.model_selection.LeaveOneGroupOut) CV.\n",
    "\n",
    "A visualization is also discussed [here](https://scikit-learn.org/stable/modules/cross_validation.html#cross-validation-iterators), along with some caveats, such as the fact that folds do not always have the same size."
   ]
  },
  {
   "cell_type": "markdown",
   "id": "a77b2019",
   "metadata": {},
   "source": [
    "Optimizing Hyperparameters\n",
    "---"
   ]
  },
  {
   "cell_type": "markdown",
   "id": "8a5d6170",
   "metadata": {},
   "source": [
    "sklearn has built in functions to do this optimization, and not just on one parameter at a time. At the moment, there are two main approaches: (1) [GridSearch](https://scikit-learn.org/stable/modules/generated/sklearn.model_selection.GridSearchCV.html#sklearn.model_selection.GridSearchCV), and (2) [RandomizedSearch](https://scikit-learn.org/stable/modules/generated/sklearn.model_selection.RandomizedSearchCV.html#sklearn.model_selection.RandomizedSearchCV).  (1) is a brute force search over a grid of parameter values.  It has been argued that true optimum rarely fall on regularly chosen grids so (2) random searching can be better.\n",
    "\n",
    "According to [sklearn's documentation](https://scikit-learn.org/stable/modules/grid_search.html#randomized-parameter-search), there are 2 main benefits of (2) over (1):\n",
    "\n",
    "* A budget can be chosen independent of the number of parameters and possible values.\n",
    "\n",
    "* Adding parameters that do not influence the performance does not decrease efficiency.\n",
    "\n",
    "See their [example](https://scikit-learn.org/stable/auto_examples/model_selection/plot_randomized_search.html#sphx-glr-auto-examples-model-selection-plot-randomized-search-py) for demonstration.\n",
    "\n",
    "(1) is the most common approach, though there is good reason to be more preicse if possible. In fact, it is possible to employ other optimization approaches such as Gaussian process optimization to do even better.  There are standard packages such as [auto-sklearn](https://github.com/automl/auto-sklearn), a complete Auto-ML framework, or [hyperopt-sklearn](https://github.com/hyperopt/hyperopt-sklearn) that can perform this optimization and are essentially just wrappers around the sklearn package."
   ]
  },
  {
   "cell_type": "code",
   "execution_count": 15,
   "id": "dbc5f73e",
   "metadata": {
    "ExecuteTime": {
     "end_time": "2023-09-07T19:43:56.206670Z",
     "start_time": "2023-09-07T19:43:56.190912Z"
    }
   },
   "outputs": [],
   "source": [
    "pipeline = Pipeline(steps=\n",
    "                    [\n",
    "                        ('scaler', CorrectedScaler()),\n",
    "                        ('lr', LogisticRegression(random_state=0, C=C, max_iter=5000))\n",
    "                    ]\n",
    "                   )\n",
    "\n",
    "X_train, X_test, y_train, y_test = train_test_split(\n",
    "    X, \n",
    "    y, \n",
    "    stratify=y, \n",
    "    random_state=42, \n",
    "    test_size=0.2\n",
    ")"
   ]
  },
  {
   "cell_type": "markdown",
   "id": "ab9f7a20",
   "metadata": {},
   "source": [
    "<h3>Grid Search</h3>"
   ]
  },
  {
   "cell_type": "code",
   "execution_count": 16,
   "id": "e7657572",
   "metadata": {
    "ExecuteTime": {
     "end_time": "2023-09-07T19:43:57.965543Z",
     "start_time": "2023-09-07T19:43:56.208008Z"
    }
   },
   "outputs": [],
   "source": [
    "gs = GridSearchCV(estimator=pipeline,\n",
    "                  param_grid=\n",
    "                  [\n",
    "                      {'lr__C':np.logspace(-5,-1,10),\n",
    "                       'scaler__with_std':[False]\n",
    "                      },\n",
    "                      {'lr__C':np.logspace(-3,2,10),\n",
    "                       'scaler__with_std':[True]\n",
    "                      }\n",
    "                  ], # This can be extended to multiple dicts of parameter grids\n",
    "                  cv=sklearn.model_selection.StratifiedKFold(n_splits=5, shuffle=True, random_state=42),\n",
    "                  n_jobs=-1, # Use all available processors\n",
    "                  refit=True, # Automatically refit the best model found on the entire training set (default)\n",
    "                 )\n",
    "\n",
    "_ = gs.fit(X_train, y_train)"
   ]
  },
  {
   "cell_type": "code",
   "execution_count": 17,
   "id": "067bc587",
   "metadata": {
    "ExecuteTime": {
     "end_time": "2023-09-07T19:43:58.008196Z",
     "start_time": "2023-09-07T19:43:57.970379Z"
    }
   },
   "outputs": [
    {
     "data": {
      "text/plain": [
       "{'lr__C': 2.1544346900318843, 'scaler__with_std': True}"
      ]
     },
     "execution_count": 17,
     "metadata": {},
     "output_type": "execute_result"
    }
   ],
   "source": [
    "# The best set of hyperparameters is stored here\n",
    "gs.best_params_"
   ]
  },
  {
   "cell_type": "code",
   "execution_count": 18,
   "id": "222f04c2",
   "metadata": {
    "ExecuteTime": {
     "end_time": "2023-09-07T19:43:58.045882Z",
     "start_time": "2023-09-07T19:43:58.011441Z"
    }
   },
   "outputs": [
    {
     "data": {
      "text/plain": [
       "{'mean_fit_time': array([0.02102184, 0.02132473, 0.028265  , 0.03493538, 0.04606109,\n",
       "        0.05974464, 0.05683136, 0.05574141, 0.09550257, 0.1054822 ,\n",
       "        0.00900283, 0.00858622, 0.00836792, 0.01033745, 0.00881395,\n",
       "        0.0100841 , 0.01174664, 0.01304245, 0.01321802, 0.01318212]),\n",
       " 'std_fit_time': array([0.00162635, 0.00159678, 0.00387283, 0.0042335 , 0.00148539,\n",
       "        0.00552752, 0.00999449, 0.00467312, 0.01257261, 0.0069168 ,\n",
       "        0.00063602, 0.00074513, 0.00030076, 0.00346086, 0.00023149,\n",
       "        0.00059612, 0.00098233, 0.00165367, 0.00180151, 0.00246286]),\n",
       " 'mean_score_time': array([0.00146461, 0.00141387, 0.00141435, 0.00143418, 0.00150275,\n",
       "        0.00139198, 0.00125036, 0.00103326, 0.00115056, 0.00116377,\n",
       "        0.00132895, 0.00134354, 0.0013248 , 0.00144892, 0.00130048,\n",
       "        0.00147023, 0.00133648, 0.00136809, 0.00112596, 0.00115595]),\n",
       " 'std_score_time': array([1.23197965e-04, 4.93173657e-05, 6.66609820e-05, 5.72648671e-05,\n",
       "        3.12973768e-05, 5.98394727e-05, 1.33309940e-04, 5.01750526e-05,\n",
       "        1.52470305e-04, 2.44085363e-04, 1.09159159e-04, 1.10782460e-04,\n",
       "        8.83822014e-05, 1.20231764e-04, 4.46617504e-05, 2.99791757e-04,\n",
       "        9.39362666e-05, 7.35086509e-05, 1.92010050e-04, 1.79384060e-04]),\n",
       " 'param_lr__C': masked_array(data=[1e-05, 2.782559402207126e-05, 7.742636826811278e-05,\n",
       "                    0.00021544346900318823, 0.0005994842503189409,\n",
       "                    0.0016681005372000592, 0.004641588833612777,\n",
       "                    0.012915496650148827, 0.03593813663804626, 0.1, 0.001,\n",
       "                    0.003593813663804626, 0.01291549665014884,\n",
       "                    0.046415888336127795, 0.1668100537200059,\n",
       "                    0.5994842503189409, 2.1544346900318843,\n",
       "                    7.742636826811277, 27.825594022071257, 100.0],\n",
       "              mask=[False, False, False, False, False, False, False, False,\n",
       "                    False, False, False, False, False, False, False, False,\n",
       "                    False, False, False, False],\n",
       "        fill_value='?',\n",
       "             dtype=object),\n",
       " 'param_scaler__with_std': masked_array(data=[False, False, False, False, False, False, False, False,\n",
       "                    False, False, True, True, True, True, True, True, True,\n",
       "                    True, True, True],\n",
       "              mask=[False, False, False, False, False, False, False, False,\n",
       "                    False, False, False, False, False, False, False, False,\n",
       "                    False, False, False, False],\n",
       "        fill_value='?',\n",
       "             dtype=object),\n",
       " 'params': [{'lr__C': 1e-05, 'scaler__with_std': False},\n",
       "  {'lr__C': 2.782559402207126e-05, 'scaler__with_std': False},\n",
       "  {'lr__C': 7.742636826811278e-05, 'scaler__with_std': False},\n",
       "  {'lr__C': 0.00021544346900318823, 'scaler__with_std': False},\n",
       "  {'lr__C': 0.0005994842503189409, 'scaler__with_std': False},\n",
       "  {'lr__C': 0.0016681005372000592, 'scaler__with_std': False},\n",
       "  {'lr__C': 0.004641588833612777, 'scaler__with_std': False},\n",
       "  {'lr__C': 0.012915496650148827, 'scaler__with_std': False},\n",
       "  {'lr__C': 0.03593813663804626, 'scaler__with_std': False},\n",
       "  {'lr__C': 0.1, 'scaler__with_std': False},\n",
       "  {'lr__C': 0.001, 'scaler__with_std': True},\n",
       "  {'lr__C': 0.003593813663804626, 'scaler__with_std': True},\n",
       "  {'lr__C': 0.01291549665014884, 'scaler__with_std': True},\n",
       "  {'lr__C': 0.046415888336127795, 'scaler__with_std': True},\n",
       "  {'lr__C': 0.1668100537200059, 'scaler__with_std': True},\n",
       "  {'lr__C': 0.5994842503189409, 'scaler__with_std': True},\n",
       "  {'lr__C': 2.1544346900318843, 'scaler__with_std': True},\n",
       "  {'lr__C': 7.742636826811277, 'scaler__with_std': True},\n",
       "  {'lr__C': 27.825594022071257, 'scaler__with_std': True},\n",
       "  {'lr__C': 100.0, 'scaler__with_std': True}],\n",
       " 'split0_test_score': array([0.68965517, 0.72413793, 0.72413793, 0.75862069, 0.79310345,\n",
       "        0.82758621, 0.89655172, 0.89655172, 0.89655172, 0.93103448,\n",
       "        0.72413793, 0.89655172, 0.96551724, 0.89655172, 0.89655172,\n",
       "        0.89655172, 0.93103448, 0.93103448, 0.93103448, 0.93103448]),\n",
       " 'split1_test_score': array([0.68965517, 0.72413793, 0.68965517, 0.68965517, 0.68965517,\n",
       "        0.75862069, 0.86206897, 0.89655172, 0.93103448, 0.93103448,\n",
       "        0.68965517, 1.        , 1.        , 1.        , 1.        ,\n",
       "        1.        , 1.        , 1.        , 1.        , 1.        ]),\n",
       " 'split2_test_score': array([0.71428571, 0.71428571, 0.71428571, 0.71428571, 0.78571429,\n",
       "        0.82142857, 0.89285714, 0.96428571, 1.        , 1.        ,\n",
       "        0.67857143, 1.        , 1.        , 1.        , 1.        ,\n",
       "        1.        , 1.        , 1.        , 1.        , 1.        ]),\n",
       " 'split3_test_score': array([0.57142857, 0.60714286, 0.60714286, 0.60714286, 0.60714286,\n",
       "        0.67857143, 0.78571429, 0.85714286, 0.85714286, 0.85714286,\n",
       "        0.64285714, 0.96428571, 0.96428571, 0.96428571, 1.        ,\n",
       "        1.        , 1.        , 1.        , 1.        , 1.        ]),\n",
       " 'split4_test_score': array([0.67857143, 0.71428571, 0.71428571, 0.71428571, 0.82142857,\n",
       "        0.85714286, 0.96428571, 0.96428571, 0.96428571, 0.96428571,\n",
       "        0.71428571, 0.96428571, 0.96428571, 0.96428571, 0.96428571,\n",
       "        0.96428571, 0.96428571, 0.92857143, 0.92857143, 0.92857143]),\n",
       " 'mean_test_score': array([0.66871921, 0.69679803, 0.68990148, 0.69679803, 0.73940887,\n",
       "        0.78866995, 0.88029557, 0.91576355, 0.92980296, 0.93669951,\n",
       "        0.68990148, 0.96502463, 0.97881773, 0.96502463, 0.97216749,\n",
       "        0.97216749, 0.97906404, 0.97192118, 0.97192118, 0.97192118]),\n",
       " 'std_test_score': array([0.05003093, 0.0450436 , 0.04291938, 0.05004548, 0.07965458,\n",
       "        0.06371936, 0.05788649, 0.04215062, 0.05000667, 0.047247  ,\n",
       "        0.0286647 , 0.03777879, 0.01730109, 0.03777879, 0.04025869,\n",
       "        0.04025869, 0.02771346, 0.03439821, 0.03439821, 0.03439821]),\n",
       " 'rank_test_score': array([20, 16, 18, 16, 15, 14, 13, 12, 11, 10, 18,  8,  2,  8,  3,  3,  1,\n",
       "         5,  5,  5], dtype=int32)}"
      ]
     },
     "execution_count": 18,
     "metadata": {},
     "output_type": "execute_result"
    }
   ],
   "source": [
    "# Detailed CV history can be access like this\n",
    "gs.cv_results_"
   ]
  },
  {
   "cell_type": "code",
   "execution_count": 19,
   "id": "f2896647",
   "metadata": {
    "ExecuteTime": {
     "end_time": "2023-09-07T19:43:58.130719Z",
     "start_time": "2023-09-07T19:43:58.048960Z"
    }
   },
   "outputs": [
    {
     "name": "stdout",
     "output_type": "stream",
     "text": [
      "Train set accuracy = 100.0%\n",
      "Test set accuracy = 97.2%\n"
     ]
    }
   ],
   "source": [
    "# Since refit=True, the best model was then retrained on the best hyperparameter set\n",
    "print('Train set accuracy = {}%\\nTest set accuracy = {}%'.format(\n",
    "    '%.1f'%(100*gs.score(X_train, y_train)),\n",
    "    '%.1f'%(100*gs.score(X_test, y_test))\n",
    "))"
   ]
  },
  {
   "cell_type": "markdown",
   "id": "c990b7d6",
   "metadata": {},
   "source": [
    "<h3>Random Search</h3>"
   ]
  },
  {
   "cell_type": "code",
   "execution_count": 20,
   "id": "7d4c8aac",
   "metadata": {
    "ExecuteTime": {
     "end_time": "2023-09-07T19:43:58.210240Z",
     "start_time": "2023-09-07T19:43:58.133704Z"
    }
   },
   "outputs": [],
   "source": [
    "# Look at scipy.stats to see the available distributions."
   ]
  },
  {
   "cell_type": "code",
   "execution_count": 21,
   "id": "ab87c8e3",
   "metadata": {
    "ExecuteTime": {
     "end_time": "2023-09-07T19:43:58.765317Z",
     "start_time": "2023-09-07T19:43:58.214145Z"
    }
   },
   "outputs": [],
   "source": [
    "gs = RandomizedSearchCV(\n",
    "    estimator=pipeline,\n",
    "    param_distributions= # These are now distributions, not \n",
    "    [\n",
    "        {\n",
    "            'lr__C':uniform(loc=1.0e-3, scale=1.0e-2),\n",
    "            'scaler__with_std':[False]\n",
    "        },\n",
    "        {\n",
    "            'lr__C':uniform(loc=5.0, scale=2.0),\n",
    "            'scaler__with_std':[True]\n",
    "        }\n",
    "    ], # This can be extended to multiple dicts of parameter grids\n",
    "    cv=sklearn.model_selection.StratifiedKFold(n_splits=5, shuffle=True, random_state=42),\n",
    "    n_jobs=-1, # Use all available processors\n",
    "    refit=True, # Automatically refit the best model found on the entire training set (default)\n",
    "    n_iter=30, # Number of parameter settings that are sampled\n",
    "    random_state=42\n",
    ")\n",
    "\n",
    "_ = gs.fit(X_train, y_train)"
   ]
  },
  {
   "cell_type": "code",
   "execution_count": 22,
   "id": "762a2fdb",
   "metadata": {
    "ExecuteTime": {
     "end_time": "2023-09-07T19:43:58.797776Z",
     "start_time": "2023-09-07T19:43:58.768076Z"
    }
   },
   "outputs": [
    {
     "data": {
      "text/plain": [
       "{'lr__C': 5.3119890406724055, 'scaler__with_std': True}"
      ]
     },
     "execution_count": 22,
     "metadata": {},
     "output_type": "execute_result"
    }
   ],
   "source": [
    "gs.best_params_"
   ]
  },
  {
   "cell_type": "code",
   "execution_count": 23,
   "id": "95f0b5f4",
   "metadata": {
    "ExecuteTime": {
     "end_time": "2023-09-07T19:43:58.827389Z",
     "start_time": "2023-09-07T19:43:58.800365Z"
    }
   },
   "outputs": [
    {
     "name": "stdout",
     "output_type": "stream",
     "text": [
      "Train set accuracy = 100.0%\n",
      "Test set accuracy = 97.2%\n"
     ]
    }
   ],
   "source": [
    "# Slightly different values but identical performance\n",
    "print('Train set accuracy = {}%\\nTest set accuracy = {}%'.format(\n",
    "    '%.1f'%(100*gs.score(X_train, y_train)),\n",
    "    '%.1f'%(100*gs.score(X_test, y_test))\n",
    "))"
   ]
  },
  {
   "cell_type": "markdown",
   "id": "6c33df36",
   "metadata": {},
   "source": [
    "Nested CV\n",
    "---"
   ]
  },
  {
   "cell_type": "markdown",
   "id": "cf0fe429",
   "metadata": {},
   "source": [
    "Until now we have had one number which is our estimate of the model's generalization performance. This is because we has a single held-out test set.  But how do we know that was a \"fair\" split?  The same uncertainty led us to use K different splits instead of a single test/validation split.  It stands to reason the same logic could be used to solve this problem.  This is the idea behind nested CV.  Instead of 1 held out test set, we repeat the entire K-fold exercise several times, each time with a different test set.  By averaging the test set performance we can get a number (the average performance) and a standard deviation (uncertainty) which can be more insightful.\n",
    "\n",
    "<img src=\"https://github.com/rasbt/python-machine-learning-book-3rd-edition/blob/master/ch06/images/06_07.png?raw=true\" style=\"width:500px;\">\n",
    "\n",
    "Importantly, on one outer loop the inner loop will decide the hyperparameters for a model (like C for LogisticRegression), but another loop might find a completely different value for this.  This does not matter.  Ultimately, all we are trying to get here is the final **generalization error estimate** not the best value of the hyperparameters!  Instead, after nested CV is finished, you should perform k-fold CV on the **entire dataset** (instead of doing the initial test/train split) to identify the best hyperparameters unambiguously, then retrain that model on the entire data set to produce the final production model.  \n",
    "\n",
    "**You simply report the expected performance and uncertainty of that final model as the mean and standard deviation initially found from nested CV.**  This is because the nested CV was meant to simulate what happens when you perform this series of steps (data splitting, hyperparameter tuning, model training) on a fixed dataset.  The final model is just one realization of this scenario which was simulated many times to get an average and uncertainty."
   ]
  },
  {
   "cell_type": "code",
   "execution_count": 63,
   "id": "a62bb8ca",
   "metadata": {
    "ExecuteTime": {
     "end_time": "2023-09-08T12:41:52.212646Z",
     "start_time": "2023-09-08T12:41:52.185327Z"
    }
   },
   "outputs": [],
   "source": [
    "# 1. Let's compare 2 different models/pipelines.\n",
    "\n",
    "def make_svc(k_inner, random_state_inner=42):\n",
    "    pipe_svc = Pipeline(steps=[\n",
    "        (\"scaler\", CorrectedScaler()),\n",
    "        (\"model\", SVC())\n",
    "    ])\n",
    "    gs_svc = GridSearchCV(\n",
    "        estimator=pipe_svc,\n",
    "        param_grid=[{'model__C': [0.0001, 0.001, 0.01, 0.1, 1.0, 10.0, 100.0, 1000.0]}],\n",
    "        scoring='accuracy',\n",
    "        cv=sklearn.model_selection.StratifiedKFold( # Since this is a classification problem we will stratify\n",
    "            n_splits=k_inner,\n",
    "            shuffle=True,\n",
    "            random_state=random_state_inner\n",
    "        ),\n",
    "        refit=True\n",
    "    )\n",
    "    \n",
    "    return gs_svc\n",
    "\n",
    "def make_tree(k_inner, random_state_inner=42):\n",
    "    gs_tree = GridSearchCV(\n",
    "        estimator=DecisionTreeClassifier(random_state=0),\n",
    "        param_grid=[{'max_depth': [1, 2, 3, 4, 5, 6, 7, None]}],\n",
    "        scoring='accuracy',\n",
    "        cv=sklearn.model_selection.StratifiedKFold( # Since this is a classification problem we will stratify\n",
    "            n_splits=k_inner,\n",
    "            shuffle=True,\n",
    "            random_state=random_state_inner\n",
    "        ),\n",
    "        refit=True\n",
    "    )\n",
    "    \n",
    "    return gs_tree\n",
    "\n",
    "def perform_nested_cv(inner_model, k_outer, random_state_outer=42):\n",
    "    # cross_val_score is a utility from sklearn that performs CV and returns the test set scores. This\n",
    "    # is what effectively creates the different test sets\n",
    "    # By passing a grid search CV object, the inner loop is handled by this object\n",
    "    scores = cross_val_score(\n",
    "        inner_model, \n",
    "        X_train, \n",
    "        y_train, \n",
    "        scoring='accuracy', \n",
    "        cv=sklearn.model_selection.StratifiedKFold(\n",
    "            n_splits=k_outer,\n",
    "            shuffle=True,\n",
    "            random_state=random_state_outer\n",
    "        )\n",
    "    )\n",
    "    \n",
    "    return scores\n",
    "    \n",
    "def compare_pipelines(X_train, y_train):\n",
    "    \"\"\"These values need to be the same to make a fair comparison\"\"\"\n",
    "    k_inner = 2\n",
    "    k_outer = 5\n",
    "    random_state_inner = 42\n",
    "    random_state_outer = 0\n",
    "    \n",
    "    scores = perform_nested_cv(\n",
    "        make_svc(k_inner=k_inner, random_state_inner=random_state_inner), \n",
    "        k_outer=k_outer, \n",
    "        random_state_outer=random_state_outer\n",
    "    )\n",
    "    print('%dx%d Nested CV accuracy for SVC: %.3f +/- %.3f' % (k_outer, k_inner, np.mean(scores), np.std(scores)))\n",
    "    print('Raw scores: {}\\n'.format(scores))\n",
    "    \n",
    "    scores = perform_nested_cv(\n",
    "        make_tree(k_inner=k_inner, random_state_inner=random_state_inner), \n",
    "        k_outer=k_outer, \n",
    "        random_state_outer=random_state_outer\n",
    "    )\n",
    "    print('%dx%d Nested CV accuracy for Tree: %.3f +/- %.3f' % (k_outer, k_inner, np.mean(scores), np.std(scores)))\n",
    "    print('Raw scores: {}\\n'.format(scores))"
   ]
  },
  {
   "cell_type": "code",
   "execution_count": 64,
   "id": "c520c456",
   "metadata": {
    "ExecuteTime": {
     "end_time": "2023-09-08T12:41:52.865468Z",
     "start_time": "2023-09-08T12:41:52.326550Z"
    }
   },
   "outputs": [
    {
     "name": "stdout",
     "output_type": "stream",
     "text": [
      "5x2 Nested CV accuracy for SVC: 0.979 +/- 0.041\n",
      "Raw scores: [0.89655172 1.         1.         1.         1.        ]\n",
      "\n",
      "5x2 Nested CV accuracy for Tree: 0.915 +/- 0.043\n",
      "Raw scores: [0.89655172 0.96551724 0.89285714 0.85714286 0.96428571]\n",
      "\n"
     ]
    }
   ],
   "source": [
    "# Each score contains k_outer different scores - in principle, each outer look could have a different set of model\n",
    "# hyperparameters; but this is ok - we are not building the final model, just trying to see which is a better one\n",
    "# on average.\n",
    "\n",
    "compare_pipelines(X_train, y_train)"
   ]
  },
  {
   "cell_type": "markdown",
   "id": "33d47f94",
   "metadata": {
    "ExecuteTime": {
     "end_time": "2023-09-08T12:25:59.267131Z",
     "start_time": "2023-09-08T12:25:59.238546Z"
    }
   },
   "source": [
    "This suggests the SVC pipeline is the better model.  So let's proceed with that model."
   ]
  },
  {
   "cell_type": "code",
   "execution_count": 65,
   "id": "c14aa703",
   "metadata": {
    "ExecuteTime": {
     "end_time": "2023-09-08T12:44:12.157962Z",
     "start_time": "2023-09-08T12:44:11.783157Z"
    }
   },
   "outputs": [],
   "source": [
    "# 2. Having made a decision, we should now train the final model.\n",
    "\n",
    "svc_pipe = make_svc(\n",
    "    k_inner=10, # We can choose a larger number of splits for a better estimate of optimal hyperparameters here.\n",
    "    random_state_inner=42\n",
    ")\n",
    "\n",
    "# Recall the `refit=True` is specified so after the best hyperparameters are found the model is refit on the entire \n",
    "# training set.\n",
    "_ = svc_pipe.fit(X_train, y_train)"
   ]
  },
  {
   "cell_type": "code",
   "execution_count": 68,
   "id": "0b3fba46",
   "metadata": {
    "ExecuteTime": {
     "end_time": "2023-09-08T12:44:32.606172Z",
     "start_time": "2023-09-08T12:44:32.568772Z"
    }
   },
   "outputs": [
    {
     "data": {
      "text/plain": [
       "1.0"
      ]
     },
     "execution_count": 68,
     "metadata": {},
     "output_type": "execute_result"
    }
   ],
   "source": [
    "# We can evaluate this model on the held out test to see how it does.\n",
    "svc_pipe.score(X_test, y_test)"
   ]
  },
  {
   "cell_type": "code",
   "execution_count": 73,
   "id": "a3f64248",
   "metadata": {
    "ExecuteTime": {
     "end_time": "2023-09-08T12:50:05.574452Z",
     "start_time": "2023-09-08T12:50:05.170312Z"
    }
   },
   "outputs": [],
   "source": [
    "# However, we do not need to use this estimate.  We already know how the SVC pipeline performes on the \"average\" test set\n",
    "# which was given above (97.9 +/- 4.1%).  In a real-world situation, it is common to retrain the model using all the data.\n",
    "\n",
    "_ = svc_pipe.fit(np.vstack((X_train, X_test)), np.concatenate((y_train, y_test)))\n",
    "\n",
    "# This model's performance is then reported as the nested CV performance (97.9 +/- 4.1%) since we have nothing left to \n",
    "# test on."
   ]
  }
 ],
 "metadata": {
  "language_info": {
   "codemirror_mode": {
    "name": "ipython",
    "version": 3
   },
   "file_extension": ".py",
   "mimetype": "text/x-python",
   "name": "python",
   "nbconvert_exporter": "python",
   "pygments_lexer": "ipython3",
   "version": "3.11.4"
  }
 },
 "nbformat": 4,
 "nbformat_minor": 5
}
