{
 "cells": [
  {
   "cell_type": "markdown",
   "id": "99dbb825",
   "metadata": {
    "ExecuteTime": {
     "end_time": "2023-09-26T19:14:02.419671Z",
     "start_time": "2023-09-26T19:14:02.407877Z"
    }
   },
   "source": [
    "Interpretable Machine Learning Models of Chemometric Trends in Seabirds of the North Pacific Ocean\n",
    "==="
   ]
  },
  {
   "cell_type": "markdown",
   "id": "28d6d300",
   "metadata": {},
   "source": [
    "Author: Nathan A. Mahynski\n",
    "\n",
    "Date: 2023/09/27\n",
    "\n",
    "Description: Identifying chemometric trends in seabird eggs.\n",
    "\n",
    "[![Open In Colab](https://colab.research.google.com/assets/colab-badge.svg)](https://colab.research.google.com/github/mahynski/pychemauth/blob/main/docs/jupyter/gallery/example_2023_stamp.ipynb)"
   ]
  },
  {
   "cell_type": "markdown",
   "id": "609a6cbe",
   "metadata": {
    "ExecuteTime": {
     "end_time": "2023-09-26T19:17:39.869746Z",
     "start_time": "2023-09-26T19:17:39.858479Z"
    }
   },
   "source": [
    "This is based on [Mahynski, N.A., Ragland, J.M., Schuur, S.S. et al. Building Interpretable Machine Learning Models to Identify Chemometric Trends in Seabirds of the North Pacific Ocean. Env. Sci. & Tech. 56, 14361–14374 (2022). https://doi.org/10.1021/acs.est.2c01894](https://doi.org/10.1021/acs.est.2c01894)\n",
    "\n",
    "~~~code\n",
    "@article{mahynski2022building,\n",
    "  title={Building Interpretable Machine Learning Models to Identify Chemometric Trends in Seabirds of the North Pacific Ocean},\n",
    "  author={Mahynski, Nathan A and Ragland, Jared M and Schuur, Stacy S and Shen, Vincent K},\n",
    "  journal={Environmental Science \\& Technology},\n",
    "  volume={56},\n",
    "  number={20},\n",
    "  pages={14361--14374},\n",
    "  year={2022},\n",
    "  publisher={ACS Publications}\n",
    "}\n",
    "~~~\n",
    "\n",
    "Also see the associated [GitHub repository](https://github.com/mahynski/stamp-dataset-1999-2010)."
   ]
  },
  {
   "cell_type": "code",
   "execution_count": null,
   "id": "d8ecc54c",
   "metadata": {},
   "outputs": [],
   "source": [
    "if 'google.colab' in str(get_ipython()):\n",
    "    !pip install git+https://github.com/mahynski/pychemauth@main\n",
    "    import os\n",
    "    os.kill(os.getpid(), 9) # Automatically restart the runtime to reload libraries"
   ]
  },
  {
   "cell_type": "code",
   "execution_count": null,
   "id": "88e6bb67",
   "metadata": {},
   "outputs": [],
   "source": [
    "try:\n",
    "    import pychemauth\n",
    "except:\n",
    "    raise ImportError(\"pychemauth not installed\")\n",
    "\n",
    "import matplotlib.pyplot as plt\n",
    "%matplotlib inline\n",
    "\n",
    "import watermark\n",
    "%load_ext watermark\n",
    "\n",
    "%load_ext autoreload\n",
    "%autoreload 2"
   ]
  },
  {
   "cell_type": "code",
   "execution_count": null,
   "id": "9a373a07",
   "metadata": {},
   "outputs": [],
   "source": [
    "from pychemauth.datasets import load_stamp"
   ]
  },
  {
   "cell_type": "code",
   "execution_count": null,
   "id": "b3445615",
   "metadata": {},
   "outputs": [],
   "source": [
    "%watermark -t -m -v --iversions"
   ]
  },
  {
   "cell_type": "markdown",
   "id": "a647cd2e",
   "metadata": {},
   "source": [
    "<h3>Load the Data</h3>"
   ]
  },
  {
   "cell_type": "code",
   "execution_count": null,
   "id": "aac8aa55",
   "metadata": {},
   "outputs": [],
   "source": [
    "# You will need an active internet connection - this function loads the data directly from the GitHub repo above.\n",
    "data_bunch = load_stamp()"
   ]
  },
  {
   "cell_type": "code",
   "execution_count": null,
   "id": "d2a24b24",
   "metadata": {},
   "outputs": [],
   "source": [
    "data_bunch.keys()"
   ]
  },
  {
   "cell_type": "code",
   "execution_count": null,
   "id": "085f6c9b",
   "metadata": {},
   "outputs": [],
   "source": [
    "data_bunch['DESCR']"
   ]
  }
 ],
 "metadata": {
  "kernelspec": {
   "display_name": "oyster-provenance",
   "language": "python",
   "name": "oyster-provenance"
  },
  "language_info": {
   "codemirror_mode": {
    "name": "ipython",
    "version": 3
   },
   "file_extension": ".py",
   "mimetype": "text/x-python",
   "name": "python",
   "nbconvert_exporter": "python",
   "pygments_lexer": "ipython3",
   "version": "3.11.4"
  }
 },
 "nbformat": 4,
 "nbformat_minor": 5
}
