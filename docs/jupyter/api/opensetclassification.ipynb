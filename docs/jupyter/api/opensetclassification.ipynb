{
 "cells": [
  {
   "cell_type": "markdown",
   "id": "2a37e4ac",
   "metadata": {},
   "source": [
    "Classification Under Open Set Conditions\n",
    "==="
   ]
  },
  {
   "cell_type": "markdown",
   "id": "08362bc8",
   "metadata": {},
   "source": [
    "Author: Nathan A. Mahynski\n",
    "\n",
    "Date: 2023/08/31\n",
    "\n",
    "Description: Building classifiers that work in the \"open world.\"\n",
    "\n",
    "[![Open In Colab](https://colab.research.google.com/assets/colab-badge.svg)](https://colab.research.google.com/github/mahynski/pychemauth/blob/main/docs/jupyter/api/opensetclassification.ipynb)"
   ]
  },
  {
   "cell_type": "markdown",
   "id": "1bdd7706",
   "metadata": {},
   "source": [
    "Conventional classifiers often assume there exist a finite set of known classes.\n",
    "\n",
    "$$C_{\\rm assumed} = [C_1, C_2, C_3]$$\n",
    "\n",
    "To train such a model, these classes should be sampled (often evenly) in such a way that during testing / deployment the new observations will come from the same distribution as the training samples (IID).  Class balancing and cross-validation are common tools used to handle uncertainty in the latter of these assumptions, however, in the real world there are often many other (possibly infinite number of) classes that are not available at training time which a classifier might encounter when deployed.  \n",
    "\n",
    "$$C_{\\rm reality} = [C_1, C_2, C_3, \\dots)$$\n",
    "\n",
    "This image is from [Scheirer et al., \"Toward Open Set Recognition\" (2012)](https://ieeexplore.ieee.org/abstract/document/6365193) which originally formalized the open set recognition (OSR) problem:\n",
    "\n",
    "<img src=\"../../_static/osr_definition.png\" style=\"width:500px;\">\n",
    "\n",
    "Note that the \"face verification\" problem is essentially a one-class authentication problem. This \"open set\" of possibilities means that a classifier should be able to recognize the known classes seen during training, but also recognize when a test case is \"none of the above.\"  There are a variety of algorithms designed to do this and related tasks.  Here a few references that summarize some ontologies:\n",
    "\n",
    "1. [Yang et al., Generalized Out-of-Distribution Detection: A Survey](https://arxiv.org/abs/2110.11334)\n",
    "2. [Geng et al., Recent Advances in Open Set Recognition: A Survey](https://ieeexplore.ieee.org/abstract/document/9040673)\n",
    "\n",
    "The OSR task refers to when the model should be able to identify known classes and reject unknown ones.  By some classification schemes, the process of simply rejecting an input as being from an unknown class is referred to as a \"reject\" option.  OSR tasks are closely related to one-class classifiers (OCC) used for authentication purposes.  An OSR-capable model can be constructed by chaining together multiple OCCs, each designed to recognize a single class.  [Soft PLS-DA](../learn/plsda.ipynb) is another example of model capable of handling open-set conditions. Another *ad hoc*, but general, way to handle an OSR task is to combine an outlier detector with a closed set classifier (blue pathway below). Green and red pathways illustrate [\"compliant\" and \"rigorous\"](simca.ipynb#Building-an-Authenticator) OCC training schemes, respectively.  The \"pipeline\" is any composite model, possibly including other preprocessing steps.\n",
    "\n",
    "<img src=\"../../_static/osr.png\" style=\"width:250px;\">\n",
    "\n",
    "The outlier detector illustrated here determines if a sample is out of distribution (OOD), and sends only those in distribution (ID) to the classifier.  In this way, the outlier detector determines if the input is coming from a \"known\" region of parameter space which the classifier should be responsible for.  If not, the input is simply assigned to an \"unknown\" class.  Otherwise, the closed-set classifier is assumed to be responsible for identifying the input as one of its known classes.  The outlier detector itself may use a variety of different assumptions depending on which detector is used, as may the classifier, but this combination method is very general and can be applied with different sorts of outlier detectors and classification models.\n",
    "\n",
    "We have implemented a basic `OpenSetClassifier` model in PyChemAuth which we illustrate for a variety of different conditions below. Depending on the classification model being used the performance metric may vary.  \n",
    "\n",
    "The `OpenSetClassifier` works as follows:\n",
    "1. Select known classes to use from training data (typically all that are available).\n",
    "2. Send knowns to outlier detector (OD) to train it.\n",
    "3. Use fitted OD to predict inliers on training data.\n",
    "4. Send inlying, known class examples to classifier to train on.\n",
    "\n",
    "During test time, new samples are first given to the OD; if considered an inlier, then the classifier is called to identify the sample, otherwise it is labeled as \"unknown\".\n",
    "\n",
    "Note that if the underlying classification model is capable of detecting outliers (or rejecting acceptance, as in OCC) we should be able to combine those (1) rejected because the test sample belongs to an known alternative (\"known unknown\") with those (2) rejected because they are from an unknown alternative class (\"unknown unknown\") to compute performance metrics.  Sometimes it is useful to avoid this to identify why a sample was rejected (by the model or the outlier detector?).  Examples of this are illustrated below.\n",
    "\n",
    "There are many classification models available in both PyChemAuth and [scikit-learn](https://scikit-learn.org/stable/index.html); the latter also offers various [outlier detection routines](https://scikit-learn.org/stable/modules/outlier_detection.html), but there are many more available in compatbile libraries such as [pyOD](https://pyod.readthedocs.io/en/latest/)."
   ]
  },
  {
   "cell_type": "code",
   "execution_count": 1,
   "id": "34be19e0",
   "metadata": {
    "ExecuteTime": {
     "end_time": "2024-01-19T16:40:32.840124Z",
     "start_time": "2024-01-19T16:40:32.833930Z"
    }
   },
   "outputs": [],
   "source": [
    "if 'google.colab' in str(get_ipython()):\n",
    "    !pip install git+https://github.com/mahynski/pychemauth@main\n",
    "    import os\n",
    "    os.kill(os.getpid(), 9) # Automatically restart the runtime to reload libraries"
   ]
  },
  {
   "cell_type": "code",
   "execution_count": 2,
   "id": "44b2b90c",
   "metadata": {
    "ExecuteTime": {
     "end_time": "2024-01-19T16:40:33.292478Z",
     "start_time": "2024-01-19T16:40:32.843567Z"
    }
   },
   "outputs": [],
   "source": [
    "try:\n",
    "    import pychemauth\n",
    "except:\n",
    "    raise ImportError(\"pychemauth not installed\")\n",
    "    \n",
    "import matplotlib.pyplot as plt\n",
    "%matplotlib inline\n",
    "\n",
    "import watermark\n",
    "%load_ext watermark\n",
    "\n",
    "%load_ext autoreload\n",
    "%autoreload 2"
   ]
  },
  {
   "cell_type": "code",
   "execution_count": 3,
   "id": "25386e38",
   "metadata": {
    "ExecuteTime": {
     "end_time": "2024-01-19T16:40:34.293085Z",
     "start_time": "2024-01-19T16:40:33.295438Z"
    }
   },
   "outputs": [],
   "source": [
    "import sklearn\n",
    "import numpy as np\n",
    "from pychemauth.classifier.osr import OpenSetClassifier\n",
    "from pychemauth.classifier.plsda import PLSDA\n",
    "from sklearn.ensemble import IsolationForest, RandomForestClassifier\n",
    "from pychemauth.manifold.elliptic import EllipticManifold_Model\n",
    "from pychemauth.classifier.simca import SIMCA_Authenticator"
   ]
  },
  {
   "cell_type": "code",
   "execution_count": 4,
   "id": "946ae9ec",
   "metadata": {
    "ExecuteTime": {
     "end_time": "2024-01-19T16:40:34.344150Z",
     "start_time": "2024-01-19T16:40:34.295422Z"
    }
   },
   "outputs": [
    {
     "name": "stdout",
     "output_type": "stream",
     "text": [
      "Python implementation: CPython\n",
      "Python version       : 3.11.4\n",
      "IPython version      : 8.14.0\n",
      "\n",
      "Compiler    : GCC 12.2.0\n",
      "OS          : Linux\n",
      "Release     : 6.2.0-39-generic\n",
      "Machine     : x86_64\n",
      "Processor   : x86_64\n",
      "CPU cores   : 40\n",
      "Architecture: 64bit\n",
      "\n",
      "watermark : 2.4.3\n",
      "json      : 2.0.9\n",
      "numpy     : 1.24.3\n",
      "matplotlib: 3.7.2\n",
      "pychemauth: 0.0.0b4\n",
      "sklearn   : 1.3.0\n",
      "\n"
     ]
    }
   ],
   "source": [
    "%watermark -t -m -v --iversions"
   ]
  },
  {
   "cell_type": "markdown",
   "id": "d284e1cb",
   "metadata": {},
   "source": [
    "Load Example Data\n",
    "---"
   ]
  },
  {
   "cell_type": "code",
   "execution_count": 5,
   "id": "2a944dd9",
   "metadata": {
    "ExecuteTime": {
     "end_time": "2024-01-19T16:40:34.417984Z",
     "start_time": "2024-01-19T16:40:34.346571Z"
    }
   },
   "outputs": [
    {
     "data": {
      "text/html": [
       "<div>\n",
       "<style scoped>\n",
       "    .dataframe tbody tr th:only-of-type {\n",
       "        vertical-align: middle;\n",
       "    }\n",
       "\n",
       "    .dataframe tbody tr th {\n",
       "        vertical-align: top;\n",
       "    }\n",
       "\n",
       "    .dataframe thead th {\n",
       "        text-align: right;\n",
       "    }\n",
       "</style>\n",
       "<table border=\"1\" class=\"dataframe\">\n",
       "  <thead>\n",
       "    <tr style=\"text-align: right;\">\n",
       "      <th></th>\n",
       "      <th>sepal length (cm)</th>\n",
       "      <th>sepal width (cm)</th>\n",
       "      <th>petal length (cm)</th>\n",
       "      <th>petal width (cm)</th>\n",
       "    </tr>\n",
       "  </thead>\n",
       "  <tbody>\n",
       "    <tr>\n",
       "      <th>0</th>\n",
       "      <td>5.1</td>\n",
       "      <td>3.5</td>\n",
       "      <td>1.4</td>\n",
       "      <td>0.2</td>\n",
       "    </tr>\n",
       "    <tr>\n",
       "      <th>1</th>\n",
       "      <td>4.9</td>\n",
       "      <td>3.0</td>\n",
       "      <td>1.4</td>\n",
       "      <td>0.2</td>\n",
       "    </tr>\n",
       "    <tr>\n",
       "      <th>2</th>\n",
       "      <td>4.7</td>\n",
       "      <td>3.2</td>\n",
       "      <td>1.3</td>\n",
       "      <td>0.2</td>\n",
       "    </tr>\n",
       "    <tr>\n",
       "      <th>3</th>\n",
       "      <td>4.6</td>\n",
       "      <td>3.1</td>\n",
       "      <td>1.5</td>\n",
       "      <td>0.2</td>\n",
       "    </tr>\n",
       "    <tr>\n",
       "      <th>4</th>\n",
       "      <td>5.0</td>\n",
       "      <td>3.6</td>\n",
       "      <td>1.4</td>\n",
       "      <td>0.2</td>\n",
       "    </tr>\n",
       "  </tbody>\n",
       "</table>\n",
       "</div>"
      ],
      "text/plain": [
       "   sepal length (cm)  sepal width (cm)  petal length (cm)  petal width (cm)\n",
       "0                5.1               3.5                1.4               0.2\n",
       "1                4.9               3.0                1.4               0.2\n",
       "2                4.7               3.2                1.3               0.2\n",
       "3                4.6               3.1                1.5               0.2\n",
       "4                5.0               3.6                1.4               0.2"
      ]
     },
     "execution_count": 5,
     "metadata": {},
     "output_type": "execute_result"
    }
   ],
   "source": [
    "from sklearn.datasets import load_iris as load_data\n",
    "X, y = load_data(return_X_y=True, as_frame=True)\n",
    "\n",
    "# Let's turn the indices into names\n",
    "names = dict(zip(np.arange(3), ['setosa', 'versicolor', 'virginica']))\n",
    "y = y.apply(lambda x: names[x])\n",
    "\n",
    "X.head()"
   ]
  },
  {
   "cell_type": "code",
   "execution_count": 7,
   "id": "8c4428ca",
   "metadata": {
    "ExecuteTime": {
     "end_time": "2024-01-19T16:40:34.523001Z",
     "start_time": "2024-01-19T16:40:34.442687Z"
    }
   },
   "outputs": [],
   "source": [
    "from sklearn.model_selection import train_test_split\n",
    "\n",
    "X_train, X_test, y_train, y_test = train_test_split(\n",
    "    X.values,\n",
    "    y.values, \n",
    "    shuffle=True,\n",
    "    random_state=42,\n",
    "    test_size=0.2,\n",
    "    stratify=y # It is usually important to balance the test and train set so they have the same fraction of classes\n",
    ")"
   ]
  },
  {
   "cell_type": "code",
   "execution_count": 8,
   "id": "26d8a864",
   "metadata": {
    "ExecuteTime": {
     "end_time": "2024-01-19T16:40:34.815787Z",
     "start_time": "2024-01-19T16:40:34.524519Z"
    }
   },
   "outputs": [
    {
     "data": {
      "image/png": "[encoded data removed]",
      "text/plain": [
       "<Figure size 640x480 with 1 Axes>"
      ]
     },
     "metadata": {},
     "output_type": "display_data"
    }
   ],
   "source": [
    "for class_ in ['setosa', 'versicolor', 'virginica']:\n",
    "    mask = y_train == class_\n",
    "    plt.plot(X_train[mask][:,0], X_train[mask][:,1], 'o', label=class_)\n",
    "plt.xlabel('Column 1 (sepal length)')\n",
    "plt.ylabel('Column 2 (sepal width)')\n",
    "_ = plt.legend(loc='best')"
   ]
  },
  {
   "cell_type": "markdown",
   "id": "d42c8401",
   "metadata": {},
   "source": [
    "# Case 1: Multiclass Hard Model\n",
    "\n",
    "Hard models divide the input / latent space into disjoint regions for each known class.  By adding an outlier detector (OD), we can effectively turn this discriminator into a class model that uses OD to create finite regions of space in which we should expect the hard model to work correctly."
   ]
  },
  {
   "cell_type": "markdown",
   "id": "962bdcc1",
   "metadata": {},
   "source": [
    "Recall from [our example using PLS-DA](plsda.ipynb), that hard PLS-DA with 3 components (and other hyperparamters below) has a 2D space which can divide the three iris flowers reasonably well.  Here, let's just train with 2 classes to emulate the case where we have an incomplete knowledge of all possible flowers."
   ]
  },
  {
   "cell_type": "code",
   "execution_count": 9,
   "id": "5fcdc419",
   "metadata": {
    "ExecuteTime": {
     "end_time": "2024-01-19T16:40:34.836767Z",
     "start_time": "2024-01-19T16:40:34.819134Z"
    }
   },
   "outputs": [],
   "source": [
    "# Leave out virginica on purpose\n",
    "X_train_ = X_train[y_train != 'versicolor']\n",
    "y_train_ = y_train[y_train != 'versicolor']"
   ]
  },
  {
   "cell_type": "markdown",
   "id": "c8723a9e",
   "metadata": {},
   "source": [
    "## Case 1a: Using a Flexible Outlier Detector\n",
    "\n",
    "Here we will use an [isolation forest](https://scikit-learn.org/stable/modules/generated/sklearn.ensemble.IsolationForest.html#sklearn.ensemble.IsolationForest) to detect outliers.  The advantage of this model is that it does not make assumptions about the underlying distribution of the data.  This is important if the data is **multimodal** (for example, if you have multiple classes and each has a different center) so for multiclass problems this is recommended.  See [this example](https://scikit-learn.org/stable/auto_examples/ensemble/plot_isolation_forest.html#sphx-glr-auto-examples-ensemble-plot-isolation-forest-py) for an illustration of how isolation forest works.\n",
    "\n",
    "The main assumption with an isolation forest is that there are dense cluster(s) of data which determine where \"inliers\" should be located.  This is a reasonable assumption for many chemometric authentication problems."
   ]
  },
  {
   "cell_type": "code",
   "execution_count": 71,
   "id": "a743d1de",
   "metadata": {
    "ExecuteTime": {
     "end_time": "2024-01-19T17:35:08.052256Z",
     "start_time": "2024-01-19T17:35:07.996880Z"
    }
   },
   "outputs": [],
   "source": [
    "osc = OpenSetClassifier(\n",
    "    clf_model=PLSDA,\n",
    "    clf_kwargs={\n",
    "        'n_components':3,\n",
    "        'alpha':0.05,\n",
    "        'gamma':0.01,\n",
    "        'style':\"hard\",\n",
    "        'scale_x':True,\n",
    "    },\n",
    "    outlier_model=IsolationForest, \n",
    "    outlier_kwargs={\n",
    "        'n_estimators':100, \n",
    "        'max_samples':1.0, \n",
    "        'contamination':0.15, # In practice, this is very important to tune correctly\n",
    "        'max_features':1.0,\n",
    "        'bootstrap':True, \n",
    "        'random_state':42, \n",
    "    },\n",
    "    score_metric='TEFF',\n",
    "    clf_style='hard',\n",
    "    unknown_class=\"UNKNOWN FLOWER\",\n",
    ")"
   ]
  },
  {
   "cell_type": "code",
   "execution_count": 72,
   "id": "9ef8a796",
   "metadata": {
    "ExecuteTime": {
     "end_time": "2024-01-19T17:35:08.451742Z",
     "start_time": "2024-01-19T17:35:08.223915Z"
    }
   },
   "outputs": [
    {
     "data": {
      "text/html": [
       "<style>#sk-container-id-7 {color: black;}#sk-container-id-7 pre{padding: 0;}#sk-container-id-7 div.sk-toggleable {background-color: white;}#sk-container-id-7 label.sk-toggleable__label {cursor: pointer;display: block;width: 100%;margin-bottom: 0;padding: 0.3em;box-sizing: border-box;text-align: center;}#sk-container-id-7 label.sk-toggleable__label-arrow:before {content: \"▸\";float: left;margin-right: 0.25em;color: #696969;}#sk-container-id-7 label.sk-toggleable__label-arrow:hover:before {color: black;}#sk-container-id-7 div.sk-estimator:hover label.sk-toggleable__label-arrow:before {color: black;}#sk-container-id-7 div.sk-toggleable__content {max-height: 0;max-width: 0;overflow: hidden;text-align: left;background-color: #f0f8ff;}#sk-container-id-7 div.sk-toggleable__content pre {margin: 0.2em;color: black;border-radius: 0.25em;background-color: #f0f8ff;}#sk-container-id-7 input.sk-toggleable__control:checked~div.sk-toggleable__content {max-height: 200px;max-width: 100%;overflow: auto;}#sk-container-id-7 input.sk-toggleable__control:checked~label.sk-toggleable__label-arrow:before {content: \"▾\";}#sk-container-id-7 div.sk-estimator input.sk-toggleable__control:checked~label.sk-toggleable__label {background-color: #d4ebff;}#sk-container-id-7 div.sk-label input.sk-toggleable__control:checked~label.sk-toggleable__label {background-color: #d4ebff;}#sk-container-id-7 input.sk-hidden--visually {border: 0;clip: rect(1px 1px 1px 1px);clip: rect(1px, 1px, 1px, 1px);height: 1px;margin: -1px;overflow: hidden;padding: 0;position: absolute;width: 1px;}#sk-container-id-7 div.sk-estimator {font-family: monospace;background-color: #f0f8ff;border: 1px dotted black;border-radius: 0.25em;box-sizing: border-box;margin-bottom: 0.5em;}#sk-container-id-7 div.sk-estimator:hover {background-color: #d4ebff;}#sk-container-id-7 div.sk-parallel-item::after {content: \"\";width: 100%;border-bottom: 1px solid gray;flex-grow: 1;}#sk-container-id-7 div.sk-label:hover label.sk-toggleable__label {background-color: #d4ebff;}#sk-container-id-7 div.sk-serial::before {content: \"\";position: absolute;border-left: 1px solid gray;box-sizing: border-box;top: 0;bottom: 0;left: 50%;z-index: 0;}#sk-container-id-7 div.sk-serial {display: flex;flex-direction: column;align-items: center;background-color: white;padding-right: 0.2em;padding-left: 0.2em;position: relative;}#sk-container-id-7 div.sk-item {position: relative;z-index: 1;}#sk-container-id-7 div.sk-parallel {display: flex;align-items: stretch;justify-content: center;background-color: white;position: relative;}#sk-container-id-7 div.sk-item::before, #sk-container-id-7 div.sk-parallel-item::before {content: \"\";position: absolute;border-left: 1px solid gray;box-sizing: border-box;top: 0;bottom: 0;left: 50%;z-index: -1;}#sk-container-id-7 div.sk-parallel-item {display: flex;flex-direction: column;z-index: 1;position: relative;background-color: white;}#sk-container-id-7 div.sk-parallel-item:first-child::after {align-self: flex-end;width: 50%;}#sk-container-id-7 div.sk-parallel-item:last-child::after {align-self: flex-start;width: 50%;}#sk-container-id-7 div.sk-parallel-item:only-child::after {width: 0;}#sk-container-id-7 div.sk-dashed-wrapped {border: 1px dashed gray;margin: 0 0.4em 0.5em 0.4em;box-sizing: border-box;padding-bottom: 0.4em;background-color: white;}#sk-container-id-7 div.sk-label label {font-family: monospace;font-weight: bold;display: inline-block;line-height: 1.2em;}#sk-container-id-7 div.sk-label-container {text-align: center;}#sk-container-id-7 div.sk-container {/* jupyter's `normalize.less` sets `[hidden] { display: none; }` but bootstrap.min.css set `[hidden] { display: none !important; }` so we also need the `!important` here to be able to override the default hidden behavior on the sphinx rendered scikit-learn.org. See: https://github.com/scikit-learn/scikit-learn/issues/21755 */display: inline-block !important;position: relative;}#sk-container-id-7 div.sk-text-repr-fallback {display: none;}</style><div id=\"sk-container-id-7\" class=\"sk-top-container\"><div class=\"sk-text-repr-fallback\"><pre>OpenSetClassifier(clf_kwargs={&#x27;alpha&#x27;: 0.05, &#x27;gamma&#x27;: 0.01, &#x27;n_components&#x27;: 3,\n",
       "                              &#x27;scale_x&#x27;: True, &#x27;style&#x27;: &#x27;hard&#x27;},\n",
       "                  clf_model=&lt;class &#x27;pychemauth.classifier.plsda.PLSDA&#x27;&gt;,\n",
       "                  outlier_kwargs={&#x27;bootstrap&#x27;: True, &#x27;contamination&#x27;: 0.15,\n",
       "                                  &#x27;max_features&#x27;: 1.0, &#x27;max_samples&#x27;: 1.0,\n",
       "                                  &#x27;n_estimators&#x27;: 100, &#x27;random_state&#x27;: 42},\n",
       "                  outlier_model=&lt;class &#x27;sklearn.ensemble._iforest.IsolationForest&#x27;&gt;,\n",
       "                  unknown_class=&#x27;UNKNOWN FLOWER&#x27;)</pre><b>In a Jupyter environment, please rerun this cell to show the HTML representation or trust the notebook. <br />On GitHub, the HTML representation is unable to render, please try loading this page with nbviewer.org.</b></div><div class=\"sk-container\" hidden><div class=\"sk-item\"><div class=\"sk-estimator sk-toggleable\"><input class=\"sk-toggleable__control sk-hidden--visually\" id=\"sk-estimator-id-7\" type=\"checkbox\" checked><label for=\"sk-estimator-id-7\" class=\"sk-toggleable__label sk-toggleable__label-arrow\">OpenSetClassifier</label><div class=\"sk-toggleable__content\"><pre>OpenSetClassifier(clf_kwargs={&#x27;alpha&#x27;: 0.05, &#x27;gamma&#x27;: 0.01, &#x27;n_components&#x27;: 3,\n",
       "                              &#x27;scale_x&#x27;: True, &#x27;style&#x27;: &#x27;hard&#x27;},\n",
       "                  clf_model=&lt;class &#x27;pychemauth.classifier.plsda.PLSDA&#x27;&gt;,\n",
       "                  outlier_kwargs={&#x27;bootstrap&#x27;: True, &#x27;contamination&#x27;: 0.15,\n",
       "                                  &#x27;max_features&#x27;: 1.0, &#x27;max_samples&#x27;: 1.0,\n",
       "                                  &#x27;n_estimators&#x27;: 100, &#x27;random_state&#x27;: 42},\n",
       "                  outlier_model=&lt;class &#x27;sklearn.ensemble._iforest.IsolationForest&#x27;&gt;,\n",
       "                  unknown_class=&#x27;UNKNOWN FLOWER&#x27;)</pre></div></div></div></div></div>"
      ],
      "text/plain": [
       "OpenSetClassifier(clf_kwargs={'alpha': 0.05, 'gamma': 0.01, 'n_components': 3,\n",
       "                              'scale_x': True, 'style': 'hard'},\n",
       "                  clf_model=<class 'pychemauth.classifier.plsda.PLSDA'>,\n",
       "                  outlier_kwargs={'bootstrap': True, 'contamination': 0.15,\n",
       "                                  'max_features': 1.0, 'max_samples': 1.0,\n",
       "                                  'n_estimators': 100, 'random_state': 42},\n",
       "                  outlier_model=<class 'sklearn.ensemble._iforest.IsolationForest'>,\n",
       "                  unknown_class='UNKNOWN FLOWER')"
      ]
     },
     "execution_count": 72,
     "metadata": {},
     "output_type": "execute_result"
    }
   ],
   "source": [
    "osc.fit(X_train_, y_train_) "
   ]
  },
  {
   "cell_type": "code",
   "execution_count": 73,
   "id": "497ac46f",
   "metadata": {
    "ExecuteTime": {
     "end_time": "2024-01-19T17:35:08.684553Z",
     "start_time": "2024-01-19T17:35:08.647680Z"
    }
   },
   "outputs": [
    {
     "data": {
      "text/plain": [
       "['setosa',\n",
       " 'UNKNOWN FLOWER',\n",
       " 'setosa',\n",
       " 'virginica',\n",
       " 'virginica',\n",
       " 'virginica',\n",
       " 'UNKNOWN FLOWER',\n",
       " 'virginica',\n",
       " 'setosa',\n",
       " 'setosa']"
      ]
     },
     "execution_count": 73,
     "metadata": {},
     "output_type": "execute_result"
    }
   ],
   "source": [
    "osc.predict(X_train_)[:10] "
   ]
  },
  {
   "cell_type": "code",
   "execution_count": 74,
   "id": "9292e03f",
   "metadata": {
    "ExecuteTime": {
     "end_time": "2024-01-19T17:35:09.088840Z",
     "start_time": "2024-01-19T17:35:09.007505Z"
    }
   },
   "outputs": [],
   "source": [
    "res = osc.figures_of_merit(osc.predict(X_train_), y_train_)"
   ]
  },
  {
   "cell_type": "code",
   "execution_count": 75,
   "id": "6b6eb626",
   "metadata": {
    "ExecuteTime": {
     "end_time": "2024-01-19T17:35:11.769451Z",
     "start_time": "2024-01-19T17:35:11.688693Z"
    }
   },
   "outputs": [
    {
     "data": {
      "text/plain": [
       "0.9219544457292888"
      ]
     },
     "execution_count": 75,
     "metadata": {},
     "output_type": "execute_result"
    }
   ],
   "source": [
    "osc.score(X_train_, y_train_) "
   ]
  },
  {
   "cell_type": "code",
   "execution_count": 76,
   "id": "fc2bc37b",
   "metadata": {
    "ExecuteTime": {
     "end_time": "2024-01-19T17:35:12.489148Z",
     "start_time": "2024-01-19T17:35:12.453280Z"
    }
   },
   "outputs": [
    {
     "data": {
      "text/plain": [
       "0.9219544457292888"
      ]
     },
     "execution_count": 76,
     "metadata": {},
     "output_type": "execute_result"
    }
   ],
   "source": [
    "res['TEFF']"
   ]
  },
  {
   "cell_type": "code",
   "execution_count": 77,
   "id": "6d8fd45f",
   "metadata": {
    "ExecuteTime": {
     "end_time": "2024-01-19T17:35:12.832680Z",
     "start_time": "2024-01-19T17:35:12.788458Z"
    }
   },
   "outputs": [
    {
     "data": {
      "text/html": [
       "<div>\n",
       "<style scoped>\n",
       "    .dataframe tbody tr th:only-of-type {\n",
       "        vertical-align: middle;\n",
       "    }\n",
       "\n",
       "    .dataframe tbody tr th {\n",
       "        vertical-align: top;\n",
       "    }\n",
       "\n",
       "    .dataframe thead th {\n",
       "        text-align: right;\n",
       "    }\n",
       "</style>\n",
       "<table border=\"1\" class=\"dataframe\">\n",
       "  <thead>\n",
       "    <tr style=\"text-align: right;\">\n",
       "      <th></th>\n",
       "      <th>setosa</th>\n",
       "      <th>virginica</th>\n",
       "      <th>UNKNOWN FLOWER</th>\n",
       "    </tr>\n",
       "  </thead>\n",
       "  <tbody>\n",
       "    <tr>\n",
       "      <th>setosa</th>\n",
       "      <td>35</td>\n",
       "      <td>0</td>\n",
       "      <td>5</td>\n",
       "    </tr>\n",
       "    <tr>\n",
       "      <th>virginica</th>\n",
       "      <td>0</td>\n",
       "      <td>33</td>\n",
       "      <td>7</td>\n",
       "    </tr>\n",
       "  </tbody>\n",
       "</table>\n",
       "</div>"
      ],
      "text/plain": [
       "           setosa  virginica  UNKNOWN FLOWER\n",
       "setosa         35          0               5\n",
       "virginica       0         33               7"
      ]
     },
     "execution_count": 77,
     "metadata": {},
     "output_type": "execute_result"
    }
   ],
   "source": [
    "res['CM'] "
   ]
  },
  {
   "cell_type": "code",
   "execution_count": 17,
   "id": "05a3733b",
   "metadata": {
    "ExecuteTime": {
     "end_time": "2024-01-19T16:40:35.418186Z",
     "start_time": "2024-01-19T16:40:35.228484Z"
    }
   },
   "outputs": [
    {
     "data": {
      "image/png": "[encoded data removed]",
      "text/plain": [
       "<Figure size 640x480 with 1 Axes>"
      ]
     },
     "metadata": {},
     "output_type": "display_data"
    }
   ],
   "source": [
    "# The underlying hard model only recognizes setosa and versicolor\n",
    "\n",
    "_ = osc.fitted_classification_model.visualize(styles=['hard'])"
   ]
  },
  {
   "cell_type": "code",
   "execution_count": 18,
   "id": "bf444023",
   "metadata": {
    "ExecuteTime": {
     "end_time": "2024-01-19T16:40:35.453004Z",
     "start_time": "2024-01-19T16:40:35.420163Z"
    }
   },
   "outputs": [
    {
     "name": "stdout",
     "output_type": "stream",
     "text": [
      "Inlier?\tPrediction\tActual\n",
      "------------------------------\n",
      "1 \t setosa \t setosa\n",
      "-1 \t virginica \t virginica\n",
      "1 \t setosa \t setosa\n",
      "1 \t virginica \t virginica\n",
      "1 \t virginica \t virginica\n",
      "1 \t virginica \t virginica\n",
      "-1 \t virginica \t virginica\n",
      "1 \t virginica \t virginica\n",
      "1 \t setosa \t setosa\n",
      "1 \t setosa \t setosa\n"
     ]
    }
   ],
   "source": [
    "# And it can only predict membership to setosa and versicolor\n",
    "\n",
    "print('Inlier?\\tPrediction\\tActual')\n",
    "print('------------------------------')\n",
    "for pred, inlier, act in zip(\n",
    "    osc.fitted_classification_model.predict(X_train_)[:10],\n",
    "    osc.fitted_outlier_model.predict(X_train_)[:10],\n",
    "    y_train_[:10]\n",
    "):\n",
    "    print(inlier, '\\t', pred, '\\t', act)"
   ]
  },
  {
   "cell_type": "code",
   "execution_count": 19,
   "id": "c4b11d29",
   "metadata": {
    "ExecuteTime": {
     "end_time": "2024-01-19T16:40:35.806942Z",
     "start_time": "2024-01-19T16:40:35.454533Z"
    }
   },
   "outputs": [
    {
     "data": {
      "image/png": "[encoded data removed]",
      "text/plain": [
       "<Figure size 640x480 with 1 Axes>"
      ]
     },
     "metadata": {},
     "output_type": "display_data"
    }
   ],
   "source": [
    "# Clearly nearly all the intervening versicolor (orange) will be classified incorrectly as virginoca (green).\n",
    "\n",
    "fig, ax = plt.subplots(nrows=1, ncols=1)\n",
    "\n",
    "for i, class_ in enumerate(['setosa', 'versicolor', 'virginica']):\n",
    "    mask = y_train == class_\n",
    "\n",
    "    projection = osc.fitted_classification_model.transform(X_train[mask])\n",
    "    ax.plot(projection.ravel(), [i]*projection.shape[0], 'o', label=class_)\n",
    "_ = plt.legend(loc='best')"
   ]
  },
  {
   "cell_type": "code",
   "execution_count": 20,
   "id": "efa5ec3e",
   "metadata": {
    "ExecuteTime": {
     "end_time": "2024-01-19T16:40:36.089228Z",
     "start_time": "2024-01-19T16:40:35.808782Z"
    }
   },
   "outputs": [
    {
     "data": {
      "text/plain": [
       "Text(0, 0.5, 'Column 2 (sepal width)')"
      ]
     },
     "execution_count": 20,
     "metadata": {},
     "output_type": "execute_result"
    },
    {
     "data": {
      "image/png": "[encoded data removed]",
      "text/plain": [
       "<Figure size 640x480 with 1 Axes>"
      ]
     },
     "metadata": {},
     "output_type": "display_data"
    }
   ],
   "source": [
    "# Most versicolor are identified as outliers, while only the \"fringe\" parts of the other 2 classes are identified\n",
    "# as such.\n",
    "\n",
    "for inlier_, pt_, label_ in zip(osc.fitted_outlier_model.predict(X_train), X_train, y_train):\n",
    "    if label_ == 'setosa':\n",
    "        marker = 'o'\n",
    "        color = 'C0'\n",
    "    elif label_ == 'versicolor':\n",
    "        marker = '^'\n",
    "        color = 'C1'\n",
    "    else:\n",
    "        marker = '*'\n",
    "        color = 'C2'\n",
    "        \n",
    "    # Outliers in red\n",
    "    if inlier_ == -1:\n",
    "        color = 'red'\n",
    "        \n",
    "    plt.plot([pt_[0]], [pt_[1]], \n",
    "             color=color,\n",
    "             marker=marker\n",
    "            )\n",
    "plt.xlabel('Column 1 (sepal length)')\n",
    "plt.ylabel('Column 2 (sepal width)')"
   ]
  },
  {
   "cell_type": "code",
   "execution_count": 21,
   "id": "68c5716e",
   "metadata": {
    "ExecuteTime": {
     "end_time": "2024-01-19T16:40:36.142820Z",
     "start_time": "2024-01-19T16:40:36.091284Z"
    }
   },
   "outputs": [
    {
     "data": {
      "text/html": [
       "<div>\n",
       "<style scoped>\n",
       "    .dataframe tbody tr th:only-of-type {\n",
       "        vertical-align: middle;\n",
       "    }\n",
       "\n",
       "    .dataframe tbody tr th {\n",
       "        vertical-align: top;\n",
       "    }\n",
       "\n",
       "    .dataframe thead th {\n",
       "        text-align: right;\n",
       "    }\n",
       "</style>\n",
       "<table border=\"1\" class=\"dataframe\">\n",
       "  <thead>\n",
       "    <tr style=\"text-align: right;\">\n",
       "      <th></th>\n",
       "      <th>setosa</th>\n",
       "      <th>virginica</th>\n",
       "      <th>UNKNOWN FLOWER</th>\n",
       "    </tr>\n",
       "  </thead>\n",
       "  <tbody>\n",
       "    <tr>\n",
       "      <th>setosa</th>\n",
       "      <td>35</td>\n",
       "      <td>0</td>\n",
       "      <td>5</td>\n",
       "    </tr>\n",
       "    <tr>\n",
       "      <th>versicolor</th>\n",
       "      <td>0</td>\n",
       "      <td>3</td>\n",
       "      <td>37</td>\n",
       "    </tr>\n",
       "    <tr>\n",
       "      <th>virginica</th>\n",
       "      <td>0</td>\n",
       "      <td>33</td>\n",
       "      <td>7</td>\n",
       "    </tr>\n",
       "  </tbody>\n",
       "</table>\n",
       "</div>"
      ],
      "text/plain": [
       "            setosa  virginica  UNKNOWN FLOWER\n",
       "setosa          35          0               5\n",
       "versicolor       0          3              37\n",
       "virginica        0         33               7"
      ]
     },
     "execution_count": 21,
     "metadata": {},
     "output_type": "execute_result"
    }
   ],
   "source": [
    "# However, the OSC model is able to identify most of the versicolor samples as being from an unknown class!\n",
    "\n",
    "res = osc.figures_of_merit(osc.predict(X_train), y_train)\n",
    "res['CM']"
   ]
  },
  {
   "cell_type": "markdown",
   "id": "8b45cd2c",
   "metadata": {},
   "source": [
    "## Case 1b: Using an Outlier Detector with Strong Assumptions\n",
    "\n",
    "Here we will use an elliptical manifold to determine if a point is an outlier or inlier.  This is akin to using the robust covariance approach illustrated [here](https://scikit-learn.org/stable/auto_examples/miscellaneous/plot_anomaly_comparison.html#sphx-glr-auto-examples-miscellaneous-plot-anomaly-comparison-py) and assumes that the inlying data is all located inside a single \"ellipse\".  For one-class classification instances, this can be reasonable, but **should be avoided for multiclass problems** since this will draw an ellipse around multiple class centers, possibly overlapping the region \"in between\" which makes the model susceptible to issues if there are alternative classes there.  In this example data, the versicolor class tends to be \"in between\" the other 2 and nicely demonstrates the issue."
   ]
  },
  {
   "cell_type": "code",
   "execution_count": 22,
   "id": "09436a2c",
   "metadata": {
    "ExecuteTime": {
     "end_time": "2024-01-19T16:40:36.197313Z",
     "start_time": "2024-01-19T16:40:36.144282Z"
    }
   },
   "outputs": [],
   "source": [
    "# If we do not provide a dr_model then the EllipticManifold simply fits an ellipse in the original data space.\n",
    "# For this example, let's just use the first 2 columns so that we will be able to plot the results nicely.\n",
    "\n",
    "setosa_virginica = EllipticManifold_Model(\n",
    "    alpha=0.05,\n",
    "    robust=True, # Estimate the covariance matrix for the Mahalanobis distance using a robust approach (MCD)\n",
    "    center='score', # Center the ellipse around the empirical mean of the projected data\n",
    ")\n",
    "\n",
    "_ = setosa_virginica.fit(\n",
    "    X_train_[:,:2],\n",
    "    [\"INLIERS\"] * np.sum(y_train != 'versicolor')\n",
    ")"
   ]
  },
  {
   "cell_type": "code",
   "execution_count": 23,
   "id": "8dfcb63d",
   "metadata": {
    "ExecuteTime": {
     "end_time": "2024-01-19T16:40:37.129635Z",
     "start_time": "2024-01-19T16:40:36.198785Z"
    }
   },
   "outputs": [
    {
     "data": {
      "image/png": "[encoded data removed]",
      "text/plain": [
       "<Figure size 640x480 with 1 Axes>"
      ]
     },
     "metadata": {},
     "output_type": "display_data"
    }
   ],
   "source": [
    "# Clearly, the versicolor falls between the other 2, so this elliptical boundary is not expected to be a good outlier\n",
    "# detector.\n",
    "\n",
    "_ = setosa_virginica.visualize(\n",
    "    [\n",
    "        X_train[y_train == 'setosa'][:,:2],\n",
    "        X_train[y_train == 'versicolor'][:,:2],\n",
    "        X_train[y_train == 'virginica'][:,:2]\n",
    "    ],\n",
    "    ['setosa', 'versicolor', 'virginica']\n",
    ")"
   ]
  },
  {
   "cell_type": "code",
   "execution_count": 24,
   "id": "c2e62dfd",
   "metadata": {
    "ExecuteTime": {
     "end_time": "2024-01-19T16:40:37.153579Z",
     "start_time": "2024-01-19T16:40:37.131593Z"
    }
   },
   "outputs": [
    {
     "data": {
      "text/plain": [
       "array([ True,  True,  True,  True, False,  True,  True,  True,  True,\n",
       "        True,  True,  True,  True,  True,  True,  True,  True,  True,\n",
       "       False,  True,  True,  True,  True,  True,  True,  True, False,\n",
       "        True,  True,  True,  True,  True,  True,  True,  True,  True,\n",
       "        True, False,  True,  True])"
      ]
     },
     "execution_count": 24,
     "metadata": {},
     "output_type": "execute_result"
    }
   ],
   "source": [
    "# Essentially all of the versicolor is considered to be an 'inlier' and will be sent to the classifier, which has never\n",
    "# seen this class before.\n",
    "\n",
    "setosa_virginica.predict(X_train[y_train == 'versicolor',:2])"
   ]
  },
  {
   "cell_type": "code",
   "execution_count": 81,
   "id": "cfc72ef7",
   "metadata": {
    "ExecuteTime": {
     "end_time": "2024-01-19T17:39:01.727634Z",
     "start_time": "2024-01-19T17:39:01.682645Z"
    }
   },
   "outputs": [],
   "source": [
    "osc = OpenSetClassifier(\n",
    "    clf_model=PLSDA,\n",
    "    clf_kwargs={\n",
    "        'n_components':3,\n",
    "        'alpha':0.05,\n",
    "        'gamma':0.01,\n",
    "        'style':\"hard\",\n",
    "        'scale_x':True,\n",
    "    },\n",
    "    outlier_model=EllipticManifold_Model, # Estimate the covariance matrix for the Mahalanobis distance using a robust approach (MCD)\n",
    "    outlier_kwargs={\n",
    "        'alpha':0.05,\n",
    "        'robust':True, \n",
    "        'center':'score'\n",
    "    },\n",
    "    score_metric='TEFF',\n",
    "    clf_style='hard',\n",
    "    unknown_class=\"UNKNOWN FLOWER\",\n",
    ")"
   ]
  },
  {
   "cell_type": "code",
   "execution_count": 82,
   "id": "24de7212",
   "metadata": {
    "ExecuteTime": {
     "end_time": "2024-01-19T17:39:02.051994Z",
     "start_time": "2024-01-19T17:39:01.931933Z"
    }
   },
   "outputs": [
    {
     "data": {
      "text/html": [
       "<style>#sk-container-id-8 {color: black;}#sk-container-id-8 pre{padding: 0;}#sk-container-id-8 div.sk-toggleable {background-color: white;}#sk-container-id-8 label.sk-toggleable__label {cursor: pointer;display: block;width: 100%;margin-bottom: 0;padding: 0.3em;box-sizing: border-box;text-align: center;}#sk-container-id-8 label.sk-toggleable__label-arrow:before {content: \"▸\";float: left;margin-right: 0.25em;color: #696969;}#sk-container-id-8 label.sk-toggleable__label-arrow:hover:before {color: black;}#sk-container-id-8 div.sk-estimator:hover label.sk-toggleable__label-arrow:before {color: black;}#sk-container-id-8 div.sk-toggleable__content {max-height: 0;max-width: 0;overflow: hidden;text-align: left;background-color: #f0f8ff;}#sk-container-id-8 div.sk-toggleable__content pre {margin: 0.2em;color: black;border-radius: 0.25em;background-color: #f0f8ff;}#sk-container-id-8 input.sk-toggleable__control:checked~div.sk-toggleable__content {max-height: 200px;max-width: 100%;overflow: auto;}#sk-container-id-8 input.sk-toggleable__control:checked~label.sk-toggleable__label-arrow:before {content: \"▾\";}#sk-container-id-8 div.sk-estimator input.sk-toggleable__control:checked~label.sk-toggleable__label {background-color: #d4ebff;}#sk-container-id-8 div.sk-label input.sk-toggleable__control:checked~label.sk-toggleable__label {background-color: #d4ebff;}#sk-container-id-8 input.sk-hidden--visually {border: 0;clip: rect(1px 1px 1px 1px);clip: rect(1px, 1px, 1px, 1px);height: 1px;margin: -1px;overflow: hidden;padding: 0;position: absolute;width: 1px;}#sk-container-id-8 div.sk-estimator {font-family: monospace;background-color: #f0f8ff;border: 1px dotted black;border-radius: 0.25em;box-sizing: border-box;margin-bottom: 0.5em;}#sk-container-id-8 div.sk-estimator:hover {background-color: #d4ebff;}#sk-container-id-8 div.sk-parallel-item::after {content: \"\";width: 100%;border-bottom: 1px solid gray;flex-grow: 1;}#sk-container-id-8 div.sk-label:hover label.sk-toggleable__label {background-color: #d4ebff;}#sk-container-id-8 div.sk-serial::before {content: \"\";position: absolute;border-left: 1px solid gray;box-sizing: border-box;top: 0;bottom: 0;left: 50%;z-index: 0;}#sk-container-id-8 div.sk-serial {display: flex;flex-direction: column;align-items: center;background-color: white;padding-right: 0.2em;padding-left: 0.2em;position: relative;}#sk-container-id-8 div.sk-item {position: relative;z-index: 1;}#sk-container-id-8 div.sk-parallel {display: flex;align-items: stretch;justify-content: center;background-color: white;position: relative;}#sk-container-id-8 div.sk-item::before, #sk-container-id-8 div.sk-parallel-item::before {content: \"\";position: absolute;border-left: 1px solid gray;box-sizing: border-box;top: 0;bottom: 0;left: 50%;z-index: -1;}#sk-container-id-8 div.sk-parallel-item {display: flex;flex-direction: column;z-index: 1;position: relative;background-color: white;}#sk-container-id-8 div.sk-parallel-item:first-child::after {align-self: flex-end;width: 50%;}#sk-container-id-8 div.sk-parallel-item:last-child::after {align-self: flex-start;width: 50%;}#sk-container-id-8 div.sk-parallel-item:only-child::after {width: 0;}#sk-container-id-8 div.sk-dashed-wrapped {border: 1px dashed gray;margin: 0 0.4em 0.5em 0.4em;box-sizing: border-box;padding-bottom: 0.4em;background-color: white;}#sk-container-id-8 div.sk-label label {font-family: monospace;font-weight: bold;display: inline-block;line-height: 1.2em;}#sk-container-id-8 div.sk-label-container {text-align: center;}#sk-container-id-8 div.sk-container {/* jupyter's `normalize.less` sets `[hidden] { display: none; }` but bootstrap.min.css set `[hidden] { display: none !important; }` so we also need the `!important` here to be able to override the default hidden behavior on the sphinx rendered scikit-learn.org. See: https://github.com/scikit-learn/scikit-learn/issues/21755 */display: inline-block !important;position: relative;}#sk-container-id-8 div.sk-text-repr-fallback {display: none;}</style><div id=\"sk-container-id-8\" class=\"sk-top-container\"><div class=\"sk-text-repr-fallback\"><pre>OpenSetClassifier(clf_kwargs={&#x27;alpha&#x27;: 0.05, &#x27;gamma&#x27;: 0.01, &#x27;n_components&#x27;: 3,\n",
       "                              &#x27;scale_x&#x27;: True, &#x27;style&#x27;: &#x27;hard&#x27;},\n",
       "                  clf_model=&lt;class &#x27;pychemauth.classifier.plsda.PLSDA&#x27;&gt;,\n",
       "                  outlier_kwargs={&#x27;alpha&#x27;: 0.05, &#x27;center&#x27;: &#x27;score&#x27;,\n",
       "                                  &#x27;robust&#x27;: True},\n",
       "                  outlier_model=&lt;class &#x27;pychemauth.manifold.elliptic.EllipticManifold_Model&#x27;&gt;,\n",
       "                  unknown_class=&#x27;UNKNOWN FLOWER&#x27;)</pre><b>In a Jupyter environment, please rerun this cell to show the HTML representation or trust the notebook. <br />On GitHub, the HTML representation is unable to render, please try loading this page with nbviewer.org.</b></div><div class=\"sk-container\" hidden><div class=\"sk-item\"><div class=\"sk-estimator sk-toggleable\"><input class=\"sk-toggleable__control sk-hidden--visually\" id=\"sk-estimator-id-8\" type=\"checkbox\" checked><label for=\"sk-estimator-id-8\" class=\"sk-toggleable__label sk-toggleable__label-arrow\">OpenSetClassifier</label><div class=\"sk-toggleable__content\"><pre>OpenSetClassifier(clf_kwargs={&#x27;alpha&#x27;: 0.05, &#x27;gamma&#x27;: 0.01, &#x27;n_components&#x27;: 3,\n",
       "                              &#x27;scale_x&#x27;: True, &#x27;style&#x27;: &#x27;hard&#x27;},\n",
       "                  clf_model=&lt;class &#x27;pychemauth.classifier.plsda.PLSDA&#x27;&gt;,\n",
       "                  outlier_kwargs={&#x27;alpha&#x27;: 0.05, &#x27;center&#x27;: &#x27;score&#x27;,\n",
       "                                  &#x27;robust&#x27;: True},\n",
       "                  outlier_model=&lt;class &#x27;pychemauth.manifold.elliptic.EllipticManifold_Model&#x27;&gt;,\n",
       "                  unknown_class=&#x27;UNKNOWN FLOWER&#x27;)</pre></div></div></div></div></div>"
      ],
      "text/plain": [
       "OpenSetClassifier(clf_kwargs={'alpha': 0.05, 'gamma': 0.01, 'n_components': 3,\n",
       "                              'scale_x': True, 'style': 'hard'},\n",
       "                  clf_model=<class 'pychemauth.classifier.plsda.PLSDA'>,\n",
       "                  outlier_kwargs={'alpha': 0.05, 'center': 'score',\n",
       "                                  'robust': True},\n",
       "                  outlier_model=<class 'pychemauth.manifold.elliptic.EllipticManifold_Model'>,\n",
       "                  unknown_class='UNKNOWN FLOWER')"
      ]
     },
     "execution_count": 82,
     "metadata": {},
     "output_type": "execute_result"
    }
   ],
   "source": [
    "osc.fit(X_train_, y_train_)"
   ]
  },
  {
   "cell_type": "code",
   "execution_count": 83,
   "id": "7e326076",
   "metadata": {
    "ExecuteTime": {
     "end_time": "2024-01-19T17:39:02.455312Z",
     "start_time": "2024-01-19T17:39:02.423415Z"
    }
   },
   "outputs": [
    {
     "data": {
      "text/plain": [
       "['setosa',\n",
       " 'UNKNOWN FLOWER',\n",
       " 'setosa',\n",
       " 'virginica',\n",
       " 'virginica',\n",
       " 'UNKNOWN FLOWER',\n",
       " 'UNKNOWN FLOWER',\n",
       " 'UNKNOWN FLOWER',\n",
       " 'setosa',\n",
       " 'setosa']"
      ]
     },
     "execution_count": 83,
     "metadata": {},
     "output_type": "execute_result"
    }
   ],
   "source": [
    "osc.predict(X_train_)[:10] "
   ]
  },
  {
   "cell_type": "code",
   "execution_count": 84,
   "id": "f8d3c666",
   "metadata": {
    "ExecuteTime": {
     "end_time": "2024-01-19T17:39:05.217170Z",
     "start_time": "2024-01-19T17:39:05.131787Z"
    }
   },
   "outputs": [],
   "source": [
    "res = osc.figures_of_merit(osc.predict(X_train), y_train)"
   ]
  },
  {
   "cell_type": "code",
   "execution_count": 85,
   "id": "815ff638",
   "metadata": {
    "ExecuteTime": {
     "end_time": "2024-01-19T17:39:05.410802Z",
     "start_time": "2024-01-19T17:39:05.373664Z"
    }
   },
   "outputs": [
    {
     "data": {
      "text/html": [
       "<div>\n",
       "<style scoped>\n",
       "    .dataframe tbody tr th:only-of-type {\n",
       "        vertical-align: middle;\n",
       "    }\n",
       "\n",
       "    .dataframe tbody tr th {\n",
       "        vertical-align: top;\n",
       "    }\n",
       "\n",
       "    .dataframe thead th {\n",
       "        text-align: right;\n",
       "    }\n",
       "</style>\n",
       "<table border=\"1\" class=\"dataframe\">\n",
       "  <thead>\n",
       "    <tr style=\"text-align: right;\">\n",
       "      <th></th>\n",
       "      <th>setosa</th>\n",
       "      <th>virginica</th>\n",
       "      <th>UNKNOWN FLOWER</th>\n",
       "    </tr>\n",
       "  </thead>\n",
       "  <tbody>\n",
       "    <tr>\n",
       "      <th>setosa</th>\n",
       "      <td>39</td>\n",
       "      <td>0</td>\n",
       "      <td>1</td>\n",
       "    </tr>\n",
       "    <tr>\n",
       "      <th>versicolor</th>\n",
       "      <td>0</td>\n",
       "      <td>32</td>\n",
       "      <td>8</td>\n",
       "    </tr>\n",
       "    <tr>\n",
       "      <th>virginica</th>\n",
       "      <td>0</td>\n",
       "      <td>24</td>\n",
       "      <td>16</td>\n",
       "    </tr>\n",
       "  </tbody>\n",
       "</table>\n",
       "</div>"
      ],
      "text/plain": [
       "            setosa  virginica  UNKNOWN FLOWER\n",
       "setosa          39          0               1\n",
       "versicolor       0         32               8\n",
       "virginica        0         24              16"
      ]
     },
     "execution_count": 85,
     "metadata": {},
     "output_type": "execute_result"
    }
   ],
   "source": [
    "res['CM']"
   ]
  },
  {
   "cell_type": "markdown",
   "id": "63d3d7fb",
   "metadata": {
    "ExecuteTime": {
     "end_time": "2024-01-11T18:00:44.019757Z",
     "start_time": "2024-01-11T18:00:44.013131Z"
    }
   },
   "source": [
    "# Case 2: Multiclass Soft Model\n",
    "\n",
    "Soft models can assign a point to multiple (or no) classes, but only those known at training time.  For example, soft PLS-DA will learn the $N$ specific classes known when trained, and learn to predict 1, >1, or none of those specific labels.  By adding an outlier detector we might be able to further protect against bad predictions when covariate shift occurs (at test time) and the model encounters an unusual input; we would hope this would be recognized as entirely novel by the PLS-DA model, but this model's behavior is biased based on its training data and unexpected predictions can result from unexpected inputs."
   ]
  },
  {
   "cell_type": "code",
   "execution_count": 88,
   "id": "52e1c3ca",
   "metadata": {
    "ExecuteTime": {
     "end_time": "2024-01-19T17:42:35.686219Z",
     "start_time": "2024-01-19T17:42:35.641994Z"
    }
   },
   "outputs": [],
   "source": [
    "osc = OpenSetClassifier(\n",
    "    clf_model=PLSDA,\n",
    "    clf_kwargs={\n",
    "        'n_components':3,\n",
    "        'alpha':0.05,\n",
    "        'gamma':0.01,\n",
    "        'style':\"soft\",\n",
    "        'not_assigned':\"UNKNOWN FLOWER\",\n",
    "        'scale_x':True,\n",
    "    },\n",
    "    outlier_model=IsolationForest, \n",
    "    outlier_kwargs={\n",
    "        'n_estimators':100, \n",
    "        'max_samples':1.0, \n",
    "        'contamination':0.15, # In practice, this is very important to tune correctly\n",
    "        'max_features':1.0,\n",
    "        'bootstrap':True, \n",
    "        'random_state':42, \n",
    "    },\n",
    "    score_metric='TEFF',\n",
    "    clf_style='soft',\n",
    "    unknown_class=\"OUTLIER\",\n",
    ")"
   ]
  },
  {
   "cell_type": "code",
   "execution_count": 89,
   "id": "95a7dcba",
   "metadata": {
    "ExecuteTime": {
     "end_time": "2024-01-19T17:42:36.151391Z",
     "start_time": "2024-01-19T17:42:35.928628Z"
    }
   },
   "outputs": [
    {
     "data": {
      "text/html": [
       "<style>#sk-container-id-9 {color: black;}#sk-container-id-9 pre{padding: 0;}#sk-container-id-9 div.sk-toggleable {background-color: white;}#sk-container-id-9 label.sk-toggleable__label {cursor: pointer;display: block;width: 100%;margin-bottom: 0;padding: 0.3em;box-sizing: border-box;text-align: center;}#sk-container-id-9 label.sk-toggleable__label-arrow:before {content: \"▸\";float: left;margin-right: 0.25em;color: #696969;}#sk-container-id-9 label.sk-toggleable__label-arrow:hover:before {color: black;}#sk-container-id-9 div.sk-estimator:hover label.sk-toggleable__label-arrow:before {color: black;}#sk-container-id-9 div.sk-toggleable__content {max-height: 0;max-width: 0;overflow: hidden;text-align: left;background-color: #f0f8ff;}#sk-container-id-9 div.sk-toggleable__content pre {margin: 0.2em;color: black;border-radius: 0.25em;background-color: #f0f8ff;}#sk-container-id-9 input.sk-toggleable__control:checked~div.sk-toggleable__content {max-height: 200px;max-width: 100%;overflow: auto;}#sk-container-id-9 input.sk-toggleable__control:checked~label.sk-toggleable__label-arrow:before {content: \"▾\";}#sk-container-id-9 div.sk-estimator input.sk-toggleable__control:checked~label.sk-toggleable__label {background-color: #d4ebff;}#sk-container-id-9 div.sk-label input.sk-toggleable__control:checked~label.sk-toggleable__label {background-color: #d4ebff;}#sk-container-id-9 input.sk-hidden--visually {border: 0;clip: rect(1px 1px 1px 1px);clip: rect(1px, 1px, 1px, 1px);height: 1px;margin: -1px;overflow: hidden;padding: 0;position: absolute;width: 1px;}#sk-container-id-9 div.sk-estimator {font-family: monospace;background-color: #f0f8ff;border: 1px dotted black;border-radius: 0.25em;box-sizing: border-box;margin-bottom: 0.5em;}#sk-container-id-9 div.sk-estimator:hover {background-color: #d4ebff;}#sk-container-id-9 div.sk-parallel-item::after {content: \"\";width: 100%;border-bottom: 1px solid gray;flex-grow: 1;}#sk-container-id-9 div.sk-label:hover label.sk-toggleable__label {background-color: #d4ebff;}#sk-container-id-9 div.sk-serial::before {content: \"\";position: absolute;border-left: 1px solid gray;box-sizing: border-box;top: 0;bottom: 0;left: 50%;z-index: 0;}#sk-container-id-9 div.sk-serial {display: flex;flex-direction: column;align-items: center;background-color: white;padding-right: 0.2em;padding-left: 0.2em;position: relative;}#sk-container-id-9 div.sk-item {position: relative;z-index: 1;}#sk-container-id-9 div.sk-parallel {display: flex;align-items: stretch;justify-content: center;background-color: white;position: relative;}#sk-container-id-9 div.sk-item::before, #sk-container-id-9 div.sk-parallel-item::before {content: \"\";position: absolute;border-left: 1px solid gray;box-sizing: border-box;top: 0;bottom: 0;left: 50%;z-index: -1;}#sk-container-id-9 div.sk-parallel-item {display: flex;flex-direction: column;z-index: 1;position: relative;background-color: white;}#sk-container-id-9 div.sk-parallel-item:first-child::after {align-self: flex-end;width: 50%;}#sk-container-id-9 div.sk-parallel-item:last-child::after {align-self: flex-start;width: 50%;}#sk-container-id-9 div.sk-parallel-item:only-child::after {width: 0;}#sk-container-id-9 div.sk-dashed-wrapped {border: 1px dashed gray;margin: 0 0.4em 0.5em 0.4em;box-sizing: border-box;padding-bottom: 0.4em;background-color: white;}#sk-container-id-9 div.sk-label label {font-family: monospace;font-weight: bold;display: inline-block;line-height: 1.2em;}#sk-container-id-9 div.sk-label-container {text-align: center;}#sk-container-id-9 div.sk-container {/* jupyter's `normalize.less` sets `[hidden] { display: none; }` but bootstrap.min.css set `[hidden] { display: none !important; }` so we also need the `!important` here to be able to override the default hidden behavior on the sphinx rendered scikit-learn.org. See: https://github.com/scikit-learn/scikit-learn/issues/21755 */display: inline-block !important;position: relative;}#sk-container-id-9 div.sk-text-repr-fallback {display: none;}</style><div id=\"sk-container-id-9\" class=\"sk-top-container\"><div class=\"sk-text-repr-fallback\"><pre>OpenSetClassifier(clf_kwargs={&#x27;alpha&#x27;: 0.05, &#x27;gamma&#x27;: 0.01, &#x27;n_components&#x27;: 3,\n",
       "                              &#x27;not_assigned&#x27;: &#x27;UNKNOWN FLOWER&#x27;, &#x27;scale_x&#x27;: True,\n",
       "                              &#x27;style&#x27;: &#x27;soft&#x27;},\n",
       "                  clf_model=&lt;class &#x27;pychemauth.classifier.plsda.PLSDA&#x27;&gt;,\n",
       "                  clf_style=&#x27;soft&#x27;,\n",
       "                  outlier_kwargs={&#x27;bootstrap&#x27;: True, &#x27;contamination&#x27;: 0.15,\n",
       "                                  &#x27;max_features&#x27;: 1.0, &#x27;max_samples&#x27;: 1.0,\n",
       "                                  &#x27;n_estimators&#x27;: 100, &#x27;random_state&#x27;: 42},\n",
       "                  outlier_model=&lt;class &#x27;sklearn.ensemble._iforest.IsolationForest&#x27;&gt;,\n",
       "                  unknown_class=&#x27;OUTLIER&#x27;)</pre><b>In a Jupyter environment, please rerun this cell to show the HTML representation or trust the notebook. <br />On GitHub, the HTML representation is unable to render, please try loading this page with nbviewer.org.</b></div><div class=\"sk-container\" hidden><div class=\"sk-item\"><div class=\"sk-estimator sk-toggleable\"><input class=\"sk-toggleable__control sk-hidden--visually\" id=\"sk-estimator-id-9\" type=\"checkbox\" checked><label for=\"sk-estimator-id-9\" class=\"sk-toggleable__label sk-toggleable__label-arrow\">OpenSetClassifier</label><div class=\"sk-toggleable__content\"><pre>OpenSetClassifier(clf_kwargs={&#x27;alpha&#x27;: 0.05, &#x27;gamma&#x27;: 0.01, &#x27;n_components&#x27;: 3,\n",
       "                              &#x27;not_assigned&#x27;: &#x27;UNKNOWN FLOWER&#x27;, &#x27;scale_x&#x27;: True,\n",
       "                              &#x27;style&#x27;: &#x27;soft&#x27;},\n",
       "                  clf_model=&lt;class &#x27;pychemauth.classifier.plsda.PLSDA&#x27;&gt;,\n",
       "                  clf_style=&#x27;soft&#x27;,\n",
       "                  outlier_kwargs={&#x27;bootstrap&#x27;: True, &#x27;contamination&#x27;: 0.15,\n",
       "                                  &#x27;max_features&#x27;: 1.0, &#x27;max_samples&#x27;: 1.0,\n",
       "                                  &#x27;n_estimators&#x27;: 100, &#x27;random_state&#x27;: 42},\n",
       "                  outlier_model=&lt;class &#x27;sklearn.ensemble._iforest.IsolationForest&#x27;&gt;,\n",
       "                  unknown_class=&#x27;OUTLIER&#x27;)</pre></div></div></div></div></div>"
      ],
      "text/plain": [
       "OpenSetClassifier(clf_kwargs={'alpha': 0.05, 'gamma': 0.01, 'n_components': 3,\n",
       "                              'not_assigned': 'UNKNOWN FLOWER', 'scale_x': True,\n",
       "                              'style': 'soft'},\n",
       "                  clf_model=<class 'pychemauth.classifier.plsda.PLSDA'>,\n",
       "                  clf_style='soft',\n",
       "                  outlier_kwargs={'bootstrap': True, 'contamination': 0.15,\n",
       "                                  'max_features': 1.0, 'max_samples': 1.0,\n",
       "                                  'n_estimators': 100, 'random_state': 42},\n",
       "                  outlier_model=<class 'sklearn.ensemble._iforest.IsolationForest'>,\n",
       "                  unknown_class='OUTLIER')"
      ]
     },
     "execution_count": 89,
     "metadata": {},
     "output_type": "execute_result"
    }
   ],
   "source": [
    "osc.fit(X_train_, y_train_)"
   ]
  },
  {
   "cell_type": "code",
   "execution_count": 33,
   "id": "cc3945d3",
   "metadata": {
    "ExecuteTime": {
     "end_time": "2024-01-19T16:40:37.999917Z",
     "start_time": "2024-01-19T16:40:37.822114Z"
    }
   },
   "outputs": [
    {
     "data": {
      "image/png": "[encoded data removed]",
      "text/plain": [
       "<Figure size 640x480 with 1 Axes>"
      ]
     },
     "metadata": {},
     "output_type": "display_data"
    }
   ],
   "source": [
    "_ = osc.fitted_classification_model.visualize(styles=['hard', 'soft'])"
   ]
  },
  {
   "cell_type": "code",
   "execution_count": 34,
   "id": "774956f7",
   "metadata": {
    "ExecuteTime": {
     "end_time": "2024-01-19T16:40:38.031176Z",
     "start_time": "2024-01-19T16:40:38.002260Z"
    }
   },
   "outputs": [
    {
     "data": {
      "text/plain": [
       "[['setosa'],\n",
       " ['OUTLIER'],\n",
       " ['setosa'],\n",
       " ['virginica'],\n",
       " ['UNKNOWN FLOWER'],\n",
       " ['virginica'],\n",
       " ['OUTLIER'],\n",
       " ['virginica'],\n",
       " ['setosa'],\n",
       " ['setosa']]"
      ]
     },
     "execution_count": 34,
     "metadata": {},
     "output_type": "execute_result"
    }
   ],
   "source": [
    "# The predictions can return either OUTLIER (OD identified this point) or UNKNOWN FLOWER (soft model identified this point)\n",
    "\n",
    "osc.predict(X_train_[:10])"
   ]
  },
  {
   "cell_type": "code",
   "execution_count": 35,
   "id": "8a0aff85",
   "metadata": {
    "ExecuteTime": {
     "end_time": "2024-01-19T16:40:38.061458Z",
     "start_time": "2024-01-19T16:40:38.032897Z"
    }
   },
   "outputs": [
    {
     "data": {
      "text/html": [
       "<div>\n",
       "<style scoped>\n",
       "    .dataframe tbody tr th:only-of-type {\n",
       "        vertical-align: middle;\n",
       "    }\n",
       "\n",
       "    .dataframe tbody tr th {\n",
       "        vertical-align: top;\n",
       "    }\n",
       "\n",
       "    .dataframe thead th {\n",
       "        text-align: right;\n",
       "    }\n",
       "</style>\n",
       "<table border=\"1\" class=\"dataframe\">\n",
       "  <thead>\n",
       "    <tr style=\"text-align: right;\">\n",
       "      <th></th>\n",
       "      <th>setosa</th>\n",
       "      <th>virginica</th>\n",
       "      <th>OUTLIER</th>\n",
       "    </tr>\n",
       "  </thead>\n",
       "  <tbody>\n",
       "    <tr>\n",
       "      <th>setosa</th>\n",
       "      <td>4</td>\n",
       "      <td>0</td>\n",
       "      <td>0</td>\n",
       "    </tr>\n",
       "    <tr>\n",
       "      <th>virginica</th>\n",
       "      <td>0</td>\n",
       "      <td>3</td>\n",
       "      <td>3</td>\n",
       "    </tr>\n",
       "  </tbody>\n",
       "</table>\n",
       "</div>"
      ],
      "text/plain": [
       "           setosa  virginica  OUTLIER\n",
       "setosa          4          0        0\n",
       "virginica       0          3        3"
      ]
     },
     "execution_count": 35,
     "metadata": {},
     "output_type": "execute_result"
    }
   ],
   "source": [
    "# For the purpose of computing metrics these are combined under the OSC's label (here, that is OUTLIER)\n",
    "\n",
    "res = osc.figures_of_merit(osc.predict(X_train_[:10]), y_train_[:10])\n",
    "res['CM']"
   ]
  },
  {
   "cell_type": "code",
   "execution_count": 93,
   "id": "15e372bb",
   "metadata": {
    "ExecuteTime": {
     "end_time": "2024-01-19T17:44:08.494805Z",
     "start_time": "2024-01-19T17:44:08.405045Z"
    }
   },
   "outputs": [
    {
     "data": {
      "text/html": [
       "<div>\n",
       "<style scoped>\n",
       "    .dataframe tbody tr th:only-of-type {\n",
       "        vertical-align: middle;\n",
       "    }\n",
       "\n",
       "    .dataframe tbody tr th {\n",
       "        vertical-align: top;\n",
       "    }\n",
       "\n",
       "    .dataframe thead th {\n",
       "        text-align: right;\n",
       "    }\n",
       "</style>\n",
       "<table border=\"1\" class=\"dataframe\">\n",
       "  <thead>\n",
       "    <tr style=\"text-align: right;\">\n",
       "      <th></th>\n",
       "      <th>setosa</th>\n",
       "      <th>virginica</th>\n",
       "      <th>OUTLIER</th>\n",
       "    </tr>\n",
       "  </thead>\n",
       "  <tbody>\n",
       "    <tr>\n",
       "      <th>setosa</th>\n",
       "      <td>33</td>\n",
       "      <td>0</td>\n",
       "      <td>7</td>\n",
       "    </tr>\n",
       "    <tr>\n",
       "      <th>virginica</th>\n",
       "      <td>0</td>\n",
       "      <td>32</td>\n",
       "      <td>8</td>\n",
       "    </tr>\n",
       "  </tbody>\n",
       "</table>\n",
       "</div>"
      ],
      "text/plain": [
       "           setosa  virginica  OUTLIER\n",
       "setosa         33          0        7\n",
       "virginica       0         32        8"
      ]
     },
     "execution_count": 93,
     "metadata": {},
     "output_type": "execute_result"
    }
   ],
   "source": [
    "res = osc.figures_of_merit(osc.predict(X_train_), y_train_)\n",
    "res['CM']"
   ]
  },
  {
   "cell_type": "markdown",
   "id": "754de001",
   "metadata": {},
   "source": [
    "**The difference can be useful if you want to understand which model rejected the point.**"
   ]
  },
  {
   "cell_type": "code",
   "execution_count": 36,
   "id": "4880df5a",
   "metadata": {
    "ExecuteTime": {
     "end_time": "2024-01-19T16:40:38.367592Z",
     "start_time": "2024-01-19T16:40:38.062953Z"
    }
   },
   "outputs": [
    {
     "data": {
      "text/plain": [
       "Text(0, 0.5, 'Column 2 (sepal width)')"
      ]
     },
     "execution_count": 36,
     "metadata": {},
     "output_type": "execute_result"
    },
    {
     "data": {
      "image/png": "[encoded data removed]",
      "text/plain": [
       "<Figure size 640x480 with 1 Axes>"
      ]
     },
     "metadata": {},
     "output_type": "display_data"
    }
   ],
   "source": [
    "for pred_, pt_, label_ in zip(osc.predict(X_train), X_train, y_train):\n",
    "    if label_ == 'setosa':\n",
    "        marker = 'o'\n",
    "        color = 'C0'\n",
    "    elif label_ == 'versicolor':\n",
    "        marker = '^'\n",
    "        color = 'C1'\n",
    "    else:\n",
    "        marker = '*'\n",
    "        color = 'C2'\n",
    "        \n",
    "    # Outliers in red\n",
    "    if pred_[0] == 'UNKNOWN FLOWER': # PLS-DA deemed this outside its acceptance region\n",
    "        color = 'red'\n",
    "    elif pred_[0] == 'OUTLIER': # OD detected this as an outlier = COVARIATE SHIFT\n",
    "        color = 'purple'\n",
    "        \n",
    "    plt.plot([pt_[0]], [pt_[1]], \n",
    "             color=color,\n",
    "             marker=marker\n",
    "            )\n",
    "plt.xlabel('Column 1 (sepal length)')\n",
    "plt.ylabel('Column 2 (sepal width)')"
   ]
  },
  {
   "cell_type": "code",
   "execution_count": 37,
   "id": "e0953b00",
   "metadata": {
    "ExecuteTime": {
     "end_time": "2024-01-19T16:40:38.402566Z",
     "start_time": "2024-01-19T16:40:38.369216Z"
    }
   },
   "outputs": [],
   "source": [
    "# Note that the purple points are caught by the outlier detector, but it is possible that the PLS-DA model would\n",
    "# have caught them too.\n",
    "\n",
    "clf_, od_, both_, neither_ = 0, 0, 0, 0\n",
    "\n",
    "od_correct_ = 0\n",
    "clf_correct_ = 0\n",
    "\n",
    "for a,b,label in zip(\n",
    "    osc.fitted_classification_model.predict(X_train),\n",
    "    osc.fitted_outlier_model.predict(X_train),\n",
    "    y_train\n",
    "):\n",
    "    clf_caught, od_caught = 0, 0\n",
    "    if a[0] == 'UNKNOWN FLOWER':\n",
    "        clf_caught = 1\n",
    "    if b == -1:\n",
    "        od_caught = 1\n",
    "        \n",
    "    if (a[0] == 'UNKNOWN FLOWER') and (label == 'versicolor'):\n",
    "        clf_correct_ +=  1\n",
    "    \n",
    "    if (b == -1) and (label == 'versicolor'):\n",
    "        od_correct_ +=  1\n",
    "        \n",
    "    clf_ += clf_caught\n",
    "    od_ += od_caught\n",
    "    both_ += (1 if (clf_caught==1 and od_caught==1) else 0)\n",
    "    neither_ += (1 if (clf_caught==0 and od_caught==0) else 0)"
   ]
  },
  {
   "cell_type": "code",
   "execution_count": 38,
   "id": "385daecc",
   "metadata": {
    "ExecuteTime": {
     "end_time": "2024-01-19T16:40:38.420788Z",
     "start_time": "2024-01-19T16:40:38.404659Z"
    }
   },
   "outputs": [
    {
     "data": {
      "text/plain": [
       "(45, 49, 40, 66)"
      ]
     },
     "execution_count": 38,
     "metadata": {},
     "output_type": "execute_result"
    }
   ],
   "source": [
    "# In most cases, the model and outlier both reacted the same way to a point.\n",
    "\n",
    "clf_, od_, both_, neither_ "
   ]
  },
  {
   "cell_type": "code",
   "execution_count": 39,
   "id": "c59e2fd9",
   "metadata": {
    "ExecuteTime": {
     "end_time": "2024-01-19T16:40:38.484513Z",
     "start_time": "2024-01-19T16:40:38.422294Z"
    }
   },
   "outputs": [
    {
     "data": {
      "text/plain": [
       "(37, 37)"
      ]
     },
     "execution_count": 39,
     "metadata": {},
     "output_type": "execute_result"
    }
   ],
   "source": [
    "# They each correctly identified a novel point 37/40 times\n",
    "\n",
    "clf_correct_, od_correct_"
   ]
  },
  {
   "cell_type": "code",
   "execution_count": 40,
   "id": "5d5cdd9e",
   "metadata": {
    "ExecuteTime": {
     "end_time": "2024-01-19T16:40:38.566543Z",
     "start_time": "2024-01-19T16:40:38.486158Z"
    }
   },
   "outputs": [],
   "source": [
    "# The OD rejects 37/40 versicolor points, allowing 3 to get through. However, it is clear that only 1 was incorrectly\n",
    "# assigned to a known class (virginica); these must have been rejected by the soft PLS-DA model.  Thus, together they\n",
    "# make a more specific model than either alone (below the PLS-DA model is shown to fail to reject 2 points)."
   ]
  },
  {
   "cell_type": "code",
   "execution_count": 41,
   "id": "7060c891",
   "metadata": {
    "ExecuteTime": {
     "end_time": "2024-01-19T16:40:38.696062Z",
     "start_time": "2024-01-19T16:40:38.569338Z"
    }
   },
   "outputs": [
    {
     "data": {
      "text/html": [
       "<div>\n",
       "<style scoped>\n",
       "    .dataframe tbody tr th:only-of-type {\n",
       "        vertical-align: middle;\n",
       "    }\n",
       "\n",
       "    .dataframe tbody tr th {\n",
       "        vertical-align: top;\n",
       "    }\n",
       "\n",
       "    .dataframe thead th {\n",
       "        text-align: right;\n",
       "    }\n",
       "</style>\n",
       "<table border=\"1\" class=\"dataframe\">\n",
       "  <thead>\n",
       "    <tr style=\"text-align: right;\">\n",
       "      <th></th>\n",
       "      <th>setosa</th>\n",
       "      <th>virginica</th>\n",
       "      <th>OUTLIER</th>\n",
       "    </tr>\n",
       "  </thead>\n",
       "  <tbody>\n",
       "    <tr>\n",
       "      <th>setosa</th>\n",
       "      <td>33</td>\n",
       "      <td>0</td>\n",
       "      <td>7</td>\n",
       "    </tr>\n",
       "    <tr>\n",
       "      <th>versicolor</th>\n",
       "      <td>0</td>\n",
       "      <td>1</td>\n",
       "      <td>39</td>\n",
       "    </tr>\n",
       "    <tr>\n",
       "      <th>virginica</th>\n",
       "      <td>0</td>\n",
       "      <td>32</td>\n",
       "      <td>8</td>\n",
       "    </tr>\n",
       "  </tbody>\n",
       "</table>\n",
       "</div>"
      ],
      "text/plain": [
       "            setosa  virginica  OUTLIER\n",
       "setosa          33          0        7\n",
       "versicolor       0          1       39\n",
       "virginica        0         32        8"
      ]
     },
     "execution_count": 41,
     "metadata": {},
     "output_type": "execute_result"
    }
   ],
   "source": [
    "res = osc.figures_of_merit(osc.predict(X_train), y_train)\n",
    "res['CM']"
   ]
  },
  {
   "cell_type": "code",
   "execution_count": 42,
   "id": "eb3424c3",
   "metadata": {
    "ExecuteTime": {
     "end_time": "2024-01-19T16:40:38.763287Z",
     "start_time": "2024-01-19T16:40:38.698388Z"
    }
   },
   "outputs": [
    {
     "data": {
      "text/html": [
       "<div>\n",
       "<style scoped>\n",
       "    .dataframe tbody tr th:only-of-type {\n",
       "        vertical-align: middle;\n",
       "    }\n",
       "\n",
       "    .dataframe tbody tr th {\n",
       "        vertical-align: top;\n",
       "    }\n",
       "\n",
       "    .dataframe thead th {\n",
       "        text-align: right;\n",
       "    }\n",
       "</style>\n",
       "<table border=\"1\" class=\"dataframe\">\n",
       "  <thead>\n",
       "    <tr style=\"text-align: right;\">\n",
       "      <th></th>\n",
       "      <th>setosa</th>\n",
       "      <th>virginica</th>\n",
       "      <th>UNKNOWN FLOWER</th>\n",
       "    </tr>\n",
       "  </thead>\n",
       "  <tbody>\n",
       "    <tr>\n",
       "      <th>setosa</th>\n",
       "      <td>35</td>\n",
       "      <td>0</td>\n",
       "      <td>5</td>\n",
       "    </tr>\n",
       "    <tr>\n",
       "      <th>versicolor</th>\n",
       "      <td>0</td>\n",
       "      <td>2</td>\n",
       "      <td>38</td>\n",
       "    </tr>\n",
       "    <tr>\n",
       "      <th>virginica</th>\n",
       "      <td>0</td>\n",
       "      <td>38</td>\n",
       "      <td>2</td>\n",
       "    </tr>\n",
       "  </tbody>\n",
       "</table>\n",
       "</div>"
      ],
      "text/plain": [
       "            setosa  virginica  UNKNOWN FLOWER\n",
       "setosa          35          0               5\n",
       "versicolor       0          2              38\n",
       "virginica        0         38               2"
      ]
     },
     "execution_count": 42,
     "metadata": {},
     "output_type": "execute_result"
    }
   ],
   "source": [
    "# The PLS-DA model alone is less specific against the versicolor challenge class, however, it is more sensitive to both\n",
    "# known classes.\n",
    "\n",
    "soft_plsda = PLSDA(\n",
    "    **{\n",
    "        'n_components':3,\n",
    "        'alpha':0.05,\n",
    "        'gamma':0.01,\n",
    "        'style':\"soft\",\n",
    "        'not_assigned':\"UNKNOWN FLOWER\",\n",
    "        'scale_x':True,\n",
    "    }\n",
    ")\n",
    "\n",
    "_ = soft_plsda.fit(X_train_, y_train_)\n",
    "\n",
    "res = soft_plsda.figures_of_merit(soft_plsda.predict(X_train), y_train)\n",
    "res['CM']"
   ]
  },
  {
   "cell_type": "markdown",
   "id": "6437eb6f",
   "metadata": {},
   "source": [
    "# Case 3: Convert a Binary OvA Discriminator into a Binary Class Model\n",
    "\n",
    "Often a single (e.g., authentic) class may be well sampled while many possible alternatives are collected into a single \"alternative\" class, then a pseudo-binary model is trained in a \"one-vs-all\" (OvA) fashion.  The lack of a well-defined, well-sampled alternative class is one of the main reasons such models are typically inappropriate for authentication applications. However, it is possible to convert a binary OvA discriminator into a binary class model by adding an outlier detector.  This assumes that the two classes (authentic vs. known alternatives) are well sampled, so that the outlier detector is simply responsible for learning when a covariate shift occurs and a sample moves out of the region of input space that a classifier is expected to be familiar with.  In this sense, we have a model which understands 2 classes: the authentic and the known alternatives, and both class spaces are bounded due to the outlier detector."
   ]
  },
  {
   "cell_type": "markdown",
   "id": "b609980b",
   "metadata": {},
   "source": [
    "By adding an outlier detector, we can at least determine if a new sample looks different from both the known authentic class and the set of known alternatives.  These \"unknown unknowns\" are typically the reason that models fail under open set conditions.  The example below is not quite an authenticator since it uses both classes to evaluate the model performance, but we may consider it a class model since the outlier detector will reject any sample that is far away from the learned (finite) class space.  Since alternatives are used during training, this is a \"compliant\" approach rather than a \"rigorous\" one."
   ]
  },
  {
   "cell_type": "code",
   "execution_count": 94,
   "id": "5becda8f",
   "metadata": {
    "ExecuteTime": {
     "end_time": "2024-01-19T17:49:24.034693Z",
     "start_time": "2024-01-19T17:49:23.991879Z"
    }
   },
   "outputs": [],
   "source": [
    "# Pretend that setosa is the target class and virginica encompasses all known alternatives\n",
    "\n",
    "target = 'setosa'\n",
    "known_alternative = 'virginica'\n",
    "unknown_alternative = 'versicolor'\n",
    "\n",
    "mask = (y_train == target) | (y_train == known_alternative)"
   ]
  },
  {
   "cell_type": "code",
   "execution_count": 95,
   "id": "1771109d",
   "metadata": {
    "ExecuteTime": {
     "end_time": "2024-01-19T17:49:24.190117Z",
     "start_time": "2024-01-19T17:49:24.150119Z"
    }
   },
   "outputs": [],
   "source": [
    "osc = OpenSetClassifier(\n",
    "    clf_model=RandomForestClassifier,\n",
    "    clf_kwargs={\n",
    "        'n_estimators':100,\n",
    "        'max_features':1,\n",
    "        'random_state':42,\n",
    "        'class_weight':'balanced'\n",
    "    },\n",
    "    outlier_model=IsolationForest, \n",
    "    outlier_kwargs={\n",
    "        'n_estimators':100, \n",
    "        'max_samples':1.0, \n",
    "        'contamination':0.15, # In practice, this is very important to tune correctly\n",
    "        'max_features':1.0,\n",
    "        'bootstrap':True, \n",
    "        'random_state':42, \n",
    "    },\n",
    "    inlier_value=1,\n",
    "    unknown_class='UNKNOWN',\n",
    "    score_metric='TEFF',\n",
    "    clf_style='hard',\n",
    "    score_using=\"all\"\n",
    ")"
   ]
  },
  {
   "cell_type": "code",
   "execution_count": 96,
   "id": "c803b18a",
   "metadata": {
    "ExecuteTime": {
     "end_time": "2024-01-19T17:49:25.699911Z",
     "start_time": "2024-01-19T17:49:25.346267Z"
    }
   },
   "outputs": [
    {
     "data": {
      "text/html": [
       "<style>#sk-container-id-10 {color: black;}#sk-container-id-10 pre{padding: 0;}#sk-container-id-10 div.sk-toggleable {background-color: white;}#sk-container-id-10 label.sk-toggleable__label {cursor: pointer;display: block;width: 100%;margin-bottom: 0;padding: 0.3em;box-sizing: border-box;text-align: center;}#sk-container-id-10 label.sk-toggleable__label-arrow:before {content: \"▸\";float: left;margin-right: 0.25em;color: #696969;}#sk-container-id-10 label.sk-toggleable__label-arrow:hover:before {color: black;}#sk-container-id-10 div.sk-estimator:hover label.sk-toggleable__label-arrow:before {color: black;}#sk-container-id-10 div.sk-toggleable__content {max-height: 0;max-width: 0;overflow: hidden;text-align: left;background-color: #f0f8ff;}#sk-container-id-10 div.sk-toggleable__content pre {margin: 0.2em;color: black;border-radius: 0.25em;background-color: #f0f8ff;}#sk-container-id-10 input.sk-toggleable__control:checked~div.sk-toggleable__content {max-height: 200px;max-width: 100%;overflow: auto;}#sk-container-id-10 input.sk-toggleable__control:checked~label.sk-toggleable__label-arrow:before {content: \"▾\";}#sk-container-id-10 div.sk-estimator input.sk-toggleable__control:checked~label.sk-toggleable__label {background-color: #d4ebff;}#sk-container-id-10 div.sk-label input.sk-toggleable__control:checked~label.sk-toggleable__label {background-color: #d4ebff;}#sk-container-id-10 input.sk-hidden--visually {border: 0;clip: rect(1px 1px 1px 1px);clip: rect(1px, 1px, 1px, 1px);height: 1px;margin: -1px;overflow: hidden;padding: 0;position: absolute;width: 1px;}#sk-container-id-10 div.sk-estimator {font-family: monospace;background-color: #f0f8ff;border: 1px dotted black;border-radius: 0.25em;box-sizing: border-box;margin-bottom: 0.5em;}#sk-container-id-10 div.sk-estimator:hover {background-color: #d4ebff;}#sk-container-id-10 div.sk-parallel-item::after {content: \"\";width: 100%;border-bottom: 1px solid gray;flex-grow: 1;}#sk-container-id-10 div.sk-label:hover label.sk-toggleable__label {background-color: #d4ebff;}#sk-container-id-10 div.sk-serial::before {content: \"\";position: absolute;border-left: 1px solid gray;box-sizing: border-box;top: 0;bottom: 0;left: 50%;z-index: 0;}#sk-container-id-10 div.sk-serial {display: flex;flex-direction: column;align-items: center;background-color: white;padding-right: 0.2em;padding-left: 0.2em;position: relative;}#sk-container-id-10 div.sk-item {position: relative;z-index: 1;}#sk-container-id-10 div.sk-parallel {display: flex;align-items: stretch;justify-content: center;background-color: white;position: relative;}#sk-container-id-10 div.sk-item::before, #sk-container-id-10 div.sk-parallel-item::before {content: \"\";position: absolute;border-left: 1px solid gray;box-sizing: border-box;top: 0;bottom: 0;left: 50%;z-index: -1;}#sk-container-id-10 div.sk-parallel-item {display: flex;flex-direction: column;z-index: 1;position: relative;background-color: white;}#sk-container-id-10 div.sk-parallel-item:first-child::after {align-self: flex-end;width: 50%;}#sk-container-id-10 div.sk-parallel-item:last-child::after {align-self: flex-start;width: 50%;}#sk-container-id-10 div.sk-parallel-item:only-child::after {width: 0;}#sk-container-id-10 div.sk-dashed-wrapped {border: 1px dashed gray;margin: 0 0.4em 0.5em 0.4em;box-sizing: border-box;padding-bottom: 0.4em;background-color: white;}#sk-container-id-10 div.sk-label label {font-family: monospace;font-weight: bold;display: inline-block;line-height: 1.2em;}#sk-container-id-10 div.sk-label-container {text-align: center;}#sk-container-id-10 div.sk-container {/* jupyter's `normalize.less` sets `[hidden] { display: none; }` but bootstrap.min.css set `[hidden] { display: none !important; }` so we also need the `!important` here to be able to override the default hidden behavior on the sphinx rendered scikit-learn.org. See: https://github.com/scikit-learn/scikit-learn/issues/21755 */display: inline-block !important;position: relative;}#sk-container-id-10 div.sk-text-repr-fallback {display: none;}</style><div id=\"sk-container-id-10\" class=\"sk-top-container\"><div class=\"sk-text-repr-fallback\"><pre>OpenSetClassifier(clf_kwargs={&#x27;class_weight&#x27;: &#x27;balanced&#x27;, &#x27;max_features&#x27;: 1,\n",
       "                              &#x27;n_estimators&#x27;: 100, &#x27;random_state&#x27;: 42},\n",
       "                  clf_model=&lt;class &#x27;sklearn.ensemble._forest.RandomForestClassifier&#x27;&gt;,\n",
       "                  outlier_kwargs={&#x27;bootstrap&#x27;: True, &#x27;contamination&#x27;: 0.15,\n",
       "                                  &#x27;max_features&#x27;: 1.0, &#x27;max_samples&#x27;: 1.0,\n",
       "                                  &#x27;n_estimators&#x27;: 100, &#x27;random_state&#x27;: 42},\n",
       "                  outlier_model=&lt;class &#x27;sklearn.ensemble._iforest.IsolationForest&#x27;&gt;,\n",
       "                  unknown_class=&#x27;UNKNOWN&#x27;)</pre><b>In a Jupyter environment, please rerun this cell to show the HTML representation or trust the notebook. <br />On GitHub, the HTML representation is unable to render, please try loading this page with nbviewer.org.</b></div><div class=\"sk-container\" hidden><div class=\"sk-item\"><div class=\"sk-estimator sk-toggleable\"><input class=\"sk-toggleable__control sk-hidden--visually\" id=\"sk-estimator-id-10\" type=\"checkbox\" checked><label for=\"sk-estimator-id-10\" class=\"sk-toggleable__label sk-toggleable__label-arrow\">OpenSetClassifier</label><div class=\"sk-toggleable__content\"><pre>OpenSetClassifier(clf_kwargs={&#x27;class_weight&#x27;: &#x27;balanced&#x27;, &#x27;max_features&#x27;: 1,\n",
       "                              &#x27;n_estimators&#x27;: 100, &#x27;random_state&#x27;: 42},\n",
       "                  clf_model=&lt;class &#x27;sklearn.ensemble._forest.RandomForestClassifier&#x27;&gt;,\n",
       "                  outlier_kwargs={&#x27;bootstrap&#x27;: True, &#x27;contamination&#x27;: 0.15,\n",
       "                                  &#x27;max_features&#x27;: 1.0, &#x27;max_samples&#x27;: 1.0,\n",
       "                                  &#x27;n_estimators&#x27;: 100, &#x27;random_state&#x27;: 42},\n",
       "                  outlier_model=&lt;class &#x27;sklearn.ensemble._iforest.IsolationForest&#x27;&gt;,\n",
       "                  unknown_class=&#x27;UNKNOWN&#x27;)</pre></div></div></div></div></div>"
      ],
      "text/plain": [
       "OpenSetClassifier(clf_kwargs={'class_weight': 'balanced', 'max_features': 1,\n",
       "                              'n_estimators': 100, 'random_state': 42},\n",
       "                  clf_model=<class 'sklearn.ensemble._forest.RandomForestClassifier'>,\n",
       "                  outlier_kwargs={'bootstrap': True, 'contamination': 0.15,\n",
       "                                  'max_features': 1.0, 'max_samples': 1.0,\n",
       "                                  'n_estimators': 100, 'random_state': 42},\n",
       "                  outlier_model=<class 'sklearn.ensemble._iforest.IsolationForest'>,\n",
       "                  unknown_class='UNKNOWN')"
      ]
     },
     "execution_count": 96,
     "metadata": {},
     "output_type": "execute_result"
    }
   ],
   "source": [
    "osc.fit(X_train[mask], y_train[mask])"
   ]
  },
  {
   "cell_type": "code",
   "execution_count": 98,
   "id": "c0e865f4",
   "metadata": {
    "ExecuteTime": {
     "end_time": "2024-01-19T17:49:45.761635Z",
     "start_time": "2024-01-19T17:49:45.703413Z"
    }
   },
   "outputs": [
    {
     "data": {
      "text/plain": [
       "['setosa',\n",
       " 'UNKNOWN',\n",
       " 'setosa',\n",
       " 'virginica',\n",
       " 'virginica',\n",
       " 'virginica',\n",
       " 'UNKNOWN',\n",
       " 'virginica',\n",
       " 'setosa',\n",
       " 'setosa']"
      ]
     },
     "execution_count": 98,
     "metadata": {},
     "output_type": "execute_result"
    }
   ],
   "source": [
    "osc.predict(X_train[mask])[:10]"
   ]
  },
  {
   "cell_type": "code",
   "execution_count": 97,
   "id": "9e163c1f",
   "metadata": {
    "ExecuteTime": {
     "end_time": "2024-01-19T17:49:26.626853Z",
     "start_time": "2024-01-19T17:49:26.556490Z"
    }
   },
   "outputs": [
    {
     "data": {
      "text/plain": [
       "{'CM':            setosa  virginica  UNKNOWN\n",
       " setosa         35          0        5\n",
       " virginica       0         33        7,\n",
       " 'I': setosa       40\n",
       " virginica    40\n",
       " dtype: int64,\n",
       " 'CSNS': setosa       0.875\n",
       " virginica    0.825\n",
       " dtype: float64,\n",
       " 'CSPS': setosa       1.0\n",
       " virginica    1.0\n",
       " dtype: float64,\n",
       " 'CEFF': setosa       0.935414\n",
       " virginica    0.908295\n",
       " dtype: float64,\n",
       " 'TSNS': 0.85,\n",
       " 'TSPS': 1.0,\n",
       " 'TEFF': 0.9219544457292888,\n",
       " 'ACC': 0.85}"
      ]
     },
     "execution_count": 97,
     "metadata": {},
     "output_type": "execute_result"
    }
   ],
   "source": [
    "res = osc.figures_of_merit(osc.predict(X_train[mask]), y_train[mask])\n",
    "res"
   ]
  },
  {
   "cell_type": "code",
   "execution_count": 47,
   "id": "bdbeca36",
   "metadata": {
    "ExecuteTime": {
     "end_time": "2024-01-19T16:40:39.364802Z",
     "start_time": "2024-01-19T16:40:39.310755Z"
    }
   },
   "outputs": [
    {
     "data": {
      "text/plain": [
       "0.7433034373659253"
      ]
     },
     "execution_count": 47,
     "metadata": {},
     "output_type": "execute_result"
    }
   ],
   "source": [
    "osc.score(X_train, y_train)"
   ]
  },
  {
   "cell_type": "code",
   "execution_count": 48,
   "id": "d60d3532",
   "metadata": {
    "ExecuteTime": {
     "end_time": "2024-01-19T16:40:39.419318Z",
     "start_time": "2024-01-19T16:40:39.366469Z"
    }
   },
   "outputs": [],
   "source": [
    "res = osc.figures_of_merit(osc.predict(X_train), y_train)"
   ]
  },
  {
   "cell_type": "code",
   "execution_count": 49,
   "id": "800d9651",
   "metadata": {
    "ExecuteTime": {
     "end_time": "2024-01-19T16:40:39.458509Z",
     "start_time": "2024-01-19T16:40:39.421141Z"
    }
   },
   "outputs": [
    {
     "data": {
      "text/plain": [
       "{'CM':             setosa  virginica  UNKNOWN\n",
       " setosa          35          0        5\n",
       " versicolor       0          3       37\n",
       " virginica        0         33        7,\n",
       " 'I': setosa        40\n",
       " versicolor    40\n",
       " virginica     40\n",
       " dtype: int64,\n",
       " 'CSNS': setosa       0.875\n",
       " virginica    0.825\n",
       " dtype: float64,\n",
       " 'CSPS': setosa       1.0000\n",
       " virginica    0.9625\n",
       " dtype: float64,\n",
       " 'CEFF': setosa       0.935414\n",
       " virginica    0.891102\n",
       " dtype: float64,\n",
       " 'TSNS': 0.5666666666666667,\n",
       " 'TSPS': 0.975,\n",
       " 'TEFF': 0.7433034373659253,\n",
       " 'ACC': 0.875}"
      ]
     },
     "execution_count": 49,
     "metadata": {},
     "output_type": "execute_result"
    }
   ],
   "source": [
    "res"
   ]
  },
  {
   "cell_type": "code",
   "execution_count": 50,
   "id": "bd1f9ec6",
   "metadata": {
    "ExecuteTime": {
     "end_time": "2024-01-19T16:40:39.533852Z",
     "start_time": "2024-01-19T16:40:39.460365Z"
    }
   },
   "outputs": [
    {
     "data": {
      "text/html": [
       "<div>\n",
       "<style scoped>\n",
       "    .dataframe tbody tr th:only-of-type {\n",
       "        vertical-align: middle;\n",
       "    }\n",
       "\n",
       "    .dataframe tbody tr th {\n",
       "        vertical-align: top;\n",
       "    }\n",
       "\n",
       "    .dataframe thead th {\n",
       "        text-align: right;\n",
       "    }\n",
       "</style>\n",
       "<table border=\"1\" class=\"dataframe\">\n",
       "  <thead>\n",
       "    <tr style=\"text-align: right;\">\n",
       "      <th></th>\n",
       "      <th>setosa</th>\n",
       "      <th>virginica</th>\n",
       "      <th>UNKNOWN</th>\n",
       "    </tr>\n",
       "  </thead>\n",
       "  <tbody>\n",
       "    <tr>\n",
       "      <th>setosa</th>\n",
       "      <td>35</td>\n",
       "      <td>0</td>\n",
       "      <td>5</td>\n",
       "    </tr>\n",
       "    <tr>\n",
       "      <th>versicolor</th>\n",
       "      <td>0</td>\n",
       "      <td>3</td>\n",
       "      <td>37</td>\n",
       "    </tr>\n",
       "    <tr>\n",
       "      <th>virginica</th>\n",
       "      <td>0</td>\n",
       "      <td>33</td>\n",
       "      <td>7</td>\n",
       "    </tr>\n",
       "  </tbody>\n",
       "</table>\n",
       "</div>"
      ],
      "text/plain": [
       "            setosa  virginica  UNKNOWN\n",
       "setosa          35          0        5\n",
       "versicolor       0          3       37\n",
       "virginica        0         33        7"
      ]
     },
     "execution_count": 50,
     "metadata": {},
     "output_type": "execute_result"
    }
   ],
   "source": [
    "res['CM']"
   ]
  },
  {
   "cell_type": "markdown",
   "id": "a05a5cc5",
   "metadata": {},
   "source": [
    "# Case 4: Convert a Binary OvA Discriminator into a One-Class Classifier\n",
    "\n",
    "If we evaluate the model using one-class model metrics we can consider this a one-class classifier (OCC) instead of a binary one.  This effectively still predicts class membership (Y/N) but rejection can come from either the discriminative classifier or the outlier detector.  You can analyze the source of the rejections as previously illustrated with multiclass soft model example."
   ]
  },
  {
   "cell_type": "code",
   "execution_count": 99,
   "id": "66bcdf25",
   "metadata": {
    "ExecuteTime": {
     "end_time": "2024-01-19T17:54:46.216904Z",
     "start_time": "2024-01-19T17:54:46.172481Z"
    }
   },
   "outputs": [],
   "source": [
    "# Re-label training data into authentic vs. alternative - hold out the versicolor for a later test\n",
    "\n",
    "def convert_y_to_binary_format(y, target, alternative_class='KNOWN ALTERNATIVE'):\n",
    "    y_binary = y.copy()\n",
    "    y_binary[y_binary != target] = alternative_class\n",
    "    \n",
    "    return y_binary \n",
    "\n",
    "y_train_binary = convert_y_to_binary_format(y_train[mask], target)\n",
    "X_train_binary = X_train[mask]"
   ]
  },
  {
   "cell_type": "code",
   "execution_count": 102,
   "id": "a2c5ce96",
   "metadata": {
    "ExecuteTime": {
     "end_time": "2024-01-19T17:57:47.006998Z",
     "start_time": "2024-01-19T17:57:46.982120Z"
    }
   },
   "outputs": [],
   "source": [
    "osc = OpenSetClassifier(\n",
    "    clf_model=RandomForestClassifier,\n",
    "    clf_kwargs={\n",
    "        'n_estimators':100,\n",
    "        'max_features':1,\n",
    "        'random_state':42,\n",
    "        'class_weight':'balanced'\n",
    "    },\n",
    "    outlier_model=IsolationForest, \n",
    "    outlier_kwargs={\n",
    "        'n_estimators':100, \n",
    "        'max_samples':1.0, \n",
    "        'contamination':0.15, # In practice, this is very important to tune correctly\n",
    "        'max_features':1.0,\n",
    "        'bootstrap':True, \n",
    "        'random_state':42, \n",
    "    },\n",
    "    inlier_value=1,\n",
    "    unknown_class='UNKNOWN',\n",
    "    score_metric='TEFF',\n",
    "    clf_style='hard',\n",
    "    score_using=target # Now score the model using only the target class as the positive class, others are all negative\n",
    ")"
   ]
  },
  {
   "cell_type": "code",
   "execution_count": 104,
   "id": "49499e49",
   "metadata": {
    "ExecuteTime": {
     "end_time": "2024-01-19T17:57:57.696984Z",
     "start_time": "2024-01-19T17:57:57.337375Z"
    }
   },
   "outputs": [
    {
     "data": {
      "text/html": [
       "<style>#sk-container-id-11 {color: black;}#sk-container-id-11 pre{padding: 0;}#sk-container-id-11 div.sk-toggleable {background-color: white;}#sk-container-id-11 label.sk-toggleable__label {cursor: pointer;display: block;width: 100%;margin-bottom: 0;padding: 0.3em;box-sizing: border-box;text-align: center;}#sk-container-id-11 label.sk-toggleable__label-arrow:before {content: \"▸\";float: left;margin-right: 0.25em;color: #696969;}#sk-container-id-11 label.sk-toggleable__label-arrow:hover:before {color: black;}#sk-container-id-11 div.sk-estimator:hover label.sk-toggleable__label-arrow:before {color: black;}#sk-container-id-11 div.sk-toggleable__content {max-height: 0;max-width: 0;overflow: hidden;text-align: left;background-color: #f0f8ff;}#sk-container-id-11 div.sk-toggleable__content pre {margin: 0.2em;color: black;border-radius: 0.25em;background-color: #f0f8ff;}#sk-container-id-11 input.sk-toggleable__control:checked~div.sk-toggleable__content {max-height: 200px;max-width: 100%;overflow: auto;}#sk-container-id-11 input.sk-toggleable__control:checked~label.sk-toggleable__label-arrow:before {content: \"▾\";}#sk-container-id-11 div.sk-estimator input.sk-toggleable__control:checked~label.sk-toggleable__label {background-color: #d4ebff;}#sk-container-id-11 div.sk-label input.sk-toggleable__control:checked~label.sk-toggleable__label {background-color: #d4ebff;}#sk-container-id-11 input.sk-hidden--visually {border: 0;clip: rect(1px 1px 1px 1px);clip: rect(1px, 1px, 1px, 1px);height: 1px;margin: -1px;overflow: hidden;padding: 0;position: absolute;width: 1px;}#sk-container-id-11 div.sk-estimator {font-family: monospace;background-color: #f0f8ff;border: 1px dotted black;border-radius: 0.25em;box-sizing: border-box;margin-bottom: 0.5em;}#sk-container-id-11 div.sk-estimator:hover {background-color: #d4ebff;}#sk-container-id-11 div.sk-parallel-item::after {content: \"\";width: 100%;border-bottom: 1px solid gray;flex-grow: 1;}#sk-container-id-11 div.sk-label:hover label.sk-toggleable__label {background-color: #d4ebff;}#sk-container-id-11 div.sk-serial::before {content: \"\";position: absolute;border-left: 1px solid gray;box-sizing: border-box;top: 0;bottom: 0;left: 50%;z-index: 0;}#sk-container-id-11 div.sk-serial {display: flex;flex-direction: column;align-items: center;background-color: white;padding-right: 0.2em;padding-left: 0.2em;position: relative;}#sk-container-id-11 div.sk-item {position: relative;z-index: 1;}#sk-container-id-11 div.sk-parallel {display: flex;align-items: stretch;justify-content: center;background-color: white;position: relative;}#sk-container-id-11 div.sk-item::before, #sk-container-id-11 div.sk-parallel-item::before {content: \"\";position: absolute;border-left: 1px solid gray;box-sizing: border-box;top: 0;bottom: 0;left: 50%;z-index: -1;}#sk-container-id-11 div.sk-parallel-item {display: flex;flex-direction: column;z-index: 1;position: relative;background-color: white;}#sk-container-id-11 div.sk-parallel-item:first-child::after {align-self: flex-end;width: 50%;}#sk-container-id-11 div.sk-parallel-item:last-child::after {align-self: flex-start;width: 50%;}#sk-container-id-11 div.sk-parallel-item:only-child::after {width: 0;}#sk-container-id-11 div.sk-dashed-wrapped {border: 1px dashed gray;margin: 0 0.4em 0.5em 0.4em;box-sizing: border-box;padding-bottom: 0.4em;background-color: white;}#sk-container-id-11 div.sk-label label {font-family: monospace;font-weight: bold;display: inline-block;line-height: 1.2em;}#sk-container-id-11 div.sk-label-container {text-align: center;}#sk-container-id-11 div.sk-container {/* jupyter's `normalize.less` sets `[hidden] { display: none; }` but bootstrap.min.css set `[hidden] { display: none !important; }` so we also need the `!important` here to be able to override the default hidden behavior on the sphinx rendered scikit-learn.org. See: https://github.com/scikit-learn/scikit-learn/issues/21755 */display: inline-block !important;position: relative;}#sk-container-id-11 div.sk-text-repr-fallback {display: none;}</style><div id=\"sk-container-id-11\" class=\"sk-top-container\"><div class=\"sk-text-repr-fallback\"><pre>OpenSetClassifier(clf_kwargs={&#x27;class_weight&#x27;: &#x27;balanced&#x27;, &#x27;max_features&#x27;: 1,\n",
       "                              &#x27;n_estimators&#x27;: 100, &#x27;random_state&#x27;: 42},\n",
       "                  clf_model=&lt;class &#x27;sklearn.ensemble._forest.RandomForestClassifier&#x27;&gt;,\n",
       "                  outlier_kwargs={&#x27;bootstrap&#x27;: True, &#x27;contamination&#x27;: 0.15,\n",
       "                                  &#x27;max_features&#x27;: 1.0, &#x27;max_samples&#x27;: 1.0,\n",
       "                                  &#x27;n_estimators&#x27;: 100, &#x27;random_state&#x27;: 42},\n",
       "                  outlier_model=&lt;class &#x27;sklearn.ensemble._iforest.IsolationForest&#x27;&gt;,\n",
       "                  score_using=&#x27;setosa&#x27;, unknown_class=&#x27;UNKNOWN&#x27;)</pre><b>In a Jupyter environment, please rerun this cell to show the HTML representation or trust the notebook. <br />On GitHub, the HTML representation is unable to render, please try loading this page with nbviewer.org.</b></div><div class=\"sk-container\" hidden><div class=\"sk-item\"><div class=\"sk-estimator sk-toggleable\"><input class=\"sk-toggleable__control sk-hidden--visually\" id=\"sk-estimator-id-11\" type=\"checkbox\" checked><label for=\"sk-estimator-id-11\" class=\"sk-toggleable__label sk-toggleable__label-arrow\">OpenSetClassifier</label><div class=\"sk-toggleable__content\"><pre>OpenSetClassifier(clf_kwargs={&#x27;class_weight&#x27;: &#x27;balanced&#x27;, &#x27;max_features&#x27;: 1,\n",
       "                              &#x27;n_estimators&#x27;: 100, &#x27;random_state&#x27;: 42},\n",
       "                  clf_model=&lt;class &#x27;sklearn.ensemble._forest.RandomForestClassifier&#x27;&gt;,\n",
       "                  outlier_kwargs={&#x27;bootstrap&#x27;: True, &#x27;contamination&#x27;: 0.15,\n",
       "                                  &#x27;max_features&#x27;: 1.0, &#x27;max_samples&#x27;: 1.0,\n",
       "                                  &#x27;n_estimators&#x27;: 100, &#x27;random_state&#x27;: 42},\n",
       "                  outlier_model=&lt;class &#x27;sklearn.ensemble._iforest.IsolationForest&#x27;&gt;,\n",
       "                  score_using=&#x27;setosa&#x27;, unknown_class=&#x27;UNKNOWN&#x27;)</pre></div></div></div></div></div>"
      ],
      "text/plain": [
       "OpenSetClassifier(clf_kwargs={'class_weight': 'balanced', 'max_features': 1,\n",
       "                              'n_estimators': 100, 'random_state': 42},\n",
       "                  clf_model=<class 'sklearn.ensemble._forest.RandomForestClassifier'>,\n",
       "                  outlier_kwargs={'bootstrap': True, 'contamination': 0.15,\n",
       "                                  'max_features': 1.0, 'max_samples': 1.0,\n",
       "                                  'n_estimators': 100, 'random_state': 42},\n",
       "                  outlier_model=<class 'sklearn.ensemble._iforest.IsolationForest'>,\n",
       "                  score_using='setosa', unknown_class='UNKNOWN')"
      ]
     },
     "execution_count": 104,
     "metadata": {},
     "output_type": "execute_result"
    }
   ],
   "source": [
    "osc.fit(X_train_binary, y_train_binary)"
   ]
  },
  {
   "cell_type": "code",
   "execution_count": 106,
   "id": "cc4054ff",
   "metadata": {
    "ExecuteTime": {
     "end_time": "2024-01-19T17:58:19.206564Z",
     "start_time": "2024-01-19T17:58:19.109023Z"
    }
   },
   "outputs": [
    {
     "data": {
      "text/plain": [
       "0.9354143466934853"
      ]
     },
     "execution_count": 106,
     "metadata": {},
     "output_type": "execute_result"
    }
   ],
   "source": [
    "osc.score(X_train, y_train)"
   ]
  },
  {
   "cell_type": "code",
   "execution_count": 107,
   "id": "9bc9c912",
   "metadata": {
    "ExecuteTime": {
     "end_time": "2024-01-19T17:58:24.074949Z",
     "start_time": "2024-01-19T17:58:23.992210Z"
    }
   },
   "outputs": [],
   "source": [
    "# Predict on the entire dataset which also includes versicolor as an unknown unknown\n",
    "\n",
    "res = osc.figures_of_merit(osc.predict(X_train), y_train)"
   ]
  },
  {
   "cell_type": "code",
   "execution_count": 108,
   "id": "d6289edf",
   "metadata": {
    "ExecuteTime": {
     "end_time": "2024-01-19T17:58:24.623866Z",
     "start_time": "2024-01-19T17:58:24.580259Z"
    }
   },
   "outputs": [
    {
     "data": {
      "text/plain": [
       "{'CM':             KNOWN ALTERNATIVE  setosa  UNKNOWN\n",
       " setosa                      0      35        5\n",
       " versicolor                  3       0       37\n",
       " virginica                  33       0        7,\n",
       " 'I': KNOWN ALTERNATIVE     0\n",
       " setosa               40\n",
       " versicolor           40\n",
       " virginica            40\n",
       " dtype: int64,\n",
       " 'CSPS': {'KNOWN ALTERNATIVE': nan, 'versicolor': 1.0, 'virginica': 1.0},\n",
       " 'TSNS': 0.875,\n",
       " 'TSPS': 1.0,\n",
       " 'TEFF': 0.9354143466934853,\n",
       " 'ACC': 0.9583333333333334}"
      ]
     },
     "execution_count": 108,
     "metadata": {},
     "output_type": "execute_result"
    }
   ],
   "source": [
    "res # The results are now reported as if this is a OCC"
   ]
  },
  {
   "cell_type": "code",
   "execution_count": 57,
   "id": "3cc2634e",
   "metadata": {
    "ExecuteTime": {
     "end_time": "2024-01-19T16:40:40.421218Z",
     "start_time": "2024-01-19T16:40:40.353564Z"
    }
   },
   "outputs": [
    {
     "data": {
      "text/html": [
       "<div>\n",
       "<style scoped>\n",
       "    .dataframe tbody tr th:only-of-type {\n",
       "        vertical-align: middle;\n",
       "    }\n",
       "\n",
       "    .dataframe tbody tr th {\n",
       "        vertical-align: top;\n",
       "    }\n",
       "\n",
       "    .dataframe thead th {\n",
       "        text-align: right;\n",
       "    }\n",
       "</style>\n",
       "<table border=\"1\" class=\"dataframe\">\n",
       "  <thead>\n",
       "    <tr style=\"text-align: right;\">\n",
       "      <th></th>\n",
       "      <th>KNOWN ALTERNATIVE</th>\n",
       "      <th>setosa</th>\n",
       "      <th>UNKNOWN</th>\n",
       "    </tr>\n",
       "  </thead>\n",
       "  <tbody>\n",
       "    <tr>\n",
       "      <th>setosa</th>\n",
       "      <td>0</td>\n",
       "      <td>35</td>\n",
       "      <td>5</td>\n",
       "    </tr>\n",
       "    <tr>\n",
       "      <th>versicolor</th>\n",
       "      <td>3</td>\n",
       "      <td>0</td>\n",
       "      <td>37</td>\n",
       "    </tr>\n",
       "    <tr>\n",
       "      <th>virginica</th>\n",
       "      <td>33</td>\n",
       "      <td>0</td>\n",
       "      <td>7</td>\n",
       "    </tr>\n",
       "  </tbody>\n",
       "</table>\n",
       "</div>"
      ],
      "text/plain": [
       "            KNOWN ALTERNATIVE  setosa  UNKNOWN\n",
       "setosa                      0      35        5\n",
       "versicolor                  3       0       37\n",
       "virginica                  33       0        7"
      ]
     },
     "execution_count": 57,
     "metadata": {},
     "output_type": "execute_result"
    }
   ],
   "source": [
    "res['CM']"
   ]
  },
  {
   "cell_type": "code",
   "execution_count": 58,
   "id": "b5cfa1b7",
   "metadata": {
    "ExecuteTime": {
     "end_time": "2024-01-19T16:40:40.502821Z",
     "start_time": "2024-01-19T16:40:40.423690Z"
    }
   },
   "outputs": [
    {
     "data": {
      "text/plain": [
       "(0.875, 1.0, 0.9354143466934853)"
      ]
     },
     "execution_count": 58,
     "metadata": {},
     "output_type": "execute_result"
    }
   ],
   "source": [
    "tsns = 35 / 40. # 35 correctly recognized as setosa\n",
    "tsps = (40 + 40) / (40 + 40.) # All others correctly NOT assigned to setosa\n",
    "teff = (tsns * tsps)**0.5\n",
    "\n",
    "tsns, tsps, teff"
   ]
  },
  {
   "cell_type": "markdown",
   "id": "ef2f41ac",
   "metadata": {},
   "source": [
    "# Case 5: Enabling OCCs to Detect New Alternative Classes\n",
    "\n",
    "Compliant OCC's contain a bias since they are trained using information about known alternatives.  Rigorous models use only information about the target class."
   ]
  },
  {
   "cell_type": "code",
   "execution_count": 59,
   "id": "9698f46a",
   "metadata": {
    "ExecuteTime": {
     "end_time": "2024-01-19T16:40:40.576531Z",
     "start_time": "2024-01-19T16:40:40.505257Z"
    }
   },
   "outputs": [],
   "source": [
    "osc = OpenSetClassifier(\n",
    "    clf_model=SIMCA_Authenticator,\n",
    "    clf_kwargs={\n",
    "        'n_components':3,\n",
    "        'alpha':0.05,\n",
    "        'target_class':target,\n",
    "        'style':'dd-simca',\n",
    "        'use':'compliant', # Allows the model to use all classes that make it through the outlier detector\n",
    "        'scale_x':True,\n",
    "        'robust':'semi',\n",
    "        'sft':False,\n",
    "    },\n",
    "    outlier_model=IsolationForest, \n",
    "    outlier_kwargs={\n",
    "        'n_estimators':100, \n",
    "        'max_samples':1.0, \n",
    "        'contamination':0.15, # In practice, this is very important to tune correctly\n",
    "        'max_features':1.0,\n",
    "        'bootstrap':True, \n",
    "        'random_state':42, \n",
    "    },\n",
    "    inlier_value=1,\n",
    "    unknown_class=\"UNKNOWN\",\n",
    "    score_metric='TEFF',\n",
    "    clf_style='hard', # SIMCA returns Y/N membership which is hard\n",
    "    score_using=target # Now score the model using only the target class as the positive class, others are all negative\n",
    ")"
   ]
  },
  {
   "cell_type": "code",
   "execution_count": 60,
   "id": "d2a1fde8",
   "metadata": {
    "ExecuteTime": {
     "end_time": "2024-01-19T16:40:40.912530Z",
     "start_time": "2024-01-19T16:40:40.579572Z"
    }
   },
   "outputs": [
    {
     "data": {
      "text/html": [
       "<style>#sk-container-id-6 {color: black;}#sk-container-id-6 pre{padding: 0;}#sk-container-id-6 div.sk-toggleable {background-color: white;}#sk-container-id-6 label.sk-toggleable__label {cursor: pointer;display: block;width: 100%;margin-bottom: 0;padding: 0.3em;box-sizing: border-box;text-align: center;}#sk-container-id-6 label.sk-toggleable__label-arrow:before {content: \"▸\";float: left;margin-right: 0.25em;color: #696969;}#sk-container-id-6 label.sk-toggleable__label-arrow:hover:before {color: black;}#sk-container-id-6 div.sk-estimator:hover label.sk-toggleable__label-arrow:before {color: black;}#sk-container-id-6 div.sk-toggleable__content {max-height: 0;max-width: 0;overflow: hidden;text-align: left;background-color: #f0f8ff;}#sk-container-id-6 div.sk-toggleable__content pre {margin: 0.2em;color: black;border-radius: 0.25em;background-color: #f0f8ff;}#sk-container-id-6 input.sk-toggleable__control:checked~div.sk-toggleable__content {max-height: 200px;max-width: 100%;overflow: auto;}#sk-container-id-6 input.sk-toggleable__control:checked~label.sk-toggleable__label-arrow:before {content: \"▾\";}#sk-container-id-6 div.sk-estimator input.sk-toggleable__control:checked~label.sk-toggleable__label {background-color: #d4ebff;}#sk-container-id-6 div.sk-label input.sk-toggleable__control:checked~label.sk-toggleable__label {background-color: #d4ebff;}#sk-container-id-6 input.sk-hidden--visually {border: 0;clip: rect(1px 1px 1px 1px);clip: rect(1px, 1px, 1px, 1px);height: 1px;margin: -1px;overflow: hidden;padding: 0;position: absolute;width: 1px;}#sk-container-id-6 div.sk-estimator {font-family: monospace;background-color: #f0f8ff;border: 1px dotted black;border-radius: 0.25em;box-sizing: border-box;margin-bottom: 0.5em;}#sk-container-id-6 div.sk-estimator:hover {background-color: #d4ebff;}#sk-container-id-6 div.sk-parallel-item::after {content: \"\";width: 100%;border-bottom: 1px solid gray;flex-grow: 1;}#sk-container-id-6 div.sk-label:hover label.sk-toggleable__label {background-color: #d4ebff;}#sk-container-id-6 div.sk-serial::before {content: \"\";position: absolute;border-left: 1px solid gray;box-sizing: border-box;top: 0;bottom: 0;left: 50%;z-index: 0;}#sk-container-id-6 div.sk-serial {display: flex;flex-direction: column;align-items: center;background-color: white;padding-right: 0.2em;padding-left: 0.2em;position: relative;}#sk-container-id-6 div.sk-item {position: relative;z-index: 1;}#sk-container-id-6 div.sk-parallel {display: flex;align-items: stretch;justify-content: center;background-color: white;position: relative;}#sk-container-id-6 div.sk-item::before, #sk-container-id-6 div.sk-parallel-item::before {content: \"\";position: absolute;border-left: 1px solid gray;box-sizing: border-box;top: 0;bottom: 0;left: 50%;z-index: -1;}#sk-container-id-6 div.sk-parallel-item {display: flex;flex-direction: column;z-index: 1;position: relative;background-color: white;}#sk-container-id-6 div.sk-parallel-item:first-child::after {align-self: flex-end;width: 50%;}#sk-container-id-6 div.sk-parallel-item:last-child::after {align-self: flex-start;width: 50%;}#sk-container-id-6 div.sk-parallel-item:only-child::after {width: 0;}#sk-container-id-6 div.sk-dashed-wrapped {border: 1px dashed gray;margin: 0 0.4em 0.5em 0.4em;box-sizing: border-box;padding-bottom: 0.4em;background-color: white;}#sk-container-id-6 div.sk-label label {font-family: monospace;font-weight: bold;display: inline-block;line-height: 1.2em;}#sk-container-id-6 div.sk-label-container {text-align: center;}#sk-container-id-6 div.sk-container {/* jupyter's `normalize.less` sets `[hidden] { display: none; }` but bootstrap.min.css set `[hidden] { display: none !important; }` so we also need the `!important` here to be able to override the default hidden behavior on the sphinx rendered scikit-learn.org. See: https://github.com/scikit-learn/scikit-learn/issues/21755 */display: inline-block !important;position: relative;}#sk-container-id-6 div.sk-text-repr-fallback {display: none;}</style><div id=\"sk-container-id-6\" class=\"sk-top-container\"><div class=\"sk-text-repr-fallback\"><pre>OpenSetClassifier(clf_kwargs={&#x27;alpha&#x27;: 0.05, &#x27;n_components&#x27;: 3,\n",
       "                              &#x27;robust&#x27;: &#x27;semi&#x27;, &#x27;scale_x&#x27;: True, &#x27;sft&#x27;: False,\n",
       "                              &#x27;style&#x27;: &#x27;dd-simca&#x27;, &#x27;target_class&#x27;: &#x27;setosa&#x27;,\n",
       "                              &#x27;use&#x27;: &#x27;compliant&#x27;},\n",
       "                  clf_model=&lt;class &#x27;pychemauth.classifier.simca.SIMCA_Authenticator&#x27;&gt;,\n",
       "                  outlier_kwargs={&#x27;bootstrap&#x27;: True, &#x27;contamination&#x27;: 0.15,\n",
       "                                  &#x27;max_features&#x27;: 1.0, &#x27;max_samples&#x27;: 1.0,\n",
       "                                  &#x27;n_estimators&#x27;: 100, &#x27;random_state&#x27;: 42},\n",
       "                  outlier_model=&lt;class &#x27;sklearn.ensemble._iforest.IsolationForest&#x27;&gt;,\n",
       "                  score_using=&#x27;setosa&#x27;, unknown_class=&#x27;UNKNOWN&#x27;)</pre><b>In a Jupyter environment, please rerun this cell to show the HTML representation or trust the notebook. <br />On GitHub, the HTML representation is unable to render, please try loading this page with nbviewer.org.</b></div><div class=\"sk-container\" hidden><div class=\"sk-item\"><div class=\"sk-estimator sk-toggleable\"><input class=\"sk-toggleable__control sk-hidden--visually\" id=\"sk-estimator-id-6\" type=\"checkbox\" checked><label for=\"sk-estimator-id-6\" class=\"sk-toggleable__label sk-toggleable__label-arrow\">OpenSetClassifier</label><div class=\"sk-toggleable__content\"><pre>OpenSetClassifier(clf_kwargs={&#x27;alpha&#x27;: 0.05, &#x27;n_components&#x27;: 3,\n",
       "                              &#x27;robust&#x27;: &#x27;semi&#x27;, &#x27;scale_x&#x27;: True, &#x27;sft&#x27;: False,\n",
       "                              &#x27;style&#x27;: &#x27;dd-simca&#x27;, &#x27;target_class&#x27;: &#x27;setosa&#x27;,\n",
       "                              &#x27;use&#x27;: &#x27;compliant&#x27;},\n",
       "                  clf_model=&lt;class &#x27;pychemauth.classifier.simca.SIMCA_Authenticator&#x27;&gt;,\n",
       "                  outlier_kwargs={&#x27;bootstrap&#x27;: True, &#x27;contamination&#x27;: 0.15,\n",
       "                                  &#x27;max_features&#x27;: 1.0, &#x27;max_samples&#x27;: 1.0,\n",
       "                                  &#x27;n_estimators&#x27;: 100, &#x27;random_state&#x27;: 42},\n",
       "                  outlier_model=&lt;class &#x27;sklearn.ensemble._iforest.IsolationForest&#x27;&gt;,\n",
       "                  score_using=&#x27;setosa&#x27;, unknown_class=&#x27;UNKNOWN&#x27;)</pre></div></div></div></div></div>"
      ],
      "text/plain": [
       "OpenSetClassifier(clf_kwargs={'alpha': 0.05, 'n_components': 3,\n",
       "                              'robust': 'semi', 'scale_x': True, 'sft': False,\n",
       "                              'style': 'dd-simca', 'target_class': 'setosa',\n",
       "                              'use': 'compliant'},\n",
       "                  clf_model=<class 'pychemauth.classifier.simca.SIMCA_Authenticator'>,\n",
       "                  outlier_kwargs={'bootstrap': True, 'contamination': 0.15,\n",
       "                                  'max_features': 1.0, 'max_samples': 1.0,\n",
       "                                  'n_estimators': 100, 'random_state': 42},\n",
       "                  outlier_model=<class 'sklearn.ensemble._iforest.IsolationForest'>,\n",
       "                  score_using='setosa', unknown_class='UNKNOWN')"
      ]
     },
     "execution_count": 60,
     "metadata": {},
     "output_type": "execute_result"
    }
   ],
   "source": [
    "osc.fit(X_train_binary, y_train_binary)"
   ]
  },
  {
   "cell_type": "code",
   "execution_count": 61,
   "id": "2fce23f6",
   "metadata": {
    "ExecuteTime": {
     "end_time": "2024-01-19T16:40:40.937589Z",
     "start_time": "2024-01-19T16:40:40.914425Z"
    }
   },
   "outputs": [],
   "source": [
    "# OCC predict T/F while OD returns \"UNKNOWN\" string, so let's convert this to the same format.\n",
    "\n",
    "def convert_predictions_to_occ(X, target, alternative_class='KNOWN ALTERNATIVE'):\n",
    "    pred_ = osc.predict(X)\n",
    "    preds = []\n",
    "    for i in range(len(pred_)):\n",
    "        if pred_[i] == True:\n",
    "            preds.append(target)\n",
    "        elif pred_[i] == False:\n",
    "            preds.append(alternative_class)\n",
    "        else:\n",
    "            preds.append(pred_[i])\n",
    "            \n",
    "    return preds"
   ]
  },
  {
   "cell_type": "code",
   "execution_count": 62,
   "id": "2a7f4c96",
   "metadata": {
    "ExecuteTime": {
     "end_time": "2024-01-19T16:40:40.987694Z",
     "start_time": "2024-01-19T16:40:40.939897Z"
    }
   },
   "outputs": [
    {
     "data": {
      "text/html": [
       "<div>\n",
       "<style scoped>\n",
       "    .dataframe tbody tr th:only-of-type {\n",
       "        vertical-align: middle;\n",
       "    }\n",
       "\n",
       "    .dataframe tbody tr th {\n",
       "        vertical-align: top;\n",
       "    }\n",
       "\n",
       "    .dataframe thead th {\n",
       "        text-align: right;\n",
       "    }\n",
       "</style>\n",
       "<table border=\"1\" class=\"dataframe\">\n",
       "  <thead>\n",
       "    <tr style=\"text-align: right;\">\n",
       "      <th></th>\n",
       "      <th>KNOWN ALTERNATIVE</th>\n",
       "      <th>setosa</th>\n",
       "      <th>UNKNOWN</th>\n",
       "    </tr>\n",
       "  </thead>\n",
       "  <tbody>\n",
       "    <tr>\n",
       "      <th>setosa</th>\n",
       "      <td>6</td>\n",
       "      <td>29</td>\n",
       "      <td>5</td>\n",
       "    </tr>\n",
       "    <tr>\n",
       "      <th>versicolor</th>\n",
       "      <td>3</td>\n",
       "      <td>0</td>\n",
       "      <td>37</td>\n",
       "    </tr>\n",
       "    <tr>\n",
       "      <th>virginica</th>\n",
       "      <td>33</td>\n",
       "      <td>0</td>\n",
       "      <td>7</td>\n",
       "    </tr>\n",
       "  </tbody>\n",
       "</table>\n",
       "</div>"
      ],
      "text/plain": [
       "            KNOWN ALTERNATIVE  setosa  UNKNOWN\n",
       "setosa                      6      29        5\n",
       "versicolor                  3       0       37\n",
       "virginica                  33       0        7"
      ]
     },
     "execution_count": 62,
     "metadata": {},
     "output_type": "execute_result"
    }
   ],
   "source": [
    "# 3 versicolor were (incorrectly) considered to belong to a known alternative (virginica), but most were classified as\n",
    "# entirely novel (UNKNOWN) by the outlier detector!  The virginica were mostly recognized correctly as a known alternative.\n",
    "\n",
    "res = osc.figures_of_merit(convert_predictions_to_occ(X_train, target), y_train)\n",
    "res['CM']"
   ]
  },
  {
   "cell_type": "code",
   "execution_count": 63,
   "id": "497c0e88",
   "metadata": {
    "ExecuteTime": {
     "end_time": "2024-01-19T16:40:41.018515Z",
     "start_time": "2024-01-19T16:40:40.989300Z"
    }
   },
   "outputs": [
    {
     "data": {
      "text/plain": [
       "(0.725, 1.0, 0.9083333333333333)"
      ]
     },
     "execution_count": 63,
     "metadata": {},
     "output_type": "execute_result"
    }
   ],
   "source": [
    "tsns = 29 / 40.\n",
    "tsps = (40 + 40) / 80. \n",
    "acc = (29 + (3+37) + (33+7)) / (40 + 40 + 40.)\n",
    "tsns, tsps, acc"
   ]
  },
  {
   "cell_type": "code",
   "execution_count": 64,
   "id": "f84c8db0",
   "metadata": {
    "ExecuteTime": {
     "end_time": "2024-01-19T16:40:41.103802Z",
     "start_time": "2024-01-19T16:40:41.020160Z"
    }
   },
   "outputs": [
    {
     "data": {
      "text/plain": [
       "{'CM':             KNOWN ALTERNATIVE  setosa  UNKNOWN\n",
       " setosa                      6      29        5\n",
       " versicolor                  3       0       37\n",
       " virginica                  33       0        7,\n",
       " 'I': KNOWN ALTERNATIVE     0\n",
       " setosa               40\n",
       " versicolor           40\n",
       " virginica            40\n",
       " dtype: int64,\n",
       " 'CSPS': {'KNOWN ALTERNATIVE': nan, 'versicolor': 1.0, 'virginica': 1.0},\n",
       " 'TSNS': 0.725,\n",
       " 'TSPS': 1.0,\n",
       " 'TEFF': 0.85146931829632,\n",
       " 'ACC': 0.9083333333333333}"
      ]
     },
     "execution_count": 64,
     "metadata": {},
     "output_type": "execute_result"
    }
   ],
   "source": [
    "res"
   ]
  },
  {
   "cell_type": "markdown",
   "id": "288d9e16",
   "metadata": {},
   "source": [
    "# Common pitfalls"
   ]
  },
  {
   "cell_type": "markdown",
   "id": "f2a7bae4",
   "metadata": {},
   "source": [
    "Some things to keep in mind:\n",
    "\n",
    "1. It is typically best to allow the OpenSetClassifier to infer the known classes from the training data.  If you manually specify this and forget some classes, those points which belong to those left out will be ignored during training.  This also affects the way the model is scored.\n"
   ]
  }
 ],
 "metadata": {
  "kernelspec": {
   "display_name": "oyster-provenance",
   "language": "python",
   "name": "oyster-provenance"
  },
  "language_info": {
   "codemirror_mode": {
    "name": "ipython",
    "version": 3
   },
   "file_extension": ".py",
   "mimetype": "text/x-python",
   "name": "python",
   "nbconvert_exporter": "python",
   "pygments_lexer": "ipython3",
   "version": "3.11.4"
  }
 },
 "nbformat": 4,
 "nbformat_minor": 5
}
