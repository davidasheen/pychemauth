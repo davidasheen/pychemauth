{
 "cells": [
  {
   "cell_type": "markdown",
   "id": "2a37e4ac",
   "metadata": {},
   "source": [
    "Classification Under Open Set Conditions\n",
    "==="
   ]
  },
  {
   "cell_type": "markdown",
   "id": "08362bc8",
   "metadata": {},
   "source": [
    "Author: Nathan A. Mahynski\n",
    "\n",
    "Date: 2023/08/31\n",
    "\n",
    "Description: Building classifiers that work in the \"open world.\"\n",
    "\n",
    "[![Open In Colab](https://colab.research.google.com/assets/colab-badge.svg)](https://colab.research.google.com/github/mahynski/pychemauth/blob/main/docs/jupyter/api/opensetclassification.ipynb)"
   ]
  },
  {
   "cell_type": "markdown",
   "id": "1bdd7706",
   "metadata": {},
   "source": [
    "Conventional classifiers often assume there exist a finite set of known classes.\n",
    "\n",
    "$$C_{\\rm assumed} = [C_1, C_2, C_3]$$\n",
    "\n",
    "To train such a model, these classes should be sampled (often evenly) in such a way that during testing / deployment the new observations will come from the same distribution as the training samples (IID).  Class balancing and cross-validation are common tools used to handle uncertainty in the latter of these assumptions, however, in the real world there are often many other (possibly infinite number of) classes that are not available at training time which a classifier might encounter when deployed.  \n",
    "\n",
    "$$C_{\\rm reality} = [C_1, C_2, C_3, \\dots)$$\n",
    "\n",
    "This image is from [Scheirer et al., \"Toward Open Set Recognition\" (2012)](https://ieeexplore.ieee.org/abstract/document/6365193) which originally formalized the OSR problem:\n",
    "\n",
    "<img src=\"../../_static/osr_definition.png\" style=\"width:500px;\">\n",
    "\n",
    "Note that the \"face verification\" problem is essentially a one-class authentication problem. This \"open set\" of possibilities means that a classifier should be able to recognize the known classes seen during training, but also recognize when a test case is \"none of the above.\"  There are a variety of algorithms designed to do this and related tasks.  Here a few references that summarize some ontologies:\n",
    "\n",
    "1. [Yang et al., Generalized Out-of-Distribution Detection: A Survey](https://arxiv.org/abs/2110.11334)\n",
    "2. [Geng et al., Recent Advances in Open Set Recognition: A Survey](https://ieeexplore.ieee.org/abstract/document/9040673)\n",
    "\n",
    "The \"open set recognition\" (OSR) task refers to when the model should be able to identify known classes and reject unknown ones.  By some classification schemes, the process of simply rejecting an input as being from an unknown class is referred to as a \"reject\" option.  OSR tasks are closely related to one-class classifiers (OCC) used for authentication purposes.  An OSR-capable model can be constructed by chaining together multiple OCCs, each designed to recognize a single class.  [Soft PLS-DA](../learn/plsda.ipynb) is another example of model capable of handling open-set conditions. Another *ad hoc*, but general, way to handle an OSR task is to combine an outlier detector with a closed set classifier. Green and red pathways illustrate [\"compliant\" and \"rigorous\"](simca.ipynb#Building-an-Authenticator) OCC training schemes, respectively.\n",
    "\n",
    "<img src=\"../../_static/osr.png\" style=\"width:250px;\">\n",
    "\n",
    "The outlier detector illustrated here determines if a sample is out of distribution (OOD), and sends only those in distribution (ID) to the classifier.  In this way, the outlier detector determines if the input is coming from a \"known\" region of parameter space which the classifier should be responsible for.  If not, the input is simply assigned to an \"unknown\" class.  Otherwise, the closed-set classifier is assumed to be responsible for identifying the input as one of its known classes.  The outlier detector itself may use a variety of different assumptions depending on which detector is used, as may the classifier, but this combination method is very general and can be applied with different sorts of outlier detectors and classification models.\n",
    "\n",
    "We have implemented a basic OpenSetClassification model in PyChemAuth which we illustrate for a variety of different conditions below. Depending on the classification model being used the performance metric may vary.  Moreover, if the underlying model si capable of detecting outliers (or rejecting acceptance as in OCC) we should combine those (1) rejected because the test sample belongs to an known alternative (\"known unknown\") with those (2) rejected because they are from an unknown alternative class (\"unknown unknown\") to compute the correct performance metric."
   ]
  },
  {
   "cell_type": "code",
   "execution_count": 1,
   "id": "34be19e0",
   "metadata": {
    "ExecuteTime": {
     "end_time": "2023-10-24T13:16:09.309916Z",
     "start_time": "2023-10-24T13:16:09.303594Z"
    }
   },
   "outputs": [],
   "source": [
    "if 'google.colab' in str(get_ipython()):\n",
    "    !pip install git+https://github.com/mahynski/pychemauth@main\n",
    "    import os\n",
    "    os.kill(os.getpid(), 9) # Automatically restart the runtime to reload libraries"
   ]
  },
  {
   "cell_type": "code",
   "execution_count": 2,
   "id": "44b2b90c",
   "metadata": {
    "ExecuteTime": {
     "end_time": "2024-01-16T18:38:59.238815Z",
     "start_time": "2024-01-16T18:38:57.623479Z"
    }
   },
   "outputs": [],
   "source": [
    "try:\n",
    "    import pychemauth\n",
    "except:\n",
    "    raise ImportError(\"pychemauth not installed\")\n",
    "    \n",
    "import matplotlib.pyplot as plt\n",
    "%matplotlib inline\n",
    "\n",
    "import watermark\n",
    "%load_ext watermark\n",
    "\n",
    "%load_ext autoreload\n",
    "%autoreload 2"
   ]
  },
  {
   "cell_type": "code",
   "execution_count": 5,
   "id": "25386e38",
   "metadata": {
    "ExecuteTime": {
     "end_time": "2024-01-16T18:39:26.601322Z",
     "start_time": "2024-01-16T18:39:26.576693Z"
    }
   },
   "outputs": [],
   "source": [
    "import sklearn\n",
    "import imblearn\n",
    "import numpy as np\n",
    "from pychemauth.preprocessing.scaling import CorrectedScaler\n",
    "from pychemauth.preprocessing.imbalanced import ScaledSMOTEENN\n",
    "from pychemauth.preprocessing.missing import PCA_IA\n",
    "from pychemauth.classifier.osr import OpenSetClassifier\n",
    "from pychemauth.classifier.plsda import PLSDA"
   ]
  },
  {
   "cell_type": "code",
   "execution_count": 4,
   "id": "946ae9ec",
   "metadata": {
    "ExecuteTime": {
     "end_time": "2024-01-16T18:39:06.578070Z",
     "start_time": "2024-01-16T18:39:06.544756Z"
    }
   },
   "outputs": [
    {
     "name": "stdout",
     "output_type": "stream",
     "text": [
      "Python implementation: CPython\n",
      "Python version       : 3.11.4\n",
      "IPython version      : 8.14.0\n",
      "\n",
      "Compiler    : GCC 12.2.0\n",
      "OS          : Linux\n",
      "Release     : 6.2.0-39-generic\n",
      "Machine     : x86_64\n",
      "Processor   : x86_64\n",
      "CPU cores   : 40\n",
      "Architecture: 64bit\n",
      "\n",
      "sklearn   : 1.3.0\n",
      "matplotlib: 3.7.2\n",
      "watermark : 2.4.3\n",
      "pychemauth: 0.0.0b4\n",
      "imblearn  : 0.11.0\n",
      "json      : 2.0.9\n",
      "numpy     : 1.24.3\n",
      "\n"
     ]
    }
   ],
   "source": [
    "%watermark -t -m -v --iversions"
   ]
  },
  {
   "cell_type": "markdown",
   "id": "c166e7d8",
   "metadata": {},
   "source": [
    "Case 1: Ignore Outlier Detection\n",
    "---"
   ]
  },
  {
   "cell_type": "markdown",
   "id": "114cceea",
   "metadata": {},
   "source": [
    "## 1a: Muticlass, Hard Model"
   ]
  },
  {
   "cell_type": "markdown",
   "id": "04b0da0c",
   "metadata": {
    "ExecuteTime": {
     "end_time": "2023-08-31T17:43:39.873544Z",
     "start_time": "2023-08-31T17:43:39.744312Z"
    }
   },
   "source": [
    "This is just a baseline and is equivalent to just using the multiclass hard model.  Since this is using a hard model, this cannot detect novelties at test time."
   ]
  },
  {
   "cell_type": "code",
   "execution_count": null,
   "id": "370cd4b8",
   "metadata": {
    "ExecuteTime": {
     "end_time": "2023-10-24T13:16:12.875754Z",
     "start_time": "2023-10-24T13:16:12.824274Z"
    }
   },
   "outputs": [],
   "source": [
    "osc = OpenSetClassifier(\n",
    "    clf_model=HARD_PLSDA,\n",
    "    outlier_model=None, \n",
    "    clf_kwargs={...},\n",
    "    known_classes=['Class A', 'Class B', 'Class C'],\n",
    "    score_metric='TEFF',\n",
    "    clf_style='hard'\n",
    ")"
   ]
  },
  {
   "cell_type": "markdown",
   "id": "3b06fe7d",
   "metadata": {},
   "source": [
    "## 1b: Multiclass, Soft Model"
   ]
  },
  {
   "cell_type": "markdown",
   "id": "d3f8360c",
   "metadata": {},
   "source": [
    "Since this is using a soft model, the model can detect novelties at test time. However, this relies on the model which is biased based on its training to understand a closed set of knowns."
   ]
  },
  {
   "cell_type": "code",
   "execution_count": null,
   "id": "380147c5",
   "metadata": {},
   "outputs": [],
   "source": [
    "osc = OpenSetClassifier(\n",
    "    clf_model=SOFT_PLSDA,\n",
    "    outlier_model=None, \n",
    "    clf_kwargs={\"not_assigned\":\"???\", ...},\n",
    "    known_classes=['Class A', 'Class B', 'Class C'],\n",
    "    score_metric='TEFF',\n",
    "    clf_style='soft'\n",
    ")"
   ]
  },
  {
   "cell_type": "markdown",
   "id": "d42c8401",
   "metadata": {},
   "source": [
    "Case 2: Multiclass Hard Model with Outlier Detection\n",
    "---"
   ]
  },
  {
   "cell_type": "code",
   "execution_count": null,
   "id": "a743d1de",
   "metadata": {},
   "outputs": [],
   "source": []
  },
  {
   "cell_type": "code",
   "execution_count": null,
   "id": "9ef8a796",
   "metadata": {},
   "outputs": [],
   "source": []
  },
  {
   "cell_type": "markdown",
   "id": "63d3d7fb",
   "metadata": {
    "ExecuteTime": {
     "end_time": "2024-01-11T18:00:44.019757Z",
     "start_time": "2024-01-11T18:00:44.013131Z"
    }
   },
   "source": [
    "Case 3: Multiclass Soft Model with Outlier Detection\n",
    "---"
   ]
  },
  {
   "cell_type": "code",
   "execution_count": null,
   "id": "52e1c3ca",
   "metadata": {},
   "outputs": [],
   "source": []
  },
  {
   "cell_type": "code",
   "execution_count": null,
   "id": "8fbd1871",
   "metadata": {},
   "outputs": [],
   "source": []
  },
  {
   "cell_type": "markdown",
   "id": "6437eb6f",
   "metadata": {},
   "source": [
    "Case 4: Convert a Binary OvA Discriminator into Authenticator\n",
    "---"
   ]
  },
  {
   "cell_type": "code",
   "execution_count": null,
   "id": "29faaa34",
   "metadata": {},
   "outputs": [],
   "source": []
  }
 ],
 "metadata": {
  "kernelspec": {
   "display_name": "oyster-provenance",
   "language": "python",
   "name": "oyster-provenance"
  },
  "language_info": {
   "codemirror_mode": {
    "name": "ipython",
    "version": 3
   },
   "file_extension": ".py",
   "mimetype": "text/x-python",
   "name": "python",
   "nbconvert_exporter": "python",
   "pygments_lexer": "ipython3",
   "version": "3.11.4"
  }
 },
 "nbformat": 4,
 "nbformat_minor": 5
}
