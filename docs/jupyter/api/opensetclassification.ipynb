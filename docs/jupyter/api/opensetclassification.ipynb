{
 "cells": [
  {
   "cell_type": "markdown",
   "id": "2a37e4ac",
   "metadata": {},
   "source": [
    "Classification in the Open World\n",
    "==="
   ]
  },
  {
   "cell_type": "markdown",
   "id": "08362bc8",
   "metadata": {},
   "source": [
    "Author: Nathan A. Mahynski\n",
    "\n",
    "Date: 2023/08/31\n",
    "\n",
    "Description: Building classifiers that work in the \"open world.\"\n",
    "\n",
    "[![Open In Colab](https://colab.research.google.com/assets/colab-badge.svg)](https://colab.research.google.com/github/mahynski/pychemauth/blob/main/docs/jupyter/api/opensetclassification.ipynb)"
   ]
  },
  {
   "cell_type": "markdown",
   "id": "1bdd7706",
   "metadata": {},
   "source": [
    "**Describe OSR vs. OWR**"
   ]
  },
  {
   "cell_type": "code",
   "execution_count": 1,
   "id": "34be19e0",
   "metadata": {
    "ExecuteTime": {
     "end_time": "2023-10-24T13:16:09.309916Z",
     "start_time": "2023-10-24T13:16:09.303594Z"
    }
   },
   "outputs": [],
   "source": [
    "if 'google.colab' in str(get_ipython()):\n",
    "    !pip install git+https://github.com/mahynski/pychemauth@main\n",
    "    import os\n",
    "    os.kill(os.getpid(), 9) # Automatically restart the runtime to reload libraries"
   ]
  },
  {
   "cell_type": "code",
   "execution_count": 2,
   "id": "44b2b90c",
   "metadata": {
    "ExecuteTime": {
     "end_time": "2023-10-24T13:16:10.496704Z",
     "start_time": "2023-10-24T13:16:09.909622Z"
    }
   },
   "outputs": [],
   "source": [
    "try:\n",
    "    import pychemauth\n",
    "except:\n",
    "    raise ImportError(\"pychemauth not installed\")\n",
    "    \n",
    "import matplotlib.pyplot as plt\n",
    "%matplotlib inline\n",
    "\n",
    "import watermark\n",
    "%load_ext watermark\n",
    "\n",
    "%load_ext autoreload\n",
    "%autoreload 2"
   ]
  },
  {
   "cell_type": "code",
   "execution_count": 3,
   "id": "25386e38",
   "metadata": {
    "ExecuteTime": {
     "end_time": "2023-10-24T13:16:11.684086Z",
     "start_time": "2023-10-24T13:16:10.499225Z"
    }
   },
   "outputs": [],
   "source": [
    "import sklearn\n",
    "import imblearn\n",
    "import numpy as np\n",
    "from pychemauth.preprocessing.scaling import CorrectedScaler\n",
    "from pychemauth.preprocessing.imbalanced import ScaledSMOTEENN\n",
    "from pychemauth.preprocessing.missing import PCA_IA\n",
    "from pychemauth.classifier.plsda import PLSDA"
   ]
  },
  {
   "cell_type": "code",
   "execution_count": 4,
   "id": "946ae9ec",
   "metadata": {
    "ExecuteTime": {
     "end_time": "2023-10-24T13:16:11.718912Z",
     "start_time": "2023-10-24T13:16:11.686743Z"
    }
   },
   "outputs": [
    {
     "name": "stdout",
     "output_type": "stream",
     "text": [
      "Python implementation: CPython\n",
      "Python version       : 3.11.4\n",
      "IPython version      : 8.14.0\n",
      "\n",
      "Compiler    : GCC 12.2.0\n",
      "OS          : Linux\n",
      "Release     : 6.2.0-34-generic\n",
      "Machine     : x86_64\n",
      "Processor   : x86_64\n",
      "CPU cores   : 40\n",
      "Architecture: 64bit\n",
      "\n",
      "json      : 2.0.9\n",
      "watermark : 2.4.3\n",
      "sklearn   : 1.3.0\n",
      "imblearn  : 0.11.0\n",
      "numpy     : 1.24.3\n",
      "pychemauth: 0.0.0b3\n",
      "matplotlib: 3.7.2\n",
      "\n"
     ]
    }
   ],
   "source": [
    "%watermark -t -m -v --iversions"
   ]
  },
  {
   "cell_type": "markdown",
   "id": "c166e7d8",
   "metadata": {},
   "source": [
    "Case 1\n",
    "---"
   ]
  },
  {
   "cell_type": "markdown",
   "id": "04b0da0c",
   "metadata": {
    "ExecuteTime": {
     "end_time": "2023-08-31T17:43:39.873544Z",
     "start_time": "2023-08-31T17:43:39.744312Z"
    }
   },
   "source": [
    "When to use"
   ]
  },
  {
   "cell_type": "code",
   "execution_count": null,
   "id": "370cd4b8",
   "metadata": {
    "ExecuteTime": {
     "end_time": "2023-10-24T13:16:12.875754Z",
     "start_time": "2023-10-24T13:16:12.824274Z"
    }
   },
   "outputs": [],
   "source": []
  },
  {
   "cell_type": "markdown",
   "id": "106fc8a9",
   "metadata": {},
   "source": [
    "Case 2\n",
    "---"
   ]
  },
  {
   "cell_type": "markdown",
   "id": "f059864f",
   "metadata": {},
   "source": [
    "When to use"
   ]
  },
  {
   "cell_type": "code",
   "execution_count": null,
   "id": "ebc52211",
   "metadata": {},
   "outputs": [],
   "source": []
  }
 ],
 "metadata": {
  "kernelspec": {
   "display_name": "oyster-provenance",
   "language": "python",
   "name": "oyster-provenance"
  },
  "language_info": {
   "codemirror_mode": {
    "name": "ipython",
    "version": 3
   },
   "file_extension": ".py",
   "mimetype": "text/x-python",
   "name": "python",
   "nbconvert_exporter": "python",
   "pygments_lexer": "ipython3",
   "version": "3.11.4"
  }
 },
 "nbformat": 4,
 "nbformat_minor": 5
}
