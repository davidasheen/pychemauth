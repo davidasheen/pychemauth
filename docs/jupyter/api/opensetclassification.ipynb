{
 "cells": [
  {
   "cell_type": "markdown",
   "id": "2a37e4ac",
   "metadata": {
    "id": "2a37e4ac"
   },
   "source": [
    "Classification Under Open Set Conditions\n",
    "==="
   ]
  },
  {
   "cell_type": "markdown",
   "id": "08362bc8",
   "metadata": {
    "id": "08362bc8"
   },
   "source": [
    "Author: Nathan A. Mahynski\n",
    "\n",
    "Date: 2023/08/31\n",
    "\n",
    "Description: Building classifiers that work in the \"open world.\"\n",
    "\n",
    "[![Open In Colab](https://colab.research.google.com/assets/colab-badge.svg)](https://colab.research.google.com/github/mahynski/pychemauth/blob/main/docs/jupyter/api/opensetclassification.ipynb)"
   ]
  },
  {
   "cell_type": "markdown",
   "id": "1bdd7706",
   "metadata": {
    "id": "1bdd7706"
   },
   "source": [
    "Conventional classifiers often assume there exist a finite set of known classes.\n",
    "\n",
    "$$C_{\\rm assumed} = [C_1, C_2, C_3]$$\n",
    "\n",
    "To train such a model, these classes should be sampled (often evenly) in such a way that during testing / deployment the new observations will come from the same distribution as the training samples (IID).  Class balancing and cross-validation are common tools used to handle uncertainty in the latter of these assumptions, however, in the real world there are often many other (possibly infinite number of) classes that are not available at training time which a classifier might encounter when deployed.  \n",
    "\n",
    "$$C_{\\rm reality} = [C_1, C_2, C_3, \\dots)$$\n",
    "\n",
    "This image is from [Scheirer et al., \"Toward Open Set Recognition\" (2012)](https://ieeexplore.ieee.org/abstract/document/6365193) which originally formalized the open set recognition (OSR) problem:\n",
    "\n",
    "<img src=\"https://github.com/mahynski/pychemauth/blob/main/docs/_static/osr_definition.png?raw=1\" style=\"width:500px;\">\n",
    "\n",
    "Note that the \"face verification\" problem is essentially a one-class authentication problem. This \"open set\" of possibilities means that a classifier should be able to recognize the known classes seen during training, but also recognize when a test case is \"none of the above.\"  There are a variety of algorithms designed to do this and related tasks.  Here a few references that summarize some ontologies:\n",
    "\n",
    "1. [Yang et al., Generalized Out-of-Distribution Detection: A Survey](https://arxiv.org/abs/2110.11334)\n",
    "2. [Geng et al., Recent Advances in Open Set Recognition: A Survey](https://ieeexplore.ieee.org/abstract/document/9040673)\n",
    "\n",
    "The OSR task refers to when the model should be able to identify known classes and reject unknown ones.  By some classification schemes, the process of simply rejecting an input as being from an unknown class is referred to as a \"reject\" option.  OSR tasks are closely related to one-class classifiers (OCC) used for authentication purposes.  An OSR-capable model can be constructed by chaining together multiple OCCs, each designed to recognize a single class.  [Soft PLS-DA](../learn/plsda.ipynb) is another example of model capable of handling open-set conditions. Another *ad hoc*, but general, way to handle an OSR task is to combine an outlier detector with a closed set classifier (blue pathway below). Green and red pathways illustrate [\"compliant\" and \"rigorous\"](simca.ipynb#Building-an-Authenticator) OCC training schemes, respectively.  The \"pipeline\" is any composite model, possibly including other preprocessing steps.\n",
    "\n",
    "<img src=\"https://github.com/mahynski/pychemauth/blob/main/docs/_static/osr.png?raw=1\" style=\"width:250px;\">\n",
    "\n",
    "The outlier detector illustrated here determines if a sample is out of distribution (OOD), and sends only those in distribution (ID) to the classifier.  In this way, the outlier detector determines if the input is coming from a \"known\" region of parameter space which the classifier should be responsible for.  If not, the input is simply assigned to an \"unknown\" class.  Otherwise, the closed-set classifier is assumed to be responsible for identifying the input as one of its known classes.  The outlier detector itself may use a variety of different assumptions depending on which detector is used, as may the classifier, but this combination method is very general and can be applied with different sorts of outlier detectors and classification models.\n",
    "\n",
    "An input point can shift from ID to OOD in two ways:\n",
    "\n",
    "1. The first is by [semantic shift](https://openreview.net/pdf?id=3AWGg4CySNh#:~:text=Intuitively%2C%20covariate%20shift%20represents%20non,i.e%2C%20inter%2Dclass%20variation.); this occurs when a new, previously unknown, class appears.  For example, an new animal the model did not see during training.  \n",
    "\n",
    "2. The other is by [covariate shift](https://openreview.net/pdf?id=3AWGg4CySNh#:~:text=Intuitively%2C%20covariate%20shift%20represents%20non,i.e%2C%20inter%2Dclass%20variation.); this occurs when variance in a known class increases, usually due to a new \"type\" of that class.  For example, if we trained a model to recognize cats vs. dogs using high resolution images, but at test time a hand-drawn image of a dog is submitted.\n",
    "\n",
    "The above workflow will (try) to catch both, though the main application lies in detecting semantic shifts since we typically attempt to build datasets that have representative examples of all sorts of the known classes.  Thus, we try to control covariate shift by carefully preparing the training data; this is, of course, imperfect and not always possible.\n",
    "\n",
    "We have implemented a basic `OpenSetClassifier` model in PyChemAuth which we illustrate for a variety of different conditions below. Depending on the classification model being used the performance metric may vary.  \n",
    "\n",
    "The `OpenSetClassifier` works as follows:\n",
    "1. Select known classes to use from training data (typically all that are available).\n",
    "2. Send knowns to outlier detector (OD) to train it.\n",
    "3. Use fitted OD to predict inliers on training data.\n",
    "4. Send inlying, known class examples to classifier to train on.\n",
    "\n",
    "During test time, new samples are first given to the OD; if considered an inlier, then the classifier is called to identify the sample, otherwise it is labeled as \"unknown\".\n",
    "\n",
    "Note that if the underlying classification model is capable of detecting outliers (or rejecting acceptance, as in OCC) we should be able to combine those (1) rejected because the test sample belongs to an known alternative (\"known unknown\") with those (2) rejected because they are from an unknown alternative class (\"unknown unknown\") to compute performance metrics.  Sometimes it is useful to avoid this to identify why a sample was rejected (by the model or the outlier detector?).  Examples of this are illustrated below.\n",
    "\n",
    "There are many classification models available in both PyChemAuth and [scikit-learn](https://scikit-learn.org/stable/index.html); the latter also offers various [outlier detection routines](https://scikit-learn.org/stable/modules/outlier_detection.html), but there are many more available in compatbile libraries such as [pyOD](https://pyod.readthedocs.io/en/latest/)."
   ]
  },
  {
   "cell_type": "code",
   "execution_count": 1,
   "id": "34be19e0",
   "metadata": {
    "ExecuteTime": {
     "end_time": "2024-09-18T16:24:26.213280Z",
     "start_time": "2024-09-18T16:24:26.206965Z"
    },
    "id": "34be19e0"
   },
   "outputs": [],
   "source": [
    "if 'google.colab' in str(get_ipython()):\n",
    "    !pip install git+https://github.com/mahynski/pychemauth@main\n",
    "    import os\n",
    "    os.kill(os.getpid(), 9) # Automatically restart the runtime to reload libraries"
   ]
  },
  {
   "cell_type": "code",
   "execution_count": 2,
   "id": "44b2b90c",
   "metadata": {
    "ExecuteTime": {
     "end_time": "2024-09-18T16:24:29.714396Z",
     "start_time": "2024-09-18T16:24:27.982154Z"
    },
    "id": "44b2b90c"
   },
   "outputs": [],
   "source": [
    "try:\n",
    "    import pychemauth\n",
    "except:\n",
    "    raise ImportError(\"pychemauth not installed\")\n",
    "\n",
    "import matplotlib.pyplot as plt\n",
    "%matplotlib inline\n",
    "\n",
    "import watermark\n",
    "%load_ext watermark\n",
    "\n",
    "%load_ext autoreload\n",
    "%autoreload 2"
   ]
  },
  {
   "cell_type": "code",
   "execution_count": 11,
   "id": "25386e38",
   "metadata": {
    "ExecuteTime": {
     "end_time": "2024-09-18T16:27:39.767514Z",
     "start_time": "2024-09-18T16:27:37.574990Z"
    },
    "id": "25386e38"
   },
   "outputs": [],
   "source": [
    "import sklearn\n",
    "\n",
    "import numpy as np\n",
    "\n",
    "from pychemauth.classifier.osr import OpenSetClassifier\n",
    "from pychemauth.classifier.plsda import PLSDA\n",
    "from pychemauth.manifold.elliptic import EllipticManifold_Model\n",
    "from pychemauth.classifier.simca import SIMCA_Authenticator\n",
    "from pychemauth.datasets import make_pgaa_images\n",
    "from pychemauth import utils\n",
    "\n",
    "from pyts.image import GramianAngularField\n",
    "\n",
    "from sklearn.ensemble import IsolationForest, RandomForestClassifier"
   ]
  },
  {
   "cell_type": "code",
   "execution_count": 5,
   "id": "946ae9ec",
   "metadata": {
    "ExecuteTime": {
     "end_time": "2024-09-18T16:25:18.610183Z",
     "start_time": "2024-09-18T16:25:18.476844Z"
    },
    "colab": {
     "base_uri": "https://localhost:8080/"
    },
    "id": "946ae9ec",
    "outputId": "095dd3a1-8721-4296-c358-544571909284"
   },
   "outputs": [
    {
     "name": "stdout",
     "output_type": "stream",
     "text": [
      "Python implementation: CPython\n",
      "Python version       : 3.11.4\n",
      "IPython version      : 8.14.0\n",
      "\n",
      "Compiler    : GCC 12.2.0\n",
      "OS          : Linux\n",
      "Release     : 6.5.0-45-generic\n",
      "Machine     : x86_64\n",
      "Processor   : x86_64\n",
      "CPU cores   : 40\n",
      "Architecture: 64bit\n",
      "\n",
      "pychemauth: 0.0.0b4\n",
      "watermark : 2.4.3\n",
      "sklearn   : 1.3.0\n",
      "json      : 2.0.9\n",
      "numpy     : 1.26.4\n",
      "matplotlib: 3.7.2\n",
      "\n"
     ]
    }
   ],
   "source": [
    "%watermark -t -m -v --iversions"
   ]
  },
  {
   "cell_type": "markdown",
   "id": "d284e1cb",
   "metadata": {
    "id": "d284e1cb"
   },
   "source": [
    "Load Example Data\n",
    "---"
   ]
  },
  {
   "cell_type": "code",
   "execution_count": null,
   "id": "2a944dd9",
   "metadata": {
    "ExecuteTime": {
     "end_time": "2024-09-18T16:13:50.501347Z",
     "start_time": "2024-09-18T16:13:50.501333Z"
    },
    "colab": {
     "base_uri": "https://localhost:8080/",
     "height": 206
    },
    "id": "2a944dd9",
    "outputId": "511145eb-f4df-423d-a457-1ddd68a85803"
   },
   "outputs": [],
   "source": [
    "from sklearn.datasets import load_iris as load_data\n",
    "X, y = load_data(return_X_y=True, as_frame=True)\n",
    "\n",
    "# Let's turn the indices into names\n",
    "names = dict(zip(np.arange(3), ['setosa', 'versicolor', 'virginica']))\n",
    "y = y.apply(lambda x: names[x])\n",
    "\n",
    "X.head()"
   ]
  },
  {
   "cell_type": "code",
   "execution_count": null,
   "id": "8c4428ca",
   "metadata": {
    "ExecuteTime": {
     "end_time": "2024-09-18T16:13:50.502293Z",
     "start_time": "2024-09-18T16:13:50.502279Z"
    },
    "id": "8c4428ca"
   },
   "outputs": [],
   "source": [
    "from sklearn.model_selection import train_test_split\n",
    "\n",
    "X_train, X_test, y_train, y_test = train_test_split(\n",
    "    X.values,\n",
    "    y.values,\n",
    "    shuffle=True,\n",
    "    random_state=42,\n",
    "    test_size=0.2,\n",
    "    stratify=y # It is usually important to balance the test and train set so they have the same fraction of classes\n",
    ")"
   ]
  },
  {
   "cell_type": "code",
   "execution_count": null,
   "id": "4b908786",
   "metadata": {
    "ExecuteTime": {
     "end_time": "2024-09-18T16:13:50.503233Z",
     "start_time": "2024-09-18T16:13:50.503218Z"
    },
    "colab": {
     "base_uri": "https://localhost:8080/",
     "height": 449
    },
    "id": "4b908786",
    "outputId": "9f946a02-cf33-4297-df9d-3c57d01f40bb"
   },
   "outputs": [],
   "source": [
    "for class_ in ['setosa', 'versicolor', 'virginica']:\n",
    "    mask = y_train == class_\n",
    "    plt.plot(X_train[mask][:,2], X_train[mask][:,3], 'o', label=class_)\n",
    "plt.xlabel('Column 3 (petal length)')\n",
    "plt.ylabel('Column 4 (petal width)')\n",
    "_ = plt.legend(loc='best')"
   ]
  },
  {
   "cell_type": "markdown",
   "id": "d42c8401",
   "metadata": {
    "id": "d42c8401"
   },
   "source": [
    "# Case 1: Multiclass Hard Model\n",
    "\n",
    "Hard models divide the input / latent space into disjoint regions for each known class.  By adding an outlier detector (OD), we can effectively turn this discriminator into a class model that uses OD to create finite regions of space in which we should expect the hard model to work correctly."
   ]
  },
  {
   "cell_type": "markdown",
   "id": "4e71a747",
   "metadata": {
    "id": "4e71a747"
   },
   "source": [
    "Recall from [our example using PLS-DA](plsda.ipynb), that hard PLS-DA with 3 components (and other hyperparamters below) has a 2D space which can divide the three iris flowers reasonably well.  Here, let's just train with 2 classes to emulate the case where we have an incomplete knowledge of all possible flowers."
   ]
  },
  {
   "cell_type": "code",
   "execution_count": null,
   "id": "e4411b4c",
   "metadata": {
    "ExecuteTime": {
     "end_time": "2024-09-18T16:13:50.504313Z",
     "start_time": "2024-09-18T16:13:50.504299Z"
    },
    "id": "e4411b4c"
   },
   "outputs": [],
   "source": [
    "# Leave out versicolor on purpose\n",
    "X_train_ = X_train[y_train != 'versicolor']\n",
    "y_train_ = y_train[y_train != 'versicolor']"
   ]
  },
  {
   "cell_type": "markdown",
   "id": "a4a20036",
   "metadata": {
    "id": "a4a20036"
   },
   "source": [
    "## Case 1a: Using a Flexible Outlier Detector\n",
    "\n",
    "Here we will use an [isolation forest](https://scikit-learn.org/stable/modules/generated/sklearn.ensemble.IsolationForest.html#sklearn.ensemble.IsolationForest) to detect outliers.  The advantage of this model is that it does not make assumptions about the underlying distribution of the data.  This is important if the data is **multimodal** (for example, if you have multiple classes and each has a different center) so for multiclass problems this is recommended.  See [this example](https://scikit-learn.org/stable/auto_examples/ensemble/plot_isolation_forest.html#sphx-glr-auto-examples-ensemble-plot-isolation-forest-py) for an illustration of how isolation forest works.\n",
    "\n",
    "The main assumption with an isolation forest is that there are dense cluster(s) of data which determine where \"inliers\" should be located.  This is a reasonable assumption for many chemometric authentication problems."
   ]
  },
  {
   "cell_type": "code",
   "execution_count": null,
   "id": "a743d1de",
   "metadata": {
    "ExecuteTime": {
     "end_time": "2024-09-18T16:13:50.505313Z",
     "start_time": "2024-09-18T16:13:50.505301Z"
    },
    "id": "a743d1de"
   },
   "outputs": [],
   "source": [
    "osc = OpenSetClassifier(\n",
    "    clf_model=PLSDA,\n",
    "    clf_kwargs={\n",
    "        'n_components':3,\n",
    "        'alpha':0.05,\n",
    "        'gamma':0.01,\n",
    "        'style':\"hard\",\n",
    "        'scale_x':True,\n",
    "    },\n",
    "    outlier_model=IsolationForest,\n",
    "    outlier_kwargs={\n",
    "        'n_estimators':100,\n",
    "        'max_samples':1.0,\n",
    "        'contamination': 0.15, # In practice, this is very important to tune correctly\n",
    "        'max_features':1.0,\n",
    "        'bootstrap':True,\n",
    "        'random_state':42,\n",
    "    },\n",
    "    score_metric='TEFF',\n",
    "    clf_style='hard',\n",
    "    unknown_class=\"UNKNOWN FLOWER\",\n",
    ")"
   ]
  },
  {
   "cell_type": "code",
   "execution_count": null,
   "id": "9ef8a796",
   "metadata": {
    "ExecuteTime": {
     "end_time": "2024-09-18T16:13:50.506226Z",
     "start_time": "2024-09-18T16:13:50.506214Z"
    },
    "colab": {
     "base_uri": "https://localhost:8080/",
     "height": 196
    },
    "id": "9ef8a796",
    "outputId": "35dbe2ad-c14a-40b2-8112-5977b07a16e2"
   },
   "outputs": [],
   "source": [
    "osc.fit(X_train_, y_train_)"
   ]
  },
  {
   "cell_type": "code",
   "execution_count": null,
   "id": "4e0a3fbb",
   "metadata": {
    "ExecuteTime": {
     "end_time": "2024-09-18T16:13:50.507222Z",
     "start_time": "2024-09-18T16:13:50.507209Z"
    },
    "colab": {
     "base_uri": "https://localhost:8080/"
    },
    "id": "4e0a3fbb",
    "outputId": "eaeee6fd-e0a3-4d19-92f3-d30f2e012d02"
   },
   "outputs": [],
   "source": [
    "osc.predict(X_train_)[:10]"
   ]
  },
  {
   "cell_type": "code",
   "execution_count": null,
   "id": "a23001ad",
   "metadata": {
    "ExecuteTime": {
     "end_time": "2024-09-18T16:13:50.508192Z",
     "start_time": "2024-09-18T16:13:50.508180Z"
    },
    "id": "a23001ad"
   },
   "outputs": [],
   "source": [
    "res = osc.figures_of_merit(osc.predict(X_train_), y_train_)"
   ]
  },
  {
   "cell_type": "code",
   "execution_count": null,
   "id": "9d18d114",
   "metadata": {
    "ExecuteTime": {
     "end_time": "2024-09-18T16:13:50.509180Z",
     "start_time": "2024-09-18T16:13:50.509168Z"
    },
    "colab": {
     "base_uri": "https://localhost:8080/"
    },
    "id": "9d18d114",
    "outputId": "7af90ee3-41fd-4e50-99cf-89a3975eadc2"
   },
   "outputs": [],
   "source": [
    "osc.score(X_train_, y_train_)"
   ]
  },
  {
   "cell_type": "code",
   "execution_count": null,
   "id": "1fc4cc72",
   "metadata": {
    "ExecuteTime": {
     "end_time": "2024-09-18T16:13:50.510098Z",
     "start_time": "2024-09-18T16:13:50.510085Z"
    },
    "colab": {
     "base_uri": "https://localhost:8080/"
    },
    "id": "1fc4cc72",
    "outputId": "c19fadc9-d460-46e7-8a62-6b1b08a5769f"
   },
   "outputs": [],
   "source": [
    "res['TEFF']"
   ]
  },
  {
   "cell_type": "code",
   "execution_count": null,
   "id": "4b3e865d",
   "metadata": {
    "ExecuteTime": {
     "end_time": "2024-09-18T16:13:50.510874Z",
     "start_time": "2024-09-18T16:13:50.510862Z"
    },
    "colab": {
     "base_uri": "https://localhost:8080/",
     "height": 112
    },
    "id": "4b3e865d",
    "outputId": "e0d4507b-0ecf-4814-e8e2-9b1c9eadef4b"
   },
   "outputs": [],
   "source": [
    "res['CM']"
   ]
  },
  {
   "cell_type": "code",
   "execution_count": null,
   "id": "m1G_wHD4xD1W",
   "metadata": {
    "ExecuteTime": {
     "end_time": "2024-09-18T16:13:50.511786Z",
     "start_time": "2024-09-18T16:13:50.511772Z"
    },
    "colab": {
     "base_uri": "https://localhost:8080/"
    },
    "id": "m1G_wHD4xD1W",
    "outputId": "95dcd13a-7364-448f-ae12-f94d085365dd"
   },
   "outputs": [],
   "source": [
    "# The isolation forest tuned itself to find this fraction of unknowns.\n",
    "res['CM']['UNKNOWN FLOWER'].sum() / (40 + 40)"
   ]
  },
  {
   "cell_type": "code",
   "execution_count": null,
   "id": "6c15f4c4",
   "metadata": {
    "ExecuteTime": {
     "end_time": "2024-09-18T16:13:50.512723Z",
     "start_time": "2024-09-18T16:13:50.512710Z"
    },
    "colab": {
     "base_uri": "https://localhost:8080/",
     "height": 449
    },
    "id": "6c15f4c4",
    "outputId": "f136857b-13f6-41c1-9630-2e8a404aac8b"
   },
   "outputs": [],
   "source": [
    "# The underlying hard model only recognizes setosa and virginica\n",
    "_ = osc.fitted_classification_model.visualize(styles=['hard'])"
   ]
  },
  {
   "cell_type": "code",
   "execution_count": null,
   "id": "c9ea1528",
   "metadata": {
    "ExecuteTime": {
     "end_time": "2024-09-18T16:13:50.513673Z",
     "start_time": "2024-09-18T16:13:50.513659Z"
    },
    "colab": {
     "base_uri": "https://localhost:8080/"
    },
    "id": "c9ea1528",
    "outputId": "eb970a46-ff86-4062-cdac-6e55e64ac34e"
   },
   "outputs": [],
   "source": [
    "# And it can only predict membership to setosa and virginica\n",
    "\n",
    "print('Inlier?\\tPrediction\\tActual')\n",
    "print('------------------------------')\n",
    "for inlier, pred, act in zip(\n",
    "    osc.fitted_outlier_model.predict(X_train_)[:10],\n",
    "    osc.fitted_classification_model.predict(X_train_)[:10],\n",
    "    y_train_[:10]\n",
    "):\n",
    "    print(inlier, '\\t', pred, '\\t', act)"
   ]
  },
  {
   "cell_type": "code",
   "execution_count": null,
   "id": "2986d336",
   "metadata": {
    "ExecuteTime": {
     "end_time": "2024-09-18T16:13:50.514590Z",
     "start_time": "2024-09-18T16:13:50.514578Z"
    },
    "colab": {
     "base_uri": "https://localhost:8080/",
     "height": 449
    },
    "id": "2986d336",
    "outputId": "174068aa-5be6-4da2-a239-e1f6441d4606"
   },
   "outputs": [],
   "source": [
    "# Clearly nearly all the intervening versicolor (green) will be classified incorrectly as virginica (orange).\n",
    "\n",
    "fig, ax = plt.subplots(nrows=1, ncols=1)\n",
    "\n",
    "for i, class_ in enumerate(['setosa', 'virginica', 'versicolor']):\n",
    "    mask = y_train == class_\n",
    "\n",
    "    projection = osc.fitted_classification_model.transform(X_train[mask])\n",
    "    ax.plot(projection.ravel(), [i]*projection.shape[0], 'o', label=class_)\n",
    "\n",
    "ax = osc.fitted_classification_model.visualize(styles=['hard'], ax=ax, show_training=False)\n",
    "_ = ax.legend(loc='best')\n",
    "_ = ax.set_ylim(-1, 3)"
   ]
  },
  {
   "cell_type": "code",
   "execution_count": null,
   "id": "qxVlB-M84wdT",
   "metadata": {
    "ExecuteTime": {
     "end_time": "2024-09-18T16:13:50.515514Z",
     "start_time": "2024-09-18T16:13:50.515501Z"
    },
    "colab": {
     "base_uri": "https://localhost:8080/",
     "height": 467
    },
    "id": "qxVlB-M84wdT",
    "outputId": "db342ac3-3fd2-4a11-c940-fece614b14f9"
   },
   "outputs": [],
   "source": [
    "for i, label in enumerate(['setosa', 'virginica', 'versicolor']):\n",
    "    mask = y_train == label\n",
    "    X_ = X_train[mask]\n",
    "    inlier_ = osc.fitted_outlier_model.predict(X_)\n",
    "\n",
    "    for marker, alpha, value in zip(['*', 'o'], [0.5, 1.0], [-1, +1]):\n",
    "        out_mask = inlier_ == value\n",
    "        plt.plot(X_[out_mask, 2], X_[out_mask, 3], marker=marker, lw=0, alpha=alpha, label=f'{label} {\"inlier\" if value==1 else \"outlier\"}', color=f'C{i}')\n",
    "plt.legend(loc='upper left')\n",
    "plt.xlabel('Column 3 (petal length)')\n",
    "plt.ylabel('Column 4 (petal width)')"
   ]
  },
  {
   "cell_type": "code",
   "execution_count": null,
   "id": "2f0921be",
   "metadata": {
    "ExecuteTime": {
     "end_time": "2024-09-18T16:13:50.516385Z",
     "start_time": "2024-09-18T16:13:50.516373Z"
    },
    "colab": {
     "base_uri": "https://localhost:8080/",
     "height": 143
    },
    "id": "2f0921be",
    "outputId": "e5d7bc61-f241-4db9-ccc9-753442a8e192"
   },
   "outputs": [],
   "source": [
    "# However, the OSC model is able to identify most of the versicolor samples as being from an unknown class!\n",
    "\n",
    "res = osc.figures_of_merit(osc.predict(X_train), y_train)\n",
    "res['CM']"
   ]
  },
  {
   "cell_type": "markdown",
   "id": "eFaJkwEb60BK",
   "metadata": {
    "id": "eFaJkwEb60BK"
   },
   "source": [
    "---\n",
    "> ❗ If you change the contamination parameter, you can get very different results.  For example, try 0.05 instead of 0.15.\n",
    "---"
   ]
  },
  {
   "cell_type": "markdown",
   "id": "abfb6057",
   "metadata": {
    "id": "abfb6057"
   },
   "source": [
    "## Case 1b: Using an Outlier Detector with Strong Assumptions\n",
    "\n",
    "Here we will use an elliptical manifold to determine if a point is an outlier or inlier.  This is akin to using the robust covariance approach illustrated [here](https://scikit-learn.org/stable/auto_examples/miscellaneous/plot_anomaly_comparison.html#sphx-glr-auto-examples-miscellaneous-plot-anomaly-comparison-py) and assumes that the inlying data is all located inside a single \"ellipse\".  For one-class classification instances, this can be reasonable, but **should be avoided for multiclass problems** since this will draw an ellipse around multiple class centers, possibly overlapping the region \"in between\" which makes the model susceptible to issues if there are alternative classes there.  In this example data, the versicolor class tends to be \"in between\" the other 2 and nicely demonstrates the issue."
   ]
  },
  {
   "cell_type": "code",
   "execution_count": null,
   "id": "5700cb35",
   "metadata": {
    "ExecuteTime": {
     "end_time": "2024-09-18T16:13:50.517258Z",
     "start_time": "2024-09-18T16:13:50.517245Z"
    },
    "id": "5700cb35"
   },
   "outputs": [],
   "source": [
    "# If we do not provide a dr_model then the EllipticManifold simply fits an ellipse in the original data space.\n",
    "# For this example, let's just use the second 2 columns so that we will be able to plot the results nicely.\n",
    "\n",
    "setosa_virginica = EllipticManifold_Model(\n",
    "    alpha=0.05,\n",
    "    robust=True, # Estimate the covariance matrix for the Mahalanobis distance using a robust approach (MCD)\n",
    "    center='score', # Center the ellipse around the empirical mean of the projected data\n",
    ")\n",
    "\n",
    "_ = setosa_virginica.fit(\n",
    "    X_train_[:, 2:],\n",
    "    [\"INLIERS\"] * np.sum(y_train != 'versicolor')\n",
    ")"
   ]
  },
  {
   "cell_type": "code",
   "execution_count": null,
   "id": "c2144ac0",
   "metadata": {
    "ExecuteTime": {
     "end_time": "2024-09-18T16:13:50.518167Z",
     "start_time": "2024-09-18T16:13:50.518155Z"
    },
    "colab": {
     "base_uri": "https://localhost:8080/",
     "height": 449
    },
    "id": "c2144ac0",
    "outputId": "1c325279-30b3-47e5-a79e-42e76f5b17ba"
   },
   "outputs": [],
   "source": [
    "# Clearly, the versicolor falls between the other 2, so this elliptical boundary is not expected to be a good outlier\n",
    "# detector.\n",
    "\n",
    "_ = setosa_virginica.visualize(\n",
    "    [\n",
    "        X_train[y_train == 'setosa'][:, 2:],\n",
    "        X_train[y_train == 'versicolor'][:, 2:],\n",
    "        X_train[y_train == 'virginica'][:, 2:]\n",
    "    ],\n",
    "    ['setosa', 'versicolor', 'virginica']\n",
    ")"
   ]
  },
  {
   "cell_type": "code",
   "execution_count": null,
   "id": "046b5332",
   "metadata": {
    "ExecuteTime": {
     "end_time": "2024-09-18T16:13:50.519312Z",
     "start_time": "2024-09-18T16:13:50.519298Z"
    },
    "colab": {
     "base_uri": "https://localhost:8080/"
    },
    "id": "046b5332",
    "outputId": "3863e43d-1e24-4bd0-e887-e617f74c5063"
   },
   "outputs": [],
   "source": [
    "# Essentially all of the versicolor is considered to be an 'inlier' and will be\n",
    "# sent to the classifier, which has never seen this class before.\n",
    "\n",
    "setosa_virginica.predict(X_train[y_train == 'versicolor', 2:])"
   ]
  },
  {
   "cell_type": "code",
   "execution_count": null,
   "id": "9f0243d7",
   "metadata": {
    "ExecuteTime": {
     "end_time": "2024-09-18T16:13:50.520550Z",
     "start_time": "2024-09-18T16:13:50.520537Z"
    },
    "id": "9f0243d7"
   },
   "outputs": [],
   "source": [
    "osc = OpenSetClassifier(\n",
    "    clf_model=PLSDA,\n",
    "    clf_kwargs={\n",
    "        'n_components':1,\n",
    "        'alpha':0.05,\n",
    "        'gamma':0.01,\n",
    "        'style':\"hard\",\n",
    "        'scale_x':True,\n",
    "    },\n",
    "    outlier_model=EllipticManifold_Model, # Estimate the covariance matrix for the Mahalanobis distance using a robust approach (MCD)\n",
    "    outlier_kwargs={\n",
    "        'alpha':0.05,\n",
    "        'robust':True,\n",
    "        'center':'score'\n",
    "    },\n",
    "    score_metric='TEFF',\n",
    "    clf_style='hard',\n",
    "    unknown_class=\"UNKNOWN FLOWER\",\n",
    ")"
   ]
  },
  {
   "cell_type": "code",
   "execution_count": null,
   "id": "0e3354d2",
   "metadata": {
    "ExecuteTime": {
     "end_time": "2024-09-18T16:13:50.521453Z",
     "start_time": "2024-09-18T16:13:50.521440Z"
    },
    "colab": {
     "base_uri": "https://localhost:8080/",
     "height": 179
    },
    "id": "0e3354d2",
    "outputId": "86373d8b-be72-434e-860c-7d524c6dffff"
   },
   "outputs": [],
   "source": [
    "osc.fit(X_train_[:, 2:], y_train_)"
   ]
  },
  {
   "cell_type": "code",
   "execution_count": null,
   "id": "07ed65f4",
   "metadata": {
    "ExecuteTime": {
     "end_time": "2024-09-18T16:13:50.522363Z",
     "start_time": "2024-09-18T16:13:50.522350Z"
    },
    "colab": {
     "base_uri": "https://localhost:8080/"
    },
    "id": "07ed65f4",
    "outputId": "8296c41c-299c-48f0-ff12-d8d6d99a808d"
   },
   "outputs": [],
   "source": [
    "osc.predict(X_train_[:, 2:])[:10]"
   ]
  },
  {
   "cell_type": "code",
   "execution_count": null,
   "id": "ae75d17a",
   "metadata": {
    "ExecuteTime": {
     "end_time": "2024-09-18T16:13:50.523252Z",
     "start_time": "2024-09-18T16:13:50.523240Z"
    },
    "id": "ae75d17a"
   },
   "outputs": [],
   "source": [
    "res = osc.figures_of_merit(osc.predict(X_train[:, 2:]), y_train)"
   ]
  },
  {
   "cell_type": "code",
   "execution_count": null,
   "id": "553d558f",
   "metadata": {
    "ExecuteTime": {
     "end_time": "2024-09-18T16:13:50.524182Z",
     "start_time": "2024-09-18T16:13:50.524169Z"
    },
    "colab": {
     "base_uri": "https://localhost:8080/",
     "height": 143
    },
    "id": "553d558f",
    "outputId": "78172053-ded4-474e-fd9e-3f10168c7a32"
   },
   "outputs": [],
   "source": [
    "res['CM']"
   ]
  },
  {
   "cell_type": "markdown",
   "id": "63d3d7fb",
   "metadata": {
    "ExecuteTime": {
     "end_time": "2024-01-11T18:00:44.019757Z",
     "start_time": "2024-01-11T18:00:44.013131Z"
    },
    "id": "63d3d7fb"
   },
   "source": [
    "# Case 2: Multiclass Soft Model\n",
    "\n",
    "Soft models can assign a point to multiple (or no) classes, but only those known at training time.  For example, soft PLS-DA will learn the $N$ specific classes known when trained, and learn to predict 1, >1, or none of those specific labels.  By adding an outlier detector we might be able to further protect against bad predictions when covariate or semantic shifts occur (at test time) and the model encounters an unusual input; we would hope this would be recognized as entirely novel by the PLS-DA model, but this model's behavior is biased based on its training data and unexpected predictions can result from unexpected inputs."
   ]
  },
  {
   "cell_type": "code",
   "execution_count": null,
   "id": "52e1c3ca",
   "metadata": {
    "ExecuteTime": {
     "end_time": "2024-09-18T16:13:50.525152Z",
     "start_time": "2024-09-18T16:13:50.525140Z"
    },
    "id": "52e1c3ca"
   },
   "outputs": [],
   "source": [
    "osc = OpenSetClassifier(\n",
    "    clf_model=PLSDA,\n",
    "    clf_kwargs={\n",
    "        'n_components':3,\n",
    "        'alpha':0.05,\n",
    "        'gamma':0.01,\n",
    "        'style':\"soft\",\n",
    "        'not_assigned':\"UNKNOWN FLOWER\",\n",
    "        'scale_x':True,\n",
    "    },\n",
    "    outlier_model=IsolationForest,\n",
    "    outlier_kwargs={\n",
    "        'n_estimators':100,\n",
    "        'max_samples':1.0,\n",
    "        'contamination':0.15, # In practice, this is very important to tune correctly\n",
    "        'max_features':1.0,\n",
    "        'bootstrap':True,\n",
    "        'random_state':42,\n",
    "    },\n",
    "    score_metric='TEFF',\n",
    "    clf_style='soft',\n",
    "    unknown_class=\"OUTLIER\",\n",
    ")"
   ]
  },
  {
   "cell_type": "code",
   "execution_count": null,
   "id": "bd68907f",
   "metadata": {
    "ExecuteTime": {
     "end_time": "2024-09-18T16:13:50.526159Z",
     "start_time": "2024-09-18T16:13:50.526146Z"
    },
    "colab": {
     "base_uri": "https://localhost:8080/",
     "height": 231
    },
    "id": "bd68907f",
    "outputId": "7f956b80-229b-4db9-94b1-9ae00cc63405"
   },
   "outputs": [],
   "source": [
    "osc.fit(X_train_, y_train_)"
   ]
  },
  {
   "cell_type": "code",
   "execution_count": null,
   "id": "25ff6e17",
   "metadata": {
    "ExecuteTime": {
     "end_time": "2024-09-18T16:13:50.527024Z",
     "start_time": "2024-09-18T16:13:50.527012Z"
    },
    "colab": {
     "base_uri": "https://localhost:8080/",
     "height": 449
    },
    "id": "25ff6e17",
    "outputId": "5fd85ee2-94ab-4b9f-dfa7-fcc87d691fed"
   },
   "outputs": [],
   "source": [
    "_ = osc.fitted_classification_model.visualize(styles=['hard', 'soft'])"
   ]
  },
  {
   "cell_type": "code",
   "execution_count": null,
   "id": "018c2a75",
   "metadata": {
    "ExecuteTime": {
     "end_time": "2024-09-18T16:13:50.527997Z",
     "start_time": "2024-09-18T16:13:50.527984Z"
    },
    "colab": {
     "base_uri": "https://localhost:8080/"
    },
    "id": "018c2a75",
    "outputId": "7dac990d-284d-47a3-98d0-d6dfaf99fe68"
   },
   "outputs": [],
   "source": [
    "# The predictions can return either OUTLIER (OD identified this point) or UNKNOWN FLOWER (soft model identified this point)\n",
    "\n",
    "osc.predict(X_train_[:10])"
   ]
  },
  {
   "cell_type": "code",
   "execution_count": null,
   "id": "02e052e4",
   "metadata": {
    "ExecuteTime": {
     "end_time": "2024-09-18T16:13:50.528791Z",
     "start_time": "2024-09-18T16:13:50.528778Z"
    },
    "colab": {
     "base_uri": "https://localhost:8080/",
     "height": 112
    },
    "id": "02e052e4",
    "outputId": "7a06d05b-d400-4610-a4ea-36df5f871e15"
   },
   "outputs": [],
   "source": [
    "# For the purpose of computing metrics these are combined under the OSC's label (here, that is OUTLIER)\n",
    "\n",
    "res = osc.figures_of_merit(osc.predict(X_train_[:10]), y_train_[:10])\n",
    "res['CM']"
   ]
  },
  {
   "cell_type": "code",
   "execution_count": null,
   "id": "a4ffb2b8",
   "metadata": {
    "ExecuteTime": {
     "end_time": "2024-09-18T16:13:50.529678Z",
     "start_time": "2024-09-18T16:13:50.529665Z"
    },
    "colab": {
     "base_uri": "https://localhost:8080/",
     "height": 112
    },
    "id": "a4ffb2b8",
    "outputId": "3fa4340d-8458-43fc-cd66-84be57ca07e6"
   },
   "outputs": [],
   "source": [
    "res = osc.figures_of_merit(osc.predict(X_train_), y_train_)\n",
    "res['CM']"
   ]
  },
  {
   "cell_type": "markdown",
   "id": "0e34b0be",
   "metadata": {
    "id": "0e34b0be"
   },
   "source": [
    "**The difference can be useful if you want to understand which model rejected the point.**"
   ]
  },
  {
   "cell_type": "code",
   "execution_count": null,
   "id": "W0SmGfC7Q8jw",
   "metadata": {
    "ExecuteTime": {
     "end_time": "2024-09-18T16:13:50.530443Z",
     "start_time": "2024-09-18T16:13:50.530430Z"
    },
    "colab": {
     "base_uri": "https://localhost:8080/",
     "height": 467
    },
    "id": "W0SmGfC7Q8jw",
    "outputId": "fcced6ea-2ed7-4a81-e0bc-b28d6e34d3c8"
   },
   "outputs": [],
   "source": [
    "for i, label in enumerate(['setosa', 'virginica', 'versicolor']):\n",
    "    mask = y_train == label\n",
    "    X_ = X_train[mask]\n",
    "    preds_ = osc.predict(X_)\n",
    "\n",
    "    outlier_mask = np.array([True if x_[0] == 'OUTLIER' else False for x_ in preds_]) # Determined to be OOD by the outlier detector\n",
    "    unknown_mask = np.array([True if x_[0] == 'UNKNOWN FLOWER' else False for x_ in preds_]) # PLS-DA determined this was out of its known bounds\n",
    "    inlier_mask = (~outlier_mask) & (~unknown_mask)\n",
    "\n",
    "    for mask_, marker_, alpha_, tag_ in zip([inlier_mask, outlier_mask, unknown_mask], ['o', '^', '*'], [0.3, 1.0, 1.0], ['inlier', 'outlier', 'unknown']):\n",
    "        plt.plot(X_[mask_, 2], X_[mask_, 3], marker=marker_, lw=0, color=f'C{i}', alpha=alpha_, label=f'{label}->{tag_}')\n",
    "\n",
    "plt.legend(loc='upper left')\n",
    "plt.xlabel('Column 3 (petal length)')\n",
    "plt.ylabel('Column 4 (petal width)')"
   ]
  },
  {
   "cell_type": "code",
   "execution_count": null,
   "id": "c0af46ab",
   "metadata": {
    "ExecuteTime": {
     "end_time": "2024-09-18T16:13:50.531373Z",
     "start_time": "2024-09-18T16:13:50.531361Z"
    },
    "id": "c0af46ab"
   },
   "outputs": [],
   "source": [
    "# Note that the trangular points were caught by the outlier detector, but it is possible that the PLS-DA model would\n",
    "# have caught them too.\n",
    "\n",
    "clf_, od_, both_, neither_ = 0, 0, 0, 0\n",
    "\n",
    "od_correct_ = 0\n",
    "clf_correct_ = 0\n",
    "\n",
    "for a,b,label in zip(\n",
    "    osc.fitted_classification_model.predict(X_train),\n",
    "    osc.fitted_outlier_model.predict(X_train),\n",
    "    y_train\n",
    "):\n",
    "    clf_caught, od_caught = 0, 0\n",
    "    if a[0] == 'UNKNOWN FLOWER':\n",
    "        clf_caught = 1\n",
    "    if b == -1:\n",
    "        od_caught = 1\n",
    "\n",
    "    if (a[0] == 'UNKNOWN FLOWER') and (label == 'versicolor'):\n",
    "        clf_correct_ +=  1\n",
    "\n",
    "    if (b == -1) and (label == 'versicolor'):\n",
    "        od_correct_ +=  1\n",
    "\n",
    "    clf_ += clf_caught\n",
    "    od_ += od_caught\n",
    "    both_ += (1 if (clf_caught==1 and od_caught==1) else 0)\n",
    "    neither_ += (1 if (clf_caught==0 and od_caught==0) else 0)"
   ]
  },
  {
   "cell_type": "code",
   "execution_count": null,
   "id": "8492bc16",
   "metadata": {
    "ExecuteTime": {
     "end_time": "2024-09-18T16:13:50.532078Z",
     "start_time": "2024-09-18T16:13:50.532066Z"
    },
    "colab": {
     "base_uri": "https://localhost:8080/"
    },
    "id": "8492bc16",
    "outputId": "1423b759-f54e-4f4b-dd1b-060f349e8816"
   },
   "outputs": [],
   "source": [
    "# In most cases, the model and outlier both reacted the same way to a point.\n",
    "\n",
    "clf_, od_, both_, neither_"
   ]
  },
  {
   "cell_type": "code",
   "execution_count": null,
   "id": "ec508db3",
   "metadata": {
    "ExecuteTime": {
     "end_time": "2024-09-18T16:13:50.532937Z",
     "start_time": "2024-09-18T16:13:50.532925Z"
    },
    "colab": {
     "base_uri": "https://localhost:8080/"
    },
    "id": "ec508db3",
    "outputId": "c4daf995-fb17-4baf-be42-db5622014283"
   },
   "outputs": [],
   "source": [
    "# They each correctly identified a novel point 37/40 times\n",
    "\n",
    "clf_correct_, od_correct_"
   ]
  },
  {
   "cell_type": "code",
   "execution_count": null,
   "id": "75b1c933",
   "metadata": {
    "ExecuteTime": {
     "end_time": "2024-09-18T16:13:50.533842Z",
     "start_time": "2024-09-18T16:13:50.533829Z"
    },
    "id": "75b1c933"
   },
   "outputs": [],
   "source": [
    "# The OD rejects 37/40 versicolor points, allowing 3 to get through. However, it is clear that only 1 was incorrectly\n",
    "# assigned to a known class (virginica); these must have been rejected by the soft PLS-DA model.  Thus, together they\n",
    "# make a more specific model than either alone (below the PLS-DA model is shown to fail to reject 2 points)."
   ]
  },
  {
   "cell_type": "code",
   "execution_count": null,
   "id": "bb747908",
   "metadata": {
    "ExecuteTime": {
     "end_time": "2024-09-18T16:13:50.534930Z",
     "start_time": "2024-09-18T16:13:50.534917Z"
    },
    "colab": {
     "base_uri": "https://localhost:8080/",
     "height": 143
    },
    "id": "bb747908",
    "outputId": "cb52ef3e-102b-4e91-b7f7-36b284345b14"
   },
   "outputs": [],
   "source": [
    "res = osc.figures_of_merit(osc.predict(X_train), y_train)\n",
    "res['CM']"
   ]
  },
  {
   "cell_type": "code",
   "execution_count": null,
   "id": "f124edb8",
   "metadata": {
    "ExecuteTime": {
     "end_time": "2024-09-18T16:13:50.535998Z",
     "start_time": "2024-09-18T16:13:50.535986Z"
    },
    "colab": {
     "base_uri": "https://localhost:8080/",
     "height": 143
    },
    "id": "f124edb8",
    "outputId": "a0bc377b-4b7e-4140-f8da-f0f76b35c93d"
   },
   "outputs": [],
   "source": [
    "# The PLS-DA model alone is less specific against the versicolor challenge class, however, it is more sensitive to both\n",
    "# known classes.\n",
    "\n",
    "soft_plsda = PLSDA(\n",
    "    **{\n",
    "        'n_components':3,\n",
    "        'alpha':0.05,\n",
    "        'gamma':0.01,\n",
    "        'style':\"soft\",\n",
    "        'not_assigned':\"UNKNOWN FLOWER\",\n",
    "        'scale_x':True,\n",
    "    }\n",
    ")\n",
    "\n",
    "_ = soft_plsda.fit(X_train_, y_train_)\n",
    "\n",
    "res = soft_plsda.figures_of_merit(soft_plsda.predict(X_train), y_train)\n",
    "res['CM']"
   ]
  },
  {
   "cell_type": "markdown",
   "id": "6437eb6f",
   "metadata": {
    "id": "6437eb6f"
   },
   "source": [
    "# Case 3: Convert a Binary OvA Discriminator into a Binary Class Model\n",
    "\n",
    "Often a single (e.g., authentic) class may be well sampled while many possible alternatives are collected into a single \"alternative\" class, then a pseudo-binary model is trained in a \"one-vs-all\" (OvA) fashion.  The lack of a well-defined, well-sampled alternative class is one of the main reasons such models are typically inappropriate for authentication applications. However, it is possible to convert a binary OvA discriminator into a binary class model by adding an outlier detector.  This assumes that the two classes (authentic vs. known alternatives) are well sampled, so that the outlier detector is simply responsible for learning when covariate or semantic shifts occur and a sample moves out of the region of input space that a classifier is expected to be familiar with.  In this sense, we have a model which understands 2 classes: the authentic and the known alternatives, and both class spaces are bounded due to the outlier detector."
   ]
  },
  {
   "cell_type": "markdown",
   "id": "ddb25cc9",
   "metadata": {
    "id": "ddb25cc9"
   },
   "source": [
    "By adding an outlier detector, we can at least determine if a new sample looks different from both the known authentic class and the set of known alternatives.  These \"unknown unknowns\" are typically the reason that models fail under open set conditions.  The example below is not quite an authenticator since it uses both classes to evaluate the model performance, but we may consider it a class model since the outlier detector will reject any sample that is far away from the learned (finite) class space.  Since alternatives are used during training, this is a \"compliant\" approach rather than a \"rigorous\" one."
   ]
  },
  {
   "cell_type": "code",
   "execution_count": null,
   "id": "cbcd2004",
   "metadata": {
    "ExecuteTime": {
     "end_time": "2024-09-18T16:13:50.536877Z",
     "start_time": "2024-09-18T16:13:50.536864Z"
    },
    "id": "cbcd2004"
   },
   "outputs": [],
   "source": [
    "# Pretend that setosa is the target class and virginica is the only known alternative when the model is initially trained.\n",
    "# For example, perhaps the species is versicolor has not been discovered yet.\n",
    "\n",
    "target = 'setosa'\n",
    "known_alternatives = ['virginica'] # In principle, the training set could contain other known alternatives, too\n",
    "unknown_alternatives = ['versicolor'] # The list of alternatives encountered at test time that were not available during training\n",
    "\n",
    "mask = (y_train == target) | np.array([y_ in known_alternatives for y_ in y_train])"
   ]
  },
  {
   "cell_type": "code",
   "execution_count": null,
   "id": "9f010c25",
   "metadata": {
    "ExecuteTime": {
     "end_time": "2024-09-18T16:13:50.537898Z",
     "start_time": "2024-09-18T16:13:50.537885Z"
    },
    "id": "9f010c25"
   },
   "outputs": [],
   "source": [
    "osc = OpenSetClassifier(\n",
    "    clf_model=RandomForestClassifier,\n",
    "    clf_kwargs={\n",
    "        'n_estimators':100,\n",
    "        'max_features':'sqrt',\n",
    "        'random_state':42,\n",
    "        'class_weight':'balanced'\n",
    "    },\n",
    "    outlier_model=IsolationForest,\n",
    "    outlier_kwargs={\n",
    "        'n_estimators':100,\n",
    "        'contamination':0.15, # In practice, this is very important to tune correctly\n",
    "        'random_state':42,\n",
    "    },\n",
    "    inlier_value=1,\n",
    "    unknown_class='UNKNOWN',\n",
    "    score_metric='TEFF',\n",
    "    clf_style='hard',\n",
    "    score_using=\"all\"\n",
    ")"
   ]
  },
  {
   "cell_type": "code",
   "execution_count": null,
   "id": "1ba08301",
   "metadata": {
    "ExecuteTime": {
     "end_time": "2024-09-18T16:13:50.538778Z",
     "start_time": "2024-09-18T16:13:50.538766Z"
    },
    "colab": {
     "base_uri": "https://localhost:8080/",
     "height": 196
    },
    "id": "1ba08301",
    "outputId": "e8a4d200-53c3-400f-ed3c-f6ca4f6a60ce"
   },
   "outputs": [],
   "source": [
    "osc.fit(X_train[mask], y_train[mask])"
   ]
  },
  {
   "cell_type": "code",
   "execution_count": null,
   "id": "1988a4f9",
   "metadata": {
    "ExecuteTime": {
     "end_time": "2024-09-18T16:13:50.539625Z",
     "start_time": "2024-09-18T16:13:50.539612Z"
    },
    "colab": {
     "base_uri": "https://localhost:8080/"
    },
    "id": "1988a4f9",
    "outputId": "5e84a5bc-0459-4c17-a15e-dc3803cd792b"
   },
   "outputs": [],
   "source": [
    "osc.predict(X_train[mask])[:10]"
   ]
  },
  {
   "cell_type": "code",
   "execution_count": null,
   "id": "da821aad",
   "metadata": {
    "ExecuteTime": {
     "end_time": "2024-09-18T16:13:50.540431Z",
     "start_time": "2024-09-18T16:13:50.540418Z"
    },
    "colab": {
     "base_uri": "https://localhost:8080/"
    },
    "id": "da821aad",
    "outputId": "40ea5097-a2da-4778-c4a2-bb69cf7d290b"
   },
   "outputs": [],
   "source": [
    "res = osc.figures_of_merit(osc.predict(X_train[mask]), y_train[mask])\n",
    "res"
   ]
  },
  {
   "cell_type": "code",
   "execution_count": null,
   "id": "tBDwyZ_HYkJE",
   "metadata": {
    "ExecuteTime": {
     "end_time": "2024-09-18T16:13:50.541300Z",
     "start_time": "2024-09-18T16:13:50.541287Z"
    },
    "colab": {
     "base_uri": "https://localhost:8080/",
     "height": 112
    },
    "id": "tBDwyZ_HYkJE",
    "outputId": "224fb70a-c613-4e5c-bd0a-a15f60192059"
   },
   "outputs": [],
   "source": [
    "res['CM']"
   ]
  },
  {
   "cell_type": "code",
   "execution_count": null,
   "id": "003315ae",
   "metadata": {
    "ExecuteTime": {
     "end_time": "2024-09-18T16:13:50.542429Z",
     "start_time": "2024-09-18T16:13:50.542416Z"
    },
    "colab": {
     "base_uri": "https://localhost:8080/"
    },
    "id": "003315ae",
    "outputId": "504bb613-4371-43ec-c124-c665a7c1c478"
   },
   "outputs": [],
   "source": [
    "osc.score(X_train, y_train)"
   ]
  },
  {
   "cell_type": "code",
   "execution_count": null,
   "id": "cfb5c517",
   "metadata": {
    "ExecuteTime": {
     "end_time": "2024-09-18T16:13:50.543214Z",
     "start_time": "2024-09-18T16:13:50.543188Z"
    },
    "id": "cfb5c517"
   },
   "outputs": [],
   "source": [
    "res = osc.figures_of_merit(osc.predict(X_train), y_train)"
   ]
  },
  {
   "cell_type": "code",
   "execution_count": null,
   "id": "d2abfc57",
   "metadata": {
    "ExecuteTime": {
     "end_time": "2024-09-18T16:13:50.544155Z",
     "start_time": "2024-09-18T16:13:50.544143Z"
    },
    "colab": {
     "base_uri": "https://localhost:8080/",
     "height": 143
    },
    "id": "d2abfc57",
    "outputId": "47e058b4-0ca1-4632-d392-512bc1047141"
   },
   "outputs": [],
   "source": [
    "res['CM']"
   ]
  },
  {
   "cell_type": "markdown",
   "id": "8311944f",
   "metadata": {
    "id": "8311944f"
   },
   "source": [
    "# Case 4: Convert a Binary OvA Discriminator into a One-Class Classifier\n",
    "\n",
    "If we evaluate the model using one-class model metrics we can consider this a one-class classifier (OCC) instead of a binary one.  This effectively still predicts class membership (Y/N) but rejection can come from either the discriminative classifier or the outlier detector.  You can analyze the source of the rejections as previously illustrated with multiclass soft model example."
   ]
  },
  {
   "cell_type": "code",
   "execution_count": null,
   "id": "c6308f62",
   "metadata": {
    "ExecuteTime": {
     "end_time": "2024-09-18T16:13:50.545020Z",
     "start_time": "2024-09-18T16:13:50.545007Z"
    },
    "id": "c6308f62"
   },
   "outputs": [],
   "source": [
    "# Re-label training data into authentic vs. alternative - hold out the versicolor for a later test\n",
    "\n",
    "def convert_y_to_binary_format(y, target, alternative_class='KNOWN ALTERNATIVE'):\n",
    "    y_binary = y.copy()\n",
    "    y_binary[y_binary != target] = alternative_class\n",
    "\n",
    "    return y_binary\n",
    "\n",
    "y_train_binary = convert_y_to_binary_format(y_train[mask], target)\n",
    "X_train_binary = X_train[mask]"
   ]
  },
  {
   "cell_type": "code",
   "execution_count": null,
   "id": "-KpCgH51Ysh2",
   "metadata": {
    "ExecuteTime": {
     "end_time": "2024-09-18T16:13:50.545939Z",
     "start_time": "2024-09-18T16:13:50.545927Z"
    },
    "colab": {
     "base_uri": "https://localhost:8080/"
    },
    "id": "-KpCgH51Ysh2",
    "outputId": "ba146ad0-58e9-4c1a-a112-be676ab114d3"
   },
   "outputs": [],
   "source": [
    "y_train_binary[:10]"
   ]
  },
  {
   "cell_type": "code",
   "execution_count": null,
   "id": "9c95587f",
   "metadata": {
    "ExecuteTime": {
     "end_time": "2024-09-18T16:13:50.546767Z",
     "start_time": "2024-09-18T16:13:50.546755Z"
    },
    "id": "9c95587f"
   },
   "outputs": [],
   "source": [
    "osc = OpenSetClassifier(\n",
    "    clf_model=RandomForestClassifier,\n",
    "    clf_kwargs={\n",
    "        'n_estimators':100,\n",
    "        'max_features':'sqrt',\n",
    "        'random_state':42,\n",
    "        'class_weight':'balanced'\n",
    "    },\n",
    "    outlier_model=IsolationForest,\n",
    "    outlier_kwargs={\n",
    "        'n_estimators':100,\n",
    "        'contamination':0.15, # In practice, this is very important to tune correctly\n",
    "        'random_state':42,\n",
    "    },\n",
    "    inlier_value=1,\n",
    "    unknown_class='UNKNOWN',\n",
    "    score_metric='TEFF',\n",
    "    clf_style='hard',\n",
    "    score_using=target # Now score the model using only the target class as the positive class, others are all negative\n",
    ")"
   ]
  },
  {
   "cell_type": "code",
   "execution_count": null,
   "id": "a23e7739",
   "metadata": {
    "ExecuteTime": {
     "end_time": "2024-09-18T16:13:50.547698Z",
     "start_time": "2024-09-18T16:13:50.547684Z"
    },
    "colab": {
     "base_uri": "https://localhost:8080/",
     "height": 196
    },
    "id": "a23e7739",
    "outputId": "49279e82-e96d-4abf-e56e-ae5416f2fbf7"
   },
   "outputs": [],
   "source": [
    "osc.fit(X_train_binary, y_train_binary)"
   ]
  },
  {
   "cell_type": "code",
   "execution_count": null,
   "id": "c881bf7b",
   "metadata": {
    "ExecuteTime": {
     "end_time": "2024-09-18T16:13:50.548765Z",
     "start_time": "2024-09-18T16:13:50.548753Z"
    },
    "colab": {
     "base_uri": "https://localhost:8080/"
    },
    "id": "c881bf7b",
    "outputId": "0233f8fa-efe2-44b5-aac7-54912893c1a2"
   },
   "outputs": [],
   "source": [
    "osc.score(X_train, y_train)"
   ]
  },
  {
   "cell_type": "code",
   "execution_count": null,
   "id": "50144752",
   "metadata": {
    "ExecuteTime": {
     "end_time": "2024-09-18T16:13:50.549638Z",
     "start_time": "2024-09-18T16:13:50.549625Z"
    },
    "id": "50144752"
   },
   "outputs": [],
   "source": [
    "# Predict on the entire dataset which also includes versicolor as an unknown unknown\n",
    "res = osc.figures_of_merit(osc.predict(X_train), y_train)"
   ]
  },
  {
   "cell_type": "code",
   "execution_count": null,
   "id": "73ae018b",
   "metadata": {
    "ExecuteTime": {
     "end_time": "2024-09-18T16:13:50.550578Z",
     "start_time": "2024-09-18T16:13:50.550564Z"
    },
    "colab": {
     "base_uri": "https://localhost:8080/"
    },
    "id": "73ae018b",
    "outputId": "81f9a7fb-5066-46db-c53a-5d16dbe9896c"
   },
   "outputs": [],
   "source": [
    "res # The results are now reported as if this is a OCC"
   ]
  },
  {
   "cell_type": "code",
   "execution_count": null,
   "id": "d0517778",
   "metadata": {
    "ExecuteTime": {
     "end_time": "2024-09-18T16:13:50.551553Z",
     "start_time": "2024-09-18T16:13:50.551540Z"
    },
    "colab": {
     "base_uri": "https://localhost:8080/",
     "height": 143
    },
    "id": "d0517778",
    "outputId": "5cc37dbe-a0a8-4e4b-fa04-810f1b9b7045"
   },
   "outputs": [],
   "source": [
    "res['CM']"
   ]
  },
  {
   "cell_type": "code",
   "execution_count": null,
   "id": "d9a1df1a",
   "metadata": {
    "ExecuteTime": {
     "end_time": "2024-09-18T16:13:50.552567Z",
     "start_time": "2024-09-18T16:13:50.552555Z"
    },
    "colab": {
     "base_uri": "https://localhost:8080/"
    },
    "id": "d9a1df1a",
    "outputId": "68c2c2b0-bd39-49c2-b01b-276c090de8b1"
   },
   "outputs": [],
   "source": [
    "tsns = 36 / 40. # 35 correctly recognized as setosa\n",
    "tsps = (40 + 40) / (40 + 40.) # All others correctly NOT assigned to setosa\n",
    "teff = (tsns * tsps)**0.5\n",
    "\n",
    "tsns, tsps, teff"
   ]
  },
  {
   "cell_type": "markdown",
   "id": "3eddcbab",
   "metadata": {
    "id": "3eddcbab"
   },
   "source": [
    "# Case 5: Enabling OCCs to Detect New Alternative Classes\n",
    "\n",
    "Compliant OCC's contain a bias since they are trained using information about known alternatives.  Rigorous models use only information about the target class.  Compliant models tend to appear more performant on the surface, but the underlying bias is hard to quantify.  Adding an outlier detector to this can help detect covariate or semantic shift away from the target + known alternative classes."
   ]
  },
  {
   "cell_type": "code",
   "execution_count": null,
   "id": "a8dab894",
   "metadata": {
    "ExecuteTime": {
     "end_time": "2024-09-18T16:13:50.553584Z",
     "start_time": "2024-09-18T16:13:50.553571Z"
    },
    "id": "a8dab894"
   },
   "outputs": [],
   "source": [
    "osc = OpenSetClassifier(\n",
    "    clf_model=SIMCA_Authenticator,\n",
    "    clf_kwargs={\n",
    "        'n_components':3,\n",
    "        'alpha':0.05,\n",
    "        'gamma':0.01,\n",
    "        'target_class':target,\n",
    "        'style':'dd-simca',\n",
    "        'use':'compliant', # Allows the model to use all classes that make it through the outlier detector\n",
    "        'scale_x':True,\n",
    "        'robust':'semi',\n",
    "        'sft':False,\n",
    "    },\n",
    "    outlier_model=IsolationForest,\n",
    "    outlier_kwargs={\n",
    "        'n_estimators':100,\n",
    "        'contamination':0.15, # In practice, this is very important to tune correctly\n",
    "        'random_state':42,\n",
    "    },\n",
    "    inlier_value=1,\n",
    "    unknown_class=\"UNKNOWN\",\n",
    "    score_metric='TEFF',\n",
    "    clf_style='hard', # SIMCA returns Y/N membership which is hard\n",
    "    score_using=target # Now score the model using only the target class as the positive class, others are all negative\n",
    ")"
   ]
  },
  {
   "cell_type": "code",
   "execution_count": null,
   "id": "6aa8e56f",
   "metadata": {
    "ExecuteTime": {
     "end_time": "2024-09-18T16:13:50.554290Z",
     "start_time": "2024-09-18T16:13:50.554278Z"
    },
    "colab": {
     "base_uri": "https://localhost:8080/",
     "height": 214
    },
    "id": "6aa8e56f",
    "outputId": "5cfa1e79-7bdf-402b-f4f9-f49d8fc27ac3"
   },
   "outputs": [],
   "source": [
    "osc.fit(X_train_binary, y_train_binary)"
   ]
  },
  {
   "cell_type": "code",
   "execution_count": null,
   "id": "8d96efdc",
   "metadata": {
    "ExecuteTime": {
     "end_time": "2024-09-18T16:13:50.555301Z",
     "start_time": "2024-09-18T16:13:50.555288Z"
    },
    "id": "8d96efdc"
   },
   "outputs": [],
   "source": [
    "# OCC predict T/F while OD returns \"UNKNOWN\" string, so let's convert this to the same format.\n",
    "\n",
    "def convert_predictions_to_occ(X, target, alternative_class='KNOWN ALTERNATIVE'):\n",
    "    pred_ = osc.predict(X)\n",
    "    preds = []\n",
    "    for i in range(len(pred_)):\n",
    "        if pred_[i] == True:\n",
    "            preds.append(target)\n",
    "        elif pred_[i] == False:\n",
    "            preds.append(alternative_class)\n",
    "        else:\n",
    "            preds.append(pred_[i])\n",
    "\n",
    "    return preds"
   ]
  },
  {
   "cell_type": "code",
   "execution_count": null,
   "id": "dab72185",
   "metadata": {
    "ExecuteTime": {
     "end_time": "2024-09-18T16:13:50.556347Z",
     "start_time": "2024-09-18T16:13:50.556334Z"
    },
    "colab": {
     "base_uri": "https://localhost:8080/",
     "height": 143
    },
    "id": "dab72185",
    "outputId": "f2b99a71-277c-4168-d62c-5cce6e5f4f80"
   },
   "outputs": [],
   "source": [
    "# 2 versicolor were (incorrectly) considered to belong to a known alternative (virginica), but most were classified as\n",
    "# entirely novel (UNKNOWN) by the outlier detector!  The virginica were mostly recognized correctly as a known alternative.\n",
    "\n",
    "res = osc.figures_of_merit(convert_predictions_to_occ(X_train, target), y_train)\n",
    "res['CM']"
   ]
  },
  {
   "cell_type": "code",
   "execution_count": null,
   "id": "a8da68d9",
   "metadata": {
    "ExecuteTime": {
     "end_time": "2024-09-18T16:13:50.557232Z",
     "start_time": "2024-09-18T16:13:50.557220Z"
    },
    "colab": {
     "base_uri": "https://localhost:8080/"
    },
    "id": "a8da68d9",
    "outputId": "6898d630-42fe-464e-e517-a04fd2a00520"
   },
   "outputs": [],
   "source": [
    "tsns = 30 / 40.\n",
    "tsps = (40 + 40) / 80.\n",
    "acc = (30 + (2+38) + (32+8)) / (40 + 40 + 40.)\n",
    "tsns, tsps, acc"
   ]
  },
  {
   "cell_type": "code",
   "execution_count": null,
   "id": "851b0692",
   "metadata": {
    "ExecuteTime": {
     "end_time": "2024-09-18T16:13:50.558096Z",
     "start_time": "2024-09-18T16:13:50.558084Z"
    },
    "colab": {
     "base_uri": "https://localhost:8080/"
    },
    "id": "851b0692",
    "outputId": "6490ff77-15fb-4199-93a1-9d7c5b9c1f0a"
   },
   "outputs": [],
   "source": [
    "res"
   ]
  },
  {
   "cell_type": "markdown",
   "id": "1289c267",
   "metadata": {},
   "source": [
    "Case 6: OSR Models with Prefit Deep Classifiers\n",
    "---\n",
    "\n",
    "We can also use deep models (such as feed-forward or convolutional neural networks) as classifiers!  However, given they are expensive to train and optimize, it is best to do this separately.  In this procedure, a closed-set model is trained to recognize a set of classes and saved to disk.  Then, to apply to this under open-set conditions we can combine this with an outlier detector to detect OOD points.  Thus, during training of the `OpenSetClassifier` only the outlier detector needs to be trained."
   ]
  },
  {
   "cell_type": "markdown",
   "id": "f9ef7b30",
   "metadata": {},
   "source": [
    "<h3>Load models and data</h3>"
   ]
  },
  {
   "cell_type": "code",
   "execution_count": 6,
   "id": "2757b987",
   "metadata": {
    "ExecuteTime": {
     "end_time": "2024-09-18T16:25:28.452083Z",
     "start_time": "2024-09-18T16:25:25.717998Z"
    }
   },
   "outputs": [],
   "source": [
    "# Let's use a pretrained model for this demonstration\n",
    "model = utils.HuggingFace.from_pretrained(\n",
    "    model_id=\"mahynski/2d-cnn-demo\",\n",
    ")"
   ]
  },
  {
   "cell_type": "code",
   "execution_count": 7,
   "id": "a39f54a8",
   "metadata": {
    "ExecuteTime": {
     "end_time": "2024-09-18T16:25:39.914879Z",
     "start_time": "2024-09-18T16:25:39.828044Z"
    }
   },
   "outputs": [
    {
     "name": "stdout",
     "output_type": "stream",
     "text": [
      "Model: \"model_7\"\n",
      "_________________________________________________________________\n",
      " Layer (type)                Output Shape              Param #   \n",
      "=================================================================\n",
      " input_11 (InputLayer)       [(None, 2631, 2631, 1)]   0         \n",
      "                                                                 \n",
      " conv2d_2 (Conv2D)           (None, 2631, 2631, 3)     3         \n",
      "                                                                 \n",
      " tf.math.truediv_2 (TFOpLam  (None, 2631, 2631, 3)     0         \n",
      " bda)                                                            \n",
      "                                                                 \n",
      " tf.math.subtract_2 (TFOpLa  (None, 2631, 2631, 3)     0         \n",
      " mbda)                                                           \n",
      "                                                                 \n",
      " mobilenet_1.00_224 (Functi  (None, 82, 82, 1024)      3228864   \n",
      " onal)                                                           \n",
      "                                                                 \n",
      " global_average_pooling2d_2  (None, 1024)              0         \n",
      "  (GlobalAveragePooling2D)                                       \n",
      "                                                                 \n",
      " dropout_2 (Dropout)         (None, 1024)              0         \n",
      "                                                                 \n",
      " dense_7 (Dense)             (None, 10)                10250     \n",
      "                                                                 \n",
      "=================================================================\n",
      "Total params: 3239117 (12.36 MB)\n",
      "Trainable params: 10250 (40.04 KB)\n",
      "Non-trainable params: 3228867 (12.32 MB)\n",
      "_________________________________________________________________\n"
     ]
    }
   ],
   "source": [
    "model.summary()"
   ]
  },
  {
   "cell_type": "code",
   "execution_count": 12,
   "id": "1dfd286c",
   "metadata": {
    "ExecuteTime": {
     "end_time": "2024-09-18T16:28:33.499118Z",
     "start_time": "2024-09-18T16:27:42.073604Z"
    }
   },
   "outputs": [],
   "source": [
    "# This model was trained on 2D \"imaged\" PGAA spectra - let's load that dataset\n",
    "res = make_pgaa_images(\n",
    "    transformer=GramianAngularField(method='difference'), \n",
    "    exclude_classes=None, # ['Carbon Powder', 'Phosphate Rock', 'Zircaloy'], \n",
    "    valid_range=(0, 2631), \n",
    "    renormalize=True,\n",
    "    test_size=0.2,\n",
    "    random_state=42\n",
    ")"
   ]
  },
  {
   "cell_type": "code",
   "execution_count": 15,
   "id": "815caa3d",
   "metadata": {
    "ExecuteTime": {
     "end_time": "2024-09-18T16:33:08.650919Z",
     "start_time": "2024-09-18T16:33:08.573469Z"
    }
   },
   "outputs": [],
   "source": [
    "X_train, X_test, y_train, y_test, transformer, encoder = res"
   ]
  },
  {
   "cell_type": "markdown",
   "id": "95c2d0da",
   "metadata": {},
   "source": [
    "<h3>Without Featurization</h3>\n",
    "\n",
    "It is possible to greatly accelerate this training, especially during cross-validation, by pre-featurizing the data.  We will discuss that in the next section, but for now let's proceed without doing this."
   ]
  },
  {
   "cell_type": "code",
   "execution_count": null,
   "id": "6bdbb598",
   "metadata": {},
   "outputs": [],
   "source": [
    "# Expain OOD methods - softmax / energy"
   ]
  },
  {
   "cell_type": "code",
   "execution_count": null,
   "id": "4ac2610e",
   "metadata": {},
   "outputs": [],
   "source": [
    "# compliant model"
   ]
  },
  {
   "cell_type": "code",
   "execution_count": null,
   "id": "444fe1bb",
   "metadata": {},
   "outputs": [],
   "source": [
    "# note that it is not necessary to use the same clf model as in the OOD!"
   ]
  },
  {
   "cell_type": "markdown",
   "id": "64ddf83f",
   "metadata": {
    "ExecuteTime": {
     "end_time": "2024-09-18T16:14:03.475383Z",
     "start_time": "2024-09-18T16:14:03.471255Z"
    }
   },
   "source": [
    "<h3>With Featurization</h3>"
   ]
  },
  {
   "cell_type": "code",
   "execution_count": null,
   "id": "90499f9c",
   "metadata": {},
   "outputs": [],
   "source": [
    "# also show CV as illustration\n",
    "# Then final model construction"
   ]
  },
  {
   "cell_type": "code",
   "execution_count": null,
   "id": "af044fa2",
   "metadata": {},
   "outputs": [],
   "source": []
  },
  {
   "cell_type": "markdown",
   "id": "b5162433",
   "metadata": {
    "id": "b5162433"
   },
   "source": [
    "# Common pitfalls"
   ]
  },
  {
   "cell_type": "markdown",
   "id": "838a9f60",
   "metadata": {
    "id": "838a9f60"
   },
   "source": [
    "Some things to keep in mind:\n",
    "\n",
    "1. It is typically best to allow the OpenSetClassifier to infer the known classes from the training data.  If you manually specify this and forget some classes, those points which belong to those left out will be ignored during training.  This also affects the way the model is scored.\n",
    "2. However, this can be useful when building \"compliant\" models, as illustrate above.\n"
   ]
  }
 ],
 "metadata": {
  "colab": {
   "provenance": []
  },
  "kernelspec": {
   "display_name": "pgaa-imaging",
   "language": "python",
   "name": "pgaa-imaging"
  },
  "language_info": {
   "codemirror_mode": {
    "name": "ipython",
    "version": 3
   },
   "file_extension": ".py",
   "mimetype": "text/x-python",
   "name": "python",
   "nbconvert_exporter": "python",
   "pygments_lexer": "ipython3",
   "version": "3.11.4"
  }
 },
 "nbformat": 4,
 "nbformat_minor": 5
}
