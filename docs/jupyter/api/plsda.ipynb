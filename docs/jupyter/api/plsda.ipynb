{
 "cells": [
  {
   "cell_type": "markdown",
   "metadata": {
    "toc": true
   },
   "source": [
    "Classification with PLS-DA\n",
    "==="
   ]
  },
  {
   "cell_type": "markdown",
   "metadata": {},
   "source": [
    "Author: Nathan A. Mahynski\n",
    "\n",
    "Date: 2023/08/23\n",
    "\n",
    "Description: Illustrate modeling with PLS-DA.\n",
    "\n",
    "[![Open In Colab](https://colab.research.google.com/assets/colab-badge.svg)](https://colab.research.google.com/github/mahynski/pychemauth/blob/main/docs/jupyter/api/plsda.ipynb)"
   ]
  },
  {
   "cell_type": "code",
   "execution_count": 1,
   "metadata": {
    "ExecuteTime": {
     "end_time": "2023-10-24T13:22:21.330096Z",
     "start_time": "2023-10-24T13:22:21.324445Z"
    }
   },
   "outputs": [],
   "source": [
    "if 'google.colab' in str(get_ipython()):\n",
    "    !pip install git+https://github.com/mahynski/pychemauth@main\n",
    "    import os\n",
    "    os.kill(os.getpid(), 9) # Automatically restart the runtime to reload libraries"
   ]
  },
  {
   "cell_type": "code",
   "execution_count": 2,
   "metadata": {
    "ExecuteTime": {
     "end_time": "2023-10-24T13:22:22.483284Z",
     "start_time": "2023-10-24T13:22:21.974724Z"
    },
    "colab": {
     "base_uri": "https://localhost:8080/"
    },
    "executionInfo": {
     "elapsed": 18469,
     "status": "ok",
     "timestamp": 1644609229076,
     "user": {
      "displayName": "Nathan Mahynski",
      "photoUrl": "https://lh3.googleusercontent.com/a-/AOh14GiUlAIKCPEpbG_va5l0d5MOrKuPRHHZGu7-AEYw-A=s64",
      "userId": "00044706541353398741"
     },
     "user_tz": 300
    },
    "id": "hazEgtFCO9Lj",
    "outputId": "bcb4c681-c63c-48ab-cc76-41cd52318f93"
   },
   "outputs": [],
   "source": [
    "try:\n",
    "    import pychemauth\n",
    "except:\n",
    "    raise ImportError(\"pychemauth not installed\")\n",
    "\n",
    "import matplotlib.pyplot as plt\n",
    "%matplotlib inline\n",
    "\n",
    "import watermark\n",
    "%load_ext watermark\n",
    "\n",
    "%load_ext autoreload\n",
    "%autoreload 2"
   ]
  },
  {
   "cell_type": "code",
   "execution_count": 3,
   "metadata": {
    "ExecuteTime": {
     "end_time": "2023-10-24T13:22:25.153632Z",
     "start_time": "2023-10-24T13:22:24.135055Z"
    },
    "executionInfo": {
     "elapsed": 1238,
     "status": "ok",
     "timestamp": 1644609230305,
     "user": {
      "displayName": "Nathan Mahynski",
      "photoUrl": "https://lh3.googleusercontent.com/a-/AOh14GiUlAIKCPEpbG_va5l0d5MOrKuPRHHZGu7-AEYw-A=s64",
      "userId": "00044706541353398741"
     },
     "user_tz": 300
    },
    "id": "NZJWcxpOO8OQ"
   },
   "outputs": [],
   "source": [
    "import imblearn\n",
    "import sklearn\n",
    "\n",
    "from sklearn.model_selection import GridSearchCV\n",
    "\n",
    "import numpy as np\n",
    "import pandas as pd"
   ]
  },
  {
   "cell_type": "code",
   "execution_count": 4,
   "metadata": {
    "ExecuteTime": {
     "end_time": "2023-10-24T13:22:25.904939Z",
     "start_time": "2023-10-24T13:22:25.872129Z"
    },
    "colab": {
     "base_uri": "https://localhost:8080/"
    },
    "executionInfo": {
     "elapsed": 163,
     "status": "ok",
     "timestamp": 1644609230460,
     "user": {
      "displayName": "Nathan Mahynski",
      "photoUrl": "https://lh3.googleusercontent.com/a-/AOh14GiUlAIKCPEpbG_va5l0d5MOrKuPRHHZGu7-AEYw-A=s64",
      "userId": "00044706541353398741"
     },
     "user_tz": 300
    },
    "id": "9OIQD7AKO8OT",
    "outputId": "7a434ca4-77c2-4c36-d63f-408cc54f1aff"
   },
   "outputs": [
    {
     "name": "stdout",
     "output_type": "stream",
     "text": [
      "Python implementation: CPython\n",
      "Python version       : 3.11.4\n",
      "IPython version      : 8.14.0\n",
      "\n",
      "Compiler    : GCC 12.2.0\n",
      "OS          : Linux\n",
      "Release     : 6.2.0-34-generic\n",
      "Machine     : x86_64\n",
      "Processor   : x86_64\n",
      "CPU cores   : 40\n",
      "Architecture: 64bit\n",
      "\n",
      "watermark : 2.4.3\n",
      "pandas    : 1.5.3\n",
      "json      : 2.0.9\n",
      "numpy     : 1.24.3\n",
      "matplotlib: 3.7.2\n",
      "imblearn  : 0.11.0\n",
      "sklearn   : 1.3.0\n",
      "pychemauth: 0.0.0b3\n",
      "\n"
     ]
    }
   ],
   "source": [
    "%watermark -t -m -v --iversions"
   ]
  },
  {
   "cell_type": "markdown",
   "metadata": {
    "id": "SsMm6UUVO8OV"
   },
   "source": [
    "<h3>Load the Data</h3>"
   ]
  },
  {
   "cell_type": "code",
   "execution_count": 5,
   "metadata": {
    "ExecuteTime": {
     "end_time": "2023-10-24T13:22:28.409484Z",
     "start_time": "2023-10-24T13:22:28.294258Z"
    }
   },
   "outputs": [],
   "source": [
    "from sklearn.datasets import load_iris as load_data\n",
    "X, y = load_data(return_X_y=True, as_frame=True)"
   ]
  },
  {
   "cell_type": "code",
   "execution_count": 6,
   "metadata": {
    "ExecuteTime": {
     "end_time": "2023-10-24T13:22:28.998930Z",
     "start_time": "2023-10-24T13:22:28.961004Z"
    }
   },
   "outputs": [],
   "source": [
    "# Let's turn the indices into names\n",
    "names = dict(zip(np.arange(3), ['setosa', 'versicolor', 'virginica'])) \n",
    "y = y.apply(lambda x: names[x])"
   ]
  },
  {
   "cell_type": "code",
   "execution_count": 7,
   "metadata": {
    "ExecuteTime": {
     "end_time": "2023-10-24T13:22:44.589044Z",
     "start_time": "2023-10-24T13:22:44.554038Z"
    }
   },
   "outputs": [
    {
     "data": {
      "text/html": [
       "<div>\n",
       "<style scoped>\n",
       "    .dataframe tbody tr th:only-of-type {\n",
       "        vertical-align: middle;\n",
       "    }\n",
       "\n",
       "    .dataframe tbody tr th {\n",
       "        vertical-align: top;\n",
       "    }\n",
       "\n",
       "    .dataframe thead th {\n",
       "        text-align: right;\n",
       "    }\n",
       "</style>\n",
       "<table border=\"1\" class=\"dataframe\">\n",
       "  <thead>\n",
       "    <tr style=\"text-align: right;\">\n",
       "      <th></th>\n",
       "      <th>sepal length (cm)</th>\n",
       "      <th>sepal width (cm)</th>\n",
       "      <th>petal length (cm)</th>\n",
       "      <th>petal width (cm)</th>\n",
       "    </tr>\n",
       "  </thead>\n",
       "  <tbody>\n",
       "    <tr>\n",
       "      <th>0</th>\n",
       "      <td>5.1</td>\n",
       "      <td>3.5</td>\n",
       "      <td>1.4</td>\n",
       "      <td>0.2</td>\n",
       "    </tr>\n",
       "    <tr>\n",
       "      <th>1</th>\n",
       "      <td>4.9</td>\n",
       "      <td>3.0</td>\n",
       "      <td>1.4</td>\n",
       "      <td>0.2</td>\n",
       "    </tr>\n",
       "    <tr>\n",
       "      <th>2</th>\n",
       "      <td>4.7</td>\n",
       "      <td>3.2</td>\n",
       "      <td>1.3</td>\n",
       "      <td>0.2</td>\n",
       "    </tr>\n",
       "    <tr>\n",
       "      <th>3</th>\n",
       "      <td>4.6</td>\n",
       "      <td>3.1</td>\n",
       "      <td>1.5</td>\n",
       "      <td>0.2</td>\n",
       "    </tr>\n",
       "    <tr>\n",
       "      <th>4</th>\n",
       "      <td>5.0</td>\n",
       "      <td>3.6</td>\n",
       "      <td>1.4</td>\n",
       "      <td>0.2</td>\n",
       "    </tr>\n",
       "  </tbody>\n",
       "</table>\n",
       "</div>"
      ],
      "text/plain": [
       "   sepal length (cm)  sepal width (cm)  petal length (cm)  petal width (cm)\n",
       "0                5.1               3.5                1.4               0.2\n",
       "1                4.9               3.0                1.4               0.2\n",
       "2                4.7               3.2                1.3               0.2\n",
       "3                4.6               3.1                1.5               0.2\n",
       "4                5.0               3.6                1.4               0.2"
      ]
     },
     "execution_count": 7,
     "metadata": {},
     "output_type": "execute_result"
    }
   ],
   "source": [
    "X.head(5)"
   ]
  },
  {
   "cell_type": "code",
   "execution_count": 8,
   "metadata": {
    "ExecuteTime": {
     "end_time": "2023-10-24T13:22:46.950320Z",
     "start_time": "2023-10-24T13:22:46.909731Z"
    }
   },
   "outputs": [],
   "source": [
    "from sklearn.model_selection import train_test_split\n",
    "\n",
    "X_train, X_test, y_train, y_test = train_test_split(\n",
    "    X.values,\n",
    "    y.values, # Let's try to predict the salary based on the other numerical features.\n",
    "    shuffle=True,\n",
    "    random_state=42,\n",
    "    test_size=0.2,\n",
    "    stratify=y # It is usually important to balance the test and train set so they have the same fraction of classes\n",
    ")"
   ]
  },
  {
   "cell_type": "markdown",
   "metadata": {
    "id": "d9w-wJ39O8OZ"
   },
   "source": [
    "Fitting a PLS-DA Model\n",
    "---"
   ]
  },
  {
   "cell_type": "code",
   "execution_count": 9,
   "metadata": {
    "ExecuteTime": {
     "end_time": "2023-10-24T13:22:49.182779Z",
     "start_time": "2023-10-24T13:22:48.657568Z"
    },
    "executionInfo": {
     "elapsed": 14,
     "status": "ok",
     "timestamp": 1644609230954,
     "user": {
      "displayName": "Nathan Mahynski",
      "photoUrl": "https://lh3.googleusercontent.com/a-/AOh14GiUlAIKCPEpbG_va5l0d5MOrKuPRHHZGu7-AEYw-A=s64",
      "userId": "00044706541353398741"
     },
     "user_tz": 300
    },
    "id": "78XEFgooO8Ob"
   },
   "outputs": [],
   "source": [
    "from pychemauth.classifier.plsda import PLSDA"
   ]
  },
  {
   "cell_type": "markdown",
   "metadata": {
    "id": "h7hhJjcbO8Oc"
   },
   "source": [
    "<h3>Training a Hard Model</h3>\n",
    "\n",
    "\"Hard\" PLS-DA models use hyperplanes to divide the latent (score) space into distinct regions, 1 and only 1 of which is associated with a class.\n"
   ]
  },
  {
   "cell_type": "code",
   "execution_count": 10,
   "metadata": {
    "ExecuteTime": {
     "end_time": "2023-10-24T13:22:49.724499Z",
     "start_time": "2023-10-24T13:22:49.694175Z"
    },
    "executionInfo": {
     "elapsed": 209,
     "status": "ok",
     "timestamp": 1644609231150,
     "user": {
      "displayName": "Nathan Mahynski",
      "photoUrl": "https://lh3.googleusercontent.com/a-/AOh14GiUlAIKCPEpbG_va5l0d5MOrKuPRHHZGu7-AEYw-A=s64",
      "userId": "00044706541353398741"
     },
     "user_tz": 300
    },
    "id": "h0E3DXEgO8Od"
   },
   "outputs": [],
   "source": [
    "hard_plsda = PLSDA(\n",
    "    n_components=3, \n",
    "    alpha=0.05,\n",
    "    gamma=0.01,\n",
    "    not_assigned='UNKNOWN', # This needs to match the same datatype as y (here, y is str); for integers, e.g., use -1\n",
    "    style=\"hard\", \n",
    "    scale_x=True,\n",
    "    score_metric='TEFF' # Let's use TEFF as the model's scoring metric.  This could be TSNS or TSPS instead.\n",
    ")"
   ]
  },
  {
   "cell_type": "code",
   "execution_count": 11,
   "metadata": {
    "ExecuteTime": {
     "end_time": "2023-10-24T13:22:50.072423Z",
     "start_time": "2023-10-24T13:22:50.041388Z"
    },
    "executionInfo": {
     "elapsed": 8,
     "status": "ok",
     "timestamp": 1644609231151,
     "user": {
      "displayName": "Nathan Mahynski",
      "photoUrl": "https://lh3.googleusercontent.com/a-/AOh14GiUlAIKCPEpbG_va5l0d5MOrKuPRHHZGu7-AEYw-A=s64",
      "userId": "00044706541353398741"
     },
     "user_tz": 300
    },
    "id": "vSrQXp_yO8Oe"
   },
   "outputs": [],
   "source": [
    "_ = hard_plsda.fit(X_train, y_train)"
   ]
  },
  {
   "cell_type": "code",
   "execution_count": 12,
   "metadata": {
    "ExecuteTime": {
     "end_time": "2023-10-24T13:22:51.243715Z",
     "start_time": "2023-10-24T13:22:50.917750Z"
    },
    "colab": {
     "base_uri": "https://localhost:8080/",
     "height": 279
    },
    "executionInfo": {
     "elapsed": 366,
     "status": "ok",
     "timestamp": 1644609231511,
     "user": {
      "displayName": "Nathan Mahynski",
      "photoUrl": "https://lh3.googleusercontent.com/a-/AOh14GiUlAIKCPEpbG_va5l0d5MOrKuPRHHZGu7-AEYw-A=s64",
      "userId": "00044706541353398741"
     },
     "user_tz": 300
    },
    "id": "IPwajT-MO8Oe",
    "outputId": "4f4f5385-68f9-4670-b9f6-56c02ba981c6"
   },
   "outputs": [
    {
     "data": {
      "image/png": "[encoded data removed]",
      "text/plain": [
       "<Figure size 640x480 with 1 Axes>"
      ]
     },
     "metadata": {},
     "output_type": "display_data"
    }
   ],
   "source": [
    "# 3 class systems can be plotted in 2D, 2 class systems in 1D; more than 3 cannot be shown. `visualize` automatically\n",
    "# selects the right version for your.\n",
    "_ = hard_plsda.visualize(styles=['hard'])"
   ]
  },
  {
   "cell_type": "code",
   "execution_count": 13,
   "metadata": {
    "ExecuteTime": {
     "end_time": "2023-10-24T13:22:52.970747Z",
     "start_time": "2023-10-24T13:22:52.937225Z"
    },
    "executionInfo": {
     "elapsed": 172,
     "status": "ok",
     "timestamp": 1644609231676,
     "user": {
      "displayName": "Nathan Mahynski",
      "photoUrl": "https://lh3.googleusercontent.com/a-/AOh14GiUlAIKCPEpbG_va5l0d5MOrKuPRHHZGu7-AEYw-A=s64",
      "userId": "00044706541353398741"
     },
     "user_tz": 300
    },
    "id": "yNlDC3OdO8Of"
   },
   "outputs": [],
   "source": [
    "# We can see what samples are predicted to be using the predict() function.\n",
    "pred = hard_plsda.predict(X_train)"
   ]
  },
  {
   "cell_type": "code",
   "execution_count": 14,
   "metadata": {
    "ExecuteTime": {
     "end_time": "2023-10-24T13:22:53.496355Z",
     "start_time": "2023-10-24T13:22:53.419903Z"
    },
    "colab": {
     "base_uri": "https://localhost:8080/"
    },
    "executionInfo": {
     "elapsed": 154,
     "status": "ok",
     "timestamp": 1644609231825,
     "user": {
      "displayName": "Nathan Mahynski",
      "photoUrl": "https://lh3.googleusercontent.com/a-/AOh14GiUlAIKCPEpbG_va5l0d5MOrKuPRHHZGu7-AEYw-A=s64",
      "userId": "00044706541353398741"
     },
     "user_tz": 300
    },
    "id": "D15Wvk4iO8Og",
    "outputId": "32a2c232-2948-42d1-9dd1-2813f2f30486"
   },
   "outputs": [
    {
     "name": "stdout",
     "output_type": "stream",
     "text": [
      "Test set TEFF = 0.733\n",
      "Train set TEFF = 0.750\n"
     ]
    }
   ],
   "source": [
    "print(\n",
    "    'Test set TEFF = {}\\nTrain set TEFF = {}'.format(\n",
    "        '%.3f'%hard_plsda.score(X_test, y_test),\n",
    "        '%.3f'%hard_plsda.score(X_train, y_train)\n",
    "    )\n",
    ")"
   ]
  },
  {
   "cell_type": "markdown",
   "metadata": {
    "ExecuteTime": {
     "end_time": "2023-08-31T16:26:21.995742Z",
     "start_time": "2023-08-31T16:26:21.966832Z"
    }
   },
   "source": [
    "For Hard PLS-DA each point is predicted to belong to 1 and only 1 class, so TEFF = TSPS = TSNS\n"
   ]
  },
  {
   "cell_type": "code",
   "execution_count": 15,
   "metadata": {
    "ExecuteTime": {
     "end_time": "2023-10-24T13:22:55.218081Z",
     "start_time": "2023-10-24T13:22:55.161285Z"
    }
   },
   "outputs": [
    {
     "name": "stdout",
     "output_type": "stream",
     "text": [
      "0.75 0.75 0.75\n"
     ]
    }
   ],
   "source": [
    "# The score() function is just testing how many are correctly predicted.  You can do this directly and \n",
    "# easily with the \"hard\" version of PLS-DA.\n",
    "fom = hard_plsda.figures_of_merit(pred, y_train)\n",
    "\n",
    "print(fom['TSNS'], fom['TSPS'], fom['TEFF'])"
   ]
  },
  {
   "cell_type": "code",
   "execution_count": 16,
   "metadata": {
    "ExecuteTime": {
     "end_time": "2023-10-24T13:22:55.326224Z",
     "start_time": "2023-10-24T13:22:55.294547Z"
    }
   },
   "outputs": [
    {
     "data": {
      "text/plain": [
       "0.75"
      ]
     },
     "execution_count": 16,
     "metadata": {},
     "output_type": "execute_result"
    }
   ],
   "source": [
    "# This is also equivalent to the accuracy of the model\n",
    "np.sum(np.array(pred).ravel() == y_train) / y_train.shape[0]"
   ]
  },
  {
   "cell_type": "code",
   "execution_count": 17,
   "metadata": {
    "ExecuteTime": {
     "end_time": "2023-10-24T13:22:56.145749Z",
     "start_time": "2023-10-24T13:22:56.093208Z"
    },
    "colab": {
     "base_uri": "https://localhost:8080/",
     "height": 143
    },
    "executionInfo": {
     "elapsed": 19,
     "status": "ok",
     "timestamp": 1644609231996,
     "user": {
      "displayName": "Nathan Mahynski",
      "photoUrl": "https://lh3.googleusercontent.com/a-/AOh14GiUlAIKCPEpbG_va5l0d5MOrKuPRHHZGu7-AEYw-A=s64",
      "userId": "00044706541353398741"
     },
     "user_tz": 300
    },
    "id": "URhYIUY3O8Oj",
    "outputId": "cfccda2e-01ec-47c1-c94c-f1e8bc35c1f4"
   },
   "outputs": [
    {
     "data": {
      "text/html": [
       "<div>\n",
       "<style scoped>\n",
       "    .dataframe tbody tr th:only-of-type {\n",
       "        vertical-align: middle;\n",
       "    }\n",
       "\n",
       "    .dataframe tbody tr th {\n",
       "        vertical-align: top;\n",
       "    }\n",
       "\n",
       "    .dataframe thead th {\n",
       "        text-align: right;\n",
       "    }\n",
       "</style>\n",
       "<table border=\"1\" class=\"dataframe\">\n",
       "  <thead>\n",
       "    <tr style=\"text-align: right;\">\n",
       "      <th></th>\n",
       "      <th>setosa</th>\n",
       "      <th>versicolor</th>\n",
       "      <th>virginica</th>\n",
       "      <th>UNKNOWN</th>\n",
       "    </tr>\n",
       "  </thead>\n",
       "  <tbody>\n",
       "    <tr>\n",
       "      <th>setosa</th>\n",
       "      <td>39</td>\n",
       "      <td>1</td>\n",
       "      <td>0</td>\n",
       "      <td>0</td>\n",
       "    </tr>\n",
       "    <tr>\n",
       "      <th>versicolor</th>\n",
       "      <td>19</td>\n",
       "      <td>18</td>\n",
       "      <td>3</td>\n",
       "      <td>0</td>\n",
       "    </tr>\n",
       "    <tr>\n",
       "      <th>virginica</th>\n",
       "      <td>1</td>\n",
       "      <td>6</td>\n",
       "      <td>33</td>\n",
       "      <td>0</td>\n",
       "    </tr>\n",
       "  </tbody>\n",
       "</table>\n",
       "</div>"
      ],
      "text/plain": [
       "            setosa  versicolor  virginica  UNKNOWN\n",
       "setosa          39           1          0        0\n",
       "versicolor      19          18          3        0\n",
       "virginica        1           6         33        0"
      ]
     },
     "execution_count": 17,
     "metadata": {},
     "output_type": "execute_result"
    }
   ],
   "source": [
    "# Each row is what the sample ACTUALLY is, each column is what the PREDICTION is.\n",
    "# Here, versicolor is predicted to be setosa 19 times.\n",
    "\n",
    "fom['CM']"
   ]
  },
  {
   "cell_type": "code",
   "execution_count": 18,
   "metadata": {
    "ExecuteTime": {
     "end_time": "2023-10-24T13:22:57.306101Z",
     "start_time": "2023-10-24T13:22:57.276459Z"
    },
    "colab": {
     "base_uri": "https://localhost:8080/"
    },
    "executionInfo": {
     "elapsed": 16,
     "status": "ok",
     "timestamp": 1644609231997,
     "user": {
      "displayName": "Nathan Mahynski",
      "photoUrl": "https://lh3.googleusercontent.com/a-/AOh14GiUlAIKCPEpbG_va5l0d5MOrKuPRHHZGu7-AEYw-A=s64",
      "userId": "00044706541353398741"
     },
     "user_tz": 300
    },
    "id": "ZMBrMkazO8Ok",
    "outputId": "fc1bfae0-e2f8-4d26-aca7-4e56d60fc9fd"
   },
   "outputs": [
    {
     "data": {
      "text/plain": [
       "setosa        40\n",
       "versicolor    40\n",
       "virginica     40\n",
       "dtype: int64"
      ]
     },
     "execution_count": 18,
     "metadata": {},
     "output_type": "execute_result"
    }
   ],
   "source": [
    "# Total for each category\n",
    "fom['I']"
   ]
  },
  {
   "cell_type": "code",
   "execution_count": 19,
   "metadata": {
    "ExecuteTime": {
     "end_time": "2023-10-24T13:22:58.820291Z",
     "start_time": "2023-10-24T13:22:58.791581Z"
    },
    "colab": {
     "base_uri": "https://localhost:8080/"
    },
    "executionInfo": {
     "elapsed": 12,
     "status": "ok",
     "timestamp": 1644609231997,
     "user": {
      "displayName": "Nathan Mahynski",
      "photoUrl": "https://lh3.googleusercontent.com/a-/AOh14GiUlAIKCPEpbG_va5l0d5MOrKuPRHHZGu7-AEYw-A=s64",
      "userId": "00044706541353398741"
     },
     "user_tz": 300
    },
    "id": "dOx4E87-O8Ok",
    "outputId": "92d78740-dc1a-4f33-eab7-111bc0a17450"
   },
   "outputs": [
    {
     "data": {
      "text/plain": [
       "setosa        0.975\n",
       "versicolor    0.450\n",
       "virginica     0.825\n",
       "dtype: float64"
      ]
     },
     "execution_count": 19,
     "metadata": {},
     "output_type": "execute_result"
    }
   ],
   "source": [
    "# Class sensitivity\n",
    "fom['CSNS']"
   ]
  },
  {
   "cell_type": "code",
   "execution_count": 20,
   "metadata": {
    "ExecuteTime": {
     "end_time": "2023-10-24T13:22:59.470710Z",
     "start_time": "2023-10-24T13:22:59.420938Z"
    },
    "colab": {
     "base_uri": "https://localhost:8080/"
    },
    "executionInfo": {
     "elapsed": 173,
     "status": "ok",
     "timestamp": 1644609232159,
     "user": {
      "displayName": "Nathan Mahynski",
      "photoUrl": "https://lh3.googleusercontent.com/a-/AOh14GiUlAIKCPEpbG_va5l0d5MOrKuPRHHZGu7-AEYw-A=s64",
      "userId": "00044706541353398741"
     },
     "user_tz": 300
    },
    "id": "hAJDxJ90O8Ol",
    "outputId": "4756bc56-f760-4642-f3ba-f91a8925aa49"
   },
   "outputs": [
    {
     "data": {
      "text/plain": [
       "setosa        0.7500\n",
       "versicolor    0.9125\n",
       "virginica     0.9625\n",
       "dtype: float64"
      ]
     },
     "execution_count": 20,
     "metadata": {},
     "output_type": "execute_result"
    }
   ],
   "source": [
    "# Class specificity\n",
    "fom['CSPS']"
   ]
  },
  {
   "cell_type": "code",
   "execution_count": 21,
   "metadata": {
    "ExecuteTime": {
     "end_time": "2023-10-24T13:22:59.987100Z",
     "start_time": "2023-10-24T13:22:59.940262Z"
    },
    "colab": {
     "base_uri": "https://localhost:8080/"
    },
    "executionInfo": {
     "elapsed": 12,
     "status": "ok",
     "timestamp": 1644609232160,
     "user": {
      "displayName": "Nathan Mahynski",
      "photoUrl": "https://lh3.googleusercontent.com/a-/AOh14GiUlAIKCPEpbG_va5l0d5MOrKuPRHHZGu7-AEYw-A=s64",
      "userId": "00044706541353398741"
     },
     "user_tz": 300
    },
    "id": "ja7x_o0FO8Ol",
    "outputId": "5bf89f9a-5e8e-4e32-9655-4694c688ef5b"
   },
   "outputs": [
    {
     "data": {
      "text/plain": [
       "setosa        0.855132\n",
       "versicolor    0.640800\n",
       "virginica     0.891102\n",
       "dtype: float64"
      ]
     },
     "execution_count": 21,
     "metadata": {},
     "output_type": "execute_result"
    }
   ],
   "source": [
    "# Class efficiency\n",
    "fom['CEFF']"
   ]
  },
  {
   "cell_type": "markdown",
   "metadata": {
    "id": "gIwGBHh3O8On"
   },
   "source": [
    "<h3>Training a Soft Model</h3>\n",
    "\n",
    "\"Soft\" PLS-DA models use ellipses to divide the latent (score) space into possibly overlapping regions, meaning that a point can be assigned to 0, 1, or > 1 classes.\n"
   ]
  },
  {
   "cell_type": "code",
   "execution_count": 22,
   "metadata": {
    "ExecuteTime": {
     "end_time": "2023-10-24T13:23:01.269841Z",
     "start_time": "2023-10-24T13:23:01.227912Z"
    },
    "executionInfo": {
     "elapsed": 8,
     "status": "ok",
     "timestamp": 1644609232161,
     "user": {
      "displayName": "Nathan Mahynski",
      "photoUrl": "https://lh3.googleusercontent.com/a-/AOh14GiUlAIKCPEpbG_va5l0d5MOrKuPRHHZGu7-AEYw-A=s64",
      "userId": "00044706541353398741"
     },
     "user_tz": 300
    },
    "id": "BQ0xbHN3O8Oo"
   },
   "outputs": [],
   "source": [
    "# Here the data are elemental levels so we will scale the X data\n",
    "soft_plsda = PLSDA(\n",
    "    n_components=3, \n",
    "    alpha=0.05,\n",
    "    gamma=0.01, \n",
    "    not_assigned='UNKNOWN', \n",
    "    style=\"soft\", \n",
    "    scale_x=True,\n",
    "    score_metric='TEFF'\n",
    ")"
   ]
  },
  {
   "cell_type": "code",
   "execution_count": 23,
   "metadata": {
    "ExecuteTime": {
     "end_time": "2023-10-24T13:23:03.284062Z",
     "start_time": "2023-10-24T13:23:03.227017Z"
    },
    "executionInfo": {
     "elapsed": 8,
     "status": "ok",
     "timestamp": 1644609232162,
     "user": {
      "displayName": "Nathan Mahynski",
      "photoUrl": "https://lh3.googleusercontent.com/a-/AOh14GiUlAIKCPEpbG_va5l0d5MOrKuPRHHZGu7-AEYw-A=s64",
      "userId": "00044706541353398741"
     },
     "user_tz": 300
    },
    "id": "YZLv_4lFO8Oo"
   },
   "outputs": [],
   "source": [
    "_ = soft_plsda.fit(X_train, y_train)"
   ]
  },
  {
   "cell_type": "code",
   "execution_count": 24,
   "metadata": {
    "ExecuteTime": {
     "end_time": "2023-10-24T13:23:04.898751Z",
     "start_time": "2023-10-24T13:23:03.586813Z"
    },
    "colab": {
     "base_uri": "https://localhost:8080/",
     "height": 279
    },
    "executionInfo": {
     "elapsed": 5731,
     "status": "ok",
     "timestamp": 1644609238034,
     "user": {
      "displayName": "Nathan Mahynski",
      "photoUrl": "https://lh3.googleusercontent.com/a-/AOh14GiUlAIKCPEpbG_va5l0d5MOrKuPRHHZGu7-AEYw-A=s64",
      "userId": "00044706541353398741"
     },
     "user_tz": 300
    },
    "id": "kNsi3S9sO8Op",
    "outputId": "cc02ffa1-36f4-4a13-acb3-f241eedfdccb"
   },
   "outputs": [
    {
     "data": {
      "image/png": "[encoded data removed]",
      "text/plain": [
       "<Figure size 640x480 with 1 Axes>"
      ]
     },
     "metadata": {},
     "output_type": "display_data"
    }
   ],
   "source": [
    "# You can visualize both the hard and soft boundaries if you train a soft model.\n",
    "# With a hard model, you only get the hard boundaries by default.\n",
    "_ = soft_plsda.visualize(styles=['hard', 'soft'])"
   ]
  },
  {
   "cell_type": "code",
   "execution_count": 25,
   "metadata": {
    "ExecuteTime": {
     "end_time": "2023-10-24T13:23:15.112448Z",
     "start_time": "2023-10-24T13:23:15.059879Z"
    },
    "executionInfo": {
     "elapsed": 8,
     "status": "ok",
     "timestamp": 1644609238035,
     "user": {
      "displayName": "Nathan Mahynski",
      "photoUrl": "https://lh3.googleusercontent.com/a-/AOh14GiUlAIKCPEpbG_va5l0d5MOrKuPRHHZGu7-AEYw-A=s64",
      "userId": "00044706541353398741"
     },
     "user_tz": 300
    },
    "id": "p-Ndj216O8Op"
   },
   "outputs": [],
   "source": [
    "# We can see what samples are predicted to be using the predict() function.\n",
    "train_pred = soft_plsda.predict(X_train)"
   ]
  },
  {
   "cell_type": "code",
   "execution_count": 26,
   "metadata": {
    "ExecuteTime": {
     "end_time": "2023-10-24T13:23:15.792232Z",
     "start_time": "2023-10-24T13:23:15.744705Z"
    }
   },
   "outputs": [
    {
     "data": {
      "text/plain": [
       "False"
      ]
     },
     "execution_count": 26,
     "metadata": {},
     "output_type": "execute_result"
    }
   ],
   "source": [
    "# As shown above, there are no outliers in the training data.\n",
    "\n",
    "# Only the soft version of PLSDA can do this check.\n",
    "soft_plsda.check_outliers().any()"
   ]
  },
  {
   "cell_type": "code",
   "execution_count": 27,
   "metadata": {
    "ExecuteTime": {
     "end_time": "2023-10-24T13:23:49.476283Z",
     "start_time": "2023-10-24T13:23:49.367593Z"
    }
   },
   "outputs": [
    {
     "name": "stdout",
     "output_type": "stream",
     "text": [
      "Test set TEFF = 0.983\n",
      "Train set TEFF = 0.975\n"
     ]
    }
   ],
   "source": [
    "print(\n",
    "    'Test set TEFF = {}\\nTrain set TEFF = {}'.format(\n",
    "        '%.3f'%soft_plsda.score(X_test, y_test),\n",
    "        '%.3f'%soft_plsda.score(X_train, y_train)\n",
    "    )\n",
    ")"
   ]
  },
  {
   "cell_type": "code",
   "execution_count": 28,
   "metadata": {
    "ExecuteTime": {
     "end_time": "2023-10-24T13:23:50.600114Z",
     "start_time": "2023-10-24T13:23:50.554776Z"
    },
    "colab": {
     "base_uri": "https://localhost:8080/"
    },
    "executionInfo": {
     "elapsed": 210,
     "status": "ok",
     "timestamp": 1644609238239,
     "user": {
      "displayName": "Nathan Mahynski",
      "photoUrl": "https://lh3.googleusercontent.com/a-/AOh14GiUlAIKCPEpbG_va5l0d5MOrKuPRHHZGu7-AEYw-A=s64",
      "userId": "00044706541353398741"
     },
     "user_tz": 300
    },
    "id": "PJMJLkpWO8Oq",
    "outputId": "5498580c-6268-49bc-bd68-85a82e2349ce"
   },
   "outputs": [
    {
     "data": {
      "text/plain": [
       "[['setosa'],\n",
       " ['virginica'],\n",
       " ['versicolor'],\n",
       " ['setosa'],\n",
       " ['versicolor'],\n",
       " ['virginica'],\n",
       " ['versicolor'],\n",
       " ['versicolor', 'virginica'],\n",
       " ['virginica'],\n",
       " ['virginica']]"
      ]
     },
     "execution_count": 28,
     "metadata": {},
     "output_type": "execute_result"
    }
   ],
   "source": [
    "# Samples can now be predicted to belong to multiple classes.\n",
    "train_pred[:10]"
   ]
  },
  {
   "cell_type": "code",
   "execution_count": 29,
   "metadata": {
    "ExecuteTime": {
     "end_time": "2023-10-24T13:23:53.004941Z",
     "start_time": "2023-10-24T13:23:52.924393Z"
    },
    "executionInfo": {
     "elapsed": 13,
     "status": "ok",
     "timestamp": 1644609238240,
     "user": {
      "displayName": "Nathan Mahynski",
      "photoUrl": "https://lh3.googleusercontent.com/a-/AOh14GiUlAIKCPEpbG_va5l0d5MOrKuPRHHZGu7-AEYw-A=s64",
      "userId": "00044706541353398741"
     },
     "user_tz": 300
    },
    "id": "CTaEkw4RO8Oq"
   },
   "outputs": [
    {
     "name": "stdout",
     "output_type": "stream",
     "text": [
      "0.9666666666666667 0.9833333333333333 0.9749643868139777\n"
     ]
    }
   ],
   "source": [
    "# More complete figures of merit can be computed.\n",
    "fom = soft_plsda.figures_of_merit(train_pred, y_train)\n",
    "\n",
    "# For Soft PLS-DA TEFF, TSPS, and TSNS are generally different\n",
    "print(fom['TSNS'], fom['TSPS'], fom['TEFF'])"
   ]
  },
  {
   "cell_type": "code",
   "execution_count": 30,
   "metadata": {
    "ExecuteTime": {
     "end_time": "2023-10-24T13:23:53.674867Z",
     "start_time": "2023-10-24T13:23:53.635621Z"
    }
   },
   "outputs": [
    {
     "data": {
      "text/plain": [
       "setosa        40\n",
       "versicolor    40\n",
       "virginica     40\n",
       "dtype: int64"
      ]
     },
     "execution_count": 30,
     "metadata": {},
     "output_type": "execute_result"
    }
   ],
   "source": [
    "fom['I']"
   ]
  },
  {
   "cell_type": "code",
   "execution_count": 31,
   "metadata": {
    "ExecuteTime": {
     "end_time": "2023-10-24T13:23:55.375907Z",
     "start_time": "2023-10-24T13:23:55.326463Z"
    },
    "colab": {
     "base_uri": "https://localhost:8080/",
     "height": 143
    },
    "executionInfo": {
     "elapsed": 172,
     "status": "ok",
     "timestamp": 1644609238402,
     "user": {
      "displayName": "Nathan Mahynski",
      "photoUrl": "https://lh3.googleusercontent.com/a-/AOh14GiUlAIKCPEpbG_va5l0d5MOrKuPRHHZGu7-AEYw-A=s64",
      "userId": "00044706541353398741"
     },
     "user_tz": 300
    },
    "id": "5_L1fPI7O8Oq",
    "outputId": "17335f47-e04d-4f31-e8a0-40870fc906e7"
   },
   "outputs": [
    {
     "data": {
      "text/html": [
       "<div>\n",
       "<style scoped>\n",
       "    .dataframe tbody tr th:only-of-type {\n",
       "        vertical-align: middle;\n",
       "    }\n",
       "\n",
       "    .dataframe tbody tr th {\n",
       "        vertical-align: top;\n",
       "    }\n",
       "\n",
       "    .dataframe thead th {\n",
       "        text-align: right;\n",
       "    }\n",
       "</style>\n",
       "<table border=\"1\" class=\"dataframe\">\n",
       "  <thead>\n",
       "    <tr style=\"text-align: right;\">\n",
       "      <th></th>\n",
       "      <th>setosa</th>\n",
       "      <th>versicolor</th>\n",
       "      <th>virginica</th>\n",
       "      <th>UNKNOWN</th>\n",
       "    </tr>\n",
       "  </thead>\n",
       "  <tbody>\n",
       "    <tr>\n",
       "      <th>setosa</th>\n",
       "      <td>38</td>\n",
       "      <td>0</td>\n",
       "      <td>0</td>\n",
       "      <td>2</td>\n",
       "    </tr>\n",
       "    <tr>\n",
       "      <th>versicolor</th>\n",
       "      <td>0</td>\n",
       "      <td>39</td>\n",
       "      <td>3</td>\n",
       "      <td>0</td>\n",
       "    </tr>\n",
       "    <tr>\n",
       "      <th>virginica</th>\n",
       "      <td>0</td>\n",
       "      <td>1</td>\n",
       "      <td>39</td>\n",
       "      <td>1</td>\n",
       "    </tr>\n",
       "  </tbody>\n",
       "</table>\n",
       "</div>"
      ],
      "text/plain": [
       "            setosa  versicolor  virginica  UNKNOWN\n",
       "setosa          38           0          0        2\n",
       "versicolor       0          39          3        0\n",
       "virginica        0           1         39        1"
      ]
     },
     "execution_count": 31,
     "metadata": {},
     "output_type": "execute_result"
    }
   ],
   "source": [
    "# The soft model can predict that things are unknown and that they might belong to multiple classes.\n",
    "# Observe that there of 40 versicolor samples, there are 40 assignments to versicolor and 4 to virginica (40 + 4 > 40),\n",
    "# because some are assigned to both categories.\n",
    "\n",
    "fom['CM']"
   ]
  },
  {
   "cell_type": "code",
   "execution_count": 32,
   "metadata": {
    "ExecuteTime": {
     "end_time": "2023-10-24T13:23:56.558110Z",
     "start_time": "2023-10-24T13:23:56.487927Z"
    }
   },
   "outputs": [
    {
     "data": {
      "text/html": [
       "<div>\n",
       "<style scoped>\n",
       "    .dataframe tbody tr th:only-of-type {\n",
       "        vertical-align: middle;\n",
       "    }\n",
       "\n",
       "    .dataframe tbody tr th {\n",
       "        vertical-align: top;\n",
       "    }\n",
       "\n",
       "    .dataframe thead th {\n",
       "        text-align: right;\n",
       "    }\n",
       "</style>\n",
       "<table border=\"1\" class=\"dataframe\">\n",
       "  <thead>\n",
       "    <tr style=\"text-align: right;\">\n",
       "      <th></th>\n",
       "      <th>setosa</th>\n",
       "      <th>versicolor</th>\n",
       "      <th>virginica</th>\n",
       "      <th>UNKNOWN</th>\n",
       "    </tr>\n",
       "  </thead>\n",
       "  <tbody>\n",
       "    <tr>\n",
       "      <th>setosa</th>\n",
       "      <td>10</td>\n",
       "      <td>0</td>\n",
       "      <td>0</td>\n",
       "      <td>0</td>\n",
       "    </tr>\n",
       "    <tr>\n",
       "      <th>versicolor</th>\n",
       "      <td>0</td>\n",
       "      <td>10</td>\n",
       "      <td>1</td>\n",
       "      <td>0</td>\n",
       "    </tr>\n",
       "    <tr>\n",
       "      <th>virginica</th>\n",
       "      <td>0</td>\n",
       "      <td>1</td>\n",
       "      <td>10</td>\n",
       "      <td>0</td>\n",
       "    </tr>\n",
       "  </tbody>\n",
       "</table>\n",
       "</div>"
      ],
      "text/plain": [
       "            setosa  versicolor  virginica  UNKNOWN\n",
       "setosa          10           0          0        0\n",
       "versicolor       0          10          1        0\n",
       "virginica        0           1         10        0"
      ]
     },
     "execution_count": 32,
     "metadata": {},
     "output_type": "execute_result"
    }
   ],
   "source": [
    "fom = soft_plsda.figures_of_merit(soft_plsda.predict(X_test), y_test)\n",
    "fom['CM']"
   ]
  },
  {
   "cell_type": "code",
   "execution_count": 33,
   "metadata": {
    "ExecuteTime": {
     "end_time": "2023-10-24T13:24:00.462055Z",
     "start_time": "2023-10-24T13:23:59.263263Z"
    },
    "scrolled": false
   },
   "outputs": [
    {
     "data": {
      "text/plain": [
       "<matplotlib.legend.Legend at 0x7f0cbcb8b290>"
      ]
     },
     "execution_count": 33,
     "metadata": {},
     "output_type": "execute_result"
    },
    {
     "data": {
      "image/png": "[encoded data removed]",
      "text/plain": [
       "<Figure size 800x600 with 1 Axes>"
      ]
     },
     "metadata": {},
     "output_type": "display_data"
    }
   ],
   "source": [
    "# We can plot the test on the training set like this\n",
    "fig, ax = plt.subplots(nrows=1, ncols=1, figsize=(8,6))\n",
    "ax = soft_plsda.visualize(styles=['soft'], ax=ax)\n",
    "\n",
    "test_set_proj = soft_plsda.transform(X_test)\n",
    "for color_, class_ in zip(['cyan', 'magenta', 'black'], names.values()):\n",
    "    mask = y_test == class_\n",
    "    ax.plot(test_set_proj[mask,0], test_set_proj[mask,1], '*', color=color_, label='{} (Test)'.format(class_))\n",
    "ax.legend(loc='best')"
   ]
  },
  {
   "cell_type": "markdown",
   "metadata": {
    "id": "QhBdZmG1O8Ot"
   },
   "source": [
    "Optimizing the Model\n",
    "---"
   ]
  },
  {
   "cell_type": "markdown",
   "metadata": {
    "id": "MzcX6ZHRO8Ot"
   },
   "source": [
    "Here we took alpha as a meaningful choice of type I error rate, but it could also be adjusted.  Moreover, we arbitrarily selected the number of PCs to use in the PLSDA model.  We can use scikit-learn's pipelines to automatically optimize hyperparameters like this.\n"
   ]
  },
  {
   "cell_type": "code",
   "execution_count": 34,
   "metadata": {
    "ExecuteTime": {
     "end_time": "2023-10-24T13:24:08.546263Z",
     "start_time": "2023-10-24T13:24:05.429305Z"
    },
    "executionInfo": {
     "elapsed": 11839,
     "status": "ok",
     "timestamp": 1644609251104,
     "user": {
      "displayName": "Nathan Mahynski",
      "photoUrl": "https://lh3.googleusercontent.com/a-/AOh14GiUlAIKCPEpbG_va5l0d5MOrKuPRHHZGu7-AEYw-A=s64",
      "userId": "00044706541353398741"
     },
     "user_tz": 300
    },
    "id": "YNWjTOvZO8Ou"
   },
   "outputs": [],
   "source": [
    "pipeline = imblearn.pipeline.Pipeline(\n",
    "    steps=[\n",
    "        (\"plsda\", PLSDA(\n",
    "            n_components=5, \n",
    "            alpha=0.05,\n",
    "            scale_x=True, \n",
    "            not_assigned='UNKNOWN',\n",
    "            style='soft', \n",
    "            score_metric='TEFF'\n",
    "        )\n",
    "    )\n",
    "])\n",
    "\n",
    "# Let's optimize the TEFF of the model and allow alpha to vary - this is a \"compliant\" approach.\n",
    "param_grid = [{\n",
    "    'plsda__n_components':[3, 4],\n",
    "    'plsda__alpha': [0.07, 0.05, 0.03, 0.01],\n",
    "}]\n",
    "\n",
    "gs = GridSearchCV(\n",
    "    estimator=pipeline,\n",
    "    param_grid=param_grid,\n",
    "    n_jobs=-1,\n",
    "    cv=sklearn.model_selection.StratifiedKFold(n_splits=3, shuffle=True, random_state=0),\n",
    "    error_score=0,\n",
    "    refit=True\n",
    ")\n",
    "\n",
    "_ = gs.fit(X_train, y_train)"
   ]
  },
  {
   "cell_type": "code",
   "execution_count": 35,
   "metadata": {
    "ExecuteTime": {
     "end_time": "2023-10-24T13:24:10.836306Z",
     "start_time": "2023-10-24T13:24:10.786716Z"
    },
    "colab": {
     "base_uri": "https://localhost:8080/"
    },
    "executionInfo": {
     "elapsed": 15,
     "status": "ok",
     "timestamp": 1644609251106,
     "user": {
      "displayName": "Nathan Mahynski",
      "photoUrl": "https://lh3.googleusercontent.com/a-/AOh14GiUlAIKCPEpbG_va5l0d5MOrKuPRHHZGu7-AEYw-A=s64",
      "userId": "00044706541353398741"
     },
     "user_tz": 300
    },
    "id": "sYN-zEJNO8Ou",
    "outputId": "1b635dbd-898e-4877-c911-f9b12d0079ce"
   },
   "outputs": [
    {
     "data": {
      "text/plain": [
       "{'plsda__alpha': 0.03, 'plsda__n_components': 3}"
      ]
     },
     "execution_count": 35,
     "metadata": {},
     "output_type": "execute_result"
    }
   ],
   "source": [
    "# The best parameters found can be accessed like this:\n",
    "gs.best_params_"
   ]
  },
  {
   "cell_type": "code",
   "execution_count": 36,
   "metadata": {
    "ExecuteTime": {
     "end_time": "2023-10-24T13:24:12.401781Z",
     "start_time": "2023-10-24T13:24:12.356518Z"
    },
    "colab": {
     "base_uri": "https://localhost:8080/"
    },
    "executionInfo": {
     "elapsed": 229,
     "status": "ok",
     "timestamp": 1644609251326,
     "user": {
      "displayName": "Nathan Mahynski",
      "photoUrl": "https://lh3.googleusercontent.com/a-/AOh14GiUlAIKCPEpbG_va5l0d5MOrKuPRHHZGu7-AEYw-A=s64",
      "userId": "00044706541353398741"
     },
     "user_tz": 300
    },
    "id": "7c7gdTBYO8Ow",
    "outputId": "3cd6faa3-8474-46b8-98a0-392c4c8cc7aa"
   },
   "outputs": [
    {
     "data": {
      "text/plain": [
       "0.9727739913024074"
      ]
     },
     "execution_count": 36,
     "metadata": {},
     "output_type": "execute_result"
    }
   ],
   "source": [
    "gs.best_score_ # The best score (TEFF) it recieved was..."
   ]
  },
  {
   "cell_type": "code",
   "execution_count": 37,
   "metadata": {
    "ExecuteTime": {
     "end_time": "2023-10-24T13:24:14.137389Z",
     "start_time": "2023-10-24T13:24:14.090950Z"
    },
    "colab": {
     "base_uri": "https://localhost:8080/"
    },
    "executionInfo": {
     "elapsed": 22,
     "status": "ok",
     "timestamp": 1644609251327,
     "user": {
      "displayName": "Nathan Mahynski",
      "photoUrl": "https://lh3.googleusercontent.com/a-/AOh14GiUlAIKCPEpbG_va5l0d5MOrKuPRHHZGu7-AEYw-A=s64",
      "userId": "00044706541353398741"
     },
     "user_tz": 300
    },
    "id": "5b7CF_iNO8Ow",
    "outputId": "43ab61ba-bd20-4188-e76c-ed837532f8f1",
    "tags": []
   },
   "outputs": [
    {
     "data": {
      "text/plain": [
       "{'mean_fit_time': array([0.01182985, 0.00974123, 0.00688132, 0.00736856, 0.00848118,\n",
       "        0.00918102, 0.00857313, 0.00862972]),\n",
       " 'std_fit_time': array([0.0050743 , 0.00199168, 0.00044357, 0.0004195 , 0.00116548,\n",
       "        0.00172062, 0.00118262, 0.00221402]),\n",
       " 'mean_score_time': array([0.02065492, 0.01567006, 0.01380634, 0.01392007, 0.0171481 ,\n",
       "        0.01713689, 0.01476375, 0.01814691]),\n",
       " 'std_score_time': array([0.00673598, 0.00107659, 0.000527  , 0.00092934, 0.00247277,\n",
       "        0.00439224, 0.00096842, 0.00557072]),\n",
       " 'param_plsda__alpha': masked_array(data=[0.07, 0.07, 0.05, 0.05, 0.03, 0.03, 0.01, 0.01],\n",
       "              mask=[False, False, False, False, False, False, False, False],\n",
       "        fill_value='?',\n",
       "             dtype=object),\n",
       " 'param_plsda__n_components': masked_array(data=[3, 4, 3, 4, 3, 4, 3, 4],\n",
       "              mask=[False, False, False, False, False, False, False, False],\n",
       "        fill_value='?',\n",
       "             dtype=object),\n",
       " 'params': [{'plsda__alpha': 0.07, 'plsda__n_components': 3},\n",
       "  {'plsda__alpha': 0.07, 'plsda__n_components': 4},\n",
       "  {'plsda__alpha': 0.05, 'plsda__n_components': 3},\n",
       "  {'plsda__alpha': 0.05, 'plsda__n_components': 4},\n",
       "  {'plsda__alpha': 0.03, 'plsda__n_components': 3},\n",
       "  {'plsda__alpha': 0.03, 'plsda__n_components': 4},\n",
       "  {'plsda__alpha': 0.01, 'plsda__n_components': 3},\n",
       "  {'plsda__alpha': 0.01, 'plsda__n_components': 4}],\n",
       " 'split0_test_score': array([0.9812301 , 0.9617692 , 0.9812301 , 0.9812301 , 0.9812301 ,\n",
       "        0.9812301 , 0.949671  , 0.98107084]),\n",
       " 'split1_test_score': array([0.9367497 , 0.94273538, 0.975     , 0.96856853, 0.98742088,\n",
       "        0.98742088, 0.96824584, 0.96824584]),\n",
       " 'split2_test_score': array([0.90260041, 0.92954962, 0.92954962, 0.92954962, 0.949671  ,\n",
       "        0.93072552, 0.95622957, 0.94356372]),\n",
       " 'mean_test_score': array([0.9401934 , 0.94468474, 0.96192657, 0.95978275, 0.97277399,\n",
       "        0.96645883, 0.9580488 , 0.96429347]),\n",
       " 'std_test_score': array([0.03219266, 0.01322561, 0.02303481, 0.02199409, 0.01653063,\n",
       "        0.02539335, 0.00769148, 0.01556517]),\n",
       " 'rank_test_score': array([8, 7, 4, 5, 1, 2, 6, 3], dtype=int32)}"
      ]
     },
     "execution_count": 37,
     "metadata": {},
     "output_type": "execute_result"
    }
   ],
   "source": [
    "# You can see detailed CV results here\n",
    "gs.cv_results_"
   ]
  },
  {
   "cell_type": "code",
   "execution_count": 38,
   "metadata": {
    "ExecuteTime": {
     "end_time": "2023-10-24T13:24:16.305369Z",
     "start_time": "2023-10-24T13:24:16.250267Z"
    },
    "colab": {
     "base_uri": "https://localhost:8080/"
    },
    "executionInfo": {
     "elapsed": 328,
     "status": "ok",
     "timestamp": 1644609251644,
     "user": {
      "displayName": "Nathan Mahynski",
      "photoUrl": "https://lh3.googleusercontent.com/a-/AOh14GiUlAIKCPEpbG_va5l0d5MOrKuPRHHZGu7-AEYw-A=s64",
      "userId": "00044706541353398741"
     },
     "user_tz": 300
    },
    "id": "amXc9i0VO8Ox",
    "outputId": "6a0f7166-f727-4f7b-ea70-94d1a78e073e"
   },
   "outputs": [
    {
     "data": {
      "text/plain": [
       "[['setosa'],\n",
       " ['virginica'],\n",
       " ['versicolor'],\n",
       " ['versicolor'],\n",
       " ['setosa'],\n",
       " ['versicolor'],\n",
       " ['setosa'],\n",
       " ['setosa'],\n",
       " ['virginica'],\n",
       " ['versicolor']]"
      ]
     },
     "execution_count": 38,
     "metadata": {},
     "output_type": "execute_result"
    }
   ],
   "source": [
    "# The refit=True (default) refits the model with best parameters on the entire training set at the end so you can \n",
    "# use the pipeline directly.\n",
    "gs.predict(X_test)[:10]"
   ]
  },
  {
   "cell_type": "code",
   "execution_count": 39,
   "metadata": {
    "ExecuteTime": {
     "end_time": "2023-10-24T13:24:18.445214Z",
     "start_time": "2023-10-24T13:24:17.363208Z"
    },
    "colab": {
     "base_uri": "https://localhost:8080/",
     "height": 297
    },
    "executionInfo": {
     "elapsed": 5030,
     "status": "ok",
     "timestamp": 1644609256669,
     "user": {
      "displayName": "Nathan Mahynski",
      "photoUrl": "https://lh3.googleusercontent.com/a-/AOh14GiUlAIKCPEpbG_va5l0d5MOrKuPRHHZGu7-AEYw-A=s64",
      "userId": "00044706541353398741"
     },
     "user_tz": 300
    },
    "id": "qislNPlaO8Oy",
    "outputId": "75a2a7c0-3d95-490b-c2ea-c3c4fd6ba90a"
   },
   "outputs": [
    {
     "data": {
      "image/png": "[encoded data removed]",
      "text/plain": [
       "<Figure size 640x480 with 1 Axes>"
      ]
     },
     "metadata": {},
     "output_type": "display_data"
    }
   ],
   "source": [
    "# Within the pipeline you can access individual steps, and their methods.\n",
    "_ = gs.best_estimator_.named_steps['plsda'].visualize(styles=['hard', 'soft'])"
   ]
  },
  {
   "cell_type": "code",
   "execution_count": 40,
   "metadata": {
    "ExecuteTime": {
     "end_time": "2023-10-24T13:24:25.028385Z",
     "start_time": "2023-10-24T13:24:24.958739Z"
    },
    "colab": {
     "base_uri": "https://localhost:8080/"
    },
    "executionInfo": {
     "elapsed": 16,
     "status": "ok",
     "timestamp": 1644609256672,
     "user": {
      "displayName": "Nathan Mahynski",
      "photoUrl": "https://lh3.googleusercontent.com/a-/AOh14GiUlAIKCPEpbG_va5l0d5MOrKuPRHHZGu7-AEYw-A=s64",
      "userId": "00044706541353398741"
     },
     "user_tz": 300
    },
    "id": "G4l_KDClO8Oy",
    "outputId": "9ed52d1a-66c8-4431-c29a-838c7e566462"
   },
   "outputs": [
    {
     "data": {
      "text/plain": [
       "0.9791578013783069"
      ]
     },
     "execution_count": 40,
     "metadata": {},
     "output_type": "execute_result"
    }
   ],
   "source": [
    "gs.best_estimator_.named_steps['plsda'].score(X_train, y_train) # This is TEFF"
   ]
  },
  {
   "cell_type": "code",
   "execution_count": 41,
   "metadata": {
    "ExecuteTime": {
     "end_time": "2023-10-24T13:24:25.880882Z",
     "start_time": "2023-10-24T13:24:25.813242Z"
    },
    "executionInfo": {
     "elapsed": 224,
     "status": "ok",
     "timestamp": 1644609256886,
     "user": {
      "displayName": "Nathan Mahynski",
      "photoUrl": "https://lh3.googleusercontent.com/a-/AOh14GiUlAIKCPEpbG_va5l0d5MOrKuPRHHZGu7-AEYw-A=s64",
      "userId": "00044706541353398741"
     },
     "user_tz": 300
    },
    "id": "jEkpmZU4O8Oy"
   },
   "outputs": [],
   "source": [
    "train_pred = gs.best_estimator_.named_steps['plsda'].predict(X_train)\n",
    "fom = gs.best_estimator_.named_steps['plsda'].figures_of_merit(train_pred, y_train)"
   ]
  },
  {
   "cell_type": "code",
   "execution_count": 42,
   "metadata": {
    "ExecuteTime": {
     "end_time": "2023-10-24T13:24:26.463742Z",
     "start_time": "2023-10-24T13:24:26.420848Z"
    },
    "colab": {
     "base_uri": "https://localhost:8080/"
    },
    "executionInfo": {
     "elapsed": 35,
     "status": "ok",
     "timestamp": 1644609256888,
     "user": {
      "displayName": "Nathan Mahynski",
      "photoUrl": "https://lh3.googleusercontent.com/a-/AOh14GiUlAIKCPEpbG_va5l0d5MOrKuPRHHZGu7-AEYw-A=s64",
      "userId": "00044706541353398741"
     },
     "user_tz": 300
    },
    "id": "vUE2OVr3O8Oz",
    "outputId": "6694ffba-cc27-40db-fb1f-1e3b8e2095b7"
   },
   "outputs": [
    {
     "data": {
      "text/html": [
       "<div>\n",
       "<style scoped>\n",
       "    .dataframe tbody tr th:only-of-type {\n",
       "        vertical-align: middle;\n",
       "    }\n",
       "\n",
       "    .dataframe tbody tr th {\n",
       "        vertical-align: top;\n",
       "    }\n",
       "\n",
       "    .dataframe thead th {\n",
       "        text-align: right;\n",
       "    }\n",
       "</style>\n",
       "<table border=\"1\" class=\"dataframe\">\n",
       "  <thead>\n",
       "    <tr style=\"text-align: right;\">\n",
       "      <th></th>\n",
       "      <th>setosa</th>\n",
       "      <th>versicolor</th>\n",
       "      <th>virginica</th>\n",
       "      <th>UNKNOWN</th>\n",
       "    </tr>\n",
       "  </thead>\n",
       "  <tbody>\n",
       "    <tr>\n",
       "      <th>setosa</th>\n",
       "      <td>39</td>\n",
       "      <td>0</td>\n",
       "      <td>0</td>\n",
       "      <td>1</td>\n",
       "    </tr>\n",
       "    <tr>\n",
       "      <th>versicolor</th>\n",
       "      <td>0</td>\n",
       "      <td>40</td>\n",
       "      <td>4</td>\n",
       "      <td>0</td>\n",
       "    </tr>\n",
       "    <tr>\n",
       "      <th>virginica</th>\n",
       "      <td>0</td>\n",
       "      <td>2</td>\n",
       "      <td>39</td>\n",
       "      <td>1</td>\n",
       "    </tr>\n",
       "  </tbody>\n",
       "</table>\n",
       "</div>"
      ],
      "text/plain": [
       "            setosa  versicolor  virginica  UNKNOWN\n",
       "setosa          39           0          0        1\n",
       "versicolor       0          40          4        0\n",
       "virginica        0           2         39        1"
      ]
     },
     "execution_count": 42,
     "metadata": {},
     "output_type": "execute_result"
    }
   ],
   "source": [
    "fom['CM']"
   ]
  },
  {
   "cell_type": "code",
   "execution_count": 43,
   "metadata": {
    "ExecuteTime": {
     "end_time": "2023-10-24T13:24:29.322036Z",
     "start_time": "2023-10-24T13:24:29.278756Z"
    },
    "colab": {
     "base_uri": "https://localhost:8080/",
     "height": 143
    },
    "executionInfo": {
     "elapsed": 32,
     "status": "ok",
     "timestamp": 1644609256890,
     "user": {
      "displayName": "Nathan Mahynski",
      "photoUrl": "https://lh3.googleusercontent.com/a-/AOh14GiUlAIKCPEpbG_va5l0d5MOrKuPRHHZGu7-AEYw-A=s64",
      "userId": "00044706541353398741"
     },
     "user_tz": 300
    },
    "id": "NcNo2OgDO8Oz",
    "outputId": "c45e7c84-fc15-4752-e310-69f6cdea4e8d"
   },
   "outputs": [
    {
     "data": {
      "text/plain": [
       "setosa        40\n",
       "versicolor    40\n",
       "virginica     40\n",
       "dtype: int64"
      ]
     },
     "execution_count": 43,
     "metadata": {},
     "output_type": "execute_result"
    }
   ],
   "source": [
    "fom['I']"
   ]
  },
  {
   "cell_type": "code",
   "execution_count": 44,
   "metadata": {
    "ExecuteTime": {
     "end_time": "2023-10-24T13:24:31.257280Z",
     "start_time": "2023-10-24T13:24:31.212088Z"
    },
    "colab": {
     "base_uri": "https://localhost:8080/"
    },
    "executionInfo": {
     "elapsed": 29,
     "status": "ok",
     "timestamp": 1644609256890,
     "user": {
      "displayName": "Nathan Mahynski",
      "photoUrl": "https://lh3.googleusercontent.com/a-/AOh14GiUlAIKCPEpbG_va5l0d5MOrKuPRHHZGu7-AEYw-A=s64",
      "userId": "00044706541353398741"
     },
     "user_tz": 300
    },
    "id": "sUD7mFzJO8O0",
    "outputId": "b65c5903-8f85-4005-e5fd-aec52fbc9320"
   },
   "outputs": [
    {
     "data": {
      "text/plain": [
       "setosa        0.975\n",
       "versicolor    1.000\n",
       "virginica     0.975\n",
       "dtype: float64"
      ]
     },
     "execution_count": 44,
     "metadata": {},
     "output_type": "execute_result"
    }
   ],
   "source": [
    "fom['CSNS']"
   ]
  },
  {
   "cell_type": "code",
   "execution_count": 45,
   "metadata": {
    "ExecuteTime": {
     "end_time": "2023-10-24T13:24:31.953976Z",
     "start_time": "2023-10-24T13:24:31.909499Z"
    },
    "colab": {
     "base_uri": "https://localhost:8080/"
    },
    "executionInfo": {
     "elapsed": 23,
     "status": "ok",
     "timestamp": 1644609256891,
     "user": {
      "displayName": "Nathan Mahynski",
      "photoUrl": "https://lh3.googleusercontent.com/a-/AOh14GiUlAIKCPEpbG_va5l0d5MOrKuPRHHZGu7-AEYw-A=s64",
      "userId": "00044706541353398741"
     },
     "user_tz": 300
    },
    "id": "MMj7IwAXO8O0",
    "outputId": "c82edf4d-a04c-4740-dc59-f3c21db761bb"
   },
   "outputs": [
    {
     "data": {
      "text/plain": [
       "setosa        1.000\n",
       "versicolor    0.975\n",
       "virginica     0.950\n",
       "dtype: float64"
      ]
     },
     "execution_count": 45,
     "metadata": {},
     "output_type": "execute_result"
    }
   ],
   "source": [
    "fom['CSPS']"
   ]
  },
  {
   "cell_type": "code",
   "execution_count": 46,
   "metadata": {
    "ExecuteTime": {
     "end_time": "2023-10-24T13:24:32.559452Z",
     "start_time": "2023-10-24T13:24:32.518539Z"
    },
    "colab": {
     "base_uri": "https://localhost:8080/"
    },
    "executionInfo": {
     "elapsed": 19,
     "status": "ok",
     "timestamp": 1644609256892,
     "user": {
      "displayName": "Nathan Mahynski",
      "photoUrl": "https://lh3.googleusercontent.com/a-/AOh14GiUlAIKCPEpbG_va5l0d5MOrKuPRHHZGu7-AEYw-A=s64",
      "userId": "00044706541353398741"
     },
     "user_tz": 300
    },
    "id": "cQApaI_jO8O0",
    "outputId": "b5ecfc4d-d585-4002-b36b-4d399e259641"
   },
   "outputs": [
    {
     "data": {
      "text/plain": [
       "setosa        0.987421\n",
       "versicolor    0.987421\n",
       "virginica     0.962419\n",
       "dtype: float64"
      ]
     },
     "execution_count": 46,
     "metadata": {},
     "output_type": "execute_result"
    }
   ],
   "source": [
    "fom['CEFF']"
   ]
  },
  {
   "cell_type": "code",
   "execution_count": 47,
   "metadata": {
    "ExecuteTime": {
     "end_time": "2023-10-24T13:24:33.132412Z",
     "start_time": "2023-10-24T13:24:33.090229Z"
    },
    "colab": {
     "base_uri": "https://localhost:8080/"
    },
    "executionInfo": {
     "elapsed": 18,
     "status": "ok",
     "timestamp": 1644609257107,
     "user": {
      "displayName": "Nathan Mahynski",
      "photoUrl": "https://lh3.googleusercontent.com/a-/AOh14GiUlAIKCPEpbG_va5l0d5MOrKuPRHHZGu7-AEYw-A=s64",
      "userId": "00044706541353398741"
     },
     "user_tz": 300
    },
    "id": "xfwv_eCCO8O1",
    "outputId": "bc46f2a6-78f1-43df-ff65-a01dfb8a9ff9"
   },
   "outputs": [
    {
     "data": {
      "text/plain": [
       "(0.975, 0.9833333333333333, 0.9791578013783069)"
      ]
     },
     "execution_count": 47,
     "metadata": {},
     "output_type": "execute_result"
    }
   ],
   "source": [
    "fom['TSPS'], fom['TSNS'], fom['TEFF']"
   ]
  },
  {
   "cell_type": "code",
   "execution_count": 48,
   "metadata": {
    "ExecuteTime": {
     "end_time": "2023-10-24T13:24:35.027524Z",
     "start_time": "2023-10-24T13:24:34.980725Z"
    },
    "colab": {
     "base_uri": "https://localhost:8080/"
    },
    "executionInfo": {
     "elapsed": 17,
     "status": "ok",
     "timestamp": 1644609257109,
     "user": {
      "displayName": "Nathan Mahynski",
      "photoUrl": "https://lh3.googleusercontent.com/a-/AOh14GiUlAIKCPEpbG_va5l0d5MOrKuPRHHZGu7-AEYw-A=s64",
      "userId": "00044706541353398741"
     },
     "user_tz": 300
    },
    "id": "GlAs7gw0O8O1",
    "outputId": "33978be0-b9e2-4691-99d7-6eb8f031344e"
   },
   "outputs": [
    {
     "data": {
      "text/plain": [
       "False"
      ]
     },
     "execution_count": 48,
     "metadata": {},
     "output_type": "execute_result"
    }
   ],
   "source": [
    "np.any(gs.best_estimator_.named_steps['plsda'].check_outliers())"
   ]
  },
  {
   "cell_type": "code",
   "execution_count": 49,
   "metadata": {
    "ExecuteTime": {
     "end_time": "2023-10-24T13:24:35.846218Z",
     "start_time": "2023-10-24T13:24:35.782420Z"
    },
    "colab": {
     "base_uri": "https://localhost:8080/"
    },
    "executionInfo": {
     "elapsed": 12,
     "status": "ok",
     "timestamp": 1644609257109,
     "user": {
      "displayName": "Nathan Mahynski",
      "photoUrl": "https://lh3.googleusercontent.com/a-/AOh14GiUlAIKCPEpbG_va5l0d5MOrKuPRHHZGu7-AEYw-A=s64",
      "userId": "00044706541353398741"
     },
     "user_tz": 300
    },
    "id": "gCdm0c5mO8O2",
    "outputId": "758462b9-db43-4c25-d496-e5d86f7473b7"
   },
   "outputs": [
    {
     "data": {
      "text/plain": [
       "0.9746794344808963"
      ]
     },
     "execution_count": 49,
     "metadata": {},
     "output_type": "execute_result"
    }
   ],
   "source": [
    "# Test set performance\n",
    "gs.best_estimator_.named_steps['plsda'].score(X_test, y_test) # The score being used here is TEFF"
   ]
  },
  {
   "cell_type": "code",
   "execution_count": 50,
   "metadata": {
    "ExecuteTime": {
     "end_time": "2023-10-24T13:24:36.566305Z",
     "start_time": "2023-10-24T13:24:36.506158Z"
    },
    "executionInfo": {
     "elapsed": 213,
     "status": "ok",
     "timestamp": 1644609257317,
     "user": {
      "displayName": "Nathan Mahynski",
      "photoUrl": "https://lh3.googleusercontent.com/a-/AOh14GiUlAIKCPEpbG_va5l0d5MOrKuPRHHZGu7-AEYw-A=s64",
      "userId": "00044706541353398741"
     },
     "user_tz": 300
    },
    "id": "MpvxWw3AO8O3"
   },
   "outputs": [],
   "source": [
    "test_pred = gs.best_estimator_.named_steps['plsda'].predict(X_test)\n",
    "fom = gs.best_estimator_.named_steps['plsda'].figures_of_merit(test_pred, y_test)"
   ]
  },
  {
   "cell_type": "code",
   "execution_count": 51,
   "metadata": {
    "ExecuteTime": {
     "end_time": "2023-10-24T13:24:37.858111Z",
     "start_time": "2023-10-24T13:24:37.809094Z"
    },
    "colab": {
     "base_uri": "https://localhost:8080/",
     "height": 81
    },
    "executionInfo": {
     "elapsed": 28,
     "status": "ok",
     "timestamp": 1644609257325,
     "user": {
      "displayName": "Nathan Mahynski",
      "photoUrl": "https://lh3.googleusercontent.com/a-/AOh14GiUlAIKCPEpbG_va5l0d5MOrKuPRHHZGu7-AEYw-A=s64",
      "userId": "00044706541353398741"
     },
     "user_tz": 300
    },
    "id": "zYdWp0hnO8O5",
    "outputId": "851a403c-edcc-44fd-8430-d1d2ba91be73"
   },
   "outputs": [
    {
     "data": {
      "text/html": [
       "<div>\n",
       "<style scoped>\n",
       "    .dataframe tbody tr th:only-of-type {\n",
       "        vertical-align: middle;\n",
       "    }\n",
       "\n",
       "    .dataframe tbody tr th {\n",
       "        vertical-align: top;\n",
       "    }\n",
       "\n",
       "    .dataframe thead th {\n",
       "        text-align: right;\n",
       "    }\n",
       "</style>\n",
       "<table border=\"1\" class=\"dataframe\">\n",
       "  <thead>\n",
       "    <tr style=\"text-align: right;\">\n",
       "      <th></th>\n",
       "      <th>setosa</th>\n",
       "      <th>versicolor</th>\n",
       "      <th>virginica</th>\n",
       "      <th>UNKNOWN</th>\n",
       "    </tr>\n",
       "  </thead>\n",
       "  <tbody>\n",
       "    <tr>\n",
       "      <th>setosa</th>\n",
       "      <td>10</td>\n",
       "      <td>0</td>\n",
       "      <td>0</td>\n",
       "      <td>0</td>\n",
       "    </tr>\n",
       "    <tr>\n",
       "      <th>versicolor</th>\n",
       "      <td>0</td>\n",
       "      <td>10</td>\n",
       "      <td>1</td>\n",
       "      <td>0</td>\n",
       "    </tr>\n",
       "    <tr>\n",
       "      <th>virginica</th>\n",
       "      <td>0</td>\n",
       "      <td>2</td>\n",
       "      <td>10</td>\n",
       "      <td>0</td>\n",
       "    </tr>\n",
       "  </tbody>\n",
       "</table>\n",
       "</div>"
      ],
      "text/plain": [
       "            setosa  versicolor  virginica  UNKNOWN\n",
       "setosa          10           0          0        0\n",
       "versicolor       0          10          1        0\n",
       "virginica        0           2         10        0"
      ]
     },
     "execution_count": 51,
     "metadata": {},
     "output_type": "execute_result"
    }
   ],
   "source": [
    "fom['CM']"
   ]
  }
 ],
 "metadata": {
  "colab": {
   "collapsed_sections": [],
   "name": "plsda_example.ipynb",
   "provenance": []
  },
  "kernelspec": {
   "display_name": "oyster-provenance",
   "language": "python",
   "name": "oyster-provenance"
  },
  "language_info": {
   "codemirror_mode": {
    "name": "ipython",
    "version": 3
   },
   "file_extension": ".py",
   "mimetype": "text/x-python",
   "name": "python",
   "nbconvert_exporter": "python",
   "pygments_lexer": "ipython3",
   "version": "3.11.4"
  },
  "toc": {
   "base_numbering": 1,
   "nav_menu": {},
   "number_sections": true,
   "sideBar": true,
   "skip_h1_title": false,
   "title_cell": "Table of Contents",
   "title_sidebar": "Contents",
   "toc_cell": true,
   "toc_position": {},
   "toc_section_display": true,
   "toc_window_display": false
  }
 },
 "nbformat": 4,
 "nbformat_minor": 4
}
