{
 "cells": [
  {
   "cell_type": "markdown",
   "id": "94cf845e",
   "metadata": {
    "ExecuteTime": {
     "end_time": "2024-08-02T20:02:58.297981Z",
     "start_time": "2024-08-02T20:02:58.274442Z"
    }
   },
   "source": [
    "Classifying Spectra with Convolutional Neural Networks (CNNs)\n",
    "===\n",
    "\n"
   ]
  },
  {
   "cell_type": "markdown",
   "id": "03808c5a",
   "metadata": {},
   "source": [
    "Author: Nathan A. Mahynski\n",
    "    \n",
    "Date: 2024/08/02\n",
    "    \n",
    "Description: Examples of how to classify 1D spectra and 2D \"images\" using explainable CNNs.\n",
    "\n",
    "[![Open In Colab](https://colab.research.google.com/assets/colab-badge.svg)](https://colab.research.google.com/github/mahynski/pychemauth/blob/main/docs/jupyter/api/cnn_spectral_classification.ipynb)"
   ]
  },
  {
   "cell_type": "code",
   "execution_count": 1,
   "id": "b53635d5",
   "metadata": {
    "ExecuteTime": {
     "end_time": "2024-08-06T18:18:30.934152Z",
     "start_time": "2024-08-06T18:18:30.926755Z"
    }
   },
   "outputs": [],
   "source": [
    "if 'google.colab' in str(get_ipython()):\n",
    "    !pip install git+https://github.com/mahynski/pychemauth@main\n",
    "    import os\n",
    "    os.kill(os.getpid(), 9) # Automatically restart the runtime to reload libraries    "
   ]
  },
  {
   "cell_type": "code",
   "execution_count": 2,
   "id": "ac0a68e3",
   "metadata": {
    "ExecuteTime": {
     "end_time": "2024-08-06T18:18:32.428448Z",
     "start_time": "2024-08-06T18:18:32.419860Z"
    }
   },
   "outputs": [],
   "source": [
    "if 'google.colab' in str(get_ipython()):\n",
    "    # On Colab, check if runtime is attached to a GPU and install a GPU version of tensorflow if available\n",
    "    try:\n",
    "        import subprocess, os\n",
    "        subprocess.run([\"nvidia-smi\"]) \n",
    "    except FileNotFoundError:\n",
    "        pass # No GPU is present\n",
    "    else:\n",
    "        !pip install tensorflow[and-cuda]==2.14.0\n",
    "        os.kill(os.getpid(), 9) # Automatically restart the runtime to reload libraries "
   ]
  },
  {
   "cell_type": "code",
   "execution_count": 4,
   "id": "860db853",
   "metadata": {
    "ExecuteTime": {
     "end_time": "2024-08-06T18:18:41.086754Z",
     "start_time": "2024-08-06T18:18:41.082771Z"
    }
   },
   "outputs": [],
   "source": [
    "# Check for presence of a GPU and list, if using\n",
    "import tensorflow\n",
    "tensorflow.config.list_physical_devices('GPU')"
   ]
  },
  {
   "cell_type": "code",
   "execution_count": 5,
   "id": "8430241a",
   "metadata": {
    "ExecuteTime": {
     "end_time": "2024-08-06T18:18:47.093516Z",
     "start_time": "2024-08-06T18:18:44.636561Z"
    }
   },
   "outputs": [],
   "source": [
    "try:\n",
    "    import pychemauth\n",
    "except:\n",
    "    raise ImportError(\"pychemauth not installed\")\n",
    "\n",
    "import watermark\n",
    "import shap\n",
    "import keras\n",
    "\n",
    "import numpy as np\n",
    "import matplotlib.pyplot as plt\n",
    "\n",
    "from keras import layers\n",
    "from pyts.image import GramianAngularField\n",
    "from pychemauth import utils\n",
    "from pychemauth.datasets import make_pgaa_images, load_pgaa\n",
    "from pychemauth.classifier.cnn import CNNFactory\n",
    "from pychemauth.analysis.explain import CAM2D, color_series, bokeh_color_spectrum\n",
    "from sklearn.model_selection import train_test_split\n",
    "from sklearn.preprocessing import LabelEncoder\n",
    "\n",
    "%load_ext watermark\n",
    "\n",
    "%load_ext autoreload\n",
    "%autoreload 2"
   ]
  },
  {
   "cell_type": "code",
   "execution_count": 6,
   "id": "9f8237f0",
   "metadata": {
    "ExecuteTime": {
     "end_time": "2024-08-06T18:18:47.803030Z",
     "start_time": "2024-08-06T18:18:47.740426Z"
    }
   },
   "outputs": [
    {
     "name": "stdout",
     "output_type": "stream",
     "text": [
      "Python implementation: CPython\n",
      "Python version       : 3.10.0\n",
      "IPython version      : 8.26.0\n",
      "\n",
      "Compiler    : GCC 7.5.0\n",
      "OS          : Linux\n",
      "Release     : 6.5.0-45-generic\n",
      "Machine     : x86_64\n",
      "Processor   : x86_64\n",
      "CPU cores   : 40\n",
      "Architecture: 64bit\n",
      "\n",
      "keras     : 2.14.0\n",
      "matplotlib: 3.7.2\n",
      "watermark : 2.4.3\n",
      "pychemauth: 0.0.0b4\n",
      "numpy     : 1.26.4\n",
      "json      : 2.0.9\n",
      "shap      : 0.45.1\n",
      "tensorflow: 2.14.0\n",
      "\n"
     ]
    }
   ],
   "source": [
    "%watermark -t -m -v --iversions"
   ]
  },
  {
   "cell_type": "markdown",
   "id": "2a2f6a7f",
   "metadata": {},
   "source": [
    "1D CNN\n",
    "---"
   ]
  },
  {
   "cell_type": "markdown",
   "id": "75bcbc92",
   "metadata": {},
   "source": [
    "<h3>Load Data</h3>"
   ]
  },
  {
   "cell_type": "code",
   "execution_count": 7,
   "id": "7af0b5e8",
   "metadata": {
    "ExecuteTime": {
     "end_time": "2024-08-06T18:18:50.977232Z",
     "start_time": "2024-08-06T18:18:50.890435Z"
    }
   },
   "outputs": [],
   "source": [
    "# Let's look at the data over this range of bins.\n",
    "valid_range=(0, 2631)"
   ]
  },
  {
   "cell_type": "code",
   "execution_count": 8,
   "id": "ba044acb",
   "metadata": {
    "ExecuteTime": {
     "end_time": "2024-08-06T18:18:53.509413Z",
     "start_time": "2024-08-06T18:18:51.548358Z"
    }
   },
   "outputs": [],
   "source": [
    "# Load the dataset, clip, then renormalize\n",
    "X, y = load_pgaa(return_X_y=True)\n",
    "X = X[:, valid_range[0] : valid_range[1]]\n",
    "X = (X.T / np.sum(X, axis=1)).T\n",
    "X = np.log(np.clip(X, a_min=1.0e-7, a_max=None))\n",
    "\n",
    "# Also convert X into a \"single channeled image\" with shape (2631, 2631, 1)\n",
    "X = np.expand_dims(X, axis=-1)\n",
    "\n",
    "# Exclude minor components - these have < 10 observations in the dataset\n",
    "mask = np.array([False]*X.shape[0])\n",
    "for class_ in ['Carbon Powder', 'Phosphate Rock', 'Zircaloy']:\n",
    "    mask = mask | (y == class_)\n",
    "X = X[~mask]\n",
    "y = y[~mask]\n",
    "\n",
    "# Split into test/train sets\n",
    "X_train, X_test, y_train, y_test = train_test_split(\n",
    "    X,\n",
    "    y,\n",
    "    test_size=0.2,\n",
    "    random_state=42,\n",
    "    shuffle=True,\n",
    "    stratify=y,\n",
    ")\n",
    "\n",
    "# Convert classes from strings to integers\n",
    "encoder = LabelEncoder()\n",
    "y_train = encoder.fit_transform(y_train)\n",
    "y_test = encoder.transform(y_test)\n",
    "\n",
    "# Record some basic properties about this revised dataset\n",
    "image_size = (valid_range[1]-valid_range[0], 1)\n",
    "n_classes = len(np.unique(y))"
   ]
  },
  {
   "cell_type": "code",
   "execution_count": 9,
   "id": "e61c7f16",
   "metadata": {
    "ExecuteTime": {
     "end_time": "2024-08-06T18:18:53.666384Z",
     "start_time": "2024-08-06T18:18:53.523082Z"
    }
   },
   "outputs": [],
   "source": [
    "# Let's write the dataset to disk so we can create data iterators later on\n",
    "from pychemauth.utils import write_dataset\n",
    "_ = write_dataset('./1d-dataset/train', X_train, y_train, overwrite=True, augment=False)\n",
    "_ = write_dataset('./1d-dataset/test', X_test, y_test, overwrite=True, augment=False)"
   ]
  },
  {
   "cell_type": "markdown",
   "id": "33257fc9",
   "metadata": {},
   "source": [
    "<h3>Learning Rate Finder</h3>"
   ]
  },
  {
   "cell_type": "code",
   "execution_count": 10,
   "id": "2a49cd76",
   "metadata": {
    "ExecuteTime": {
     "end_time": "2024-08-06T18:18:54.578708Z",
     "start_time": "2024-08-06T18:18:54.489952Z"
    }
   },
   "outputs": [],
   "source": [
    "def make_model(image_size, n_classes, activation='relu'):\n",
    "    input_ = keras.layers.Input(shape=image_size)\n",
    "    conv1 = layers.Conv1D(filters=16, kernel_size=16, activation=activation, strides=8, padding='same', use_bias=True)(input_)\n",
    "    pool1 = layers.MaxPool1D(2)(conv1)\n",
    "    conv2 = layers.Conv1D(filters=16*8, kernel_size=8, activation=activation, strides=4, padding='same', use_bias=True)(pool1)\n",
    "    pool2 = layers.MaxPool1D(2)(conv2)\n",
    "    conv3 = layers.Conv1D(filters=16*8*4, kernel_size=8, activation=activation, strides=2, padding='same', use_bias=True)(pool2)\n",
    "    flat = layers.Flatten()(conv3)\n",
    "    output = layers.Dense(n_classes, activation='softmax')(flat)\n",
    "    model = keras.Model(inputs=[input_], outputs=[output])\n",
    "    \n",
    "    return model"
   ]
  },
  {
   "cell_type": "code",
   "execution_count": 11,
   "id": "844fbcdf",
   "metadata": {
    "ExecuteTime": {
     "end_time": "2024-08-06T18:18:57.541763Z",
     "start_time": "2024-08-06T18:18:57.274430Z"
    }
   },
   "outputs": [
    {
     "name": "stderr",
     "output_type": "stream",
     "text": [
      "/home/nam4/anaconda3/envs/k3test/lib/python3.10/site-packages/visualkeras/layered.py:86: UserWarning: The legend_text_spacing_offset parameter is deprecated and will be removed in a future release.\n",
      "  warnings.warn(\"The legend_text_spacing_offset parameter is deprecated and will be removed in a future release.\")\n"
     ]
    },
    {
     "data": {
      "image/jpeg": "[encoded data removed]",
      "image/png": "[encoded data removed]",
      "text/plain": [
       "<PIL.Image.Image image mode=RGB size=1003x288>"
      ]
     },
     "execution_count": 11,
     "metadata": {},
     "output_type": "execute_result"
    }
   ],
   "source": [
    "utils.NNTools.visualkeras(make_model(image_size, n_classes=n_classes, activation='elu'), max_z=100)"
   ]
  },
  {
   "cell_type": "code",
   "execution_count": 12,
   "id": "ac6454e8",
   "metadata": {
    "ExecuteTime": {
     "end_time": "2024-08-06T18:19:05.861385Z",
     "start_time": "2024-08-06T18:19:01.508704Z"
    },
    "scrolled": true
   },
   "outputs": [
    {
     "name": "stderr",
     "output_type": "stream",
     "text": [
      "Iterating through all batches to summarize, be patient...: 0it [00:00, ?it/s]\n",
      "Iterating through all batches to summarize, be patient...: 0it [00:00, ?it/s]\n",
      "Iterating through all batches to summarize, be patient...: 0it [00:00, ?it/s]\n",
      "Iterating through all batches to summarize, be patient...: 0it [00:00, ?it/s]"
     ]
    },
    {
     "name": "stdout",
     "output_type": "stream",
     "text": [
      "1/1 [==============================] - 0s 129ms/step\n"
     ]
    },
    {
     "name": "stderr",
     "output_type": "stream",
     "text": [
      "\n"
     ]
    },
    {
     "name": "stdout",
     "output_type": "stream",
     "text": [
      "Epoch 1/42\n",
      "3/3 [==============================] - 1s 37ms/step - loss: 2.8172 - accuracy: 0.1000 - sparse_categorical_accuracy: 0.1000\n",
      "Epoch 2/42\n",
      "3/3 [==============================] - 0s 37ms/step - loss: 2.7713 - accuracy: 0.1000 - sparse_categorical_accuracy: 0.1000\n",
      "Epoch 3/42\n",
      "3/3 [==============================] - 0s 34ms/step - loss: 2.7125 - accuracy: 0.1000 - sparse_categorical_accuracy: 0.1000\n",
      "Epoch 4/42\n",
      "3/3 [==============================] - 0s 29ms/step - loss: 2.6320 - accuracy: 0.0500 - sparse_categorical_accuracy: 0.0500\n",
      "Epoch 5/42\n",
      "3/3 [==============================] - 0s 30ms/step - loss: 2.5261 - accuracy: 0.0000e+00 - sparse_categorical_accuracy: 0.0000e+00\n",
      "Epoch 6/42\n",
      "3/3 [==============================] - 0s 29ms/step - loss: 2.4053 - accuracy: 0.0000e+00 - sparse_categorical_accuracy: 0.0000e+00\n",
      "Epoch 7/42\n",
      "3/3 [==============================] - 0s 30ms/step - loss: 2.3543 - accuracy: 0.0811 - sparse_categorical_accuracy: 0.0811\n",
      "Epoch 8/42\n",
      "3/3 [==============================] - 0s 30ms/step - loss: 2.3507 - accuracy: 0.1068 - sparse_categorical_accuracy: 0.1068\n",
      "Epoch 9/42\n",
      "3/3 [==============================] - 0s 34ms/step - loss: 2.4622 - accuracy: 0.1354 - sparse_categorical_accuracy: 0.1354\n",
      "Epoch 10/42\n",
      "3/3 [==============================] - 0s 36ms/step - loss: 2.5037 - accuracy: 0.1000 - sparse_categorical_accuracy: 0.1000\n",
      "Epoch 11/42\n",
      "3/3 [==============================] - 0s 39ms/step - loss: 2.3343 - accuracy: 0.1290 - sparse_categorical_accuracy: 0.1290\n",
      "Epoch 12/42\n",
      "3/3 [==============================] - 0s 39ms/step - loss: 2.4328 - accuracy: 0.1564 - sparse_categorical_accuracy: 0.1564\n",
      "Epoch 13/42\n",
      "3/3 [==============================] - 0s 33ms/step - loss: 2.2640 - accuracy: 0.1860 - sparse_categorical_accuracy: 0.1860\n",
      "Epoch 14/42\n",
      "3/3 [==============================] - 0s 36ms/step - loss: 2.1873 - accuracy: 0.1865 - sparse_categorical_accuracy: 0.1865\n",
      "Epoch 15/42\n",
      "3/3 [==============================] - 0s 35ms/step - loss: 2.0255 - accuracy: 0.2713 - sparse_categorical_accuracy: 0.2713\n",
      "Epoch 16/42\n",
      "3/3 [==============================] - 0s 36ms/step - loss: 2.5364 - accuracy: 0.2485 - sparse_categorical_accuracy: 0.2485\n",
      "Epoch 17/42\n",
      "3/3 [==============================] - 0s 35ms/step - loss: 2.7637 - accuracy: 0.2764 - sparse_categorical_accuracy: 0.2764\n",
      "Epoch 18/42\n",
      "3/3 [==============================] - 0s 41ms/step - loss: 4.3056 - accuracy: 0.1651 - sparse_categorical_accuracy: 0.1651\n",
      "Epoch 19/42\n",
      "3/3 [==============================] - 0s 38ms/step - loss: 9.5795 - accuracy: 0.1285 - sparse_categorical_accuracy: 0.1285\n",
      "Epoch 20/42\n",
      "3/3 [==============================] - 0s 40ms/step - loss: 39.2164 - accuracy: 0.1084 - sparse_categorical_accuracy: 0.1084\n",
      "Epoch 21/42\n",
      "3/3 [==============================] - 0s 14ms/step - loss: 278.2843 - accuracy: 0.0923 - sparse_categorical_accuracy: 0.0923\n"
     ]
    }
   ],
   "source": [
    "data_loader = utils.NNTools.build_loader('./1d-dataset/train', batch_size=100, shuffle=True)\n",
    "finder = utils.NNTools.find_learning_rate(\n",
    "    make_model(image_size, n_classes=n_classes, activation='elu'),\n",
    "    data_loader,\n",
    "    start_lr=1.0e-6,\n",
    ")"
   ]
  },
  {
   "cell_type": "code",
   "execution_count": 13,
   "id": "a0484050",
   "metadata": {
    "ExecuteTime": {
     "end_time": "2024-08-06T18:19:06.871206Z",
     "start_time": "2024-08-06T18:19:06.777700Z"
    }
   },
   "outputs": [
    {
     "data": {
      "text/plain": [
       "['/home/nam4/Documents/pychemauth/docs/jupyter/api/1d-dataset/train/x_000000223.npy',\n",
       " '/home/nam4/Documents/pychemauth/docs/jupyter/api/1d-dataset/train/x_000000000.npy',\n",
       " '/home/nam4/Documents/pychemauth/docs/jupyter/api/1d-dataset/train/x_000000061.npy']"
      ]
     },
     "execution_count": 13,
     "metadata": {},
     "output_type": "execute_result"
    }
   ],
   "source": [
    "# Observe that x and y are shuffled\n",
    "data_loader.x[:3]"
   ]
  },
  {
   "cell_type": "code",
   "execution_count": 14,
   "id": "778a4b04",
   "metadata": {
    "ExecuteTime": {
     "end_time": "2024-08-06T18:19:08.717977Z",
     "start_time": "2024-08-06T18:19:08.623554Z"
    }
   },
   "outputs": [
    {
     "data": {
      "text/plain": [
       "array([6, 7, 7])"
      ]
     },
     "execution_count": 14,
     "metadata": {},
     "output_type": "execute_result"
    }
   ],
   "source": [
    "# Compare the data loader's first 3 y values...\n",
    "data_loader.y[:3]"
   ]
  },
  {
   "cell_type": "code",
   "execution_count": 15,
   "id": "ea5d7829",
   "metadata": {
    "ExecuteTime": {
     "end_time": "2024-08-06T18:19:09.355853Z",
     "start_time": "2024-08-06T18:19:09.274062Z"
    }
   },
   "outputs": [
    {
     "data": {
      "text/plain": [
       "(6, 7, 7)"
      ]
     },
     "execution_count": 15,
     "metadata": {},
     "output_type": "execute_result"
    }
   ],
   "source": [
    "# ... to the original y with indices corresponding to the x files.\n",
    "y_train[223], y_train[0], y_train[61]"
   ]
  },
  {
   "cell_type": "code",
   "execution_count": 16,
   "id": "f109aebc",
   "metadata": {
    "ExecuteTime": {
     "end_time": "2024-08-06T18:19:11.366099Z",
     "start_time": "2024-08-06T18:19:10.647412Z"
    }
   },
   "outputs": [
    {
     "data": {
      "image/png": "[encoded data removed]",
      "text/plain": [
       "<Figure size 640x480 with 1 Axes>"
      ]
     },
     "metadata": {},
     "output_type": "display_data"
    }
   ],
   "source": [
    "# Let's see if we can establish a reasoble range of learning rates so we can use cyclical learning rates when training\n",
    "ax = finder.plot()\n",
    "ax.set_yscale('log')\n",
    "\n",
    "frac = 0.5\n",
    "\n",
    "ax.set_ylim(2, 3)\n",
    "for l_ in finder.estimate_clr(frac=frac):\n",
    "    ax.axvline(l_, color='red')"
   ]
  },
  {
   "cell_type": "markdown",
   "id": "bb4bc331",
   "metadata": {},
   "source": [
    "<h3>Cyclical Learning Rates</h3>"
   ]
  },
  {
   "cell_type": "code",
   "execution_count": 17,
   "id": "e15d9c68",
   "metadata": {
    "ExecuteTime": {
     "end_time": "2024-08-06T18:19:14.627295Z",
     "start_time": "2024-08-06T18:19:14.566159Z"
    },
    "scrolled": true
   },
   "outputs": [],
   "source": [
    "def fit_model(image_size, finder, n_classes, use_clr=False, wandb_project=None, mode='triangular'):\n",
    "    \"\"\"Convenient function to train models several times with different hyperparameters.\"\"\"\n",
    "    clr = utils.NNTools.CyclicalLearningRate(\n",
    "        base_lr=finder.estimate_clr(frac=frac)[0],\n",
    "        max_lr=finder.estimate_clr(frac=frac)[1],\n",
    "        step_size=10, # 1/2 cycle every 10 epochs\n",
    "        mode=mode,\n",
    "    )\n",
    "\n",
    "    # Build a fresh model\n",
    "    model = make_model(image_size, n_classes=n_classes, activation='relu')\n",
    "\n",
    "    # Build a data loader\n",
    "    data_loader = utils.NNTools.build_loader('./1d-dataset/train', batch_size=100, shuffle=True)\n",
    "    \n",
    "    # Do the training\n",
    "    model = utils.NNTools.train(\n",
    "        model=model,\n",
    "        data=data_loader, \n",
    "        fit_kwargs={\n",
    "            'epochs': 60, # (10*2) = 20 epochs for a cycle, so this is 3 cycles\n",
    "            'validation_data': utils.NNTools.build_loader('./1d-dataset/test', batch_size=100), # Shuffling doesn't matter here\n",
    "            'callbacks': [clr] if use_clr else []\n",
    "        },\n",
    "        model_filename=None, # Do not save locally\n",
    "        history_filename=None, # Do not save locally\n",
    "        wandb_project=wandb_project,\n",
    "        seed=42\n",
    "    )\n",
    "    \n",
    "    return model, clr, data_loader\n",
    "\n",
    "def plot_results(model, clr=None):\n",
    "    \"\"\"Convenient function to plot results locally - you can see the same results on WandB.\"\"\"\n",
    "    fig, axes = plt.subplots(nrows=1, ncols=3, figsize=(12,4))\n",
    "\n",
    "    for ax in axes:\n",
    "        ax.set_xlabel('Epoch')\n",
    "    \n",
    "    if clr is not None:\n",
    "        axes[0].plot(\n",
    "            clr.history['iterations'],\n",
    "            clr.history['lr']\n",
    "        )\n",
    "    else:\n",
    "        axes[0].axhline(float(model.optimizer.lr))\n",
    "    axes[0].set_ylabel('Learning Rate')\n",
    "    axes[0].set_yscale('log')\n",
    "\n",
    "    axes[1].plot(model.history.history['accuracy'], label='Accuracy')\n",
    "    axes[1].plot(model.history.history['val_accuracy'], label='Validation Accuracy')\n",
    "    axes[1].set_ylabel('Accuracy')\n",
    "    axes[1].legend(loc='best')\n",
    "\n",
    "    axes[2].plot(model.history.history['loss'], label='Loss')\n",
    "    axes[2].plot(model.history.history['val_loss'], label='Validation Loss')\n",
    "    axes[2].set_ylabel('Loss')\n",
    "    axes[2].legend(loc='best')"
   ]
  },
  {
   "cell_type": "code",
   "execution_count": null,
   "id": "16924d20",
   "metadata": {
    "ExecuteTime": {
     "start_time": "2024-08-06T18:19:16.634Z"
    },
    "scrolled": true
   },
   "outputs": [
    {
     "name": "stderr",
     "output_type": "stream",
     "text": [
      "Iterating through all batches to summarize, be patient...: 0it [00:00, ?it/s]\n",
      "Iterating through all batches to summarize, be patient...: 0it [00:00, ?it/s]\n",
      "Iterating through all batches to summarize, be patient...: 0it [00:00, ?it/s]\n",
      "Iterating through all batches to summarize, be patient...: 0it [00:00, ?it/s]"
     ]
    },
    {
     "name": "stdout",
     "output_type": "stream",
     "text": [
      "1/1 [==============================] - 0s 77ms/step\n"
     ]
    },
    {
     "name": "stderr",
     "output_type": "stream",
     "text": [
      "\n",
      "Failed to detect the name of this notebook, you can set it manually with the WANDB_NOTEBOOK_NAME environment variable to enable code saving.\n",
      "\u001b[34m\u001b[1mwandb\u001b[0m: Currently logged in as: \u001b[33mnathan-mahynski\u001b[0m. Use \u001b[1m`wandb login --relogin`\u001b[0m to force relogin\n"
     ]
    },
    {
     "data": {
      "text/html": [
       "Tracking run with wandb version 0.17.5"
      ],
      "text/plain": [
       "<IPython.core.display.HTML object>"
      ]
     },
     "metadata": {},
     "output_type": "display_data"
    },
    {
     "data": {
      "text/html": [
       "Run data is saved locally in <code>/home/nam4/Documents/pychemauth/docs/jupyter/api/wandb/run-20240806_141918-cxg30usj</code>"
      ],
      "text/plain": [
       "<IPython.core.display.HTML object>"
      ]
     },
     "metadata": {},
     "output_type": "display_data"
    },
    {
     "data": {
      "text/html": [
       "Syncing run <strong><a href='https://wandb.ai/nathan-mahynski/cnn-1d-demo/runs/cxg30usj' target=\"_blank\">skilled-capybara-13</a></strong> to <a href='https://wandb.ai/nathan-mahynski/cnn-1d-demo' target=\"_blank\">Weights & Biases</a> (<a href='https://wandb.me/run' target=\"_blank\">docs</a>)<br/>"
      ],
      "text/plain": [
       "<IPython.core.display.HTML object>"
      ]
     },
     "metadata": {},
     "output_type": "display_data"
    },
    {
     "data": {
      "text/html": [
       " View project at <a href='https://wandb.ai/nathan-mahynski/cnn-1d-demo' target=\"_blank\">https://wandb.ai/nathan-mahynski/cnn-1d-demo</a>"
      ],
      "text/plain": [
       "<IPython.core.display.HTML object>"
      ]
     },
     "metadata": {},
     "output_type": "display_data"
    },
    {
     "data": {
      "text/html": [
       " View run at <a href='https://wandb.ai/nathan-mahynski/cnn-1d-demo/runs/cxg30usj' target=\"_blank\">https://wandb.ai/nathan-mahynski/cnn-1d-demo/runs/cxg30usj</a>"
      ],
      "text/plain": [
       "<IPython.core.display.HTML object>"
      ]
     },
     "metadata": {},
     "output_type": "display_data"
    },
    {
     "name": "stdout",
     "output_type": "stream",
     "text": [
      "Epoch 1/60\n",
      "3/3 [==============================] - 2s 183ms/step - loss: 3.3590 - accuracy: 0.1302 - sparse_categorical_accuracy: 0.1302 - val_loss: 2.5770 - val_accuracy: 0.0492 - val_sparse_categorical_accuracy: 0.0492\n",
      "Epoch 2/60\n",
      "3/3 [==============================] - 0s 68ms/step - loss: 2.3385 - accuracy: 0.1788 - sparse_categorical_accuracy: 0.1788 - val_loss: 2.4368 - val_accuracy: 0.0492 - val_sparse_categorical_accuracy: 0.0492\n",
      "Epoch 3/60\n",
      "3/3 [==============================] - 0s 61ms/step - loss: 2.3230 - accuracy: 0.1000 - sparse_categorical_accuracy: 0.1000 - val_loss: 2.2717 - val_accuracy: 0.0492 - val_sparse_categorical_accuracy: 0.0492\n",
      "Epoch 4/60\n",
      "3/3 [==============================] - 0s 61ms/step - loss: 2.2643 - accuracy: 0.1222 - sparse_categorical_accuracy: 0.1222 - val_loss: 2.2695 - val_accuracy: 0.2131 - val_sparse_categorical_accuracy: 0.2131\n",
      "Epoch 5/60\n",
      "3/3 [==============================] - 0s 66ms/step - loss: 2.2429 - accuracy: 0.2381 - sparse_categorical_accuracy: 0.2381 - val_loss: 2.2819 - val_accuracy: 0.2131 - val_sparse_categorical_accuracy: 0.2131\n",
      "Epoch 6/60\n",
      "3/3 [==============================] - 0s 69ms/step - loss: 2.2344 - accuracy: 0.2284 - sparse_categorical_accuracy: 0.2284 - val_loss: 2.2306 - val_accuracy: 0.1639 - val_sparse_categorical_accuracy: 0.1639\n",
      "Epoch 7/60\n",
      "3/3 [==============================] - 0s 69ms/step - loss: 2.1912 - accuracy: 0.3406 - sparse_categorical_accuracy: 0.3406 - val_loss: 2.1921 - val_accuracy: 0.1639 - val_sparse_categorical_accuracy: 0.1639\n",
      "Epoch 8/60\n",
      "3/3 [==============================] - 0s 64ms/step - loss: 2.1612 - accuracy: 0.3364 - sparse_categorical_accuracy: 0.3364 - val_loss: 2.2183 - val_accuracy: 0.1639 - val_sparse_categorical_accuracy: 0.1639\n",
      "Epoch 9/60\n",
      "3/3 [==============================] - 0s 59ms/step - loss: 2.1247 - accuracy: 0.3000 - sparse_categorical_accuracy: 0.3000 - val_loss: 2.1514 - val_accuracy: 0.1803 - val_sparse_categorical_accuracy: 0.1803\n",
      "Epoch 10/60\n",
      "3/3 [==============================] - 0s 54ms/step - loss: 2.0667 - accuracy: 0.2633 - sparse_categorical_accuracy: 0.2633 - val_loss: 2.0649 - val_accuracy: 0.3443 - val_sparse_categorical_accuracy: 0.3443\n",
      "Epoch 11/60\n",
      "3/3 [==============================] - 0s 55ms/step - loss: 1.9744 - accuracy: 0.4655 - sparse_categorical_accuracy: 0.4655 - val_loss: 2.1941 - val_accuracy: 0.2131 - val_sparse_categorical_accuracy: 0.2131\n",
      "Epoch 12/60\n",
      "3/3 [==============================] - 0s 61ms/step - loss: 1.9781 - accuracy: 0.2716 - sparse_categorical_accuracy: 0.2716 - val_loss: 1.9889 - val_accuracy: 0.2787 - val_sparse_categorical_accuracy: 0.2787\n",
      "Epoch 13/60\n",
      "3/3 [==============================] - 0s 65ms/step - loss: 1.7893 - accuracy: 0.4811 - sparse_categorical_accuracy: 0.4811 - val_loss: 1.7262 - val_accuracy: 0.5574 - val_sparse_categorical_accuracy: 0.5574\n",
      "Epoch 14/60\n",
      "3/3 [==============================] - 0s 58ms/step - loss: 1.7104 - accuracy: 0.4310 - sparse_categorical_accuracy: 0.4310 - val_loss: 1.8507 - val_accuracy: 0.3279 - val_sparse_categorical_accuracy: 0.3279\n",
      "Epoch 15/60\n",
      "3/3 [==============================] - 0s 70ms/step - loss: 1.5290 - accuracy: 0.5563 - sparse_categorical_accuracy: 0.5563 - val_loss: 1.4857 - val_accuracy: 0.7541 - val_sparse_categorical_accuracy: 0.7541\n",
      "Epoch 16/60\n",
      "3/3 [==============================] - 0s 75ms/step - loss: 1.3887 - accuracy: 0.6043 - sparse_categorical_accuracy: 0.6043 - val_loss: 1.6028 - val_accuracy: 0.3115 - val_sparse_categorical_accuracy: 0.3115\n",
      "Epoch 17/60\n",
      "3/3 [==============================] - 0s 71ms/step - loss: 1.2748 - accuracy: 0.5971 - sparse_categorical_accuracy: 0.5971 - val_loss: 1.1732 - val_accuracy: 0.7213 - val_sparse_categorical_accuracy: 0.7213\n",
      "Epoch 18/60\n",
      "3/3 [==============================] - 0s 70ms/step - loss: 1.1467 - accuracy: 0.5329 - sparse_categorical_accuracy: 0.5329 - val_loss: 1.3031 - val_accuracy: 0.6393 - val_sparse_categorical_accuracy: 0.6393\n",
      "Epoch 19/60\n",
      "3/3 [==============================] - 0s 70ms/step - loss: 1.1244 - accuracy: 0.6978 - sparse_categorical_accuracy: 0.6978 - val_loss: 1.3920 - val_accuracy: 0.3770 - val_sparse_categorical_accuracy: 0.3770\n",
      "Epoch 20/60\n",
      "3/3 [==============================] - 0s 72ms/step - loss: 1.2802 - accuracy: 0.4081 - sparse_categorical_accuracy: 0.4081 - val_loss: 1.3452 - val_accuracy: 0.6885 - val_sparse_categorical_accuracy: 0.6885\n",
      "Epoch 21/60\n",
      "3/3 [==============================] - 0s 69ms/step - loss: 1.2130 - accuracy: 0.6595 - sparse_categorical_accuracy: 0.6595 - val_loss: 1.2353 - val_accuracy: 0.3934 - val_sparse_categorical_accuracy: 0.3934\n",
      "Epoch 22/60\n",
      "3/3 [==============================] - 0s 66ms/step - loss: 0.9896 - accuracy: 0.5679 - sparse_categorical_accuracy: 0.5679 - val_loss: 0.9770 - val_accuracy: 0.8033 - val_sparse_categorical_accuracy: 0.8033\n",
      "Epoch 23/60\n",
      "3/3 [==============================] - 0s 63ms/step - loss: 0.8164 - accuracy: 0.8000 - sparse_categorical_accuracy: 0.8000 - val_loss: 1.0940 - val_accuracy: 0.7213 - val_sparse_categorical_accuracy: 0.7213\n",
      "Epoch 24/60\n",
      "3/3 [==============================] - 0s 65ms/step - loss: 0.8290 - accuracy: 0.7648 - sparse_categorical_accuracy: 0.7648 - val_loss: 0.7825 - val_accuracy: 0.8033 - val_sparse_categorical_accuracy: 0.8033\n",
      "Epoch 25/60\n",
      "3/3 [==============================] - 0s 64ms/step - loss: 0.6902 - accuracy: 0.8071 - sparse_categorical_accuracy: 0.8071 - val_loss: 0.9113 - val_accuracy: 0.7541 - val_sparse_categorical_accuracy: 0.7541\n",
      "Epoch 26/60\n",
      "3/3 [==============================] - 0s 68ms/step - loss: 0.5986 - accuracy: 0.8394 - sparse_categorical_accuracy: 0.8394 - val_loss: 0.8225 - val_accuracy: 0.8033 - val_sparse_categorical_accuracy: 0.8033\n",
      "Epoch 27/60\n",
      "3/3 [==============================] - 0s 60ms/step - loss: 0.6286 - accuracy: 0.7517 - sparse_categorical_accuracy: 0.7517 - val_loss: 0.5318 - val_accuracy: 0.8197 - val_sparse_categorical_accuracy: 0.8197\n",
      "Epoch 28/60\n",
      "3/3 [==============================] - 0s 62ms/step - loss: 0.4520 - accuracy: 0.9082 - sparse_categorical_accuracy: 0.9082 - val_loss: 0.7903 - val_accuracy: 0.6721 - val_sparse_categorical_accuracy: 0.6721\n",
      "Epoch 29/60\n",
      "3/3 [==============================] - 0s 58ms/step - loss: 0.4102 - accuracy: 0.8956 - sparse_categorical_accuracy: 0.8956 - val_loss: 0.5355 - val_accuracy: 0.8525 - val_sparse_categorical_accuracy: 0.8525\n",
      "Epoch 30/60\n",
      "3/3 [==============================] - 0s 68ms/step - loss: 0.5252 - accuracy: 0.7777 - sparse_categorical_accuracy: 0.7777 - val_loss: 0.6288 - val_accuracy: 0.8525 - val_sparse_categorical_accuracy: 0.8525\n",
      "Epoch 31/60\n",
      "3/3 [==============================] - 0s 61ms/step - loss: 0.6957 - accuracy: 0.7931 - sparse_categorical_accuracy: 0.7931 - val_loss: 1.2251 - val_accuracy: 0.4918 - val_sparse_categorical_accuracy: 0.4918\n",
      "Epoch 32/60\n",
      "3/3 [==============================] - 0s 61ms/step - loss: 0.5489 - accuracy: 0.7729 - sparse_categorical_accuracy: 0.7729 - val_loss: 0.4052 - val_accuracy: 0.8525 - val_sparse_categorical_accuracy: 0.8525\n",
      "Epoch 33/60\n",
      "3/3 [==============================] - 0s 70ms/step - loss: 0.5028 - accuracy: 0.7925 - sparse_categorical_accuracy: 0.7925 - val_loss: 0.7357 - val_accuracy: 0.4262 - val_sparse_categorical_accuracy: 0.4262\n",
      "Epoch 34/60\n",
      "3/3 [==============================] - 0s 68ms/step - loss: 0.4289 - accuracy: 0.7877 - sparse_categorical_accuracy: 0.7877 - val_loss: 0.4004 - val_accuracy: 0.9016 - val_sparse_categorical_accuracy: 0.9016\n",
      "Epoch 35/60\n",
      "3/3 [==============================] - 0s 70ms/step - loss: 0.2969 - accuracy: 0.9046 - sparse_categorical_accuracy: 0.9046 - val_loss: 0.5509 - val_accuracy: 0.5902 - val_sparse_categorical_accuracy: 0.5902\n",
      "Epoch 36/60\n",
      "3/3 [==============================] - 0s 62ms/step - loss: 0.2968 - accuracy: 0.8671 - sparse_categorical_accuracy: 0.8671 - val_loss: 0.2689 - val_accuracy: 0.9344 - val_sparse_categorical_accuracy: 0.9344\n",
      "Epoch 37/60\n",
      "3/3 [==============================] - 0s 64ms/step - loss: 0.2847 - accuracy: 0.9271 - sparse_categorical_accuracy: 0.9271 - val_loss: 0.4468 - val_accuracy: 0.9016 - val_sparse_categorical_accuracy: 0.9016\n",
      "Epoch 38/60\n"
     ]
    },
    {
     "name": "stdout",
     "output_type": "stream",
     "text": [
      "3/3 [==============================] - 0s 60ms/step - loss: 0.2708 - accuracy: 0.9396 - sparse_categorical_accuracy: 0.9396 - val_loss: 0.2353 - val_accuracy: 0.9836 - val_sparse_categorical_accuracy: 0.9836\n",
      "Epoch 39/60\n",
      "3/3 [==============================] - 0s 57ms/step - loss: 0.2155 - accuracy: 0.9574 - sparse_categorical_accuracy: 0.9574 - val_loss: 0.3396 - val_accuracy: 0.8852 - val_sparse_categorical_accuracy: 0.8852\n",
      "Epoch 40/60\n",
      "3/3 [==============================] - 0s 64ms/step - loss: 0.2097 - accuracy: 0.9599 - sparse_categorical_accuracy: 0.9599 - val_loss: 0.1728 - val_accuracy: 0.9672 - val_sparse_categorical_accuracy: 0.9672\n",
      "Epoch 41/60\n",
      "3/3 [==============================] - 0s 54ms/step - loss: 0.2187 - accuracy: 0.9034 - sparse_categorical_accuracy: 0.9034 - val_loss: 0.1873 - val_accuracy: 0.9836 - val_sparse_categorical_accuracy: 0.9836\n",
      "Epoch 42/60\n",
      "3/3 [==============================] - 0s 68ms/step - loss: 0.2455 - accuracy: 0.9100 - sparse_categorical_accuracy: 0.9100 - val_loss: 0.1832 - val_accuracy: 0.9836 - val_sparse_categorical_accuracy: 0.9836\n",
      "Epoch 43/60\n",
      "3/3 [==============================] - 0s 57ms/step - loss: 0.1699 - accuracy: 0.9580 - sparse_categorical_accuracy: 0.9580 - val_loss: 0.1392 - val_accuracy: 0.9836 - val_sparse_categorical_accuracy: 0.9836\n",
      "Epoch 44/60\n",
      "3/3 [==============================] - 0s 60ms/step - loss: 0.1585 - accuracy: 0.9875 - sparse_categorical_accuracy: 0.9875 - val_loss: 0.2466 - val_accuracy: 0.9672 - val_sparse_categorical_accuracy: 0.9672\n",
      "Epoch 45/60\n",
      "3/3 [==============================] - 0s 60ms/step - loss: 0.1411 - accuracy: 0.9789 - sparse_categorical_accuracy: 0.9789 - val_loss: 0.1136 - val_accuracy: 0.9836 - val_sparse_categorical_accuracy: 0.9836\n",
      "Epoch 46/60\n",
      "3/3 [==============================] - 0s 65ms/step - loss: 0.1307 - accuracy: 0.9785 - sparse_categorical_accuracy: 0.9785 - val_loss: 0.1738 - val_accuracy: 0.9836 - val_sparse_categorical_accuracy: 0.9836\n",
      "Epoch 47/60\n",
      "3/3 [==============================] - 0s 67ms/step - loss: 0.1488 - accuracy: 0.9813 - sparse_categorical_accuracy: 0.9813 - val_loss: 0.1067 - val_accuracy: 0.9836 - val_sparse_categorical_accuracy: 0.9836\n",
      "Epoch 48/60\n",
      "3/3 [==============================] - 0s 62ms/step - loss: 0.1395 - accuracy: 0.9678 - sparse_categorical_accuracy: 0.9678 - val_loss: 0.0984 - val_accuracy: 0.9836 - val_sparse_categorical_accuracy: 0.9836\n",
      "Epoch 49/60\n",
      "3/3 [==============================] - 0s 65ms/step - loss: 0.1240 - accuracy: 0.9720 - sparse_categorical_accuracy: 0.9720 - val_loss: 0.1979 - val_accuracy: 0.9672 - val_sparse_categorical_accuracy: 0.9672\n",
      "Epoch 50/60\n",
      "3/3 [==============================] - 0s 61ms/step - loss: 0.1018 - accuracy: 0.9799 - sparse_categorical_accuracy: 0.9799 - val_loss: 0.0881 - val_accuracy: 0.9836 - val_sparse_categorical_accuracy: 0.9836\n",
      "Epoch 51/60\n",
      "3/3 [==============================] - 0s 60ms/step - loss: 0.0934 - accuracy: 0.9839 - sparse_categorical_accuracy: 0.9839 - val_loss: 0.1277 - val_accuracy: 0.9836 - val_sparse_categorical_accuracy: 0.9836\n",
      "Epoch 52/60\n",
      "3/3 [==============================] - 0s 58ms/step - loss: 0.0968 - accuracy: 0.9826 - sparse_categorical_accuracy: 0.9826 - val_loss: 0.0867 - val_accuracy: 0.9836 - val_sparse_categorical_accuracy: 0.9836\n",
      "Epoch 53/60\n",
      "3/3 [==============================] - 0s 64ms/step - loss: 0.0931 - accuracy: 0.9825 - sparse_categorical_accuracy: 0.9825 - val_loss: 0.0915 - val_accuracy: 0.9836 - val_sparse_categorical_accuracy: 0.9836\n",
      "Epoch 54/60\n",
      "3/3 [==============================] - 0s 59ms/step - loss: 0.1138 - accuracy: 0.9720 - sparse_categorical_accuracy: 0.9720 - val_loss: 0.2763 - val_accuracy: 0.9180 - val_sparse_categorical_accuracy: 0.9180\n",
      "Epoch 55/60\n",
      "3/3 [==============================] - 0s 59ms/step - loss: 0.1136 - accuracy: 0.9718 - sparse_categorical_accuracy: 0.9718 - val_loss: 0.0665 - val_accuracy: 0.9836 - val_sparse_categorical_accuracy: 0.9836\n",
      "Epoch 56/60\n",
      "3/3 [==============================] - 0s 73ms/step - loss: 0.0626 - accuracy: 0.9893 - sparse_categorical_accuracy: 0.9893 - val_loss: 0.1058 - val_accuracy: 0.9836 - val_sparse_categorical_accuracy: 0.9836\n",
      "Epoch 57/60\n",
      "3/3 [==============================] - 0s 94ms/step - loss: 0.0708 - accuracy: 0.9866 - sparse_categorical_accuracy: 0.9866 - val_loss: 0.0748 - val_accuracy: 0.9836 - val_sparse_categorical_accuracy: 0.9836\n",
      "Epoch 58/60\n",
      "3/3 [==============================] - 0s 59ms/step - loss: 0.0634 - accuracy: 0.9893 - sparse_categorical_accuracy: 0.9893 - val_loss: 0.0811 - val_accuracy: 0.9836 - val_sparse_categorical_accuracy: 0.9836\n",
      "Epoch 59/60\n",
      "3/3 [==============================] - 0s 59ms/step - loss: 0.0609 - accuracy: 0.9879 - sparse_categorical_accuracy: 0.9879 - val_loss: 0.1077 - val_accuracy: 0.9836 - val_sparse_categorical_accuracy: 0.9836\n",
      "Epoch 60/60\n",
      "3/3 [==============================] - 0s 60ms/step - loss: 0.0543 - accuracy: 0.9893 - sparse_categorical_accuracy: 0.9893 - val_loss: 0.0625 - val_accuracy: 0.9836 - val_sparse_categorical_accuracy: 0.9836\n"
     ]
    },
    {
     "name": "stderr",
     "output_type": "stream",
     "text": [
      "Iterating through all batches to summarize, be patient...: 0it [00:00, ?it/s]\n",
      "Iterating through all batches to summarize, be patient...: 0it [00:00, ?it/s]\n",
      "Iterating through all batches to summarize, be patient...: 0it [00:00, ?it/s]\n",
      "Iterating through all batches to summarize, be patient...: 0it [00:00, ?it/s]"
     ]
    },
    {
     "name": "stdout",
     "output_type": "stream",
     "text": [
      "1/1 [==============================] - 0s 101ms/step\n"
     ]
    },
    {
     "name": "stderr",
     "output_type": "stream",
     "text": [
      "\n",
      "\u001b[34m\u001b[1mwandb\u001b[0m: \u001b[33mWARNING\u001b[0m Calling wandb.login() after wandb.init() has no effect.\n"
     ]
    },
    {
     "data": {
      "text/html": [
       "Finishing last run (ID:cxg30usj) before initializing another..."
      ],
      "text/plain": [
       "<IPython.core.display.HTML object>"
      ]
     },
     "metadata": {},
     "output_type": "display_data"
    },
    {
     "data": {
      "application/vnd.jupyter.widget-view+json": {
       "model_id": "",
       "version_major": 2,
       "version_minor": 0
      },
      "text/plain": [
       "VBox(children=(Label(value='0.005 MB of 0.005 MB uploaded\\r'), FloatProgress(value=1.0, max=1.0)))"
      ]
     },
     "metadata": {},
     "output_type": "display_data"
    },
    {
     "data": {
      "text/html": [
       "<style>\n",
       "    table.wandb td:nth-child(1) { padding: 0 10px; text-align: left ; width: auto;} td:nth-child(2) {text-align: left ; width: 100%}\n",
       "    .wandb-row { display: flex; flex-direction: row; flex-wrap: wrap; justify-content: flex-start; width: 100% }\n",
       "    .wandb-col { display: flex; flex-direction: column; flex-basis: 100%; flex: 1; padding: 10px; }\n",
       "    </style>\n",
       "<div class=\"wandb-row\"><div class=\"wandb-col\"><h3>Run history:</h3><br/><table class=\"wandb\"><tr><td>batch/accuracy</td><td>▁▁▁▂▃▃▂▃▄▃▅▆▆▃▅▅▆▇▇▆▆▆▆▆▇███████████████</td></tr><tr><td>batch/batch_step</td><td>▁▁▁▁▂▂▂▂▂▃▃▃▃▃▃▄▄▄▄▄▅▅▅▅▅▅▆▆▆▆▆▇▇▇▇▇▇███</td></tr><tr><td>batch/learning_rate</td><td>▁▁▁▁▁▁▁▁▁▁▁▁▁▁▁▁▁▁▁▁▁▁▁▁▁▁▁▁▁▁▁▁▁▁▁▁▁▁▁▁</td></tr><tr><td>batch/loss</td><td>█▆▆▆▅▅▅▅▅▅▄▃▃▄▃▃▂▂▂▂▃▂▂▂▂▁▁▁▁▁▁▁▁▁▁▁▁▁▁▁</td></tr><tr><td>batch/sparse_categorical_accuracy</td><td>▁▁▁▂▃▃▂▃▄▃▅▆▆▃▅▅▆▇▇▆▆▆▆▆▇███████████████</td></tr><tr><td>epoch/accuracy</td><td>▁▁▁▂▃▃▂▄▄▃▅▅▆▃▅▆▇▇▇▇▆▆▆▇▇██▇████████████</td></tr><tr><td>epoch/epoch</td><td>▁▁▁▁▂▂▂▂▂▃▃▃▃▃▃▄▄▄▄▄▅▅▅▅▅▅▆▆▆▆▆▆▇▇▇▇▇███</td></tr><tr><td>epoch/learning_rate</td><td>▁▁▁▁▁▁▁▁▁▁▁▁▁▁▁▁▁▁▁▁▁▁▁▁▁▁▁▁▁▁▁▁▁▁▁▁▁▁▁▁</td></tr><tr><td>epoch/loss</td><td>█▆▆▆▆▅▅▅▅▅▄▄▃▄▃▃▂▂▂▂▂▂▂▂▁▁▁▁▁▁▁▁▁▁▁▁▁▁▁▁</td></tr><tr><td>epoch/sparse_categorical_accuracy</td><td>▁▁▁▂▃▃▂▄▄▃▅▅▆▃▅▆▇▇▇▇▆▆▆▇▇██▇████████████</td></tr><tr><td>epoch/val_accuracy</td><td>▁▁▂▂▂▂▃▂▅▃▃▆▃▆▇▆▆▇▆▇▄▇▇▅▇███████████████</td></tr><tr><td>epoch/val_loss</td><td>██▇▇▇▇▇▇▆▆▅▄▅▅▄▄▃▃▃▂▄▂▂▂▂▁▁▁▁▂▁▁▁▁▁▁▁▁▁▁</td></tr><tr><td>epoch/val_sparse_categorical_accuracy</td><td>▁▁▂▂▂▂▃▂▅▃▃▆▃▆▇▆▆▇▆▇▄▇▇▅▇███████████████</td></tr></table><br/></div><div class=\"wandb-col\"><h3>Run summary:</h3><br/><table class=\"wandb\"><tr><td>batch/accuracy</td><td>0.9893</td></tr><tr><td>batch/batch_step</td><td>179</td></tr><tr><td>batch/learning_rate</td><td>0.001</td></tr><tr><td>batch/loss</td><td>0.05426</td></tr><tr><td>batch/sparse_categorical_accuracy</td><td>0.9893</td></tr><tr><td>epoch/accuracy</td><td>0.9893</td></tr><tr><td>epoch/epoch</td><td>59</td></tr><tr><td>epoch/learning_rate</td><td>0.001</td></tr><tr><td>epoch/loss</td><td>0.05426</td></tr><tr><td>epoch/sparse_categorical_accuracy</td><td>0.9893</td></tr><tr><td>epoch/val_accuracy</td><td>0.98361</td></tr><tr><td>epoch/val_loss</td><td>0.06254</td></tr><tr><td>epoch/val_sparse_categorical_accuracy</td><td>0.98361</td></tr></table><br/></div></div>"
      ],
      "text/plain": [
       "<IPython.core.display.HTML object>"
      ]
     },
     "metadata": {},
     "output_type": "display_data"
    },
    {
     "data": {
      "text/html": [
       " View run <strong style=\"color:#cdcd00\">skilled-capybara-13</strong> at: <a href='https://wandb.ai/nathan-mahynski/cnn-1d-demo/runs/cxg30usj' target=\"_blank\">https://wandb.ai/nathan-mahynski/cnn-1d-demo/runs/cxg30usj</a><br/> View project at: <a href='https://wandb.ai/nathan-mahynski/cnn-1d-demo' target=\"_blank\">https://wandb.ai/nathan-mahynski/cnn-1d-demo</a><br/>Synced 6 W&B file(s), 0 media file(s), 0 artifact file(s) and 0 other file(s)"
      ],
      "text/plain": [
       "<IPython.core.display.HTML object>"
      ]
     },
     "metadata": {},
     "output_type": "display_data"
    },
    {
     "data": {
      "text/html": [
       "Find logs at: <code>./wandb/run-20240806_141918-cxg30usj/logs</code>"
      ],
      "text/plain": [
       "<IPython.core.display.HTML object>"
      ]
     },
     "metadata": {},
     "output_type": "display_data"
    },
    {
     "data": {
      "text/html": [
       "The new W&B backend becomes opt-out in version 0.18.0; try it out with `wandb.require(\"core\")`! See https://wandb.me/wandb-core for more information."
      ],
      "text/plain": [
       "<IPython.core.display.HTML object>"
      ]
     },
     "metadata": {},
     "output_type": "display_data"
    },
    {
     "data": {
      "text/html": [
       "Successfully finished last run (ID:cxg30usj). Initializing new run:<br/>"
      ],
      "text/plain": [
       "<IPython.core.display.HTML object>"
      ]
     },
     "metadata": {},
     "output_type": "display_data"
    },
    {
     "data": {
      "text/html": [
       "Tracking run with wandb version 0.17.5"
      ],
      "text/plain": [
       "<IPython.core.display.HTML object>"
      ]
     },
     "metadata": {},
     "output_type": "display_data"
    },
    {
     "data": {
      "text/html": [
       "Run data is saved locally in <code>/home/nam4/Documents/pychemauth/docs/jupyter/api/wandb/run-20240806_141937-q7okyd0z</code>"
      ],
      "text/plain": [
       "<IPython.core.display.HTML object>"
      ]
     },
     "metadata": {},
     "output_type": "display_data"
    },
    {
     "data": {
      "text/html": [
       "Syncing run <strong><a href='https://wandb.ai/nathan-mahynski/cnn-1d-demo/runs/q7okyd0z' target=\"_blank\">snowy-cloud-14</a></strong> to <a href='https://wandb.ai/nathan-mahynski/cnn-1d-demo' target=\"_blank\">Weights & Biases</a> (<a href='https://wandb.me/run' target=\"_blank\">docs</a>)<br/>"
      ],
      "text/plain": [
       "<IPython.core.display.HTML object>"
      ]
     },
     "metadata": {},
     "output_type": "display_data"
    },
    {
     "data": {
      "text/html": [
       " View project at <a href='https://wandb.ai/nathan-mahynski/cnn-1d-demo' target=\"_blank\">https://wandb.ai/nathan-mahynski/cnn-1d-demo</a>"
      ],
      "text/plain": [
       "<IPython.core.display.HTML object>"
      ]
     },
     "metadata": {},
     "output_type": "display_data"
    },
    {
     "data": {
      "text/html": [
       " View run at <a href='https://wandb.ai/nathan-mahynski/cnn-1d-demo/runs/q7okyd0z' target=\"_blank\">https://wandb.ai/nathan-mahynski/cnn-1d-demo/runs/q7okyd0z</a>"
      ],
      "text/plain": [
       "<IPython.core.display.HTML object>"
      ]
     },
     "metadata": {},
     "output_type": "display_data"
    },
    {
     "name": "stdout",
     "output_type": "stream",
     "text": [
      "Epoch 1/60\n",
      "3/3 [==============================] - 1s 154ms/step - loss: 2.3690 - accuracy: 0.1376 - sparse_categorical_accuracy: 0.1376 - val_loss: 2.2629 - val_accuracy: 0.0820 - val_sparse_categorical_accuracy: 0.0820\n",
      "Epoch 2/60\n",
      "3/3 [==============================] - 0s 68ms/step - loss: 2.3948 - accuracy: 0.1246 - sparse_categorical_accuracy: 0.1246 - val_loss: 2.3774 - val_accuracy: 0.1475 - val_sparse_categorical_accuracy: 0.1475\n",
      "Epoch 3/60\n",
      "3/3 [==============================] - 0s 64ms/step - loss: 2.2432 - accuracy: 0.1532 - sparse_categorical_accuracy: 0.1532 - val_loss: 2.2594 - val_accuracy: 0.1803 - val_sparse_categorical_accuracy: 0.1803\n",
      "Epoch 4/60\n",
      "3/3 [==============================] - 0s 62ms/step - loss: 2.2579 - accuracy: 0.1775 - sparse_categorical_accuracy: 0.1775 - val_loss: 2.2239 - val_accuracy: 0.1148 - val_sparse_categorical_accuracy: 0.1148\n",
      "Epoch 5/60\n",
      "3/3 [==============================] - 0s 53ms/step - loss: 2.1429 - accuracy: 0.1990 - sparse_categorical_accuracy: 0.1990 - val_loss: 2.0789 - val_accuracy: 0.5246 - val_sparse_categorical_accuracy: 0.5246\n",
      "Epoch 6/60\n",
      "3/3 [==============================] - 0s 65ms/step - loss: 2.1384 - accuracy: 0.3921 - sparse_categorical_accuracy: 0.3921 - val_loss: 2.0977 - val_accuracy: 0.3770 - val_sparse_categorical_accuracy: 0.3770\n",
      "Epoch 7/60\n",
      "3/3 [==============================] - 0s 62ms/step - loss: 1.9968 - accuracy: 0.3336 - sparse_categorical_accuracy: 0.3336 - val_loss: 2.1359 - val_accuracy: 0.1639 - val_sparse_categorical_accuracy: 0.1639\n",
      "Epoch 8/60\n",
      "3/3 [==============================] - 0s 65ms/step - loss: 1.9728 - accuracy: 0.3524 - sparse_categorical_accuracy: 0.3524 - val_loss: 1.9079 - val_accuracy: 0.3443 - val_sparse_categorical_accuracy: 0.3443\n",
      "Epoch 9/60\n",
      "3/3 [==============================] - 0s 66ms/step - loss: 1.8507 - accuracy: 0.3744 - sparse_categorical_accuracy: 0.3744 - val_loss: 1.8424 - val_accuracy: 0.3607 - val_sparse_categorical_accuracy: 0.3607\n",
      "Epoch 10/60\n",
      "3/3 [==============================] - 0s 62ms/step - loss: 1.6681 - accuracy: 0.6242 - sparse_categorical_accuracy: 0.6242 - val_loss: 2.0294 - val_accuracy: 0.2623 - val_sparse_categorical_accuracy: 0.2623\n",
      "Epoch 11/60\n",
      "3/3 [==============================] - 0s 64ms/step - loss: 1.6298 - accuracy: 0.5286 - sparse_categorical_accuracy: 0.5286 - val_loss: 1.6217 - val_accuracy: 0.5082 - val_sparse_categorical_accuracy: 0.5082\n",
      "Epoch 12/60\n",
      "3/3 [==============================] - 0s 70ms/step - loss: 1.5334 - accuracy: 0.5167 - sparse_categorical_accuracy: 0.5167 - val_loss: 1.5408 - val_accuracy: 0.5902 - val_sparse_categorical_accuracy: 0.5902\n",
      "Epoch 13/60\n",
      "3/3 [==============================] - 0s 64ms/step - loss: 1.2920 - accuracy: 0.6778 - sparse_categorical_accuracy: 0.6778 - val_loss: 1.6289 - val_accuracy: 0.4590 - val_sparse_categorical_accuracy: 0.4590\n",
      "Epoch 14/60\n",
      "3/3 [==============================] - 0s 65ms/step - loss: 1.1536 - accuracy: 0.7656 - sparse_categorical_accuracy: 0.7656 - val_loss: 1.2750 - val_accuracy: 0.7213 - val_sparse_categorical_accuracy: 0.7213\n",
      "Epoch 15/60\n",
      "3/3 [==============================] - 0s 63ms/step - loss: 1.1060 - accuracy: 0.6499 - sparse_categorical_accuracy: 0.6499 - val_loss: 1.0987 - val_accuracy: 0.8525 - val_sparse_categorical_accuracy: 0.8525\n",
      "Epoch 16/60\n",
      "3/3 [==============================] - 0s 61ms/step - loss: 0.9338 - accuracy: 0.8534 - sparse_categorical_accuracy: 0.8534 - val_loss: 1.0770 - val_accuracy: 0.9836 - val_sparse_categorical_accuracy: 0.9836\n",
      "Epoch 17/60\n",
      "3/3 [==============================] - 0s 85ms/step - loss: 0.8550 - accuracy: 0.8843 - sparse_categorical_accuracy: 0.8843 - val_loss: 1.0502 - val_accuracy: 0.8361 - val_sparse_categorical_accuracy: 0.8361\n",
      "Epoch 18/60\n",
      "3/3 [==============================] - 0s 66ms/step - loss: 0.7479 - accuracy: 0.9620 - sparse_categorical_accuracy: 0.9620 - val_loss: 0.9039 - val_accuracy: 0.8689 - val_sparse_categorical_accuracy: 0.8689\n",
      "Epoch 19/60\n",
      "3/3 [==============================] - 0s 67ms/step - loss: 0.7207 - accuracy: 0.8653 - sparse_categorical_accuracy: 0.8653 - val_loss: 0.8625 - val_accuracy: 0.8852 - val_sparse_categorical_accuracy: 0.8852\n",
      "Epoch 20/60\n",
      "3/3 [==============================] - 0s 68ms/step - loss: 0.6798 - accuracy: 0.9468 - sparse_categorical_accuracy: 0.9468 - val_loss: 0.8667 - val_accuracy: 1.0000 - val_sparse_categorical_accuracy: 1.0000\n",
      "Epoch 21/60\n",
      "3/3 [==============================] - 0s 67ms/step - loss: 0.6718 - accuracy: 0.9813 - sparse_categorical_accuracy: 0.9813 - val_loss: 0.9490 - val_accuracy: 0.8689 - val_sparse_categorical_accuracy: 0.8689\n",
      "Epoch 22/60\n",
      "3/3 [==============================] - 0s 72ms/step - loss: 0.6626 - accuracy: 0.9078 - sparse_categorical_accuracy: 0.9078 - val_loss: 0.8384 - val_accuracy: 1.0000 - val_sparse_categorical_accuracy: 1.0000\n",
      "Epoch 23/60\n",
      "3/3 [==============================] - 0s 65ms/step - loss: 0.6265 - accuracy: 0.9364 - sparse_categorical_accuracy: 0.9364 - val_loss: 0.8486 - val_accuracy: 0.6230 - val_sparse_categorical_accuracy: 0.6230\n",
      "Epoch 24/60\n",
      "3/3 [==============================] - 0s 69ms/step - loss: 0.5841 - accuracy: 0.8609 - sparse_categorical_accuracy: 0.8609 - val_loss: 0.6129 - val_accuracy: 0.9016 - val_sparse_categorical_accuracy: 0.9016\n",
      "Epoch 25/60\n",
      "3/3 [==============================] - 0s 62ms/step - loss: 0.5177 - accuracy: 0.9199 - sparse_categorical_accuracy: 0.9199 - val_loss: 0.8094 - val_accuracy: 0.5902 - val_sparse_categorical_accuracy: 0.5902\n",
      "Epoch 26/60\n",
      "3/3 [==============================] - 0s 56ms/step - loss: 0.7468 - accuracy: 0.7440 - sparse_categorical_accuracy: 0.7440 - val_loss: 0.5724 - val_accuracy: 0.9344 - val_sparse_categorical_accuracy: 0.9344\n",
      "Epoch 27/60\n",
      "3/3 [==============================] - 0s 61ms/step - loss: 0.6677 - accuracy: 0.7924 - sparse_categorical_accuracy: 0.7924 - val_loss: 0.9820 - val_accuracy: 0.8525 - val_sparse_categorical_accuracy: 0.8525\n",
      "Epoch 28/60\n",
      "3/3 [==============================] - 0s 59ms/step - loss: 1.0016 - accuracy: 0.7472 - sparse_categorical_accuracy: 0.7472 - val_loss: 2.7506 - val_accuracy: 0.2459 - val_sparse_categorical_accuracy: 0.2459\n",
      "Epoch 29/60\n",
      "3/3 [==============================] - 0s 71ms/step - loss: 1.9668 - accuracy: 0.6074 - sparse_categorical_accuracy: 0.6074 - val_loss: 2.4270 - val_accuracy: 0.5246 - val_sparse_categorical_accuracy: 0.5246\n",
      "Epoch 30/60\n",
      "3/3 [==============================] - 0s 67ms/step - loss: 1.4898 - accuracy: 0.6259 - sparse_categorical_accuracy: 0.6259 - val_loss: 1.1629 - val_accuracy: 0.7049 - val_sparse_categorical_accuracy: 0.7049\n",
      "Epoch 31/60\n",
      "3/3 [==============================] - 0s 63ms/step - loss: 1.0964 - accuracy: 0.6522 - sparse_categorical_accuracy: 0.6522 - val_loss: 1.6876 - val_accuracy: 0.4918 - val_sparse_categorical_accuracy: 0.4918\n",
      "Epoch 32/60\n",
      "3/3 [==============================] - 0s 61ms/step - loss: 1.0058 - accuracy: 0.7012 - sparse_categorical_accuracy: 0.7012 - val_loss: 1.1489 - val_accuracy: 0.6393 - val_sparse_categorical_accuracy: 0.6393\n",
      "Epoch 33/60\n",
      "3/3 [==============================] - 0s 63ms/step - loss: 0.8312 - accuracy: 0.7290 - sparse_categorical_accuracy: 0.7290 - val_loss: 0.8659 - val_accuracy: 1.0000 - val_sparse_categorical_accuracy: 1.0000\n",
      "Epoch 34/60\n",
      "3/3 [==============================] - 0s 68ms/step - loss: 0.6760 - accuracy: 0.7775 - sparse_categorical_accuracy: 0.7775 - val_loss: 0.8402 - val_accuracy: 0.6721 - val_sparse_categorical_accuracy: 0.6721\n",
      "Epoch 35/60\n",
      "3/3 [==============================] - 0s 70ms/step - loss: 0.5779 - accuracy: 0.9269 - sparse_categorical_accuracy: 0.9269 - val_loss: 0.6566 - val_accuracy: 0.9508 - val_sparse_categorical_accuracy: 0.9508\n",
      "Epoch 36/60\n",
      "3/3 [==============================] - 0s 58ms/step - loss: 0.5234 - accuracy: 0.9002 - sparse_categorical_accuracy: 0.9002 - val_loss: 0.7102 - val_accuracy: 0.9016 - val_sparse_categorical_accuracy: 0.9016\n",
      "Epoch 37/60\n",
      "3/3 [==============================] - 0s 62ms/step - loss: 0.4799 - accuracy: 0.9692 - sparse_categorical_accuracy: 0.9692 - val_loss: 0.5963 - val_accuracy: 1.0000 - val_sparse_categorical_accuracy: 1.0000\n",
      "Epoch 38/60\n"
     ]
    },
    {
     "name": "stdout",
     "output_type": "stream",
     "text": [
      "3/3 [==============================] - 0s 62ms/step - loss: 0.4229 - accuracy: 0.9920 - sparse_categorical_accuracy: 0.9920 - val_loss: 0.5521 - val_accuracy: 1.0000 - val_sparse_categorical_accuracy: 1.0000\n",
      "Epoch 39/60\n",
      "3/3 [==============================] - 0s 56ms/step - loss: 0.4056 - accuracy: 0.9920 - sparse_categorical_accuracy: 0.9920 - val_loss: 0.5392 - val_accuracy: 1.0000 - val_sparse_categorical_accuracy: 1.0000\n",
      "Epoch 40/60\n",
      "3/3 [==============================] - 0s 68ms/step - loss: 0.3939 - accuracy: 0.9920 - sparse_categorical_accuracy: 0.9920 - val_loss: 0.5399 - val_accuracy: 1.0000 - val_sparse_categorical_accuracy: 1.0000\n",
      "Epoch 41/60\n",
      "3/3 [==============================] - 0s 54ms/step - loss: 0.3876 - accuracy: 0.9920 - sparse_categorical_accuracy: 0.9920 - val_loss: 0.5264 - val_accuracy: 1.0000 - val_sparse_categorical_accuracy: 1.0000\n",
      "Epoch 42/60\n",
      "3/3 [==============================] - 0s 60ms/step - loss: 0.3751 - accuracy: 0.9920 - sparse_categorical_accuracy: 0.9920 - val_loss: 0.4914 - val_accuracy: 0.9836 - val_sparse_categorical_accuracy: 0.9836\n",
      "Epoch 43/60\n",
      "3/3 [==============================] - 0s 58ms/step - loss: 0.3532 - accuracy: 0.9920 - sparse_categorical_accuracy: 0.9920 - val_loss: 0.4701 - val_accuracy: 1.0000 - val_sparse_categorical_accuracy: 1.0000\n",
      "Epoch 44/60\n",
      "3/3 [==============================] - 0s 65ms/step - loss: 0.3262 - accuracy: 0.9840 - sparse_categorical_accuracy: 0.9840 - val_loss: 0.4160 - val_accuracy: 0.9836 - val_sparse_categorical_accuracy: 0.9836\n",
      "Epoch 45/60\n",
      "3/3 [==============================] - 0s 73ms/step - loss: 0.3141 - accuracy: 0.9852 - sparse_categorical_accuracy: 0.9852 - val_loss: 0.3528 - val_accuracy: 0.9836 - val_sparse_categorical_accuracy: 0.9836\n",
      "Epoch 46/60\n",
      "3/3 [==============================] - 0s 64ms/step - loss: 0.2685 - accuracy: 0.9920 - sparse_categorical_accuracy: 0.9920 - val_loss: 0.3555 - val_accuracy: 1.0000 - val_sparse_categorical_accuracy: 1.0000\n",
      "Epoch 47/60\n",
      "3/3 [==============================] - 0s 61ms/step - loss: 0.2254 - accuracy: 0.9920 - sparse_categorical_accuracy: 0.9920 - val_loss: 0.2890 - val_accuracy: 0.9836 - val_sparse_categorical_accuracy: 0.9836\n",
      "Epoch 48/60\n",
      "3/3 [==============================] - 0s 58ms/step - loss: 0.2183 - accuracy: 0.9812 - sparse_categorical_accuracy: 0.9812 - val_loss: 0.2316 - val_accuracy: 0.9836 - val_sparse_categorical_accuracy: 0.9836\n",
      "Epoch 49/60\n",
      "3/3 [==============================] - 0s 66ms/step - loss: 0.2540 - accuracy: 0.9368 - sparse_categorical_accuracy: 0.9368 - val_loss: 0.2845 - val_accuracy: 0.9016 - val_sparse_categorical_accuracy: 0.9016\n",
      "Epoch 50/60\n",
      "3/3 [==============================] - 0s 63ms/step - loss: 0.2512 - accuracy: 0.9240 - sparse_categorical_accuracy: 0.9240 - val_loss: 0.2618 - val_accuracy: 0.9016 - val_sparse_categorical_accuracy: 0.9016\n",
      "Epoch 51/60\n",
      "3/3 [==============================] - 0s 68ms/step - loss: 0.2450 - accuracy: 0.9114 - sparse_categorical_accuracy: 0.9114 - val_loss: 0.4785 - val_accuracy: 0.7869 - val_sparse_categorical_accuracy: 0.7869\n",
      "Epoch 52/60\n",
      "3/3 [==============================] - 0s 67ms/step - loss: 0.3161 - accuracy: 0.8770 - sparse_categorical_accuracy: 0.8770 - val_loss: 0.2360 - val_accuracy: 0.9672 - val_sparse_categorical_accuracy: 0.9672\n",
      "Epoch 53/60\n",
      "3/3 [==============================] - 0s 63ms/step - loss: 0.1663 - accuracy: 0.9613 - sparse_categorical_accuracy: 0.9613 - val_loss: 0.2013 - val_accuracy: 0.9836 - val_sparse_categorical_accuracy: 0.9836\n",
      "Epoch 54/60\n",
      "3/3 [==============================] - 0s 66ms/step - loss: 0.1384 - accuracy: 0.9812 - sparse_categorical_accuracy: 0.9812 - val_loss: 0.1598 - val_accuracy: 0.9672 - val_sparse_categorical_accuracy: 0.9672\n",
      "Epoch 55/60\n",
      "3/3 [==============================] - 0s 56ms/step - loss: 0.1234 - accuracy: 0.9866 - sparse_categorical_accuracy: 0.9866 - val_loss: 0.2825 - val_accuracy: 0.9016 - val_sparse_categorical_accuracy: 0.9016\n",
      "Epoch 56/60\n",
      "3/3 [==============================] - 0s 66ms/step - loss: 0.1188 - accuracy: 0.9847 - sparse_categorical_accuracy: 0.9847 - val_loss: 0.1242 - val_accuracy: 0.9836 - val_sparse_categorical_accuracy: 0.9836\n",
      "Epoch 57/60\n",
      "3/3 [==============================] - 0s 71ms/step - loss: 0.1404 - accuracy: 0.9666 - sparse_categorical_accuracy: 0.9666 - val_loss: 0.1569 - val_accuracy: 0.9836 - val_sparse_categorical_accuracy: 0.9836\n",
      "Epoch 58/60\n",
      "3/3 [==============================] - 0s 63ms/step - loss: 0.1001 - accuracy: 0.9879 - sparse_categorical_accuracy: 0.9879 - val_loss: 0.1455 - val_accuracy: 0.9836 - val_sparse_categorical_accuracy: 0.9836\n",
      "Epoch 59/60\n",
      "3/3 [==============================] - 0s 61ms/step - loss: 0.0946 - accuracy: 0.9906 - sparse_categorical_accuracy: 0.9906 - val_loss: 0.1130 - val_accuracy: 0.9836 - val_sparse_categorical_accuracy: 0.9836\n",
      "Epoch 60/60\n",
      "3/3 [==============================] - 0s 70ms/step - loss: 0.0924 - accuracy: 0.9920 - sparse_categorical_accuracy: 0.9920 - val_loss: 0.1110 - val_accuracy: 0.9836 - val_sparse_categorical_accuracy: 0.9836\n"
     ]
    },
    {
     "name": "stderr",
     "output_type": "stream",
     "text": [
      "Iterating through all batches to summarize, be patient...: 0it [00:00, ?it/s]\n",
      "Iterating through all batches to summarize, be patient...: 0it [00:00, ?it/s]\n",
      "Iterating through all batches to summarize, be patient...: 0it [00:00, ?it/s]\n",
      "Iterating through all batches to summarize, be patient...: 0it [00:00, ?it/s]"
     ]
    },
    {
     "name": "stdout",
     "output_type": "stream",
     "text": [
      "1/1 [==============================] - 0s 102ms/step\n"
     ]
    },
    {
     "name": "stderr",
     "output_type": "stream",
     "text": [
      "\n",
      "\u001b[34m\u001b[1mwandb\u001b[0m: \u001b[33mWARNING\u001b[0m Calling wandb.login() after wandb.init() has no effect.\n"
     ]
    },
    {
     "data": {
      "text/html": [
       "Finishing last run (ID:q7okyd0z) before initializing another..."
      ],
      "text/plain": [
       "<IPython.core.display.HTML object>"
      ]
     },
     "metadata": {},
     "output_type": "display_data"
    },
    {
     "data": {
      "application/vnd.jupyter.widget-view+json": {
       "model_id": "",
       "version_major": 2,
       "version_minor": 0
      },
      "text/plain": [
       "VBox(children=(Label(value='0.005 MB of 0.005 MB uploaded\\r'), FloatProgress(value=1.0, max=1.0)))"
      ]
     },
     "metadata": {},
     "output_type": "display_data"
    },
    {
     "data": {
      "text/html": [
       "<style>\n",
       "    table.wandb td:nth-child(1) { padding: 0 10px; text-align: left ; width: auto;} td:nth-child(2) {text-align: left ; width: 100%}\n",
       "    .wandb-row { display: flex; flex-direction: row; flex-wrap: wrap; justify-content: flex-start; width: 100% }\n",
       "    .wandb-col { display: flex; flex-direction: column; flex-basis: 100%; flex: 1; padding: 10px; }\n",
       "    </style>\n",
       "<div class=\"wandb-row\"><div class=\"wandb-col\"><h3>Run history:</h3><br/><table class=\"wandb\"><tr><td>batch/accuracy</td><td>▁▁▂▂▃▃▄▄▅▆▇▇▇█▇▇█▆▆▆▅▆▆█████████▇▇▇█████</td></tr><tr><td>batch/batch_step</td><td>▁▁▁▁▂▂▂▂▂▃▃▃▃▃▃▄▄▄▄▄▅▅▅▅▅▅▆▆▆▆▆▇▇▇▇▇▇███</td></tr><tr><td>batch/learning_rate</td><td>▂▂▄▄▆▇█▇▆▅▄▂▂▁▂▄▄▅▇█▇▇▅▄▃▂▁▂▃▄▅▇█▇▇▅▄▃▂▁</td></tr><tr><td>batch/loss</td><td>███▇▆▇▅▅▅▄▄▃▃▃▃▃▂▃▄▇▄▄▃▂▂▂▂▂▂▂▂▁▁▁▂▁▁▁▁▁</td></tr><tr><td>batch/sparse_categorical_accuracy</td><td>▁▁▂▂▃▃▄▄▅▆▇▇▇█▇▇█▆▆▆▅▆▆█████████▇▇▇█████</td></tr><tr><td>epoch/accuracy</td><td>▁▁▁▂▃▃▅▄▅▆▇▇▇█▇█▇▆▆▅▅▆▆▇█████████▇▇█████</td></tr><tr><td>epoch/epoch</td><td>▁▁▁▁▂▂▂▂▂▃▃▃▃▃▃▄▄▄▄▄▅▅▅▅▅▅▆▆▆▆▆▆▇▇▇▇▇███</td></tr><tr><td>epoch/learning_rate</td><td>▂▂▄▄▆▇█▇▆▅▄▃▂▁▂▃▄▅▇▇▇▇▅▄▃▂▁▂▃▄▅▆▇█▇▆▄▄▂▁</td></tr><tr><td>epoch/loss</td><td>███▇▇▇▆▆▅▄▄▃▃▃▃▃▂▃▄▇▄▄▃▂▂▂▂▂▂▂▂▁▁▁▂▁▁▁▁▁</td></tr><tr><td>epoch/sparse_categorical_accuracy</td><td>▁▁▁▂▃▃▅▄▅▆▇▇▇█▇█▇▆▆▅▅▆▆▇█████████▇▇█████</td></tr><tr><td>epoch/val_accuracy</td><td>▁▂▁▄▂▃▂▄▄▆█▇▇██▅▅█▂▄▄▅▅█████████▇▇██▇███</td></tr><tr><td>epoch/val_loss</td><td>▇▇▇▆▆▆▆▅▅▄▄▃▃▃▃▃▃▂█▇▅▄▃▂▂▂▂▂▂▂▂▁▁▁▁▁▁▁▁▁</td></tr><tr><td>epoch/val_sparse_categorical_accuracy</td><td>▁▂▁▄▂▃▂▄▄▆█▇▇██▅▅█▂▄▄▅▅█████████▇▇██▇███</td></tr></table><br/></div><div class=\"wandb-col\"><h3>Run summary:</h3><br/><table class=\"wandb\"><tr><td>batch/accuracy</td><td>0.992</td></tr><tr><td>batch/batch_step</td><td>179</td></tr><tr><td>batch/learning_rate</td><td>2e-05</td></tr><tr><td>batch/loss</td><td>0.09239</td></tr><tr><td>batch/sparse_categorical_accuracy</td><td>0.992</td></tr><tr><td>epoch/accuracy</td><td>0.992</td></tr><tr><td>epoch/epoch</td><td>59</td></tr><tr><td>epoch/learning_rate</td><td>2e-05</td></tr><tr><td>epoch/loss</td><td>0.09239</td></tr><tr><td>epoch/sparse_categorical_accuracy</td><td>0.992</td></tr><tr><td>epoch/val_accuracy</td><td>0.98361</td></tr><tr><td>epoch/val_loss</td><td>0.11095</td></tr><tr><td>epoch/val_sparse_categorical_accuracy</td><td>0.98361</td></tr></table><br/></div></div>"
      ],
      "text/plain": [
       "<IPython.core.display.HTML object>"
      ]
     },
     "metadata": {},
     "output_type": "display_data"
    },
    {
     "data": {
      "text/html": [
       " View run <strong style=\"color:#cdcd00\">snowy-cloud-14</strong> at: <a href='https://wandb.ai/nathan-mahynski/cnn-1d-demo/runs/q7okyd0z' target=\"_blank\">https://wandb.ai/nathan-mahynski/cnn-1d-demo/runs/q7okyd0z</a><br/> View project at: <a href='https://wandb.ai/nathan-mahynski/cnn-1d-demo' target=\"_blank\">https://wandb.ai/nathan-mahynski/cnn-1d-demo</a><br/>Synced 6 W&B file(s), 0 media file(s), 0 artifact file(s) and 0 other file(s)"
      ],
      "text/plain": [
       "<IPython.core.display.HTML object>"
      ]
     },
     "metadata": {},
     "output_type": "display_data"
    },
    {
     "data": {
      "text/html": [
       "Find logs at: <code>./wandb/run-20240806_141937-q7okyd0z/logs</code>"
      ],
      "text/plain": [
       "<IPython.core.display.HTML object>"
      ]
     },
     "metadata": {},
     "output_type": "display_data"
    },
    {
     "data": {
      "text/html": [
       "The new W&B backend becomes opt-out in version 0.18.0; try it out with `wandb.require(\"core\")`! See https://wandb.me/wandb-core for more information."
      ],
      "text/plain": [
       "<IPython.core.display.HTML object>"
      ]
     },
     "metadata": {},
     "output_type": "display_data"
    },
    {
     "data": {
      "text/html": [
       "Successfully finished last run (ID:q7okyd0z). Initializing new run:<br/>"
      ],
      "text/plain": [
       "<IPython.core.display.HTML object>"
      ]
     },
     "metadata": {},
     "output_type": "display_data"
    },
    {
     "data": {
      "application/vnd.jupyter.widget-view+json": {
       "model_id": "34131877f3be4bbcac73d9bd9a84fc1e",
       "version_major": 2,
       "version_minor": 0
      },
      "text/plain": [
       "VBox(children=(Label(value='Waiting for wandb.init()...\\r'), FloatProgress(value=0.011113162977724439, max=1.0…"
      ]
     },
     "metadata": {},
     "output_type": "display_data"
    },
    {
     "data": {
      "text/html": [
       "Tracking run with wandb version 0.17.5"
      ],
      "text/plain": [
       "<IPython.core.display.HTML object>"
      ]
     },
     "metadata": {},
     "output_type": "display_data"
    },
    {
     "data": {
      "text/html": [
       "Run data is saved locally in <code>/home/nam4/Documents/pychemauth/docs/jupyter/api/wandb/run-20240806_142002-eildnwmi</code>"
      ],
      "text/plain": [
       "<IPython.core.display.HTML object>"
      ]
     },
     "metadata": {},
     "output_type": "display_data"
    },
    {
     "data": {
      "text/html": [
       "Syncing run <strong><a href='https://wandb.ai/nathan-mahynski/cnn-1d-demo/runs/eildnwmi' target=\"_blank\">icy-pine-15</a></strong> to <a href='https://wandb.ai/nathan-mahynski/cnn-1d-demo' target=\"_blank\">Weights & Biases</a> (<a href='https://wandb.me/run' target=\"_blank\">docs</a>)<br/>"
      ],
      "text/plain": [
       "<IPython.core.display.HTML object>"
      ]
     },
     "metadata": {},
     "output_type": "display_data"
    },
    {
     "data": {
      "text/html": [
       " View project at <a href='https://wandb.ai/nathan-mahynski/cnn-1d-demo' target=\"_blank\">https://wandb.ai/nathan-mahynski/cnn-1d-demo</a>"
      ],
      "text/plain": [
       "<IPython.core.display.HTML object>"
      ]
     },
     "metadata": {},
     "output_type": "display_data"
    },
    {
     "data": {
      "text/html": [
       " View run at <a href='https://wandb.ai/nathan-mahynski/cnn-1d-demo/runs/eildnwmi' target=\"_blank\">https://wandb.ai/nathan-mahynski/cnn-1d-demo/runs/eildnwmi</a>"
      ],
      "text/plain": [
       "<IPython.core.display.HTML object>"
      ]
     },
     "metadata": {},
     "output_type": "display_data"
    },
    {
     "name": "stdout",
     "output_type": "stream",
     "text": [
      "Epoch 1/60\n",
      "3/3 [==============================] - 2s 170ms/step - loss: 2.3690 - accuracy: 0.1376 - sparse_categorical_accuracy: 0.1376 - val_loss: 2.2629 - val_accuracy: 0.0820 - val_sparse_categorical_accuracy: 0.0820\n",
      "Epoch 2/60\n",
      "3/3 [==============================] - 0s 68ms/step - loss: 2.3948 - accuracy: 0.1246 - sparse_categorical_accuracy: 0.1246 - val_loss: 2.3774 - val_accuracy: 0.1475 - val_sparse_categorical_accuracy: 0.1475\n",
      "Epoch 3/60\n",
      "3/3 [==============================] - 0s 55ms/step - loss: 2.2432 - accuracy: 0.1532 - sparse_categorical_accuracy: 0.1532 - val_loss: 2.2594 - val_accuracy: 0.1803 - val_sparse_categorical_accuracy: 0.1803\n",
      "Epoch 4/60\n",
      "3/3 [==============================] - 0s 65ms/step - loss: 2.2579 - accuracy: 0.1775 - sparse_categorical_accuracy: 0.1775 - val_loss: 2.2239 - val_accuracy: 0.1148 - val_sparse_categorical_accuracy: 0.1148\n",
      "Epoch 5/60\n",
      "3/3 [==============================] - 0s 53ms/step - loss: 2.1429 - accuracy: 0.1990 - sparse_categorical_accuracy: 0.1990 - val_loss: 2.0789 - val_accuracy: 0.5246 - val_sparse_categorical_accuracy: 0.5246\n",
      "Epoch 6/60\n",
      "3/3 [==============================] - 0s 61ms/step - loss: 2.1384 - accuracy: 0.3921 - sparse_categorical_accuracy: 0.3921 - val_loss: 2.0977 - val_accuracy: 0.3770 - val_sparse_categorical_accuracy: 0.3770\n",
      "Epoch 7/60\n",
      "3/3 [==============================] - 0s 58ms/step - loss: 1.9968 - accuracy: 0.3336 - sparse_categorical_accuracy: 0.3336 - val_loss: 2.1359 - val_accuracy: 0.1639 - val_sparse_categorical_accuracy: 0.1639\n",
      "Epoch 8/60\n",
      "3/3 [==============================] - 0s 63ms/step - loss: 1.9728 - accuracy: 0.3524 - sparse_categorical_accuracy: 0.3524 - val_loss: 1.9079 - val_accuracy: 0.3443 - val_sparse_categorical_accuracy: 0.3443\n",
      "Epoch 9/60\n",
      "3/3 [==============================] - 0s 62ms/step - loss: 1.8507 - accuracy: 0.3744 - sparse_categorical_accuracy: 0.3744 - val_loss: 1.8424 - val_accuracy: 0.3607 - val_sparse_categorical_accuracy: 0.3607\n",
      "Epoch 10/60\n",
      "3/3 [==============================] - 0s 58ms/step - loss: 1.6681 - accuracy: 0.6242 - sparse_categorical_accuracy: 0.6242 - val_loss: 2.0294 - val_accuracy: 0.2623 - val_sparse_categorical_accuracy: 0.2623\n",
      "Epoch 11/60\n",
      "3/3 [==============================] - 0s 59ms/step - loss: 1.6298 - accuracy: 0.5286 - sparse_categorical_accuracy: 0.5286 - val_loss: 1.6217 - val_accuracy: 0.5082 - val_sparse_categorical_accuracy: 0.5082\n",
      "Epoch 12/60\n",
      "3/3 [==============================] - 0s 59ms/step - loss: 1.5334 - accuracy: 0.5167 - sparse_categorical_accuracy: 0.5167 - val_loss: 1.5408 - val_accuracy: 0.5902 - val_sparse_categorical_accuracy: 0.5902\n",
      "Epoch 13/60\n",
      "3/3 [==============================] - 0s 63ms/step - loss: 1.2920 - accuracy: 0.6778 - sparse_categorical_accuracy: 0.6778 - val_loss: 1.6289 - val_accuracy: 0.4590 - val_sparse_categorical_accuracy: 0.4590\n",
      "Epoch 14/60\n",
      "3/3 [==============================] - 0s 60ms/step - loss: 1.1536 - accuracy: 0.7656 - sparse_categorical_accuracy: 0.7656 - val_loss: 1.2750 - val_accuracy: 0.7213 - val_sparse_categorical_accuracy: 0.7213\n",
      "Epoch 15/60\n",
      "3/3 [==============================] - 0s 54ms/step - loss: 1.1060 - accuracy: 0.6499 - sparse_categorical_accuracy: 0.6499 - val_loss: 1.0987 - val_accuracy: 0.8525 - val_sparse_categorical_accuracy: 0.8525\n",
      "Epoch 16/60\n",
      "3/3 [==============================] - 0s 68ms/step - loss: 0.9338 - accuracy: 0.8534 - sparse_categorical_accuracy: 0.8534 - val_loss: 1.0770 - val_accuracy: 0.9836 - val_sparse_categorical_accuracy: 0.9836\n",
      "Epoch 17/60\n",
      "3/3 [==============================] - 0s 55ms/step - loss: 0.8550 - accuracy: 0.8843 - sparse_categorical_accuracy: 0.8843 - val_loss: 1.0502 - val_accuracy: 0.8361 - val_sparse_categorical_accuracy: 0.8361\n",
      "Epoch 18/60\n",
      "3/3 [==============================] - 0s 56ms/step - loss: 0.7479 - accuracy: 0.9620 - sparse_categorical_accuracy: 0.9620 - val_loss: 0.9039 - val_accuracy: 0.8689 - val_sparse_categorical_accuracy: 0.8689\n",
      "Epoch 19/60\n",
      "3/3 [==============================] - 0s 62ms/step - loss: 0.7207 - accuracy: 0.8653 - sparse_categorical_accuracy: 0.8653 - val_loss: 0.8625 - val_accuracy: 0.8852 - val_sparse_categorical_accuracy: 0.8852\n",
      "Epoch 20/60\n",
      "3/3 [==============================] - 0s 65ms/step - loss: 0.6798 - accuracy: 0.9468 - sparse_categorical_accuracy: 0.9468 - val_loss: 0.8667 - val_accuracy: 1.0000 - val_sparse_categorical_accuracy: 1.0000\n",
      "Epoch 21/60\n",
      "3/3 [==============================] - 0s 54ms/step - loss: 0.6683 - accuracy: 0.9920 - sparse_categorical_accuracy: 0.9920 - val_loss: 0.9098 - val_accuracy: 0.9672 - val_sparse_categorical_accuracy: 0.9672\n",
      "Epoch 22/60\n",
      "3/3 [==============================] - 0s 69ms/step - loss: 0.6662 - accuracy: 0.9624 - sparse_categorical_accuracy: 0.9624 - val_loss: 0.9220 - val_accuracy: 0.9672 - val_sparse_categorical_accuracy: 0.9672\n",
      "Epoch 23/60\n",
      "3/3 [==============================] - 0s 59ms/step - loss: 0.6328 - accuracy: 0.9799 - sparse_categorical_accuracy: 0.9799 - val_loss: 0.7794 - val_accuracy: 0.9180 - val_sparse_categorical_accuracy: 0.9180\n",
      "Epoch 24/60\n",
      "3/3 [==============================] - 0s 59ms/step - loss: 0.6174 - accuracy: 0.8885 - sparse_categorical_accuracy: 0.8885 - val_loss: 0.7760 - val_accuracy: 0.9836 - val_sparse_categorical_accuracy: 0.9836\n",
      "Epoch 25/60\n",
      "3/3 [==============================] - 0s 64ms/step - loss: 0.5702 - accuracy: 0.9572 - sparse_categorical_accuracy: 0.9572 - val_loss: 0.7079 - val_accuracy: 0.9672 - val_sparse_categorical_accuracy: 0.9672\n",
      "Epoch 26/60\n",
      "3/3 [==============================] - 0s 51ms/step - loss: 0.5155 - accuracy: 0.9794 - sparse_categorical_accuracy: 0.9794 - val_loss: 0.6127 - val_accuracy: 0.9836 - val_sparse_categorical_accuracy: 0.9836\n",
      "Epoch 27/60\n",
      "3/3 [==============================] - 0s 60ms/step - loss: 0.4913 - accuracy: 0.9562 - sparse_categorical_accuracy: 0.9562 - val_loss: 0.5554 - val_accuracy: 0.8361 - val_sparse_categorical_accuracy: 0.8361\n",
      "Epoch 28/60\n",
      "3/3 [==============================] - 0s 56ms/step - loss: 0.5159 - accuracy: 0.7985 - sparse_categorical_accuracy: 0.7985 - val_loss: 0.8037 - val_accuracy: 0.7049 - val_sparse_categorical_accuracy: 0.7049\n",
      "Epoch 29/60\n",
      "3/3 [==============================] - 0s 57ms/step - loss: 0.6433 - accuracy: 0.7498 - sparse_categorical_accuracy: 0.7498 - val_loss: 0.5871 - val_accuracy: 0.7705 - val_sparse_categorical_accuracy: 0.7705\n",
      "Epoch 30/60\n",
      "3/3 [==============================] - 0s 61ms/step - loss: 0.7715 - accuracy: 0.5625 - sparse_categorical_accuracy: 0.5625 - val_loss: 0.9495 - val_accuracy: 0.6557 - val_sparse_categorical_accuracy: 0.6557\n",
      "Epoch 31/60\n",
      "3/3 [==============================] - 0s 56ms/step - loss: 0.9370 - accuracy: 0.6473 - sparse_categorical_accuracy: 0.6473 - val_loss: 0.8794 - val_accuracy: 0.4918 - val_sparse_categorical_accuracy: 0.4918\n",
      "Epoch 32/60\n",
      "3/3 [==============================] - 0s 58ms/step - loss: 0.7384 - accuracy: 0.6581 - sparse_categorical_accuracy: 0.6581 - val_loss: 0.5320 - val_accuracy: 0.8033 - val_sparse_categorical_accuracy: 0.8033\n",
      "Epoch 33/60\n",
      "3/3 [==============================] - 0s 51ms/step - loss: 0.5720 - accuracy: 0.7802 - sparse_categorical_accuracy: 0.7802 - val_loss: 1.0204 - val_accuracy: 0.6557 - val_sparse_categorical_accuracy: 0.6557\n",
      "Epoch 34/60\n",
      "3/3 [==============================] - 0s 61ms/step - loss: 0.4458 - accuracy: 0.8821 - sparse_categorical_accuracy: 0.8821 - val_loss: 0.5358 - val_accuracy: 0.8689 - val_sparse_categorical_accuracy: 0.8689\n",
      "Epoch 35/60\n",
      "3/3 [==============================] - 0s 63ms/step - loss: 0.4359 - accuracy: 0.9182 - sparse_categorical_accuracy: 0.9182 - val_loss: 0.4158 - val_accuracy: 1.0000 - val_sparse_categorical_accuracy: 1.0000\n",
      "Epoch 36/60\n",
      "3/3 [==============================] - 0s 54ms/step - loss: 0.3209 - accuracy: 0.9799 - sparse_categorical_accuracy: 0.9799 - val_loss: 0.5456 - val_accuracy: 0.9836 - val_sparse_categorical_accuracy: 0.9836\n",
      "Epoch 37/60\n",
      "3/3 [==============================] - 0s 59ms/step - loss: 0.3582 - accuracy: 0.9505 - sparse_categorical_accuracy: 0.9505 - val_loss: 0.3720 - val_accuracy: 0.9836 - val_sparse_categorical_accuracy: 0.9836\n",
      "Epoch 38/60\n"
     ]
    },
    {
     "name": "stdout",
     "output_type": "stream",
     "text": [
      "3/3 [==============================] - 0s 57ms/step - loss: 0.2902 - accuracy: 0.9760 - sparse_categorical_accuracy: 0.9760 - val_loss: 0.3805 - val_accuracy: 1.0000 - val_sparse_categorical_accuracy: 1.0000\n",
      "Epoch 39/60\n",
      "3/3 [==============================] - 0s 53ms/step - loss: 0.2841 - accuracy: 0.9906 - sparse_categorical_accuracy: 0.9906 - val_loss: 0.4139 - val_accuracy: 0.9836 - val_sparse_categorical_accuracy: 0.9836\n",
      "Epoch 40/60\n",
      "3/3 [==============================] - 0s 57ms/step - loss: 0.2894 - accuracy: 0.9893 - sparse_categorical_accuracy: 0.9893 - val_loss: 0.4076 - val_accuracy: 0.9836 - val_sparse_categorical_accuracy: 0.9836\n",
      "Epoch 41/60\n",
      "3/3 [==============================] - 0s 53ms/step - loss: 0.2803 - accuracy: 0.9906 - sparse_categorical_accuracy: 0.9906 - val_loss: 0.3637 - val_accuracy: 1.0000 - val_sparse_categorical_accuracy: 1.0000\n"
     ]
    }
   ],
   "source": [
    "# Let's try several different CLR strategies to compare them.\n",
    "# Visit wandb.com to look at the new runs stored in the 'cnn-1d-demo' project!\n",
    "model_none, _, dl_none = fit_model(\n",
    "    image_size, \n",
    "    finder, \n",
    "    n_classes=n_classes, \n",
    "    use_clr=False, \n",
    "    wandb_project='cnn-1d-demo'\n",
    ")\n",
    "\n",
    "model_clr, clr, dl = fit_model(\n",
    "    image_size, \n",
    "    finder, \n",
    "    n_classes=n_classes, \n",
    "    use_clr=True, \n",
    "    wandb_project='cnn-1d-demo', \n",
    "    mode='triangular'\n",
    ")\n",
    "\n",
    "model_clr2, clr2, dl2 = fit_model(\n",
    "    image_size, \n",
    "    finder, \n",
    "    n_classes=n_classes, \n",
    "    use_clr=True, \n",
    "    wandb_project='cnn-1d-demo', \n",
    "    mode='triangular2'\n",
    ")"
   ]
  },
  {
   "cell_type": "code",
   "execution_count": null,
   "id": "aa80c053",
   "metadata": {
    "ExecuteTime": {
     "end_time": "2024-08-05T19:32:19.601288Z",
     "start_time": "2024-08-05T19:32:19.494142Z"
    }
   },
   "outputs": [],
   "source": [
    "# The same seed is given to Keras and same number of epochs are performed so data shuffling is the same\n",
    "dl_none.x[:3], dl.x[:3], dl2.x[:3]"
   ]
  },
  {
   "cell_type": "code",
   "execution_count": null,
   "id": "19ed8430",
   "metadata": {
    "ExecuteTime": {
     "end_time": "2024-08-05T19:32:20.295053Z",
     "start_time": "2024-08-05T19:32:19.603556Z"
    }
   },
   "outputs": [],
   "source": [
    "# We can view the results directly\n",
    "plot_results(model_none)"
   ]
  },
  {
   "cell_type": "code",
   "execution_count": null,
   "id": "72b05353",
   "metadata": {
    "ExecuteTime": {
     "end_time": "2024-08-05T19:32:20.898942Z",
     "start_time": "2024-08-05T19:32:20.297838Z"
    }
   },
   "outputs": [],
   "source": [
    "plot_results(model_clr, clr)"
   ]
  },
  {
   "cell_type": "code",
   "execution_count": null,
   "id": "ff11a0d2",
   "metadata": {
    "ExecuteTime": {
     "end_time": "2024-08-05T19:32:21.485826Z",
     "start_time": "2024-08-05T19:32:20.901358Z"
    }
   },
   "outputs": [],
   "source": [
    "plot_results(model_clr2, clr2)"
   ]
  },
  {
   "cell_type": "markdown",
   "id": "2c5a87be",
   "metadata": {},
   "source": [
    "2D CNN\n",
    "---"
   ]
  },
  {
   "cell_type": "markdown",
   "id": "b41d0351",
   "metadata": {},
   "source": [
    "<h3>Load Data</h3>"
   ]
  },
  {
   "cell_type": "code",
   "execution_count": null,
   "id": "8996e901",
   "metadata": {
    "ExecuteTime": {
     "end_time": "2024-08-05T19:33:46.957046Z",
     "start_time": "2024-08-05T19:32:34.022706Z"
    }
   },
   "outputs": [],
   "source": [
    "# Let's build 2D \"images\" of these spectra with the same preprocessing as above\n",
    "res = make_pgaa_images(\n",
    "    transformer=GramianAngularField(method='difference'), \n",
    "    exclude_classes=['Carbon Powder', 'Phosphate Rock', 'Zircaloy'], \n",
    "    directory='./2d-dataset', \n",
    "    overwrite=True, \n",
    "    fmt='npy', \n",
    "    valid_range=valid_range, \n",
    "    renormalize=True,\n",
    "    test_size=0.2,\n",
    "    random_state=42\n",
    ")"
   ]
  },
  {
   "cell_type": "code",
   "execution_count": null,
   "id": "e60df554",
   "metadata": {
    "ExecuteTime": {
     "end_time": "2024-08-05T19:33:47.021970Z",
     "start_time": "2024-08-05T19:33:46.960565Z"
    }
   },
   "outputs": [],
   "source": [
    "# We will use the label encoder for nicer visualization later on\n",
    "encoder = res[-1]"
   ]
  },
  {
   "cell_type": "markdown",
   "id": "5a8970a3",
   "metadata": {},
   "source": [
    "<h3>Learning Rate Finder</h3>"
   ]
  },
  {
   "cell_type": "code",
   "execution_count": null,
   "id": "f22e9df9",
   "metadata": {
    "ExecuteTime": {
     "end_time": "2024-08-06T13:09:12.442987Z",
     "start_time": "2024-08-06T13:09:12.371179Z"
    }
   },
   "outputs": [],
   "source": [
    "# Let's use the CNNFactory in PyChemAuth to build a model for transfer learning\n",
    "\n",
    "image_size = (valid_range[1]-valid_range[0], valid_range[1]-valid_range[0], 1)\n",
    "n_classes = 10\n",
    "\n",
    "cnn_builder = CNNFactory(\n",
    "    name='mobilenet', # Name of the \"fixed\" base we will use (trained on imagenet)\n",
    "    input_size=image_size,\n",
    "    n_classes=n_classes,\n",
    "    dim=2,\n",
    "    cam=True,\n",
    "    dropout=0.2\n",
    ") "
   ]
  },
  {
   "cell_type": "code",
   "execution_count": null,
   "id": "ff88d8e0",
   "metadata": {
    "ExecuteTime": {
     "end_time": "2024-08-05T19:33:54.766277Z",
     "start_time": "2024-08-05T19:33:54.666534Z"
    }
   },
   "outputs": [],
   "source": [
    "# Let's look at a basic summary of this model\n",
    "model = cnn_builder.build()\n",
    "model.summary()"
   ]
  },
  {
   "cell_type": "code",
   "execution_count": null,
   "id": "ae5c6d96",
   "metadata": {
    "ExecuteTime": {
     "end_time": "2024-08-05T19:33:55.821542Z",
     "start_time": "2024-08-05T19:33:54.768988Z"
    }
   },
   "outputs": [],
   "source": [
    "# We can also visualize the model another way\n",
    "utils.NNTools.visualkeras(model, scale_xy=0.1, max_z=200)"
   ]
  },
  {
   "cell_type": "code",
   "execution_count": null,
   "id": "0b4851d1",
   "metadata": {
    "ExecuteTime": {
     "end_time": "2024-08-05T19:48:27.369947Z",
     "start_time": "2024-08-05T19:33:55.825293Z"
    }
   },
   "outputs": [],
   "source": [
    "# Now let's search for learning rate bounds\n",
    "finder = utils.NNTools.find_learning_rate(\n",
    "    cnn_builder.build(),\n",
    "    pychemauth.utils.NNTools.build_loader('./2d-dataset/train/', batch_size=10),\n",
    "    start_lr=1.0e-6,\n",
    ")"
   ]
  },
  {
   "cell_type": "code",
   "execution_count": null,
   "id": "502d65c3",
   "metadata": {
    "ExecuteTime": {
     "end_time": "2024-08-05T20:01:08.362443Z",
     "start_time": "2024-08-05T20:01:07.676412Z"
    }
   },
   "outputs": [],
   "source": [
    "# \"frac\" can be adjusted to control the left / lower bound on the learning rate\n",
    "# Adjust this until you are satisfied - we will use it next\n",
    "frac = 0.9\n",
    "\n",
    "ax = finder.plot()\n",
    "ax.set_yscale('log')\n",
    "ax.set_ylim(2,4)\n",
    "for l_ in finder.estimate_clr(frac=frac):\n",
    "    ax.axvline(l_, color='red')"
   ]
  },
  {
   "cell_type": "markdown",
   "id": "770484a5",
   "metadata": {},
   "source": [
    "<h3>Cyclical Learning Rates</h3>"
   ]
  },
  {
   "cell_type": "code",
   "execution_count": null,
   "id": "0d90e7c1",
   "metadata": {
    "ExecuteTime": {
     "end_time": "2024-08-05T20:01:45.262881Z",
     "start_time": "2024-08-05T20:01:45.183538Z"
    }
   },
   "outputs": [],
   "source": [
    "def fit_model(image_size, finder, use_clr=False, wandb_project=None, mode='triangular'):\n",
    "    \"\"\"Convenient function to train models several times with different hyperparameters.\"\"\"\n",
    "    clr = utils.NNTools.CyclicalLearningRate(\n",
    "        base_lr=finder.estimate_clr(frac=frac)[0],\n",
    "        max_lr=finder.estimate_clr(frac=frac)[1],\n",
    "        step_size=10, # 1/2 cycle every 10 epochs\n",
    "        mode=mode,\n",
    "    )\n",
    "\n",
    "    model = cnn_builder.build()\n",
    "\n",
    "    data_loader = utils.NNTools.build_loader('./2d-dataset/train', batch_size=10, shuffle=True)\n",
    "    \n",
    "    model = utils.NNTools.train(\n",
    "        model=model,\n",
    "        data=data_loader, \n",
    "        fit_kwargs={\n",
    "            'epochs': 60,\n",
    "            'validation_data': utils.NNTools.build_loader('./2d-dataset/test', batch_size=10),\n",
    "            'shuffle': True,\n",
    "            'callbacks': [clr] if use_clr else []\n",
    "        },\n",
    "        model_filename=None,\n",
    "        history_filename=None,\n",
    "        wandb_project=wandb_project,\n",
    "        seed=42\n",
    "    )\n",
    "    \n",
    "    return model, clr, data_loader"
   ]
  },
  {
   "cell_type": "code",
   "execution_count": null,
   "id": "d894798c",
   "metadata": {
    "ExecuteTime": {
     "end_time": "2024-08-05T22:30:07.809605Z",
     "start_time": "2024-08-05T20:01:46.852734Z"
    },
    "scrolled": true
   },
   "outputs": [],
   "source": [
    "# Fit the model and track the training on WandB\n",
    "model, clr, dl = fit_model(\n",
    "    image_size,\n",
    "    finder,\n",
    "    use_clr=True, \n",
    "    wandb_project='cnn-2d-demo',\n",
    "    mode='triangular2'\n",
    ")"
   ]
  },
  {
   "cell_type": "code",
   "execution_count": null,
   "id": "ff5cc0d0",
   "metadata": {
    "ExecuteTime": {
     "end_time": "2024-08-06T12:35:52.221384Z",
     "start_time": "2024-08-06T12:35:51.455064Z"
    }
   },
   "outputs": [],
   "source": [
    "# Look at the results locally\n",
    "plot_results(model, clr)"
   ]
  },
  {
   "cell_type": "code",
   "execution_count": null,
   "id": "fc7745e5",
   "metadata": {
    "ExecuteTime": {
     "end_time": "2024-08-06T12:36:01.098411Z",
     "start_time": "2024-08-06T12:36:01.018861Z"
    }
   },
   "outputs": [],
   "source": [
    "# Save the result to HuggingFace\n",
    "_ = utils.HuggingFace.push_to_hub(\n",
    "    model=model,\n",
    "    namespace=\"mahynski\", # Insert your own namespace here\n",
    "    repo_name=\"2d-cnn-demo\", # You can change the name if you like\n",
    "    token=\"hf_*\", # Insert your own token here\n",
    "    private=False\n",
    ")"
   ]
  },
  {
   "cell_type": "code",
   "execution_count": null,
   "id": "99670c98",
   "metadata": {
    "ExecuteTime": {
     "end_time": "2024-08-06T14:10:29.610230Z",
     "start_time": "2024-08-06T14:10:26.966571Z"
    }
   },
   "outputs": [],
   "source": [
    "# Load the model back from HuggingFace for comparison\n",
    "hf_model = utils.HuggingFace.from_pretrained(\n",
    "    model_id=\"mahynski/2d-cnn-demo\",\n",
    ")"
   ]
  },
  {
   "cell_type": "code",
   "execution_count": null,
   "id": "5e830574",
   "metadata": {
    "ExecuteTime": {
     "end_time": "2024-08-06T12:38:02.580719Z",
     "start_time": "2024-08-06T12:36:12.109171Z"
    }
   },
   "outputs": [],
   "source": [
    "# Confirm the models make the same predictions\n",
    "preds = model.predict(utils.NNTools.build_loader('./2d-dataset/test', batch_size=10))\n",
    "preds_hf = hf_model.predict(utils.NNTools.build_loader('./2d-dataset/test', batch_size=10))\n",
    "\n",
    "np.allclose(preds, preds_hf)"
   ]
  },
  {
   "cell_type": "markdown",
   "id": "c0fc29e5",
   "metadata": {},
   "source": [
    "Explanations\n",
    "---"
   ]
  },
  {
   "cell_type": "markdown",
   "id": "13f7074d",
   "metadata": {
    "ExecuteTime": {
     "end_time": "2024-08-03T01:14:14.972680Z",
     "start_time": "2024-08-03T01:14:14.889128Z"
    }
   },
   "source": [
    "<h3>Class Activation Maps (CAMs)</h3>"
   ]
  },
  {
   "cell_type": "code",
   "execution_count": null,
   "id": "fb23c96f",
   "metadata": {
    "ExecuteTime": {
     "end_time": "2024-08-06T14:10:31.225488Z",
     "start_time": "2024-08-06T14:10:31.155047Z"
    }
   },
   "outputs": [],
   "source": [
    "# We can use a CAM explainer to visually explain each prediction\n",
    "explainer = CAM2D(style='hires')"
   ]
  },
  {
   "cell_type": "code",
   "execution_count": null,
   "id": "81df88bf",
   "metadata": {
    "ExecuteTime": {
     "end_time": "2024-08-06T14:10:31.342317Z",
     "start_time": "2024-08-06T14:10:31.287534Z"
    }
   },
   "outputs": [],
   "source": [
    "# Load 2D data (and 1D for visualization reasons)\n",
    "data_loader_2d = utils.NNTools.build_loader('./2d-dataset/test', batch_size=10)\n",
    "data_loader_1d = utils.NNTools.build_loader('./1d-dataset/test', batch_size=10)"
   ]
  },
  {
   "cell_type": "code",
   "execution_count": null,
   "id": "f273aee5",
   "metadata": {
    "ExecuteTime": {
     "end_time": "2024-08-06T13:44:49.633246Z",
     "start_time": "2024-08-06T13:44:49.581007Z"
    }
   },
   "outputs": [],
   "source": [
    "def explain(batch_idx, idx_in_batch):\n",
    "    \"\"\"Explain predictions from a certain batch.\"\"\"\n",
    "    X_batch, y_batch = data_loader_2d[batch_idx]\n",
    "    X, y = X_batch[idx_in_batch], y_batch[idx_in_batch]\n",
    "\n",
    "    X_batch, y_batch = data_loader_1d[batch_idx]\n",
    "    X_line, y_line = X_batch[idx_in_batch], y_batch[idx_in_batch]\n",
    "    \n",
    "    explainer.visualize(\n",
    "        image=X,\n",
    "        model=hf_model,\n",
    "        y=X_line.ravel(),\n",
    "        x=np.arange(X_line.shape[0]),\n",
    "        correct_label=encoder.inverse_transform([y])[0],\n",
    "        origin='upper',\n",
    "        encoder=encoder\n",
    "    )"
   ]
  },
  {
   "cell_type": "code",
   "execution_count": null,
   "id": "8c870d5b",
   "metadata": {
    "ExecuteTime": {
     "end_time": "2024-08-06T13:37:06.062825Z",
     "start_time": "2024-08-06T13:36:54.312828Z"
    }
   },
   "outputs": [],
   "source": [
    "# Incorrect, but close guess\n",
    "explain(0, 0)"
   ]
  },
  {
   "cell_type": "code",
   "execution_count": null,
   "id": "a0a1b881",
   "metadata": {
    "ExecuteTime": {
     "end_time": "2024-08-06T12:41:07.781184Z",
     "start_time": "2024-08-06T12:40:56.150781Z"
    }
   },
   "outputs": [],
   "source": [
    "# Incorrect, but close guess again\n",
    "explain(0, 1)"
   ]
  },
  {
   "cell_type": "code",
   "execution_count": null,
   "id": "baab982c",
   "metadata": {
    "ExecuteTime": {
     "end_time": "2024-08-06T12:41:43.446449Z",
     "start_time": "2024-08-06T12:41:31.797082Z"
    }
   },
   "outputs": [],
   "source": [
    "explain(0, 2)"
   ]
  },
  {
   "cell_type": "markdown",
   "id": "7b595c28",
   "metadata": {},
   "source": [
    "<h3>Manual Inspection in 1D</h3>"
   ]
  },
  {
   "cell_type": "code",
   "execution_count": null,
   "id": "0baa8877",
   "metadata": {
    "ExecuteTime": {
     "end_time": "2024-08-06T14:10:46.953720Z",
     "start_time": "2024-08-06T14:10:38.152333Z"
    }
   },
   "outputs": [],
   "source": [
    "# Sometimes we might want to take a closer look and interactively explore an explanation, especially in 1D\n",
    "# Here is a way to do that using Bokeh for interactive visualization.\n",
    "\n",
    "importances = explainer.importances(\n",
    "    image=data_loader_2d[0][0][0],\n",
    "    model=hf_model,\n",
    "    symmetrize=True,\n",
    "    dim=1, # Get a 1D summary of the 2D explanation\n",
    "    series_summary='mean'\n",
    ")\n",
    "\n",
    "peaks, _ = data_loader_1d[0]"
   ]
  },
  {
   "cell_type": "code",
   "execution_count": null,
   "id": "897d9d41",
   "metadata": {
    "ExecuteTime": {
     "end_time": "2024-08-06T14:10:47.108480Z",
     "start_time": "2024-08-06T14:10:46.956973Z"
    }
   },
   "outputs": [],
   "source": [
    "from bokeh.io import output_notebook\n",
    "output_notebook()\n",
    "\n",
    "bokeh_color_spectrum(\n",
    "    y=peaks[0],\n",
    "    x=np.arange(peaks[0].shape[0]),\n",
    "    importance_values=importances\n",
    ")"
   ]
  },
  {
   "cell_type": "markdown",
   "id": "2a1e96c9",
   "metadata": {},
   "source": [
    "<h3>SHAP</h3>"
   ]
  },
  {
   "cell_type": "markdown",
   "id": "93874af3",
   "metadata": {},
   "source": [
    "This explanation relies on the \"partition\" explainer by \"blurring\" pixels to create \"super pixels\".  See [here](https://shap.readthedocs.io/en/latest/example_notebooks/image_examples/image_classification/Explain%20ResNet50%20using%20the%20Partition%20explainer.html) for more details."
   ]
  },
  {
   "cell_type": "code",
   "execution_count": null,
   "id": "453dfd48",
   "metadata": {
    "ExecuteTime": {
     "end_time": "2024-08-06T13:20:58.738240Z",
     "start_time": "2024-08-06T13:20:58.603120Z"
    }
   },
   "outputs": [],
   "source": [
    "# Remember the model's properties - specifically, the \"image\" shape coming out of the pretrained CNN base\n",
    "hf_model.summary()"
   ]
  },
  {
   "cell_type": "code",
   "execution_count": null,
   "id": "a3b083a1",
   "metadata": {
    "ExecuteTime": {
     "end_time": "2024-08-06T12:45:08.983734Z",
     "start_time": "2024-08-06T12:44:06.933675Z"
    }
   },
   "outputs": [],
   "source": [
    "# Blur the input to about the same size as the output from the CNN base (here: (82, 82))\n",
    "blur_size = hf_model.layers[-3].input_shape[1:3]\n",
    "\n",
    "# Define a masker that is used to mask out partitions of the input image creating partitions.\n",
    "# This is not strictly necessary (size can be arbitrary) but this way we can more fairly compare these\n",
    "# explanations with those from CAM.\n",
    "masker = shap.maskers.Image(f\"blur{blur_size}\", image_size)\n",
    "\n",
    "# create an explainer with model and image masker\n",
    "explainer = shap.Explainer(\n",
    "    hf_model.predict,\n",
    "    masker=masker, \n",
    "    output_names=encoder.classes_,\n",
    "    algorithm=\"partition\"\n",
    ")"
   ]
  },
  {
   "cell_type": "code",
   "execution_count": null,
   "id": "0c93a15f",
   "metadata": {},
   "outputs": [],
   "source": [
    "# Let's select the same points we did with CAM\n",
    "X, y = data_loader_2d[0]"
   ]
  },
  {
   "cell_type": "code",
   "execution_count": null,
   "id": "25ac1f66",
   "metadata": {
    "ExecuteTime": {
     "end_time": "2024-08-06T12:45:09.048953Z",
     "start_time": "2024-08-06T12:45:08.987190Z"
    }
   },
   "outputs": [],
   "source": [
    "# The correct answers\n",
    "encoder.inverse_transform(y[:3])"
   ]
  },
  {
   "cell_type": "code",
   "execution_count": null,
   "id": "8b250e2f",
   "metadata": {
    "ExecuteTime": {
     "end_time": "2024-08-06T13:00:00.847388Z",
     "start_time": "2024-08-06T12:45:09.050750Z"
    }
   },
   "outputs": [],
   "source": [
    "# Explain these first 3 predictions - the \"argsort\" is a simple way to retrieve the top 4 most likely predictions.\n",
    "# Conveniently, these are provided with SHAP.  Although we can compute similar CAM maps, this is not typically done\n",
    "# and PyChemAuth is not configured for this at the moment.\n",
    "shap_values = explainer(\n",
    "    X[:3], \n",
    "    max_evals=200, # This controls how \"fine-grained\" the resulting map is\n",
    "    outputs=shap.Explanation.argsort.flip[:4]\n",
    ")"
   ]
  },
  {
   "cell_type": "code",
   "execution_count": null,
   "id": "ae3e793e",
   "metadata": {
    "ExecuteTime": {
     "end_time": "2024-08-06T13:26:10.623383Z",
     "start_time": "2024-08-06T13:25:50.583366Z"
    }
   },
   "outputs": [],
   "source": [
    "shap.image_plot(shap_values)"
   ]
  }
 ],
 "metadata": {
  "kernelspec": {
   "display_name": "k3test",
   "language": "python",
   "name": "k3test"
  },
  "language_info": {
   "codemirror_mode": {
    "name": "ipython",
    "version": 3
   },
   "file_extension": ".py",
   "mimetype": "text/x-python",
   "name": "python",
   "nbconvert_exporter": "python",
   "pygments_lexer": "ipython3",
   "version": "3.10.0"
  }
 },
 "nbformat": 4,
 "nbformat_minor": 5
}
