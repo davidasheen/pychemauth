{
 "cells": [
  {
   "cell_type": "markdown",
   "metadata": {
    "id": "XvG2rGlnaUu_",
    "toc": true
   },
   "source": [
    "Explaining Models with SHAP\n",
    "==="
   ]
  },
  {
   "cell_type": "markdown",
   "metadata": {},
   "source": [
    "Author: Nathan A. Mahynski\n",
    "\n",
    "Date: 2023/08/23\n",
    "\n",
    "Description: This notebook demonstrates the use of SHAP to explain model predictions.\n",
    "\n",
    "For \"soft\" models / OCC, we need to look at the likelihood a sample is assigned as an inlier or not; when models combine many of these (e.g., PLS-DA) we need to pull those apart to inspect each known class.  Typically, a model may be trained and TEFF optimized.  From this, optimal hyperparameters can be extracted then individual models retrained and examined to explain predictions. "
   ]
  },
  {
   "cell_type": "code",
   "execution_count": null,
   "metadata": {},
   "outputs": [],
   "source": [
    "if 'google.colab' in str(get_ipython()):\n",
    "    !pip install git+https://github.com/mahynski/pychemauth@main\n",
    "    import os\n",
    "    os.kill(os.getpid(), 9) # Automatically restart the runtime to reload libraries"
   ]
  },
  {
   "cell_type": "code",
   "execution_count": null,
   "metadata": {
    "colab": {
     "base_uri": "https://localhost:8080/",
     "height": 1000
    },
    "executionInfo": {
     "elapsed": 12969,
     "status": "ok",
     "timestamp": 1667943353063,
     "user": {
      "displayName": "Nathan Mahynski",
      "userId": "00044706541353398741"
     },
     "user_tz": 300
    },
    "id": "FnmRc22LaUvO",
    "outputId": "8129473f-c7a2-4417-88e1-cd3cf506711e"
   },
   "outputs": [],
   "source": [
    "using_colab = 'google.colab' in str(get_ipython())\n",
    "if using_colab:\n",
    "    !pip install git+https://github.com/mahynski/pychemauth@main.\n",
    "\n",
    "try:\n",
    "    import pychemauth\n",
    "except:\n",
    "    raise ImportError(\"pychemauth not installed\")\n",
    "\n",
    "import matplotlib.pyplot as plt\n",
    "%matplotlib inline\n",
    "\n",
    "import watermark\n",
    "%load_ext watermark\n",
    "\n",
    "%load_ext autoreload\n",
    "%autoreload 2\n",
    "\n",
    "import shap\n",
    "shap.initjs()"
   ]
  },
  {
   "cell_type": "code",
   "execution_count": null,
   "metadata": {
    "executionInfo": {
     "elapsed": 201,
     "status": "ok",
     "timestamp": 1667943353247,
     "user": {
      "displayName": "Nathan Mahynski",
      "userId": "00044706541353398741"
     },
     "user_tz": 300
    },
    "id": "eBTO1fIGaUva"
   },
   "outputs": [],
   "source": [
    "import imblearn\n",
    "import sklearn\n",
    "\n",
    "from sklearn.model_selection import GridSearchCV\n",
    "\n",
    "import numpy as np\n",
    "import pandas as pd"
   ]
  },
  {
   "cell_type": "code",
   "execution_count": null,
   "metadata": {
    "executionInfo": {
     "elapsed": 210,
     "status": "ok",
     "timestamp": 1667943353454,
     "user": {
      "displayName": "Nathan Mahynski",
      "userId": "00044706541353398741"
     },
     "user_tz": 300
    },
    "id": "FnC_PhcnaUvc"
   },
   "outputs": [],
   "source": [
    "import bokeh\n",
    "from bokeh.plotting import output_notebook\n",
    "from pychemauth.utils import bokeh_color_spectrum\n",
    "from pychemauth.utils import color_spectrum\n",
    "output_notebook()"
   ]
  },
  {
   "cell_type": "code",
   "execution_count": null,
   "metadata": {
    "colab": {
     "base_uri": "https://localhost:8080/"
    },
    "executionInfo": {
     "elapsed": 205,
     "status": "ok",
     "timestamp": 1667943353657,
     "user": {
      "displayName": "Nathan Mahynski",
      "userId": "00044706541353398741"
     },
     "user_tz": 300
    },
    "id": "eUf9-L6uaUvp",
    "outputId": "742790c6-5243-462f-b3e8-9bfa21fc1b18"
   },
   "outputs": [],
   "source": [
    "%watermark -t -m -v --iversions"
   ]
  },
  {
   "cell_type": "markdown",
   "metadata": {
    "id": "gQm-ba9oaUvr"
   },
   "source": [
    "Analyze a DD-SIMCA Model\n",
    "---"
   ]
  },
  {
   "cell_type": "markdown",
   "metadata": {
    "id": "V3mKMBblaUvs"
   },
   "source": [
    "<h3>Load the Data</h3>"
   ]
  },
  {
   "cell_type": "code",
   "execution_count": null,
   "metadata": {
    "executionInfo": {
     "elapsed": 411,
     "status": "ok",
     "timestamp": 1667943354066,
     "user": {
      "displayName": "Nathan Mahynski",
      "userId": "00044706541353398741"
     },
     "user_tz": 300
    },
    "id": "U0JjZaWKaUvt"
   },
   "outputs": [],
   "source": [
    "# Let's load some data from the tests/ for this example\n",
    "if using_colab:\n",
    "    loc = 'https://raw.githubusercontent.com/mahynski/pychemauth/main/tests/data/simca_train.csv'\n",
    "else:\n",
    "    loc = '../tests/data/simca_train.csv'\n",
    "    \n",
    "loc = 'https://raw.githubusercontent.com/mahynski/pychemauth/main/tests/data/simca_train.csv'\n",
    "    \n",
    "df = pd.read_csv(loc)"
   ]
  },
  {
   "cell_type": "code",
   "execution_count": null,
   "metadata": {
    "colab": {
     "base_uri": "https://localhost:8080/",
     "height": 236
    },
    "executionInfo": {
     "elapsed": 38,
     "status": "ok",
     "timestamp": 1667943354070,
     "user": {
      "displayName": "Nathan Mahynski",
      "userId": "00044706541353398741"
     },
     "user_tz": 300
    },
    "id": "1qrvG_VcaUvu",
    "outputId": "32158237-4b48-490a-ab1b-73d1ff8725bf"
   },
   "outputs": [],
   "source": [
    "# You can see that samples are rows, columns are different features\n",
    "df.head()"
   ]
  },
  {
   "cell_type": "code",
   "execution_count": null,
   "metadata": {
    "executionInfo": {
     "elapsed": 221,
     "status": "ok",
     "timestamp": 1667943354260,
     "user": {
      "displayName": "Nathan Mahynski",
      "userId": "00044706541353398741"
     },
     "user_tz": 300
    },
    "id": "AJE493iTaUvv"
   },
   "outputs": [],
   "source": [
    "raw_x = np.array(df.values[:,3:], dtype=float) # Extract features\n",
    "raw_y = np.array(df['Class'].values, dtype=str) # Take the class as the target\n",
    "\n",
    "X_train = raw_x"
   ]
  },
  {
   "cell_type": "code",
   "execution_count": null,
   "metadata": {
    "executionInfo": {
     "elapsed": 11,
     "status": "ok",
     "timestamp": 1667943354261,
     "user": {
      "displayName": "Nathan Mahynski",
      "userId": "00044706541353398741"
     },
     "user_tz": 300
    },
    "id": "GfpFzkBTaUvv"
   },
   "outputs": [],
   "source": [
    "from pychemauth.classifier.simca import SIMCA_Classifier\n",
    "from pychemauth.preprocessing.scaling import CorrectedScaler\n",
    "from pychemauth.preprocessing.filter import SavGol"
   ]
  },
  {
   "cell_type": "markdown",
   "metadata": {
    "id": "_1eluedFaUvw"
   },
   "source": [
    "<h3>A Simple Model</h3>"
   ]
  },
  {
   "cell_type": "code",
   "execution_count": null,
   "metadata": {
    "colab": {
     "base_uri": "https://localhost:8080/",
     "height": 283
    },
    "executionInfo": {
     "elapsed": 691,
     "status": "ok",
     "timestamp": 1667940859503,
     "user": {
      "displayName": "Nathan Mahynski",
      "userId": "00044706541353398741"
     },
     "user_tz": 300
    },
    "id": "7mwtjD14aUvx",
    "outputId": "ff7f1c26-09b8-4a10-ea78-26b0d18e046f"
   },
   "outputs": [],
   "source": [
    "# Here the data are spectra so we will not scale the X data\n",
    "simca = SIMCA_Classifier(n_components=7, alpha=0.05, scale_x=False, style='dd-simca', use='rigorous', target_class='Pure')\n",
    "_ = simca.fit(X_train, raw_y)\n",
    "_ = simca.model.visualize(X_train, raw_y)"
   ]
  },
  {
   "cell_type": "code",
   "execution_count": null,
   "metadata": {
    "colab": {
     "base_uri": "https://localhost:8080/"
    },
    "executionInfo": {
     "elapsed": 4,
     "status": "ok",
     "timestamp": 1667940859980,
     "user": {
      "displayName": "Nathan Mahynski",
      "userId": "00044706541353398741"
     },
     "user_tz": 300
    },
    "id": "O52dI-pFaUvx",
    "outputId": "cf007a05-5418-412c-89d6-63719e99cf8f"
   },
   "outputs": [],
   "source": [
    "mask1 = simca.predict_proba(X_train)[:,0] > 0.5\n",
    "mask2 = simca.predict(X_train)\n",
    "np.all(mask1 == mask2)"
   ]
  },
  {
   "cell_type": "code",
   "execution_count": null,
   "metadata": {
    "colab": {
     "base_uri": "https://localhost:8080/"
    },
    "executionInfo": {
     "elapsed": 7,
     "status": "ok",
     "timestamp": 1667940860339,
     "user": {
      "displayName": "Nathan Mahynski",
      "userId": "00044706541353398741"
     },
     "user_tz": 300
    },
    "id": "jxeGQUiwaUvy",
    "outputId": "2a1e58de-a725-4878-cf66-1953214539c6"
   },
   "outputs": [],
   "source": [
    "simca.predict(X_train)"
   ]
  },
  {
   "cell_type": "code",
   "execution_count": null,
   "metadata": {
    "colab": {
     "base_uri": "https://localhost:8080/"
    },
    "executionInfo": {
     "elapsed": 10,
     "status": "ok",
     "timestamp": 1667940861329,
     "user": {
      "displayName": "Nathan Mahynski",
      "userId": "00044706541353398741"
     },
     "user_tz": 300
    },
    "id": "7X9z5QPuaUvy",
    "outputId": "494b05ec-7cf1-4551-882d-174603eab38a"
   },
   "outputs": [],
   "source": [
    "simca.model.accuracy(X_train, np.array([True]*len(X_train)))"
   ]
  },
  {
   "cell_type": "code",
   "execution_count": null,
   "metadata": {
    "colab": {
     "base_uri": "https://localhost:8080/"
    },
    "executionInfo": {
     "elapsed": 7,
     "status": "ok",
     "timestamp": 1667940862932,
     "user": {
      "displayName": "Nathan Mahynski",
      "userId": "00044706541353398741"
     },
     "user_tz": 300
    },
    "id": "5hXvWEEXaUvy",
    "outputId": "fbc1febe-129e-452e-ac22-83d1bcccdacc"
   },
   "outputs": [],
   "source": [
    "simca.model.score(X_train, np.array([True]*len(X_train))) # Negative log loss"
   ]
  },
  {
   "cell_type": "markdown",
   "metadata": {
    "id": "2ZuBd6WnaUvz"
   },
   "source": [
    "<h3>An Optimized Pipeline</h3>"
   ]
  },
  {
   "cell_type": "code",
   "execution_count": null,
   "metadata": {},
   "outputs": [],
   "source": [
    "# Let's select the features with the highest variance to focus on\n",
    "from sklearn.feature_selection import GenericUnivariateSelect\n",
    "\n",
    "def take_top_var(X, y=None):\n",
    "    return np.std(X, axis=0)"
   ]
  },
  {
   "cell_type": "code",
   "execution_count": null,
   "metadata": {
    "colab": {
     "base_uri": "https://localhost:8080/"
    },
    "executionInfo": {
     "elapsed": 10114,
     "status": "ok",
     "timestamp": 1667940951896,
     "user": {
      "displayName": "Nathan Mahynski",
      "userId": "00044706541353398741"
     },
     "user_tz": 300
    },
    "id": "aph52q7waUv0",
    "outputId": "7ea8c858-36b9-41ee-ae8a-1627c0a5bca7",
    "scrolled": true
   },
   "outputs": [],
   "source": [
    "pipeline = imblearn.pipeline.Pipeline(steps=[\n",
    "    (\"savgol\", # Remove baselines and smooth by filtering (possibly)\n",
    "     SavGol(\n",
    "         window_length=11, \n",
    "         deriv=2, \n",
    "         polyorder=3)\n",
    "     ),\n",
    "     ('selector', # Remove low variance features\n",
    "      GenericUnivariateSelect(score_func=take_top_var,\n",
    "                        mode='k_best',\n",
    "                        param=75, # keep the top 50 (arbitrary choice here)\n",
    "                       ) \n",
    "      ),\n",
    "    (\"simca\", \n",
    "     SIMCA_Classifier(\n",
    "         n_components=7, \n",
    "         target_class='Pure',\n",
    "         style='dd-simca',\n",
    "         use='rigorous',\n",
    "         alpha=0.05, \n",
    "         scale_x=False, # Spectral data\n",
    "     )\n",
    "    )\n",
    "])\n",
    "\n",
    "# Hyperparameters of pipeline steps are given in standard notation: step__parameter_name\n",
    "param_grid = [{\n",
    "    'savgol__window_length': [5, 7, 9, 11, 13, 15, 17, 21],\n",
    "    'savgol__deriv': [0, 1, 2],\n",
    "    'savgol__polyorder': [3],\n",
    "    'simca__n_components': np.arange(1, 10, 2),\n",
    "}]\n",
    "\n",
    "model = GridSearchCV(\n",
    "    estimator=pipeline,\n",
    "    param_grid=param_grid,\n",
    "    n_jobs=-1,\n",
    "    cv=sklearn.model_selection.StratifiedKFold(n_splits=3, shuffle=True, random_state=0),\n",
    "    error_score=0,\n",
    "    refit=True,\n",
    ")\n",
    "\n",
    "_ = model.fit(\n",
    "    X_train, \n",
    "    raw_y\n",
    ")"
   ]
  },
  {
   "cell_type": "code",
   "execution_count": null,
   "metadata": {
    "colab": {
     "base_uri": "https://localhost:8080/"
    },
    "executionInfo": {
     "elapsed": 579,
     "status": "ok",
     "timestamp": 1667941088888,
     "user": {
      "displayName": "Nathan Mahynski",
      "userId": "00044706541353398741"
     },
     "user_tz": 300
    },
    "id": "AgreYfh4aUv1",
    "outputId": "e1c8c992-a86b-43f7-8042-8e96ed0815a3"
   },
   "outputs": [],
   "source": [
    "model.best_params_ "
   ]
  },
  {
   "cell_type": "code",
   "execution_count": null,
   "metadata": {},
   "outputs": [],
   "source": [
    "np.sum(model.best_estimator_.named_steps['selector'].get_support()) # Retaining the top 50 channels"
   ]
  },
  {
   "cell_type": "code",
   "execution_count": null,
   "metadata": {
    "executionInfo": {
     "elapsed": 237,
     "status": "ok",
     "timestamp": 1667941091455,
     "user": {
      "displayName": "Nathan Mahynski",
      "userId": "00044706541353398741"
     },
     "user_tz": 300
    },
    "id": "PbeM42BLaUv1"
   },
   "outputs": [],
   "source": [
    "# model.cv_results_ # View full CV results"
   ]
  },
  {
   "cell_type": "code",
   "execution_count": null,
   "metadata": {
    "colab": {
     "base_uri": "https://localhost:8080/"
    },
    "executionInfo": {
     "elapsed": 6,
     "status": "ok",
     "timestamp": 1667941091679,
     "user": {
      "displayName": "Nathan Mahynski",
      "userId": "00044706541353398741"
     },
     "user_tz": 300
    },
    "id": "wPD21ZyTaUv2",
    "outputId": "77a6af04-17ab-4527-e3a8-10d8531998c7"
   },
   "outputs": [],
   "source": [
    "# Look for any ties - in this case, not substantially different\n",
    "np.array(model.cv_results_['params'])[model.cv_results_['rank_test_score'] == 1]"
   ]
  },
  {
   "cell_type": "code",
   "execution_count": null,
   "metadata": {
    "colab": {
     "base_uri": "https://localhost:8080/"
    },
    "executionInfo": {
     "elapsed": 204,
     "status": "ok",
     "timestamp": 1667941094903,
     "user": {
      "displayName": "Nathan Mahynski",
      "userId": "00044706541353398741"
     },
     "user_tz": 300
    },
    "id": "kU37R79SaUv2",
    "outputId": "223337aa-a018-409d-cafd-c2a4dea30302"
   },
   "outputs": [],
   "source": [
    "model.predict_proba(X_train)[:10]"
   ]
  },
  {
   "cell_type": "code",
   "execution_count": null,
   "metadata": {
    "executionInfo": {
     "elapsed": 217,
     "status": "ok",
     "timestamp": 1667941097423,
     "user": {
      "displayName": "Nathan Mahynski",
      "userId": "00044706541353398741"
     },
     "user_tz": 300
    },
    "id": "gJqu1LN5cCsw"
   },
   "outputs": [],
   "source": [
    "prep = imblearn.pipeline.Pipeline(\n",
    "   model.best_estimator_.steps[:-1] \n",
    ")"
   ]
  },
  {
   "cell_type": "code",
   "execution_count": null,
   "metadata": {
    "colab": {
     "base_uri": "https://localhost:8080/",
     "height": 352
    },
    "executionInfo": {
     "elapsed": 460,
     "status": "ok",
     "timestamp": 1667941099191,
     "user": {
      "displayName": "Nathan Mahynski",
      "userId": "00044706541353398741"
     },
     "user_tz": 300
    },
    "id": "sKMH5nZJcCu8",
    "outputId": "8bd98128-5119-4842-9472-da9edb34ed77"
   },
   "outputs": [],
   "source": [
    "# We have trimmed the features with low variance out - the ones that remain have the following distribution of \n",
    "# standard deviations over the dataset\n",
    "plt.hist(np.std(prep.transform(X_train), axis=0))\n",
    "plt.xlabel(r'$\\sigma$')\n",
    "plt.ylabel('Number of Channels')"
   ]
  },
  {
   "cell_type": "code",
   "execution_count": null,
   "metadata": {
    "colab": {
     "base_uri": "https://localhost:8080/",
     "height": 265
    },
    "executionInfo": {
     "elapsed": 2051,
     "status": "ok",
     "timestamp": 1667941340771,
     "user": {
      "displayName": "Nathan Mahynski",
      "userId": "00044706541353398741"
     },
     "user_tz": 300
    },
    "id": "mBAU2LYmcCxS",
    "outputId": "4c78f80a-511c-45c0-8ed1-5d3962490daa"
   },
   "outputs": [],
   "source": [
    "# Let's visualize which parts of the spectrum are going to be used - if you are \n",
    "# doing this in practice, you might want to check that this makes sense; perhaps \n",
    "# the values are the right end of the spectra are not as reliable, for example?\n",
    "color = ['blue' if not x_ else 'red' for x_ in prep.named_steps['selector'].get_support()]\n",
    "for x,y,c in zip(np.arange(X_train.shape[1]), X_train[0,:], color):\n",
    "    plt.plot([x], [y], '.', color=c)"
   ]
  },
  {
   "cell_type": "markdown",
   "metadata": {
    "id": "Xw6P7dPUaUv3"
   },
   "source": [
    "<h3>Create an Explainer</h3>"
   ]
  },
  {
   "cell_type": "code",
   "execution_count": null,
   "metadata": {
    "executionInfo": {
     "elapsed": 207,
     "status": "ok",
     "timestamp": 1667941498387,
     "user": {
      "displayName": "Nathan Mahynski",
      "userId": "00044706541353398741"
     },
     "user_tz": 300
    },
    "id": "iCvWjqusv1WU"
   },
   "outputs": [],
   "source": [
    "# The pipeline drops out a lot of features.  To analyze the importance of the ones that remain, we need to break the \n",
    "# pipeline into a preprocessing stage and modeling stage.\n",
    "prep = imblearn.pipeline.Pipeline(steps=model.best_estimator_.steps[:-1])\n",
    "\n",
    "# These are the features that have been preprocessed and remain after \"deletion\" of many of the channels\n",
    "X_train_prep = prep.transform(X_train)\n",
    "\n",
    "# The model itself (last step in pipeline)\n",
    "function = model.best_estimator_.named_steps['simca']"
   ]
  },
  {
   "cell_type": "code",
   "execution_count": null,
   "metadata": {
    "executionInfo": {
     "elapsed": 253,
     "status": "ok",
     "timestamp": 1667941526891,
     "user": {
      "displayName": "Nathan Mahynski",
      "userId": "00044706541353398741"
     },
     "user_tz": 300
    },
    "id": "0v4t9rFhaUv4"
   },
   "outputs": [],
   "source": [
    "# If you have a small dataset with only a few features you can use the entire training dataset for \n",
    "# the background (data). In problems with more features you probably want to pass only the median \n",
    "# of the training dataset, or weighted k-medians.\n",
    "# See https://shap.readthedocs.io/en/latest/example_notebooks/tabular_examples/model_agnostic/Iris%20classification%20with%20scikit-learn.html\n",
    "# Since we have some spectral data with > 400 features, we can just use a random subsample as \n",
    "# the background.\n",
    "\n",
    "# See SHAP documentation for a discussion on the utility and impact of using a \"squashing function\" to \n",
    "# go from an unbounded \"margin space\" (raw model output) to a bounded probability space.\n",
    "# https://shap.readthedocs.io/en/latest/example_notebooks/tabular_examples/model_agnostic/Squashing%20Effect.html#Probability-space-explaination\n",
    "explainer = shap.KernelExplainer(\n",
    "    model = function.predict_proba, # Use probability function to \"squash\"\n",
    "    data = shap.sample(X_train_prep, 25, random_state=0), # vs. data = X_train_prep to use full training set\n",
    "    seed = 42\n",
    ")"
   ]
  },
  {
   "cell_type": "code",
   "execution_count": null,
   "metadata": {
    "colab": {
     "base_uri": "https://localhost:8080/",
     "height": 1000,
     "referenced_widgets": [
      "b6d14bd568504597bdd08ed4099362ff",
      "6b87abbac9a64e41ba8ca204e0e1143b",
      "b87f9d6a7d9b40689415368c838a7a52",
      "cc4e5604806e41a4b5caae64b30c6a0b",
      "a921121a3ce2448dadfe8d259cda821f",
      "4949fd16d8be4e26ba27e37206e77af2",
      "a5d4acda368942f1910de8d214708d0c",
      "bb586a1de2004362b221915df1a5a7bd",
      "d67f31d040ca4410b41c17e2428e3c63",
      "a8b35855b26c4c059db6f6954e061983",
      "3a065556caa54d938527015955a66b36"
     ]
    },
    "executionInfo": {
     "elapsed": 89821,
     "status": "ok",
     "timestamp": 1667941637741,
     "user": {
      "displayName": "Nathan Mahynski",
      "userId": "00044706541353398741"
     },
     "user_tz": 300
    },
    "id": "rRif1jrSaUv4",
    "outputId": "3c475951-fd9d-4639-c08f-07748b192fd4"
   },
   "outputs": [],
   "source": [
    "# If there are many features to explain, this can fail to converge. You can choose to look at just\n",
    "# the top features as shown below.  Feature correlation can also be a concern.  Using a smaller subset\n",
    "# of decorrelated inputs.\n",
    "\n",
    "# Consider BorutaShap, Heirarchical clustering, etc.\n",
    "\n",
    "shap_values = explainer.shap_values(X_train_prep, \n",
    "                                    nsamples='auto', # Can increase for lower variance\n",
    "                                    gc_collect = True\n",
    "                                   )"
   ]
  },
  {
   "cell_type": "code",
   "execution_count": null,
   "metadata": {
    "colab": {
     "base_uri": "https://localhost:8080/"
    },
    "executionInfo": {
     "elapsed": 193,
     "status": "ok",
     "timestamp": 1667941637917,
     "user": {
      "displayName": "Nathan Mahynski",
      "userId": "00044706541353398741"
     },
     "user_tz": 300
    },
    "id": "atdL-PEeaUv5",
    "outputId": "df2bf350-29f5-4b8c-cfad-cad09a5490d0"
   },
   "outputs": [],
   "source": [
    "explainer.expected_value "
   ]
  },
  {
   "cell_type": "code",
   "execution_count": null,
   "metadata": {
    "colab": {
     "base_uri": "https://localhost:8080/"
    },
    "executionInfo": {
     "elapsed": 458,
     "status": "ok",
     "timestamp": 1667941752456,
     "user": {
      "displayName": "Nathan Mahynski",
      "userId": "00044706541353398741"
     },
     "user_tz": 300
    },
    "id": "-FPNDq6paUv5",
    "outputId": "a9441036-0753-4dce-d4bb-00a9a32e57b0"
   },
   "outputs": [],
   "source": [
    "np.mean(function.predict_proba(X_train_prep)[:,0]) \n",
    "# If the background sampling was bad, the mean model prediction will differ greatly from the \n",
    "# explainer.expected_value. If this is large, consider increasing the number of background samples."
   ]
  },
  {
   "cell_type": "code",
   "execution_count": null,
   "metadata": {
    "colab": {
     "base_uri": "https://localhost:8080/",
     "height": 69
    },
    "executionInfo": {
     "elapsed": 535,
     "status": "ok",
     "timestamp": 1667942231021,
     "user": {
      "displayName": "Nathan Mahynski",
      "userId": "00044706541353398741"
     },
     "user_tz": 300
    },
    "id": "s7QxtOgzaUv5",
    "outputId": "20c9553b-9fa8-4fe9-83a1-596f5bb92123"
   },
   "outputs": [],
   "source": [
    "shap.force_plot(\n",
    "    base_value=explainer.expected_value[0], # [0] to look at inlier probability\n",
    "    shap_values=shap_values[0], # [0] to look at inlier probability\n",
    "    features=X_train[:,prep.named_steps['selector'].get_support()], # Display raw feature values for visualization\n",
    "    feature_names=['Channel {}'.format(i) for i in prep.named_steps['selector'].transform([range(X_train.shape[1])])[0]] # Feature names for visualization\n",
    ")"
   ]
  },
  {
   "cell_type": "code",
   "execution_count": null,
   "metadata": {
    "colab": {
     "base_uri": "https://localhost:8080/",
     "height": 69
    },
    "executionInfo": {
     "elapsed": 185,
     "status": "ok",
     "timestamp": 1667942245808,
     "user": {
      "displayName": "Nathan Mahynski",
      "userId": "00044706541353398741"
     },
     "user_tz": 300
    },
    "id": "wwKp98y6aUv6",
    "outputId": "00882ce9-3479-40c0-acab-c0817757feb0"
   },
   "outputs": [],
   "source": [
    "# Look at the lowest probability example\n",
    "look_at = np.argmin(model.predict_proba(X_train)[:,0]) \n",
    "\n",
    "shap.force_plot(\n",
    "    base_value=explainer.expected_value[0], # [0] to look at inlier probability\n",
    "    shap_values=shap_values[0][look_at,:], # [0] to look at inlier probability\n",
    "    features=X_train[look_at, prep.named_steps['selector'].get_support()], # Display raw feature values for visualization\n",
    "    feature_names=['Channel {}'.format(i) for i in prep.named_steps['selector'].transform([range(X_train.shape[1])])[0]] # Feature names for visualization\n",
    ")"
   ]
  },
  {
   "cell_type": "code",
   "execution_count": null,
   "metadata": {
    "colab": {
     "base_uri": "https://localhost:8080/",
     "height": 598
    },
    "executionInfo": {
     "elapsed": 1168,
     "status": "ok",
     "timestamp": 1667942288284,
     "user": {
      "displayName": "Nathan Mahynski",
      "userId": "00044706541353398741"
     },
     "user_tz": 300
    },
    "id": "1nnJrRu_aUv7",
    "outputId": "ed9840aa-d277-41b4-a73c-7560a529effb"
   },
   "outputs": [],
   "source": [
    "shap.decision_plot(\n",
    "    explainer.expected_value[0], \n",
    "    shap_values[0][look_at,:],\n",
    "    feature_names=['Channel {}'.format(i) for i in prep.named_steps['selector'].transform([range(X_train.shape[1])])[0]]\n",
    ")"
   ]
  },
  {
   "cell_type": "code",
   "execution_count": null,
   "metadata": {
    "colab": {
     "base_uri": "https://localhost:8080/",
     "height": 353
    },
    "executionInfo": {
     "elapsed": 778,
     "status": "ok",
     "timestamp": 1667942353204,
     "user": {
      "displayName": "Nathan Mahynski",
      "userId": "00044706541353398741"
     },
     "user_tz": 300
    },
    "id": "ee61DzLWaUv7",
    "outputId": "c1fb4cf7-9c44-4489-fcc2-b1746eb3ed6d"
   },
   "outputs": [],
   "source": [
    "ax = color_spectrum(\n",
    "    y=X_train[look_at,:].reshape(1,-1), \n",
    "    x=np.arange(X_train.shape[1]),\n",
    "    importance_values=model.best_estimator_.named_steps['selector'].inverse_transform(shap_values[0][look_at].reshape(1,-1)), \n",
    "    figsize=(20,5),\n",
    "    cmap='seismic',\n",
    "    bounds=(-0.05, 0.05),\n",
    "    background=True\n",
    ")\n",
    "ax.set_title('Lowest Probability Example in Training Set')"
   ]
  },
  {
   "cell_type": "code",
   "execution_count": null,
   "metadata": {
    "colab": {
     "base_uri": "https://localhost:8080/",
     "height": 353
    },
    "executionInfo": {
     "elapsed": 740,
     "status": "ok",
     "timestamp": 1667942391930,
     "user": {
      "displayName": "Nathan Mahynski",
      "userId": "00044706541353398741"
     },
     "user_tz": 300
    },
    "id": "Azo01-nYaUv8",
    "outputId": "28655bc9-daed-4cec-b420-7633ac86d9e4"
   },
   "outputs": [],
   "source": [
    "best = np.argmax(model.predict_proba(X_train)[:,0])\n",
    "ax = color_spectrum(\n",
    "    y=X_train[best,:].reshape(1,-1), \n",
    "    x=np.arange(X_train.shape[1]),\n",
    "    importance_values=model.best_estimator_.named_steps['selector'].inverse_transform(shap_values[0][best].reshape(1,-1)), \n",
    "    figsize=(20,5),\n",
    "    cmap='seismic',\n",
    "    bounds=(-0.05, 0.05),\n",
    "    background=True\n",
    ")\n",
    "ax.set_title('Highest Probability Example in Training Set')"
   ]
  },
  {
   "cell_type": "code",
   "execution_count": null,
   "metadata": {},
   "outputs": [],
   "source": [
    "shap.decision_plot(\n",
    "    explainer.expected_value[0], \n",
    "    shap_values[0][best,:],\n",
    "    feature_names=['Channel {}'.format(i) for i in prep.named_steps['selector'].transform([range(X_train.shape[1])])[0]]\n",
    ")"
   ]
  },
  {
   "cell_type": "code",
   "execution_count": null,
   "metadata": {
    "colab": {
     "base_uri": "https://localhost:8080/",
     "height": 693
    },
    "executionInfo": {
     "elapsed": 787,
     "status": "ok",
     "timestamp": 1667942526696,
     "user": {
      "displayName": "Nathan Mahynski",
      "userId": "00044706541353398741"
     },
     "user_tz": 300
    },
    "id": "2yGSEDu4aUv8",
    "outputId": "14303f5e-df92-4299-e612-7a653f28aea3"
   },
   "outputs": [],
   "source": [
    "shap.summary_plot(\n",
    "    shap_values=shap_values[0],\n",
    "    features=X_train[:, prep.named_steps['selector'].get_support()],\n",
    "    plot_type='bar',\n",
    "    feature_names=['Channel {}'.format(i) for i in prep.named_steps['selector'].transform([range(X_train.shape[1])])[0]]\n",
    ")"
   ]
  },
  {
   "cell_type": "code",
   "execution_count": null,
   "metadata": {},
   "outputs": [],
   "source": [
    "# Look at all the decisions made\n",
    "shap.decision_plot(\n",
    "    explainer.expected_value[0], \n",
    "    shap_values[0],\n",
    "    feature_names=['Channel {}'.format(i) for i in prep.named_steps['selector'].transform([range(X_train.shape[1])])[0]]\n",
    ")"
   ]
  },
  {
   "cell_type": "markdown",
   "metadata": {
    "id": "v-ddL6XSaUwJ"
   },
   "source": [
    "Analyze an EllipticManifold Model\n",
    "---"
   ]
  },
  {
   "cell_type": "code",
   "execution_count": null,
   "metadata": {
    "executionInfo": {
     "elapsed": 336,
     "status": "ok",
     "timestamp": 1667943392251,
     "user": {
      "displayName": "Nathan Mahynski",
      "userId": "00044706541353398741"
     },
     "user_tz": 300
    },
    "id": "DBvVI9q0aUwJ"
   },
   "outputs": [],
   "source": [
    "import sklearn.manifold\n",
    "from pychemauth.manifold.elliptic import EllipticManifold\n",
    "from pychemauth.preprocessing.scaling import CorrectedScaler\n",
    "from pychemauth.preprocessing.filter import SavGol\n",
    "from sklearn.feature_selection import VarianceThreshold"
   ]
  },
  {
   "cell_type": "code",
   "execution_count": null,
   "metadata": {
    "executionInfo": {
     "elapsed": 180,
     "status": "ok",
     "timestamp": 1667943393338,
     "user": {
      "displayName": "Nathan Mahynski",
      "userId": "00044706541353398741"
     },
     "user_tz": 300
    },
    "id": "9GGNIYg3aUwK"
   },
   "outputs": [],
   "source": [
    "mani = sklearn.manifold.Isomap\n",
    "kwargs = {\"n_neighbors\":10, \n",
    "          \"n_components\":2, # Choose 2 for visualization\n",
    "          \"metric\":'minkowski',\n",
    "          \"p\":2, \n",
    "         }\n",
    "\n",
    "pipeline = imblearn.pipeline.Pipeline(steps=[\n",
    "    (\"savgol\",\n",
    "     SavGol(\n",
    "         window_length=13, \n",
    "         deriv=1, \n",
    "         polyorder=3\n",
    "     ),\n",
    "    ),\n",
    "     ('selector',\n",
    "      GenericUnivariateSelect(score_func=take_top_var,\n",
    "                        mode='k_best',\n",
    "                        param=75, # keep the top 50 (arbitrary choice here)\n",
    "                       ) \n",
    "      ),\n",
    "    (\"model\", \n",
    "     EllipticManifold(0.05, mani, kwargs)\n",
    "    )\n",
    "])"
   ]
  },
  {
   "cell_type": "code",
   "execution_count": null,
   "metadata": {
    "colab": {
     "base_uri": "https://localhost:8080/"
    },
    "executionInfo": {
     "elapsed": 341,
     "status": "ok",
     "timestamp": 1667943394332,
     "user": {
      "displayName": "Nathan Mahynski",
      "userId": "00044706541353398741"
     },
     "user_tz": 300
    },
    "id": "yr_5edRNaUwK",
    "outputId": "dd15903c-7b07-447b-f950-c22f528a77be"
   },
   "outputs": [],
   "source": [
    "_ = pipeline.fit(X_train, raw_y)"
   ]
  },
  {
   "cell_type": "code",
   "execution_count": null,
   "metadata": {
    "executionInfo": {
     "elapsed": 304,
     "status": "ok",
     "timestamp": 1667943413436,
     "user": {
      "displayName": "Nathan Mahynski",
      "userId": "00044706541353398741"
     },
     "user_tz": 300
    },
    "id": "uUt3QYrqJojE"
   },
   "outputs": [],
   "source": [
    "prep = imblearn.pipeline.Pipeline(steps=pipeline.steps[:-1])\n",
    "model = pipeline.named_steps['model']\n",
    "X_train_prep = prep.transform(X_train)"
   ]
  },
  {
   "cell_type": "code",
   "execution_count": null,
   "metadata": {
    "colab": {
     "base_uri": "https://localhost:8080/",
     "height": 296
    },
    "executionInfo": {
     "elapsed": 8903,
     "status": "ok",
     "timestamp": 1667943423155,
     "user": {
      "displayName": "Nathan Mahynski",
      "userId": "00044706541353398741"
     },
     "user_tz": 300
    },
    "id": "HIQNbPxbaUwL",
    "outputId": "bfc0f46a-8778-4b7b-f567-c877eca6c670"
   },
   "outputs": [],
   "source": [
    "# This data might require some \"cleaning\"?\n",
    "model.visualize([X_train_prep], [\"Training Set\"])"
   ]
  },
  {
   "cell_type": "code",
   "execution_count": null,
   "metadata": {
    "executionInfo": {
     "elapsed": 178,
     "status": "ok",
     "timestamp": 1667943434506,
     "user": {
      "displayName": "Nathan Mahynski",
      "userId": "00044706541353398741"
     },
     "user_tz": 300
    },
    "id": "TnIZ7jzuaUwL"
   },
   "outputs": [],
   "source": [
    "explainer = shap.KernelExplainer(\n",
    "    model = model.predict_proba, # Use probability function to \"squash\"\n",
    "    data = shap.sample(X_train_prep, 25, random_state=0), \n",
    "    seed = 42\n",
    ")"
   ]
  },
  {
   "cell_type": "code",
   "execution_count": null,
   "metadata": {
    "colab": {
     "base_uri": "https://localhost:8080/",
     "height": 49,
     "referenced_widgets": [
      "c722553ca84b43aebaf9879188aaf38a",
      "08ed8b049f0e40e9b3e3047726704e3f",
      "8a91430c62ee4a708306866a8e0ca93a",
      "9d94834ad0454830a26ed2715c014626",
      "23f95d18b1da452a8eefcffdc584b31b",
      "53b035f97ac14160a37adfdcef4e20c6",
      "3d823d23460948d5a2cf2827af5f5155",
      "423d4305a56a42e48e419bcd272e9ab6",
      "924953c96faf459981a5a1ee8eb5a2f4",
      "2d47d3f79b79464793997c7506333c24",
      "46a09e627a27491ea346658be03a4560"
     ]
    },
    "id": "Xjky2GQraUwM",
    "outputId": "6df9ea64-cbd4-4089-9e03-05bb207219d7",
    "scrolled": true
   },
   "outputs": [],
   "source": [
    "shap_values = explainer.shap_values(X_train_prep, \n",
    "                                    nsamples='auto', # Can increase for lower variance\n",
    "                                    gc_collect = True\n",
    "                                   )"
   ]
  },
  {
   "cell_type": "code",
   "execution_count": null,
   "metadata": {
    "id": "SywjsIgVaUwM"
   },
   "outputs": [],
   "source": [
    "explainer.expected_value"
   ]
  },
  {
   "cell_type": "code",
   "execution_count": null,
   "metadata": {
    "id": "ElB1aJUlaUwN"
   },
   "outputs": [],
   "source": [
    "np.mean(model.predict_proba(X_train_prep)[:,0]) "
   ]
  },
  {
   "cell_type": "code",
   "execution_count": null,
   "metadata": {
    "id": "enjEwYFKaUwN"
   },
   "outputs": [],
   "source": [
    "# On AVERAGE, it looks like the most important parts of the spectrum are somewhere around channel ~310 (Similar to SIMCA)\n",
    "# Here, we did not optimize hyperparamters (used the same) so this is not very surprising\n",
    "shap.summary_plot(\n",
    "    shap_values=shap_values[0],\n",
    "    features=X_train[:, prep.named_steps['selector'].get_support()],\n",
    "    plot_type='bar',\n",
    "    feature_names=['Channel {}'.format(i) for i in prep.named_steps['selector'].transform([range(X_train.shape[1])])[0]]\n",
    ")"
   ]
  },
  {
   "cell_type": "code",
   "execution_count": null,
   "metadata": {
    "id": "Elpx35gFaUwO"
   },
   "outputs": [],
   "source": [
    "# Or, we can color by the average SHAP importance.\n",
    "# This is useful for visualizing how the model makes predictions on average.\n",
    "chosen = 0\n",
    "bokeh_color_spectrum(x=np.arange(X_train.shape[1]), \n",
    "                     y=X_train[chosen, :], \n",
    "                     importance_values=\n",
    "                     prep.named_steps['selector'].inverse_transform(\n",
    "                         np.mean(np.abs(shap_values[0]), axis=0).reshape(1,-1) # Mean ABSOLUTE value\n",
    "                     )\n",
    "                    )"
   ]
  },
  {
   "cell_type": "code",
   "execution_count": null,
   "metadata": {
    "id": "SXtSuzeyaUwO"
   },
   "outputs": [],
   "source": [
    "# This model is using a 1st derivative and picking out the highest variance channels after SavGol.\n",
    "# This does NOT correspond to the channels which have the highest variance BEFORE SavGol!\n",
    "\n",
    "chosen = 0 # Select one example spectra\n",
    "bokeh_color_spectrum(x=np.arange(X_train.shape[1]), \n",
    "                     y=X_train[chosen, :], \n",
    "                     importance_values=np.std(X_train, axis=0)**2 # Color based on overall variance in the training data\n",
    "                     )"
   ]
  },
  {
   "cell_type": "markdown",
   "metadata": {
    "id": "FVxo-vfNaUwP"
   },
   "source": [
    "Analyze a PLS-DA Model\n",
    "---"
   ]
  },
  {
   "cell_type": "code",
   "execution_count": null,
   "metadata": {
    "id": "q09Wj318aUwP"
   },
   "outputs": [],
   "source": [
    "# Let's load some data from the tests/ for this example\n",
    "if using_colab:\n",
    "    loc = 'https://raw.githubusercontent.com/mahynski/pychemauth/main/tests/data/plsda3_train.csv'\n",
    "else:\n",
    "    loc = '../tests/data/plsda3_train.csv'\n",
    "    \n",
    "loc = 'https://raw.githubusercontent.com/mahynski/pychemauth/main/tests/data/plsda3_train.csv'\n",
    "\n",
    "df = pd.read_csv(loc)"
   ]
  },
  {
   "cell_type": "code",
   "execution_count": null,
   "metadata": {
    "id": "Hq7PQNzjaUwQ"
   },
   "outputs": [],
   "source": [
    "# now using SITE data\n",
    "df.head()"
   ]
  },
  {
   "cell_type": "code",
   "execution_count": null,
   "metadata": {
    "id": "IDNKq7RwaUwQ"
   },
   "outputs": [],
   "source": [
    "element_names = df.columns[3:]\n",
    "raw_x = np.array(df.values[:,3:], dtype=float) # Extract features\n",
    "raw_y = np.array(df['Class'].values, dtype=str) # Take the class as the target"
   ]
  },
  {
   "cell_type": "code",
   "execution_count": null,
   "metadata": {
    "id": "DqmmIzcGaUwR"
   },
   "outputs": [],
   "source": [
    "from pychemauth.classifier.plsda import PLSDA"
   ]
  },
  {
   "cell_type": "code",
   "execution_count": null,
   "metadata": {
    "id": "XIA6RlEZaUwR"
   },
   "outputs": [],
   "source": [
    "# Here the data are elemental levels so we will scale the X data\n",
    "plsda = PLSDA(n_components=5, \n",
    "              alpha=0.05, \n",
    "              gamma=0.01, \n",
    "              not_assigned='UNKNOWN', \n",
    "              style=\"soft\", \n",
    "              scale_x=True)"
   ]
  },
  {
   "cell_type": "code",
   "execution_count": null,
   "metadata": {
    "id": "vdWARNxtaUwS"
   },
   "outputs": [],
   "source": [
    "_ = plsda.fit(raw_x, raw_y)"
   ]
  },
  {
   "cell_type": "code",
   "execution_count": null,
   "metadata": {
    "id": "tUXr6luraUwT"
   },
   "outputs": [],
   "source": [
    "_ = plsda.visualize(styles=['hard', 'soft'])"
   ]
  },
  {
   "cell_type": "code",
   "execution_count": null,
   "metadata": {
    "id": "0Ct_9fUQaUwT",
    "tags": []
   },
   "outputs": [],
   "source": [
    "plsda.predict(raw_x)[:10]"
   ]
  },
  {
   "cell_type": "code",
   "execution_count": null,
   "metadata": {
    "id": "ikisB04eaUwU"
   },
   "outputs": [],
   "source": [
    "plsda.categories"
   ]
  },
  {
   "cell_type": "code",
   "execution_count": null,
   "metadata": {
    "id": "6rf3N8lgaUwV"
   },
   "outputs": [],
   "source": [
    "plsda.predict_proba(raw_x)[:10] # For soft model, probabilities are relative to each class and they do not sum to 1"
   ]
  },
  {
   "cell_type": "code",
   "execution_count": null,
   "metadata": {
    "id": "Ur0VU2BOaUwW"
   },
   "outputs": [],
   "source": [
    "# plsda.predict_proba predicts the probability for EACH individual class (in columns).\n",
    "# Athough these do not sum to unity, we can still analyze each column individually with SHAP!\n",
    "# The decision function can also be used which returns < 0 for outliers, and > 0 for inliers in a class - thus 0 is the class membership threshold which can be intutitive to analyze\n",
    "\n",
    "explainer = shap.KernelExplainer(\n",
    "    model = plsda.decision_function, \n",
    "    data = shap.sample(raw_x, 25, random_state=0), # vs. data = raw_x to use full training set\n",
    "    seed = 42\n",
    ")"
   ]
  },
  {
   "cell_type": "code",
   "execution_count": null,
   "metadata": {
    "id": "RRZaCz-CaUwW",
    "scrolled": true
   },
   "outputs": [],
   "source": [
    "shap_values = explainer.shap_values(raw_x, \n",
    "                                    nsamples='auto', # Can increase for lower variance\n",
    "#                                     l1_reg='num_features({})'.format(\n",
    "#                                         np.min(\n",
    "#                                             [raw_x.shape[1], 20] # Only look at (up to) the top 20 features\n",
    "#                                         )\n",
    "#                                     ),\n",
    "                                    gc_collect = True\n",
    "                                   )"
   ]
  },
  {
   "cell_type": "code",
   "execution_count": null,
   "metadata": {
    "id": "bUZTbck7aUwX"
   },
   "outputs": [],
   "source": [
    "len(shap_values) # There is a set of shap values for each class"
   ]
  },
  {
   "cell_type": "code",
   "execution_count": null,
   "metadata": {
    "id": "M6vu4EZSaUwY"
   },
   "outputs": [],
   "source": [
    "explainer.expected_value # Average for each class used (columnwise)"
   ]
  },
  {
   "cell_type": "code",
   "execution_count": null,
   "metadata": {
    "id": "7V9XKrWwaUwY"
   },
   "outputs": [],
   "source": [
    "np.mean(plsda.decision_function(shap.sample(raw_x, 10, random_state=0)), axis=0)"
   ]
  },
  {
   "cell_type": "markdown",
   "metadata": {
    "id": "WQ3lgpa5aUwZ"
   },
   "source": [
    "<h3>Examine Categories</h3>"
   ]
  },
  {
   "cell_type": "code",
   "execution_count": null,
   "metadata": {
    "id": "e6DOVtMjaUwa"
   },
   "outputs": [],
   "source": [
    "chosen_class = 2 # Which category? 0, 1, or 2"
   ]
  },
  {
   "cell_type": "code",
   "execution_count": null,
   "metadata": {
    "id": "Z94UOTodaUwa"
   },
   "outputs": [],
   "source": [
    "sv = shap_values[chosen_class]\n",
    "plsda.categories[chosen_class]\n",
    "\n",
    "shap.summary_plot(\n",
    "    shap_values=sv,\n",
    "    features=raw_x,\n",
    "    feature_names=element_names,\n",
    "    plot_type='bar'\n",
    ")"
   ]
  },
  {
   "cell_type": "code",
   "execution_count": null,
   "metadata": {
    "id": "VpPrVllzaUwb"
   },
   "outputs": [],
   "source": [
    "# You can see that the SHAP values add up to the model output (decision function, here) for each point\n",
    "\n",
    "examine_pt = 12\n",
    "\n",
    "shap_sum = np.sum(shap_values[chosen_class][examine_pt]) + explainer.expected_value[chosen_class]\n",
    "pred_prob = plsda.decision_function(raw_x)[examine_pt][chosen_class]\n",
    "\n",
    "print(shap_sum, pred_prob, shap_sum-pred_prob)"
   ]
  },
  {
   "cell_type": "code",
   "execution_count": null,
   "metadata": {
    "id": "WbpObE33aUwb"
   },
   "outputs": [],
   "source": [
    "shap.summary_plot(\n",
    "    shap_values=sv,\n",
    "    features=raw_x,\n",
    "    feature_names=element_names,\n",
    "    plot_type='violin'\n",
    ")"
   ]
  },
  {
   "cell_type": "code",
   "execution_count": null,
   "metadata": {
    "id": "dj-R_2F9aUwc"
   },
   "outputs": [],
   "source": [
    "shap.force_plot(\n",
    "    base_value=explainer.expected_value[chosen_class],\n",
    "    shap_values=sv, \n",
    "    features=raw_x,\n",
    "    feature_names=element_names\n",
    ")"
   ]
  },
  {
   "cell_type": "code",
   "execution_count": null,
   "metadata": {
    "id": "Fo5EeOwbaUwc"
   },
   "outputs": [],
   "source": [
    "# Look at the point furthest away\n",
    "look_at = np.argmin(plsda.decision_function(raw_x)[:,chosen_class]) \n",
    "\n",
    "shap.force_plot(\n",
    "    base_value=explainer.expected_value[chosen_class], \n",
    "    shap_values=sv[look_at,:], \n",
    "    features=raw_x[look_at,:], \n",
    "    feature_names=element_names\n",
    ")"
   ]
  },
  {
   "cell_type": "code",
   "execution_count": null,
   "metadata": {
    "id": "LDiPbvODaUwd"
   },
   "outputs": [],
   "source": [
    "shap.decision_plot(\n",
    "    explainer.expected_value[chosen_class], \n",
    "    sv[look_at,:],\n",
    "    feature_names=element_names.tolist()\n",
    ")"
   ]
  },
  {
   "cell_type": "code",
   "execution_count": null,
   "metadata": {
    "id": "81IZHUrNaUwd"
   },
   "outputs": [],
   "source": [
    "# Look at the closest example\n",
    "look_at = np.argmax(plsda.decision_function(raw_x)[:,chosen_class]) \n",
    "\n",
    "shap.force_plot(\n",
    "    base_value=explainer.expected_value[chosen_class], \n",
    "    shap_values=sv[look_at,:], \n",
    "    features=raw_x[look_at,:], \n",
    "    feature_names=element_names\n",
    ")"
   ]
  },
  {
   "cell_type": "code",
   "execution_count": null,
   "metadata": {
    "id": "Nk2uw8cAaUwe"
   },
   "outputs": [],
   "source": [
    "shap.decision_plot(\n",
    "    explainer.expected_value[chosen_class], \n",
    "    sv[look_at,:],\n",
    "    feature_names=element_names.tolist()\n",
    ")"
   ]
  },
  {
   "cell_type": "markdown",
   "metadata": {
    "id": "XbphI1kaaUwe"
   },
   "source": [
    "<h3>How are decisions made?</h3>"
   ]
  },
  {
   "cell_type": "code",
   "execution_count": null,
   "metadata": {
    "id": "TvQS4PvwaUwf"
   },
   "outputs": [],
   "source": [
    "# Let's assess the specificity of the model - we can look at examples of when a sample is predicted to belong\n",
    "# to a class that it does not."
   ]
  },
  {
   "cell_type": "code",
   "execution_count": null,
   "metadata": {
    "id": "EyHGVrF6aUwf"
   },
   "outputs": [],
   "source": [
    "chosen_class = 0\n",
    "sv = shap_values[chosen_class]\n",
    "print('Examining model for : {}'.format(plsda.categories[chosen_class])) # Let's look at samples which belong to this category"
   ]
  },
  {
   "cell_type": "code",
   "execution_count": null,
   "metadata": {
    "id": "BvvdO6uKaUwf"
   },
   "outputs": [],
   "source": [
    "compare_class = (chosen_class+1)%3 # Let's see how the model predicts for other classes\n",
    "print('These samples belong to : {}'.format(plsda.categories[compare_class]))\n",
    "\n",
    "# Look at samples that belong to compare_class\n",
    "mask = raw_y == plsda.categories[compare_class]\n",
    "\n",
    "# These should NOT be predicted to belong to chosen_class, but are predicted to if decision_function > 0\n",
    "wrong = plsda.decision_function(raw_x[mask])[:,chosen_class] > 0.0\n",
    "\n",
    "shap.decision_plot(\n",
    "    explainer.expected_value[chosen_class], \n",
    "    sv[mask,:], \n",
    "    feature_names=element_names.tolist(),\n",
    "    highlight=wrong\n",
    ")\n",
    "# None are highlighted because all predictions are correct in that they indicate inconsistency with JPN1"
   ]
  },
  {
   "cell_type": "code",
   "execution_count": null,
   "metadata": {
    "id": "WMAAsORUaUwf"
   },
   "outputs": [],
   "source": [
    "# None are wrong here, but some are getting close to 0 which might warrant further consideration."
   ]
  },
  {
   "cell_type": "code",
   "execution_count": null,
   "metadata": {
    "id": "u_N7Fc_uaUwg"
   },
   "outputs": [],
   "source": [
    "compare_class = (chosen_class+2)%3 # Let's see how the model predicts for other classes\n",
    "print('These samples belong to : {}'.format(plsda.categories[compare_class]))\n",
    "\n",
    "# Look at samples that belong to compare_class\n",
    "mask = raw_y == plsda.categories[compare_class]\n",
    "\n",
    "# These should NOT be predicted to belong to chosen_class\n",
    "wrong = plsda.decision_function(raw_x[mask])[:,chosen_class] > 0.0\n",
    "\n",
    "shap.decision_plot(\n",
    "    explainer.expected_value[chosen_class], \n",
    "    sv[mask,:], \n",
    "    feature_names=element_names.tolist(),\n",
    "    highlight=wrong\n",
    ")"
   ]
  },
  {
   "cell_type": "code",
   "execution_count": null,
   "metadata": {
    "id": "-I0UljcEaUwg"
   },
   "outputs": [],
   "source": [
    "# However, in the latent space, these wrong ones appear to be just \"on the edge\" and could be included\n",
    "# if alpha (type 1 error rate) was adjusted.  That is not the point - we WANT a few of those on the edge\n",
    "# to be excluded to draw the boundary, so this appears to be reasonable.\n",
    "t = plsda.transform(raw_x[mask][~wrong])\n",
    "plt.plot(t[:,0], t[:,1], 'o')\n",
    "\n",
    "t = plsda.transform(raw_x[mask][wrong])\n",
    "plt.plot(t[:,0], t[:,1], 'o')"
   ]
  },
  {
   "cell_type": "code",
   "execution_count": null,
   "metadata": {
    "id": "vtAuQTt9aUwh"
   },
   "outputs": [],
   "source": [
    "# First incorrect point\n",
    "shap.force_plot(\n",
    "    base_value=explainer.expected_value[chosen_class], \n",
    "    shap_values=sv[mask][wrong,:][0], \n",
    "    features=raw_x[mask][wrong,:][0], \n",
    "    feature_names=element_names\n",
    ")"
   ]
  },
  {
   "cell_type": "code",
   "execution_count": null,
   "metadata": {
    "id": "mRDOndC_aUwh"
   },
   "outputs": [],
   "source": [
    "# Second incorrect point\n",
    "shap.force_plot(\n",
    "    base_value=explainer.expected_value[chosen_class], \n",
    "    shap_values=sv[mask][wrong,:][1], \n",
    "    features=raw_x[mask][wrong,:][1], \n",
    "    feature_names=element_names\n",
    ")"
   ]
  },
  {
   "cell_type": "code",
   "execution_count": null,
   "metadata": {
    "id": "sC9PVwvQaUwi"
   },
   "outputs": [],
   "source": [
    "compare_class = chosen_class # Let's see how the model predicts for other classes\n",
    "print('These samples belong to : {}'.format(plsda.categories[compare_class]))\n",
    "\n",
    "# Look at samples that belong to compare_class\n",
    "mask = raw_y == plsda.categories[compare_class]\n",
    "\n",
    "# These SHOULD be predicted to belong to chosen_class\n",
    "wrong = plsda.decision_function(raw_x[mask])[:,chosen_class] <= 0.0\n",
    "\n",
    "shap.decision_plot(\n",
    "    explainer.expected_value[chosen_class], \n",
    "    sv[mask,:], \n",
    "    feature_names=element_names.tolist(),\n",
    "    highlight=wrong\n",
    ")"
   ]
  },
  {
   "cell_type": "code",
   "execution_count": null,
   "metadata": {
    "id": "YSXaVmNXaUwi"
   },
   "outputs": [],
   "source": [
    "# Although a few are wrong, they are pretty close to the \"pack\""
   ]
  }
 ],
 "metadata": {
  "colab": {
   "collapsed_sections": [
    "_1eluedFaUvw",
    "2ZuBd6WnaUvz",
    "Xw6P7dPUaUv3",
    "WQ3lgpa5aUwZ",
    "XbphI1kaaUwe"
   ],
   "provenance": [
    {
     "file_id": "https://github.com/mahynski/pychemauth/blob/main/examples/shap_example.ipynb",
     "timestamp": 1667487753135
    }
   ]
  },
  "kernelspec": {
   "display_name": "oyster-provenance",
   "language": "python",
   "name": "oyster-provenance"
  },
  "language_info": {
   "codemirror_mode": {
    "name": "ipython",
    "version": 3
   },
   "file_extension": ".py",
   "mimetype": "text/x-python",
   "name": "python",
   "nbconvert_exporter": "python",
   "pygments_lexer": "ipython3",
   "version": "3.11.4"
  },
  "toc": {
   "base_numbering": 1,
   "nav_menu": {},
   "number_sections": true,
   "sideBar": true,
   "skip_h1_title": false,
   "title_cell": "Table of Contents",
   "title_sidebar": "Contents",
   "toc_cell": true,
   "toc_position": {},
   "toc_section_display": true,
   "toc_window_display": false
  },
  "widgets": {
   "application/vnd.jupyter.widget-state+json": {
    "08ed8b049f0e40e9b3e3047726704e3f": {
     "model_module": "@jupyter-widgets/controls",
     "model_module_version": "1.5.0",
     "model_name": "HTMLModel",
     "state": {
      "_dom_classes": [],
      "_model_module": "@jupyter-widgets/controls",
      "_model_module_version": "1.5.0",
      "_model_name": "HTMLModel",
      "_view_count": null,
      "_view_module": "@jupyter-widgets/controls",
      "_view_module_version": "1.5.0",
      "_view_name": "HTMLView",
      "description": "",
      "description_tooltip": null,
      "layout": "IPY_MODEL_53b035f97ac14160a37adfdcef4e20c6",
      "placeholder": "​",
      "style": "IPY_MODEL_3d823d23460948d5a2cf2827af5f5155",
      "value": "  0%"
     }
    },
    "23f95d18b1da452a8eefcffdc584b31b": {
     "model_module": "@jupyter-widgets/base",
     "model_module_version": "1.2.0",
     "model_name": "LayoutModel",
     "state": {
      "_model_module": "@jupyter-widgets/base",
      "_model_module_version": "1.2.0",
      "_model_name": "LayoutModel",
      "_view_count": null,
      "_view_module": "@jupyter-widgets/base",
      "_view_module_version": "1.2.0",
      "_view_name": "LayoutView",
      "align_content": null,
      "align_items": null,
      "align_self": null,
      "border": null,
      "bottom": null,
      "display": null,
      "flex": null,
      "flex_flow": null,
      "grid_area": null,
      "grid_auto_columns": null,
      "grid_auto_flow": null,
      "grid_auto_rows": null,
      "grid_column": null,
      "grid_gap": null,
      "grid_row": null,
      "grid_template_areas": null,
      "grid_template_columns": null,
      "grid_template_rows": null,
      "height": null,
      "justify_content": null,
      "justify_items": null,
      "left": null,
      "margin": null,
      "max_height": null,
      "max_width": null,
      "min_height": null,
      "min_width": null,
      "object_fit": null,
      "object_position": null,
      "order": null,
      "overflow": null,
      "overflow_x": null,
      "overflow_y": null,
      "padding": null,
      "right": null,
      "top": null,
      "visibility": null,
      "width": null
     }
    },
    "2d47d3f79b79464793997c7506333c24": {
     "model_module": "@jupyter-widgets/base",
     "model_module_version": "1.2.0",
     "model_name": "LayoutModel",
     "state": {
      "_model_module": "@jupyter-widgets/base",
      "_model_module_version": "1.2.0",
      "_model_name": "LayoutModel",
      "_view_count": null,
      "_view_module": "@jupyter-widgets/base",
      "_view_module_version": "1.2.0",
      "_view_name": "LayoutView",
      "align_content": null,
      "align_items": null,
      "align_self": null,
      "border": null,
      "bottom": null,
      "display": null,
      "flex": null,
      "flex_flow": null,
      "grid_area": null,
      "grid_auto_columns": null,
      "grid_auto_flow": null,
      "grid_auto_rows": null,
      "grid_column": null,
      "grid_gap": null,
      "grid_row": null,
      "grid_template_areas": null,
      "grid_template_columns": null,
      "grid_template_rows": null,
      "height": null,
      "justify_content": null,
      "justify_items": null,
      "left": null,
      "margin": null,
      "max_height": null,
      "max_width": null,
      "min_height": null,
      "min_width": null,
      "object_fit": null,
      "object_position": null,
      "order": null,
      "overflow": null,
      "overflow_x": null,
      "overflow_y": null,
      "padding": null,
      "right": null,
      "top": null,
      "visibility": null,
      "width": null
     }
    },
    "3a065556caa54d938527015955a66b36": {
     "model_module": "@jupyter-widgets/controls",
     "model_module_version": "1.5.0",
     "model_name": "DescriptionStyleModel",
     "state": {
      "_model_module": "@jupyter-widgets/controls",
      "_model_module_version": "1.5.0",
      "_model_name": "DescriptionStyleModel",
      "_view_count": null,
      "_view_module": "@jupyter-widgets/base",
      "_view_module_version": "1.2.0",
      "_view_name": "StyleView",
      "description_width": ""
     }
    },
    "3d823d23460948d5a2cf2827af5f5155": {
     "model_module": "@jupyter-widgets/controls",
     "model_module_version": "1.5.0",
     "model_name": "DescriptionStyleModel",
     "state": {
      "_model_module": "@jupyter-widgets/controls",
      "_model_module_version": "1.5.0",
      "_model_name": "DescriptionStyleModel",
      "_view_count": null,
      "_view_module": "@jupyter-widgets/base",
      "_view_module_version": "1.2.0",
      "_view_name": "StyleView",
      "description_width": ""
     }
    },
    "423d4305a56a42e48e419bcd272e9ab6": {
     "model_module": "@jupyter-widgets/base",
     "model_module_version": "1.2.0",
     "model_name": "LayoutModel",
     "state": {
      "_model_module": "@jupyter-widgets/base",
      "_model_module_version": "1.2.0",
      "_model_name": "LayoutModel",
      "_view_count": null,
      "_view_module": "@jupyter-widgets/base",
      "_view_module_version": "1.2.0",
      "_view_name": "LayoutView",
      "align_content": null,
      "align_items": null,
      "align_self": null,
      "border": null,
      "bottom": null,
      "display": null,
      "flex": null,
      "flex_flow": null,
      "grid_area": null,
      "grid_auto_columns": null,
      "grid_auto_flow": null,
      "grid_auto_rows": null,
      "grid_column": null,
      "grid_gap": null,
      "grid_row": null,
      "grid_template_areas": null,
      "grid_template_columns": null,
      "grid_template_rows": null,
      "height": null,
      "justify_content": null,
      "justify_items": null,
      "left": null,
      "margin": null,
      "max_height": null,
      "max_width": null,
      "min_height": null,
      "min_width": null,
      "object_fit": null,
      "object_position": null,
      "order": null,
      "overflow": null,
      "overflow_x": null,
      "overflow_y": null,
      "padding": null,
      "right": null,
      "top": null,
      "visibility": null,
      "width": null
     }
    },
    "46a09e627a27491ea346658be03a4560": {
     "model_module": "@jupyter-widgets/controls",
     "model_module_version": "1.5.0",
     "model_name": "DescriptionStyleModel",
     "state": {
      "_model_module": "@jupyter-widgets/controls",
      "_model_module_version": "1.5.0",
      "_model_name": "DescriptionStyleModel",
      "_view_count": null,
      "_view_module": "@jupyter-widgets/base",
      "_view_module_version": "1.2.0",
      "_view_name": "StyleView",
      "description_width": ""
     }
    },
    "4949fd16d8be4e26ba27e37206e77af2": {
     "model_module": "@jupyter-widgets/base",
     "model_module_version": "1.2.0",
     "model_name": "LayoutModel",
     "state": {
      "_model_module": "@jupyter-widgets/base",
      "_model_module_version": "1.2.0",
      "_model_name": "LayoutModel",
      "_view_count": null,
      "_view_module": "@jupyter-widgets/base",
      "_view_module_version": "1.2.0",
      "_view_name": "LayoutView",
      "align_content": null,
      "align_items": null,
      "align_self": null,
      "border": null,
      "bottom": null,
      "display": null,
      "flex": null,
      "flex_flow": null,
      "grid_area": null,
      "grid_auto_columns": null,
      "grid_auto_flow": null,
      "grid_auto_rows": null,
      "grid_column": null,
      "grid_gap": null,
      "grid_row": null,
      "grid_template_areas": null,
      "grid_template_columns": null,
      "grid_template_rows": null,
      "height": null,
      "justify_content": null,
      "justify_items": null,
      "left": null,
      "margin": null,
      "max_height": null,
      "max_width": null,
      "min_height": null,
      "min_width": null,
      "object_fit": null,
      "object_position": null,
      "order": null,
      "overflow": null,
      "overflow_x": null,
      "overflow_y": null,
      "padding": null,
      "right": null,
      "top": null,
      "visibility": null,
      "width": null
     }
    },
    "53b035f97ac14160a37adfdcef4e20c6": {
     "model_module": "@jupyter-widgets/base",
     "model_module_version": "1.2.0",
     "model_name": "LayoutModel",
     "state": {
      "_model_module": "@jupyter-widgets/base",
      "_model_module_version": "1.2.0",
      "_model_name": "LayoutModel",
      "_view_count": null,
      "_view_module": "@jupyter-widgets/base",
      "_view_module_version": "1.2.0",
      "_view_name": "LayoutView",
      "align_content": null,
      "align_items": null,
      "align_self": null,
      "border": null,
      "bottom": null,
      "display": null,
      "flex": null,
      "flex_flow": null,
      "grid_area": null,
      "grid_auto_columns": null,
      "grid_auto_flow": null,
      "grid_auto_rows": null,
      "grid_column": null,
      "grid_gap": null,
      "grid_row": null,
      "grid_template_areas": null,
      "grid_template_columns": null,
      "grid_template_rows": null,
      "height": null,
      "justify_content": null,
      "justify_items": null,
      "left": null,
      "margin": null,
      "max_height": null,
      "max_width": null,
      "min_height": null,
      "min_width": null,
      "object_fit": null,
      "object_position": null,
      "order": null,
      "overflow": null,
      "overflow_x": null,
      "overflow_y": null,
      "padding": null,
      "right": null,
      "top": null,
      "visibility": null,
      "width": null
     }
    },
    "6b87abbac9a64e41ba8ca204e0e1143b": {
     "model_module": "@jupyter-widgets/controls",
     "model_module_version": "1.5.0",
     "model_name": "HTMLModel",
     "state": {
      "_dom_classes": [],
      "_model_module": "@jupyter-widgets/controls",
      "_model_module_version": "1.5.0",
      "_model_name": "HTMLModel",
      "_view_count": null,
      "_view_module": "@jupyter-widgets/controls",
      "_view_module_version": "1.5.0",
      "_view_name": "HTMLView",
      "description": "",
      "description_tooltip": null,
      "layout": "IPY_MODEL_4949fd16d8be4e26ba27e37206e77af2",
      "placeholder": "​",
      "style": "IPY_MODEL_a5d4acda368942f1910de8d214708d0c",
      "value": "100%"
     }
    },
    "8a91430c62ee4a708306866a8e0ca93a": {
     "model_module": "@jupyter-widgets/controls",
     "model_module_version": "1.5.0",
     "model_name": "FloatProgressModel",
     "state": {
      "_dom_classes": [],
      "_model_module": "@jupyter-widgets/controls",
      "_model_module_version": "1.5.0",
      "_model_name": "FloatProgressModel",
      "_view_count": null,
      "_view_module": "@jupyter-widgets/controls",
      "_view_module_version": "1.5.0",
      "_view_name": "ProgressView",
      "bar_style": "",
      "description": "",
      "description_tooltip": null,
      "layout": "IPY_MODEL_423d4305a56a42e48e419bcd272e9ab6",
      "max": 72,
      "min": 0,
      "orientation": "horizontal",
      "style": "IPY_MODEL_924953c96faf459981a5a1ee8eb5a2f4",
      "value": 0
     }
    },
    "924953c96faf459981a5a1ee8eb5a2f4": {
     "model_module": "@jupyter-widgets/controls",
     "model_module_version": "1.5.0",
     "model_name": "ProgressStyleModel",
     "state": {
      "_model_module": "@jupyter-widgets/controls",
      "_model_module_version": "1.5.0",
      "_model_name": "ProgressStyleModel",
      "_view_count": null,
      "_view_module": "@jupyter-widgets/base",
      "_view_module_version": "1.2.0",
      "_view_name": "StyleView",
      "bar_color": null,
      "description_width": ""
     }
    },
    "9d94834ad0454830a26ed2715c014626": {
     "model_module": "@jupyter-widgets/controls",
     "model_module_version": "1.5.0",
     "model_name": "HTMLModel",
     "state": {
      "_dom_classes": [],
      "_model_module": "@jupyter-widgets/controls",
      "_model_module_version": "1.5.0",
      "_model_name": "HTMLModel",
      "_view_count": null,
      "_view_module": "@jupyter-widgets/controls",
      "_view_module_version": "1.5.0",
      "_view_name": "HTMLView",
      "description": "",
      "description_tooltip": null,
      "layout": "IPY_MODEL_2d47d3f79b79464793997c7506333c24",
      "placeholder": "​",
      "style": "IPY_MODEL_46a09e627a27491ea346658be03a4560",
      "value": " 0/72 [00:00&lt;?, ?it/s]"
     }
    },
    "a5d4acda368942f1910de8d214708d0c": {
     "model_module": "@jupyter-widgets/controls",
     "model_module_version": "1.5.0",
     "model_name": "DescriptionStyleModel",
     "state": {
      "_model_module": "@jupyter-widgets/controls",
      "_model_module_version": "1.5.0",
      "_model_name": "DescriptionStyleModel",
      "_view_count": null,
      "_view_module": "@jupyter-widgets/base",
      "_view_module_version": "1.2.0",
      "_view_name": "StyleView",
      "description_width": ""
     }
    },
    "a8b35855b26c4c059db6f6954e061983": {
     "model_module": "@jupyter-widgets/base",
     "model_module_version": "1.2.0",
     "model_name": "LayoutModel",
     "state": {
      "_model_module": "@jupyter-widgets/base",
      "_model_module_version": "1.2.0",
      "_model_name": "LayoutModel",
      "_view_count": null,
      "_view_module": "@jupyter-widgets/base",
      "_view_module_version": "1.2.0",
      "_view_name": "LayoutView",
      "align_content": null,
      "align_items": null,
      "align_self": null,
      "border": null,
      "bottom": null,
      "display": null,
      "flex": null,
      "flex_flow": null,
      "grid_area": null,
      "grid_auto_columns": null,
      "grid_auto_flow": null,
      "grid_auto_rows": null,
      "grid_column": null,
      "grid_gap": null,
      "grid_row": null,
      "grid_template_areas": null,
      "grid_template_columns": null,
      "grid_template_rows": null,
      "height": null,
      "justify_content": null,
      "justify_items": null,
      "left": null,
      "margin": null,
      "max_height": null,
      "max_width": null,
      "min_height": null,
      "min_width": null,
      "object_fit": null,
      "object_position": null,
      "order": null,
      "overflow": null,
      "overflow_x": null,
      "overflow_y": null,
      "padding": null,
      "right": null,
      "top": null,
      "visibility": null,
      "width": null
     }
    },
    "a921121a3ce2448dadfe8d259cda821f": {
     "model_module": "@jupyter-widgets/base",
     "model_module_version": "1.2.0",
     "model_name": "LayoutModel",
     "state": {
      "_model_module": "@jupyter-widgets/base",
      "_model_module_version": "1.2.0",
      "_model_name": "LayoutModel",
      "_view_count": null,
      "_view_module": "@jupyter-widgets/base",
      "_view_module_version": "1.2.0",
      "_view_name": "LayoutView",
      "align_content": null,
      "align_items": null,
      "align_self": null,
      "border": null,
      "bottom": null,
      "display": null,
      "flex": null,
      "flex_flow": null,
      "grid_area": null,
      "grid_auto_columns": null,
      "grid_auto_flow": null,
      "grid_auto_rows": null,
      "grid_column": null,
      "grid_gap": null,
      "grid_row": null,
      "grid_template_areas": null,
      "grid_template_columns": null,
      "grid_template_rows": null,
      "height": null,
      "justify_content": null,
      "justify_items": null,
      "left": null,
      "margin": null,
      "max_height": null,
      "max_width": null,
      "min_height": null,
      "min_width": null,
      "object_fit": null,
      "object_position": null,
      "order": null,
      "overflow": null,
      "overflow_x": null,
      "overflow_y": null,
      "padding": null,
      "right": null,
      "top": null,
      "visibility": null,
      "width": null
     }
    },
    "b6d14bd568504597bdd08ed4099362ff": {
     "model_module": "@jupyter-widgets/controls",
     "model_module_version": "1.5.0",
     "model_name": "HBoxModel",
     "state": {
      "_dom_classes": [],
      "_model_module": "@jupyter-widgets/controls",
      "_model_module_version": "1.5.0",
      "_model_name": "HBoxModel",
      "_view_count": null,
      "_view_module": "@jupyter-widgets/controls",
      "_view_module_version": "1.5.0",
      "_view_name": "HBoxView",
      "box_style": "",
      "children": [
       "IPY_MODEL_6b87abbac9a64e41ba8ca204e0e1143b",
       "IPY_MODEL_b87f9d6a7d9b40689415368c838a7a52",
       "IPY_MODEL_cc4e5604806e41a4b5caae64b30c6a0b"
      ],
      "layout": "IPY_MODEL_a921121a3ce2448dadfe8d259cda821f"
     }
    },
    "b87f9d6a7d9b40689415368c838a7a52": {
     "model_module": "@jupyter-widgets/controls",
     "model_module_version": "1.5.0",
     "model_name": "FloatProgressModel",
     "state": {
      "_dom_classes": [],
      "_model_module": "@jupyter-widgets/controls",
      "_model_module_version": "1.5.0",
      "_model_name": "FloatProgressModel",
      "_view_count": null,
      "_view_module": "@jupyter-widgets/controls",
      "_view_module_version": "1.5.0",
      "_view_name": "ProgressView",
      "bar_style": "success",
      "description": "",
      "description_tooltip": null,
      "layout": "IPY_MODEL_bb586a1de2004362b221915df1a5a7bd",
      "max": 72,
      "min": 0,
      "orientation": "horizontal",
      "style": "IPY_MODEL_d67f31d040ca4410b41c17e2428e3c63",
      "value": 72
     }
    },
    "bb586a1de2004362b221915df1a5a7bd": {
     "model_module": "@jupyter-widgets/base",
     "model_module_version": "1.2.0",
     "model_name": "LayoutModel",
     "state": {
      "_model_module": "@jupyter-widgets/base",
      "_model_module_version": "1.2.0",
      "_model_name": "LayoutModel",
      "_view_count": null,
      "_view_module": "@jupyter-widgets/base",
      "_view_module_version": "1.2.0",
      "_view_name": "LayoutView",
      "align_content": null,
      "align_items": null,
      "align_self": null,
      "border": null,
      "bottom": null,
      "display": null,
      "flex": null,
      "flex_flow": null,
      "grid_area": null,
      "grid_auto_columns": null,
      "grid_auto_flow": null,
      "grid_auto_rows": null,
      "grid_column": null,
      "grid_gap": null,
      "grid_row": null,
      "grid_template_areas": null,
      "grid_template_columns": null,
      "grid_template_rows": null,
      "height": null,
      "justify_content": null,
      "justify_items": null,
      "left": null,
      "margin": null,
      "max_height": null,
      "max_width": null,
      "min_height": null,
      "min_width": null,
      "object_fit": null,
      "object_position": null,
      "order": null,
      "overflow": null,
      "overflow_x": null,
      "overflow_y": null,
      "padding": null,
      "right": null,
      "top": null,
      "visibility": null,
      "width": null
     }
    },
    "c722553ca84b43aebaf9879188aaf38a": {
     "model_module": "@jupyter-widgets/controls",
     "model_module_version": "1.5.0",
     "model_name": "HBoxModel",
     "state": {
      "_dom_classes": [],
      "_model_module": "@jupyter-widgets/controls",
      "_model_module_version": "1.5.0",
      "_model_name": "HBoxModel",
      "_view_count": null,
      "_view_module": "@jupyter-widgets/controls",
      "_view_module_version": "1.5.0",
      "_view_name": "HBoxView",
      "box_style": "",
      "children": [
       "IPY_MODEL_08ed8b049f0e40e9b3e3047726704e3f",
       "IPY_MODEL_8a91430c62ee4a708306866a8e0ca93a",
       "IPY_MODEL_9d94834ad0454830a26ed2715c014626"
      ],
      "layout": "IPY_MODEL_23f95d18b1da452a8eefcffdc584b31b"
     }
    },
    "cc4e5604806e41a4b5caae64b30c6a0b": {
     "model_module": "@jupyter-widgets/controls",
     "model_module_version": "1.5.0",
     "model_name": "HTMLModel",
     "state": {
      "_dom_classes": [],
      "_model_module": "@jupyter-widgets/controls",
      "_model_module_version": "1.5.0",
      "_model_name": "HTMLModel",
      "_view_count": null,
      "_view_module": "@jupyter-widgets/controls",
      "_view_module_version": "1.5.0",
      "_view_name": "HTMLView",
      "description": "",
      "description_tooltip": null,
      "layout": "IPY_MODEL_a8b35855b26c4c059db6f6954e061983",
      "placeholder": "​",
      "style": "IPY_MODEL_3a065556caa54d938527015955a66b36",
      "value": " 72/72 [01:29&lt;00:00,  1.11s/it]"
     }
    },
    "d67f31d040ca4410b41c17e2428e3c63": {
     "model_module": "@jupyter-widgets/controls",
     "model_module_version": "1.5.0",
     "model_name": "ProgressStyleModel",
     "state": {
      "_model_module": "@jupyter-widgets/controls",
      "_model_module_version": "1.5.0",
      "_model_name": "ProgressStyleModel",
      "_view_count": null,
      "_view_module": "@jupyter-widgets/base",
      "_view_module_version": "1.2.0",
      "_view_name": "StyleView",
      "bar_color": null,
      "description_width": ""
     }
    }
   }
  }
 },
 "nbformat": 4,
 "nbformat_minor": 1
}
