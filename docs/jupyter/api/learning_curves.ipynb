{
  "cells": [
    {
      "cell_type": "markdown",
      "id": "94bb2ed7",
      "metadata": {
        "id": "94bb2ed7"
      },
      "source": [
        "Should I Collect More Data?\n",
        "==="
      ]
    },
    {
      "cell_type": "markdown",
      "id": "8adac508",
      "metadata": {
        "ExecuteTime": {
          "end_time": "2023-09-11T18:30:59.431808Z",
          "start_time": "2023-09-11T18:30:59.425836Z"
        },
        "id": "8adac508"
      },
      "source": [
        "Author: Nathan A. Mahynski\n",
        "\n",
        "Date: 2023/09/12\n",
        "\n",
        "Description: How do I know if more data will help me or not?\n",
        "\n",
        "[![Open In Colab](https://colab.research.google.com/assets/colab-badge.svg)](https://colab.research.google.com/github/mahynski/pychemauth/blob/main/docs/jupyter/api/learning_curves.ipynb)"
      ]
    },
    {
      "cell_type": "code",
      "execution_count": null,
      "id": "0ef77b21",
      "metadata": {
        "ExecuteTime": {
          "end_time": "2023-10-24T12:42:55.466750Z",
          "start_time": "2023-10-24T12:42:55.460766Z"
        },
        "id": "0ef77b21"
      },
      "outputs": [],
      "source": [
        "if 'google.colab' in str(get_ipython()):\n",
        "    !pip install git+https://github.com/mahynski/pychemauth@main\n",
        "    import os\n",
        "    os.kill(os.getpid(), 9) # Automatically restart the runtime to reload libraries"
      ]
    },
    {
      "cell_type": "code",
      "execution_count": 1,
      "id": "6b4df76a",
      "metadata": {
        "ExecuteTime": {
          "end_time": "2023-10-24T12:42:56.430230Z",
          "start_time": "2023-10-24T12:42:55.914596Z"
        },
        "id": "6b4df76a"
      },
      "outputs": [],
      "source": [
        "try:\n",
        "    import pychemauth\n",
        "except:\n",
        "    raise ImportError(\"pychemauth not installed\")\n",
        "\n",
        "import matplotlib.pyplot as plt\n",
        "%matplotlib inline\n",
        "\n",
        "import watermark\n",
        "%load_ext watermark\n",
        "\n",
        "%load_ext autoreload\n",
        "%autoreload 2"
      ]
    },
    {
      "cell_type": "code",
      "execution_count": 2,
      "id": "c2d61fbb",
      "metadata": {
        "ExecuteTime": {
          "end_time": "2023-10-24T12:42:57.495267Z",
          "start_time": "2023-10-24T12:42:56.432584Z"
        },
        "id": "c2d61fbb"
      },
      "outputs": [],
      "source": [
        "import sklearn\n",
        "import imblearn\n",
        "\n",
        "import numpy as np\n",
        "\n",
        "from pychemauth.classifier.simca import SIMCA_Authenticator\n",
        "\n",
        "from sklearn.model_selection import train_test_split, LearningCurveDisplay, RepeatedStratifiedKFold, GridSearchCV"
      ]
    },
    {
      "cell_type": "code",
      "execution_count": 3,
      "id": "c21bd0a0",
      "metadata": {
        "ExecuteTime": {
          "end_time": "2023-10-24T12:42:57.522559Z",
          "start_time": "2023-10-24T12:42:57.497516Z"
        },
        "id": "c21bd0a0",
        "outputId": "03feaec4-89f0-4127-bdda-d40efcab3900",
        "colab": {
          "base_uri": "https://localhost:8080/"
        }
      },
      "outputs": [
        {
          "output_type": "stream",
          "name": "stdout",
          "text": [
            "Python implementation: CPython\n",
            "Python version       : 3.10.12\n",
            "IPython version      : 7.34.0\n",
            "\n",
            "Compiler    : GCC 11.4.0\n",
            "OS          : Linux\n",
            "Release     : 6.1.85+\n",
            "Machine     : x86_64\n",
            "Processor   : x86_64\n",
            "CPU cores   : 2\n",
            "Architecture: 64bit\n",
            "\n",
            "numpy     : 1.24.3\n",
            "pychemauth: 0.0.0b4\n",
            "sklearn   : 1.3.0\n",
            "watermark : 2.4.3\n",
            "imblearn  : 0.11.0\n",
            "matplotlib: 3.7.2\n",
            "\n"
          ]
        }
      ],
      "source": [
        "%watermark -t -m -v --iversions"
      ]
    },
    {
      "cell_type": "markdown",
      "id": "1aaa5dd4",
      "metadata": {
        "ExecuteTime": {
          "end_time": "2023-09-11T18:38:36.896922Z",
          "start_time": "2023-09-11T18:38:36.890912Z"
        },
        "id": "1aaa5dd4"
      },
      "source": [
        "<h3>Load the Data</h3>"
      ]
    },
    {
      "cell_type": "code",
      "execution_count": 4,
      "id": "f55a3176",
      "metadata": {
        "ExecuteTime": {
          "end_time": "2023-10-24T12:43:11.360628Z",
          "start_time": "2023-10-24T12:43:11.279007Z"
        },
        "id": "f55a3176"
      },
      "outputs": [],
      "source": [
        "from sklearn.datasets import load_wine as load_data\n",
        "X, y = load_data(return_X_y=True, as_frame=True)"
      ]
    },
    {
      "cell_type": "code",
      "execution_count": 5,
      "id": "f62ac524",
      "metadata": {
        "ExecuteTime": {
          "end_time": "2023-10-24T12:43:11.637900Z",
          "start_time": "2023-10-24T12:43:11.594924Z"
        },
        "id": "f62ac524",
        "outputId": "b36091e1-38f5-4277-ec7b-3ecdc7033635",
        "colab": {
          "base_uri": "https://localhost:8080/"
        }
      },
      "outputs": [
        {
          "output_type": "execute_result",
          "data": {
            "text/plain": [
              "array([0, 1, 2])"
            ]
          },
          "metadata": {},
          "execution_count": 5
        }
      ],
      "source": [
        "# Here we have 3 different classes of wine\n",
        "np.unique(y)"
      ]
    },
    {
      "cell_type": "code",
      "execution_count": 6,
      "id": "2ba5465d",
      "metadata": {
        "ExecuteTime": {
          "end_time": "2023-10-24T12:43:12.899360Z",
          "start_time": "2023-10-24T12:43:12.629116Z"
        },
        "id": "2ba5465d",
        "outputId": "0ca7b559-a577-460c-9f9a-b250bc65cd1a",
        "colab": {
          "base_uri": "https://localhost:8080/",
          "height": 454
        }
      },
      "outputs": [
        {
          "output_type": "display_data",
          "data": {
            "text/plain": [
              "<Figure size 640x480 with 1 Axes>"
            ],
            "image/png": "[encoded data removed]"
          },
          "metadata": {}
        }
      ],
      "source": [
        "plt.bar(\n",
        "    x=np.unique(y),\n",
        "    height=[np.sum(y == class_) for class_ in np.unique(y)]\n",
        ")\n",
        "plt.xticks([0, 1, 2])\n",
        "plt.title('Observations in database')\n",
        "_ = plt.xticks(rotation=45)"
      ]
    },
    {
      "cell_type": "code",
      "execution_count": 7,
      "id": "3c229199",
      "metadata": {
        "ExecuteTime": {
          "end_time": "2023-10-24T12:43:15.008252Z",
          "start_time": "2023-10-24T12:43:14.968454Z"
        },
        "id": "3c229199"
      },
      "outputs": [],
      "source": [
        "X_train, X_test, y_train, y_test = train_test_split(\n",
        "    X.values,\n",
        "    y.values, # Let's try to predict the salary based on the other numerical features.\n",
        "    shuffle=True,\n",
        "    random_state=42,\n",
        "    test_size=0.2,\n",
        "    stratify=y # It is usually important to balance the test and train set so they have the same fraction of classes\n",
        ")"
      ]
    },
    {
      "cell_type": "markdown",
      "id": "6262153a",
      "metadata": {
        "ExecuteTime": {
          "end_time": "2023-09-11T18:32:52.515300Z",
          "start_time": "2023-09-11T18:32:52.509084Z"
        },
        "id": "6262153a"
      },
      "source": [
        "Learning Curves\n",
        "---"
      ]
    },
    {
      "cell_type": "markdown",
      "id": "19305132",
      "metadata": {
        "id": "19305132"
      },
      "source": [
        "[Learning curves](https://scikit-learn.org/stable/auto_examples/model_selection/plot_learning_curve.html#learning-curve) illustrate the effect of collecting more data to use during the training process.  Data is often scarce and can be expensive to collect, but learning curves help you extrapolate a model's performance if you did collect more data.  This means we can estimate the value produced (degree of model improvement) for a given investment (cost to collect more data).\n",
        "\n",
        "In practice, this is done by training on small subsets of your data, of progressively increasing size, until you reach all your available data.  This way, you build a curve from the small(er) data limit up to your current capacity and hopefully extrapolate the results. For each subset of data, some form of CV is performed to get a mean and standard deviation (uncertainty) from the test folds.  This what is reported below."
      ]
    },
    {
      "cell_type": "markdown",
      "id": "a74488e6",
      "metadata": {
        "ExecuteTime": {
          "end_time": "2023-09-13T14:49:12.655488Z",
          "start_time": "2023-09-13T14:49:12.623368Z"
        },
        "id": "a74488e6"
      },
      "source": [
        "<h3>Extrapolating Model Performance</h3>"
      ]
    },
    {
      "cell_type": "code",
      "execution_count": 76,
      "id": "4c1f538c",
      "metadata": {
        "ExecuteTime": {
          "end_time": "2023-10-24T12:43:16.854863Z",
          "start_time": "2023-10-24T12:43:16.816164Z"
        },
        "id": "4c1f538c"
      },
      "outputs": [],
      "source": [
        "compliant = SIMCA_Authenticator(\n",
        "    n_components=2,\n",
        "    alpha=0.05,\n",
        "    scale_x=True,\n",
        "    style='dd-simca',\n",
        "    robust=\"semi\",\n",
        "    sft=False,\n",
        "    target_class=0, # Let's model class 0\n",
        "    use='compliant' # Using a compliant approach will use the other classes provided at training time\n",
        ")"
      ]
    },
    {
      "cell_type": "code",
      "execution_count": 10,
      "id": "0738b8a0",
      "metadata": {
        "ExecuteTime": {
          "end_time": "2023-10-24T12:43:26.548916Z",
          "start_time": "2023-10-24T12:43:19.830994Z"
        },
        "id": "0738b8a0",
        "outputId": "2a92067e-a5d1-4871-ca91-f221c9dff7a0",
        "colab": {
          "base_uri": "https://localhost:8080/",
          "height": 449
        }
      },
      "outputs": [
        {
          "output_type": "display_data",
          "data": {
            "text/plain": [
              "<Figure size 640x480 with 1 Axes>"
            ],
            "image/png": "[encoded data removed]"
          },
          "metadata": {}
        }
      ],
      "source": [
        "common_params = {\n",
        "    \"X\": X_train,\n",
        "    \"y\": y_train,\n",
        "    \"train_sizes\": np.linspace(0.1, 1.0, 20),\n",
        "    \"cv\": RepeatedStratifiedKFold(n_repeats=10, n_splits=5, random_state=0),\n",
        "    \"score_type\": \"both\", # Get both test and train results\n",
        "    \"n_jobs\": -1,\n",
        "    \"line_kw\": {\"marker\": \"o\"},\n",
        "    \"std_display_style\": \"fill_between\",\n",
        "    \"score_name\": \"TEFF\",\n",
        "}\n",
        "\n",
        "res = LearningCurveDisplay.from_estimator(compliant, **common_params)"
      ]
    },
    {
      "cell_type": "code",
      "source": [
        "# Let's extract the test curve and fit this\n",
        "x, y = res.lines_[1].get_xdata(), res.lines_[1].get_ydata()\n",
        "\n",
        "from scipy.optimize import curve_fit\n",
        "\n",
        "# Define a functional form to fit the curve to.\n",
        "# This is convenient because the `limit` term represents the limiting\n",
        "# performance we can achieve so we can just look at the best fit answer to\n",
        "# predict our extrapolated performance.\n",
        "def curve(x, x0, a, b, c, limit):\n",
        "    return limit - (a * np.exp(-b * (x - x0) + c))\n",
        "\n",
        "popt, pcov = curve_fit(\n",
        "    curve,\n",
        "    x,\n",
        "    y,\n",
        "    p0=[0, 1, 0.05, 0, 1.0] # Initial guess for parameters\n",
        ")"
      ],
      "metadata": {
        "id": "EJN4il5JBh5u"
      },
      "id": "EJN4il5JBh5u",
      "execution_count": 74,
      "outputs": []
    },
    {
      "cell_type": "code",
      "source": [
        "plt.plot(x, curve(x, *popt), label='Fit Curve')\n",
        "plt.plot(x, y, 'o', color='C1', label='Test Set Performance')\n",
        "\n",
        "# See https://docs.scipy.org/doc/scipy-1.13.1/reference/generated/scipy.optimize.curve_fit.html.\n",
        "plt.axhline(\n",
        "    popt[-1],\n",
        "    color='r',\n",
        "    label=f'Limit = {\"%.2f\"%popt[-1]} +/- {\"%.3f\"%(np.sqrt(np.diag(pcov))[-1])}' # This gives +/- 1 standard deviation on the parameter estimate.\n",
        ")\n",
        "plt.ylim(0, 1)\n",
        "_ = plt.legend(loc='best')"
      ],
      "metadata": {
        "id": "WxwWOvKZD7rZ",
        "outputId": "677efbfc-064c-4339-e672-96d1bccc7ef3",
        "colab": {
          "base_uri": "https://localhost:8080/",
          "height": 435
        }
      },
      "id": "WxwWOvKZD7rZ",
      "execution_count": 75,
      "outputs": [
        {
          "output_type": "display_data",
          "data": {
            "text/plain": [
              "<Figure size 640x480 with 1 Axes>"
            ],
            "image/png": "[encoded data removed]"
          },
          "metadata": {}
        }
      ]
    },
    {
      "cell_type": "markdown",
      "id": "e514a704",
      "metadata": {
        "id": "e514a704"
      },
      "source": [
        "Unsurprisingly, this model performs quite well and the train and test performances have slowly converged.  More data could possibly push this convergence further, but it seems to have essentially reached a plateau."
      ]
    },
    {
      "cell_type": "markdown",
      "id": "48a0d70b",
      "metadata": {
        "id": "48a0d70b"
      },
      "source": [
        "<h3>Incorporating Hyperparameter Search Uncertainty</h3>"
      ]
    },
    {
      "cell_type": "markdown",
      "id": "ef5a0bbf",
      "metadata": {
        "id": "ef5a0bbf"
      },
      "source": [
        "But what if we need to optimize the hyperparameters, too?  We should use a nested CV approach to examine the uncertainty in the determination of those hyperparameters."
      ]
    },
    {
      "cell_type": "code",
      "execution_count": null,
      "id": "36973956",
      "metadata": {
        "ExecuteTime": {
          "end_time": "2023-10-24T12:51:00.830825Z",
          "start_time": "2023-10-24T12:43:30.927624Z"
        },
        "id": "36973956"
      },
      "outputs": [],
      "source": [
        "k_inner = 5\n",
        "k_outer = 10\n",
        "n_repeats = 10\n",
        "\n",
        "compliant_pipeline = imblearn.pipeline.Pipeline(\n",
        "    steps=[\n",
        "        (\"simca\", SIMCA_Authenticator(\n",
        "            n_components=1,\n",
        "            alpha=0.05,\n",
        "            scale_x=True,\n",
        "            style='dd-simca',\n",
        "            robust=\"semi\",\n",
        "            sft=False,\n",
        "            target_class=0,\n",
        "            use='compliant'\n",
        "        )\n",
        "    )\n",
        "])\n",
        "\n",
        "param_grid = [{\n",
        "    'simca__n_components':np.arange(1, 4),\n",
        "    'simca__alpha': [0.01, 0.03, 0.05],\n",
        "}]\n",
        "\n",
        "gs = GridSearchCV(\n",
        "    estimator=compliant_pipeline,\n",
        "    param_grid=param_grid,\n",
        "    n_jobs=-1,\n",
        "    cv=sklearn.model_selection.StratifiedKFold(n_splits=k_inner, shuffle=True, random_state=0),\n",
        "    error_score=0,\n",
        "    refit=True\n",
        ")\n",
        "\n",
        "common_params = {\n",
        "    \"X\": X_train,\n",
        "    \"y\": y_train,\n",
        "    \"train_sizes\": np.linspace(0.2, 1.0, 20), # Be sure to consider how low you can go with this (see below)\n",
        "    \"cv\": RepeatedStratifiedKFold(n_repeats=n_repeats, n_splits=k_outer, random_state=0),\n",
        "    \"score_type\": \"both\",\n",
        "    \"n_jobs\": -1,\n",
        "    \"line_kw\": {\"marker\": \"o\"},\n",
        "    \"std_display_style\": \"fill_between\",\n",
        "    \"score_name\": \"TEFF\",\n",
        "}\n",
        "\n",
        "res = LearningCurveDisplay.from_estimator(gs, **common_params)"
      ]
    },
    {
      "cell_type": "code",
      "source": [
        "# Let's extract the test curve and fit this\n",
        "x, y = res.lines_[1].get_xdata(), res.lines_[1].get_ydata()\n",
        "\n",
        "popt, pcov = curve_fit(\n",
        "    curve,\n",
        "    x,\n",
        "    y,\n",
        "    p0=[0, 1, 0.05, 0, 1.0]\n",
        ")\n",
        "\n",
        "plt.plot(x, curve(x, *popt), label='Fit Curve')\n",
        "plt.plot(x, y, 'o', color='C1', label='Test Set Performance')\n",
        "\n",
        "# See https://docs.scipy.org/doc/scipy-1.13.1/reference/generated/scipy.optimize.curve_fit.html.\n",
        "plt.axhline(\n",
        "    popt[-1],\n",
        "    color='r',\n",
        "    label=f'Limit = {\"%.2f\"%popt[-1]} +/- {\"%.3f\"%(np.sqrt(np.diag(pcov))[-1])}' # This gives +/- 1 standard deviation on the parameter estimate.\n",
        ")\n",
        "plt.ylim(0, 1)\n",
        "_ = plt.legend(loc='best')"
      ],
      "metadata": {
        "id": "aLjirEtdF8EE"
      },
      "id": "aLjirEtdF8EE",
      "execution_count": null,
      "outputs": []
    },
    {
      "cell_type": "markdown",
      "id": "a93ac952",
      "metadata": {
        "id": "a93ac952"
      },
      "source": [
        "This model's performance seems stable so adding more data is unlikely to improve it; this is expected given the good performance already seen.  Note the uncertainty is much higher because we are also incorporating the hyperparameter search now.\n",
        "\n",
        "Note that when nesting cross-validators like this we should think a little bit about how much data is available.  The first point tested above uses 20% of the available data.  Class 0 has 47 examples in the dataset being used.  k_outer splits are repeatedly used to estimate uncertainty.  This means (k_outer-1)/k_outer are available for training; we should have some data in the test and train folds, so with k_inner = 5 we need to have at least 5 examples sent to each of these loops.\n",
        "\n",
        "Note that since we are using stratified splitters a warning will be thrown if an even split cannot be made, which will be set off by the class with the least observations over all (in this case it is actually class 2)."
      ]
    },
    {
      "cell_type": "code",
      "execution_count": null,
      "id": "efb2552b",
      "metadata": {
        "ExecuteTime": {
          "end_time": "2023-10-24T12:52:21.714171Z",
          "start_time": "2023-10-24T12:52:21.679026Z"
        },
        "id": "efb2552b",
        "outputId": "31ff78f7-ae58-4591-9242-addc54f7c1e4"
      },
      "outputs": [
        {
          "data": {
            "text/plain": [
              "True"
            ]
          },
          "execution_count": 12,
          "metadata": {},
          "output_type": "execute_result"
        }
      ],
      "source": [
        "min_fraction = 0.2\n",
        "\n",
        "np.sum(y_train == 0)*(k_outer-1)/(k_outer)*min_fraction > k_inner"
      ]
    }
  ],
  "metadata": {
    "language_info": {
      "name": "python"
    },
    "colab": {
      "provenance": []
    },
    "kernelspec": {
      "name": "python3",
      "display_name": "Python 3"
    }
  },
  "nbformat": 4,
  "nbformat_minor": 5
}