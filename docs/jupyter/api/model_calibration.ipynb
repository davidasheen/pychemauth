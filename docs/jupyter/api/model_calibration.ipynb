{
 "cells": [
  {
   "cell_type": "markdown",
   "id": "84d9c553",
   "metadata": {},
   "source": [
    "Calibrating Model Probabilities\n",
    "==="
   ]
  },
  {
   "cell_type": "markdown",
   "id": "9f064140",
   "metadata": {},
   "source": [
    "Now that we trained the best model possible we need to start making it more interpretable.\n",
    "Lets start with the model's output \"probabilities\""
   ]
  }
 ],
 "metadata": {
  "language_info": {
   "codemirror_mode": {
    "name": "ipython",
    "version": 3
   },
   "file_extension": ".py",
   "mimetype": "text/x-python",
   "name": "python",
   "nbconvert_exporter": "python",
   "pygments_lexer": "ipython3",
   "version": "3.11.4"
  }
 },
 "nbformat": 4,
 "nbformat_minor": 5
}
