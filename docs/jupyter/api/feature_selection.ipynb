{
 "cells": [
  {
   "cell_type": "markdown",
   "id": "c5a4f1d1",
   "metadata": {},
   "source": [
    "Selecting the Most Important Features\n",
    "==="
   ]
  },
  {
   "cell_type": "markdown",
   "id": "094210bf",
   "metadata": {
    "ExecuteTime": {
     "end_time": "2023-09-01T12:09:18.363262Z",
     "start_time": "2023-09-01T12:09:18.356384Z"
    }
   },
   "source": [
    "Author: Nathan A. Mahynski\n",
    "\n",
    "Date: 2023/08/31\n",
    "\n",
    "Description: Examples of different ways to select important features for modeling.\n",
    "\n",
    "[![Open In Colab](https://colab.research.google.com/assets/colab-badge.svg)](https://colab.research.google.com/github/mahynski/pychemauth/blob/main/docs/jupyter/api/feature_selection.ipynb)"
   ]
  },
  {
   "cell_type": "code",
   "execution_count": 1,
   "id": "fd958b64",
   "metadata": {
    "ExecuteTime": {
     "end_time": "2023-10-23T20:02:32.331920Z",
     "start_time": "2023-10-23T20:02:32.325868Z"
    }
   },
   "outputs": [],
   "source": [
    "if 'google.colab' in str(get_ipython()):\n",
    "    !pip install git+https://github.com/mahynski/pychemauth@main\n",
    "    import os\n",
    "    os.kill(os.getpid(), 9) # Automatically restart the runtime to reload libraries"
   ]
  },
  {
   "cell_type": "code",
   "execution_count": 2,
   "id": "fa02da84",
   "metadata": {
    "ExecuteTime": {
     "end_time": "2023-10-23T20:02:33.165994Z",
     "start_time": "2023-10-23T20:02:32.628760Z"
    }
   },
   "outputs": [],
   "source": [
    "try:\n",
    "    import pychemauth\n",
    "except:\n",
    "    raise ImportError(\"pychemauth not installed\")\n",
    "\n",
    "import matplotlib.pyplot as plt\n",
    "%matplotlib inline\n",
    "\n",
    "import watermark\n",
    "%load_ext watermark\n",
    "\n",
    "%load_ext autoreload\n",
    "%autoreload 2"
   ]
  },
  {
   "cell_type": "code",
   "execution_count": 3,
   "id": "04799a62",
   "metadata": {
    "ExecuteTime": {
     "end_time": "2023-10-23T20:02:33.716997Z",
     "start_time": "2023-10-23T20:02:33.168499Z"
    }
   },
   "outputs": [],
   "source": [
    "import sklearn\n",
    "import warnings\n",
    "import numpy as np\n",
    "import pandas as pd"
   ]
  },
  {
   "cell_type": "code",
   "execution_count": 4,
   "id": "c6a4c5d0",
   "metadata": {
    "ExecuteTime": {
     "end_time": "2023-10-23T20:02:34.465036Z",
     "start_time": "2023-10-23T20:02:34.437745Z"
    }
   },
   "outputs": [
    {
     "name": "stdout",
     "output_type": "stream",
     "text": [
      "Python implementation: CPython\n",
      "Python version       : 3.11.4\n",
      "IPython version      : 8.14.0\n",
      "\n",
      "Compiler    : GCC 12.2.0\n",
      "OS          : Linux\n",
      "Release     : 6.2.0-34-generic\n",
      "Machine     : x86_64\n",
      "Processor   : x86_64\n",
      "CPU cores   : 40\n",
      "Architecture: 64bit\n",
      "\n",
      "json      : 2.0.9\n",
      "sklearn   : 1.3.0\n",
      "pychemauth: 0.0.0b3\n",
      "pandas    : 1.5.3\n",
      "matplotlib: 3.7.2\n",
      "numpy     : 1.24.3\n",
      "watermark : 2.4.3\n",
      "\n"
     ]
    }
   ],
   "source": [
    "%watermark -t -m -v --iversions"
   ]
  },
  {
   "cell_type": "markdown",
   "id": "e8a789fa",
   "metadata": {},
   "source": [
    "More features is not always better.  Adding weak or unimportant information to a model can lead to confusion and degrade a model's performance.  \n",
    "\n",
    "One way to select relevant features is based on statistical correlation or mutual information between the X column and the target y.  [scikit-learn has a number of tools for this](https://scikit-learn.org/stable/modules/classes.html#module-sklearn.feature_selection); certain models, like random forests, have feature importances that can be used to remove features which are considered important for a model. However, a more direct way is simply to test which variables actually improve the performance of the final model.  All this requires a model which returns some score (e.g., $R^2$ for regression or accuracy for classification).\n",
    "\n",
    "Here, we will explore how to use the latter with pipelines, enabling automatic feature selection with various strategies."
   ]
  },
  {
   "cell_type": "markdown",
   "id": "8854ed1d",
   "metadata": {},
   "source": [
    "<h3>Load the data</h3>"
   ]
  },
  {
   "cell_type": "markdown",
   "id": "090974f2",
   "metadata": {},
   "source": [
    "Load some example data downloaded from Kaggle <a href=\"https://www.kaggle.com/datasets/mathchi/hitters-baseball-data?select=Hitters.csv\">here</a>."
   ]
  },
  {
   "cell_type": "code",
   "execution_count": 5,
   "id": "66f422e9",
   "metadata": {
    "ExecuteTime": {
     "end_time": "2023-10-23T20:02:38.278333Z",
     "start_time": "2023-10-23T20:02:38.114460Z"
    }
   },
   "outputs": [],
   "source": [
    "from sklearn.datasets import load_wine as load_data\n",
    "X, y = load_data(return_X_y=True, as_frame=True)\n",
    "\n",
    "from sklearn.model_selection import train_test_split\n",
    "\n",
    "X_train, X_test, y_train, y_test = train_test_split(\n",
    "    X.values,\n",
    "    y.values, \n",
    "    shuffle=True,\n",
    "    random_state=42,\n",
    "    test_size=0.2,\n",
    "    stratify=y\n",
    ")\n",
    "\n",
    "from pychemauth.preprocessing.scaling import CorrectedScaler\n",
    "\n",
    "scaler = CorrectedScaler()\n",
    "X_train = scaler.fit_transform(X_train)\n",
    "X_test = scaler.transform(X_test)"
   ]
  },
  {
   "cell_type": "markdown",
   "id": "875740d1",
   "metadata": {},
   "source": [
    "LASSO\n",
    "--"
   ]
  },
  {
   "cell_type": "markdown",
   "id": "716cbe34",
   "metadata": {},
   "source": [
    "As a baseline, let's build a simple linear regression model with an [L1 (LASSO)](https://scikit-learn.org/stable/modules/generated/sklearn.linear_model.Lasso.html) penalty.  These models have sparse solutions meaning that features which do not contribute significantly to the model have their coefficients set to zero, eliminating them.\n",
    "\n",
    "This is meant for regression tasks not classification (which are doing here), but for illustration we can try to regress the class which is encoded as an integer.\n"
   ]
  },
  {
   "cell_type": "code",
   "execution_count": 6,
   "id": "f4a2672e",
   "metadata": {
    "ExecuteTime": {
     "end_time": "2023-10-23T20:02:39.329036Z",
     "start_time": "2023-10-23T20:02:39.271640Z"
    }
   },
   "outputs": [],
   "source": [
    "from sklearn.linear_model import Lasso"
   ]
  },
  {
   "cell_type": "code",
   "execution_count": 7,
   "id": "1d364729",
   "metadata": {
    "ExecuteTime": {
     "end_time": "2023-10-23T20:02:41.419139Z",
     "start_time": "2023-10-23T20:02:40.648960Z"
    }
   },
   "outputs": [
    {
     "data": {
      "image/png": "[encoded data removed]",
      "text/plain": [
       "<Figure size 640x480 with 1 Axes>"
      ]
     },
     "metadata": {},
     "output_type": "display_data"
    }
   ],
   "source": [
    "# When alpha = 0 we have a simple linear regression case.  Otherwise, this multiplies the L1 penalty.\n",
    "alpha_values = np.logspace(-5, 1, 50)\n",
    "test_score, train_score = [], []\n",
    "\n",
    "for alpha in alpha_values:\n",
    "    model = Lasso(\n",
    "        alpha=alpha,\n",
    "        fit_intercept=True, \n",
    "        copy_X=True, \n",
    "        max_iter=10000, \n",
    "        tol=0.0001, \n",
    "        random_state=42, \n",
    "        selection='cyclic'\n",
    "    )\n",
    "    \n",
    "    _ = model.fit(X_train, y_train)\n",
    "    \n",
    "    test_score.append(model.score(X_test, y_test))\n",
    "    train_score.append(model.score(X_train, y_train))\n",
    "    \n",
    "plt.plot(alpha_values, test_score, 'o-', label='Test Set')\n",
    "plt.plot(alpha_values, train_score, '--', label='Train Set')\n",
    "plt.xscale('log')\n",
    "plt.ylabel('Accuracy')\n",
    "plt.xlabel(r'$\\alpha$')\n",
    "plt.legend(loc='best')\n",
    "\n",
    "best_alpha = alpha_values[np.argmax(test_score)]\n",
    "_ = plt.axvline(best_alpha, color='red')"
   ]
  },
  {
   "cell_type": "markdown",
   "id": "76b4d978",
   "metadata": {},
   "source": [
    "The best alpha value is based on the test set performance boost.  When alpha approaches 0 all features are kept. Here we can see that eliminating variables starts to lead to an increase in model performance, then a decay as too many are eliminated.  The best alpha leads to the peak."
   ]
  },
  {
   "cell_type": "code",
   "execution_count": 8,
   "id": "af4fa75d",
   "metadata": {
    "ExecuteTime": {
     "end_time": "2023-10-23T20:02:43.169152Z",
     "start_time": "2023-10-23T20:02:43.139599Z"
    }
   },
   "outputs": [],
   "source": [
    "model = Lasso(\n",
    "    alpha=best_alpha,\n",
    "    fit_intercept=True, \n",
    "    copy_X=True, \n",
    "    max_iter=10000, \n",
    "    tol=0.0001, \n",
    "    random_state=42, \n",
    "    selection='cyclic'\n",
    ")\n",
    "    \n",
    "_ = model.fit(X_train, y_train)"
   ]
  },
  {
   "cell_type": "code",
   "execution_count": 9,
   "id": "e274d12e",
   "metadata": {
    "ExecuteTime": {
     "end_time": "2023-10-23T20:02:43.640756Z",
     "start_time": "2023-10-23T20:02:43.607561Z"
    }
   },
   "outputs": [
    {
     "name": "stdout",
     "output_type": "stream",
     "text": [
      "Coef. \t Feature Name\n",
      "-----------------------\n",
      "-0.341 \t flavanoids\n",
      "-0.207 \t proline\n",
      "-0.135 \t od280/od315_of_diluted_wines\n",
      "0.103 \t color_intensity\n",
      "0.099 \t alcalinity_of_ash\n",
      "-0.054 \t hue\n",
      "-0.027 \t alcohol\n",
      "0.002 \t malic_acid\n",
      "-0.000 \t ash\n",
      "-0.000 \t magnesium\n",
      "0.000 \t total_phenols\n",
      "-0.000 \t nonflavanoid_phenols\n",
      "0.000 \t proanthocyanins\n"
     ]
    }
   ],
   "source": [
    "# The coefficients non-zero values have been removed from the model\n",
    "print('Coef. \\t Feature Name\\n-----------------------')\n",
    "for feature, coef_ in sorted(zip(X.columns, model.coef_), key=lambda x:np.abs(x[1]), reverse=True):\n",
    "    print('{} \\t {}'.format('%.3f'%coef_, feature))"
   ]
  },
  {
   "cell_type": "code",
   "execution_count": 10,
   "id": "f77c401d",
   "metadata": {
    "ExecuteTime": {
     "end_time": "2023-10-23T20:02:45.384852Z",
     "start_time": "2023-10-23T20:02:45.347806Z"
    }
   },
   "outputs": [
    {
     "data": {
      "text/plain": [
       "Index(['alcohol', 'malic_acid', 'alcalinity_of_ash', 'flavanoids',\n",
       "       'color_intensity', 'hue', 'od280/od315_of_diluted_wines', 'proline'],\n",
       "      dtype='object')"
      ]
     },
     "execution_count": 10,
     "metadata": {},
     "output_type": "execute_result"
    }
   ],
   "source": [
    "X.columns[np.abs(model.coef_) > 0]"
   ]
  },
  {
   "cell_type": "code",
   "execution_count": 11,
   "id": "427aa312",
   "metadata": {
    "ExecuteTime": {
     "end_time": "2023-10-23T20:02:46.078412Z",
     "start_time": "2023-10-23T20:02:46.043386Z"
    }
   },
   "outputs": [
    {
     "name": "stdout",
     "output_type": "stream",
     "text": [
      "Manual calculation : 0.3733523566907989\n",
      "Model prediction : 0.3733523566907989\n"
     ]
    }
   ],
   "source": [
    "# We can predict a point by using these coefficients\n",
    "x_sample = X_train[0]\n",
    "\n",
    "print(\"Manual calculation : {}\\nModel prediction : {}\".format(\n",
    "    model.intercept_ + np.dot(x_sample, model.coef_),\n",
    "    model.predict([x_sample])[0]\n",
    "))\n"
   ]
  },
  {
   "cell_type": "code",
   "execution_count": 12,
   "id": "c1aa2227",
   "metadata": {
    "ExecuteTime": {
     "end_time": "2023-10-23T20:02:47.340640Z",
     "start_time": "2023-10-23T20:02:47.304721Z"
    }
   },
   "outputs": [
    {
     "name": "stdout",
     "output_type": "stream",
     "text": [
      "Train set accuracy = 95.8%\n",
      "Test set accuracy = 86.1%\n"
     ]
    }
   ],
   "source": [
    "print(\"Train set accuracy = {}%\\nTest set accuracy = {}%\".format(\n",
    "    '%.1f'%(100*np.sum(\n",
    "        np.abs(np.round(model.predict(X_train))) == y_train\n",
    "    ) / X_train.shape[0]),\n",
    "    '%.1f'%(100*np.sum(\n",
    "        np.abs(np.round(model.predict(X_test))) == y_test\n",
    "    ) / X_test.shape[0])\n",
    "))"
   ]
  },
  {
   "cell_type": "markdown",
   "id": "d4872d07",
   "metadata": {},
   "source": [
    "Sequential Feature Selection\n",
    "---"
   ]
  },
  {
   "cell_type": "markdown",
   "id": "71dfe943",
   "metadata": {},
   "source": [
    "[Sequential feature selection](https://scikit-learn.org/stable/modules/generated/sklearn.feature_selection.SequentialFeatureSelector.html#sklearn.feature_selection.SequentialFeatureSelector) adds or removes features 1 at a time (\"greedy\" method) and stops after some criteria has been met.  Below, we specify that the addition or removal must incrementally improve (forward) the model's score by a certain tolerance, or not decrement the model's score by a certain threshold (backward) when a feature is added or removed, respectively.  The specific feature that is added or removed is determined by cross-validation.\n",
    "\n",
    "In general, forward and backward methods do NOT yield the same result.  Generally, forward selection leads to a smaller subset of features than backward selection, since the former starts from one feature while the latter starts from all features being present.\n",
    "\n",
    "Let's build a DD-SIMCA authenticator using SFS to determine which features to use.\n"
   ]
  },
  {
   "cell_type": "code",
   "execution_count": 13,
   "id": "c66c80a4",
   "metadata": {
    "ExecuteTime": {
     "end_time": "2023-10-23T20:02:50.145467Z",
     "start_time": "2023-10-23T20:02:49.553230Z"
    }
   },
   "outputs": [],
   "source": [
    "from sklearn.feature_selection import SequentialFeatureSelector\n",
    "from pychemauth.classifier.simca import SIMCA_Authenticator"
   ]
  },
  {
   "cell_type": "code",
   "execution_count": 14,
   "id": "4d3ecb90",
   "metadata": {
    "ExecuteTime": {
     "end_time": "2023-10-23T20:02:51.030703Z",
     "start_time": "2023-10-23T20:02:50.993129Z"
    }
   },
   "outputs": [],
   "source": [
    "compliant = SIMCA_Authenticator(\n",
    "    n_components=1,\n",
    "    alpha=0.05,\n",
    "    gamma=0.01,\n",
    "    scale_x=True,\n",
    "    style='dd-simca',\n",
    "    robust=\"semi\",\n",
    "    sft=False,\n",
    "    target_class=1, # Let's model class 1\n",
    "    use='compliant' # Using a compliant approach will use the other classes provided at training time\n",
    ")"
   ]
  },
  {
   "cell_type": "markdown",
   "id": "3a04f116",
   "metadata": {
    "ExecuteTime": {
     "end_time": "2023-09-05T19:30:49.514140Z",
     "start_time": "2023-09-05T19:30:49.495652Z"
    }
   },
   "source": [
    "Importantly, `tol` is an incremental amount and it does not reflect the total change in performance relative to the starting point.\n"
   ]
  },
  {
   "cell_type": "code",
   "execution_count": 15,
   "id": "9d3d89fe",
   "metadata": {
    "ExecuteTime": {
     "end_time": "2023-10-23T20:02:52.001611Z",
     "start_time": "2023-10-23T20:02:51.963283Z"
    }
   },
   "outputs": [],
   "source": [
    "# Let's start by going backward from all features present, removing ones that don't drop model performance too much\n",
    "sfs_backward = SequentialFeatureSelector(\n",
    "    compliant, \n",
    "    n_features_to_select='auto', \n",
    "    tol=-0.01, # Keep removing until the score falls by this much after 1 round of removal\n",
    "    direction='backward', \n",
    "    scoring=None, # Use estimator's score method by default - for a compliant DD-SIMCA authenticator, this is TEFF\n",
    "    cv=sklearn.model_selection.KFold(n_splits=5, random_state=0, shuffle=True), \n",
    "    n_jobs=None\n",
    ")"
   ]
  },
  {
   "cell_type": "code",
   "execution_count": 16,
   "id": "9a6bb96f",
   "metadata": {
    "ExecuteTime": {
     "end_time": "2023-10-23T20:03:11.925661Z",
     "start_time": "2023-10-23T20:02:52.546693Z"
    }
   },
   "outputs": [
    {
     "data": {
      "text/html": [
       "<style>#sk-container-id-1 {color: black;}#sk-container-id-1 pre{padding: 0;}#sk-container-id-1 div.sk-toggleable {background-color: white;}#sk-container-id-1 label.sk-toggleable__label {cursor: pointer;display: block;width: 100%;margin-bottom: 0;padding: 0.3em;box-sizing: border-box;text-align: center;}#sk-container-id-1 label.sk-toggleable__label-arrow:before {content: \"▸\";float: left;margin-right: 0.25em;color: #696969;}#sk-container-id-1 label.sk-toggleable__label-arrow:hover:before {color: black;}#sk-container-id-1 div.sk-estimator:hover label.sk-toggleable__label-arrow:before {color: black;}#sk-container-id-1 div.sk-toggleable__content {max-height: 0;max-width: 0;overflow: hidden;text-align: left;background-color: #f0f8ff;}#sk-container-id-1 div.sk-toggleable__content pre {margin: 0.2em;color: black;border-radius: 0.25em;background-color: #f0f8ff;}#sk-container-id-1 input.sk-toggleable__control:checked~div.sk-toggleable__content {max-height: 200px;max-width: 100%;overflow: auto;}#sk-container-id-1 input.sk-toggleable__control:checked~label.sk-toggleable__label-arrow:before {content: \"▾\";}#sk-container-id-1 div.sk-estimator input.sk-toggleable__control:checked~label.sk-toggleable__label {background-color: #d4ebff;}#sk-container-id-1 div.sk-label input.sk-toggleable__control:checked~label.sk-toggleable__label {background-color: #d4ebff;}#sk-container-id-1 input.sk-hidden--visually {border: 0;clip: rect(1px 1px 1px 1px);clip: rect(1px, 1px, 1px, 1px);height: 1px;margin: -1px;overflow: hidden;padding: 0;position: absolute;width: 1px;}#sk-container-id-1 div.sk-estimator {font-family: monospace;background-color: #f0f8ff;border: 1px dotted black;border-radius: 0.25em;box-sizing: border-box;margin-bottom: 0.5em;}#sk-container-id-1 div.sk-estimator:hover {background-color: #d4ebff;}#sk-container-id-1 div.sk-parallel-item::after {content: \"\";width: 100%;border-bottom: 1px solid gray;flex-grow: 1;}#sk-container-id-1 div.sk-label:hover label.sk-toggleable__label {background-color: #d4ebff;}#sk-container-id-1 div.sk-serial::before {content: \"\";position: absolute;border-left: 1px solid gray;box-sizing: border-box;top: 0;bottom: 0;left: 50%;z-index: 0;}#sk-container-id-1 div.sk-serial {display: flex;flex-direction: column;align-items: center;background-color: white;padding-right: 0.2em;padding-left: 0.2em;position: relative;}#sk-container-id-1 div.sk-item {position: relative;z-index: 1;}#sk-container-id-1 div.sk-parallel {display: flex;align-items: stretch;justify-content: center;background-color: white;position: relative;}#sk-container-id-1 div.sk-item::before, #sk-container-id-1 div.sk-parallel-item::before {content: \"\";position: absolute;border-left: 1px solid gray;box-sizing: border-box;top: 0;bottom: 0;left: 50%;z-index: -1;}#sk-container-id-1 div.sk-parallel-item {display: flex;flex-direction: column;z-index: 1;position: relative;background-color: white;}#sk-container-id-1 div.sk-parallel-item:first-child::after {align-self: flex-end;width: 50%;}#sk-container-id-1 div.sk-parallel-item:last-child::after {align-self: flex-start;width: 50%;}#sk-container-id-1 div.sk-parallel-item:only-child::after {width: 0;}#sk-container-id-1 div.sk-dashed-wrapped {border: 1px dashed gray;margin: 0 0.4em 0.5em 0.4em;box-sizing: border-box;padding-bottom: 0.4em;background-color: white;}#sk-container-id-1 div.sk-label label {font-family: monospace;font-weight: bold;display: inline-block;line-height: 1.2em;}#sk-container-id-1 div.sk-label-container {text-align: center;}#sk-container-id-1 div.sk-container {/* jupyter's `normalize.less` sets `[hidden] { display: none; }` but bootstrap.min.css set `[hidden] { display: none !important; }` so we also need the `!important` here to be able to override the default hidden behavior on the sphinx rendered scikit-learn.org. See: https://github.com/scikit-learn/scikit-learn/issues/21755 */display: inline-block !important;position: relative;}#sk-container-id-1 div.sk-text-repr-fallback {display: none;}</style><div id=\"sk-container-id-1\" class=\"sk-top-container\"><div class=\"sk-text-repr-fallback\"><pre>SequentialFeatureSelector(cv=KFold(n_splits=5, random_state=0, shuffle=True),\n",
       "                          direction=&#x27;backward&#x27;,\n",
       "                          estimator=SIMCA_Authenticator(target_class=1,\n",
       "                                                        use=&#x27;compliant&#x27;),\n",
       "                          tol=-0.01)</pre><b>In a Jupyter environment, please rerun this cell to show the HTML representation or trust the notebook. <br />On GitHub, the HTML representation is unable to render, please try loading this page with nbviewer.org.</b></div><div class=\"sk-container\" hidden><div class=\"sk-item sk-dashed-wrapped\"><div class=\"sk-label-container\"><div class=\"sk-label sk-toggleable\"><input class=\"sk-toggleable__control sk-hidden--visually\" id=\"sk-estimator-id-1\" type=\"checkbox\" ><label for=\"sk-estimator-id-1\" class=\"sk-toggleable__label sk-toggleable__label-arrow\">SequentialFeatureSelector</label><div class=\"sk-toggleable__content\"><pre>SequentialFeatureSelector(cv=KFold(n_splits=5, random_state=0, shuffle=True),\n",
       "                          direction=&#x27;backward&#x27;,\n",
       "                          estimator=SIMCA_Authenticator(target_class=1,\n",
       "                                                        use=&#x27;compliant&#x27;),\n",
       "                          tol=-0.01)</pre></div></div></div><div class=\"sk-parallel\"><div class=\"sk-parallel-item\"><div class=\"sk-item\"><div class=\"sk-label-container\"><div class=\"sk-label sk-toggleable\"><input class=\"sk-toggleable__control sk-hidden--visually\" id=\"sk-estimator-id-2\" type=\"checkbox\" ><label for=\"sk-estimator-id-2\" class=\"sk-toggleable__label sk-toggleable__label-arrow\">estimator: SIMCA_Authenticator</label><div class=\"sk-toggleable__content\"><pre>SIMCA_Authenticator(target_class=1, use=&#x27;compliant&#x27;)</pre></div></div></div><div class=\"sk-serial\"><div class=\"sk-item\"><div class=\"sk-estimator sk-toggleable\"><input class=\"sk-toggleable__control sk-hidden--visually\" id=\"sk-estimator-id-3\" type=\"checkbox\" ><label for=\"sk-estimator-id-3\" class=\"sk-toggleable__label sk-toggleable__label-arrow\">SIMCA_Authenticator</label><div class=\"sk-toggleable__content\"><pre>SIMCA_Authenticator(target_class=1, use=&#x27;compliant&#x27;)</pre></div></div></div></div></div></div></div></div></div></div>"
      ],
      "text/plain": [
       "SequentialFeatureSelector(cv=KFold(n_splits=5, random_state=0, shuffle=True),\n",
       "                          direction='backward',\n",
       "                          estimator=SIMCA_Authenticator(target_class=1,\n",
       "                                                        use='compliant'),\n",
       "                          tol=-0.01)"
      ]
     },
     "execution_count": 16,
     "metadata": {},
     "output_type": "execute_result"
    }
   ],
   "source": [
    "sfs_backward.fit(X_train, y_train)"
   ]
  },
  {
   "cell_type": "code",
   "execution_count": 17,
   "id": "5ae45a4f",
   "metadata": {
    "ExecuteTime": {
     "end_time": "2023-10-23T20:03:31.875815Z",
     "start_time": "2023-10-23T20:03:31.832869Z"
    }
   },
   "outputs": [
    {
     "data": {
      "text/plain": [
       "array(['ash', 'flavanoids', 'color_intensity',\n",
       "       'od280/od315_of_diluted_wines', 'proline'], dtype=object)"
      ]
     },
     "execution_count": 17,
     "metadata": {},
     "output_type": "execute_result"
    }
   ],
   "source": [
    "# Which features have been kept?\n",
    "sfs_backward.get_feature_names_out(X.columns)"
   ]
  },
  {
   "cell_type": "code",
   "execution_count": 18,
   "id": "9f81fdec",
   "metadata": {
    "ExecuteTime": {
     "end_time": "2023-10-23T20:03:33.768250Z",
     "start_time": "2023-10-23T20:03:33.728079Z"
    }
   },
   "outputs": [
    {
     "data": {
      "text/plain": [
       "Index(['alcohol', 'malic_acid', 'alcalinity_of_ash', 'magnesium',\n",
       "       'total_phenols', 'nonflavanoid_phenols', 'proanthocyanins', 'hue'],\n",
       "      dtype='object')"
      ]
     },
     "execution_count": 18,
     "metadata": {},
     "output_type": "execute_result"
    }
   ],
   "source": [
    "# Which features were removed?\n",
    "X.columns[~sfs_backward.support_]"
   ]
  },
  {
   "cell_type": "code",
   "execution_count": 19,
   "id": "e14610a9",
   "metadata": {
    "ExecuteTime": {
     "end_time": "2023-10-23T20:03:34.865221Z",
     "start_time": "2023-10-23T20:03:34.825170Z"
    }
   },
   "outputs": [
    {
     "data": {
      "text/plain": [
       "array([[ 1.77040124,  0.72970907, -0.16687654,  0.2520161 ,  0.46607491],\n",
       "       [ 1.24875345,  1.32847887,  0.30422622,  0.15051529,  1.80936289],\n",
       "       [ 0.95066899,  1.00283214, -0.08122149,  0.89002121,  1.51085445],\n",
       "       [ 0.1681973 ,  0.81374694,  0.2613987 ,  0.42601749,  1.9254495 ],\n",
       "       [ 0.05641563, -1.2871997 ,  1.46913485, -1.42999736, -0.29677999]])"
      ]
     },
     "execution_count": 19,
     "metadata": {},
     "output_type": "execute_result"
    }
   ],
   "source": [
    "# The SFS behaves as an sklearn estimator and implements a transform() which selects the relevant columns of X\n",
    "sfs_backward.transform(X_train)[:5]"
   ]
  },
  {
   "cell_type": "code",
   "execution_count": 20,
   "id": "af452d62",
   "metadata": {
    "ExecuteTime": {
     "end_time": "2023-10-23T20:03:36.060870Z",
     "start_time": "2023-10-23T20:03:36.022739Z"
    }
   },
   "outputs": [],
   "source": [
    "# Let's compare this to a forward selection scheme, where we start from 0 features and add until we stop improving\n",
    "sfs_forward = SequentialFeatureSelector(\n",
    "    compliant, \n",
    "    n_features_to_select='auto', \n",
    "    tol=0.01, \n",
    "    direction='forward', \n",
    "    scoring=None, # Use estimator's score method by default - for a compliant DD-SIMCA authenticator, this is TEFF\n",
    "    cv=sklearn.model_selection.KFold(n_splits=5, random_state=0, shuffle=True), \n",
    "    n_jobs=None\n",
    ")"
   ]
  },
  {
   "cell_type": "code",
   "execution_count": 21,
   "id": "b972c734",
   "metadata": {
    "ExecuteTime": {
     "end_time": "2023-10-23T20:03:48.964597Z",
     "start_time": "2023-10-23T20:03:37.572751Z"
    }
   },
   "outputs": [
    {
     "data": {
      "text/html": [
       "<style>#sk-container-id-2 {color: black;}#sk-container-id-2 pre{padding: 0;}#sk-container-id-2 div.sk-toggleable {background-color: white;}#sk-container-id-2 label.sk-toggleable__label {cursor: pointer;display: block;width: 100%;margin-bottom: 0;padding: 0.3em;box-sizing: border-box;text-align: center;}#sk-container-id-2 label.sk-toggleable__label-arrow:before {content: \"▸\";float: left;margin-right: 0.25em;color: #696969;}#sk-container-id-2 label.sk-toggleable__label-arrow:hover:before {color: black;}#sk-container-id-2 div.sk-estimator:hover label.sk-toggleable__label-arrow:before {color: black;}#sk-container-id-2 div.sk-toggleable__content {max-height: 0;max-width: 0;overflow: hidden;text-align: left;background-color: #f0f8ff;}#sk-container-id-2 div.sk-toggleable__content pre {margin: 0.2em;color: black;border-radius: 0.25em;background-color: #f0f8ff;}#sk-container-id-2 input.sk-toggleable__control:checked~div.sk-toggleable__content {max-height: 200px;max-width: 100%;overflow: auto;}#sk-container-id-2 input.sk-toggleable__control:checked~label.sk-toggleable__label-arrow:before {content: \"▾\";}#sk-container-id-2 div.sk-estimator input.sk-toggleable__control:checked~label.sk-toggleable__label {background-color: #d4ebff;}#sk-container-id-2 div.sk-label input.sk-toggleable__control:checked~label.sk-toggleable__label {background-color: #d4ebff;}#sk-container-id-2 input.sk-hidden--visually {border: 0;clip: rect(1px 1px 1px 1px);clip: rect(1px, 1px, 1px, 1px);height: 1px;margin: -1px;overflow: hidden;padding: 0;position: absolute;width: 1px;}#sk-container-id-2 div.sk-estimator {font-family: monospace;background-color: #f0f8ff;border: 1px dotted black;border-radius: 0.25em;box-sizing: border-box;margin-bottom: 0.5em;}#sk-container-id-2 div.sk-estimator:hover {background-color: #d4ebff;}#sk-container-id-2 div.sk-parallel-item::after {content: \"\";width: 100%;border-bottom: 1px solid gray;flex-grow: 1;}#sk-container-id-2 div.sk-label:hover label.sk-toggleable__label {background-color: #d4ebff;}#sk-container-id-2 div.sk-serial::before {content: \"\";position: absolute;border-left: 1px solid gray;box-sizing: border-box;top: 0;bottom: 0;left: 50%;z-index: 0;}#sk-container-id-2 div.sk-serial {display: flex;flex-direction: column;align-items: center;background-color: white;padding-right: 0.2em;padding-left: 0.2em;position: relative;}#sk-container-id-2 div.sk-item {position: relative;z-index: 1;}#sk-container-id-2 div.sk-parallel {display: flex;align-items: stretch;justify-content: center;background-color: white;position: relative;}#sk-container-id-2 div.sk-item::before, #sk-container-id-2 div.sk-parallel-item::before {content: \"\";position: absolute;border-left: 1px solid gray;box-sizing: border-box;top: 0;bottom: 0;left: 50%;z-index: -1;}#sk-container-id-2 div.sk-parallel-item {display: flex;flex-direction: column;z-index: 1;position: relative;background-color: white;}#sk-container-id-2 div.sk-parallel-item:first-child::after {align-self: flex-end;width: 50%;}#sk-container-id-2 div.sk-parallel-item:last-child::after {align-self: flex-start;width: 50%;}#sk-container-id-2 div.sk-parallel-item:only-child::after {width: 0;}#sk-container-id-2 div.sk-dashed-wrapped {border: 1px dashed gray;margin: 0 0.4em 0.5em 0.4em;box-sizing: border-box;padding-bottom: 0.4em;background-color: white;}#sk-container-id-2 div.sk-label label {font-family: monospace;font-weight: bold;display: inline-block;line-height: 1.2em;}#sk-container-id-2 div.sk-label-container {text-align: center;}#sk-container-id-2 div.sk-container {/* jupyter's `normalize.less` sets `[hidden] { display: none; }` but bootstrap.min.css set `[hidden] { display: none !important; }` so we also need the `!important` here to be able to override the default hidden behavior on the sphinx rendered scikit-learn.org. See: https://github.com/scikit-learn/scikit-learn/issues/21755 */display: inline-block !important;position: relative;}#sk-container-id-2 div.sk-text-repr-fallback {display: none;}</style><div id=\"sk-container-id-2\" class=\"sk-top-container\"><div class=\"sk-text-repr-fallback\"><pre>SequentialFeatureSelector(cv=KFold(n_splits=5, random_state=0, shuffle=True),\n",
       "                          estimator=SIMCA_Authenticator(target_class=1,\n",
       "                                                        use=&#x27;compliant&#x27;),\n",
       "                          tol=0.01)</pre><b>In a Jupyter environment, please rerun this cell to show the HTML representation or trust the notebook. <br />On GitHub, the HTML representation is unable to render, please try loading this page with nbviewer.org.</b></div><div class=\"sk-container\" hidden><div class=\"sk-item sk-dashed-wrapped\"><div class=\"sk-label-container\"><div class=\"sk-label sk-toggleable\"><input class=\"sk-toggleable__control sk-hidden--visually\" id=\"sk-estimator-id-4\" type=\"checkbox\" ><label for=\"sk-estimator-id-4\" class=\"sk-toggleable__label sk-toggleable__label-arrow\">SequentialFeatureSelector</label><div class=\"sk-toggleable__content\"><pre>SequentialFeatureSelector(cv=KFold(n_splits=5, random_state=0, shuffle=True),\n",
       "                          estimator=SIMCA_Authenticator(target_class=1,\n",
       "                                                        use=&#x27;compliant&#x27;),\n",
       "                          tol=0.01)</pre></div></div></div><div class=\"sk-parallel\"><div class=\"sk-parallel-item\"><div class=\"sk-item\"><div class=\"sk-label-container\"><div class=\"sk-label sk-toggleable\"><input class=\"sk-toggleable__control sk-hidden--visually\" id=\"sk-estimator-id-5\" type=\"checkbox\" ><label for=\"sk-estimator-id-5\" class=\"sk-toggleable__label sk-toggleable__label-arrow\">estimator: SIMCA_Authenticator</label><div class=\"sk-toggleable__content\"><pre>SIMCA_Authenticator(target_class=1, use=&#x27;compliant&#x27;)</pre></div></div></div><div class=\"sk-serial\"><div class=\"sk-item\"><div class=\"sk-estimator sk-toggleable\"><input class=\"sk-toggleable__control sk-hidden--visually\" id=\"sk-estimator-id-6\" type=\"checkbox\" ><label for=\"sk-estimator-id-6\" class=\"sk-toggleable__label sk-toggleable__label-arrow\">SIMCA_Authenticator</label><div class=\"sk-toggleable__content\"><pre>SIMCA_Authenticator(target_class=1, use=&#x27;compliant&#x27;)</pre></div></div></div></div></div></div></div></div></div></div>"
      ],
      "text/plain": [
       "SequentialFeatureSelector(cv=KFold(n_splits=5, random_state=0, shuffle=True),\n",
       "                          estimator=SIMCA_Authenticator(target_class=1,\n",
       "                                                        use='compliant'),\n",
       "                          tol=0.01)"
      ]
     },
     "execution_count": 21,
     "metadata": {},
     "output_type": "execute_result"
    }
   ],
   "source": [
    "# Since we start from 1 feature there are a number of warnings related to the fact that we don't have enough features to \n",
    "# fit the PCA (we set the SIMCA model to have 1 component above) - this is ok, we can ignore these warnings.\n",
    "warnings.simplefilter(\"ignore\")\n",
    "\n",
    "sfs_forward.fit(X_train, y_train)"
   ]
  },
  {
   "cell_type": "code",
   "execution_count": 22,
   "id": "e075dfce",
   "metadata": {
    "ExecuteTime": {
     "end_time": "2023-10-23T20:03:48.991184Z",
     "start_time": "2023-10-23T20:03:48.967298Z"
    }
   },
   "outputs": [
    {
     "data": {
      "text/plain": [
       "array(['alcohol', 'flavanoids', 'color_intensity',\n",
       "       'od280/od315_of_diluted_wines'], dtype=object)"
      ]
     },
     "execution_count": 22,
     "metadata": {},
     "output_type": "execute_result"
    }
   ],
   "source": [
    "sfs_forward.get_feature_names_out(X.columns)"
   ]
  },
  {
   "cell_type": "code",
   "execution_count": 23,
   "id": "d925e33a",
   "metadata": {
    "ExecuteTime": {
     "end_time": "2023-10-23T20:03:55.893623Z",
     "start_time": "2023-10-23T20:03:55.863848Z"
    }
   },
   "outputs": [
    {
     "data": {
      "text/plain": [
       "array([[ 0.38444004,  0.72970907, -0.16687654,  0.2520161 ],\n",
       "       [ 0.94517316,  1.32847887,  0.30422622,  0.15051529],\n",
       "       [ 0.52150813,  1.00283214, -0.08122149,  0.89002121],\n",
       "       [ 0.97009463,  0.81374694,  0.2613987 ,  0.42601749],\n",
       "       [ 0.43428298, -1.2871997 ,  1.46913485, -1.42999736]])"
      ]
     },
     "execution_count": 23,
     "metadata": {},
     "output_type": "execute_result"
    }
   ],
   "source": [
    "sfs_forward.transform(X_train)[:5]"
   ]
  },
  {
   "cell_type": "markdown",
   "id": "f0024382",
   "metadata": {},
   "source": [
    "Using Heirarchical Clustering\n",
    "---"
   ]
  },
  {
   "cell_type": "code",
   "execution_count": 24,
   "id": "d8b5b847",
   "metadata": {
    "ExecuteTime": {
     "end_time": "2023-10-23T20:03:58.254970Z",
     "start_time": "2023-10-23T20:03:58.066318Z"
    }
   },
   "outputs": [],
   "source": [
    "from pychemauth.eda.explore import InspectData"
   ]
  },
  {
   "cell_type": "code",
   "execution_count": 25,
   "id": "b7205007",
   "metadata": {
    "ExecuteTime": {
     "end_time": "2023-10-23T20:03:59.609776Z",
     "start_time": "2023-10-23T20:03:59.017694Z"
    }
   },
   "outputs": [
    {
     "data": {
      "image/png": "[encoded data removed]",
      "text/plain": [
       "<Figure size 1200x600 with 2 Axes>"
      ]
     },
     "metadata": {},
     "output_type": "display_data"
    }
   ],
   "source": [
    "# Recall that we can use heirarchical clustering to find correlations in the X columns.  This allows us to see which\n",
    "# features might actually be redundant.  We can then simply choose a single feature from each cluster to put in the model\n",
    "# and then compare models with a different number of clusters or selections.\n",
    "\n",
    "# Observe that proanthocyanins - flavanoids are highly correlated.\n",
    "selected_features, cluster_id_to_feature_ids, _ = InspectData.cluster_collinear(\n",
    "    X=X_train,\n",
    "    feature_names=X.columns,\n",
    "    t=0.9,\n",
    "    figsize=(12,6),\n",
    "    display=True # We can change this to False so we don't have these plots \n",
    ")"
   ]
  },
  {
   "cell_type": "markdown",
   "id": "857abb62",
   "metadata": {},
   "source": [
    "We can use this approach to select 1 feature from each cluster; the way clusters are created can be tuned during hyperparameter optimization.\n"
   ]
  },
  {
   "cell_type": "code",
   "execution_count": 26,
   "id": "5a139088",
   "metadata": {
    "ExecuteTime": {
     "end_time": "2023-10-23T20:04:01.918763Z",
     "start_time": "2023-10-23T20:04:01.869414Z"
    }
   },
   "outputs": [],
   "source": [
    "from sklearn.feature_selection import SelectFromModel\n",
    "from pychemauth.preprocessing.feature_selection import CollinearFeatureSelector\n",
    "\n",
    "def lookup(feature_idx, column_names=X.columns):\n",
    "    if 'l' in column_names[feature_idx].lower():\n",
    "        return 'Feature contains the letter L'\n",
    "    else:\n",
    "        return 'Feature does not contain the letter L'\n",
    "    \n",
    "selector = SelectFromModel(\n",
    "    estimator=CollinearFeatureSelector(\n",
    "        t=0.9, \n",
    "        seed=42, \n",
    "        minimize_label_entropy=True, \n",
    "        kwargs={\"lookup\":lookup, \"n_restarts\":5, \"max_iters\":100, \"T\":1.0}\n",
    "    ),\n",
    "    threshold=0.5, # 0's are given to features ignored, 1 if they are kept so set the threshold in between\n",
    "    prefit=False,\n",
    ")"
   ]
  },
  {
   "cell_type": "code",
   "execution_count": 27,
   "id": "f637a58d",
   "metadata": {
    "ExecuteTime": {
     "end_time": "2023-10-23T20:04:02.486931Z",
     "start_time": "2023-10-23T20:04:02.387763Z"
    }
   },
   "outputs": [
    {
     "name": "stderr",
     "output_type": "stream",
     "text": [
      "Restarts:   0%|                                                                                   | 0/5 [00:00<?, ?it/s]\n",
      "MC Steps: 100%|█████████████████████████████████████████████████████████████████████| 100/100 [00:00<00:00, 9796.80it/s]\u001b[A\n",
      "\n",
      "MC Steps: 100%|████████████████████████████████████████████████████████████████████| 100/100 [00:00<00:00, 10551.44it/s]\u001b[A\n",
      "\n",
      "MC Steps: 100%|████████████████████████████████████████████████████████████████████| 100/100 [00:00<00:00, 10832.40it/s]\u001b[A\n",
      "\n",
      "MC Steps: 100%|████████████████████████████████████████████████████████████████████| 100/100 [00:00<00:00, 11064.14it/s]\u001b[A\n",
      "\n",
      "MC Steps: 100%|████████████████████████████████████████████████████████████████████| 100/100 [00:00<00:00, 10454.66it/s]\u001b[A\n",
      "Restarts: 100%|███████████████████████████████████████████████████████████████████████████| 5/5 [00:00<00:00, 76.10it/s]\n"
     ]
    },
    {
     "data": {
      "text/html": [
       "<style>#sk-container-id-3 {color: black;}#sk-container-id-3 pre{padding: 0;}#sk-container-id-3 div.sk-toggleable {background-color: white;}#sk-container-id-3 label.sk-toggleable__label {cursor: pointer;display: block;width: 100%;margin-bottom: 0;padding: 0.3em;box-sizing: border-box;text-align: center;}#sk-container-id-3 label.sk-toggleable__label-arrow:before {content: \"▸\";float: left;margin-right: 0.25em;color: #696969;}#sk-container-id-3 label.sk-toggleable__label-arrow:hover:before {color: black;}#sk-container-id-3 div.sk-estimator:hover label.sk-toggleable__label-arrow:before {color: black;}#sk-container-id-3 div.sk-toggleable__content {max-height: 0;max-width: 0;overflow: hidden;text-align: left;background-color: #f0f8ff;}#sk-container-id-3 div.sk-toggleable__content pre {margin: 0.2em;color: black;border-radius: 0.25em;background-color: #f0f8ff;}#sk-container-id-3 input.sk-toggleable__control:checked~div.sk-toggleable__content {max-height: 200px;max-width: 100%;overflow: auto;}#sk-container-id-3 input.sk-toggleable__control:checked~label.sk-toggleable__label-arrow:before {content: \"▾\";}#sk-container-id-3 div.sk-estimator input.sk-toggleable__control:checked~label.sk-toggleable__label {background-color: #d4ebff;}#sk-container-id-3 div.sk-label input.sk-toggleable__control:checked~label.sk-toggleable__label {background-color: #d4ebff;}#sk-container-id-3 input.sk-hidden--visually {border: 0;clip: rect(1px 1px 1px 1px);clip: rect(1px, 1px, 1px, 1px);height: 1px;margin: -1px;overflow: hidden;padding: 0;position: absolute;width: 1px;}#sk-container-id-3 div.sk-estimator {font-family: monospace;background-color: #f0f8ff;border: 1px dotted black;border-radius: 0.25em;box-sizing: border-box;margin-bottom: 0.5em;}#sk-container-id-3 div.sk-estimator:hover {background-color: #d4ebff;}#sk-container-id-3 div.sk-parallel-item::after {content: \"\";width: 100%;border-bottom: 1px solid gray;flex-grow: 1;}#sk-container-id-3 div.sk-label:hover label.sk-toggleable__label {background-color: #d4ebff;}#sk-container-id-3 div.sk-serial::before {content: \"\";position: absolute;border-left: 1px solid gray;box-sizing: border-box;top: 0;bottom: 0;left: 50%;z-index: 0;}#sk-container-id-3 div.sk-serial {display: flex;flex-direction: column;align-items: center;background-color: white;padding-right: 0.2em;padding-left: 0.2em;position: relative;}#sk-container-id-3 div.sk-item {position: relative;z-index: 1;}#sk-container-id-3 div.sk-parallel {display: flex;align-items: stretch;justify-content: center;background-color: white;position: relative;}#sk-container-id-3 div.sk-item::before, #sk-container-id-3 div.sk-parallel-item::before {content: \"\";position: absolute;border-left: 1px solid gray;box-sizing: border-box;top: 0;bottom: 0;left: 50%;z-index: -1;}#sk-container-id-3 div.sk-parallel-item {display: flex;flex-direction: column;z-index: 1;position: relative;background-color: white;}#sk-container-id-3 div.sk-parallel-item:first-child::after {align-self: flex-end;width: 50%;}#sk-container-id-3 div.sk-parallel-item:last-child::after {align-self: flex-start;width: 50%;}#sk-container-id-3 div.sk-parallel-item:only-child::after {width: 0;}#sk-container-id-3 div.sk-dashed-wrapped {border: 1px dashed gray;margin: 0 0.4em 0.5em 0.4em;box-sizing: border-box;padding-bottom: 0.4em;background-color: white;}#sk-container-id-3 div.sk-label label {font-family: monospace;font-weight: bold;display: inline-block;line-height: 1.2em;}#sk-container-id-3 div.sk-label-container {text-align: center;}#sk-container-id-3 div.sk-container {/* jupyter's `normalize.less` sets `[hidden] { display: none; }` but bootstrap.min.css set `[hidden] { display: none !important; }` so we also need the `!important` here to be able to override the default hidden behavior on the sphinx rendered scikit-learn.org. See: https://github.com/scikit-learn/scikit-learn/issues/21755 */display: inline-block !important;position: relative;}#sk-container-id-3 div.sk-text-repr-fallback {display: none;}</style><div id=\"sk-container-id-3\" class=\"sk-top-container\"><div class=\"sk-text-repr-fallback\"><pre>SelectFromModel(estimator=CollinearFeatureSelector(kwargs={&#x27;T&#x27;: 1.0,\n",
       "                                                           &#x27;lookup&#x27;: &lt;function lookup at 0x7f987de92340&gt;,\n",
       "                                                           &#x27;max_iters&#x27;: 100,\n",
       "                                                           &#x27;n_restarts&#x27;: 5},\n",
       "                                                   minimize_label_entropy=True,\n",
       "                                                   t=0.9),\n",
       "                threshold=0.5)</pre><b>In a Jupyter environment, please rerun this cell to show the HTML representation or trust the notebook. <br />On GitHub, the HTML representation is unable to render, please try loading this page with nbviewer.org.</b></div><div class=\"sk-container\" hidden><div class=\"sk-item sk-dashed-wrapped\"><div class=\"sk-label-container\"><div class=\"sk-label sk-toggleable\"><input class=\"sk-toggleable__control sk-hidden--visually\" id=\"sk-estimator-id-7\" type=\"checkbox\" ><label for=\"sk-estimator-id-7\" class=\"sk-toggleable__label sk-toggleable__label-arrow\">SelectFromModel</label><div class=\"sk-toggleable__content\"><pre>SelectFromModel(estimator=CollinearFeatureSelector(kwargs={&#x27;T&#x27;: 1.0,\n",
       "                                                           &#x27;lookup&#x27;: &lt;function lookup at 0x7f987de92340&gt;,\n",
       "                                                           &#x27;max_iters&#x27;: 100,\n",
       "                                                           &#x27;n_restarts&#x27;: 5},\n",
       "                                                   minimize_label_entropy=True,\n",
       "                                                   t=0.9),\n",
       "                threshold=0.5)</pre></div></div></div><div class=\"sk-parallel\"><div class=\"sk-parallel-item\"><div class=\"sk-item\"><div class=\"sk-label-container\"><div class=\"sk-label sk-toggleable\"><input class=\"sk-toggleable__control sk-hidden--visually\" id=\"sk-estimator-id-8\" type=\"checkbox\" ><label for=\"sk-estimator-id-8\" class=\"sk-toggleable__label sk-toggleable__label-arrow\">estimator: CollinearFeatureSelector</label><div class=\"sk-toggleable__content\"><pre>CollinearFeatureSelector(kwargs={&#x27;T&#x27;: 1.0,\n",
       "                                 &#x27;lookup&#x27;: &lt;function lookup at 0x7f987de92340&gt;,\n",
       "                                 &#x27;max_iters&#x27;: 100, &#x27;n_restarts&#x27;: 5},\n",
       "                         minimize_label_entropy=True, t=0.9)</pre></div></div></div><div class=\"sk-serial\"><div class=\"sk-item\"><div class=\"sk-estimator sk-toggleable\"><input class=\"sk-toggleable__control sk-hidden--visually\" id=\"sk-estimator-id-9\" type=\"checkbox\" ><label for=\"sk-estimator-id-9\" class=\"sk-toggleable__label sk-toggleable__label-arrow\">CollinearFeatureSelector</label><div class=\"sk-toggleable__content\"><pre>CollinearFeatureSelector(kwargs={&#x27;T&#x27;: 1.0,\n",
       "                                 &#x27;lookup&#x27;: &lt;function lookup at 0x7f987de92340&gt;,\n",
       "                                 &#x27;max_iters&#x27;: 100, &#x27;n_restarts&#x27;: 5},\n",
       "                         minimize_label_entropy=True, t=0.9)</pre></div></div></div></div></div></div></div></div></div></div>"
      ],
      "text/plain": [
       "SelectFromModel(estimator=CollinearFeatureSelector(kwargs={'T': 1.0,\n",
       "                                                           'lookup': <function lookup at 0x7f987de92340>,\n",
       "                                                           'max_iters': 100,\n",
       "                                                           'n_restarts': 5},\n",
       "                                                   minimize_label_entropy=True,\n",
       "                                                   t=0.9),\n",
       "                threshold=0.5)"
      ]
     },
     "execution_count": 27,
     "metadata": {},
     "output_type": "execute_result"
    }
   ],
   "source": [
    "selector.fit(X_train)"
   ]
  },
  {
   "cell_type": "code",
   "execution_count": 28,
   "id": "993c8e21",
   "metadata": {
    "ExecuteTime": {
     "end_time": "2023-10-23T20:04:04.378569Z",
     "start_time": "2023-10-23T20:04:04.357716Z"
    }
   },
   "outputs": [
    {
     "data": {
      "text/plain": [
       "Index(['malic_acid', 'alcalinity_of_ash', 'nonflavanoid_phenols',\n",
       "       'color_intensity'],\n",
       "      dtype='object')"
      ]
     },
     "execution_count": 28,
     "metadata": {},
     "output_type": "execute_result"
    }
   ],
   "source": [
    "# The underlying estimator stores feature_importances_ as [0 (ignored), 1 (included)].\n",
    "X.columns[selector.estimator_.get_support()]"
   ]
  },
  {
   "cell_type": "code",
   "execution_count": 29,
   "id": "e76642be",
   "metadata": {
    "ExecuteTime": {
     "end_time": "2023-10-23T20:04:04.994291Z",
     "start_time": "2023-10-23T20:04:04.954025Z"
    }
   },
   "outputs": [
    {
     "data": {
      "text/plain": [
       "array([0., 1., 0., 1., 0., 0., 0., 1., 0., 1., 0., 0., 0.])"
      ]
     },
     "execution_count": 29,
     "metadata": {},
     "output_type": "execute_result"
    }
   ],
   "source": [
    "# The presence of the feature_importances_ attribute is what enables the use inside a SelectFromModel objsct.\n",
    "# Note that the values are 0 and 1.\n",
    "selector.estimator_.feature_importances_"
   ]
  },
  {
   "cell_type": "code",
   "execution_count": 30,
   "id": "9822abbc",
   "metadata": {
    "ExecuteTime": {
     "end_time": "2023-10-23T20:04:05.825943Z",
     "start_time": "2023-10-23T20:04:05.785805Z"
    }
   },
   "outputs": [
    {
     "data": {
      "text/plain": [
       "array(['malic_acid', 'alcalinity_of_ash', 'nonflavanoid_phenols',\n",
       "       'color_intensity'], dtype=object)"
      ]
     },
     "execution_count": 30,
     "metadata": {},
     "output_type": "execute_result"
    }
   ],
   "source": [
    "# The SelectFromModel has a more natural way of accessing which features are retained.\n",
    "selector.get_feature_names_out(X.columns)"
   ]
  },
  {
   "cell_type": "code",
   "execution_count": 31,
   "id": "59d61d71",
   "metadata": {
    "ExecuteTime": {
     "end_time": "2023-10-23T20:04:06.456281Z",
     "start_time": "2023-10-23T20:04:06.415326Z"
    }
   },
   "outputs": [
    {
     "data": {
      "text/plain": [
       "array([[-0.63562119, -1.22021226, -0.16895084, -0.16687654],\n",
       "       [-0.76274543,  0.85027423, -0.58837427,  0.30422622],\n",
       "       [-0.51757725, -1.04274199, -0.16895084, -0.08122149],\n",
       "       [-0.55389846, -1.07232037, -0.58837427,  0.2613987 ],\n",
       "       [ 0.81722724,  0.55449045,  0.75378069,  1.46913485]])"
      ]
     },
     "execution_count": 31,
     "metadata": {},
     "output_type": "execute_result"
    }
   ],
   "source": [
    "# The selector can transform your data automatically, so you can include it in your pipeline.\n",
    "selector.transform(X_train)[:5]"
   ]
  },
  {
   "cell_type": "markdown",
   "id": "7294606f",
   "metadata": {},
   "source": [
    "Jensen-Shannon Divergence\n",
    "---"
   ]
  },
  {
   "cell_type": "markdown",
   "id": "e01742da",
   "metadata": {},
   "source": [
    "The JS divergence is a measure of similarity between 2 distributions; it essentially describes the mean Kullback-Leibler divergence of two distributions from their mean.  When using a base of 2, the value is bounded between 0 (identical) and 1 (maximally difference).  This is computed for each feature by comparing the distribution of that feature for observations of a class vs. those of all other classes. This \"one-vs-all\" comparison means that if the JS divergence is high (close to 1) for a feature for a certain class, then it is likely quite easy to construct some bounds that define intervals of that feature which characterize that class, and only that class.  For example, class A could have higher levels of some analyte than all other classes, or it could fall in range min < class A < max, where all other classes exist outside of this range. Therefore, it can be helpful to use JSD as a feature selection tool to identify features which help distinguish one class from the others in the training set.\n"
   ]
  },
  {
   "cell_type": "code",
   "execution_count": 32,
   "id": "2d4107a6",
   "metadata": {
    "ExecuteTime": {
     "end_time": "2023-10-23T20:04:09.287018Z",
     "start_time": "2023-10-23T20:04:09.248678Z"
    }
   },
   "outputs": [],
   "source": [
    "from pychemauth.preprocessing.feature_selection import JensenShannonDivergence\n",
    "\n",
    "# Let's just select the single best feature for distinguishing each class from all the others in the training set.\n",
    "jsd = JensenShannonDivergence(top_k=1, per_class=True, robust=True, bins=25, feature_names=X.columns)"
   ]
  },
  {
   "cell_type": "code",
   "execution_count": 33,
   "id": "242c2636",
   "metadata": {
    "ExecuteTime": {
     "end_time": "2023-10-23T20:04:09.886596Z",
     "start_time": "2023-10-23T20:04:09.801381Z"
    }
   },
   "outputs": [],
   "source": [
    "_ = jsd.fit(X_train, y_train)"
   ]
  },
  {
   "cell_type": "code",
   "execution_count": 34,
   "id": "04139c54",
   "metadata": {
    "ExecuteTime": {
     "end_time": "2023-10-23T20:04:11.436078Z",
     "start_time": "2023-10-23T20:04:10.540386Z"
    }
   },
   "outputs": [
    {
     "data": {
      "image/png": "[encoded data removed]",
      "text/plain": [
       "<Figure size 1200x1200 with 3 Axes>"
      ]
     },
     "metadata": {},
     "output_type": "display_data"
    }
   ],
   "source": [
    "# Let's examine what the JSD values actually are for each class.\n",
    "fig, ax = plt.subplots(nrows=3, ncols=1, figsize=(12,12))\n",
    "_ = jsd.visualize(by_class=True, ax=ax)"
   ]
  },
  {
   "cell_type": "code",
   "execution_count": 35,
   "id": "4b08051e",
   "metadata": {
    "ExecuteTime": {
     "end_time": "2023-10-23T20:04:13.859690Z",
     "start_time": "2023-10-23T20:04:13.817457Z"
    }
   },
   "outputs": [
    {
     "data": {
      "text/plain": [
       "Index(['flavanoids', 'color_intensity', 'proline'], dtype='object')"
      ]
     },
     "execution_count": 35,
     "metadata": {},
     "output_type": "execute_result"
    }
   ],
   "source": [
    "# We can confirm that the first feature is selected from each of the above.\n",
    "X.columns[jsd.get_support()]"
   ]
  },
  {
   "cell_type": "code",
   "execution_count": 36,
   "id": "1db7ac48",
   "metadata": {
    "ExecuteTime": {
     "end_time": "2023-10-23T20:04:14.486600Z",
     "start_time": "2023-10-23T20:04:14.446505Z"
    }
   },
   "outputs": [
    {
     "data": {
      "text/plain": [
       "array(['flavanoids', 'color_intensity', 'proline'], dtype=object)"
      ]
     },
     "execution_count": 36,
     "metadata": {},
     "output_type": "execute_result"
    }
   ],
   "source": [
    "jsd.get_feature_names_out()"
   ]
  },
  {
   "cell_type": "code",
   "execution_count": 37,
   "id": "80f9e2b2",
   "metadata": {
    "ExecuteTime": {
     "end_time": "2023-10-23T20:04:15.232973Z",
     "start_time": "2023-10-23T20:04:15.191537Z"
    }
   },
   "outputs": [
    {
     "data": {
      "text/plain": [
       "array([[ 0.72970907, -0.16687654,  0.46607491],\n",
       "       [ 1.32847887,  0.30422622,  1.80936289],\n",
       "       [ 1.00283214, -0.08122149,  1.51085445],\n",
       "       [ 0.81374694,  0.2613987 ,  1.9254495 ],\n",
       "       [-1.2871997 ,  1.46913485, -0.29677999]])"
      ]
     },
     "execution_count": 37,
     "metadata": {},
     "output_type": "execute_result"
    }
   ],
   "source": [
    "# As always, the `transform` method selects the features we are concerned with\n",
    "jsd.transform(X_train)[:5]"
   ]
  },
  {
   "cell_type": "code",
   "execution_count": 38,
   "id": "24162714",
   "metadata": {
    "ExecuteTime": {
     "end_time": "2023-10-23T20:04:16.541700Z",
     "start_time": "2023-10-23T20:04:16.495885Z"
    }
   },
   "outputs": [
    {
     "data": {
      "text/plain": [
       "array([False, False, False, False, False, False,  True, False, False,\n",
       "        True, False, False,  True])"
      ]
     },
     "execution_count": 38,
     "metadata": {},
     "output_type": "execute_result"
    }
   ],
   "source": [
    "jsd.get_support()"
   ]
  },
  {
   "cell_type": "code",
   "execution_count": 39,
   "id": "d29669b1",
   "metadata": {
    "ExecuteTime": {
     "end_time": "2023-10-23T20:04:18.471699Z",
     "start_time": "2023-10-23T20:04:18.430885Z"
    }
   },
   "outputs": [
    {
     "data": {
      "text/plain": [
       "array([0., 0., 0., 0., 0., 0., 1., 0., 0., 1., 0., 0., 1.])"
      ]
     },
     "execution_count": 39,
     "metadata": {},
     "output_type": "execute_result"
    }
   ],
   "source": [
    "# You can also use JSD inside a SelectFromModel object\n",
    "jsd.feature_importances_"
   ]
  },
  {
   "cell_type": "markdown",
   "id": "7085940d",
   "metadata": {},
   "source": [
    "BorutaSHAP\n",
    "---"
   ]
  },
  {
   "cell_type": "markdown",
   "id": "dc88e61f",
   "metadata": {},
   "source": [
    "BorutaSHAP combines two of the leading machine learning methods to perform intelligent feature selection for tabular data with minimal hyperparameters or arbitrary thresholds.  The first is the original [Boruta feature selection algorithm](https://www.jstatsoft.org/article/view/v036i11), and the second is [SHAP](https://github.com/slundberg/shap), which is used to improve/replace one of the core steps in the original implementation.  Theses blog posts go into more detail about this:\n",
    "\n",
    "* [\"Boruta explained exactly how you wished someone explained to you\" by Samuele Mazzanti](https://towardsdatascience.com/boruta-explained-the-way-i-wish-someone-explained-it-to-me-4489d70e154a)\n",
    "* [\"Is this the Best Feature Selection Algorithm 'BorutaShap'?\" by Eoghan Keany](https://medium.com/analytics-vidhya/is-this-the-best-feature-selection-algorithm-borutashap-8bc238aa1677)\n",
    "\n",
    "<h3>What is Boruta?</h3>\n",
    "\n",
    "[Boruta](https://www.jstatsoft.org/article/view/v036i11) was originally a package in R that was designed to test for the statistical significance of a feature relative to a randomized version of itself.  An FAQ page is available [here](https://notabug.org/mbq/Boruta/wiki/FAQ) accompanying their [main website](https://mbq.github.io/Boruta/). In scikit-learn you can do feature selection using [SelectFromModel](https://scikit-learn.org/stable/modules/generated/sklearn.feature_selection.SelectFromModel.html#sklearn.feature_selection.SelectFromModel) which (1) fits a model to determine the \"importance\" of each feature, then (2) selects the top features by some criterion.  However, this threshold is essentially arbitrary and can be scaled to the user's purpose.  Boruta uses a random forest model and 2 innovations:\n",
    "\n",
    "1. columns (features) compete, not against each other, but against randomized versions of themselves.\n",
    "\n",
    "2. statistical significance is determined if a feature \"wins\" significantly more often than 50% of the time (null hypothesis).\n",
    "\n",
    "In the original implementation, first the dataset is augmented with a shuffled (\"shadow\") version of each column.  Then, a random forest is trained on this data and [feature importances](https://scikit-learn.org/stable/modules/generated/sklearn.ensemble.RandomForestClassifier.html#sklearn.ensemble.RandomForestClassifier.feature_importances_) extracted from this.  A feature gets a \"hit\" if its importance is greater than the most important shadow feature.  This is iterated many times.  The maximum uncertainty about a feature occurs if it is at 50%; after many trials, the binomial distribution should be followed.  If a feature gets hit such that it falls in the upper tail of the PMF function, then it is kept; falling in the lower tail implies rejection; falling in between these means indecision, which typically defaults to just keeping it.  A Bonferroni correction for multiple testing is applied. Features are constantly removed during the iteration once one has been determined insignificant.\n",
    "\n",
    "This is similar to [Bayesian comparison](https://baycomp.readthedocs.io/en/latest/introduction.html) which has a \"region of practical equivalence\" (ROPE).\n",
    "\n",
    "Any model that returns a \"feature importance\" can be used with Boruta, not just random forests.\n",
    "\n",
    "The authors of [BorutaPy](https://github.com/scikit-learn-contrib/boruta_py) offer some improvements of their own discussed therein.  Notably, the Bonferroni correction is often considered too harsh so alternatives are discussed.\n",
    "\n",
    "> \"Boruta is an all relevant feature selection method, while most other are minimal optimal; this means it tries to find <b>all features carrying information usable for prediction</b>, rather than finding a possibly compact subset of features on which some classifier has a minimal error.\"\n",
    "\n",
    "Here is a brief and insightful explanation from the inventor, [Miron B. Kursa](../../_static/boruta_in_a_hurry.pdf).\n",
    "\n",
    "<h3>What is BorutaSHAP?</h3>\n",
    "\n",
    "The primary drawback of the original Boruta is that it uses the built-in impurity-based (gini) feature importance from the trees in the random forest.  According to scikit-learn's documentation, \"impurity-based feature importances can be misleading for high cardinality features (many unique values).\"  The alternative suggested is permutation feature importances, however, these always suffer from the potential inclusion of unlikely data points due to correlations.  A better method might be to use SHAP to determine feature importances and count \"hits\" instead.  This is what [BorutaSHAP](https://github.com/Ekeany/Boruta-Shap) does; specifically, it leverages the faster TreeSHAP approach since random forests are still used to determine the importances.\n",
    "\n",
    "BorutaSHAP can work, in principle, with other models besides random forests; this is especially salient since it uses SHAP for feature importances now instead of tree-specific impurity-based calculations to determine feature importances.  However, because SHAP is much faster with trees BorutaSHAP assumes the model will be tree-based, so gradient boosted trees, random forests, etc. are all valid at the moment.\n",
    "\n",
    "SHAP values are easier to compute and more reliable after decorrelating variables so it can be helpful to perform PCA first or use hierarchical clustering (demonstrated above) first."
   ]
  },
  {
   "cell_type": "code",
   "execution_count": 40,
   "id": "7be55d4a",
   "metadata": {
    "ExecuteTime": {
     "end_time": "2023-10-23T20:04:20.289610Z",
     "start_time": "2023-10-23T20:04:20.252090Z"
    }
   },
   "outputs": [],
   "source": [
    "from pychemauth.preprocessing.feature_selection import BorutaSHAPFeatureSelector"
   ]
  },
  {
   "cell_type": "markdown",
   "id": "f9db2cec",
   "metadata": {},
   "source": [
    "Although we are setting `column_names` in this example, it is usually best to set this to `None` when using it in pipelines.  This is because we might have upstream operations that delete certain columns or change the columns themselves; for example, PCA or another feature selector.  If this is not present in the pipeline you can still use the column_names.\n"
   ]
  },
  {
   "cell_type": "code",
   "execution_count": 41,
   "id": "4c7d1d79",
   "metadata": {
    "ExecuteTime": {
     "end_time": "2023-10-23T20:04:21.498860Z",
     "start_time": "2023-10-23T20:04:21.460773Z"
    }
   },
   "outputs": [],
   "source": [
    "selector = BorutaSHAPFeatureSelector(\n",
    "    column_names=X.columns, \n",
    "    classification=True, # We are doing classification, not regression\n",
    "    percentile=100, # Each feature must beat all shadow features\n",
    "    pvalue=0.05, # Significance level for statistical comparison between real features and shadow features\n",
    "    seed=42\n",
    ")"
   ]
  },
  {
   "cell_type": "code",
   "execution_count": 42,
   "id": "8c699fd0",
   "metadata": {
    "ExecuteTime": {
     "end_time": "2023-10-23T20:04:23.079794Z",
     "start_time": "2023-10-23T20:04:22.099880Z"
    }
   },
   "outputs": [
    {
     "data": {
      "application/vnd.jupyter.widget-view+json": {
       "model_id": "a7a8502dbd254f4fb873b05d983fc28e",
       "version_major": 2,
       "version_minor": 0
      },
      "text/plain": [
       "  0%|          | 0/20 [00:00<?, ?it/s]"
      ]
     },
     "metadata": {},
     "output_type": "display_data"
    }
   ],
   "source": [
    "_ = selector.fit(X_train, y_train)"
   ]
  },
  {
   "cell_type": "code",
   "execution_count": 43,
   "id": "d0cb95d7",
   "metadata": {
    "ExecuteTime": {
     "end_time": "2023-10-23T20:04:24.780705Z",
     "start_time": "2023-10-23T20:04:24.755286Z"
    }
   },
   "outputs": [
    {
     "data": {
      "text/plain": [
       "array([ True, False, False, False,  True,  True,  True, False, False,\n",
       "        True,  True,  True,  True])"
      ]
     },
     "execution_count": 43,
     "metadata": {},
     "output_type": "execute_result"
    }
   ],
   "source": [
    "selector.get_support()"
   ]
  },
  {
   "cell_type": "code",
   "execution_count": 44,
   "id": "bdb01d7f",
   "metadata": {
    "ExecuteTime": {
     "end_time": "2023-10-23T20:04:28.347296Z",
     "start_time": "2023-10-23T20:04:28.301432Z"
    }
   },
   "outputs": [
    {
     "data": {
      "text/plain": [
       "array(['alcohol', 'magnesium', 'total_phenols', 'flavanoids',\n",
       "       'color_intensity', 'hue', 'od280/od315_of_diluted_wines',\n",
       "       'proline'], dtype=object)"
      ]
     },
     "execution_count": 44,
     "metadata": {},
     "output_type": "execute_result"
    }
   ],
   "source": [
    "# Which features were kept?\n",
    "selector.get_feature_names_out() "
   ]
  },
  {
   "cell_type": "code",
   "execution_count": 45,
   "id": "8338a9a6",
   "metadata": {
    "ExecuteTime": {
     "end_time": "2023-10-23T20:04:38.193623Z",
     "start_time": "2023-10-23T20:04:38.143321Z"
    }
   },
   "outputs": [
    {
     "data": {
      "text/plain": [
       "Index(['malic_acid', 'ash', 'alcalinity_of_ash', 'nonflavanoid_phenols',\n",
       "       'proanthocyanins'],\n",
       "      dtype='object')"
      ]
     },
     "execution_count": 45,
     "metadata": {},
     "output_type": "execute_result"
    }
   ],
   "source": [
    "# What was removed?\n",
    "X.columns[~selector.get_support()]"
   ]
  },
  {
   "cell_type": "code",
   "execution_count": 46,
   "id": "a53f51c3",
   "metadata": {
    "ExecuteTime": {
     "end_time": "2023-10-23T20:05:00.327343Z",
     "start_time": "2023-10-23T20:04:59.612447Z"
    }
   },
   "outputs": [
    {
     "data": {
      "image/png": "[encoded data removed]",
      "text/plain": [
       "<Figure size 1200x800 with 1 Axes>"
      ]
     },
     "metadata": {},
     "output_type": "display_data"
    }
   ],
   "source": [
    "# We can access the underlying boruta model and use features provided with that object.\n",
    "selector._BorutaSHAPFeatureSelector__boruta_.plot(which_features='all')"
   ]
  },
  {
   "cell_type": "code",
   "execution_count": 47,
   "id": "3f6d1202",
   "metadata": {
    "ExecuteTime": {
     "end_time": "2023-10-23T20:05:06.814627Z",
     "start_time": "2023-10-23T20:05:06.769216Z"
    }
   },
   "outputs": [
    {
     "data": {
      "text/plain": [
       "array([1., 0., 0., 0., 1., 1., 1., 0., 0., 1., 1., 1., 1.])"
      ]
     },
     "execution_count": 47,
     "metadata": {},
     "output_type": "execute_result"
    }
   ],
   "source": [
    "# You can also use BorutaSHAPFeatureSelector inside a SelectFromModel object\n",
    "selector.feature_importances_"
   ]
  },
  {
   "cell_type": "markdown",
   "id": "27e5d729",
   "metadata": {},
   "source": [
    "Letting the Data Decide\n",
    "---"
   ]
  },
  {
   "cell_type": "code",
   "execution_count": 48,
   "id": "fed76d3c",
   "metadata": {
    "ExecuteTime": {
     "end_time": "2023-10-23T20:05:18.995072Z",
     "start_time": "2023-10-23T20:05:18.908363Z"
    }
   },
   "outputs": [],
   "source": [
    "import imblearn\n",
    "from sklearn.model_selection import GridSearchCV"
   ]
  },
  {
   "cell_type": "markdown",
   "id": "02429a33",
   "metadata": {
    "ExecuteTime": {
     "end_time": "2023-09-06T12:37:55.145435Z",
     "start_time": "2023-09-06T12:37:55.095334Z"
    }
   },
   "source": [
    "Now let's build some pipelines with feature selection built in.\n",
    "\n",
    "<h3>Feature Selection Inside the Pipeline</h3>\n",
    "\n",
    "Let's consider some feature selection methods that use an internal calculation to determine which features are important.  Here, this includes the examples above which can be with SelectFromModel as they have a `feature_importance_` attribute.\n",
    "\n",
    "<h4>Method 1</h4>\n",
    "Importantly, the threshold below is set to 0.5 because all SelectFromModel estimators use a 0 or 1 to designate inclusion.\n"
   ]
  },
  {
   "cell_type": "code",
   "execution_count": 49,
   "id": "c9502d98",
   "metadata": {
    "ExecuteTime": {
     "end_time": "2023-10-23T20:05:20.695596Z",
     "start_time": "2023-10-23T20:05:20.647686Z"
    }
   },
   "outputs": [],
   "source": [
    "pipeline = imblearn.pipeline.Pipeline(\n",
    "    steps=[\n",
    "        (\"autoscaler\", CorrectedScaler( # First, center and scale the data\n",
    "            with_mean=True,\n",
    "            with_std=True,\n",
    "            pareto=False\n",
    "            )\n",
    "        ),\n",
    "        (\"feature_selector\", SelectFromModel(\n",
    "                estimator=CollinearFeatureSelector( # We will replace this estimator in the param_grid below\n",
    "                    t=0.9, \n",
    "                    seed=42, \n",
    "                    minimize_label_entropy=False, \n",
    "                ),\n",
    "                threshold=0.5, # 0's are given to features ignored, 1 if they are kept so set the threshold in between\n",
    "                prefit=False,\n",
    "            )\n",
    "        ),\n",
    "        (\"my_chosen_model\", SIMCA_Authenticator(\n",
    "                n_components=1,\n",
    "                alpha=0.05,\n",
    "                gamma=0.01,\n",
    "                scale_x=True,\n",
    "                style='dd-simca',\n",
    "                robust=\"semi\",\n",
    "                sft=False,\n",
    "                target_class=1, # Let's model class 1\n",
    "                use='compliant' # Using a compliant approach will use the other classes provided at training time\n",
    "            )\n",
    "        )\n",
    "    ]\n",
    ")"
   ]
  },
  {
   "cell_type": "code",
   "execution_count": 51,
   "id": "9f31e9e0",
   "metadata": {
    "ExecuteTime": {
     "end_time": "2023-10-23T20:05:31.762356Z",
     "start_time": "2023-10-23T20:05:31.721855Z"
    },
    "scrolled": true
   },
   "outputs": [],
   "source": [
    "# Let's search over a variety of different selectors to see which performs the best\n",
    "warnings.simplefilter(\"ignore\")\n",
    "\n",
    "param_grid = [{\n",
    "    'feature_selector__estimator': [\n",
    "        CollinearFeatureSelector(t=0.5, seed=42, minimize_label_entropy=False),\n",
    "        CollinearFeatureSelector(t=0.75, seed=42, minimize_label_entropy=False),\n",
    "        CollinearFeatureSelector(t=1.0, seed=42, minimize_label_entropy=False),\n",
    "        JensenShannonDivergence(top_k=1, per_class=True, robust=True, bins=5, feature_names=None),\n",
    "        JensenShannonDivergence(top_k=1, per_class=True, robust=True, bins=10, feature_names=None),\n",
    "        JensenShannonDivergence(top_k=1, per_class=True, robust=True, bins=25, feature_names=None),\n",
    "        BorutaSHAPFeatureSelector(column_names=None, classification=True, percentile=75, pvalue=0.05, seed=42),\n",
    "        BorutaSHAPFeatureSelector(column_names=None, classification=True, percentile=95, pvalue=0.05, seed=42),\n",
    "        BorutaSHAPFeatureSelector(column_names=None, classification=True, percentile=100, pvalue=0.05, seed=42)\n",
    "    ], \n",
    "    'my_chosen_model__n_components':[1, 2, 3],\n",
    "}]\n",
    "\n",
    "gs = GridSearchCV(\n",
    "    estimator=pipeline,\n",
    "    param_grid=param_grid,\n",
    "    n_jobs=-1,\n",
    "    cv=sklearn.model_selection.StratifiedKFold(n_splits=3, shuffle=True, random_state=0), \n",
    "    error_score=0,\n",
    "    refit=True \n",
    ")\n",
    "\n",
    "_ = gs.fit(X_train, y_train)"
   ]
  },
  {
   "cell_type": "code",
   "execution_count": 52,
   "id": "e5934603",
   "metadata": {
    "ExecuteTime": {
     "end_time": "2023-10-23T20:05:34.885127Z",
     "start_time": "2023-10-23T20:05:34.838697Z"
    }
   },
   "outputs": [
    {
     "data": {
      "text/plain": [
       "{'estimator__epsilon': 1e-12,\n",
       " 'estimator__threshold': 0.0,\n",
       " 'estimator__top_k': 1,\n",
       " 'estimator__per_class': True,\n",
       " 'estimator__feature_names': None,\n",
       " 'estimator__bins': 10,\n",
       " 'estimator__robust': True,\n",
       " 'estimator': JensenShannonDivergence(bins=10, robust=True),\n",
       " 'importance_getter': 'auto',\n",
       " 'max_features': None,\n",
       " 'norm_order': 1,\n",
       " 'prefit': False,\n",
       " 'threshold': 0.5}"
      ]
     },
     "execution_count": 52,
     "metadata": {},
     "output_type": "execute_result"
    }
   ],
   "source": [
    "gs.best_estimator_.named_steps['feature_selector'].get_params()"
   ]
  },
  {
   "cell_type": "code",
   "execution_count": 53,
   "id": "26fb0be9",
   "metadata": {
    "ExecuteTime": {
     "end_time": "2023-10-23T20:05:38.102595Z",
     "start_time": "2023-10-23T20:05:38.056599Z"
    }
   },
   "outputs": [
    {
     "data": {
      "text/plain": [
       "Index(['color_intensity', 'od280/od315_of_diluted_wines', 'proline'], dtype='object')"
      ]
     },
     "execution_count": 53,
     "metadata": {},
     "output_type": "execute_result"
    }
   ],
   "source": [
    "X.columns[gs.best_estimator_.named_steps['feature_selector'].get_support()]"
   ]
  },
  {
   "cell_type": "code",
   "execution_count": 54,
   "id": "8ff3f71a",
   "metadata": {
    "ExecuteTime": {
     "end_time": "2023-10-23T20:05:40.054923Z",
     "start_time": "2023-10-23T20:05:40.002169Z"
    }
   },
   "outputs": [
    {
     "name": "stdout",
     "output_type": "stream",
     "text": [
      "The best pipeline has a train set TEFF = 0.921 and a test set TEFF = 0.905\n"
     ]
    }
   ],
   "source": [
    "print(\"The best pipeline has a train set TEFF = {} and a test set TEFF = {}\".format(\n",
    "    '%.3f'%gs.score(X_train, y_train),\n",
    "    '%.3f'%gs.score(X_test, y_test)\n",
    "))"
   ]
  },
  {
   "cell_type": "markdown",
   "id": "400091bd",
   "metadata": {},
   "source": [
    "<h4>Method 2</h4>"
   ]
  },
  {
   "cell_type": "code",
   "execution_count": 56,
   "id": "df1c327b",
   "metadata": {
    "ExecuteTime": {
     "end_time": "2023-10-23T20:05:48.286226Z",
     "start_time": "2023-10-23T20:05:48.251831Z"
    }
   },
   "outputs": [],
   "source": [
    "# Let's search over a variety of different selectors to see which performs the best\n",
    "warnings.simplefilter(\"ignore\")\n",
    "\n",
    "# A little helper function\n",
    "def selector_factory(estimator):\n",
    "    return SelectFromModel(\n",
    "            estimator=estimator,\n",
    "            threshold=0.5, # 0's are given to features ignored, 1 if they are kept so set the threshold in between\n",
    "            prefit=False,\n",
    "        )\n",
    "    \n",
    "param_grid = [{\n",
    "    'feature_selector': [\n",
    "        'passthrough', # We can also test if it is even helpful to have a selector in the first place\n",
    "        selector_factory(CollinearFeatureSelector(t=0.5, seed=42, minimize_label_entropy=False)),\n",
    "        selector_factory(CollinearFeatureSelector(t=0.75, seed=42, minimize_label_entropy=False)),\n",
    "        selector_factory(CollinearFeatureSelector(t=1.0, seed=42, minimize_label_entropy=False)),\n",
    "        selector_factory(JensenShannonDivergence(top_k=1, per_class=True, robust=True, bins=5, feature_names=None)),\n",
    "        selector_factory(JensenShannonDivergence(top_k=1, per_class=True, robust=True, bins=10, feature_names=None)),\n",
    "        selector_factory(JensenShannonDivergence(top_k=1, per_class=True, robust=True, bins=25, feature_names=None)),\n",
    "        selector_factory(BorutaSHAPFeatureSelector(column_names=None, classification=True, percentile=75, pvalue=0.05, seed=42)),\n",
    "        selector_factory(BorutaSHAPFeatureSelector(column_names=None, classification=True, percentile=95, pvalue=0.05, seed=42)),\n",
    "        selector_factory(BorutaSHAPFeatureSelector(column_names=None, classification=True, percentile=100, pvalue=0.05, seed=42))\n",
    "    ], \n",
    "    'my_chosen_model__n_components':[1, 2, 3],\n",
    "}]\n",
    "\n",
    "gs = GridSearchCV(\n",
    "    estimator=pipeline,\n",
    "    param_grid=param_grid,\n",
    "    n_jobs=-1,\n",
    "    cv=sklearn.model_selection.StratifiedKFold(n_splits=3, shuffle=True, random_state=0), \n",
    "    error_score=0,\n",
    "    refit=True \n",
    ")\n",
    "\n",
    "_ = gs.fit(X_train, y_train)"
   ]
  },
  {
   "cell_type": "code",
   "execution_count": 57,
   "id": "4e9fb3c7",
   "metadata": {
    "ExecuteTime": {
     "end_time": "2023-10-23T20:05:52.371037Z",
     "start_time": "2023-10-23T20:05:52.322851Z"
    }
   },
   "outputs": [
    {
     "data": {
      "text/plain": [
       "{'estimator__epsilon': 1e-12,\n",
       " 'estimator__threshold': 0.0,\n",
       " 'estimator__top_k': 1,\n",
       " 'estimator__per_class': True,\n",
       " 'estimator__feature_names': None,\n",
       " 'estimator__bins': 10,\n",
       " 'estimator__robust': True,\n",
       " 'estimator': JensenShannonDivergence(bins=10, robust=True),\n",
       " 'importance_getter': 'auto',\n",
       " 'max_features': None,\n",
       " 'norm_order': 1,\n",
       " 'prefit': False,\n",
       " 'threshold': 0.5}"
      ]
     },
     "execution_count": 57,
     "metadata": {},
     "output_type": "execute_result"
    }
   ],
   "source": [
    "gs.best_estimator_.named_steps['feature_selector'].get_params()"
   ]
  },
  {
   "cell_type": "code",
   "execution_count": 58,
   "id": "636dabd8",
   "metadata": {
    "ExecuteTime": {
     "end_time": "2023-10-23T20:05:54.668033Z",
     "start_time": "2023-10-23T20:05:54.621208Z"
    }
   },
   "outputs": [
    {
     "data": {
      "text/plain": [
       "Index(['color_intensity', 'od280/od315_of_diluted_wines', 'proline'], dtype='object')"
      ]
     },
     "execution_count": 58,
     "metadata": {},
     "output_type": "execute_result"
    }
   ],
   "source": [
    "# In this case, the same selection was made.\n",
    "X.columns[gs.best_estimator_.named_steps['feature_selector'].get_support()]"
   ]
  },
  {
   "cell_type": "code",
   "execution_count": 59,
   "id": "9947dda5",
   "metadata": {
    "ExecuteTime": {
     "end_time": "2023-10-23T20:05:56.250461Z",
     "start_time": "2023-10-23T20:05:56.197485Z"
    }
   },
   "outputs": [
    {
     "name": "stdout",
     "output_type": "stream",
     "text": [
      "The best pipeline has a train set TEFF = 0.921 and a test set TEFF = 0.905\n"
     ]
    }
   ],
   "source": [
    "print(\"The best pipeline has a train set TEFF = {} and a test set TEFF = {}\".format(\n",
    "    '%.3f'%gs.score(X_train, y_train),\n",
    "    '%.3f'%gs.score(X_test, y_test)\n",
    "))"
   ]
  },
  {
   "cell_type": "markdown",
   "id": "85ff46e4",
   "metadata": {
    "ExecuteTime": {
     "end_time": "2023-09-06T13:35:51.595186Z",
     "start_time": "2023-09-06T13:35:51.551077Z"
    }
   },
   "source": [
    "<h3>SFS Outside the Pipeline</h3>"
   ]
  },
  {
   "cell_type": "markdown",
   "id": "9c3ac467",
   "metadata": {
    "ExecuteTime": {
     "end_time": "2023-09-05T20:21:02.967550Z",
     "start_time": "2023-09-05T20:21:02.879396Z"
    }
   },
   "source": [
    "SFS wraps the entire grid search pipeline because it is based on overall performance.\n",
    "\n",
    "This calculation performs grid search CV to identify the optimal pipeline when that pipeline is only initially presented with a subset of features.  Importantly, we can still use feature selectors within the pipeline, but it is not likely to make a significant difference (in the simple example below, 'passthrough' was automatically selected for this).  Still, since the outer loop is \"greedy\" having some internal feature selectors is not a terrible idea.\n",
    "\n",
    "In this particular example, SFS uses 2-fold CV to determine which feature to add at each step and therefore has to test all features; this is wrapped around a 3-fold CV in the grid search object which determines the best hyperparameters for the pipeline, so overall this loop will take much longer than previous ones to complete.\n"
   ]
  },
  {
   "cell_type": "code",
   "execution_count": 60,
   "id": "d09fca2e",
   "metadata": {
    "ExecuteTime": {
     "end_time": "2023-10-23T20:06:00.788845Z",
     "start_time": "2023-10-23T20:06:00.739616Z"
    }
   },
   "outputs": [],
   "source": [
    "param_grid = [{\n",
    "    'feature_selector': [\n",
    "        'passthrough', \n",
    "        selector_factory(CollinearFeatureSelector(t=0.4, seed=42, minimize_label_entropy=False)),\n",
    "        selector_factory(CollinearFeatureSelector(t=0.75, seed=42, minimize_label_entropy=False)),\n",
    "        selector_factory(JensenShannonDivergence(top_k=2, per_class=False, robust=True, bins=10, feature_names=None)),\n",
    "        selector_factory(JensenShannonDivergence(top_k=1, per_class=True, robust=True, bins=10, feature_names=None)),\n",
    "    ], \n",
    "    'my_chosen_model__n_components':[1, 2, 3],\n",
    "}]\n",
    "\n",
    "gs = GridSearchCV(\n",
    "    estimator=pipeline,\n",
    "    param_grid=param_grid,\n",
    "    n_jobs=-1,\n",
    "    cv=sklearn.model_selection.StratifiedKFold(n_splits=3, shuffle=True, random_state=0), \n",
    "    error_score=0,\n",
    "    refit=True \n",
    ")\n",
    "\n",
    "sfs_forward = SequentialFeatureSelector(\n",
    "    gs, # We can use the grid search object as the estimator!\n",
    "    n_features_to_select='auto', \n",
    "    tol=0.01, \n",
    "    direction='forward', \n",
    "    scoring=None, # Use estimator's score method by default - for a compliant DD-SIMCA authenticator, this is TEFF\n",
    "    cv=sklearn.model_selection.KFold(n_splits=2, random_state=0, shuffle=True), \n",
    "    n_jobs=None\n",
    ")"
   ]
  },
  {
   "cell_type": "code",
   "execution_count": 62,
   "id": "5ceee12c",
   "metadata": {
    "ExecuteTime": {
     "end_time": "2023-10-23T20:06:27.894979Z",
     "start_time": "2023-10-23T20:06:27.836709Z"
    }
   },
   "outputs": [],
   "source": [
    "warnings.filterwarnings(\"ignore\")\n",
    "\n",
    "_ = sfs_forward.fit(X_train, y_train)"
   ]
  },
  {
   "cell_type": "code",
   "execution_count": 63,
   "id": "734ac3c4",
   "metadata": {
    "ExecuteTime": {
     "end_time": "2023-10-23T20:06:31.181959Z",
     "start_time": "2023-10-23T20:06:31.070615Z"
    }
   },
   "outputs": [
    {
     "data": {
      "text/html": [
       "<style>#sk-container-id-4 {color: black;}#sk-container-id-4 pre{padding: 0;}#sk-container-id-4 div.sk-toggleable {background-color: white;}#sk-container-id-4 label.sk-toggleable__label {cursor: pointer;display: block;width: 100%;margin-bottom: 0;padding: 0.3em;box-sizing: border-box;text-align: center;}#sk-container-id-4 label.sk-toggleable__label-arrow:before {content: \"▸\";float: left;margin-right: 0.25em;color: #696969;}#sk-container-id-4 label.sk-toggleable__label-arrow:hover:before {color: black;}#sk-container-id-4 div.sk-estimator:hover label.sk-toggleable__label-arrow:before {color: black;}#sk-container-id-4 div.sk-toggleable__content {max-height: 0;max-width: 0;overflow: hidden;text-align: left;background-color: #f0f8ff;}#sk-container-id-4 div.sk-toggleable__content pre {margin: 0.2em;color: black;border-radius: 0.25em;background-color: #f0f8ff;}#sk-container-id-4 input.sk-toggleable__control:checked~div.sk-toggleable__content {max-height: 200px;max-width: 100%;overflow: auto;}#sk-container-id-4 input.sk-toggleable__control:checked~label.sk-toggleable__label-arrow:before {content: \"▾\";}#sk-container-id-4 div.sk-estimator input.sk-toggleable__control:checked~label.sk-toggleable__label {background-color: #d4ebff;}#sk-container-id-4 div.sk-label input.sk-toggleable__control:checked~label.sk-toggleable__label {background-color: #d4ebff;}#sk-container-id-4 input.sk-hidden--visually {border: 0;clip: rect(1px 1px 1px 1px);clip: rect(1px, 1px, 1px, 1px);height: 1px;margin: -1px;overflow: hidden;padding: 0;position: absolute;width: 1px;}#sk-container-id-4 div.sk-estimator {font-family: monospace;background-color: #f0f8ff;border: 1px dotted black;border-radius: 0.25em;box-sizing: border-box;margin-bottom: 0.5em;}#sk-container-id-4 div.sk-estimator:hover {background-color: #d4ebff;}#sk-container-id-4 div.sk-parallel-item::after {content: \"\";width: 100%;border-bottom: 1px solid gray;flex-grow: 1;}#sk-container-id-4 div.sk-label:hover label.sk-toggleable__label {background-color: #d4ebff;}#sk-container-id-4 div.sk-serial::before {content: \"\";position: absolute;border-left: 1px solid gray;box-sizing: border-box;top: 0;bottom: 0;left: 50%;z-index: 0;}#sk-container-id-4 div.sk-serial {display: flex;flex-direction: column;align-items: center;background-color: white;padding-right: 0.2em;padding-left: 0.2em;position: relative;}#sk-container-id-4 div.sk-item {position: relative;z-index: 1;}#sk-container-id-4 div.sk-parallel {display: flex;align-items: stretch;justify-content: center;background-color: white;position: relative;}#sk-container-id-4 div.sk-item::before, #sk-container-id-4 div.sk-parallel-item::before {content: \"\";position: absolute;border-left: 1px solid gray;box-sizing: border-box;top: 0;bottom: 0;left: 50%;z-index: -1;}#sk-container-id-4 div.sk-parallel-item {display: flex;flex-direction: column;z-index: 1;position: relative;background-color: white;}#sk-container-id-4 div.sk-parallel-item:first-child::after {align-self: flex-end;width: 50%;}#sk-container-id-4 div.sk-parallel-item:last-child::after {align-self: flex-start;width: 50%;}#sk-container-id-4 div.sk-parallel-item:only-child::after {width: 0;}#sk-container-id-4 div.sk-dashed-wrapped {border: 1px dashed gray;margin: 0 0.4em 0.5em 0.4em;box-sizing: border-box;padding-bottom: 0.4em;background-color: white;}#sk-container-id-4 div.sk-label label {font-family: monospace;font-weight: bold;display: inline-block;line-height: 1.2em;}#sk-container-id-4 div.sk-label-container {text-align: center;}#sk-container-id-4 div.sk-container {/* jupyter's `normalize.less` sets `[hidden] { display: none; }` but bootstrap.min.css set `[hidden] { display: none !important; }` so we also need the `!important` here to be able to override the default hidden behavior on the sphinx rendered scikit-learn.org. See: https://github.com/scikit-learn/scikit-learn/issues/21755 */display: inline-block !important;position: relative;}#sk-container-id-4 div.sk-text-repr-fallback {display: none;}</style><div id=\"sk-container-id-4\" class=\"sk-top-container\"><div class=\"sk-text-repr-fallback\"><pre>GridSearchCV(cv=StratifiedKFold(n_splits=3, random_state=0, shuffle=True),\n",
       "             error_score=0,\n",
       "             estimator=Pipeline(steps=[(&#x27;autoscaler&#x27;,\n",
       "                                        &lt;pychemauth.preprocessing.scaling.CorrectedScaler object at 0x7f9875c9d990&gt;),\n",
       "                                       (&#x27;feature_selector&#x27;,\n",
       "                                        SelectFromModel(estimator=CollinearFeatureSelector(t=0.9),\n",
       "                                                        threshold=0.5)),\n",
       "                                       (&#x27;my_chosen_model&#x27;,\n",
       "                                        SIMCA_Authenticator(target_class=1,\n",
       "                                                            us...\n",
       "                                               SelectFromModel(estimator=CollinearFeatureSelector(t=0.4),\n",
       "                                                               threshold=0.5),\n",
       "                                               SelectFromModel(estimator=CollinearFeatureSelector(t=0.75),\n",
       "                                                               threshold=0.5),\n",
       "                                               SelectFromModel(estimator=JensenShannonDivergence(bins=10,\n",
       "                                                                                                 per_class=False,\n",
       "                                                                                                 robust=True,\n",
       "                                                                                                 top_k=2),\n",
       "                                                               threshold=0.5),\n",
       "                                               SelectFromModel(estimator=JensenShannonDivergence(bins=10,\n",
       "                                                                                                 robust=True),\n",
       "                                                               threshold=0.5)],\n",
       "                          &#x27;my_chosen_model__n_components&#x27;: [1, 2, 3]}])</pre><b>In a Jupyter environment, please rerun this cell to show the HTML representation or trust the notebook. <br />On GitHub, the HTML representation is unable to render, please try loading this page with nbviewer.org.</b></div><div class=\"sk-container\" hidden><div class=\"sk-item sk-dashed-wrapped\"><div class=\"sk-label-container\"><div class=\"sk-label sk-toggleable\"><input class=\"sk-toggleable__control sk-hidden--visually\" id=\"sk-estimator-id-10\" type=\"checkbox\" ><label for=\"sk-estimator-id-10\" class=\"sk-toggleable__label sk-toggleable__label-arrow\">GridSearchCV</label><div class=\"sk-toggleable__content\"><pre>GridSearchCV(cv=StratifiedKFold(n_splits=3, random_state=0, shuffle=True),\n",
       "             error_score=0,\n",
       "             estimator=Pipeline(steps=[(&#x27;autoscaler&#x27;,\n",
       "                                        &lt;pychemauth.preprocessing.scaling.CorrectedScaler object at 0x7f9875c9d990&gt;),\n",
       "                                       (&#x27;feature_selector&#x27;,\n",
       "                                        SelectFromModel(estimator=CollinearFeatureSelector(t=0.9),\n",
       "                                                        threshold=0.5)),\n",
       "                                       (&#x27;my_chosen_model&#x27;,\n",
       "                                        SIMCA_Authenticator(target_class=1,\n",
       "                                                            us...\n",
       "                                               SelectFromModel(estimator=CollinearFeatureSelector(t=0.4),\n",
       "                                                               threshold=0.5),\n",
       "                                               SelectFromModel(estimator=CollinearFeatureSelector(t=0.75),\n",
       "                                                               threshold=0.5),\n",
       "                                               SelectFromModel(estimator=JensenShannonDivergence(bins=10,\n",
       "                                                                                                 per_class=False,\n",
       "                                                                                                 robust=True,\n",
       "                                                                                                 top_k=2),\n",
       "                                                               threshold=0.5),\n",
       "                                               SelectFromModel(estimator=JensenShannonDivergence(bins=10,\n",
       "                                                                                                 robust=True),\n",
       "                                                               threshold=0.5)],\n",
       "                          &#x27;my_chosen_model__n_components&#x27;: [1, 2, 3]}])</pre></div></div></div><div class=\"sk-parallel\"><div class=\"sk-parallel-item\"><div class=\"sk-item\"><div class=\"sk-label-container\"><div class=\"sk-label sk-toggleable\"><input class=\"sk-toggleable__control sk-hidden--visually\" id=\"sk-estimator-id-11\" type=\"checkbox\" ><label for=\"sk-estimator-id-11\" class=\"sk-toggleable__label sk-toggleable__label-arrow\">estimator: Pipeline</label><div class=\"sk-toggleable__content\"><pre>Pipeline(steps=[(&#x27;autoscaler&#x27;,\n",
       "                 &lt;pychemauth.preprocessing.scaling.CorrectedScaler object at 0x7f9875c9d990&gt;),\n",
       "                (&#x27;feature_selector&#x27;,\n",
       "                 SelectFromModel(estimator=CollinearFeatureSelector(t=0.9),\n",
       "                                 threshold=0.5)),\n",
       "                (&#x27;my_chosen_model&#x27;,\n",
       "                 SIMCA_Authenticator(target_class=1, use=&#x27;compliant&#x27;))])</pre></div></div></div><div class=\"sk-serial\"><div class=\"sk-item\"><div class=\"sk-serial\"><div class=\"sk-item\"><div class=\"sk-estimator sk-toggleable\"><input class=\"sk-toggleable__control sk-hidden--visually\" id=\"sk-estimator-id-12\" type=\"checkbox\" ><label for=\"sk-estimator-id-12\" class=\"sk-toggleable__label sk-toggleable__label-arrow\">CorrectedScaler</label><div class=\"sk-toggleable__content\"><pre>&lt;pychemauth.preprocessing.scaling.CorrectedScaler object at 0x7f9875c9d990&gt;</pre></div></div></div><div class=\"sk-item sk-dashed-wrapped\"><div class=\"sk-label-container\"><div class=\"sk-label sk-toggleable\"><input class=\"sk-toggleable__control sk-hidden--visually\" id=\"sk-estimator-id-13\" type=\"checkbox\" ><label for=\"sk-estimator-id-13\" class=\"sk-toggleable__label sk-toggleable__label-arrow\">feature_selector: SelectFromModel</label><div class=\"sk-toggleable__content\"><pre>SelectFromModel(estimator=CollinearFeatureSelector(t=0.9), threshold=0.5)</pre></div></div></div><div class=\"sk-parallel\"><div class=\"sk-parallel-item\"><div class=\"sk-item\"><div class=\"sk-label-container\"><div class=\"sk-label sk-toggleable\"><input class=\"sk-toggleable__control sk-hidden--visually\" id=\"sk-estimator-id-14\" type=\"checkbox\" ><label for=\"sk-estimator-id-14\" class=\"sk-toggleable__label sk-toggleable__label-arrow\">estimator: CollinearFeatureSelector</label><div class=\"sk-toggleable__content\"><pre>CollinearFeatureSelector(t=0.9)</pre></div></div></div><div class=\"sk-serial\"><div class=\"sk-item\"><div class=\"sk-estimator sk-toggleable\"><input class=\"sk-toggleable__control sk-hidden--visually\" id=\"sk-estimator-id-15\" type=\"checkbox\" ><label for=\"sk-estimator-id-15\" class=\"sk-toggleable__label sk-toggleable__label-arrow\">CollinearFeatureSelector</label><div class=\"sk-toggleable__content\"><pre>CollinearFeatureSelector(t=0.9)</pre></div></div></div></div></div></div></div></div><div class=\"sk-item\"><div class=\"sk-estimator sk-toggleable\"><input class=\"sk-toggleable__control sk-hidden--visually\" id=\"sk-estimator-id-16\" type=\"checkbox\" ><label for=\"sk-estimator-id-16\" class=\"sk-toggleable__label sk-toggleable__label-arrow\">SIMCA_Authenticator</label><div class=\"sk-toggleable__content\"><pre>SIMCA_Authenticator(target_class=1, use=&#x27;compliant&#x27;)</pre></div></div></div></div></div></div></div></div></div></div></div></div>"
      ],
      "text/plain": [
       "GridSearchCV(cv=StratifiedKFold(n_splits=3, random_state=0, shuffle=True),\n",
       "             error_score=0,\n",
       "             estimator=Pipeline(steps=[('autoscaler',\n",
       "                                        <pychemauth.preprocessing.scaling.CorrectedScaler object at 0x7f9875c9d990>),\n",
       "                                       ('feature_selector',\n",
       "                                        SelectFromModel(estimator=CollinearFeatureSelector(t=0.9),\n",
       "                                                        threshold=0.5)),\n",
       "                                       ('my_chosen_model',\n",
       "                                        SIMCA_Authenticator(target_class=1,\n",
       "                                                            us...\n",
       "                                               SelectFromModel(estimator=CollinearFeatureSelector(t=0.4),\n",
       "                                                               threshold=0.5),\n",
       "                                               SelectFromModel(estimator=CollinearFeatureSelector(t=0.75),\n",
       "                                                               threshold=0.5),\n",
       "                                               SelectFromModel(estimator=JensenShannonDivergence(bins=10,\n",
       "                                                                                                 per_class=False,\n",
       "                                                                                                 robust=True,\n",
       "                                                                                                 top_k=2),\n",
       "                                                               threshold=0.5),\n",
       "                                               SelectFromModel(estimator=JensenShannonDivergence(bins=10,\n",
       "                                                                                                 robust=True),\n",
       "                                                               threshold=0.5)],\n",
       "                          'my_chosen_model__n_components': [1, 2, 3]}])"
      ]
     },
     "execution_count": 63,
     "metadata": {},
     "output_type": "execute_result"
    }
   ],
   "source": [
    "# Note that the estimator is just the UNFITTED grid search object\n",
    "sfs_forward.estimator"
   ]
  },
  {
   "cell_type": "code",
   "execution_count": 64,
   "id": "1495a956",
   "metadata": {
    "ExecuteTime": {
     "end_time": "2023-10-23T20:06:33.269112Z",
     "start_time": "2023-10-23T20:06:33.229699Z"
    }
   },
   "outputs": [
    {
     "data": {
      "text/plain": [
       "[{'feature_selector': ['passthrough',\n",
       "   SelectFromModel(estimator=CollinearFeatureSelector(t=0.4), threshold=0.5),\n",
       "   SelectFromModel(estimator=CollinearFeatureSelector(t=0.75), threshold=0.5),\n",
       "   SelectFromModel(estimator=JensenShannonDivergence(bins=10, per_class=False,\n",
       "                                                     robust=True, top_k=2),\n",
       "                   threshold=0.5),\n",
       "   SelectFromModel(estimator=JensenShannonDivergence(bins=10, robust=True),\n",
       "                   threshold=0.5)],\n",
       "  'my_chosen_model__n_components': [1, 2, 3]}]"
      ]
     },
     "execution_count": 64,
     "metadata": {},
     "output_type": "execute_result"
    }
   ],
   "source": [
    "sfs_forward.estimator.param_grid"
   ]
  },
  {
   "cell_type": "code",
   "execution_count": 65,
   "id": "c561165a",
   "metadata": {
    "ExecuteTime": {
     "end_time": "2023-10-23T20:06:37.032474Z",
     "start_time": "2023-10-23T20:06:36.985462Z"
    }
   },
   "outputs": [
    {
     "data": {
      "text/plain": [
       "Index(['alcohol', 'flavanoids', 'color_intensity'], dtype='object')"
      ]
     },
     "execution_count": 65,
     "metadata": {},
     "output_type": "execute_result"
    }
   ],
   "source": [
    "# This just tells us the grid search above yields the best final pipeline when it is shown these features.\n",
    "X.columns[sfs_forward.get_support()]"
   ]
  },
  {
   "cell_type": "code",
   "execution_count": 66,
   "id": "ff45cf92",
   "metadata": {
    "ExecuteTime": {
     "end_time": "2023-10-23T20:06:38.431040Z",
     "start_time": "2023-10-23T20:06:38.384580Z"
    }
   },
   "outputs": [
    {
     "data": {
      "text/plain": [
       "array([[ 0.38444004,  0.72970907, -0.16687654],\n",
       "       [ 0.94517316,  1.32847887,  0.30422622],\n",
       "       [ 0.52150813,  1.00283214, -0.08122149],\n",
       "       [ 0.97009463,  0.81374694,  0.2613987 ],\n",
       "       [ 0.43428298, -1.2871997 ,  1.46913485]])"
      ]
     },
     "execution_count": 66,
     "metadata": {},
     "output_type": "execute_result"
    }
   ],
   "source": [
    "sfs_forward.transform(X_train)[:5]"
   ]
  },
  {
   "cell_type": "code",
   "execution_count": 68,
   "id": "cf10cca2",
   "metadata": {
    "ExecuteTime": {
     "end_time": "2023-10-23T20:06:43.922470Z",
     "start_time": "2023-10-23T20:06:43.883109Z"
    }
   },
   "outputs": [],
   "source": [
    "# We still need to train the pipeline to get the best estimator\n",
    "warnings.filterwarnings(\"ignore\")\n",
    "\n",
    "_ = gs.fit(sfs_forward.transform(X_train), y_train)"
   ]
  },
  {
   "cell_type": "code",
   "execution_count": 69,
   "id": "5a806056",
   "metadata": {
    "ExecuteTime": {
     "end_time": "2023-10-23T20:06:48.106586Z",
     "start_time": "2023-10-23T20:06:48.058204Z"
    }
   },
   "outputs": [
    {
     "data": {
      "text/plain": [
       "{'feature_selector': 'passthrough', 'my_chosen_model__n_components': 1}"
      ]
     },
     "execution_count": 69,
     "metadata": {},
     "output_type": "execute_result"
    }
   ],
   "source": [
    "# The best pipeline has these parameters.\n",
    "gs.best_params_"
   ]
  },
  {
   "cell_type": "code",
   "execution_count": 70,
   "id": "8bfadf51",
   "metadata": {
    "ExecuteTime": {
     "end_time": "2023-10-23T20:06:50.628135Z",
     "start_time": "2023-10-23T20:06:50.574466Z"
    }
   },
   "outputs": [
    {
     "name": "stdout",
     "output_type": "stream",
     "text": [
      "The best pipeline has a train set TEFF = 0.883 and a test set TEFF = 0.824\n"
     ]
    }
   ],
   "source": [
    "print(\"The best pipeline has a train set TEFF = {} and a test set TEFF = {}\".format(\n",
    "    '%.3f'%gs.score(sfs_forward.transform(X_train), y_train),\n",
    "    '%.3f'%gs.score(sfs_forward.transform(X_test), y_test)\n",
    "))"
   ]
  }
 ],
 "metadata": {
  "kernelspec": {
   "display_name": "Python 3 (ipykernel)",
   "language": "python",
   "name": "python3"
  },
  "language_info": {
   "codemirror_mode": {
    "name": "ipython",
    "version": 3
   },
   "file_extension": ".py",
   "mimetype": "text/x-python",
   "name": "python",
   "nbconvert_exporter": "python",
   "pygments_lexer": "ipython3",
   "version": "3.11.4"
  }
 },
 "nbformat": 4,
 "nbformat_minor": 5
}
