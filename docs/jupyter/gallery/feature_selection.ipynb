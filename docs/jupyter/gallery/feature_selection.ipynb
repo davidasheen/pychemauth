{
 "cells": [
  {
   "cell_type": "markdown",
   "id": "c5a4f1d1",
   "metadata": {},
   "source": [
    "Selecting the Most Important Features\n",
    "==="
   ]
  },
  {
   "cell_type": "markdown",
   "id": "094210bf",
   "metadata": {
    "ExecuteTime": {
     "end_time": "2023-09-01T12:09:18.363262Z",
     "start_time": "2023-09-01T12:09:18.356384Z"
    }
   },
   "source": [
    "<div class=\"alert alert-block alert-info\">\n",
    "Author: Nathan A. Mahynski\n",
    "\n",
    "Date: 2023/08/31\n",
    "\n",
    "Description: Examples of different ways to select important features for modeling.\n",
    "</div>"
   ]
  },
  {
   "cell_type": "code",
   "execution_count": null,
   "id": "fa02da84",
   "metadata": {},
   "outputs": [],
   "source": []
  },
  {
   "cell_type": "code",
   "execution_count": null,
   "id": "04799a62",
   "metadata": {},
   "outputs": [],
   "source": []
  },
  {
   "cell_type": "markdown",
   "id": "875740d1",
   "metadata": {},
   "source": [
    "LASSO\n",
    "--"
   ]
  },
  {
   "cell_type": "code",
   "execution_count": null,
   "id": "81ab1e6b",
   "metadata": {},
   "outputs": [],
   "source": [
    "# Basic L1 norm to remove features from a linear model"
   ]
  },
  {
   "cell_type": "markdown",
   "id": "48b30ef0",
   "metadata": {},
   "source": [
    "Using Feature Importances\n",
    "---"
   ]
  },
  {
   "cell_type": "code",
   "execution_count": null,
   "id": "5f59da58",
   "metadata": {},
   "outputs": [],
   "source": [
    "# selectFromModel - can be any model\n",
    "# Basic intro with use of feature importances using RF as model for importances"
   ]
  },
  {
   "cell_type": "markdown",
   "id": "feb60943",
   "metadata": {},
   "source": [
    "BorutaSHAP\n",
    "---"
   ]
  },
  {
   "cell_type": "code",
   "execution_count": null,
   "id": "ba3f06bf",
   "metadata": {},
   "outputs": [],
   "source": [
    "# All RELEVNAT feature selection method which keeps all which MIGHT be useful\n",
    "# SHAP determines feature importances now not a RF"
   ]
  },
  {
   "cell_type": "markdown",
   "id": "c7543b75",
   "metadata": {},
   "source": [
    "Recursive Feature Elimination\n",
    "---"
   ]
  },
  {
   "cell_type": "code",
   "execution_count": 3,
   "id": "d2fa16b5",
   "metadata": {
    "ExecuteTime": {
     "end_time": "2023-09-01T12:12:15.212169Z",
     "start_time": "2023-09-01T12:12:15.208093Z"
    }
   },
   "outputs": [],
   "source": [
    "# also uses feature importances"
   ]
  },
  {
   "cell_type": "markdown",
   "id": "d4872d07",
   "metadata": {},
   "source": [
    "Sequential Feature Selection\n",
    "---"
   ]
  },
  {
   "cell_type": "code",
   "execution_count": 2,
   "id": "2009004f",
   "metadata": {
    "ExecuteTime": {
     "end_time": "2023-09-01T12:09:46.792370Z",
     "start_time": "2023-09-01T12:09:46.788108Z"
    }
   },
   "outputs": [],
   "source": [
    "# Forward and backward\n",
    "# based on performance not feature importances"
   ]
  },
  {
   "cell_type": "markdown",
   "id": "f0024382",
   "metadata": {},
   "source": [
    "Using Heirarchical Clustering\n",
    "---"
   ]
  },
  {
   "cell_type": "code",
   "execution_count": null,
   "id": "b7205007",
   "metadata": {},
   "outputs": [],
   "source": []
  },
  {
   "cell_type": "markdown",
   "id": "27e5d729",
   "metadata": {},
   "source": [
    "Letting the Data Decide\n",
    "---"
   ]
  },
  {
   "cell_type": "code",
   "execution_count": null,
   "id": "3c5ff641",
   "metadata": {},
   "outputs": [],
   "source": [
    "# pipeline with different feature selectors inside a gridsearchCV as grid_params"
   ]
  }
 ],
 "metadata": {
  "kernelspec": {
   "display_name": "oyster-provenance",
   "language": "python",
   "name": "oyster-provenance"
  },
  "language_info": {
   "codemirror_mode": {
    "name": "ipython",
    "version": 3
   },
   "file_extension": ".py",
   "mimetype": "text/x-python",
   "name": "python",
   "nbconvert_exporter": "python",
   "pygments_lexer": "ipython3",
   "version": "3.11.4"
  }
 },
 "nbformat": 4,
 "nbformat_minor": 5
}
