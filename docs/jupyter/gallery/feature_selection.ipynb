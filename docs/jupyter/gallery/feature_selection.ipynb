{
 "cells": [
  {
   "cell_type": "markdown",
   "id": "c5a4f1d1",
   "metadata": {},
   "source": [
    "Selecting the Most Important Features\n",
    "==="
   ]
  },
  {
   "cell_type": "markdown",
   "id": "094210bf",
   "metadata": {
    "ExecuteTime": {
     "end_time": "2023-09-01T12:09:18.363262Z",
     "start_time": "2023-09-01T12:09:18.356384Z"
    }
   },
   "source": [
    "<div class=\"alert alert-block alert-info\">\n",
    "Author: Nathan A. Mahynski\n",
    "\n",
    "Date: 2023/08/31\n",
    "\n",
    "Description: Examples of different ways to select important features for modeling.\n",
    "</div>"
   ]
  },
  {
   "cell_type": "code",
   "execution_count": 4,
   "id": "fa02da84",
   "metadata": {
    "ExecuteTime": {
     "end_time": "2023-09-05T13:14:56.429762Z",
     "start_time": "2023-09-05T13:14:55.822773Z"
    }
   },
   "outputs": [],
   "source": [
    "using_colab = 'google.colab' in str(get_ipython())\n",
    "if using_colab:\n",
    "    !git clone https://github.com/mahynski/pychemauth.git --depth 1\n",
    "    !cd pychemauth; pip3 install .; cd ..\n",
    "\n",
    "try:\n",
    "    import pychemauth\n",
    "except:\n",
    "    raise ImportError(\"pychemauth not installed\")\n",
    "\n",
    "import matplotlib.pyplot as plt\n",
    "%matplotlib inline\n",
    "\n",
    "import watermark\n",
    "%load_ext watermark\n",
    "\n",
    "%load_ext autoreload\n",
    "%autoreload 2"
   ]
  },
  {
   "cell_type": "code",
   "execution_count": 5,
   "id": "04799a62",
   "metadata": {
    "ExecuteTime": {
     "end_time": "2023-09-05T13:14:57.096797Z",
     "start_time": "2023-09-05T13:14:56.433089Z"
    }
   },
   "outputs": [],
   "source": [
    "import sklearn\n",
    "import numpy as np\n",
    "import pandas as pd"
   ]
  },
  {
   "cell_type": "code",
   "execution_count": 6,
   "id": "12e611b8",
   "metadata": {
    "ExecuteTime": {
     "end_time": "2023-09-05T13:14:57.130534Z",
     "start_time": "2023-09-05T13:14:57.098968Z"
    }
   },
   "outputs": [
    {
     "name": "stdout",
     "output_type": "stream",
     "text": [
      "Python implementation: CPython\n",
      "Python version       : 3.11.4\n",
      "IPython version      : 8.14.0\n",
      "\n",
      "Compiler    : GCC 12.2.0\n",
      "OS          : Linux\n",
      "Release     : 6.2.0-26-generic\n",
      "Machine     : x86_64\n",
      "Processor   : x86_64\n",
      "CPU cores   : 40\n",
      "Architecture: 64bit\n",
      "\n",
      "watermark : 2.4.3\n",
      "pychemauth: 0.0.0b3\n",
      "numpy     : 1.24.4\n",
      "sklearn   : 1.3.0\n",
      "json      : 2.0.9\n",
      "matplotlib: 3.7.2\n",
      "pandas    : 2.0.3\n",
      "\n"
     ]
    }
   ],
   "source": [
    "%watermark -t -m -v --iversions"
   ]
  },
  {
   "cell_type": "code",
   "execution_count": null,
   "id": "7cc84429",
   "metadata": {},
   "outputs": [],
   "source": []
  },
  {
   "cell_type": "markdown",
   "id": "52343b6b",
   "metadata": {},
   "source": [
    "WE can select features to include based on model performance.  This works for both classification an regression problems since the depends ont he model (e.g. R^2 for regression or accuracy for classification)"
   ]
  },
  {
   "cell_type": "markdown",
   "id": "652aeab3",
   "metadata": {},
   "source": [
    "<h3>Load the data</h3"
   ]
  },
  {
   "cell_type": "markdown",
   "id": "9719d070",
   "metadata": {},
   "source": [
    "Load some example data downloaded from Kaggle [here]()https://www.kaggle.com/datasets/mathchi/hitters-baseball-data?select=Hitters.csv"
   ]
  },
  {
   "cell_type": "code",
   "execution_count": 25,
   "id": "a12ff0b8",
   "metadata": {
    "ExecuteTime": {
     "end_time": "2023-09-05T13:22:10.901502Z",
     "start_time": "2023-09-05T13:22:10.845340Z"
    }
   },
   "outputs": [],
   "source": [
    "# df = pd.read_csv('../data/Hitters.csv')\n",
    "\n",
    "# # Let's do a little clean up and only select the numerical columns.\n",
    "# df = df.select_dtypes(include=np.number).dropna()\n",
    "\n",
    "# from sklearn.model_selection import train_test_split\n",
    "\n",
    "# X_train, X_test, y_train, y_test = train_test_split(\n",
    "#     df.iloc[:,:-1].values,\n",
    "#     df['Salary'].values, # Let's try to predict the salary based on the other numerical features.\n",
    "#     shuffle=True,\n",
    "#     random_state=42,\n",
    "#     test_size=0.2\n",
    "# )\n",
    "\n",
    "# from pychemauth.preprocessing.scaling import CorrectedScaler\n",
    "\n",
    "# scaler = CorrectedScaler()\n",
    "# X_train = scaler.fit_transform(X_train)\n",
    "# X_test = scaler.transform(X_test)"
   ]
  },
  {
   "cell_type": "code",
   "execution_count": 108,
   "id": "9bc394d8",
   "metadata": {
    "ExecuteTime": {
     "end_time": "2023-09-05T13:42:35.601466Z",
     "start_time": "2023-09-05T13:42:35.551513Z"
    }
   },
   "outputs": [],
   "source": [
    "# from sklearn.datasets import load_diabetes as load_data\n",
    "# X, y = load_data(return_X_y=True, as_frame=True)\n",
    "\n",
    "from sklearn.datasets import load_wine as load_data\n",
    "X, y = load_data(return_X_y=True, as_frame=True)\n",
    "\n",
    "from sklearn.model_selection import train_test_split\n",
    "\n",
    "X_train, X_test, y_train, y_test = train_test_split(\n",
    "    X.values,\n",
    "    y.values, \n",
    "    shuffle=True,\n",
    "    random_state=42,\n",
    "    test_size=0.2,\n",
    "    stratify=y\n",
    ")\n",
    "\n",
    "from pychemauth.preprocessing.scaling import CorrectedScaler\n",
    "\n",
    "scaler = CorrectedScaler()\n",
    "X_train = scaler.fit_transform(X_train)\n",
    "X_test = scaler.transform(X_test)"
   ]
  },
  {
   "cell_type": "markdown",
   "id": "875740d1",
   "metadata": {},
   "source": [
    "LASSO\n",
    "--"
   ]
  },
  {
   "cell_type": "code",
   "execution_count": 100,
   "id": "81ab1e6b",
   "metadata": {
    "ExecuteTime": {
     "end_time": "2023-09-05T13:41:38.405890Z",
     "start_time": "2023-09-05T13:41:38.372693Z"
    }
   },
   "outputs": [],
   "source": [
    "# Basic L1 norm to remove features from a linear model"
   ]
  },
  {
   "cell_type": "code",
   "execution_count": 114,
   "id": "e336d203",
   "metadata": {
    "ExecuteTime": {
     "end_time": "2023-09-05T13:43:04.922782Z",
     "start_time": "2023-09-05T13:43:04.887427Z"
    }
   },
   "outputs": [],
   "source": [
    "from sklearn.linear_model import Lasso"
   ]
  },
  {
   "cell_type": "code",
   "execution_count": 115,
   "id": "21f37d64",
   "metadata": {
    "ExecuteTime": {
     "end_time": "2023-09-05T13:43:05.184467Z",
     "start_time": "2023-09-05T13:43:05.011161Z"
    }
   },
   "outputs": [],
   "source": [
    "alpha_values = np.logspace(-5, 1, 50)\n",
    "test_score, train_score = [], []\n",
    "\n",
    "for alpha in alpha_values:\n",
    "    model = Lasso(\n",
    "        alpha=alpha,\n",
    "        fit_intercept=True, \n",
    "        copy_X=True, \n",
    "        max_iter=10000, \n",
    "        tol=0.0001, \n",
    "        random_state=42, \n",
    "        selection='cyclic'\n",
    "    )\n",
    "    \n",
    "    _ = model.fit(X_train, y_train)\n",
    "    \n",
    "    test_score.append(model.score(X_test, y_test))\n",
    "    train_score.append(model.score(X_train, y_train))"
   ]
  },
  {
   "cell_type": "code",
   "execution_count": 116,
   "id": "aa9415ba",
   "metadata": {
    "ExecuteTime": {
     "end_time": "2023-09-05T13:43:05.748276Z",
     "start_time": "2023-09-05T13:43:05.186376Z"
    }
   },
   "outputs": [
    {
     "data": {
      "image/png": "[encoded data removed]",
      "text/plain": [
       "<Figure size 640x480 with 1 Axes>"
      ]
     },
     "metadata": {},
     "output_type": "display_data"
    }
   ],
   "source": [
    "plt.plot(alpha_values, test_score, 'o-', label='Test Set')\n",
    "plt.plot(alpha_values, train_score, '--', label='Train Set')\n",
    "plt.xscale('log')\n",
    "plt.ylabel('Accuracy')\n",
    "plt.xlabel(r'$\\alpha$')\n",
    "plt.legend(loc='best')\n",
    "\n",
    "best_alpha = alpha_values[np.argmax(test_score)]\n",
    "_ = plt.axvline(best_alpha, color='red')"
   ]
  },
  {
   "cell_type": "code",
   "execution_count": 117,
   "id": "0fbdc393",
   "metadata": {
    "ExecuteTime": {
     "end_time": "2023-09-05T13:43:13.886968Z",
     "start_time": "2023-09-05T13:43:13.863899Z"
    }
   },
   "outputs": [],
   "source": [
    "model = Lasso(\n",
    "    alpha=best_alpha,\n",
    "    fit_intercept=True, \n",
    "    copy_X=True, \n",
    "    max_iter=10000, \n",
    "    tol=0.0001, \n",
    "    random_state=42, \n",
    "    selection='cyclic'\n",
    ")\n",
    "    \n",
    "_ = model.fit(X_train, y_train)"
   ]
  },
  {
   "cell_type": "code",
   "execution_count": 118,
   "id": "82ad801d",
   "metadata": {
    "ExecuteTime": {
     "end_time": "2023-09-05T13:43:14.321452Z",
     "start_time": "2023-09-05T13:43:14.285918Z"
    }
   },
   "outputs": [
    {
     "data": {
      "text/plain": [
       "array([-0.02728331,  0.00235296, -0.        ,  0.09899149, -0.        ,\n",
       "        0.        , -0.3412534 , -0.        ,  0.        ,  0.10316551,\n",
       "       -0.05387134, -0.13533276, -0.20734277])"
      ]
     },
     "execution_count": 118,
     "metadata": {},
     "output_type": "execute_result"
    }
   ],
   "source": [
    "model.coef_"
   ]
  },
  {
   "cell_type": "code",
   "execution_count": 119,
   "id": "ca7c0270",
   "metadata": {
    "ExecuteTime": {
     "end_time": "2023-09-05T13:43:17.098958Z",
     "start_time": "2023-09-05T13:43:17.063175Z"
    }
   },
   "outputs": [
    {
     "data": {
      "text/plain": [
       "Index(['ash', 'magnesium', 'total_phenols', 'nonflavanoid_phenols',\n",
       "       'proanthocyanins'],\n",
       "      dtype='object')"
      ]
     },
     "execution_count": 119,
     "metadata": {},
     "output_type": "execute_result"
    }
   ],
   "source": [
    "X.columns[np.abs(model.coef_) == 0]"
   ]
  },
  {
   "cell_type": "code",
   "execution_count": 120,
   "id": "96bf4ca8",
   "metadata": {
    "ExecuteTime": {
     "end_time": "2023-09-05T13:43:17.974371Z",
     "start_time": "2023-09-05T13:43:17.938833Z"
    }
   },
   "outputs": [
    {
     "data": {
      "text/plain": [
       "Index(['alcohol', 'malic_acid', 'alcalinity_of_ash', 'flavanoids',\n",
       "       'color_intensity', 'hue', 'od280/od315_of_diluted_wines', 'proline'],\n",
       "      dtype='object')"
      ]
     },
     "execution_count": 120,
     "metadata": {},
     "output_type": "execute_result"
    }
   ],
   "source": [
    "X.columns[np.abs(model.coef_) > 0]"
   ]
  },
  {
   "cell_type": "markdown",
   "id": "48b30ef0",
   "metadata": {},
   "source": [
    "Using Feature Importances\n",
    "---"
   ]
  },
  {
   "cell_type": "code",
   "execution_count": null,
   "id": "5f59da58",
   "metadata": {},
   "outputs": [],
   "source": [
    "# selectFromModel - can be any model\n",
    "# Basic intro with use of feature importances using RF as model for importances"
   ]
  },
  {
   "cell_type": "markdown",
   "id": "feb60943",
   "metadata": {},
   "source": [
    "BorutaSHAP\n",
    "---"
   ]
  },
  {
   "cell_type": "code",
   "execution_count": null,
   "id": "ba3f06bf",
   "metadata": {},
   "outputs": [],
   "source": [
    "# All RELEVNAT feature selection method which keeps all which MIGHT be useful\n",
    "# SHAP determines feature importances now not a RF"
   ]
  },
  {
   "cell_type": "markdown",
   "id": "c7543b75",
   "metadata": {},
   "source": [
    "Recursive Feature Elimination\n",
    "---"
   ]
  },
  {
   "cell_type": "code",
   "execution_count": 3,
   "id": "d2fa16b5",
   "metadata": {
    "ExecuteTime": {
     "end_time": "2023-09-01T12:12:15.212169Z",
     "start_time": "2023-09-01T12:12:15.208093Z"
    }
   },
   "outputs": [],
   "source": [
    "# also uses feature importances"
   ]
  },
  {
   "cell_type": "markdown",
   "id": "d4872d07",
   "metadata": {},
   "source": [
    "Sequential Feature Selection\n",
    "---"
   ]
  },
  {
   "cell_type": "code",
   "execution_count": 2,
   "id": "2009004f",
   "metadata": {
    "ExecuteTime": {
     "end_time": "2023-09-01T12:09:46.792370Z",
     "start_time": "2023-09-01T12:09:46.788108Z"
    }
   },
   "outputs": [],
   "source": [
    "# Forward and backward\n",
    "# based on performance not feature importances"
   ]
  },
  {
   "cell_type": "code",
   "execution_count": 124,
   "id": "8ad70827",
   "metadata": {
    "ExecuteTime": {
     "end_time": "2023-09-05T13:45:30.442166Z",
     "start_time": "2023-09-05T13:45:30.400163Z"
    }
   },
   "outputs": [],
   "source": [
    "from sklearn.feature_selection import SequentialFeatureSelector\n",
    "from pychemauth.classifier.simca import SIMCA_Authenticator"
   ]
  },
  {
   "cell_type": "code",
   "execution_count": null,
   "id": "075af3d6",
   "metadata": {
    "ExecuteTime": {
     "start_time": "2023-09-05T15:26:04.080Z"
    }
   },
   "outputs": [],
   "source": [
    "compliant = SIMCA_Authenticator(\n",
    "    n_components=3,\n",
    "    alpha=0.05,\n",
    "    scale_x=True,\n",
    "    style='dd-simca',\n",
    "    robust=\"semi\",\n",
    "    sft=False,\n",
    "    target_class=1, # Let's model class 1\n",
    "    use='compliant' # Using a compliant approach will use the other classes provided at training time\n",
    ")"
   ]
  },
  {
   "cell_type": "code",
   "execution_count": 176,
   "id": "c300f649",
   "metadata": {
    "ExecuteTime": {
     "end_time": "2023-09-05T14:01:28.556156Z",
     "start_time": "2023-09-05T14:01:28.512148Z"
    }
   },
   "outputs": [],
   "source": [
    "sfs = SequentialFeatureSelector(\n",
    "    compliant, \n",
    "    n_features_to_select='auto', \n",
    "    tol=0.1, \n",
    "    direction='backward', \n",
    "    scoring=None, # Use estimator's score method by default - for a compliant DD-SIMCA authenticator, this is TEFF\n",
    "    cv=sklearn.model_selection.KFold(n_splits=5, random_state=0, shuffle=True), \n",
    "    n_jobs=None\n",
    ")"
   ]
  },
  {
   "cell_type": "code",
   "execution_count": 177,
   "id": "4a0f6d3d",
   "metadata": {
    "ExecuteTime": {
     "end_time": "2023-09-05T14:01:35.819432Z",
     "start_time": "2023-09-05T14:01:29.385822Z"
    }
   },
   "outputs": [
    {
     "data": {
      "text/html": [
       "<style>#sk-container-id-10 {color: black;}#sk-container-id-10 pre{padding: 0;}#sk-container-id-10 div.sk-toggleable {background-color: white;}#sk-container-id-10 label.sk-toggleable__label {cursor: pointer;display: block;width: 100%;margin-bottom: 0;padding: 0.3em;box-sizing: border-box;text-align: center;}#sk-container-id-10 label.sk-toggleable__label-arrow:before {content: \"▸\";float: left;margin-right: 0.25em;color: #696969;}#sk-container-id-10 label.sk-toggleable__label-arrow:hover:before {color: black;}#sk-container-id-10 div.sk-estimator:hover label.sk-toggleable__label-arrow:before {color: black;}#sk-container-id-10 div.sk-toggleable__content {max-height: 0;max-width: 0;overflow: hidden;text-align: left;background-color: #f0f8ff;}#sk-container-id-10 div.sk-toggleable__content pre {margin: 0.2em;color: black;border-radius: 0.25em;background-color: #f0f8ff;}#sk-container-id-10 input.sk-toggleable__control:checked~div.sk-toggleable__content {max-height: 200px;max-width: 100%;overflow: auto;}#sk-container-id-10 input.sk-toggleable__control:checked~label.sk-toggleable__label-arrow:before {content: \"▾\";}#sk-container-id-10 div.sk-estimator input.sk-toggleable__control:checked~label.sk-toggleable__label {background-color: #d4ebff;}#sk-container-id-10 div.sk-label input.sk-toggleable__control:checked~label.sk-toggleable__label {background-color: #d4ebff;}#sk-container-id-10 input.sk-hidden--visually {border: 0;clip: rect(1px 1px 1px 1px);clip: rect(1px, 1px, 1px, 1px);height: 1px;margin: -1px;overflow: hidden;padding: 0;position: absolute;width: 1px;}#sk-container-id-10 div.sk-estimator {font-family: monospace;background-color: #f0f8ff;border: 1px dotted black;border-radius: 0.25em;box-sizing: border-box;margin-bottom: 0.5em;}#sk-container-id-10 div.sk-estimator:hover {background-color: #d4ebff;}#sk-container-id-10 div.sk-parallel-item::after {content: \"\";width: 100%;border-bottom: 1px solid gray;flex-grow: 1;}#sk-container-id-10 div.sk-label:hover label.sk-toggleable__label {background-color: #d4ebff;}#sk-container-id-10 div.sk-serial::before {content: \"\";position: absolute;border-left: 1px solid gray;box-sizing: border-box;top: 0;bottom: 0;left: 50%;z-index: 0;}#sk-container-id-10 div.sk-serial {display: flex;flex-direction: column;align-items: center;background-color: white;padding-right: 0.2em;padding-left: 0.2em;position: relative;}#sk-container-id-10 div.sk-item {position: relative;z-index: 1;}#sk-container-id-10 div.sk-parallel {display: flex;align-items: stretch;justify-content: center;background-color: white;position: relative;}#sk-container-id-10 div.sk-item::before, #sk-container-id-10 div.sk-parallel-item::before {content: \"\";position: absolute;border-left: 1px solid gray;box-sizing: border-box;top: 0;bottom: 0;left: 50%;z-index: -1;}#sk-container-id-10 div.sk-parallel-item {display: flex;flex-direction: column;z-index: 1;position: relative;background-color: white;}#sk-container-id-10 div.sk-parallel-item:first-child::after {align-self: flex-end;width: 50%;}#sk-container-id-10 div.sk-parallel-item:last-child::after {align-self: flex-start;width: 50%;}#sk-container-id-10 div.sk-parallel-item:only-child::after {width: 0;}#sk-container-id-10 div.sk-dashed-wrapped {border: 1px dashed gray;margin: 0 0.4em 0.5em 0.4em;box-sizing: border-box;padding-bottom: 0.4em;background-color: white;}#sk-container-id-10 div.sk-label label {font-family: monospace;font-weight: bold;display: inline-block;line-height: 1.2em;}#sk-container-id-10 div.sk-label-container {text-align: center;}#sk-container-id-10 div.sk-container {/* jupyter's `normalize.less` sets `[hidden] { display: none; }` but bootstrap.min.css set `[hidden] { display: none !important; }` so we also need the `!important` here to be able to override the default hidden behavior on the sphinx rendered scikit-learn.org. See: https://github.com/scikit-learn/scikit-learn/issues/21755 */display: inline-block !important;position: relative;}#sk-container-id-10 div.sk-text-repr-fallback {display: none;}</style><div id=\"sk-container-id-10\" class=\"sk-top-container\"><div class=\"sk-text-repr-fallback\"><pre>SequentialFeatureSelector(cv=KFold(n_splits=5, random_state=0, shuffle=True),\n",
       "                          direction=&#x27;backward&#x27;,\n",
       "                          estimator=SIMCA_Authenticator(n_components=3,\n",
       "                                                        target_class=1,\n",
       "                                                        use=&#x27;compliant&#x27;),\n",
       "                          tol=0.1)</pre><b>In a Jupyter environment, please rerun this cell to show the HTML representation or trust the notebook. <br />On GitHub, the HTML representation is unable to render, please try loading this page with nbviewer.org.</b></div><div class=\"sk-container\" hidden><div class=\"sk-item sk-dashed-wrapped\"><div class=\"sk-label-container\"><div class=\"sk-label sk-toggleable\"><input class=\"sk-toggleable__control sk-hidden--visually\" id=\"sk-estimator-id-24\" type=\"checkbox\" ><label for=\"sk-estimator-id-24\" class=\"sk-toggleable__label sk-toggleable__label-arrow\">SequentialFeatureSelector</label><div class=\"sk-toggleable__content\"><pre>SequentialFeatureSelector(cv=KFold(n_splits=5, random_state=0, shuffle=True),\n",
       "                          direction=&#x27;backward&#x27;,\n",
       "                          estimator=SIMCA_Authenticator(n_components=3,\n",
       "                                                        target_class=1,\n",
       "                                                        use=&#x27;compliant&#x27;),\n",
       "                          tol=0.1)</pre></div></div></div><div class=\"sk-parallel\"><div class=\"sk-parallel-item\"><div class=\"sk-item\"><div class=\"sk-label-container\"><div class=\"sk-label sk-toggleable\"><input class=\"sk-toggleable__control sk-hidden--visually\" id=\"sk-estimator-id-25\" type=\"checkbox\" ><label for=\"sk-estimator-id-25\" class=\"sk-toggleable__label sk-toggleable__label-arrow\">estimator: SIMCA_Authenticator</label><div class=\"sk-toggleable__content\"><pre>SIMCA_Authenticator(n_components=3, target_class=1, use=&#x27;compliant&#x27;)</pre></div></div></div><div class=\"sk-serial\"><div class=\"sk-item\"><div class=\"sk-estimator sk-toggleable\"><input class=\"sk-toggleable__control sk-hidden--visually\" id=\"sk-estimator-id-26\" type=\"checkbox\" ><label for=\"sk-estimator-id-26\" class=\"sk-toggleable__label sk-toggleable__label-arrow\">SIMCA_Authenticator</label><div class=\"sk-toggleable__content\"><pre>SIMCA_Authenticator(n_components=3, target_class=1, use=&#x27;compliant&#x27;)</pre></div></div></div></div></div></div></div></div></div></div>"
      ],
      "text/plain": [
       "SequentialFeatureSelector(cv=KFold(n_splits=5, random_state=0, shuffle=True),\n",
       "                          direction='backward',\n",
       "                          estimator=SIMCA_Authenticator(n_components=3,\n",
       "                                                        target_class=1,\n",
       "                                                        use='compliant'),\n",
       "                          tol=0.1)"
      ]
     },
     "execution_count": 177,
     "metadata": {},
     "output_type": "execute_result"
    }
   ],
   "source": [
    "sfs.fit(X_train, y_train)"
   ]
  },
  {
   "cell_type": "code",
   "execution_count": 178,
   "id": "f3f60500",
   "metadata": {
    "ExecuteTime": {
     "end_time": "2023-09-05T14:01:37.287624Z",
     "start_time": "2023-09-05T14:01:37.261692Z"
    }
   },
   "outputs": [
    {
     "data": {
      "text/plain": [
       "array(['x0', 'x1', 'x2', 'x3', 'x5', 'x6', 'x7', 'x8', 'x9', 'x10', 'x11',\n",
       "       'x12'], dtype=object)"
      ]
     },
     "execution_count": 178,
     "metadata": {},
     "output_type": "execute_result"
    }
   ],
   "source": [
    "sfs.get_feature_names_out()"
   ]
  },
  {
   "cell_type": "code",
   "execution_count": 179,
   "id": "4772f570",
   "metadata": {
    "ExecuteTime": {
     "end_time": "2023-09-05T14:01:37.954055Z",
     "start_time": "2023-09-05T14:01:37.914198Z"
    }
   },
   "outputs": [
    {
     "data": {
      "text/plain": [
       "Index(['magnesium'], dtype='object')"
      ]
     },
     "execution_count": 179,
     "metadata": {},
     "output_type": "execute_result"
    }
   ],
   "source": [
    "X.columns[~sfs.support_]"
   ]
  },
  {
   "cell_type": "code",
   "execution_count": null,
   "id": "a82862c3",
   "metadata": {},
   "outputs": [],
   "source": []
  },
  {
   "cell_type": "code",
   "execution_count": null,
   "id": "efb23c64",
   "metadata": {},
   "outputs": [],
   "source": []
  },
  {
   "cell_type": "code",
   "execution_count": null,
   "id": "a42d0921",
   "metadata": {},
   "outputs": [],
   "source": []
  },
  {
   "cell_type": "code",
   "execution_count": null,
   "id": "5bbbc6a5",
   "metadata": {},
   "outputs": [],
   "source": [
    "# forward has problems with small number of components - should add feature to SIMCA that suppresses certain errros"
   ]
  },
  {
   "cell_type": "code",
   "execution_count": null,
   "id": "378a365d",
   "metadata": {},
   "outputs": [],
   "source": []
  },
  {
   "cell_type": "markdown",
   "id": "f0024382",
   "metadata": {},
   "source": [
    "Using Heirarchical Clustering\n",
    "---"
   ]
  },
  {
   "cell_type": "code",
   "execution_count": null,
   "id": "b7205007",
   "metadata": {},
   "outputs": [],
   "source": []
  },
  {
   "cell_type": "markdown",
   "id": "27e5d729",
   "metadata": {},
   "source": [
    "Letting the Data Decide\n",
    "---"
   ]
  },
  {
   "cell_type": "code",
   "execution_count": null,
   "id": "3c5ff641",
   "metadata": {},
   "outputs": [],
   "source": [
    "# pipeline with different feature selectors inside a gridsearchCV as grid_params"
   ]
  }
 ],
 "metadata": {
  "kernelspec": {
   "display_name": "oyster-provenance",
   "language": "python",
   "name": "oyster-provenance"
  },
  "language_info": {
   "codemirror_mode": {
    "name": "ipython",
    "version": 3
   },
   "file_extension": ".py",
   "mimetype": "text/x-python",
   "name": "python",
   "nbconvert_exporter": "python",
   "pygments_lexer": "ipython3",
   "version": "3.11.4"
  }
 },
 "nbformat": 4,
 "nbformat_minor": 5
}
