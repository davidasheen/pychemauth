{
 "cells": [
  {
   "cell_type": "markdown",
   "id": "c5a4f1d1",
   "metadata": {},
   "source": [
    "Selecting the Most Important Features\n",
    "==="
   ]
  },
  {
   "cell_type": "markdown",
   "id": "094210bf",
   "metadata": {
    "ExecuteTime": {
     "end_time": "2023-09-01T12:09:18.363262Z",
     "start_time": "2023-09-01T12:09:18.356384Z"
    }
   },
   "source": [
    "<div class=\"alert alert-block alert-info\">\n",
    "Author: Nathan A. Mahynski\n",
    "\n",
    "Date: 2023/08/31\n",
    "\n",
    "Description: Examples of different ways to select important features for modeling.\n",
    "</div>"
   ]
  },
  {
   "cell_type": "code",
   "execution_count": 1,
   "id": "fa02da84",
   "metadata": {
    "ExecuteTime": {
     "end_time": "2023-09-05T19:30:40.490654Z",
     "start_time": "2023-09-05T19:30:40.010361Z"
    }
   },
   "outputs": [],
   "source": [
    "using_colab = 'google.colab' in str(get_ipython())\n",
    "if using_colab:\n",
    "    !git clone https://github.com/mahynski/pychemauth.git --depth 1\n",
    "    !cd pychemauth; pip3 install .; cd ..\n",
    "\n",
    "try:\n",
    "    import pychemauth\n",
    "except:\n",
    "    raise ImportError(\"pychemauth not installed\")\n",
    "\n",
    "import matplotlib.pyplot as plt\n",
    "%matplotlib inline\n",
    "\n",
    "import watermark\n",
    "%load_ext watermark\n",
    "\n",
    "%load_ext autoreload\n",
    "%autoreload 2"
   ]
  },
  {
   "cell_type": "code",
   "execution_count": 2,
   "id": "04799a62",
   "metadata": {
    "ExecuteTime": {
     "end_time": "2023-09-05T19:30:40.997319Z",
     "start_time": "2023-09-05T19:30:40.493198Z"
    }
   },
   "outputs": [],
   "source": [
    "import sklearn\n",
    "import numpy as np\n",
    "import pandas as pd"
   ]
  },
  {
   "cell_type": "code",
   "execution_count": 3,
   "id": "f87600bf",
   "metadata": {
    "ExecuteTime": {
     "end_time": "2023-09-05T19:30:41.022949Z",
     "start_time": "2023-09-05T19:30:40.999385Z"
    }
   },
   "outputs": [
    {
     "name": "stdout",
     "output_type": "stream",
     "text": [
      "Python implementation: CPython\n",
      "Python version       : 3.11.4\n",
      "IPython version      : 8.14.0\n",
      "\n",
      "Compiler    : GCC 12.2.0\n",
      "OS          : Linux\n",
      "Release     : 6.2.0-26-generic\n",
      "Machine     : x86_64\n",
      "Processor   : x86_64\n",
      "CPU cores   : 40\n",
      "Architecture: 64bit\n",
      "\n",
      "sklearn   : 1.3.0\n",
      "json      : 2.0.9\n",
      "numpy     : 1.24.4\n",
      "watermark : 2.4.3\n",
      "pandas    : 2.0.3\n",
      "pychemauth: 0.0.0b3\n",
      "matplotlib: 3.7.2\n",
      "\n"
     ]
    }
   ],
   "source": [
    "%watermark -t -m -v --iversions"
   ]
  },
  {
   "cell_type": "markdown",
   "id": "ca18a3ea",
   "metadata": {},
   "source": [
    "<div class=\"alert alert-block alert-info\"> \n",
    "One way to select relevant features is based on statistical correlation or mutual information between the X column and the target y.  <a href=\"https://scikit-learn.org/stable/modules/classes.html#module-sklearn.feature_selection\">scikit-learn has a number of tools for this</a>; certain models, like random forests, have feature importances that can be used to remove features which are considered important for a model. However, a more direct way is simply to test which variables actually improve the performance of the final model.  All this requires a model which returns some score (e.g., R^2 for regression or accuracy for classification).\n",
    "</div>\n",
    "\n",
    "Here, we will explore how to use the latter inside pipelines, enabling automatic feature selection with various strategies."
   ]
  },
  {
   "cell_type": "markdown",
   "id": "1545093a",
   "metadata": {},
   "source": [
    "<h3>Load the data</h3"
   ]
  },
  {
   "cell_type": "markdown",
   "id": "988fa752",
   "metadata": {},
   "source": [
    "Load some example data downloaded from Kaggle [here]()https://www.kaggle.com/datasets/mathchi/hitters-baseball-data?select=Hitters.csv"
   ]
  },
  {
   "cell_type": "code",
   "execution_count": 4,
   "id": "b17ccec5",
   "metadata": {
    "ExecuteTime": {
     "end_time": "2023-09-05T19:30:42.592104Z",
     "start_time": "2023-09-05T19:30:42.564284Z"
    }
   },
   "outputs": [],
   "source": [
    "# df = pd.read_csv('../data/Hitters.csv')\n",
    "\n",
    "# # Let's do a little clean up and only select the numerical columns.\n",
    "# df = df.select_dtypes(include=np.number).dropna()\n",
    "\n",
    "# from sklearn.model_selection import train_test_split\n",
    "\n",
    "# X_train, X_test, y_train, y_test = train_test_split(\n",
    "#     df.iloc[:,:-1].values,\n",
    "#     df['Salary'].values, # Let's try to predict the salary based on the other numerical features.\n",
    "#     shuffle=True,\n",
    "#     random_state=42,\n",
    "#     test_size=0.2\n",
    "# )\n",
    "\n",
    "# from pychemauth.preprocessing.scaling import CorrectedScaler\n",
    "\n",
    "# scaler = CorrectedScaler()\n",
    "# X_train = scaler.fit_transform(X_train)\n",
    "# X_test = scaler.transform(X_test)"
   ]
  },
  {
   "cell_type": "code",
   "execution_count": 5,
   "id": "7ee675c3",
   "metadata": {
    "ExecuteTime": {
     "end_time": "2023-09-05T19:30:43.217469Z",
     "start_time": "2023-09-05T19:30:43.073168Z"
    }
   },
   "outputs": [],
   "source": [
    "from sklearn.datasets import load_wine as load_data\n",
    "X, y = load_data(return_X_y=True, as_frame=True)\n",
    "\n",
    "from sklearn.model_selection import train_test_split\n",
    "\n",
    "X_train, X_test, y_train, y_test = train_test_split(\n",
    "    X.values,\n",
    "    y.values, \n",
    "    shuffle=True,\n",
    "    random_state=42,\n",
    "    test_size=0.2,\n",
    "    stratify=y\n",
    ")\n",
    "\n",
    "from pychemauth.preprocessing.scaling import CorrectedScaler\n",
    "\n",
    "scaler = CorrectedScaler()\n",
    "X_train = scaler.fit_transform(X_train)\n",
    "X_test = scaler.transform(X_test)"
   ]
  },
  {
   "cell_type": "markdown",
   "id": "875740d1",
   "metadata": {},
   "source": [
    "LASSO\n",
    "--"
   ]
  },
  {
   "cell_type": "markdown",
   "id": "be59f1d9",
   "metadata": {},
   "source": [
    "As a baseline, let's build a simple linear regression model with an <a href=\"https://scikit-learn.org/stable/modules/generated/sklearn.linear_model.Lasso.html\">L1 (LASSO)</a> penalty.  These models have sparse solutions meaning that features which do not contribute significantly to the model have their coefficients set to zero, eliminating them.\n",
    "\n",
    "This is meant for regression tasks not classification (which are doing here), but for illustration we can try to regress the class which is encoded as an integer."
   ]
  },
  {
   "cell_type": "code",
   "execution_count": 114,
   "id": "2c658958",
   "metadata": {
    "ExecuteTime": {
     "end_time": "2023-09-05T13:43:04.922782Z",
     "start_time": "2023-09-05T13:43:04.887427Z"
    }
   },
   "outputs": [],
   "source": [
    "from sklearn.linear_model import Lasso"
   ]
  },
  {
   "cell_type": "code",
   "execution_count": 274,
   "id": "361eb611",
   "metadata": {
    "ExecuteTime": {
     "end_time": "2023-09-05T16:47:02.240582Z",
     "start_time": "2023-09-05T16:47:01.510207Z"
    }
   },
   "outputs": [
    {
     "data": {
      "image/png": "[encoded data removed]",
      "text/plain": [
       "<Figure size 640x480 with 1 Axes>"
      ]
     },
     "metadata": {},
     "output_type": "display_data"
    }
   ],
   "source": [
    "# When alpha = 0 we have a simple linear regression case.  Otherwise, this multiplies the L1 penalty.\n",
    "alpha_values = np.logspace(-5, 1, 50)\n",
    "test_score, train_score = [], []\n",
    "\n",
    "for alpha in alpha_values:\n",
    "    model = Lasso(\n",
    "        alpha=alpha,\n",
    "        fit_intercept=True, \n",
    "        copy_X=True, \n",
    "        max_iter=10000, \n",
    "        tol=0.0001, \n",
    "        random_state=42, \n",
    "        selection='cyclic'\n",
    "    )\n",
    "    \n",
    "    _ = model.fit(X_train, y_train)\n",
    "    \n",
    "    test_score.append(model.score(X_test, y_test))\n",
    "    train_score.append(model.score(X_train, y_train))\n",
    "    \n",
    "plt.plot(alpha_values, test_score, 'o-', label='Test Set')\n",
    "plt.plot(alpha_values, train_score, '--', label='Train Set')\n",
    "plt.xscale('log')\n",
    "plt.ylabel('Accuracy')\n",
    "plt.xlabel(r'$\\alpha$')\n",
    "plt.legend(loc='best')\n",
    "\n",
    "best_alpha = alpha_values[np.argmax(test_score)]\n",
    "_ = plt.axvline(best_alpha, color='red')"
   ]
  },
  {
   "cell_type": "markdown",
   "id": "9c5c2b0e",
   "metadata": {},
   "source": [
    "The best alpha value is based on the test set performance boost.  When alpha approaches 0 all features are kept. Here we can see that eliminating variables starts to lead to an increase in model performance, then a decay as too many are eliminated.  The best alpha leads to the peak."
   ]
  },
  {
   "cell_type": "code",
   "execution_count": 275,
   "id": "4ba01403",
   "metadata": {
    "ExecuteTime": {
     "end_time": "2023-09-05T16:49:11.224358Z",
     "start_time": "2023-09-05T16:49:11.194555Z"
    }
   },
   "outputs": [],
   "source": [
    "model = Lasso(\n",
    "    alpha=best_alpha,\n",
    "    fit_intercept=True, \n",
    "    copy_X=True, \n",
    "    max_iter=10000, \n",
    "    tol=0.0001, \n",
    "    random_state=42, \n",
    "    selection='cyclic'\n",
    ")\n",
    "    \n",
    "_ = model.fit(X_train, y_train)"
   ]
  },
  {
   "cell_type": "code",
   "execution_count": 280,
   "id": "dce3bce8",
   "metadata": {
    "ExecuteTime": {
     "end_time": "2023-09-05T16:50:54.336805Z",
     "start_time": "2023-09-05T16:50:54.294332Z"
    }
   },
   "outputs": [
    {
     "name": "stdout",
     "output_type": "stream",
     "text": [
      "Coef. \t Feature Name\n",
      "-----------------------\n",
      "-0.341 \t flavanoids\n",
      "-0.207 \t proline\n",
      "-0.135 \t od280/od315_of_diluted_wines\n",
      "0.103 \t color_intensity\n",
      "0.099 \t alcalinity_of_ash\n",
      "-0.054 \t hue\n",
      "-0.027 \t alcohol\n",
      "0.002 \t malic_acid\n",
      "-0.000 \t ash\n",
      "-0.000 \t magnesium\n",
      "0.000 \t total_phenols\n",
      "-0.000 \t nonflavanoid_phenols\n",
      "0.000 \t proanthocyanins\n"
     ]
    }
   ],
   "source": [
    "# The coefficients non-zero values have been removed from the model\n",
    "print('Coef. \\t Feature Name\\n-----------------------')\n",
    "for feature, coef_ in sorted(zip(X.columns, model.coef_), key=lambda x:np.abs(x[1]), reverse=True):\n",
    "    print('{} \\t {}'.format('%.3f'%coef_, feature))"
   ]
  },
  {
   "cell_type": "code",
   "execution_count": 313,
   "id": "e7b5091f",
   "metadata": {
    "ExecuteTime": {
     "end_time": "2023-09-05T17:02:14.209257Z",
     "start_time": "2023-09-05T17:02:14.163083Z"
    }
   },
   "outputs": [
    {
     "data": {
      "text/plain": [
       "Index(['alcohol', 'malic_acid', 'alcalinity_of_ash', 'flavanoids',\n",
       "       'color_intensity', 'hue', 'od280/od315_of_diluted_wines', 'proline'],\n",
       "      dtype='object')"
      ]
     },
     "execution_count": 313,
     "metadata": {},
     "output_type": "execute_result"
    }
   ],
   "source": [
    "X.columns[np.abs(model.coef_) > 0]"
   ]
  },
  {
   "cell_type": "code",
   "execution_count": 305,
   "id": "9b6df093",
   "metadata": {
    "ExecuteTime": {
     "end_time": "2023-09-05T16:58:57.148131Z",
     "start_time": "2023-09-05T16:58:57.105653Z"
    }
   },
   "outputs": [
    {
     "name": "stdout",
     "output_type": "stream",
     "text": [
      "Manual calculation : 0.3733523566907989\n",
      "Model prediction: 0.3733523566907989\n"
     ]
    }
   ],
   "source": [
    "# We can predict a point by using these coefficients\n",
    "x_sample = X_train[0]\n",
    "\n",
    "print(\"Manual calculation : {}\\nModel prediction: {}\".format(\n",
    "    model.intercept_ + np.dot(x_sample, model.coef_),\n",
    "    model.predict([x_sample])[0]\n",
    "))\n"
   ]
  },
  {
   "cell_type": "code",
   "execution_count": 312,
   "id": "8347673c",
   "metadata": {
    "ExecuteTime": {
     "end_time": "2023-09-05T17:01:29.017414Z",
     "start_time": "2023-09-05T17:01:28.975394Z"
    }
   },
   "outputs": [
    {
     "name": "stdout",
     "output_type": "stream",
     "text": [
      "Train set accuracy = 95.8%\n",
      "Test set accuracy = 86.1%\n"
     ]
    }
   ],
   "source": [
    "print(\"Train set accuracy = {}%\\nTest set accuracy = {}%\".format(\n",
    "    '%.1f'%(100*np.sum(\n",
    "        np.abs(np.round(model.predict(X_train))) == y_train\n",
    "    ) / X_train.shape[0]),\n",
    "    '%.1f'%(100*np.sum(\n",
    "        np.abs(np.round(model.predict(X_test))) == y_test\n",
    "    ) / X_test.shape[0])\n",
    "))"
   ]
  },
  {
   "cell_type": "markdown",
   "id": "feb60943",
   "metadata": {},
   "source": [
    "BorutaSHAP\n",
    "---"
   ]
  },
  {
   "cell_type": "code",
   "execution_count": null,
   "id": "ba3f06bf",
   "metadata": {},
   "outputs": [],
   "source": [
    "# All RELEVNAT feature selection method which keeps all which MIGHT be useful\n",
    "# SHAP determines feature importances now not a RF"
   ]
  },
  {
   "cell_type": "markdown",
   "id": "d4872d07",
   "metadata": {},
   "source": [
    "Sequential Feature Selection\n",
    "---"
   ]
  },
  {
   "cell_type": "markdown",
   "id": "cf6bf33f",
   "metadata": {},
   "source": [
    "<a href=\"https://scikit-learn.org/stable/modules/generated/sklearn.feature_selection.SequentialFeatureSelector.html#sklearn.feature_selection.SequentialFeatureSelector\">Sequential feature selection</a> adds or removes features 1 at a time (\"greedy\" method) and stops after some criteria has been met.  Below, we specify that the addition or removal must incrementally improve (forward) the model's score by a certain tolerance, or not decrement the model's score by a certain threshold (backward) when a feature is added or removed, respectively.  The specific feature that is added or removed is determined by cross-validation.\n",
    "\n",
    "In general, forward and backward methods do NOT yield the same result.  Generally, forward selection leads to a smaller subset of features than backward selection, since the former starts from one feature while the latter starts from all features being present.\n",
    "\n",
    "Let's build a DD-SIMCA authenticator using SFS to determine which features to use."
   ]
  },
  {
   "cell_type": "code",
   "execution_count": 6,
   "id": "112265cd",
   "metadata": {
    "ExecuteTime": {
     "end_time": "2023-09-05T19:30:49.470954Z",
     "start_time": "2023-09-05T19:30:48.890756Z"
    }
   },
   "outputs": [],
   "source": [
    "from sklearn.feature_selection import SequentialFeatureSelector\n",
    "from pychemauth.classifier.simca import SIMCA_Authenticator"
   ]
  },
  {
   "cell_type": "code",
   "execution_count": 7,
   "id": "caea8c92",
   "metadata": {
    "ExecuteTime": {
     "end_time": "2023-09-05T19:30:49.493994Z",
     "start_time": "2023-09-05T19:30:49.473747Z"
    }
   },
   "outputs": [],
   "source": [
    "compliant = SIMCA_Authenticator(\n",
    "    n_components=1,\n",
    "    alpha=0.05,\n",
    "    scale_x=True,\n",
    "    style='dd-simca',\n",
    "    robust=\"semi\",\n",
    "    sft=False,\n",
    "    target_class=1, # Let's model class 1\n",
    "    use='compliant' # Using a compliant approach will use the other classes provided at training time\n",
    ")"
   ]
  },
  {
   "cell_type": "code",
   "execution_count": 8,
   "id": "722cf357",
   "metadata": {
    "ExecuteTime": {
     "end_time": "2023-09-05T19:30:49.514140Z",
     "start_time": "2023-09-05T19:30:49.495652Z"
    }
   },
   "outputs": [],
   "source": [
    "# tol is an incremental amount, it does not reflect the total difference from the start (presumably the best)"
   ]
  },
  {
   "cell_type": "code",
   "execution_count": 9,
   "id": "e13d0c06",
   "metadata": {
    "ExecuteTime": {
     "end_time": "2023-09-05T19:30:49.576812Z",
     "start_time": "2023-09-05T19:30:49.516306Z"
    }
   },
   "outputs": [],
   "source": [
    "sfs_backward = SequentialFeatureSelector(\n",
    "    compliant, \n",
    "    n_features_to_select='auto', \n",
    "    tol=-0.01, # Keep removing until the score falls by this much after 1 round of removal\n",
    "    direction='backward', \n",
    "    scoring=None, # Use estimator's score method by default - for a compliant DD-SIMCA authenticator, this is TEFF\n",
    "    cv=sklearn.model_selection.KFold(n_splits=5, random_state=0, shuffle=True), \n",
    "    n_jobs=None\n",
    ")"
   ]
  },
  {
   "cell_type": "code",
   "execution_count": 10,
   "id": "f69619a3",
   "metadata": {
    "ExecuteTime": {
     "end_time": "2023-09-05T19:31:08.307038Z",
     "start_time": "2023-09-05T19:30:49.983147Z"
    }
   },
   "outputs": [
    {
     "data": {
      "text/html": [
       "<style>#sk-container-id-1 {color: black;}#sk-container-id-1 pre{padding: 0;}#sk-container-id-1 div.sk-toggleable {background-color: white;}#sk-container-id-1 label.sk-toggleable__label {cursor: pointer;display: block;width: 100%;margin-bottom: 0;padding: 0.3em;box-sizing: border-box;text-align: center;}#sk-container-id-1 label.sk-toggleable__label-arrow:before {content: \"▸\";float: left;margin-right: 0.25em;color: #696969;}#sk-container-id-1 label.sk-toggleable__label-arrow:hover:before {color: black;}#sk-container-id-1 div.sk-estimator:hover label.sk-toggleable__label-arrow:before {color: black;}#sk-container-id-1 div.sk-toggleable__content {max-height: 0;max-width: 0;overflow: hidden;text-align: left;background-color: #f0f8ff;}#sk-container-id-1 div.sk-toggleable__content pre {margin: 0.2em;color: black;border-radius: 0.25em;background-color: #f0f8ff;}#sk-container-id-1 input.sk-toggleable__control:checked~div.sk-toggleable__content {max-height: 200px;max-width: 100%;overflow: auto;}#sk-container-id-1 input.sk-toggleable__control:checked~label.sk-toggleable__label-arrow:before {content: \"▾\";}#sk-container-id-1 div.sk-estimator input.sk-toggleable__control:checked~label.sk-toggleable__label {background-color: #d4ebff;}#sk-container-id-1 div.sk-label input.sk-toggleable__control:checked~label.sk-toggleable__label {background-color: #d4ebff;}#sk-container-id-1 input.sk-hidden--visually {border: 0;clip: rect(1px 1px 1px 1px);clip: rect(1px, 1px, 1px, 1px);height: 1px;margin: -1px;overflow: hidden;padding: 0;position: absolute;width: 1px;}#sk-container-id-1 div.sk-estimator {font-family: monospace;background-color: #f0f8ff;border: 1px dotted black;border-radius: 0.25em;box-sizing: border-box;margin-bottom: 0.5em;}#sk-container-id-1 div.sk-estimator:hover {background-color: #d4ebff;}#sk-container-id-1 div.sk-parallel-item::after {content: \"\";width: 100%;border-bottom: 1px solid gray;flex-grow: 1;}#sk-container-id-1 div.sk-label:hover label.sk-toggleable__label {background-color: #d4ebff;}#sk-container-id-1 div.sk-serial::before {content: \"\";position: absolute;border-left: 1px solid gray;box-sizing: border-box;top: 0;bottom: 0;left: 50%;z-index: 0;}#sk-container-id-1 div.sk-serial {display: flex;flex-direction: column;align-items: center;background-color: white;padding-right: 0.2em;padding-left: 0.2em;position: relative;}#sk-container-id-1 div.sk-item {position: relative;z-index: 1;}#sk-container-id-1 div.sk-parallel {display: flex;align-items: stretch;justify-content: center;background-color: white;position: relative;}#sk-container-id-1 div.sk-item::before, #sk-container-id-1 div.sk-parallel-item::before {content: \"\";position: absolute;border-left: 1px solid gray;box-sizing: border-box;top: 0;bottom: 0;left: 50%;z-index: -1;}#sk-container-id-1 div.sk-parallel-item {display: flex;flex-direction: column;z-index: 1;position: relative;background-color: white;}#sk-container-id-1 div.sk-parallel-item:first-child::after {align-self: flex-end;width: 50%;}#sk-container-id-1 div.sk-parallel-item:last-child::after {align-self: flex-start;width: 50%;}#sk-container-id-1 div.sk-parallel-item:only-child::after {width: 0;}#sk-container-id-1 div.sk-dashed-wrapped {border: 1px dashed gray;margin: 0 0.4em 0.5em 0.4em;box-sizing: border-box;padding-bottom: 0.4em;background-color: white;}#sk-container-id-1 div.sk-label label {font-family: monospace;font-weight: bold;display: inline-block;line-height: 1.2em;}#sk-container-id-1 div.sk-label-container {text-align: center;}#sk-container-id-1 div.sk-container {/* jupyter's `normalize.less` sets `[hidden] { display: none; }` but bootstrap.min.css set `[hidden] { display: none !important; }` so we also need the `!important` here to be able to override the default hidden behavior on the sphinx rendered scikit-learn.org. See: https://github.com/scikit-learn/scikit-learn/issues/21755 */display: inline-block !important;position: relative;}#sk-container-id-1 div.sk-text-repr-fallback {display: none;}</style><div id=\"sk-container-id-1\" class=\"sk-top-container\"><div class=\"sk-text-repr-fallback\"><pre>SequentialFeatureSelector(cv=KFold(n_splits=5, random_state=0, shuffle=True),\n",
       "                          direction=&#x27;backward&#x27;,\n",
       "                          estimator=SIMCA_Authenticator(target_class=1,\n",
       "                                                        use=&#x27;compliant&#x27;),\n",
       "                          tol=-0.01)</pre><b>In a Jupyter environment, please rerun this cell to show the HTML representation or trust the notebook. <br />On GitHub, the HTML representation is unable to render, please try loading this page with nbviewer.org.</b></div><div class=\"sk-container\" hidden><div class=\"sk-item sk-dashed-wrapped\"><div class=\"sk-label-container\"><div class=\"sk-label sk-toggleable\"><input class=\"sk-toggleable__control sk-hidden--visually\" id=\"sk-estimator-id-1\" type=\"checkbox\" ><label for=\"sk-estimator-id-1\" class=\"sk-toggleable__label sk-toggleable__label-arrow\">SequentialFeatureSelector</label><div class=\"sk-toggleable__content\"><pre>SequentialFeatureSelector(cv=KFold(n_splits=5, random_state=0, shuffle=True),\n",
       "                          direction=&#x27;backward&#x27;,\n",
       "                          estimator=SIMCA_Authenticator(target_class=1,\n",
       "                                                        use=&#x27;compliant&#x27;),\n",
       "                          tol=-0.01)</pre></div></div></div><div class=\"sk-parallel\"><div class=\"sk-parallel-item\"><div class=\"sk-item\"><div class=\"sk-label-container\"><div class=\"sk-label sk-toggleable\"><input class=\"sk-toggleable__control sk-hidden--visually\" id=\"sk-estimator-id-2\" type=\"checkbox\" ><label for=\"sk-estimator-id-2\" class=\"sk-toggleable__label sk-toggleable__label-arrow\">estimator: SIMCA_Authenticator</label><div class=\"sk-toggleable__content\"><pre>SIMCA_Authenticator(target_class=1, use=&#x27;compliant&#x27;)</pre></div></div></div><div class=\"sk-serial\"><div class=\"sk-item\"><div class=\"sk-estimator sk-toggleable\"><input class=\"sk-toggleable__control sk-hidden--visually\" id=\"sk-estimator-id-3\" type=\"checkbox\" ><label for=\"sk-estimator-id-3\" class=\"sk-toggleable__label sk-toggleable__label-arrow\">SIMCA_Authenticator</label><div class=\"sk-toggleable__content\"><pre>SIMCA_Authenticator(target_class=1, use=&#x27;compliant&#x27;)</pre></div></div></div></div></div></div></div></div></div></div>"
      ],
      "text/plain": [
       "SequentialFeatureSelector(cv=KFold(n_splits=5, random_state=0, shuffle=True),\n",
       "                          direction='backward',\n",
       "                          estimator=SIMCA_Authenticator(target_class=1,\n",
       "                                                        use='compliant'),\n",
       "                          tol=-0.01)"
      ]
     },
     "execution_count": 10,
     "metadata": {},
     "output_type": "execute_result"
    }
   ],
   "source": [
    "sfs_backward.fit(X_train, y_train)"
   ]
  },
  {
   "cell_type": "code",
   "execution_count": 322,
   "id": "3931ca34",
   "metadata": {
    "ExecuteTime": {
     "end_time": "2023-09-05T17:15:35.038429Z",
     "start_time": "2023-09-05T17:15:35.009098Z"
    }
   },
   "outputs": [
    {
     "data": {
      "text/plain": [
       "array(['ash', 'flavanoids', 'color_intensity',\n",
       "       'od280/od315_of_diluted_wines', 'proline'], dtype=object)"
      ]
     },
     "execution_count": 322,
     "metadata": {},
     "output_type": "execute_result"
    }
   ],
   "source": [
    "# Which features have been kept?\n",
    "sfs_backward.get_feature_names_out(X.columns)"
   ]
  },
  {
   "cell_type": "code",
   "execution_count": 323,
   "id": "18d67548",
   "metadata": {
    "ExecuteTime": {
     "end_time": "2023-09-05T17:15:43.602639Z",
     "start_time": "2023-09-05T17:15:43.569044Z"
    }
   },
   "outputs": [
    {
     "data": {
      "text/plain": [
       "Index(['alcohol', 'malic_acid', 'alcalinity_of_ash', 'magnesium',\n",
       "       'total_phenols', 'nonflavanoid_phenols', 'proanthocyanins', 'hue'],\n",
       "      dtype='object')"
      ]
     },
     "execution_count": 323,
     "metadata": {},
     "output_type": "execute_result"
    }
   ],
   "source": [
    "# Which features were removed?\n",
    "X.columns[~sfs_backward.support_]"
   ]
  },
  {
   "cell_type": "code",
   "execution_count": 324,
   "id": "1a787efa",
   "metadata": {
    "ExecuteTime": {
     "end_time": "2023-09-05T17:15:45.581890Z",
     "start_time": "2023-09-05T17:15:45.539335Z"
    }
   },
   "outputs": [
    {
     "data": {
      "text/plain": [
       "array([[ 1.77040124,  0.72970907, -0.16687654,  0.2520161 ,  0.46607491],\n",
       "       [ 1.24875345,  1.32847887,  0.30422622,  0.15051529,  1.80936289],\n",
       "       [ 0.95066899,  1.00283214, -0.08122149,  0.89002121,  1.51085445],\n",
       "       [ 0.1681973 ,  0.81374694,  0.2613987 ,  0.42601749,  1.9254495 ],\n",
       "       [ 0.05641563, -1.2871997 ,  1.46913485, -1.42999736, -0.29677999]])"
      ]
     },
     "execution_count": 324,
     "metadata": {},
     "output_type": "execute_result"
    }
   ],
   "source": [
    "# The SFS behaves as an sklearn estimator and implements a transform() which selects the relevant columns of X\n",
    "sfs_backward.transform(X_train)[:5]"
   ]
  },
  {
   "cell_type": "code",
   "execution_count": 325,
   "id": "4b3712ea",
   "metadata": {
    "ExecuteTime": {
     "end_time": "2023-09-05T17:15:52.495755Z",
     "start_time": "2023-09-05T17:15:52.455885Z"
    }
   },
   "outputs": [],
   "source": [
    "# Let's compare this to a forward selection scheme\n",
    "sfs_forward = SequentialFeatureSelector(\n",
    "    compliant, \n",
    "    n_features_to_select='auto', \n",
    "    tol=0.01, \n",
    "    direction='forward', \n",
    "    scoring=None, # Use estimator's score method by default - for a compliant DD-SIMCA authenticator, this is TEFF\n",
    "    cv=sklearn.model_selection.KFold(n_splits=5, random_state=0, shuffle=True), \n",
    "    n_jobs=None\n",
    ")"
   ]
  },
  {
   "cell_type": "code",
   "execution_count": 333,
   "id": "b070f9c8",
   "metadata": {
    "ExecuteTime": {
     "end_time": "2023-09-05T17:19:22.481345Z",
     "start_time": "2023-09-05T17:19:10.651034Z"
    }
   },
   "outputs": [
    {
     "data": {
      "text/html": [
       "<style>#sk-container-id-30 {color: black;}#sk-container-id-30 pre{padding: 0;}#sk-container-id-30 div.sk-toggleable {background-color: white;}#sk-container-id-30 label.sk-toggleable__label {cursor: pointer;display: block;width: 100%;margin-bottom: 0;padding: 0.3em;box-sizing: border-box;text-align: center;}#sk-container-id-30 label.sk-toggleable__label-arrow:before {content: \"▸\";float: left;margin-right: 0.25em;color: #696969;}#sk-container-id-30 label.sk-toggleable__label-arrow:hover:before {color: black;}#sk-container-id-30 div.sk-estimator:hover label.sk-toggleable__label-arrow:before {color: black;}#sk-container-id-30 div.sk-toggleable__content {max-height: 0;max-width: 0;overflow: hidden;text-align: left;background-color: #f0f8ff;}#sk-container-id-30 div.sk-toggleable__content pre {margin: 0.2em;color: black;border-radius: 0.25em;background-color: #f0f8ff;}#sk-container-id-30 input.sk-toggleable__control:checked~div.sk-toggleable__content {max-height: 200px;max-width: 100%;overflow: auto;}#sk-container-id-30 input.sk-toggleable__control:checked~label.sk-toggleable__label-arrow:before {content: \"▾\";}#sk-container-id-30 div.sk-estimator input.sk-toggleable__control:checked~label.sk-toggleable__label {background-color: #d4ebff;}#sk-container-id-30 div.sk-label input.sk-toggleable__control:checked~label.sk-toggleable__label {background-color: #d4ebff;}#sk-container-id-30 input.sk-hidden--visually {border: 0;clip: rect(1px 1px 1px 1px);clip: rect(1px, 1px, 1px, 1px);height: 1px;margin: -1px;overflow: hidden;padding: 0;position: absolute;width: 1px;}#sk-container-id-30 div.sk-estimator {font-family: monospace;background-color: #f0f8ff;border: 1px dotted black;border-radius: 0.25em;box-sizing: border-box;margin-bottom: 0.5em;}#sk-container-id-30 div.sk-estimator:hover {background-color: #d4ebff;}#sk-container-id-30 div.sk-parallel-item::after {content: \"\";width: 100%;border-bottom: 1px solid gray;flex-grow: 1;}#sk-container-id-30 div.sk-label:hover label.sk-toggleable__label {background-color: #d4ebff;}#sk-container-id-30 div.sk-serial::before {content: \"\";position: absolute;border-left: 1px solid gray;box-sizing: border-box;top: 0;bottom: 0;left: 50%;z-index: 0;}#sk-container-id-30 div.sk-serial {display: flex;flex-direction: column;align-items: center;background-color: white;padding-right: 0.2em;padding-left: 0.2em;position: relative;}#sk-container-id-30 div.sk-item {position: relative;z-index: 1;}#sk-container-id-30 div.sk-parallel {display: flex;align-items: stretch;justify-content: center;background-color: white;position: relative;}#sk-container-id-30 div.sk-item::before, #sk-container-id-30 div.sk-parallel-item::before {content: \"\";position: absolute;border-left: 1px solid gray;box-sizing: border-box;top: 0;bottom: 0;left: 50%;z-index: -1;}#sk-container-id-30 div.sk-parallel-item {display: flex;flex-direction: column;z-index: 1;position: relative;background-color: white;}#sk-container-id-30 div.sk-parallel-item:first-child::after {align-self: flex-end;width: 50%;}#sk-container-id-30 div.sk-parallel-item:last-child::after {align-self: flex-start;width: 50%;}#sk-container-id-30 div.sk-parallel-item:only-child::after {width: 0;}#sk-container-id-30 div.sk-dashed-wrapped {border: 1px dashed gray;margin: 0 0.4em 0.5em 0.4em;box-sizing: border-box;padding-bottom: 0.4em;background-color: white;}#sk-container-id-30 div.sk-label label {font-family: monospace;font-weight: bold;display: inline-block;line-height: 1.2em;}#sk-container-id-30 div.sk-label-container {text-align: center;}#sk-container-id-30 div.sk-container {/* jupyter's `normalize.less` sets `[hidden] { display: none; }` but bootstrap.min.css set `[hidden] { display: none !important; }` so we also need the `!important` here to be able to override the default hidden behavior on the sphinx rendered scikit-learn.org. See: https://github.com/scikit-learn/scikit-learn/issues/21755 */display: inline-block !important;position: relative;}#sk-container-id-30 div.sk-text-repr-fallback {display: none;}</style><div id=\"sk-container-id-30\" class=\"sk-top-container\"><div class=\"sk-text-repr-fallback\"><pre>SequentialFeatureSelector(cv=KFold(n_splits=5, random_state=0, shuffle=True),\n",
       "                          estimator=SIMCA_Authenticator(target_class=1,\n",
       "                                                        use=&#x27;compliant&#x27;),\n",
       "                          tol=0.01)</pre><b>In a Jupyter environment, please rerun this cell to show the HTML representation or trust the notebook. <br />On GitHub, the HTML representation is unable to render, please try loading this page with nbviewer.org.</b></div><div class=\"sk-container\" hidden><div class=\"sk-item sk-dashed-wrapped\"><div class=\"sk-label-container\"><div class=\"sk-label sk-toggleable\"><input class=\"sk-toggleable__control sk-hidden--visually\" id=\"sk-estimator-id-74\" type=\"checkbox\" ><label for=\"sk-estimator-id-74\" class=\"sk-toggleable__label sk-toggleable__label-arrow\">SequentialFeatureSelector</label><div class=\"sk-toggleable__content\"><pre>SequentialFeatureSelector(cv=KFold(n_splits=5, random_state=0, shuffle=True),\n",
       "                          estimator=SIMCA_Authenticator(target_class=1,\n",
       "                                                        use=&#x27;compliant&#x27;),\n",
       "                          tol=0.01)</pre></div></div></div><div class=\"sk-parallel\"><div class=\"sk-parallel-item\"><div class=\"sk-item\"><div class=\"sk-label-container\"><div class=\"sk-label sk-toggleable\"><input class=\"sk-toggleable__control sk-hidden--visually\" id=\"sk-estimator-id-75\" type=\"checkbox\" ><label for=\"sk-estimator-id-75\" class=\"sk-toggleable__label sk-toggleable__label-arrow\">estimator: SIMCA_Authenticator</label><div class=\"sk-toggleable__content\"><pre>SIMCA_Authenticator(target_class=1, use=&#x27;compliant&#x27;)</pre></div></div></div><div class=\"sk-serial\"><div class=\"sk-item\"><div class=\"sk-estimator sk-toggleable\"><input class=\"sk-toggleable__control sk-hidden--visually\" id=\"sk-estimator-id-76\" type=\"checkbox\" ><label for=\"sk-estimator-id-76\" class=\"sk-toggleable__label sk-toggleable__label-arrow\">SIMCA_Authenticator</label><div class=\"sk-toggleable__content\"><pre>SIMCA_Authenticator(target_class=1, use=&#x27;compliant&#x27;)</pre></div></div></div></div></div></div></div></div></div></div>"
      ],
      "text/plain": [
       "SequentialFeatureSelector(cv=KFold(n_splits=5, random_state=0, shuffle=True),\n",
       "                          estimator=SIMCA_Authenticator(target_class=1,\n",
       "                                                        use='compliant'),\n",
       "                          tol=0.01)"
      ]
     },
     "execution_count": 333,
     "metadata": {},
     "output_type": "execute_result"
    }
   ],
   "source": [
    "# Since we start from 1 feature there are a number of warnings related to the fact that we don't have enough features to \n",
    "# fit the PCA (we set the SIMCA model to have 1 component above) - this is ok, we can ignore these warnings.\n",
    "import warnings\n",
    "warnings.simplefilter(\"ignore\")\n",
    "\n",
    "sfs_forward.fit(X_train, y_train)"
   ]
  },
  {
   "cell_type": "code",
   "execution_count": 334,
   "id": "3dd6153b",
   "metadata": {
    "ExecuteTime": {
     "end_time": "2023-09-05T17:19:28.574026Z",
     "start_time": "2023-09-05T17:19:28.550606Z"
    }
   },
   "outputs": [
    {
     "data": {
      "text/plain": [
       "array(['alcohol', 'flavanoids', 'color_intensity',\n",
       "       'od280/od315_of_diluted_wines'], dtype=object)"
      ]
     },
     "execution_count": 334,
     "metadata": {},
     "output_type": "execute_result"
    }
   ],
   "source": [
    "sfs_forward.get_feature_names_out(X.columns)"
   ]
  },
  {
   "cell_type": "code",
   "execution_count": 335,
   "id": "4e222c13",
   "metadata": {
    "ExecuteTime": {
     "end_time": "2023-09-05T17:19:29.502007Z",
     "start_time": "2023-09-05T17:19:29.460743Z"
    }
   },
   "outputs": [
    {
     "data": {
      "text/plain": [
       "array([[ 0.38444004,  0.72970907, -0.16687654,  0.2520161 ],\n",
       "       [ 0.94517316,  1.32847887,  0.30422622,  0.15051529],\n",
       "       [ 0.52150813,  1.00283214, -0.08122149,  0.89002121],\n",
       "       [ 0.97009463,  0.81374694,  0.2613987 ,  0.42601749],\n",
       "       [ 0.43428298, -1.2871997 ,  1.46913485, -1.42999736]])"
      ]
     },
     "execution_count": 335,
     "metadata": {},
     "output_type": "execute_result"
    }
   ],
   "source": [
    "sfs_forward.transform(X_train)[:5]"
   ]
  },
  {
   "cell_type": "markdown",
   "id": "f0024382",
   "metadata": {},
   "source": [
    "Using Heirarchical Clustering\n",
    "---"
   ]
  },
  {
   "cell_type": "code",
   "execution_count": 11,
   "id": "16a18ad3",
   "metadata": {
    "ExecuteTime": {
     "end_time": "2023-09-05T19:31:08.544165Z",
     "start_time": "2023-09-05T19:31:08.309724Z"
    }
   },
   "outputs": [],
   "source": [
    "from pychemauth.eda.explore import InspectData"
   ]
  },
  {
   "cell_type": "code",
   "execution_count": 12,
   "id": "b7205007",
   "metadata": {
    "ExecuteTime": {
     "end_time": "2023-09-05T19:31:09.082113Z",
     "start_time": "2023-09-05T19:31:08.545862Z"
    }
   },
   "outputs": [
    {
     "data": {
      "image/png": "[encoded data removed]",
      "text/plain": [
       "<Figure size 1200x600 with 2 Axes>"
      ]
     },
     "metadata": {},
     "output_type": "display_data"
    }
   ],
   "source": [
    "# Recall that we can use heirarchical clustering to find correlations in the X columns.  This allows us to see which\n",
    "# features might actually be redundant.  We can then simply choose a single feature from each cluster to put in the model\n",
    "# and then compare models with a different number of clusters or selections.\n",
    "\n",
    "# Observe that proanthocyanins - flavanoids are highly correlated.\n",
    "selected_features, cluster_id_to_feature_ids, _ = InspectData.cluster_collinear(\n",
    "    X=X_train,\n",
    "    feature_names=X.columns,\n",
    "    t=0.9,\n",
    "    figsize=(12,6),\n",
    "    display=True # We can change this to False so we don't have these plots \n",
    ")"
   ]
  },
  {
   "cell_type": "code",
   "execution_count": 31,
   "id": "58c5365e",
   "metadata": {
    "ExecuteTime": {
     "end_time": "2023-09-05T19:35:24.440510Z",
     "start_time": "2023-09-05T19:35:24.401259Z"
    }
   },
   "outputs": [],
   "source": [
    "from sklearn.feature_selection import SelectFromModel\n",
    "from pychemauth.preprocessing.feature_selection import CollinearFeatureSelector\n",
    "\n",
    "def lookup(feature_idx, column_names=X.columns):\n",
    "    if 'l' in column_names[feature_idx].lower():\n",
    "        return 'Contains letter L'\n",
    "    else:\n",
    "        return 'No letter L'\n",
    "    \n",
    "se = SelectFromModel(\n",
    "    estimator=CollinearFeatureSelector(\n",
    "        t=0.9, \n",
    "        seed=42, \n",
    "        minimize_label_entropy=True, \n",
    "        kwargs={\"lookup\":lookup, \"n_restarts\":5, \"max_iters\":100, \"T\":1.0}\n",
    "    ),\n",
    "    threshold=0.5,\n",
    "    prefit=False,\n",
    ")"
   ]
  },
  {
   "cell_type": "code",
   "execution_count": 32,
   "id": "c0b01a1b",
   "metadata": {
    "ExecuteTime": {
     "end_time": "2023-09-05T19:35:26.028287Z",
     "start_time": "2023-09-05T19:35:25.860309Z"
    }
   },
   "outputs": [
    {
     "name": "stderr",
     "output_type": "stream",
     "text": [
      "Restarts:   0%|                                           | 0/5 [00:00<?, ?it/s]\n",
      "MC Steps: 100%|█████████████████████████████| 100/100 [00:00<00:00, 5168.26it/s]\u001b[A\n",
      "\n",
      "MC Steps: 100%|█████████████████████████████| 100/100 [00:00<00:00, 5460.91it/s]\u001b[A\n",
      "\n",
      "MC Steps: 100%|█████████████████████████████| 100/100 [00:00<00:00, 6236.42it/s]\u001b[A\n",
      "\n",
      "MC Steps: 100%|█████████████████████████████| 100/100 [00:00<00:00, 6699.31it/s]\u001b[A\n",
      "\n",
      "MC Steps: 100%|█████████████████████████████| 100/100 [00:00<00:00, 8025.38it/s]\u001b[A\n",
      "Restarts: 100%|███████████████████████████████████| 5/5 [00:00<00:00, 45.73it/s]\n"
     ]
    },
    {
     "data": {
      "text/html": [
       "<style>#sk-container-id-4 {color: black;}#sk-container-id-4 pre{padding: 0;}#sk-container-id-4 div.sk-toggleable {background-color: white;}#sk-container-id-4 label.sk-toggleable__label {cursor: pointer;display: block;width: 100%;margin-bottom: 0;padding: 0.3em;box-sizing: border-box;text-align: center;}#sk-container-id-4 label.sk-toggleable__label-arrow:before {content: \"▸\";float: left;margin-right: 0.25em;color: #696969;}#sk-container-id-4 label.sk-toggleable__label-arrow:hover:before {color: black;}#sk-container-id-4 div.sk-estimator:hover label.sk-toggleable__label-arrow:before {color: black;}#sk-container-id-4 div.sk-toggleable__content {max-height: 0;max-width: 0;overflow: hidden;text-align: left;background-color: #f0f8ff;}#sk-container-id-4 div.sk-toggleable__content pre {margin: 0.2em;color: black;border-radius: 0.25em;background-color: #f0f8ff;}#sk-container-id-4 input.sk-toggleable__control:checked~div.sk-toggleable__content {max-height: 200px;max-width: 100%;overflow: auto;}#sk-container-id-4 input.sk-toggleable__control:checked~label.sk-toggleable__label-arrow:before {content: \"▾\";}#sk-container-id-4 div.sk-estimator input.sk-toggleable__control:checked~label.sk-toggleable__label {background-color: #d4ebff;}#sk-container-id-4 div.sk-label input.sk-toggleable__control:checked~label.sk-toggleable__label {background-color: #d4ebff;}#sk-container-id-4 input.sk-hidden--visually {border: 0;clip: rect(1px 1px 1px 1px);clip: rect(1px, 1px, 1px, 1px);height: 1px;margin: -1px;overflow: hidden;padding: 0;position: absolute;width: 1px;}#sk-container-id-4 div.sk-estimator {font-family: monospace;background-color: #f0f8ff;border: 1px dotted black;border-radius: 0.25em;box-sizing: border-box;margin-bottom: 0.5em;}#sk-container-id-4 div.sk-estimator:hover {background-color: #d4ebff;}#sk-container-id-4 div.sk-parallel-item::after {content: \"\";width: 100%;border-bottom: 1px solid gray;flex-grow: 1;}#sk-container-id-4 div.sk-label:hover label.sk-toggleable__label {background-color: #d4ebff;}#sk-container-id-4 div.sk-serial::before {content: \"\";position: absolute;border-left: 1px solid gray;box-sizing: border-box;top: 0;bottom: 0;left: 50%;z-index: 0;}#sk-container-id-4 div.sk-serial {display: flex;flex-direction: column;align-items: center;background-color: white;padding-right: 0.2em;padding-left: 0.2em;position: relative;}#sk-container-id-4 div.sk-item {position: relative;z-index: 1;}#sk-container-id-4 div.sk-parallel {display: flex;align-items: stretch;justify-content: center;background-color: white;position: relative;}#sk-container-id-4 div.sk-item::before, #sk-container-id-4 div.sk-parallel-item::before {content: \"\";position: absolute;border-left: 1px solid gray;box-sizing: border-box;top: 0;bottom: 0;left: 50%;z-index: -1;}#sk-container-id-4 div.sk-parallel-item {display: flex;flex-direction: column;z-index: 1;position: relative;background-color: white;}#sk-container-id-4 div.sk-parallel-item:first-child::after {align-self: flex-end;width: 50%;}#sk-container-id-4 div.sk-parallel-item:last-child::after {align-self: flex-start;width: 50%;}#sk-container-id-4 div.sk-parallel-item:only-child::after {width: 0;}#sk-container-id-4 div.sk-dashed-wrapped {border: 1px dashed gray;margin: 0 0.4em 0.5em 0.4em;box-sizing: border-box;padding-bottom: 0.4em;background-color: white;}#sk-container-id-4 div.sk-label label {font-family: monospace;font-weight: bold;display: inline-block;line-height: 1.2em;}#sk-container-id-4 div.sk-label-container {text-align: center;}#sk-container-id-4 div.sk-container {/* jupyter's `normalize.less` sets `[hidden] { display: none; }` but bootstrap.min.css set `[hidden] { display: none !important; }` so we also need the `!important` here to be able to override the default hidden behavior on the sphinx rendered scikit-learn.org. See: https://github.com/scikit-learn/scikit-learn/issues/21755 */display: inline-block !important;position: relative;}#sk-container-id-4 div.sk-text-repr-fallback {display: none;}</style><div id=\"sk-container-id-4\" class=\"sk-top-container\"><div class=\"sk-text-repr-fallback\"><pre>SelectFromModel(estimator=&lt;pychemauth.preprocessing.feature_selection.CollinearFeatureSelector object at 0x7fbd30f25950&gt;,\n",
       "                threshold=0.5)</pre><b>In a Jupyter environment, please rerun this cell to show the HTML representation or trust the notebook. <br />On GitHub, the HTML representation is unable to render, please try loading this page with nbviewer.org.</b></div><div class=\"sk-container\" hidden><div class=\"sk-item sk-dashed-wrapped\"><div class=\"sk-label-container\"><div class=\"sk-label sk-toggleable\"><input class=\"sk-toggleable__control sk-hidden--visually\" id=\"sk-estimator-id-10\" type=\"checkbox\" ><label for=\"sk-estimator-id-10\" class=\"sk-toggleable__label sk-toggleable__label-arrow\">SelectFromModel</label><div class=\"sk-toggleable__content\"><pre>SelectFromModel(estimator=&lt;pychemauth.preprocessing.feature_selection.CollinearFeatureSelector object at 0x7fbd30f25950&gt;,\n",
       "                threshold=0.5)</pre></div></div></div><div class=\"sk-parallel\"><div class=\"sk-parallel-item\"><div class=\"sk-item\"><div class=\"sk-label-container\"><div class=\"sk-label sk-toggleable\"><input class=\"sk-toggleable__control sk-hidden--visually\" id=\"sk-estimator-id-11\" type=\"checkbox\" ><label for=\"sk-estimator-id-11\" class=\"sk-toggleable__label sk-toggleable__label-arrow\">estimator: CollinearFeatureSelector</label><div class=\"sk-toggleable__content\"><pre>&lt;pychemauth.preprocessing.feature_selection.CollinearFeatureSelector object at 0x7fbd30f25950&gt;</pre></div></div></div><div class=\"sk-serial\"><div class=\"sk-item\"><div class=\"sk-estimator sk-toggleable\"><input class=\"sk-toggleable__control sk-hidden--visually\" id=\"sk-estimator-id-12\" type=\"checkbox\" ><label for=\"sk-estimator-id-12\" class=\"sk-toggleable__label sk-toggleable__label-arrow\">CollinearFeatureSelector</label><div class=\"sk-toggleable__content\"><pre>&lt;pychemauth.preprocessing.feature_selection.CollinearFeatureSelector object at 0x7fbd30f25950&gt;</pre></div></div></div></div></div></div></div></div></div></div>"
      ],
      "text/plain": [
       "SelectFromModel(estimator=<pychemauth.preprocessing.feature_selection.CollinearFeatureSelector object at 0x7fbd30f25950>,\n",
       "                threshold=0.5)"
      ]
     },
     "execution_count": 32,
     "metadata": {},
     "output_type": "execute_result"
    }
   ],
   "source": [
    "se.fit(X_train)"
   ]
  },
  {
   "cell_type": "code",
   "execution_count": 33,
   "id": "997d78e4",
   "metadata": {
    "ExecuteTime": {
     "end_time": "2023-09-05T19:36:53.215703Z",
     "start_time": "2023-09-05T19:36:53.166201Z"
    }
   },
   "outputs": [
    {
     "data": {
      "text/plain": [
       "Index(['malic_acid', 'alcalinity_of_ash', 'nonflavanoid_phenols',\n",
       "       'color_intensity'],\n",
       "      dtype='object')"
      ]
     },
     "execution_count": 33,
     "metadata": {},
     "output_type": "execute_result"
    }
   ],
   "source": [
    "# The underlying estimator stores feature_importances_ as [0 (ignored), 1 (included)].\n",
    "X.columns[np.asarray(se.estimator_.feature_importances_, dtype=bool)]"
   ]
  },
  {
   "cell_type": "code",
   "execution_count": 25,
   "id": "75250a7f",
   "metadata": {
    "ExecuteTime": {
     "end_time": "2023-09-05T19:32:26.477383Z",
     "start_time": "2023-09-05T19:32:26.432174Z"
    }
   },
   "outputs": [
    {
     "data": {
      "text/plain": [
       "Index(['malic_acid', 'alcalinity_of_ash', 'nonflavanoid_phenols',\n",
       "       'color_intensity'],\n",
       "      dtype='object')"
      ]
     },
     "execution_count": 25,
     "metadata": {},
     "output_type": "execute_result"
    }
   ],
   "source": [
    "# The SelectFromModel has a more natural way of accessing which features are retained.\n",
    "X.columns[se.get_support()]"
   ]
  },
  {
   "cell_type": "code",
   "execution_count": 34,
   "id": "a78c67f6",
   "metadata": {
    "ExecuteTime": {
     "end_time": "2023-09-05T19:37:34.587541Z",
     "start_time": "2023-09-05T19:37:34.530053Z"
    }
   },
   "outputs": [
    {
     "data": {
      "text/plain": [
       "array([[-0.63562119, -1.22021226, -0.16895084, -0.16687654],\n",
       "       [-0.76274543,  0.85027423, -0.58837427,  0.30422622],\n",
       "       [-0.51757725, -1.04274199, -0.16895084, -0.08122149],\n",
       "       [-0.55389846, -1.07232037, -0.58837427,  0.2613987 ],\n",
       "       [ 0.81722724,  0.55449045,  0.75378069,  1.46913485],\n",
       "       [ 0.04540151, -0.03707712,  1.00543474,  2.10298177],\n",
       "       [-1.04423481, -0.83569334, -1.84664453, -0.91635819],\n",
       "       [ 0.70826361,  1.29394991, -1.17556706,  1.54622439],\n",
       "       [-0.39953332, -0.7469582 ,  0.25047258,  0.56119136],\n",
       "       [-0.63562119, -1.66388794, -0.58837427,  0.0900886 ],\n",
       "       [-0.91711057,  1.17563639,  0.50212663, -1.3917437 ],\n",
       "       [-0.56297877, -0.03707712,  0.08270321, -1.25469563],\n",
       "       [ 1.49824995, -1.90051496, -1.34333643,  0.04726108],\n",
       "       [-0.48125604,  0.25870666, -0.84002832,  0.04726108],\n",
       "       [ 1.09871663,  0.55449045, -1.59499048,  0.00443356],\n",
       "       [-0.46309544, -0.33286091,  1.34097348, -1.10908205],\n",
       "       [-0.64470149,  1.4418418 ,  0.33435726, -1.22899911],\n",
       "       [-1.13503784,  0.40659855, -1.93052922, -0.76217911],\n",
       "       [-0.48125604,  0.11081477, -0.67225895, -0.62941379],\n",
       "       [-0.56297877, -0.77653658, -0.75614363, -0.44525544],\n",
       "       [-1.02607421, -0.45117442,  0.08270321, -0.16687654],\n",
       "       [ 0.62654089,  2.18130126,  2.26370501,  1.07512164],\n",
       "       [-0.55389846, -2.43292577,  0.58601132,  0.17574365],\n",
       "       [ 0.15436515,  0.11081477,  0.669896  ,  2.01732715],\n",
       "       [-0.59929998,  1.58973369,  1.42485816,  3.43063542],\n",
       "       [ 0.01816061, -0.30328253, -0.50448958,  0.29566071],\n",
       "       [-0.55389846, -2.13714199, -1.59499048,  0.94663907],\n",
       "       [-0.73550452,  0.31786342,  1.84428158, -0.83070315],\n",
       "       [ 3.14178474,  0.55449045, -0.50448958, -1.023427  ],\n",
       "       [-0.61746058, -0.15539064, -1.17556706,  0.8181565 ],\n",
       "       [ 0.22700757,  0.40659855,  0.25047258, -0.2867936 ],\n",
       "       [-0.38137271,  0.11081477, -0.25283553,  0.51836384],\n",
       "       [-0.78090603, -0.83569334, -0.84002832,  0.00443356],\n",
       "       [-0.48125604, -0.71737983, -0.50448958,  0.98946659],\n",
       "       [-1.09871663, -0.18496901, -1.42722111, -0.23111782],\n",
       "       [ 0.56297877,  1.29394991,  1.42485816, -0.02982846],\n",
       "       [-0.26332878,  1.58973369,  0.92155006, -0.60371727],\n",
       "       [-0.48125604, -0.24412577, -0.84002832, -0.4666692 ],\n",
       "       [-0.6719424 , -0.53990956, -0.84002832, -0.45382094],\n",
       "       [-0.55389846,  0.25870666, -0.33672021, -0.87781342],\n",
       "       [-0.60838028,  3.06865261, -1.25945174, -0.70222058],\n",
       "       [-0.84446815, -1.07232037, -0.58837427, -0.89494443],\n",
       "       [ 1.38020601,  0.85027423,  2.09593564, -0.08122149],\n",
       "       [-0.55389846, -0.18496901,  0.08270321, -0.68080682],\n",
       "       [-1.06239542, -0.00749874, -0.75614363, -0.13261452],\n",
       "       [-0.89894997,  0.11081477, -0.58837427, -1.00201324],\n",
       "       [-0.50849695, -2.49208253, -0.84002832, -0.26109709],\n",
       "       [-0.59929998, -1.07232037, -1.25945174,  0.47553631],\n",
       "       [ 1.11687723,  0.40659855,  0.58601132, -0.42384168],\n",
       "       [-0.57205907, -1.01316361, -0.16895084,  0.48838457],\n",
       "       [ 1.54365146, -0.21454739, -0.50448958,  0.10721961],\n",
       "       [-0.39953332,  1.73762558, -0.84002832,  0.90381155],\n",
       "       [-0.73550452,  0.55449045,  0.25047258, -0.44953819],\n",
       "       [ 1.27124238, -0.03707712, -1.00779769, -0.89494443],\n",
       "       [ 2.87845596,  1.58973369,  2.26370501,  0.00443356],\n",
       "       [-0.16344545,  0.40659855,  0.08270321, -0.95490297],\n",
       "       [-1.27124238, -0.77653658,  1.59262753, -0.77931012],\n",
       "       [-0.19068636,  2.62497694,  1.84428158, -0.85211691],\n",
       "       [-0.78998634,  0.3474418 , -0.50448958, -1.3018059 ],\n",
       "       [-0.89894997, -1.07232037, -1.17556706,  0.95520457],\n",
       "       [ 1.38928631,  0.99816612,  0.58601132, -1.03627526],\n",
       "       [-0.6628621 ,  0.93900937,  0.58601132, -1.08766829],\n",
       "       [-0.3359712 , -0.83569334, -0.4206049 ,  0.43270879],\n",
       "       [-0.46309544, -0.71737983,  0.50212663, -0.49236571],\n",
       "       [ 1.32572419, -0.30328253, -0.923913  , -0.20970406],\n",
       "       [-0.73550452, -0.03707712,  1.17320411,  0.17574365],\n",
       "       [-0.51757725, -0.77653658, -0.67225895,  0.02156457],\n",
       "       [-0.75366512,  0.70238234,  1.17320411, -0.59515177],\n",
       "       [-1.28940298, -0.18496901, -0.50448958, -1.06625453],\n",
       "       [ 0.98975299, -1.07232037,  0.58601132, -0.68080682],\n",
       "       [ 0.29964999,  0.70238234, -1.00779769,  2.48842991],\n",
       "       [ 0.84446815,  0.70238234,  2.01205095,  0.25283319],\n",
       "       [ 1.48916964, -0.62864469, -0.33672021, -0.26966259],\n",
       "       [ 1.36204541, -0.24412577, -0.75614363, -0.30392461],\n",
       "       [ 0.62654089, -0.18496901,  0.33435726,  0.21857117],\n",
       "       [ 0.49941665, -0.4807528 ,  0.58601132, -1.00201324],\n",
       "       [-0.86262876,  0.85027423,  0.58601132, -0.89494443],\n",
       "       [-0.75366512,  0.55449045,  1.34097348, -1.32321967],\n",
       "       [-0.6628621 ,  0.85027423, -0.16895084, -1.25469563],\n",
       "       [ 0.19976666,  0.11081477,  0.08270321,  0.2613987 ],\n",
       "       [-0.53573786, -1.66388794, -0.33672021,  0.88239778],\n",
       "       [ 2.16111204,  0.40659855,  1.42485816, -0.48808296],\n",
       "       [ 0.69010301, -1.30894739, -1.59499048,  0.04726108],\n",
       "       [ 0.42677423,  0.40659855,  1.42485816, -0.16687654],\n",
       "       [-0.74458482, -0.18496901, -0.33672021, -1.023427  ],\n",
       "       [ 0.10896363, -0.33286091,  2.26370501,  0.90381155],\n",
       "       [ 0.83538785,  0.11081477,  1.17320411,  0.38131576],\n",
       "       [-0.25424848,  0.58406882,  1.00543474, -0.93777196],\n",
       "       [-0.69918331,  0.11081477,  0.33435726,  0.68967393],\n",
       "       [-0.55389846, -0.65822307, -0.33672021,  1.67470696],\n",
       "       [-1.09871663,  1.29394991,  0.33435726, -1.1947371 ],\n",
       "       [-1.30756359, -1.07232037, -1.00779769, -0.16687654],\n",
       "       [-1.23492117, -0.4807528 , -0.50448958, -1.0148615 ],\n",
       "       [-0.55389846,  0.25870666, -1.34333643,  0.5397776 ],\n",
       "       [-0.62654089, -0.4807528 , -0.58837427, -0.31677287],\n",
       "       [-0.42677423, -1.48641766, -0.50448958,  0.11150236],\n",
       "       [ 1.61629388, -0.03707712,  1.00543474,  1.72181724],\n",
       "       [-0.6628621 ,  0.22912828,  0.08270321, -0.83070315],\n",
       "       [-0.19976666,  0.55449045, -1.84664453, -1.06625453],\n",
       "       [-0.88986967, -0.83569334,  1.42485816,  0.32563998],\n",
       "       [ 1.83422115,  0.85027423,  1.34097348,  0.69823943],\n",
       "       [-0.41769392, -1.07232037, -0.16895084, -0.50949672],\n",
       "       [-0.58113937, -0.98358523, -0.84002832,  0.59545338],\n",
       "       [ 1.89778327,  2.03340937,  0.58601132, -1.24613012],\n",
       "       [ 1.13503784, -1.07232037, -0.75614363, -0.03839397],\n",
       "       [ 0.98975299, -0.18496901,  0.08270321, -1.58875031],\n",
       "       [ 1.13503784, -0.03707712,  1.84428158,  0.30422622],\n",
       "       [-0.60838028, -0.95400685, -1.25945174,  0.3684675 ],\n",
       "       [-0.57205907, -1.19063388, -0.67225895,  0.27852971],\n",
       "       [ 1.78881963,  0.40659855, -1.25945174, -0.93777196],\n",
       "       [ 2.45168173,  0.11081477,  0.33435726, -0.03839397],\n",
       "       [-0.95343178,  0.11081477,  1.42485816,  1.11794916],\n",
       "       [-1.45284843,  0.40659855,  0.50212663, -0.81785489],\n",
       "       [-0.75366512,  1.58973369, -1.25945174, -0.68937232],\n",
       "       [-0.53573786,  0.85027423,  1.00543474, -0.72363434],\n",
       "       [ 1.42560752,  0.99816612,  0.58601132,  0.98946659],\n",
       "       [-0.60838028,  0.85027423,  1.34097348,  2.89529138],\n",
       "       [ 0.87170906, -0.33286091,  2.09593564,  2.36851284],\n",
       "       [ 1.3529651 ,  0.40659855,  1.17320411,  1.13936292],\n",
       "       [-1.27124238, -2.6695528 , -0.67225895, -1.3018059 ],\n",
       "       [ 0.05448182,  0.11081477, -0.33672021, -0.7450481 ],\n",
       "       [ 0.93527118, -0.03707712,  0.33435726,  2.25716128],\n",
       "       [-1.31664389, -0.4807528 , -1.17556706, -0.83070315],\n",
       "       [ 1.41652722,  0.55449045, -0.16895084,  1.88884458],\n",
       "       [ 1.39836662, -0.33286091, -0.58837427,  1.37919705],\n",
       "       [-0.52665756, -1.30894739, -0.16895084,  0.75391521],\n",
       "       [-0.59929998, -1.07232037, -0.84002832, -0.12404901],\n",
       "       [ 1.76157872,  0.11081477,  0.58601132,  2.23146477],\n",
       "       [-0.35413181, -0.83569334, -1.00779769,  1.20360421],\n",
       "       [-0.90803027, -0.33286091, -0.58837427, -1.08766829],\n",
       "       [ 2.05214841,  1.58973369, -0.75614363,  1.50339687],\n",
       "       [ 2.06122871,  0.55449045,  0.92155006,  1.13936292],\n",
       "       [-0.61746058,  1.29394991, -0.75614363, -0.53519324],\n",
       "       [ 0.21792726,  1.4418418 ,  0.25047258,  1.57192091],\n",
       "       [ 0.75366512, -0.4807528 ,  0.75378069, -1.15190957],\n",
       "       [-1.22584087, -1.42726091, -0.08506616, -0.68080682],\n",
       "       [ 0.08172272,  0.40659855, -0.84002832, -1.28039214],\n",
       "       [ 0.75366512,  1.14605801,  1.17320411, -0.27394534],\n",
       "       [-0.60838028,  1.88551747,  0.33435726, -1.023427  ],\n",
       "       [-0.49033635, -0.18496901, -0.58837427, -0.33818663],\n",
       "       [ 1.0079136 , -0.33286091,  0.33435726,  0.12435062],\n",
       "       [ 0.59021968,  0.11081477, -1.00779769,  0.17574365]])"
      ]
     },
     "execution_count": 34,
     "metadata": {},
     "output_type": "execute_result"
    }
   ],
   "source": [
    "# The selector can transform your data automatically, so you can include it in your pipeline.\n",
    "se.transform(X_train)"
   ]
  },
  {
   "cell_type": "markdown",
   "id": "6a9101a6",
   "metadata": {},
   "source": [
    "JSD\n",
    "---"
   ]
  },
  {
   "cell_type": "code",
   "execution_count": null,
   "id": "05ce5300",
   "metadata": {},
   "outputs": [],
   "source": []
  },
  {
   "cell_type": "markdown",
   "id": "27e5d729",
   "metadata": {},
   "source": [
    "Letting the Data Decide\n",
    "---"
   ]
  },
  {
   "cell_type": "code",
   "execution_count": null,
   "id": "3c5ff641",
   "metadata": {},
   "outputs": [],
   "source": [
    "# pipeline with different feature selectors inside a gridsearchCV as grid_params"
   ]
  }
 ],
 "metadata": {
  "kernelspec": {
   "display_name": "oyster-provenance",
   "language": "python",
   "name": "oyster-provenance"
  },
  "language_info": {
   "codemirror_mode": {
    "name": "ipython",
    "version": 3
   },
   "file_extension": ".py",
   "mimetype": "text/x-python",
   "name": "python",
   "nbconvert_exporter": "python",
   "pygments_lexer": "ipython3",
   "version": "3.11.4"
  }
 },
 "nbformat": 4,
 "nbformat_minor": 5
}
