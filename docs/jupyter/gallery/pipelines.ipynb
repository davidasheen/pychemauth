{
 "cells": [
  {
   "cell_type": "markdown",
   "id": "2a37e4ac",
   "metadata": {},
   "source": [
    "Using Pipelines\n",
    "==="
   ]
  },
  {
   "cell_type": "markdown",
   "id": "08362bc8",
   "metadata": {},
   "source": [
    "Author: Nathan A. Mahynski\n",
    "\n",
    "Date: 2023/08/31\n",
    "\n",
    "Description: A brief introduction to using pipelines."
   ]
  },
  {
   "cell_type": "markdown",
   "id": "1bdd7706",
   "metadata": {},
   "source": [
    "[Pipelines](https://scikit-learn.org/stable/modules/compose.html) are composite estimators which are compose of multiple intermediate steps.  The point is to be able to construct a reproducible workflow that performs various actions (transformations) on the X data before making a final prediction with it.  For example, it is common to autoscale data before performing PCA.  A pipeline can be created to do these in order for you.\n",
    "\n",
    "<!-- <img src=\"../../_static/pipeline.png\" alt=\"\" style=\"float:right;width:50px\"> -->\n",
    "![](../../_static/pipeline.png){ width=250px }\n",
    "\n",
    "There are numerous online resources discussing pipelines, but they are a central part of the sklearn API, and make producing models and workflows very easy. Here we will review basic use of pipelines to make composite models.  One of the main features of <a href=\"https://pychemauth.readthedocs.io/\">pychemauth</a> is that it follows scikit-learn's estimator API so these models can be incorporated into pipelines.\n",
    "\n",
    "It is important to view the entire pipeline as \"the model\" - everything that happens between the beginning and the end involves various hyperparameters that can be tuned using cross-validation.  This allows you to quickly and easily test whether certain steps improve the performance of a pipeline.\n",
    "\n",
    "* See [sklearn's user guide](https://scikit-learn.org/stable/modules/compose.html) on pipelines and composite estimators.\n",
    "* See [sklearn's pipeline documentation](https://scikit-learn.org/stable/modules/generated/sklearn.pipeline.Pipeline.html)\n",
    "\n",
    "The image at the right shows an example pipeline used in [this paper](https://doi.org/10.1007/s10967-023-09024-x).  These can be more complicated, but the general workflow is a linear series of steps which transform the data each recieves from the last step until it reaches the end.  The final estimator can be another transformer or a model such as a classifier or regressor.  The pipeline inherits properties of the last step, so you can think of the pipeline as if it were that last step, it just operates on preprocessed data.\n",
    "\n",
    "Note that pipelines only operate on the X (feature matrix) data.  scikit-learn has [other tools](https://scikit-learn.org/stable/modules/compose.html#transformed-target-regressor) to handle transformations of the the y (target) variable(s)."
   ]
  },
  {
   "cell_type": "code",
   "execution_count": 57,
   "id": "44b2b90c",
   "metadata": {
    "ExecuteTime": {
     "end_time": "2023-09-07T14:59:27.793721Z",
     "start_time": "2023-09-07T14:59:27.738480Z"
    }
   },
   "outputs": [
    {
     "name": "stdout",
     "output_type": "stream",
     "text": [
      "The watermark extension is already loaded. To reload it, use:\n",
      "  %reload_ext watermark\n",
      "The autoreload extension is already loaded. To reload it, use:\n",
      "  %reload_ext autoreload\n"
     ]
    }
   ],
   "source": [
    "using_colab = 'google.colab' in str(get_ipython())\n",
    "if using_colab:\n",
    "    !pip install git+https://github.com/mahynski/pychemauth@main\n",
    "\n",
    "try:\n",
    "    import pychemauth\n",
    "except:\n",
    "    raise ImportError(\"pychemauth not installed\")\n",
    "    \n",
    "import matplotlib.pyplot as plt\n",
    "%matplotlib inline\n",
    "\n",
    "import watermark\n",
    "%load_ext watermark\n",
    "\n",
    "%load_ext autoreload\n",
    "%autoreload 2"
   ]
  },
  {
   "cell_type": "code",
   "execution_count": 58,
   "id": "25386e38",
   "metadata": {
    "ExecuteTime": {
     "end_time": "2023-09-07T14:59:27.829797Z",
     "start_time": "2023-09-07T14:59:27.796867Z"
    }
   },
   "outputs": [],
   "source": [
    "import sklearn\n",
    "import imblearn\n",
    "import numpy as np\n",
    "from pychemauth.preprocessing.scaling import CorrectedScaler\n",
    "from pychemauth.preprocessing.imbalanced import ScaledSMOTEENN\n",
    "from pychemauth.preprocessing.missing import PCA_IA\n",
    "from pychemauth.classifier.plsda import PLSDA"
   ]
  },
  {
   "cell_type": "code",
   "execution_count": 59,
   "id": "946ae9ec",
   "metadata": {
    "ExecuteTime": {
     "end_time": "2023-09-07T14:59:27.935772Z",
     "start_time": "2023-09-07T14:59:27.832305Z"
    }
   },
   "outputs": [
    {
     "name": "stdout",
     "output_type": "stream",
     "text": [
      "Python implementation: CPython\n",
      "Python version       : 3.11.4\n",
      "IPython version      : 8.14.0\n",
      "\n",
      "Compiler    : GCC 12.2.0\n",
      "OS          : Linux\n",
      "Release     : 6.2.0-26-generic\n",
      "Machine     : x86_64\n",
      "Processor   : x86_64\n",
      "CPU cores   : 40\n",
      "Architecture: 64bit\n",
      "\n",
      "pychemauth: 0.0.0b3\n",
      "sklearn   : 1.3.0\n",
      "imblearn  : 0.11.0\n",
      "matplotlib: 3.7.2\n",
      "numpy     : 1.24.4\n",
      "watermark : 2.4.3\n",
      "json      : 2.0.9\n",
      "\n"
     ]
    }
   ],
   "source": [
    "%watermark -t -m -v --iversions"
   ]
  },
  {
   "cell_type": "markdown",
   "id": "c166e7d8",
   "metadata": {},
   "source": [
    "Scikit-learn Pipelines\n",
    "---"
   ]
  },
  {
   "cell_type": "markdown",
   "id": "04b0da0c",
   "metadata": {
    "ExecuteTime": {
     "end_time": "2023-08-31T17:43:39.873544Z",
     "start_time": "2023-08-31T17:43:39.744312Z"
    }
   },
   "source": [
    "Pipelines are composed of a series of <a href=\"https://scikit-learn.org/stable/developers/develop.html\">estimators</a>.  These are basically functions that implement a `fit` and `transform` function (and a few others). Each step calls `transform` on the input from the last step."
   ]
  },
  {
   "cell_type": "code",
   "execution_count": 60,
   "id": "370cd4b8",
   "metadata": {
    "ExecuteTime": {
     "end_time": "2023-09-07T14:59:28.011005Z",
     "start_time": "2023-09-07T14:59:27.938690Z"
    }
   },
   "outputs": [],
   "source": [
    "# Here is an example pipeline\n",
    "\n",
    "# Each step is composed of a (\"name\", estimator) pair.\n",
    "\n",
    "# The values each step should be instantiated with can be specified.  These can later be changed during cross-validation\n",
    "# but these serve as defaults that will be used unless otherwise specified.\n",
    "pipeline = sklearn.pipeline.Pipeline(\n",
    "    steps=[\n",
    "        (\"fill_in_missing\", PCA_IA( # First we are assuming we need to fill in missing values in X\n",
    "                n_components=3,\n",
    "                missing_values=np.nan\n",
    "            )\n",
    "        ),\n",
    "        (\"class_balancer\", ScaledSMOTEENN( # Next, we will have to balance the observations of the number of each class\n",
    "            k_smote=5,\n",
    "            k_enn=3,\n",
    "            )\n",
    "        ),\n",
    "        (\"autoscaler\", CorrectedScaler( # Then, we should center and scale the data\n",
    "            with_mean=True,\n",
    "            with_std=True,\n",
    "            pareto=False\n",
    "            )\n",
    "        ),\n",
    "        (\"my_chosen_model\", PLSDA( # Finally, we will pass the cleaned, balanced, and scaled data to the model\n",
    "            n_components=1,\n",
    "            style='hard',\n",
    "            not_assigned='UNKNOWN'\n",
    "            )\n",
    "        )\n",
    "    ]\n",
    ")"
   ]
  },
  {
   "cell_type": "code",
   "execution_count": 61,
   "id": "3f6824ea",
   "metadata": {
    "ExecuteTime": {
     "end_time": "2023-09-07T14:59:28.104128Z",
     "start_time": "2023-09-07T14:59:28.014337Z"
    }
   },
   "outputs": [
    {
     "data": {
      "text/html": [
       "<style>#sk-container-id-6 {color: black;}#sk-container-id-6 pre{padding: 0;}#sk-container-id-6 div.sk-toggleable {background-color: white;}#sk-container-id-6 label.sk-toggleable__label {cursor: pointer;display: block;width: 100%;margin-bottom: 0;padding: 0.3em;box-sizing: border-box;text-align: center;}#sk-container-id-6 label.sk-toggleable__label-arrow:before {content: \"▸\";float: left;margin-right: 0.25em;color: #696969;}#sk-container-id-6 label.sk-toggleable__label-arrow:hover:before {color: black;}#sk-container-id-6 div.sk-estimator:hover label.sk-toggleable__label-arrow:before {color: black;}#sk-container-id-6 div.sk-toggleable__content {max-height: 0;max-width: 0;overflow: hidden;text-align: left;background-color: #f0f8ff;}#sk-container-id-6 div.sk-toggleable__content pre {margin: 0.2em;color: black;border-radius: 0.25em;background-color: #f0f8ff;}#sk-container-id-6 input.sk-toggleable__control:checked~div.sk-toggleable__content {max-height: 200px;max-width: 100%;overflow: auto;}#sk-container-id-6 input.sk-toggleable__control:checked~label.sk-toggleable__label-arrow:before {content: \"▾\";}#sk-container-id-6 div.sk-estimator input.sk-toggleable__control:checked~label.sk-toggleable__label {background-color: #d4ebff;}#sk-container-id-6 div.sk-label input.sk-toggleable__control:checked~label.sk-toggleable__label {background-color: #d4ebff;}#sk-container-id-6 input.sk-hidden--visually {border: 0;clip: rect(1px 1px 1px 1px);clip: rect(1px, 1px, 1px, 1px);height: 1px;margin: -1px;overflow: hidden;padding: 0;position: absolute;width: 1px;}#sk-container-id-6 div.sk-estimator {font-family: monospace;background-color: #f0f8ff;border: 1px dotted black;border-radius: 0.25em;box-sizing: border-box;margin-bottom: 0.5em;}#sk-container-id-6 div.sk-estimator:hover {background-color: #d4ebff;}#sk-container-id-6 div.sk-parallel-item::after {content: \"\";width: 100%;border-bottom: 1px solid gray;flex-grow: 1;}#sk-container-id-6 div.sk-label:hover label.sk-toggleable__label {background-color: #d4ebff;}#sk-container-id-6 div.sk-serial::before {content: \"\";position: absolute;border-left: 1px solid gray;box-sizing: border-box;top: 0;bottom: 0;left: 50%;z-index: 0;}#sk-container-id-6 div.sk-serial {display: flex;flex-direction: column;align-items: center;background-color: white;padding-right: 0.2em;padding-left: 0.2em;position: relative;}#sk-container-id-6 div.sk-item {position: relative;z-index: 1;}#sk-container-id-6 div.sk-parallel {display: flex;align-items: stretch;justify-content: center;background-color: white;position: relative;}#sk-container-id-6 div.sk-item::before, #sk-container-id-6 div.sk-parallel-item::before {content: \"\";position: absolute;border-left: 1px solid gray;box-sizing: border-box;top: 0;bottom: 0;left: 50%;z-index: -1;}#sk-container-id-6 div.sk-parallel-item {display: flex;flex-direction: column;z-index: 1;position: relative;background-color: white;}#sk-container-id-6 div.sk-parallel-item:first-child::after {align-self: flex-end;width: 50%;}#sk-container-id-6 div.sk-parallel-item:last-child::after {align-self: flex-start;width: 50%;}#sk-container-id-6 div.sk-parallel-item:only-child::after {width: 0;}#sk-container-id-6 div.sk-dashed-wrapped {border: 1px dashed gray;margin: 0 0.4em 0.5em 0.4em;box-sizing: border-box;padding-bottom: 0.4em;background-color: white;}#sk-container-id-6 div.sk-label label {font-family: monospace;font-weight: bold;display: inline-block;line-height: 1.2em;}#sk-container-id-6 div.sk-label-container {text-align: center;}#sk-container-id-6 div.sk-container {/* jupyter's `normalize.less` sets `[hidden] { display: none; }` but bootstrap.min.css set `[hidden] { display: none !important; }` so we also need the `!important` here to be able to override the default hidden behavior on the sphinx rendered scikit-learn.org. See: https://github.com/scikit-learn/scikit-learn/issues/21755 */display: inline-block !important;position: relative;}#sk-container-id-6 div.sk-text-repr-fallback {display: none;}</style><div id=\"sk-container-id-6\" class=\"sk-top-container\"><div class=\"sk-text-repr-fallback\"><pre>Pipeline(steps=[(&#x27;fill_in_missing&#x27;,\n",
       "                 &lt;pychemauth.preprocessing.missing.PCA_IA object at 0x7fee89d0d2d0&gt;),\n",
       "                (&#x27;class_balancer&#x27;,\n",
       "                 &lt;pychemauth.preprocessing.imbalanced.ScaledSMOTEENN object at 0x7fee8644f650&gt;),\n",
       "                (&#x27;autoscaler&#x27;,\n",
       "                 &lt;pychemauth.preprocessing.scaling.CorrectedScaler object at 0x7fee8644e7d0&gt;),\n",
       "                (&#x27;my_chosen_model&#x27;,\n",
       "                 PLSDA(not_assigned=&#x27;UNKNOWN&#x27;, style=&#x27;hard&#x27;))])</pre><b>In a Jupyter environment, please rerun this cell to show the HTML representation or trust the notebook. <br />On GitHub, the HTML representation is unable to render, please try loading this page with nbviewer.org.</b></div><div class=\"sk-container\" hidden><div class=\"sk-item sk-dashed-wrapped\"><div class=\"sk-label-container\"><div class=\"sk-label sk-toggleable\"><input class=\"sk-toggleable__control sk-hidden--visually\" id=\"sk-estimator-id-36\" type=\"checkbox\" ><label for=\"sk-estimator-id-36\" class=\"sk-toggleable__label sk-toggleable__label-arrow\">Pipeline</label><div class=\"sk-toggleable__content\"><pre>Pipeline(steps=[(&#x27;fill_in_missing&#x27;,\n",
       "                 &lt;pychemauth.preprocessing.missing.PCA_IA object at 0x7fee89d0d2d0&gt;),\n",
       "                (&#x27;class_balancer&#x27;,\n",
       "                 &lt;pychemauth.preprocessing.imbalanced.ScaledSMOTEENN object at 0x7fee8644f650&gt;),\n",
       "                (&#x27;autoscaler&#x27;,\n",
       "                 &lt;pychemauth.preprocessing.scaling.CorrectedScaler object at 0x7fee8644e7d0&gt;),\n",
       "                (&#x27;my_chosen_model&#x27;,\n",
       "                 PLSDA(not_assigned=&#x27;UNKNOWN&#x27;, style=&#x27;hard&#x27;))])</pre></div></div></div><div class=\"sk-serial\"><div class=\"sk-item\"><div class=\"sk-estimator sk-toggleable\"><input class=\"sk-toggleable__control sk-hidden--visually\" id=\"sk-estimator-id-37\" type=\"checkbox\" ><label for=\"sk-estimator-id-37\" class=\"sk-toggleable__label sk-toggleable__label-arrow\">PCA_IA</label><div class=\"sk-toggleable__content\"><pre>&lt;pychemauth.preprocessing.missing.PCA_IA object at 0x7fee89d0d2d0&gt;</pre></div></div></div><div class=\"sk-item sk-dashed-wrapped\"><div class=\"sk-label-container\"><div class=\"sk-label sk-toggleable\"><input class=\"sk-toggleable__control sk-hidden--visually\" id=\"sk-estimator-id-38\" type=\"checkbox\" ><label for=\"sk-estimator-id-38\" class=\"sk-toggleable__label sk-toggleable__label-arrow\">class_balancer: ScaledSMOTEENN</label><div class=\"sk-toggleable__content\"><pre>&lt;pychemauth.preprocessing.imbalanced.ScaledSMOTEENN object at 0x7fee8644f650&gt;</pre></div></div></div><div class=\"sk-parallel\"><div class=\"sk-parallel-item\"><div class=\"sk-item\"><div class=\"sk-label-container\"><div class=\"sk-label sk-toggleable\"><input class=\"sk-toggleable__control sk-hidden--visually\" id=\"sk-estimator-id-39\" type=\"checkbox\" ><label for=\"sk-estimator-id-39\" class=\"sk-toggleable__label sk-toggleable__label-arrow\">scaler: StandardScaler</label><div class=\"sk-toggleable__content\"><pre>StandardScaler()</pre></div></div></div><div class=\"sk-serial\"><div class=\"sk-item\"><div class=\"sk-estimator sk-toggleable\"><input class=\"sk-toggleable__control sk-hidden--visually\" id=\"sk-estimator-id-40\" type=\"checkbox\" ><label for=\"sk-estimator-id-40\" class=\"sk-toggleable__label sk-toggleable__label-arrow\">StandardScaler</label><div class=\"sk-toggleable__content\"><pre>StandardScaler()</pre></div></div></div></div></div></div></div></div><div class=\"sk-item\"><div class=\"sk-estimator sk-toggleable\"><input class=\"sk-toggleable__control sk-hidden--visually\" id=\"sk-estimator-id-41\" type=\"checkbox\" ><label for=\"sk-estimator-id-41\" class=\"sk-toggleable__label sk-toggleable__label-arrow\">CorrectedScaler</label><div class=\"sk-toggleable__content\"><pre>&lt;pychemauth.preprocessing.scaling.CorrectedScaler object at 0x7fee8644e7d0&gt;</pre></div></div></div><div class=\"sk-item\"><div class=\"sk-estimator sk-toggleable\"><input class=\"sk-toggleable__control sk-hidden--visually\" id=\"sk-estimator-id-42\" type=\"checkbox\" ><label for=\"sk-estimator-id-42\" class=\"sk-toggleable__label sk-toggleable__label-arrow\">PLSDA</label><div class=\"sk-toggleable__content\"><pre>PLSDA(not_assigned=&#x27;UNKNOWN&#x27;, style=&#x27;hard&#x27;)</pre></div></div></div></div></div></div></div>"
      ],
      "text/plain": [
       "Pipeline(steps=[('fill_in_missing',\n",
       "                 <pychemauth.preprocessing.missing.PCA_IA object at 0x7fee89d0d2d0>),\n",
       "                ('class_balancer',\n",
       "                 <pychemauth.preprocessing.imbalanced.ScaledSMOTEENN object at 0x7fee8644f650>),\n",
       "                ('autoscaler',\n",
       "                 <pychemauth.preprocessing.scaling.CorrectedScaler object at 0x7fee8644e7d0>),\n",
       "                ('my_chosen_model',\n",
       "                 PLSDA(not_assigned='UNKNOWN', style='hard'))])"
      ]
     },
     "execution_count": 61,
     "metadata": {},
     "output_type": "execute_result"
    }
   ],
   "source": [
    "# In Jupyter notebooks the pipeline will even interactively render in HTML!\n",
    "pipeline"
   ]
  },
  {
   "cell_type": "markdown",
   "id": "c2dd28ea",
   "metadata": {},
   "source": [
    "A pipeline's steps can be access as a python list, dictionary, or even directly by its name."
   ]
  },
  {
   "cell_type": "code",
   "execution_count": 62,
   "id": "6969cffd",
   "metadata": {
    "ExecuteTime": {
     "end_time": "2023-09-07T14:59:28.167809Z",
     "start_time": "2023-09-07T14:59:28.106983Z"
    }
   },
   "outputs": [
    {
     "data": {
      "text/plain": [
       "[('fill_in_missing',\n",
       "  <pychemauth.preprocessing.missing.PCA_IA at 0x7fee89d0d2d0>),\n",
       " ('class_balancer',\n",
       "  <pychemauth.preprocessing.imbalanced.ScaledSMOTEENN at 0x7fee8644f650>),\n",
       " ('autoscaler',\n",
       "  <pychemauth.preprocessing.scaling.CorrectedScaler at 0x7fee8644e7d0>),\n",
       " ('my_chosen_model', PLSDA(not_assigned='UNKNOWN', style='hard'))]"
      ]
     },
     "execution_count": 62,
     "metadata": {},
     "output_type": "execute_result"
    }
   ],
   "source": [
    "pipeline.steps"
   ]
  },
  {
   "cell_type": "code",
   "execution_count": 63,
   "id": "764c1e8e",
   "metadata": {
    "ExecuteTime": {
     "end_time": "2023-09-07T14:59:28.251082Z",
     "start_time": "2023-09-07T14:59:28.170588Z"
    }
   },
   "outputs": [
    {
     "data": {
      "text/plain": [
       "{'fill_in_missing': <pychemauth.preprocessing.missing.PCA_IA at 0x7fee89d0d2d0>,\n",
       " 'class_balancer': <pychemauth.preprocessing.imbalanced.ScaledSMOTEENN at 0x7fee8644f650>,\n",
       " 'autoscaler': <pychemauth.preprocessing.scaling.CorrectedScaler at 0x7fee8644e7d0>,\n",
       " 'my_chosen_model': PLSDA(not_assigned='UNKNOWN', style='hard')}"
      ]
     },
     "execution_count": 63,
     "metadata": {},
     "output_type": "execute_result"
    }
   ],
   "source": [
    "pipeline.named_steps"
   ]
  },
  {
   "cell_type": "code",
   "execution_count": 64,
   "id": "2da7ef05",
   "metadata": {
    "ExecuteTime": {
     "end_time": "2023-09-07T14:59:28.345894Z",
     "start_time": "2023-09-07T14:59:28.253780Z"
    }
   },
   "outputs": [
    {
     "data": {
      "text/plain": [
       "<pychemauth.preprocessing.missing.PCA_IA at 0x7fee89d0d2d0>"
      ]
     },
     "execution_count": 64,
     "metadata": {},
     "output_type": "execute_result"
    }
   ],
   "source": [
    "pipeline[\"fill_in_missing\"]"
   ]
  },
  {
   "cell_type": "markdown",
   "id": "0ae163a7",
   "metadata": {},
   "source": [
    "Each estimator in the pipeline has parameters which can be accessed using the name__parameter syntax.  This is usually most important when doing cross-validation as will be explained later."
   ]
  },
  {
   "cell_type": "code",
   "execution_count": 65,
   "id": "4429239d",
   "metadata": {
    "ExecuteTime": {
     "end_time": "2023-09-07T14:59:28.433736Z",
     "start_time": "2023-09-07T14:59:28.348701Z"
    }
   },
   "outputs": [
    {
     "data": {
      "text/html": [
       "<style>#sk-container-id-7 {color: black;}#sk-container-id-7 pre{padding: 0;}#sk-container-id-7 div.sk-toggleable {background-color: white;}#sk-container-id-7 label.sk-toggleable__label {cursor: pointer;display: block;width: 100%;margin-bottom: 0;padding: 0.3em;box-sizing: border-box;text-align: center;}#sk-container-id-7 label.sk-toggleable__label-arrow:before {content: \"▸\";float: left;margin-right: 0.25em;color: #696969;}#sk-container-id-7 label.sk-toggleable__label-arrow:hover:before {color: black;}#sk-container-id-7 div.sk-estimator:hover label.sk-toggleable__label-arrow:before {color: black;}#sk-container-id-7 div.sk-toggleable__content {max-height: 0;max-width: 0;overflow: hidden;text-align: left;background-color: #f0f8ff;}#sk-container-id-7 div.sk-toggleable__content pre {margin: 0.2em;color: black;border-radius: 0.25em;background-color: #f0f8ff;}#sk-container-id-7 input.sk-toggleable__control:checked~div.sk-toggleable__content {max-height: 200px;max-width: 100%;overflow: auto;}#sk-container-id-7 input.sk-toggleable__control:checked~label.sk-toggleable__label-arrow:before {content: \"▾\";}#sk-container-id-7 div.sk-estimator input.sk-toggleable__control:checked~label.sk-toggleable__label {background-color: #d4ebff;}#sk-container-id-7 div.sk-label input.sk-toggleable__control:checked~label.sk-toggleable__label {background-color: #d4ebff;}#sk-container-id-7 input.sk-hidden--visually {border: 0;clip: rect(1px 1px 1px 1px);clip: rect(1px, 1px, 1px, 1px);height: 1px;margin: -1px;overflow: hidden;padding: 0;position: absolute;width: 1px;}#sk-container-id-7 div.sk-estimator {font-family: monospace;background-color: #f0f8ff;border: 1px dotted black;border-radius: 0.25em;box-sizing: border-box;margin-bottom: 0.5em;}#sk-container-id-7 div.sk-estimator:hover {background-color: #d4ebff;}#sk-container-id-7 div.sk-parallel-item::after {content: \"\";width: 100%;border-bottom: 1px solid gray;flex-grow: 1;}#sk-container-id-7 div.sk-label:hover label.sk-toggleable__label {background-color: #d4ebff;}#sk-container-id-7 div.sk-serial::before {content: \"\";position: absolute;border-left: 1px solid gray;box-sizing: border-box;top: 0;bottom: 0;left: 50%;z-index: 0;}#sk-container-id-7 div.sk-serial {display: flex;flex-direction: column;align-items: center;background-color: white;padding-right: 0.2em;padding-left: 0.2em;position: relative;}#sk-container-id-7 div.sk-item {position: relative;z-index: 1;}#sk-container-id-7 div.sk-parallel {display: flex;align-items: stretch;justify-content: center;background-color: white;position: relative;}#sk-container-id-7 div.sk-item::before, #sk-container-id-7 div.sk-parallel-item::before {content: \"\";position: absolute;border-left: 1px solid gray;box-sizing: border-box;top: 0;bottom: 0;left: 50%;z-index: -1;}#sk-container-id-7 div.sk-parallel-item {display: flex;flex-direction: column;z-index: 1;position: relative;background-color: white;}#sk-container-id-7 div.sk-parallel-item:first-child::after {align-self: flex-end;width: 50%;}#sk-container-id-7 div.sk-parallel-item:last-child::after {align-self: flex-start;width: 50%;}#sk-container-id-7 div.sk-parallel-item:only-child::after {width: 0;}#sk-container-id-7 div.sk-dashed-wrapped {border: 1px dashed gray;margin: 0 0.4em 0.5em 0.4em;box-sizing: border-box;padding-bottom: 0.4em;background-color: white;}#sk-container-id-7 div.sk-label label {font-family: monospace;font-weight: bold;display: inline-block;line-height: 1.2em;}#sk-container-id-7 div.sk-label-container {text-align: center;}#sk-container-id-7 div.sk-container {/* jupyter's `normalize.less` sets `[hidden] { display: none; }` but bootstrap.min.css set `[hidden] { display: none !important; }` so we also need the `!important` here to be able to override the default hidden behavior on the sphinx rendered scikit-learn.org. See: https://github.com/scikit-learn/scikit-learn/issues/21755 */display: inline-block !important;position: relative;}#sk-container-id-7 div.sk-text-repr-fallback {display: none;}</style><div id=\"sk-container-id-7\" class=\"sk-top-container\"><div class=\"sk-text-repr-fallback\"><pre>Pipeline(steps=[(&#x27;fill_in_missing&#x27;,\n",
       "                 &lt;pychemauth.preprocessing.missing.PCA_IA object at 0x7fee89d0d2d0&gt;),\n",
       "                (&#x27;class_balancer&#x27;,\n",
       "                 &lt;pychemauth.preprocessing.imbalanced.ScaledSMOTEENN object at 0x7fee8644f650&gt;),\n",
       "                (&#x27;autoscaler&#x27;,\n",
       "                 &lt;pychemauth.preprocessing.scaling.CorrectedScaler object at 0x7fee8644e7d0&gt;),\n",
       "                (&#x27;my_chosen_model&#x27;,\n",
       "                 PLSDA(not_assigned=&#x27;UNKNOWN&#x27;, style=&#x27;hard&#x27;))])</pre><b>In a Jupyter environment, please rerun this cell to show the HTML representation or trust the notebook. <br />On GitHub, the HTML representation is unable to render, please try loading this page with nbviewer.org.</b></div><div class=\"sk-container\" hidden><div class=\"sk-item sk-dashed-wrapped\"><div class=\"sk-label-container\"><div class=\"sk-label sk-toggleable\"><input class=\"sk-toggleable__control sk-hidden--visually\" id=\"sk-estimator-id-43\" type=\"checkbox\" ><label for=\"sk-estimator-id-43\" class=\"sk-toggleable__label sk-toggleable__label-arrow\">Pipeline</label><div class=\"sk-toggleable__content\"><pre>Pipeline(steps=[(&#x27;fill_in_missing&#x27;,\n",
       "                 &lt;pychemauth.preprocessing.missing.PCA_IA object at 0x7fee89d0d2d0&gt;),\n",
       "                (&#x27;class_balancer&#x27;,\n",
       "                 &lt;pychemauth.preprocessing.imbalanced.ScaledSMOTEENN object at 0x7fee8644f650&gt;),\n",
       "                (&#x27;autoscaler&#x27;,\n",
       "                 &lt;pychemauth.preprocessing.scaling.CorrectedScaler object at 0x7fee8644e7d0&gt;),\n",
       "                (&#x27;my_chosen_model&#x27;,\n",
       "                 PLSDA(not_assigned=&#x27;UNKNOWN&#x27;, style=&#x27;hard&#x27;))])</pre></div></div></div><div class=\"sk-serial\"><div class=\"sk-item\"><div class=\"sk-estimator sk-toggleable\"><input class=\"sk-toggleable__control sk-hidden--visually\" id=\"sk-estimator-id-44\" type=\"checkbox\" ><label for=\"sk-estimator-id-44\" class=\"sk-toggleable__label sk-toggleable__label-arrow\">PCA_IA</label><div class=\"sk-toggleable__content\"><pre>&lt;pychemauth.preprocessing.missing.PCA_IA object at 0x7fee89d0d2d0&gt;</pre></div></div></div><div class=\"sk-item sk-dashed-wrapped\"><div class=\"sk-label-container\"><div class=\"sk-label sk-toggleable\"><input class=\"sk-toggleable__control sk-hidden--visually\" id=\"sk-estimator-id-45\" type=\"checkbox\" ><label for=\"sk-estimator-id-45\" class=\"sk-toggleable__label sk-toggleable__label-arrow\">class_balancer: ScaledSMOTEENN</label><div class=\"sk-toggleable__content\"><pre>&lt;pychemauth.preprocessing.imbalanced.ScaledSMOTEENN object at 0x7fee8644f650&gt;</pre></div></div></div><div class=\"sk-parallel\"><div class=\"sk-parallel-item\"><div class=\"sk-item\"><div class=\"sk-label-container\"><div class=\"sk-label sk-toggleable\"><input class=\"sk-toggleable__control sk-hidden--visually\" id=\"sk-estimator-id-46\" type=\"checkbox\" ><label for=\"sk-estimator-id-46\" class=\"sk-toggleable__label sk-toggleable__label-arrow\">scaler: StandardScaler</label><div class=\"sk-toggleable__content\"><pre>StandardScaler()</pre></div></div></div><div class=\"sk-serial\"><div class=\"sk-item\"><div class=\"sk-estimator sk-toggleable\"><input class=\"sk-toggleable__control sk-hidden--visually\" id=\"sk-estimator-id-47\" type=\"checkbox\" ><label for=\"sk-estimator-id-47\" class=\"sk-toggleable__label sk-toggleable__label-arrow\">StandardScaler</label><div class=\"sk-toggleable__content\"><pre>StandardScaler()</pre></div></div></div></div></div></div></div></div><div class=\"sk-item\"><div class=\"sk-estimator sk-toggleable\"><input class=\"sk-toggleable__control sk-hidden--visually\" id=\"sk-estimator-id-48\" type=\"checkbox\" ><label for=\"sk-estimator-id-48\" class=\"sk-toggleable__label sk-toggleable__label-arrow\">CorrectedScaler</label><div class=\"sk-toggleable__content\"><pre>&lt;pychemauth.preprocessing.scaling.CorrectedScaler object at 0x7fee8644e7d0&gt;</pre></div></div></div><div class=\"sk-item\"><div class=\"sk-estimator sk-toggleable\"><input class=\"sk-toggleable__control sk-hidden--visually\" id=\"sk-estimator-id-49\" type=\"checkbox\" ><label for=\"sk-estimator-id-49\" class=\"sk-toggleable__label sk-toggleable__label-arrow\">PLSDA</label><div class=\"sk-toggleable__content\"><pre>PLSDA(not_assigned=&#x27;UNKNOWN&#x27;, style=&#x27;hard&#x27;)</pre></div></div></div></div></div></div></div>"
      ],
      "text/plain": [
       "Pipeline(steps=[('fill_in_missing',\n",
       "                 <pychemauth.preprocessing.missing.PCA_IA object at 0x7fee89d0d2d0>),\n",
       "                ('class_balancer',\n",
       "                 <pychemauth.preprocessing.imbalanced.ScaledSMOTEENN object at 0x7fee8644f650>),\n",
       "                ('autoscaler',\n",
       "                 <pychemauth.preprocessing.scaling.CorrectedScaler object at 0x7fee8644e7d0>),\n",
       "                ('my_chosen_model',\n",
       "                 PLSDA(not_assigned='UNKNOWN', style='hard'))])"
      ]
     },
     "execution_count": 65,
     "metadata": {},
     "output_type": "execute_result"
    }
   ],
   "source": [
    "pipeline.set_params(fill_in_missing__n_components=2)"
   ]
  },
  {
   "cell_type": "markdown",
   "id": "75f9f778",
   "metadata": {
    "ExecuteTime": {
     "end_time": "2023-08-31T18:17:10.134268Z",
     "start_time": "2023-08-31T18:17:10.089957Z"
    }
   },
   "source": [
    "Cross-Validation\n",
    "---\n",
    "\n",
    "There are various [forms of cross-validation](https://scikit-learn.org/stable/modules/cross_validation.html#cross-validation-iterators) that sklearn provides; KFold (for regression) and StratifiedKFold (for classification) are probably the most commonly used.  To optimize the hyperparameters of a pipeline one can use GridSearchCV or [other hyperparameter optimizers](https://scikit-learn.org/stable/modules/classes.html#module-sklearn.model_selection).  \n",
    "\n",
    "For a grid search, we simply specify all parameters we wish to try and every combination will be tested; the best model, as determined by the model (final pipeline step) score from CV will be taken as the best."
   ]
  },
  {
   "cell_type": "code",
   "execution_count": 66,
   "id": "7fa8c27b",
   "metadata": {
    "ExecuteTime": {
     "end_time": "2023-09-07T14:59:28.530040Z",
     "start_time": "2023-09-07T14:59:28.438916Z"
    }
   },
   "outputs": [],
   "source": [
    "# Let's get some data ready for this example\n",
    "from sklearn.datasets import load_iris as load_data\n",
    "from sklearn.model_selection import train_test_split, GridSearchCV\n",
    "\n",
    "X, y = load_data(return_X_y=True, as_frame=True)\n",
    "\n",
    "# Let's turn the indices into names\n",
    "names = dict(zip(np.arange(3), ['setosa', 'versicolor', 'virginica'])) \n",
    "y = y.apply(lambda x: names[x])\n",
    "\n",
    "# Split the data into a test/train partition\n",
    "X_train, X_test, y_train, y_test = train_test_split(\n",
    "    X.values,\n",
    "    y.values, # Let's try to predict the salary based on the other numerical features.\n",
    "    shuffle=True,\n",
    "    random_state=42,\n",
    "    test_size=0.2,\n",
    "    stratify=y # It is usually important to balance the test and train set so they have the same fraction of classes\n",
    ")"
   ]
  },
  {
   "cell_type": "markdown",
   "id": "31b8360a",
   "metadata": {
    "ExecuteTime": {
     "end_time": "2023-08-31T18:40:25.560580Z",
     "start_time": "2023-08-31T18:40:25.513826Z"
    }
   },
   "source": [
    "We can also set entire steps to be skipped by specifying them as \"passthrough\", as shown for the class_balancer step below."
   ]
  },
  {
   "cell_type": "code",
   "execution_count": 67,
   "id": "116c5e8d",
   "metadata": {
    "ExecuteTime": {
     "end_time": "2023-09-07T14:59:31.594253Z",
     "start_time": "2023-09-07T14:59:28.533133Z"
    }
   },
   "outputs": [],
   "source": [
    "# We can specify the set of parameters to check over like this.  Note that anything we do not change will remain the \n",
    "# same as what was originally specified when the pipeline was instantiated.\n",
    "param_grid = [{\n",
    "    'fill_in_missing__n_components': [1, 3],\n",
    "    'class_balancer': ['passthrough'], # Skip class balancing altogether\n",
    "    'autoscaler__pareto': [True, False],\n",
    "    'my_chosen_model__n_components':[3, 4],\n",
    "}]\n",
    "\n",
    "gs = GridSearchCV(\n",
    "    estimator=pipeline,\n",
    "    param_grid=param_grid,\n",
    "    n_jobs=-1,\n",
    "    cv=sklearn.model_selection.StratifiedKFold(n_splits=3, shuffle=True, random_state=0), # Specify a form of CV\n",
    "    error_score=0,\n",
    "    refit=True # This will retrain the entire model on the whole training set after it determines the best hyperparameters\n",
    ")\n",
    "\n",
    "# Calling `fit` on the gridsearch object performs CV on the pipeline to find the best hyperparameters\n",
    "_ = gs.fit(X_train, y_train)"
   ]
  },
  {
   "cell_type": "code",
   "execution_count": 68,
   "id": "8de91b5c",
   "metadata": {
    "ExecuteTime": {
     "end_time": "2023-09-07T14:59:31.622607Z",
     "start_time": "2023-09-07T14:59:31.596753Z"
    }
   },
   "outputs": [
    {
     "data": {
      "text/plain": [
       "{'autoscaler__pareto': True,\n",
       " 'class_balancer': 'passthrough',\n",
       " 'fill_in_missing__n_components': 1,\n",
       " 'my_chosen_model__n_components': 4}"
      ]
     },
     "execution_count": 68,
     "metadata": {},
     "output_type": "execute_result"
    }
   ],
   "source": [
    "# Here are the best parameters found\n",
    "gs.best_params_"
   ]
  },
  {
   "cell_type": "code",
   "execution_count": 69,
   "id": "9958727c",
   "metadata": {
    "ExecuteTime": {
     "end_time": "2023-09-07T14:59:31.718852Z",
     "start_time": "2023-09-07T14:59:31.624273Z"
    }
   },
   "outputs": [
    {
     "data": {
      "text/plain": [
       "{'mean_fit_time': array([0.01355918, 0.01295519, 0.01063053, 0.01221156, 0.00970364,\n",
       "        0.0101343 , 0.01022283, 0.01129882]),\n",
       " 'std_fit_time': array([0.0025981 , 0.0027141 , 0.00049985, 0.0035142 , 0.00051122,\n",
       "        0.00032319, 0.00055186, 0.00160037]),\n",
       " 'mean_score_time': array([0.01842578, 0.01373903, 0.01447662, 0.01517614, 0.01331162,\n",
       "        0.01316269, 0.01414879, 0.01385236]),\n",
       " 'std_score_time': array([0.00466608, 0.0005196 , 0.00031571, 0.00122453, 0.000626  ,\n",
       "        0.00065748, 0.00084628, 0.00074369]),\n",
       " 'param_autoscaler__pareto': masked_array(data=[True, True, True, True, False, False, False, False],\n",
       "              mask=[False, False, False, False, False, False, False, False],\n",
       "        fill_value='?',\n",
       "             dtype=object),\n",
       " 'param_class_balancer': masked_array(data=['passthrough', 'passthrough', 'passthrough',\n",
       "                    'passthrough', 'passthrough', 'passthrough',\n",
       "                    'passthrough', 'passthrough'],\n",
       "              mask=[False, False, False, False, False, False, False, False],\n",
       "        fill_value='?',\n",
       "             dtype=object),\n",
       " 'param_fill_in_missing__n_components': masked_array(data=[1, 1, 3, 3, 1, 1, 3, 3],\n",
       "              mask=[False, False, False, False, False, False, False, False],\n",
       "        fill_value='?',\n",
       "             dtype=object),\n",
       " 'param_my_chosen_model__n_components': masked_array(data=[3, 4, 3, 4, 3, 4, 3, 4],\n",
       "              mask=[False, False, False, False, False, False, False, False],\n",
       "        fill_value='?',\n",
       "             dtype=object),\n",
       " 'params': [{'autoscaler__pareto': True,\n",
       "   'class_balancer': 'passthrough',\n",
       "   'fill_in_missing__n_components': 1,\n",
       "   'my_chosen_model__n_components': 3},\n",
       "  {'autoscaler__pareto': True,\n",
       "   'class_balancer': 'passthrough',\n",
       "   'fill_in_missing__n_components': 1,\n",
       "   'my_chosen_model__n_components': 4},\n",
       "  {'autoscaler__pareto': True,\n",
       "   'class_balancer': 'passthrough',\n",
       "   'fill_in_missing__n_components': 3,\n",
       "   'my_chosen_model__n_components': 3},\n",
       "  {'autoscaler__pareto': True,\n",
       "   'class_balancer': 'passthrough',\n",
       "   'fill_in_missing__n_components': 3,\n",
       "   'my_chosen_model__n_components': 4},\n",
       "  {'autoscaler__pareto': False,\n",
       "   'class_balancer': 'passthrough',\n",
       "   'fill_in_missing__n_components': 1,\n",
       "   'my_chosen_model__n_components': 3},\n",
       "  {'autoscaler__pareto': False,\n",
       "   'class_balancer': 'passthrough',\n",
       "   'fill_in_missing__n_components': 1,\n",
       "   'my_chosen_model__n_components': 4},\n",
       "  {'autoscaler__pareto': False,\n",
       "   'class_balancer': 'passthrough',\n",
       "   'fill_in_missing__n_components': 3,\n",
       "   'my_chosen_model__n_components': 3},\n",
       "  {'autoscaler__pareto': False,\n",
       "   'class_balancer': 'passthrough',\n",
       "   'fill_in_missing__n_components': 3,\n",
       "   'my_chosen_model__n_components': 4}],\n",
       " 'split0_test_score': array([0.75, 0.8 , 0.75, 0.8 , 0.75, 0.8 , 0.75, 0.8 ]),\n",
       " 'split1_test_score': array([0.725, 0.775, 0.725, 0.775, 0.725, 0.775, 0.725, 0.775]),\n",
       " 'split2_test_score': array([0.65 , 0.675, 0.65 , 0.675, 0.65 , 0.675, 0.65 , 0.675]),\n",
       " 'mean_test_score': array([0.70833333, 0.75      , 0.70833333, 0.75      , 0.70833333,\n",
       "        0.75      , 0.70833333, 0.75      ]),\n",
       " 'std_test_score': array([0.04249183, 0.05400617, 0.04249183, 0.05400617, 0.04249183,\n",
       "        0.05400617, 0.04249183, 0.05400617]),\n",
       " 'rank_test_score': array([5, 1, 5, 1, 5, 1, 5, 1], dtype=int32)}"
      ]
     },
     "execution_count": 69,
     "metadata": {},
     "output_type": "execute_result"
    }
   ],
   "source": [
    "# All the detailed results from CV are stored here\n",
    "gs.cv_results_"
   ]
  },
  {
   "cell_type": "markdown",
   "id": "dfbc0234",
   "metadata": {
    "ExecuteTime": {
     "end_time": "2023-08-31T18:42:03.397455Z",
     "start_time": "2023-08-31T18:42:03.353574Z"
    }
   },
   "source": [
    "`refit=True` refits the entire pipeline on all of the data.  Here we used 3-fold CV so the best model was only over fit with 2/3 of the training data while the remaining 1/3 was held out to evaluate the performance on.  As a result, now we can use the pipeline directly to predict on the test set, etc. without any need for further training."
   ]
  },
  {
   "cell_type": "code",
   "execution_count": 70,
   "id": "e0f7899b",
   "metadata": {
    "ExecuteTime": {
     "end_time": "2023-09-07T14:59:31.783897Z",
     "start_time": "2023-09-07T14:59:31.720468Z"
    }
   },
   "outputs": [
    {
     "data": {
      "text/plain": [
       "[['setosa'],\n",
       " ['virginica'],\n",
       " ['versicolor'],\n",
       " ['versicolor'],\n",
       " ['setosa'],\n",
       " ['virginica'],\n",
       " ['setosa'],\n",
       " ['setosa'],\n",
       " ['virginica'],\n",
       " ['setosa']]"
      ]
     },
     "execution_count": 70,
     "metadata": {},
     "output_type": "execute_result"
    }
   ],
   "source": [
    "gs.predict(X_test)[:10]"
   ]
  },
  {
   "cell_type": "code",
   "execution_count": 71,
   "id": "ae1eeea3",
   "metadata": {
    "ExecuteTime": {
     "end_time": "2023-09-07T14:59:31.911709Z",
     "start_time": "2023-09-07T14:59:31.786818Z"
    }
   },
   "outputs": [
    {
     "name": "stdout",
     "output_type": "stream",
     "text": [
      "The best model has: 76.7% accuracy on the test set and 75.8% accuracy on the training set\n"
     ]
    }
   ],
   "source": [
    "print(\n",
    "    'The best model has: {}% accuracy on the test set and {}% accuracy on the training set'.format(\n",
    "        '%.1f'%(100*gs.score(X_test, y_test)),\n",
    "        '%.1f'%(100*gs.score(X_train, y_train)),\n",
    "    )\n",
    ")"
   ]
  },
  {
   "cell_type": "markdown",
   "id": "1adbbe1d",
   "metadata": {},
   "source": [
    "Imbalanced-learn Pipelines\n",
    "---\n",
    "\n",
    "The path the test data takes through the pipeline shown at the top of this document is different from that taken by the training data.  This is because there is a class-balancing step in the pipeline.  This particular example uses resampling to generate synthetic training examples of minority classes in the training set so the final model will be less biased.  However, this should only act during training; at test time, we don't want to create \"fake\" data on which to evaluate the model since this does not give us a real impression of the now model is handling data.  \n",
    "\n",
    "The <a href=\"https://imbalanced-learn.org/stable/\">imbalanced-learn</a> library gets around this by employing `fit_resample` methods which are only called during training, while `fit` methods get called at test time.  If an estimator does not have a `fit` method, it will be skipped.  sklearn's pipelines do not include this logic, but fortunately imblearn's pipelines are drop-in replacements which can handle this!  This is why it was actually <b>necessary</b> to specify 'passthrough' for the class_balancer in the last example."
   ]
  },
  {
   "cell_type": "code",
   "execution_count": 72,
   "id": "0a378b46",
   "metadata": {
    "ExecuteTime": {
     "end_time": "2023-09-07T14:59:31.947503Z",
     "start_time": "2023-09-07T14:59:31.913147Z"
    }
   },
   "outputs": [],
   "source": [
    "# Note the syntax is identical!\n",
    "imblearn_pipeline = imblearn.pipeline.Pipeline(\n",
    "    steps=[\n",
    "        (\"fill_in_missing\", PCA_IA( # First we are assuming we need to fill in missing values in X\n",
    "                n_components=3,\n",
    "                missing_values=np.nan\n",
    "            )\n",
    "        ),\n",
    "        (\"class_balancer\", ScaledSMOTEENN( # Next, we will have to balance the observations of the number of each class\n",
    "            k_smote=5,\n",
    "            k_enn=3,\n",
    "            )\n",
    "        ),\n",
    "        (\"autoscaler\", CorrectedScaler( # Then, we should center and scale the data\n",
    "            with_mean=True,\n",
    "            with_std=True,\n",
    "            pareto=False\n",
    "            )\n",
    "        ),\n",
    "        (\"my_chosen_model\", PLSDA( # Finally, we will pass the cleaned, balanced, and scaled data to the model\n",
    "            n_components=1,\n",
    "            style='hard',\n",
    "            not_assigned='UNKNOWN'\n",
    "            )\n",
    "        )\n",
    "    ]\n",
    ")"
   ]
  },
  {
   "cell_type": "code",
   "execution_count": 73,
   "id": "fba3bfd4",
   "metadata": {
    "ExecuteTime": {
     "end_time": "2023-09-07T14:59:33.904999Z",
     "start_time": "2023-09-07T14:59:31.949335Z"
    }
   },
   "outputs": [],
   "source": [
    "param_grid = [{\n",
    "    'fill_in_missing__n_components': [1, 3],\n",
    "    'class_balancer': ['passthrough', ScaledSMOTEENN(k_smote=5, k_enn=3)], # Now we can try adding a class balancing step\n",
    "    'autoscaler__pareto': [True, False],\n",
    "    'my_chosen_model__n_components':[3, 4],\n",
    "}]\n",
    "\n",
    "gs = GridSearchCV(\n",
    "    estimator=imblearn_pipeline,\n",
    "    param_grid=param_grid,\n",
    "    n_jobs=-1,\n",
    "    cv=sklearn.model_selection.StratifiedKFold(n_splits=3, shuffle=True, random_state=0), # Specify a form of CV\n",
    "    error_score=0,\n",
    "    refit=True # This will retrain the entire model on the whole training set after it determines the best hyperparameters\n",
    ")\n",
    "\n",
    "# Calling `fit` on the gridsearch object performs CV on the pipeline to find the best hyperparameters\n",
    "_ = gs.fit(X_train, y_train)"
   ]
  },
  {
   "cell_type": "code",
   "execution_count": 74,
   "id": "d709d112",
   "metadata": {
    "ExecuteTime": {
     "end_time": "2023-09-07T14:59:33.950205Z",
     "start_time": "2023-09-07T14:59:33.908965Z"
    }
   },
   "outputs": [
    {
     "data": {
      "text/plain": [
       "{'autoscaler__pareto': True,\n",
       " 'class_balancer': <pychemauth.preprocessing.imbalanced.ScaledSMOTEENN at 0x7fee86595e50>,\n",
       " 'fill_in_missing__n_components': 1,\n",
       " 'my_chosen_model__n_components': 4}"
      ]
     },
     "execution_count": 74,
     "metadata": {},
     "output_type": "execute_result"
    }
   ],
   "source": [
    "gs.best_params_"
   ]
  },
  {
   "cell_type": "code",
   "execution_count": 75,
   "id": "cd6e75ec",
   "metadata": {
    "ExecuteTime": {
     "end_time": "2023-09-07T14:59:34.025063Z",
     "start_time": "2023-09-07T14:59:33.953439Z"
    }
   },
   "outputs": [
    {
     "name": "stdout",
     "output_type": "stream",
     "text": [
      "The best model has: 80.0% accuracy on the test set and 80.0% accuracy on the training set\n"
     ]
    }
   ],
   "source": [
    "print(\n",
    "    'The best model has: {}% accuracy on the test set and {}% accuracy on the training set'.format(\n",
    "        '%.1f'%(100*gs.score(X_test, y_test)),\n",
    "        '%.1f'%(100*gs.score(X_train, y_train)),\n",
    "    )\n",
    ")"
   ]
  },
  {
   "cell_type": "code",
   "execution_count": null,
   "id": "cf63601f",
   "metadata": {},
   "outputs": [],
   "source": []
  }
 ],
 "metadata": {
  "kernelspec": {
   "display_name": "oyster-provenance",
   "language": "python",
   "name": "oyster-provenance"
  },
  "language_info": {
   "codemirror_mode": {
    "name": "ipython",
    "version": 3
   },
   "file_extension": ".py",
   "mimetype": "text/x-python",
   "name": "python",
   "nbconvert_exporter": "python",
   "pygments_lexer": "ipython3",
   "version": "3.11.4"
  }
 },
 "nbformat": 4,
 "nbformat_minor": 5
}
