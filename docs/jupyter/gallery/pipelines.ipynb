{
 "cells": [
  {
   "cell_type": "code",
   "execution_count": null,
   "id": "bf94c60f",
   "metadata": {},
   "outputs": [],
   "source": []
  },
  {
   "cell_type": "code",
   "execution_count": null,
   "id": "6e5c9d76",
   "metadata": {},
   "outputs": [],
   "source": [
    "pipeline is metaestimator; important to view the entire pipeline as the estimator. everything inside is hyperameter to be tuned"
   ]
  },
  {
   "cell_type": "markdown",
   "id": "c166e7d8",
   "metadata": {},
   "source": [
    "Scikit-learn Pipelines\n",
    "---"
   ]
  },
  {
   "cell_type": "code",
   "execution_count": null,
   "id": "a1c30e98",
   "metadata": {},
   "outputs": [],
   "source": []
  },
  {
   "cell_type": "code",
   "execution_count": null,
   "id": "3f6824ea",
   "metadata": {},
   "outputs": [],
   "source": [
    "preprocess -> fill in/impute -> class balance -> model"
   ]
  },
  {
   "cell_type": "code",
   "execution_count": null,
   "id": "6969cffd",
   "metadata": {},
   "outputs": [],
   "source": []
  },
  {
   "cell_type": "code",
   "execution_count": null,
   "id": "764c1e8e",
   "metadata": {},
   "outputs": [],
   "source": []
  },
  {
   "cell_type": "code",
   "execution_count": null,
   "id": "2da7ef05",
   "metadata": {},
   "outputs": [],
   "source": []
  },
  {
   "cell_type": "markdown",
   "id": "1adbbe1d",
   "metadata": {},
   "source": [
    "Imbalanced-learn Pipelines\n",
    "---"
   ]
  },
  {
   "cell_type": "code",
   "execution_count": null,
   "id": "0a378b46",
   "metadata": {},
   "outputs": [],
   "source": [
    "resampling changes things"
   ]
  },
  {
   "cell_type": "code",
   "execution_count": null,
   "id": "fba3bfd4",
   "metadata": {},
   "outputs": [],
   "source": []
  },
  {
   "cell_type": "markdown",
   "id": "3f2f4301",
   "metadata": {},
   "source": [
    "Cross-Validation\n",
    "---"
   ]
  },
  {
   "cell_type": "code",
   "execution_count": null,
   "id": "85e36049",
   "metadata": {},
   "outputs": [],
   "source": [
    "cross val - diff types"
   ]
  },
  {
   "cell_type": "code",
   "execution_count": null,
   "id": "d709d112",
   "metadata": {},
   "outputs": [],
   "source": []
  },
  {
   "cell_type": "markdown",
   "id": "4cc90f93",
   "metadata": {},
   "source": [
    "Comparison\n",
    "---"
   ]
  },
  {
   "cell_type": "code",
   "execution_count": null,
   "id": "d3c42252",
   "metadata": {},
   "outputs": [],
   "source": [
    "comparisons - statistical performance ranking"
   ]
  },
  {
   "cell_type": "code",
   "execution_count": null,
   "id": "1999a61a",
   "metadata": {},
   "outputs": [],
   "source": []
  },
  {
   "cell_type": "markdown",
   "id": "a3d24ed2",
   "metadata": {},
   "source": [
    "Feature Selection\n",
    "---"
   ]
  },
  {
   "cell_type": "code",
   "execution_count": null,
   "id": "21029291",
   "metadata": {},
   "outputs": [],
   "source": [
    "SFS and RFE examples to shown"
   ]
  }
 ],
 "metadata": {
  "kernelspec": {
   "display_name": "oyster-provenance",
   "language": "python",
   "name": "oyster-provenance"
  },
  "language_info": {
   "codemirror_mode": {
    "name": "ipython",
    "version": 3
   },
   "file_extension": ".py",
   "mimetype": "text/x-python",
   "name": "python",
   "nbconvert_exporter": "python",
   "pygments_lexer": "ipython3",
   "version": "3.11.4"
  }
 },
 "nbformat": 4,
 "nbformat_minor": 5
}
