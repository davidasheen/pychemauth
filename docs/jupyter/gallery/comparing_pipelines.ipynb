{
 "cells": [
  {
   "cell_type": "markdown",
   "id": "82f6f460",
   "metadata": {},
   "source": [
    "Comparing the Performance of Pipelines\n",
    "==="
   ]
  },
  {
   "cell_type": "markdown",
   "id": "f53e799a",
   "metadata": {
    "ExecuteTime": {
     "end_time": "2023-09-01T12:19:01.894144Z",
     "start_time": "2023-09-01T12:19:01.886792Z"
    }
   },
   "source": [
    "<div class=\"alert alert-block alert-info\">\n",
    "Author: Nathan A. Mahynski\n",
    "\n",
    "Date: 2023/08/31\n",
    "\n",
    "Description: How can we determine which models or pipelines are actually better?\n",
    "</div>"
   ]
  },
  {
   "cell_type": "code",
   "execution_count": null,
   "id": "4b96f0a2",
   "metadata": {},
   "outputs": [],
   "source": [
    "# do basic cross_val_score\n",
    "# then use pychemauth tools"
   ]
  }
 ],
 "metadata": {
  "kernelspec": {
   "display_name": "oyster-provenance",
   "language": "python",
   "name": "oyster-provenance"
  },
  "language_info": {
   "codemirror_mode": {
    "name": "ipython",
    "version": 3
   },
   "file_extension": ".py",
   "mimetype": "text/x-python",
   "name": "python",
   "nbconvert_exporter": "python",
   "pygments_lexer": "ipython3",
   "version": "3.11.4"
  }
 },
 "nbformat": 4,
 "nbformat_minor": 5
}
