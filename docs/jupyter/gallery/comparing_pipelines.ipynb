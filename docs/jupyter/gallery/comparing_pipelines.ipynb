{
 "cells": [
  {
   "cell_type": "markdown",
   "id": "82f6f460",
   "metadata": {},
   "source": [
    "Comparing the Performance of Pipelines\n",
    "==="
   ]
  },
  {
   "cell_type": "markdown",
   "id": "f53e799a",
   "metadata": {
    "ExecuteTime": {
     "end_time": "2023-09-01T12:19:01.894144Z",
     "start_time": "2023-09-01T12:19:01.886792Z"
    }
   },
   "source": [
    "Author: Nathan A. Mahynski\n",
    "\n",
    "Date: 2023/08/31\n",
    "\n",
    "Description: How can we determine which models or pipelines are actually better than each other?"
   ]
  },
  {
   "cell_type": "code",
   "execution_count": 2,
   "id": "4b96f0a2",
   "metadata": {
    "ExecuteTime": {
     "end_time": "2023-09-11T15:19:06.315968Z",
     "start_time": "2023-09-11T15:19:05.871665Z"
    }
   },
   "outputs": [],
   "source": [
    "using_colab = 'google.colab' in str(get_ipython())\n",
    "if using_colab:\n",
    "    !pip install git+https://github.com/mahynski/pychemauth@main\n",
    "\n",
    "try:\n",
    "    import pychemauth\n",
    "except:\n",
    "    raise ImportError(\"pychemauth not installed\")\n",
    "\n",
    "import matplotlib.pyplot as plt\n",
    "%matplotlib inline\n",
    "\n",
    "import watermark\n",
    "%load_ext watermark\n",
    "\n",
    "%load_ext autoreload\n",
    "%autoreload 2"
   ]
  },
  {
   "cell_type": "code",
   "execution_count": 6,
   "id": "aebb8730",
   "metadata": {
    "ExecuteTime": {
     "end_time": "2023-09-11T15:20:26.147903Z",
     "start_time": "2023-09-11T15:20:26.120939Z"
    }
   },
   "outputs": [],
   "source": [
    "import numpy as np"
   ]
  },
  {
   "cell_type": "code",
   "execution_count": null,
   "id": "9a9f1c64",
   "metadata": {},
   "outputs": [],
   "source": [
    "%watermark -t -m -v --iversions"
   ]
  },
  {
   "cell_type": "markdown",
   "id": "cb6ff44d",
   "metadata": {
    "ExecuteTime": {
     "end_time": "2023-09-11T15:19:57.219231Z",
     "start_time": "2023-09-11T15:19:57.202794Z"
    }
   },
   "source": [
    "<h3>Load the Data</h3>"
   ]
  },
  {
   "cell_type": "code",
   "execution_count": 7,
   "id": "e0d4af5b",
   "metadata": {
    "ExecuteTime": {
     "end_time": "2023-09-11T15:20:27.933332Z",
     "start_time": "2023-09-11T15:20:27.894572Z"
    }
   },
   "outputs": [],
   "source": [
    "from sklearn.datasets import load_iris as load_data\n",
    "X, y = load_data(return_X_y=True, as_frame=True)"
   ]
  },
  {
   "cell_type": "code",
   "execution_count": 8,
   "id": "b5d7a51c",
   "metadata": {
    "ExecuteTime": {
     "end_time": "2023-09-11T15:20:28.063247Z",
     "start_time": "2023-09-11T15:20:28.030202Z"
    }
   },
   "outputs": [],
   "source": [
    "# Let's turn the indices into names\n",
    "names = dict(zip(np.arange(3), ['setosa', 'versicolor', 'virginica'])) \n",
    "y = y.apply(lambda x: names[x])"
   ]
  },
  {
   "cell_type": "code",
   "execution_count": 9,
   "id": "33d9420b",
   "metadata": {
    "ExecuteTime": {
     "end_time": "2023-09-11T15:20:28.666200Z",
     "start_time": "2023-09-11T15:20:28.580316Z"
    }
   },
   "outputs": [],
   "source": [
    "from sklearn.model_selection import train_test_split\n",
    "\n",
    "X_train, X_test, y_train, y_test = train_test_split(\n",
    "    X.values,\n",
    "    y.values, # Let's try to predict the salary based on the other numerical features.\n",
    "    shuffle=True,\n",
    "    random_state=42,\n",
    "    test_size=0.2,\n",
    "    stratify=y # It is usually important to balance the test and train set so they have the same fraction of classes\n",
    ")"
   ]
  },
  {
   "cell_type": "markdown",
   "id": "27e31d4d",
   "metadata": {
    "ExecuteTime": {
     "end_time": "2023-09-11T15:21:13.418115Z",
     "start_time": "2023-09-11T15:21:13.385311Z"
    }
   },
   "source": [
    "Comparing Several Models\n",
    "---"
   ]
  },
  {
   "cell_type": "markdown",
   "id": "ff21fe67",
   "metadata": {},
   "source": [
    "It is important to note that \n",
    "\n",
    "PLS-DA defines TEFF differently\n",
    "We have some authenticators, and some are compliant vs. rigorous\n",
    "\n",
    "Still, this illustrates the point of being able to compare different models."
   ]
  },
  {
   "cell_type": "code",
   "execution_count": null,
   "id": "ffe0c85b",
   "metadata": {},
   "outputs": [],
   "source": [
    "from pychemauth.classifier.simca import SIMCA_Authenticator\n",
    "\n",
    "compliant_simca = imblearn.pipeline.Pipeline(\n",
    "    steps=[\n",
    "        (\"simca\", SIMCA_Authenticator(\n",
    "            n_components=1, \n",
    "            alpha=0.05, \n",
    "            scale_x=True, \n",
    "            style='dd-simca', \n",
    "            target_class='setosa', \n",
    "            use='compliant'\n",
    "        )\n",
    "    )\n",
    "])\n",
    "\n",
    "param_grid = [{\n",
    "    'simca__n_components':np.arange(1, 4),\n",
    "}]\n",
    "\n",
    "gs_compliant_simca = GridSearchCV(\n",
    "    estimator=compliant_simca,\n",
    "    param_grid=param_grid,\n",
    "    n_jobs=-1,\n",
    "    cv=sklearn.model_selection.StratifiedKFold(n_splits=5, shuffle=True, random_state=0),\n",
    "    error_score=0,\n",
    "    refit=True\n",
    ")"
   ]
  },
  {
   "cell_type": "code",
   "execution_count": null,
   "id": "3b8e7def",
   "metadata": {},
   "outputs": [],
   "source": [
    "rigorous_simca = imblearn.pipeline.Pipeline(\n",
    "    steps=[\n",
    "        (\"simca\", SIMCA_Authenticator(\n",
    "            n_components=1, \n",
    "            alpha=0.05, \n",
    "            scale_x=True, \n",
    "            style='dd-simca', \n",
    "            target_class='setosa', \n",
    "            use='rigorous'\n",
    "        )\n",
    "    )\n",
    "])\n",
    "\n",
    "param_grid = [{\n",
    "    'simca__n_components':np.arange(1, 4),\n",
    "}]\n",
    "\n",
    "gs_rigorous_simca = GridSearchCV(\n",
    "    estimator=rigorous_simca,\n",
    "    param_grid=param_grid,\n",
    "    n_jobs=-1,\n",
    "    cv=sklearn.model_selection.StratifiedKFold(n_splits=3, shuffle=True, random_state=0),\n",
    "    error_score=0,\n",
    "    refit=True\n",
    ")\n",
    "\n",
    "_ = gs.fit(X_train, y_train)"
   ]
  },
  {
   "cell_type": "code",
   "execution_count": null,
   "id": "4ababaf9",
   "metadata": {},
   "outputs": [],
   "source": [
    "pipeline = imblearn.pipeline.Pipeline(\n",
    "    steps=[\n",
    "        (\"plsda\", PLSDA(\n",
    "            n_components=5, \n",
    "            alpha=0.05,\n",
    "            scale_x=True, \n",
    "            not_assigned='UNKNOWN',\n",
    "            style='soft', \n",
    "            score_metric='TEFF'\n",
    "        )\n",
    "    )\n",
    "])\n",
    "\n",
    "# Let's optimize the TEFF of the model and allow alpha to vary - this is a \"compliant\" approach.\n",
    "param_grid = [{\n",
    "    'plsda__n_components':[3, 4],\n",
    "    'plsda__alpha': [0.07, 0.05, 0.03, 0.01],\n",
    "}]\n",
    "\n",
    "gs = GridSearchCV(\n",
    "    estimator=pipeline,\n",
    "    param_grid=param_grid,\n",
    "    n_jobs=-1,\n",
    "    cv=sklearn.model_selection.StratifiedKFold(n_splits=3, shuffle=True, random_state=0),\n",
    "    error_score=0,\n",
    "    refit=True\n",
    ")\n",
    "\n",
    "_ = gs.fit(X_train, y_train)"
   ]
  }
 ],
 "metadata": {
  "kernelspec": {
   "display_name": "oyster-provenance",
   "language": "python",
   "name": "oyster-provenance"
  },
  "language_info": {
   "codemirror_mode": {
    "name": "ipython",
    "version": 3
   },
   "file_extension": ".py",
   "mimetype": "text/x-python",
   "name": "python",
   "nbconvert_exporter": "python",
   "pygments_lexer": "ipython3",
   "version": "3.11.4"
  }
 },
 "nbformat": 4,
 "nbformat_minor": 5
}
