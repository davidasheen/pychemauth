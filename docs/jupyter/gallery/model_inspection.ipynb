{
 "cells": [
  {
   "cell_type": "markdown",
   "id": "94bb2ed7",
   "metadata": {},
   "source": [
    "Inspecting and Explaining Models\n",
    "==="
   ]
  },
  {
   "cell_type": "code",
   "execution_count": null,
   "id": "455c00ab",
   "metadata": {},
   "outputs": [],
   "source": [
    "# PFI etc to make local and global explanations\n",
    "# Link to Molnar's book for more"
   ]
  }
 ],
 "metadata": {
  "kernelspec": {
   "display_name": "oyster-provenance",
   "language": "python",
   "name": "oyster-provenance"
  },
  "language_info": {
   "codemirror_mode": {
    "name": "ipython",
    "version": 3
   },
   "file_extension": ".py",
   "mimetype": "text/x-python",
   "name": "python",
   "nbconvert_exporter": "python",
   "pygments_lexer": "ipython3",
   "version": "3.11.4"
  }
 },
 "nbformat": 4,
 "nbformat_minor": 5
}
