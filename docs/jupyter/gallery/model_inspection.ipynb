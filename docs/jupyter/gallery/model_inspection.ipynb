{
 "cells": [
  {
   "cell_type": "markdown",
   "id": "94bb2ed7",
   "metadata": {},
   "source": [
    "Inspecting and Explaining Models\n",
    "==="
   ]
  },
  {
   "cell_type": "markdown",
   "id": "2913ba93",
   "metadata": {
    "ExecuteTime": {
     "end_time": "2023-09-11T18:30:59.431808Z",
     "start_time": "2023-09-11T18:30:59.425836Z"
    }
   },
   "source": [
    "Author: Nathan A. Mahynski\n",
    "\n",
    "Date: 2023/09/12\n",
    "\n",
    "Description: How can we inspect models and explain their predictions?"
   ]
  },
  {
   "cell_type": "code",
   "execution_count": null,
   "id": "4124edaa",
   "metadata": {},
   "outputs": [],
   "source": []
  },
  {
   "cell_type": "markdown",
   "id": "47e83b81",
   "metadata": {
    "ExecuteTime": {
     "end_time": "2023-09-11T18:38:36.896922Z",
     "start_time": "2023-09-11T18:38:36.890912Z"
    }
   },
   "source": [
    "<h3>Load the Data</h3>"
   ]
  },
  {
   "cell_type": "code",
   "execution_count": null,
   "id": "272d1a65",
   "metadata": {},
   "outputs": [],
   "source": []
  },
  {
   "cell_type": "code",
   "execution_count": null,
   "id": "a58a1497",
   "metadata": {},
   "outputs": [],
   "source": []
  },
  {
   "cell_type": "markdown",
   "id": "1b675f46",
   "metadata": {
    "ExecuteTime": {
     "end_time": "2023-09-11T18:36:01.175949Z",
     "start_time": "2023-09-11T18:36:01.170302Z"
    }
   },
   "source": [
    "Model Performance\n",
    "---\n",
    "\n",
    "Authenticators have different metrics that determine their performance.  \n",
    "\n",
    "SIMCA table of predictions is like CM,\n",
    "\n",
    "CM help explain how discriminative models perform and where they tend to go awry.  This can be important to understand for diagonize lack of data, or to possibly to consider re-classifying the input."
   ]
  },
  {
   "cell_type": "code",
   "execution_count": null,
   "id": "90a081fb",
   "metadata": {},
   "outputs": [],
   "source": [
    "confusion matrix from display\n",
    "ROC"
   ]
  },
  {
   "cell_type": "code",
   "execution_count": null,
   "id": "a4d1dda6",
   "metadata": {},
   "outputs": [],
   "source": []
  },
  {
   "cell_type": "markdown",
   "id": "0f1e44a9",
   "metadata": {},
   "source": [
    "Global Explanation  Methods\n",
    "---\n",
    "\n",
    "These explain the model in general terms, like how much it relies on certain features on average to make predictions."
   ]
  },
  {
   "cell_type": "code",
   "execution_count": null,
   "id": "522349f3",
   "metadata": {},
   "outputs": [],
   "source": [
    "PFI"
   ]
  },
  {
   "cell_type": "code",
   "execution_count": null,
   "id": "8f0549dc",
   "metadata": {},
   "outputs": [],
   "source": [
    "PDP"
   ]
  },
  {
   "cell_type": "code",
   "execution_count": null,
   "id": "a3a8acb9",
   "metadata": {},
   "outputs": [],
   "source": [
    "SHAP - squashing function"
   ]
  },
  {
   "cell_type": "markdown",
   "id": "de5f6dcf",
   "metadata": {
    "ExecuteTime": {
     "end_time": "2023-09-11T18:35:40.852890Z",
     "start_time": "2023-09-11T18:35:40.846947Z"
    }
   },
   "source": [
    "Local Explanation Methods\n",
    "---\n",
    "\n",
    "These help us explain a single prediction."
   ]
  },
  {
   "cell_type": "code",
   "execution_count": null,
   "id": "d2b58226",
   "metadata": {},
   "outputs": [],
   "source": [
    "SHAP, ICE"
   ]
  },
  {
   "cell_type": "code",
   "execution_count": null,
   "id": "fd4224ec",
   "metadata": {},
   "outputs": [],
   "source": []
  },
  {
   "cell_type": "markdown",
   "id": "f1397b69",
   "metadata": {
    "ExecuteTime": {
     "end_time": "2023-09-11T18:32:52.515300Z",
     "start_time": "2023-09-11T18:32:52.509084Z"
    }
   },
   "source": [
    "Learning Curves\n",
    "---"
   ]
  },
  {
   "cell_type": "code",
   "execution_count": null,
   "id": "da5cd31b",
   "metadata": {},
   "outputs": [],
   "source": [
    "learning curve from display"
   ]
  }
 ],
 "metadata": {
  "kernelspec": {
   "display_name": "oyster-provenance",
   "language": "python",
   "name": "oyster-provenance"
  },
  "language_info": {
   "codemirror_mode": {
    "name": "ipython",
    "version": 3
   },
   "file_extension": ".py",
   "mimetype": "text/x-python",
   "name": "python",
   "nbconvert_exporter": "python",
   "pygments_lexer": "ipython3",
   "version": "3.11.4"
  }
 },
 "nbformat": 4,
 "nbformat_minor": 5
}
