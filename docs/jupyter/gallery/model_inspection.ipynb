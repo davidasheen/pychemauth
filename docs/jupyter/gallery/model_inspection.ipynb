{
 "cells": [
  {
   "cell_type": "markdown",
   "id": "94bb2ed7",
   "metadata": {},
   "source": [
    "Inspecting and Explaining Models\n",
    "==="
   ]
  },
  {
   "cell_type": "markdown",
   "id": "04f48d68",
   "metadata": {
    "ExecuteTime": {
     "end_time": "2023-09-11T18:30:59.431808Z",
     "start_time": "2023-09-11T18:30:59.425836Z"
    }
   },
   "source": [
    "Author: Nathan A. Mahynski\n",
    "\n",
    "Date: 2023/09/12\n",
    "\n",
    "Description: How can we inspect models and explain their predictions?"
   ]
  },
  {
   "cell_type": "code",
   "execution_count": null,
   "id": "aaf4f628",
   "metadata": {},
   "outputs": [],
   "source": []
  },
  {
   "cell_type": "markdown",
   "id": "b5a95821",
   "metadata": {
    "ExecuteTime": {
     "end_time": "2023-09-11T18:38:36.896922Z",
     "start_time": "2023-09-11T18:38:36.890912Z"
    }
   },
   "source": [
    "<h3>Load the Data</h3>"
   ]
  },
  {
   "cell_type": "code",
   "execution_count": null,
   "id": "80b8f66f",
   "metadata": {},
   "outputs": [],
   "source": []
  },
  {
   "cell_type": "code",
   "execution_count": null,
   "id": "7c606c8d",
   "metadata": {},
   "outputs": [],
   "source": []
  },
  {
   "cell_type": "markdown",
   "id": "c24a081b",
   "metadata": {
    "ExecuteTime": {
     "end_time": "2023-09-11T18:36:01.175949Z",
     "start_time": "2023-09-11T18:36:01.170302Z"
    }
   },
   "source": [
    "Model Performance\n",
    "---\n",
    "\n",
    "Authenticators have different metrics that determine their performance.  \n",
    "\n",
    "SIMCA table of predictions is like CM,\n",
    "\n",
    "CM help explain how discriminative models perform and where they tend to go awry.  This can be important to understand for diagonize lack of data, or to possibly to consider re-classifying the input."
   ]
  },
  {
   "cell_type": "code",
   "execution_count": null,
   "id": "c05609f3",
   "metadata": {},
   "outputs": [],
   "source": [
    "confusion matrix from display\n",
    "ROC"
   ]
  },
  {
   "cell_type": "code",
   "execution_count": null,
   "id": "6d404c18",
   "metadata": {},
   "outputs": [],
   "source": []
  },
  {
   "cell_type": "markdown",
   "id": "63eb15c7",
   "metadata": {},
   "source": [
    "Global Explanation  Methods\n",
    "---\n",
    "\n",
    "These explain the model in general terms, like how much it relies on certain features on average to make predictions."
   ]
  },
  {
   "cell_type": "code",
   "execution_count": null,
   "id": "73430b16",
   "metadata": {},
   "outputs": [],
   "source": [
    "PFI"
   ]
  },
  {
   "cell_type": "code",
   "execution_count": null,
   "id": "52ddcbca",
   "metadata": {},
   "outputs": [],
   "source": [
    "PDP"
   ]
  },
  {
   "cell_type": "code",
   "execution_count": null,
   "id": "0a487a55",
   "metadata": {},
   "outputs": [],
   "source": [
    "SHAP - squashing function"
   ]
  },
  {
   "cell_type": "markdown",
   "id": "ee77f725",
   "metadata": {
    "ExecuteTime": {
     "end_time": "2023-09-11T18:35:40.852890Z",
     "start_time": "2023-09-11T18:35:40.846947Z"
    }
   },
   "source": [
    "Local Explanation Methods\n",
    "---\n",
    "\n",
    "These help us explain a single prediction."
   ]
  },
  {
   "cell_type": "code",
   "execution_count": null,
   "id": "4b7917db",
   "metadata": {},
   "outputs": [],
   "source": [
    "SHAP, ICE"
   ]
  },
  {
   "cell_type": "code",
   "execution_count": null,
   "id": "0ab8a337",
   "metadata": {},
   "outputs": [],
   "source": []
  },
  {
   "cell_type": "markdown",
   "id": "93aaf995",
   "metadata": {
    "ExecuteTime": {
     "end_time": "2023-09-11T18:32:52.515300Z",
     "start_time": "2023-09-11T18:32:52.509084Z"
    }
   },
   "source": [
    "Learning Curves\n",
    "---"
   ]
  },
  {
   "cell_type": "code",
   "execution_count": null,
   "id": "de2e155d",
   "metadata": {},
   "outputs": [],
   "source": [
    "learning curve from display"
   ]
  }
 ],
 "metadata": {
  "kernelspec": {
   "display_name": "oyster-provenance",
   "language": "python",
   "name": "oyster-provenance"
  },
  "language_info": {
   "codemirror_mode": {
    "name": "ipython",
    "version": 3
   },
   "file_extension": ".py",
   "mimetype": "text/x-python",
   "name": "python",
   "nbconvert_exporter": "python",
   "pygments_lexer": "ipython3",
   "version": "3.11.4"
  }
 },
 "nbformat": 4,
 "nbformat_minor": 5
}
