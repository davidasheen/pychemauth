{
 "cells": [
  {
   "cell_type": "markdown",
   "metadata": {
    "toc": true
   },
   "source": [
    "<h1>PLS Example</h1>\n",
    "\n",
    "Author: Nathan A. Mahynski\n",
    "\n",
    "Date: 2023/08/23\n",
    "\n",
    "Description: This is an example of using PLS to create a model, following the procedures outlined in [\"Detection of Outliers in Projection-Based Modeling,\" Rodionova and Pomerantsev, Analytical\n",
    "    Chemistry 92 (2020) 2656−2664.](https://doi.org/10.1021/acs.analchem.9b04611)\n",
    "    \n",
    "Figure 1 from this paper illustrates the workflow:\n",
    "\n",
    "![](https://raw.githubusercontent.com/mahynski/pychemauth/main/docs/jupyter/gallery/pls_example_fig1.png)"
   ]
  },
  {
   "cell_type": "code",
   "execution_count": null,
   "metadata": {
    "colab": {
     "base_uri": "https://localhost:8080/"
    },
    "executionInfo": {
     "elapsed": 5814,
     "status": "ok",
     "timestamp": 1644609328606,
     "user": {
      "displayName": "Nathan Mahynski",
      "photoUrl": "https://lh3.googleusercontent.com/a-/AOh14GiUlAIKCPEpbG_va5l0d5MOrKuPRHHZGu7-AEYw-A=s64",
      "userId": "00044706541353398741"
     },
     "user_tz": 300
    },
    "id": "KodWLfp1Spl7",
    "outputId": "ef8b5487-36ae-4ef4-aef6-9480980c1546"
   },
   "outputs": [],
   "source": [
    "using_colab = 'google.colab' in str(get_ipython())\n",
    "if using_colab:\n",
    "    !git clone https://github.com/mahynski/pychemauth.git --depth 1\n",
    "    !cd pychemauth; pip3 install .; cd ..\n",
    "\n",
    "import pychemauth\n",
    "\n",
    "import matplotlib.pyplot as plt\n",
    "%matplotlib inline\n",
    "\n",
    "import watermark\n",
    "%load_ext watermark\n",
    "\n",
    "%load_ext autoreload\n",
    "%autoreload 2"
   ]
  },
  {
   "cell_type": "code",
   "execution_count": null,
   "metadata": {
    "executionInfo": {
     "elapsed": 936,
     "status": "ok",
     "timestamp": 1644609329535,
     "user": {
      "displayName": "Nathan Mahynski",
      "photoUrl": "https://lh3.googleusercontent.com/a-/AOh14GiUlAIKCPEpbG_va5l0d5MOrKuPRHHZGu7-AEYw-A=s64",
      "userId": "00044706541353398741"
     },
     "user_tz": 300
    },
    "id": "VW3Z-NN_SoB-",
    "scrolled": true
   },
   "outputs": [],
   "source": [
    "import imblearn\n",
    "import sklearn\n",
    "\n",
    "from sklearn.model_selection import GridSearchCV\n",
    "\n",
    "import numpy as np\n",
    "import pandas as pd"
   ]
  },
  {
   "cell_type": "code",
   "execution_count": null,
   "metadata": {
    "colab": {
     "base_uri": "https://localhost:8080/"
    },
    "executionInfo": {
     "elapsed": 9,
     "status": "ok",
     "timestamp": 1644609329535,
     "user": {
      "displayName": "Nathan Mahynski",
      "photoUrl": "https://lh3.googleusercontent.com/a-/AOh14GiUlAIKCPEpbG_va5l0d5MOrKuPRHHZGu7-AEYw-A=s64",
      "userId": "00044706541353398741"
     },
     "user_tz": 300
    },
    "id": "4oythe2MSoCE",
    "outputId": "a01a4532-fb11-428f-b361-22461d0d601c"
   },
   "outputs": [],
   "source": [
    "%watermark -t -m -v --iversions"
   ]
  },
  {
   "cell_type": "markdown",
   "metadata": {
    "id": "fHNrgc86SoCF"
   },
   "source": [
    "Load the Data\n",
    "---"
   ]
  },
  {
   "cell_type": "code",
   "execution_count": null,
   "metadata": {
    "executionInfo": {
     "elapsed": 221,
     "status": "ok",
     "timestamp": 1644609329751,
     "user": {
      "displayName": "Nathan Mahynski",
      "photoUrl": "https://lh3.googleusercontent.com/a-/AOh14GiUlAIKCPEpbG_va5l0d5MOrKuPRHHZGu7-AEYw-A=s64",
      "userId": "00044706541353398741"
     },
     "user_tz": 300
    },
    "id": "wqPUeP_xSoCG"
   },
   "outputs": [],
   "source": [
    "# Let's load some data from the tests/ for this example\n",
    "if using_colab:\n",
    "    loc = 'https://raw.githubusercontent.com/mahynski/pychemauth/main/tests/data/pls_train.csv'\n",
    "else:\n",
    "    loc = '../tests/data/pls_train.csv'\n",
    "df = pd.read_csv(loc)"
   ]
  },
  {
   "cell_type": "code",
   "execution_count": null,
   "metadata": {
    "colab": {
     "base_uri": "https://localhost:8080/",
     "height": 300
    },
    "executionInfo": {
     "elapsed": 329,
     "status": "ok",
     "timestamp": 1644609330076,
     "user": {
      "displayName": "Nathan Mahynski",
      "photoUrl": "https://lh3.googleusercontent.com/a-/AOh14GiUlAIKCPEpbG_va5l0d5MOrKuPRHHZGu7-AEYw-A=s64",
      "userId": "00044706541353398741"
     },
     "user_tz": 300
    },
    "id": "zTPZwXC-SoCG",
    "outputId": "4a5b88aa-0bd5-4ed6-8f4e-98c299eeb308"
   },
   "outputs": [],
   "source": [
    "df.head()"
   ]
  },
  {
   "cell_type": "code",
   "execution_count": null,
   "metadata": {
    "executionInfo": {
     "elapsed": 11,
     "status": "ok",
     "timestamp": 1644609330076,
     "user": {
      "displayName": "Nathan Mahynski",
      "photoUrl": "https://lh3.googleusercontent.com/a-/AOh14GiUlAIKCPEpbG_va5l0d5MOrKuPRHHZGu7-AEYw-A=s64",
      "userId": "00044706541353398741"
     },
     "user_tz": 300
    },
    "id": "ghRG3rjwSoCH"
   },
   "outputs": [],
   "source": [
    "raw_x = np.array(df.values[:,3:], dtype=float) # Extract features\n",
    "raw_y = np.array(df['Water'].values, dtype=float) # Take the water content as the target"
   ]
  },
  {
   "cell_type": "markdown",
   "metadata": {
    "id": "YBE0UTYWSoCI"
   },
   "source": [
    "Model the Data with PLS\n",
    "---"
   ]
  },
  {
   "cell_type": "code",
   "execution_count": null,
   "metadata": {
    "executionInfo": {
     "elapsed": 10,
     "status": "ok",
     "timestamp": 1644609330077,
     "user": {
      "displayName": "Nathan Mahynski",
      "photoUrl": "https://lh3.googleusercontent.com/a-/AOh14GiUlAIKCPEpbG_va5l0d5MOrKuPRHHZGu7-AEYw-A=s64",
      "userId": "00044706541353398741"
     },
     "user_tz": 300
    },
    "id": "RS5h4zoUSoCJ"
   },
   "outputs": [],
   "source": [
    "from pychemauth.regressor.pls import PLS"
   ]
  },
  {
   "cell_type": "markdown",
   "metadata": {
    "id": "xUJJiJoFSoCK"
   },
   "source": [
    "<h3>Training</h3>"
   ]
  },
  {
   "cell_type": "code",
   "execution_count": null,
   "metadata": {
    "executionInfo": {
     "elapsed": 202,
     "status": "ok",
     "timestamp": 1644609330269,
     "user": {
      "displayName": "Nathan Mahynski",
      "photoUrl": "https://lh3.googleusercontent.com/a-/AOh14GiUlAIKCPEpbG_va5l0d5MOrKuPRHHZGu7-AEYw-A=s64",
      "userId": "00044706541353398741"
     },
     "user_tz": 300
    },
    "id": "yv2yHftVSoCL"
   },
   "outputs": [],
   "source": [
    "model = PLS(n_components=1, alpha=0.05, gamma=0.01, scale_x=True)"
   ]
  },
  {
   "cell_type": "code",
   "execution_count": null,
   "metadata": {
    "executionInfo": {
     "elapsed": 5,
     "status": "ok",
     "timestamp": 1644609330270,
     "user": {
      "displayName": "Nathan Mahynski",
      "photoUrl": "https://lh3.googleusercontent.com/a-/AOh14GiUlAIKCPEpbG_va5l0d5MOrKuPRHHZGu7-AEYw-A=s64",
      "userId": "00044706541353398741"
     },
     "user_tz": 300
    },
    "id": "PgKVrtvaSoCM"
   },
   "outputs": [],
   "source": [
    "_ = model.fit(raw_x, raw_y)"
   ]
  },
  {
   "cell_type": "code",
   "execution_count": null,
   "metadata": {
    "colab": {
     "base_uri": "https://localhost:8080/",
     "height": 297
    },
    "executionInfo": {
     "elapsed": 1162,
     "status": "ok",
     "timestamp": 1644609331428,
     "user": {
      "displayName": "Nathan Mahynski",
      "photoUrl": "https://lh3.googleusercontent.com/a-/AOh14GiUlAIKCPEpbG_va5l0d5MOrKuPRHHZGu7-AEYw-A=s64",
      "userId": "00044706541353398741"
     },
     "user_tz": 300
    },
    "id": "eNM3YTVpSoCM",
    "outputId": "ca50ef33-fb7e-44a5-f388-af8fac9e8768"
   },
   "outputs": [],
   "source": [
    "_ = model.visualize(raw_x, raw_y)"
   ]
  },
  {
   "cell_type": "code",
   "execution_count": null,
   "metadata": {
    "colab": {
     "base_uri": "https://localhost:8080/"
    },
    "executionInfo": {
     "elapsed": 214,
     "status": "ok",
     "timestamp": 1644609331632,
     "user": {
      "displayName": "Nathan Mahynski",
      "photoUrl": "https://lh3.googleusercontent.com/a-/AOh14GiUlAIKCPEpbG_va5l0d5MOrKuPRHHZGu7-AEYw-A=s64",
      "userId": "00044706541353398741"
     },
     "user_tz": 300
    },
    "id": "m2FdMBpzSoCN",
    "outputId": "dee3f106-bead-446a-c3e0-92c86a23c05a",
    "scrolled": true
   },
   "outputs": [],
   "source": [
    "# We can predict the water content with model.predict(raw_x)\n",
    "model.predict(raw_x)"
   ]
  },
  {
   "cell_type": "code",
   "execution_count": null,
   "metadata": {
    "executionInfo": {
     "elapsed": 18,
     "status": "ok",
     "timestamp": 1644609331633,
     "user": {
      "displayName": "Nathan Mahynski",
      "photoUrl": "https://lh3.googleusercontent.com/a-/AOh14GiUlAIKCPEpbG_va5l0d5MOrKuPRHHZGu7-AEYw-A=s64",
      "userId": "00044706541353398741"
     },
     "user_tz": 300
    },
    "id": "cQShUsMgSoCO"
   },
   "outputs": [],
   "source": [
    "# We can see what X data (if any) is extreme or is an outlier\n",
    "extremes_mask, outliers_mask = model.check_x_outliers(raw_x)"
   ]
  },
  {
   "cell_type": "code",
   "execution_count": null,
   "metadata": {
    "executionInfo": {
     "elapsed": 17,
     "status": "ok",
     "timestamp": 1644609331633,
     "user": {
      "displayName": "Nathan Mahynski",
      "photoUrl": "https://lh3.googleusercontent.com/a-/AOh14GiUlAIKCPEpbG_va5l0d5MOrKuPRHHZGu7-AEYw-A=s64",
      "userId": "00044706541353398741"
     },
     "user_tz": 300
    },
    "id": "KrGya8PtSoCP"
   },
   "outputs": [],
   "source": [
    "# We could extract that data as follows:\n",
    "extremes = raw_x[extremes_mask]\n",
    "outliers = raw_x[outliers_mask]"
   ]
  },
  {
   "cell_type": "code",
   "execution_count": null,
   "metadata": {
    "colab": {
     "base_uri": "https://localhost:8080/"
    },
    "executionInfo": {
     "elapsed": 17,
     "status": "ok",
     "timestamp": 1644609331634,
     "user": {
      "displayName": "Nathan Mahynski",
      "photoUrl": "https://lh3.googleusercontent.com/a-/AOh14GiUlAIKCPEpbG_va5l0d5MOrKuPRHHZGu7-AEYw-A=s64",
      "userId": "00044706541353398741"
     },
     "user_tz": 300
    },
    "id": "j9XK-sA9SoCQ",
    "outputId": "21f3a897-92f6-4ab1-a171-cb093fbe447e"
   },
   "outputs": [],
   "source": [
    "# Number of X outliers, for example?\n",
    "np.sum(outliers_mask)"
   ]
  },
  {
   "cell_type": "code",
   "execution_count": null,
   "metadata": {
    "colab": {
     "base_uri": "https://localhost:8080/"
    },
    "executionInfo": {
     "elapsed": 11,
     "status": "ok",
     "timestamp": 1644609331635,
     "user": {
      "displayName": "Nathan Mahynski",
      "photoUrl": "https://lh3.googleusercontent.com/a-/AOh14GiUlAIKCPEpbG_va5l0d5MOrKuPRHHZGu7-AEYw-A=s64",
      "userId": "00044706541353398741"
     },
     "user_tz": 300
    },
    "id": "MowmnwugSoCQ",
    "outputId": "c9c4d5a3-f361-4ded-833c-222f52e94076"
   },
   "outputs": [],
   "source": [
    "# Number of X extremes, for example?\n",
    "np.sum(extremes_mask)"
   ]
  },
  {
   "cell_type": "code",
   "execution_count": null,
   "metadata": {
    "executionInfo": {
     "elapsed": 217,
     "status": "ok",
     "timestamp": 1644609331845,
     "user": {
      "displayName": "Nathan Mahynski",
      "photoUrl": "https://lh3.googleusercontent.com/a-/AOh14GiUlAIKCPEpbG_va5l0d5MOrKuPRHHZGu7-AEYw-A=s64",
      "userId": "00044706541353398741"
     },
     "user_tz": 300
    },
    "id": "99JZTIVdSoCQ"
   },
   "outputs": [],
   "source": [
    "# We can see what XY data (if any) is extreme or is an outlier\n",
    "extremes_mask, outliers_mask = model.check_xy_outliers(raw_x, raw_y)"
   ]
  },
  {
   "cell_type": "code",
   "execution_count": null,
   "metadata": {
    "colab": {
     "base_uri": "https://localhost:8080/"
    },
    "executionInfo": {
     "elapsed": 9,
     "status": "ok",
     "timestamp": 1644609331845,
     "user": {
      "displayName": "Nathan Mahynski",
      "photoUrl": "https://lh3.googleusercontent.com/a-/AOh14GiUlAIKCPEpbG_va5l0d5MOrKuPRHHZGu7-AEYw-A=s64",
      "userId": "00044706541353398741"
     },
     "user_tz": 300
    },
    "id": "F-qcYt60SoCR",
    "outputId": "f6495b69-b9fe-4c01-bff3-3fa5a3127aab"
   },
   "outputs": [],
   "source": [
    "# Number of X outliers, for example?\n",
    "np.sum(outliers_mask)"
   ]
  },
  {
   "cell_type": "code",
   "execution_count": null,
   "metadata": {
    "colab": {
     "base_uri": "https://localhost:8080/"
    },
    "executionInfo": {
     "elapsed": 155,
     "status": "ok",
     "timestamp": 1644609331993,
     "user": {
      "displayName": "Nathan Mahynski",
      "photoUrl": "https://lh3.googleusercontent.com/a-/AOh14GiUlAIKCPEpbG_va5l0d5MOrKuPRHHZGu7-AEYw-A=s64",
      "userId": "00044706541353398741"
     },
     "user_tz": 300
    },
    "id": "y7aGGgxvSoCR",
    "outputId": "c6288d31-8907-4364-d806-e562fca81acc"
   },
   "outputs": [],
   "source": [
    "# Number of X extremes, for example?\n",
    "np.sum(extremes_mask)"
   ]
  },
  {
   "cell_type": "markdown",
   "metadata": {
    "id": "EJcxX917SoCS"
   },
   "source": [
    "<h3>Testing</h3>"
   ]
  },
  {
   "cell_type": "code",
   "execution_count": null,
   "metadata": {
    "executionInfo": {
     "elapsed": 6,
     "status": "ok",
     "timestamp": 1644609331994,
     "user": {
      "displayName": "Nathan Mahynski",
      "photoUrl": "https://lh3.googleusercontent.com/a-/AOh14GiUlAIKCPEpbG_va5l0d5MOrKuPRHHZGu7-AEYw-A=s64",
      "userId": "00044706541353398741"
     },
     "user_tz": 300
    },
    "id": "HtSCYlHWSoCS"
   },
   "outputs": [],
   "source": [
    "if using_colab:\n",
    "    loc = 'https://raw.githubusercontent.com/mahynski/pychemauth/main/tests/data/pls_test.csv'\n",
    "else:\n",
    "    loc = '../tests/data/pls_test.csv'\n",
    "df = pd.read_csv(loc, header=None)\n",
    "\n",
    "raw_x_t = np.array(df.values[:,3:], dtype=float)\n",
    "raw_y_t = np.array(df.values[:,2], dtype=float)"
   ]
  },
  {
   "cell_type": "code",
   "execution_count": null,
   "metadata": {
    "colab": {
     "base_uri": "https://localhost:8080/",
     "height": 297
    },
    "executionInfo": {
     "elapsed": 1387,
     "status": "ok",
     "timestamp": 1644609333376,
     "user": {
      "displayName": "Nathan Mahynski",
      "photoUrl": "https://lh3.googleusercontent.com/a-/AOh14GiUlAIKCPEpbG_va5l0d5MOrKuPRHHZGu7-AEYw-A=s64",
      "userId": "00044706541353398741"
     },
     "user_tz": 300
    },
    "id": "kFpSn5jVSoCT",
    "outputId": "584ec50b-acbb-495b-9ac1-eef22efb844c"
   },
   "outputs": [],
   "source": [
    "_ = model.visualize(raw_x_t, raw_y_t)"
   ]
  },
  {
   "cell_type": "code",
   "execution_count": null,
   "metadata": {
    "executionInfo": {
     "elapsed": 10,
     "status": "ok",
     "timestamp": 1644609333376,
     "user": {
      "displayName": "Nathan Mahynski",
      "photoUrl": "https://lh3.googleusercontent.com/a-/AOh14GiUlAIKCPEpbG_va5l0d5MOrKuPRHHZGu7-AEYw-A=s64",
      "userId": "00044706541353398741"
     },
     "user_tz": 300
    },
    "id": "NRRaqwKuSoCT"
   },
   "outputs": [],
   "source": [
    "extremes_mask, outliers_mask = model.check_x_outliers(raw_x_t)"
   ]
  },
  {
   "cell_type": "code",
   "execution_count": null,
   "metadata": {
    "colab": {
     "base_uri": "https://localhost:8080/"
    },
    "executionInfo": {
     "elapsed": 8,
     "status": "ok",
     "timestamp": 1644609333377,
     "user": {
      "displayName": "Nathan Mahynski",
      "photoUrl": "https://lh3.googleusercontent.com/a-/AOh14GiUlAIKCPEpbG_va5l0d5MOrKuPRHHZGu7-AEYw-A=s64",
      "userId": "00044706541353398741"
     },
     "user_tz": 300
    },
    "id": "47YT9XObSoCU",
    "outputId": "25361f4a-4b5a-42f6-e83a-0e2ac4c658d7"
   },
   "outputs": [],
   "source": [
    "# Number of X extremes, for example?\n",
    "np.sum(extremes_mask)"
   ]
  },
  {
   "cell_type": "code",
   "execution_count": null,
   "metadata": {
    "colab": {
     "base_uri": "https://localhost:8080/"
    },
    "executionInfo": {
     "elapsed": 142,
     "status": "ok",
     "timestamp": 1644609333514,
     "user": {
      "displayName": "Nathan Mahynski",
      "photoUrl": "https://lh3.googleusercontent.com/a-/AOh14GiUlAIKCPEpbG_va5l0d5MOrKuPRHHZGu7-AEYw-A=s64",
      "userId": "00044706541353398741"
     },
     "user_tz": 300
    },
    "id": "LQQrmO-BSoCU",
    "outputId": "7f779601-2255-4cbc-cef5-515497f703fe"
   },
   "outputs": [],
   "source": [
    "# Number of X outliers, for example?\n",
    "np.sum(outliers_mask)"
   ]
  },
  {
   "cell_type": "markdown",
   "metadata": {
    "id": "MxYXr_jzSoCV"
   },
   "source": [
    "Optimizing the Model\n",
    "---"
   ]
  },
  {
   "cell_type": "code",
   "execution_count": null,
   "metadata": {
    "executionInfo": {
     "elapsed": 7620,
     "status": "ok",
     "timestamp": 1644609341132,
     "user": {
      "displayName": "Nathan Mahynski",
      "photoUrl": "https://lh3.googleusercontent.com/a-/AOh14GiUlAIKCPEpbG_va5l0d5MOrKuPRHHZGu7-AEYw-A=s64",
      "userId": "00044706541353398741"
     },
     "user_tz": 300
    },
    "id": "R82ZkQdwSoCV"
   },
   "outputs": [],
   "source": [
    "# Here I've used an imblearn pipeline, but you can also use scikit-learn's pipeline if you don't want to \n",
    "# do any class balancing.\n",
    "\n",
    "pipeline = imblearn.pipeline.Pipeline(steps=[\n",
    "    # Insert other preprocessing steps here...\n",
    "    # (\"smote\", ScaledSMOTEENN(random_state=1)), # For example, class balancing\n",
    "    (\"pls\", PLS(n_components=1, alpha=0.05, gamma=0.01, scale_x=True)\n",
    "    )\n",
    "])\n",
    "\n",
    "# Hyperparameters of pipeline steps are given in standard notation: step__parameter_name\n",
    "param_grid = [{\n",
    "    # 'smote__k_enn':[1, 2, 3],\n",
    "    # 'smote__k_smote':[1, 3, 3],\n",
    "    # 'smote__kind_sel_enn':['all', 'mode'],\n",
    "    'pls__n_components':np.arange(1, 10),\n",
    "    # 'pls__alpha':[0.07, 0.05, 0.03, 0.01],\n",
    "    # 'pls__scale_x': [True, False]\n",
    "}]\n",
    "\n",
    "gs = GridSearchCV(\n",
    "    estimator=pipeline,\n",
    "    param_grid=param_grid,\n",
    "    n_jobs=-1,\n",
    "    cv=sklearn.model_selection.KFold(n_splits=3, shuffle=True, random_state=0),\n",
    "    error_score=0,\n",
    "    refit=True\n",
    ")\n",
    "\n",
    "_ = gs.fit(raw_x, raw_y)"
   ]
  },
  {
   "cell_type": "code",
   "execution_count": null,
   "metadata": {
    "colab": {
     "base_uri": "https://localhost:8080/"
    },
    "executionInfo": {
     "elapsed": 17,
     "status": "ok",
     "timestamp": 1644609341134,
     "user": {
      "displayName": "Nathan Mahynski",
      "photoUrl": "https://lh3.googleusercontent.com/a-/AOh14GiUlAIKCPEpbG_va5l0d5MOrKuPRHHZGu7-AEYw-A=s64",
      "userId": "00044706541353398741"
     },
     "user_tz": 300
    },
    "id": "5GZJ4UosSoCW",
    "outputId": "591883f3-c712-47d6-a559-dcdbd2c128d4"
   },
   "outputs": [],
   "source": [
    "# The best parameters found can be accessed like this:\n",
    "gs.best_params_"
   ]
  },
  {
   "cell_type": "code",
   "execution_count": null,
   "metadata": {
    "colab": {
     "base_uri": "https://localhost:8080/"
    },
    "executionInfo": {
     "elapsed": 172,
     "status": "ok",
     "timestamp": 1644609341295,
     "user": {
      "displayName": "Nathan Mahynski",
      "photoUrl": "https://lh3.googleusercontent.com/a-/AOh14GiUlAIKCPEpbG_va5l0d5MOrKuPRHHZGu7-AEYw-A=s64",
      "userId": "00044706541353398741"
     },
     "user_tz": 300
    },
    "id": "ewWvVBPGSoCW",
    "outputId": "586bf36c-d158-4952-dd91-4de3c7215690"
   },
   "outputs": [],
   "source": [
    "gs.best_score_ # The best (default is R^2, coefficient of determination) score it recieved was..."
   ]
  },
  {
   "cell_type": "code",
   "execution_count": null,
   "metadata": {
    "colab": {
     "base_uri": "https://localhost:8080/"
    },
    "executionInfo": {
     "elapsed": 12,
     "status": "ok",
     "timestamp": 1644609341297,
     "user": {
      "displayName": "Nathan Mahynski",
      "photoUrl": "https://lh3.googleusercontent.com/a-/AOh14GiUlAIKCPEpbG_va5l0d5MOrKuPRHHZGu7-AEYw-A=s64",
      "userId": "00044706541353398741"
     },
     "user_tz": 300
    },
    "id": "b158SS_dSoCX",
    "outputId": "c4324168-3d98-4798-b0ac-39620ca0ec98",
    "scrolled": true
   },
   "outputs": [],
   "source": [
    "# You can see detailed CV results here\n",
    "gs.cv_results_"
   ]
  },
  {
   "cell_type": "code",
   "execution_count": null,
   "metadata": {
    "colab": {
     "base_uri": "https://localhost:8080/",
     "height": 298
    },
    "executionInfo": {
     "elapsed": 804,
     "status": "ok",
     "timestamp": 1644609342095,
     "user": {
      "displayName": "Nathan Mahynski",
      "photoUrl": "https://lh3.googleusercontent.com/a-/AOh14GiUlAIKCPEpbG_va5l0d5MOrKuPRHHZGu7-AEYw-A=s64",
      "userId": "00044706541353398741"
     },
     "user_tz": 300
    },
    "id": "qadmDcpYSoCX",
    "outputId": "ed6197bc-972b-4b55-8054-5aa9db2277d7"
   },
   "outputs": [],
   "source": [
    "# For a 1D optimization you can easily visualize where the best value is\n",
    "plt.errorbar(gs.cv_results_['param_pls__n_components'].data, \n",
    "             gs.cv_results_['mean_test_score'], \n",
    "             yerr=gs.cv_results_['std_test_score'])\n",
    "plt.xlabel('n_components')\n",
    "plt.ylabel(r'$R^2$')\n",
    "\n",
    "plt.axvline(gs.best_params_['pls__n_components'], color='red')"
   ]
  },
  {
   "cell_type": "code",
   "execution_count": null,
   "metadata": {
    "colab": {
     "base_uri": "https://localhost:8080/"
    },
    "executionInfo": {
     "elapsed": 17,
     "status": "ok",
     "timestamp": 1644609342096,
     "user": {
      "displayName": "Nathan Mahynski",
      "photoUrl": "https://lh3.googleusercontent.com/a-/AOh14GiUlAIKCPEpbG_va5l0d5MOrKuPRHHZGu7-AEYw-A=s64",
      "userId": "00044706541353398741"
     },
     "user_tz": 300
    },
    "id": "-s4HjcQ7SoCZ",
    "outputId": "291e2487-fa0f-4efa-b805-11df2624b393",
    "scrolled": true
   },
   "outputs": [],
   "source": [
    "# The refit=True (default) refits the model on the data in the end so you can use it directly on the test set.\n",
    "gs.score(raw_x_t, raw_y_t)"
   ]
  },
  {
   "cell_type": "code",
   "execution_count": null,
   "metadata": {
    "colab": {
     "base_uri": "https://localhost:8080/",
     "height": 297
    },
    "executionInfo": {
     "elapsed": 456,
     "status": "ok",
     "timestamp": 1644609342538,
     "user": {
      "displayName": "Nathan Mahynski",
      "photoUrl": "https://lh3.googleusercontent.com/a-/AOh14GiUlAIKCPEpbG_va5l0d5MOrKuPRHHZGu7-AEYw-A=s64",
      "userId": "00044706541353398741"
     },
     "user_tz": 300
    },
    "id": "-jtwe8O_SoCZ",
    "outputId": "400a6bc3-a830-4f13-d74f-fdf82074778a"
   },
   "outputs": [],
   "source": [
    "plt.plot(raw_y_t, gs.predict(raw_x_t), 'o')\n",
    "plt.plot(np.linspace(10,14,100), np.linspace(10,14,100), 'k-')\n",
    "plt.xlim(10,14)\n",
    "plt.ylim(10,14)\n",
    "_ = plt.axis('equal')\n",
    "plt.xlabel('Actual Water Content')\n",
    "plt.ylabel('Predicted Water Content')"
   ]
  },
  {
   "cell_type": "markdown",
   "metadata": {
    "id": "hhPDoHpeSoCZ"
   },
   "source": [
    "Outlier Detection\n",
    "---"
   ]
  },
  {
   "cell_type": "markdown",
   "metadata": {
    "id": "T5Jo8sSGSoCZ"
   },
   "source": [
    "Steps 1 and 2 in the workflow at the beginning of this document are handled by the last step with CV. Now we can turn to optimizing the training set by removing outliers."
   ]
  },
  {
   "cell_type": "code",
   "execution_count": null,
   "metadata": {
    "executionInfo": {
     "elapsed": 188,
     "status": "ok",
     "timestamp": 1644609342721,
     "user": {
      "displayName": "Nathan Mahynski",
      "photoUrl": "https://lh3.googleusercontent.com/a-/AOh14GiUlAIKCPEpbG_va5l0d5MOrKuPRHHZGu7-AEYw-A=s64",
      "userId": "00044706541353398741"
     },
     "user_tz": 300
    },
    "id": "eXpfJxLnSoCZ"
   },
   "outputs": [],
   "source": [
    "optimal_model = PLS(n_components=8, alpha=0.05, gamma=0.01, scale_x=True)\n",
    "_ = optimal_model.fit(raw_x, raw_y)"
   ]
  },
  {
   "cell_type": "markdown",
   "metadata": {
    "id": "IXj3j9xqSoCa"
   },
   "source": [
    "<h3>Step 3</h3>"
   ]
  },
  {
   "cell_type": "code",
   "execution_count": null,
   "metadata": {
    "colab": {
     "base_uri": "https://localhost:8080/",
     "height": 297
    },
    "executionInfo": {
     "elapsed": 1558,
     "status": "ok",
     "timestamp": 1644609344276,
     "user": {
      "displayName": "Nathan Mahynski",
      "photoUrl": "https://lh3.googleusercontent.com/a-/AOh14GiUlAIKCPEpbG_va5l0d5MOrKuPRHHZGu7-AEYw-A=s64",
      "userId": "00044706541353398741"
     },
     "user_tz": 300
    },
    "id": "ynG4dgKlSoCa",
    "outputId": "916887f5-0dd7-46f0-dadd-f3b5e6c8bde6"
   },
   "outputs": [],
   "source": [
    "_ = optimal_model.visualize(raw_x, raw_y)"
   ]
  },
  {
   "cell_type": "code",
   "execution_count": null,
   "metadata": {
    "executionInfo": {
     "elapsed": 14,
     "status": "ok",
     "timestamp": 1644609344278,
     "user": {
      "displayName": "Nathan Mahynski",
      "photoUrl": "https://lh3.googleusercontent.com/a-/AOh14GiUlAIKCPEpbG_va5l0d5MOrKuPRHHZGu7-AEYw-A=s64",
      "userId": "00044706541353398741"
     },
     "user_tz": 300
    },
    "id": "AGUeCuVpSoCa"
   },
   "outputs": [],
   "source": [
    "extremes, outliers = optimal_model.check_xy_outliers(raw_x, raw_y)"
   ]
  },
  {
   "cell_type": "code",
   "execution_count": null,
   "metadata": {
    "colab": {
     "base_uri": "https://localhost:8080/"
    },
    "executionInfo": {
     "elapsed": 179,
     "status": "ok",
     "timestamp": 1644609344447,
     "user": {
      "displayName": "Nathan Mahynski",
      "photoUrl": "https://lh3.googleusercontent.com/a-/AOh14GiUlAIKCPEpbG_va5l0d5MOrKuPRHHZGu7-AEYw-A=s64",
      "userId": "00044706541353398741"
     },
     "user_tz": 300
    },
    "id": "mO9Dn2rlSoCc",
    "outputId": "9226bd19-7140-4a95-9f33-42665b9d9639"
   },
   "outputs": [],
   "source": [
    "np.sum(outliers) # Indeed, we have 1 outlier"
   ]
  },
  {
   "cell_type": "code",
   "execution_count": null,
   "metadata": {},
   "outputs": [],
   "source": [
    "raw_x[outliers, :]"
   ]
  },
  {
   "cell_type": "code",
   "execution_count": null,
   "metadata": {},
   "outputs": [],
   "source": [
    "raw_y[outliers]"
   ]
  },
  {
   "cell_type": "markdown",
   "metadata": {
    "id": "bxdWCCHXSoCc"
   },
   "source": [
    "<h3>Step 4</h3>"
   ]
  },
  {
   "cell_type": "code",
   "execution_count": null,
   "metadata": {
    "executionInfo": {
     "elapsed": 7,
     "status": "ok",
     "timestamp": 1644609344449,
     "user": {
      "displayName": "Nathan Mahynski",
      "photoUrl": "https://lh3.googleusercontent.com/a-/AOh14GiUlAIKCPEpbG_va5l0d5MOrKuPRHHZGu7-AEYw-A=s64",
      "userId": "00044706541353398741"
     },
     "user_tz": 300
    },
    "id": "mUpD-c05SoCc"
   },
   "outputs": [],
   "source": [
    "# Select data that is NOT an outlier (regular and extreme points)\n",
    "new_x = raw_x[~outliers]\n",
    "new_y = raw_y[~outliers]"
   ]
  },
  {
   "cell_type": "code",
   "execution_count": null,
   "metadata": {
    "colab": {
     "base_uri": "https://localhost:8080/",
     "height": 297
    },
    "executionInfo": {
     "elapsed": 1634,
     "status": "ok",
     "timestamp": 1644609346078,
     "user": {
      "displayName": "Nathan Mahynski",
      "photoUrl": "https://lh3.googleusercontent.com/a-/AOh14GiUlAIKCPEpbG_va5l0d5MOrKuPRHHZGu7-AEYw-A=s64",
      "userId": "00044706541353398741"
     },
     "user_tz": 300
    },
    "id": "fpJFH1F4SoCc",
    "outputId": "9748220c-8ae1-4bd7-c918-bbb75f14077f"
   },
   "outputs": [],
   "source": [
    "# After retraining the model we see there are no outliers - a \"clean\" training set\n",
    "_ = optimal_model.fit(new_x, new_y)\n",
    "_ = optimal_model.visualize(new_x, new_y)"
   ]
  },
  {
   "cell_type": "markdown",
   "metadata": {
    "id": "WH6h-wsRSoCd"
   },
   "source": [
    "<h3>Step 5</h3>"
   ]
  },
  {
   "cell_type": "code",
   "execution_count": null,
   "metadata": {
    "executionInfo": {
     "elapsed": 253,
     "status": "ok",
     "timestamp": 1644609353057,
     "user": {
      "displayName": "Nathan Mahynski",
      "photoUrl": "https://lh3.googleusercontent.com/a-/AOh14GiUlAIKCPEpbG_va5l0d5MOrKuPRHHZGu7-AEYw-A=s64",
      "userId": "00044706541353398741"
     },
     "user_tz": 300
    },
    "id": "EpU1jcNkUgux"
   },
   "outputs": [],
   "source": [
    "# _ = optimal_model.visualize(raw_x[outliers], raw_y[outliers])"
   ]
  },
  {
   "cell_type": "markdown",
   "metadata": {
    "id": "qyKHhZo6SoCe"
   },
   "source": [
    "Outliers remain outliers, so the model is \"stable\" and Step 6 is not required.  This code always uses robust statistical methods for estimating internal parameters, so Step 7 is not performed."
   ]
  },
  {
   "cell_type": "markdown",
   "metadata": {},
   "source": [
    "<h3>Automatic Loop</h3>"
   ]
  },
  {
   "cell_type": "markdown",
   "metadata": {},
   "source": [
    "This iteration can be handled automaticall with the `sft` variable."
   ]
  },
  {
   "cell_type": "code",
   "execution_count": null,
   "metadata": {},
   "outputs": [],
   "source": [
    "optimal_model_2 = PLS(n_components=8, alpha=0.05, gamma=0.01, scale_x=True, \n",
    "                    sft=True\n",
    "                   )\n",
    "_ = optimal_model_2.fit(raw_x, raw_y)"
   ]
  },
  {
   "cell_type": "code",
   "execution_count": null,
   "metadata": {},
   "outputs": [],
   "source": [
    "optimal_model_2.sft_history # This is the point we removed manually"
   ]
  }
 ],
 "metadata": {
  "colab": {
   "collapsed_sections": [],
   "name": "pls_example.ipynb",
   "provenance": []
  },
  "kernelspec": {
   "display_name": "py37",
   "language": "python",
   "name": "py37"
  },
  "language_info": {
   "codemirror_mode": {
    "name": "ipython",
    "version": 3
   },
   "file_extension": ".py",
   "mimetype": "text/x-python",
   "name": "python",
   "nbconvert_exporter": "python",
   "pygments_lexer": "ipython3",
   "version": "3.7.13"
  },
  "toc": {
   "base_numbering": 1,
   "nav_menu": {},
   "number_sections": true,
   "sideBar": true,
   "skip_h1_title": false,
   "title_cell": "Table of Contents",
   "title_sidebar": "Contents",
   "toc_cell": true,
   "toc_position": {},
   "toc_section_display": true,
   "toc_window_display": false
  }
 },
 "nbformat": 4,
 "nbformat_minor": 4
}
