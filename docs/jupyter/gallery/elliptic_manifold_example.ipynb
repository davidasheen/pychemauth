{
 "cells": [
  {
   "cell_type": "markdown",
   "metadata": {},
   "source": [
    "Authentication with EllipticManifold (including UNEQ)\n",
    "==="
   ]
  },
  {
   "cell_type": "markdown",
   "metadata": {},
   "source": [
    "Author: Nathan A. Mahynski\n",
    "\n",
    "Date: 2023/08/23\n",
    "\n",
    "Description: Illustrate modeling with the EllipticManifold model.\n",
    "\n",
    "[![Open In Colab](https://colab.research.google.com/assets/colab-badge.svg)](https://colab.research.google.com/github/mahynski/pychemauth/blob/main/docs/jupyter/gallery/elliptic_manifold_example.ipynb)"
   ]
  },
  {
   "cell_type": "markdown",
   "metadata": {},
   "source": [
    "In [projection methods](https://doi.org/10.1016/S0169-7439(02)00107-7) a dimensionality reduction is first performed to compress the data into a lower dimensional space; authentication can be performed by enveloping the projected points in an elliptical boundary (often based on Mahalanobis distance).  The critical distance can be determined using a $\\chi^2$ statistics, for example.  This uses \"score\" distance alone, while other methods like DD-SIMCA use both the score distance and an \"outer distance\" (error) to determine class membership.\n",
    "\n",
    "PCA and related approaches (e.g., SIMCA) perform linear dimensionality reduction (DR) before computing the boundary which determines class membership.  This authentication approach can be generalized by replacing the PCA with any non-linear DR step.  This is what the EllipticManifold model allows you to do; it is essentially the application of sklearn's [EllipticEnvelope](https://scikit-learn.org/stable/modules/generated/sklearn.covariance.EllipticEnvelope.html#sklearn.covariance.EllipticEnvelope) fitted around the training data after undergoing some kind of DR.  It assumes the data follows a Gaussian distribution in the lower dimensional space.  Not using any DR results in an UNEQ model, discussed below."
   ]
  },
  {
   "cell_type": "code",
   "execution_count": 1,
   "metadata": {
    "ExecuteTime": {
     "end_time": "2023-09-26T15:01:54.574229Z",
     "start_time": "2023-09-26T15:01:54.569032Z"
    }
   },
   "outputs": [],
   "source": [
    "if 'google.colab' in str(get_ipython()):\n",
    "    !pip install git+https://github.com/mahynski/pychemauth@main\n",
    "    import os\n",
    "    os.kill(os.getpid(), 9) # Automatically restart the runtime to reload libraries"
   ]
  },
  {
   "cell_type": "code",
   "execution_count": 2,
   "metadata": {
    "ExecuteTime": {
     "end_time": "2023-09-26T15:01:54.976201Z",
     "start_time": "2023-09-26T15:01:54.576934Z"
    },
    "colab": {
     "base_uri": "https://localhost:8080/"
    },
    "executionInfo": {
     "elapsed": 19148,
     "status": "ok",
     "timestamp": 1644609550437,
     "user": {
      "displayName": "Nathan Mahynski",
      "photoUrl": "https://lh3.googleusercontent.com/a-/AOh14GiUlAIKCPEpbG_va5l0d5MOrKuPRHHZGu7-AEYw-A=s64",
      "userId": "00044706541353398741"
     },
     "user_tz": 300
    },
    "id": "iwjivImc5erp",
    "outputId": "1c060067-7b0e-4092-a48d-f97fca4d27a4"
   },
   "outputs": [],
   "source": [
    "try:\n",
    "    import pychemauth\n",
    "except:\n",
    "    raise ImportError(\"pychemauth not installed\")\n",
    "\n",
    "import matplotlib.pyplot as plt\n",
    "%matplotlib inline\n",
    "\n",
    "import watermark\n",
    "%load_ext watermark\n",
    "\n",
    "%load_ext autoreload\n",
    "%autoreload 2"
   ]
  },
  {
   "cell_type": "code",
   "execution_count": 3,
   "metadata": {
    "ExecuteTime": {
     "end_time": "2023-09-26T15:01:55.528195Z",
     "start_time": "2023-09-26T15:01:54.978935Z"
    },
    "executionInfo": {
     "elapsed": 1088,
     "status": "ok",
     "timestamp": 1644609551518,
     "user": {
      "displayName": "Nathan Mahynski",
      "photoUrl": "https://lh3.googleusercontent.com/a-/AOh14GiUlAIKCPEpbG_va5l0d5MOrKuPRHHZGu7-AEYw-A=s64",
      "userId": "00044706541353398741"
     },
     "user_tz": 300
    },
    "id": "hUTuGcIu7hwn"
   },
   "outputs": [],
   "source": [
    "import imblearn\n",
    "import numpy as np\n",
    "import sklearn.decomposition\n",
    "import sklearn.manifold\n",
    "\n",
    "from sklearn.model_selection import GridSearchCV\n",
    "\n",
    "from pychemauth.manifold.elliptic import EllipticManifold_Model"
   ]
  },
  {
   "cell_type": "code",
   "execution_count": 4,
   "metadata": {
    "ExecuteTime": {
     "end_time": "2023-09-26T15:01:55.552675Z",
     "start_time": "2023-09-26T15:01:55.530057Z"
    },
    "colab": {
     "base_uri": "https://localhost:8080/"
    },
    "executionInfo": {
     "elapsed": 12,
     "status": "ok",
     "timestamp": 1644609552046,
     "user": {
      "displayName": "Nathan Mahynski",
      "photoUrl": "https://lh3.googleusercontent.com/a-/AOh14GiUlAIKCPEpbG_va5l0d5MOrKuPRHHZGu7-AEYw-A=s64",
      "userId": "00044706541353398741"
     },
     "user_tz": 300
    },
    "id": "zU1dlyaO6J4c",
    "outputId": "c321db86-18ab-440b-b6fe-be96b81ab56e"
   },
   "outputs": [
    {
     "name": "stdout",
     "output_type": "stream",
     "text": [
      "Python implementation: CPython\n",
      "Python version       : 3.11.4\n",
      "IPython version      : 8.14.0\n",
      "\n",
      "Compiler    : GCC 12.2.0\n",
      "OS          : Linux\n",
      "Release     : 6.2.0-33-generic\n",
      "Machine     : x86_64\n",
      "Processor   : x86_64\n",
      "CPU cores   : 40\n",
      "Architecture: 64bit\n",
      "\n",
      "matplotlib: 3.7.2\n",
      "numpy     : 1.24.3\n",
      "imblearn  : 0.11.0\n",
      "watermark : 2.4.3\n",
      "pychemauth: 0.0.0b3\n",
      "json      : 2.0.9\n",
      "sklearn   : 1.3.0\n",
      "\n"
     ]
    }
   ],
   "source": [
    "%watermark -t -m -v --iversions"
   ]
  },
  {
   "cell_type": "markdown",
   "metadata": {
    "id": "yA4iLdbsAnXP"
   },
   "source": [
    "<h3>Load the Data</h3>"
   ]
  },
  {
   "cell_type": "code",
   "execution_count": 5,
   "metadata": {
    "ExecuteTime": {
     "end_time": "2023-09-26T15:01:55.828282Z",
     "start_time": "2023-09-26T15:01:55.554542Z"
    },
    "executionInfo": {
     "elapsed": 170,
     "status": "ok",
     "timestamp": 1644609552210,
     "user": {
      "displayName": "Nathan Mahynski",
      "photoUrl": "https://lh3.googleusercontent.com/a-/AOh14GiUlAIKCPEpbG_va5l0d5MOrKuPRHHZGu7-AEYw-A=s64",
      "userId": "00044706541353398741"
     },
     "user_tz": 300
    },
    "id": "AQIEH1OFAn2k"
   },
   "outputs": [],
   "source": [
    "from sklearn.datasets import load_iris as load_data\n",
    "X, y = load_data(return_X_y=True, as_frame=True)"
   ]
  },
  {
   "cell_type": "code",
   "execution_count": 6,
   "metadata": {
    "ExecuteTime": {
     "end_time": "2023-09-26T15:01:55.849795Z",
     "start_time": "2023-09-26T15:01:55.830244Z"
    }
   },
   "outputs": [],
   "source": [
    "# Let's turn the indices into names\n",
    "names = dict(zip(np.arange(3), ['setosa', 'versicolor', 'virginica'])) \n",
    "y = y.apply(lambda x: names[x])"
   ]
  },
  {
   "cell_type": "code",
   "execution_count": 7,
   "metadata": {
    "ExecuteTime": {
     "end_time": "2023-09-26T15:01:55.873977Z",
     "start_time": "2023-09-26T15:01:55.851713Z"
    }
   },
   "outputs": [
    {
     "data": {
      "text/html": [
       "<div>\n",
       "<style scoped>\n",
       "    .dataframe tbody tr th:only-of-type {\n",
       "        vertical-align: middle;\n",
       "    }\n",
       "\n",
       "    .dataframe tbody tr th {\n",
       "        vertical-align: top;\n",
       "    }\n",
       "\n",
       "    .dataframe thead th {\n",
       "        text-align: right;\n",
       "    }\n",
       "</style>\n",
       "<table border=\"1\" class=\"dataframe\">\n",
       "  <thead>\n",
       "    <tr style=\"text-align: right;\">\n",
       "      <th></th>\n",
       "      <th>sepal length (cm)</th>\n",
       "      <th>sepal width (cm)</th>\n",
       "      <th>petal length (cm)</th>\n",
       "      <th>petal width (cm)</th>\n",
       "    </tr>\n",
       "  </thead>\n",
       "  <tbody>\n",
       "    <tr>\n",
       "      <th>0</th>\n",
       "      <td>5.1</td>\n",
       "      <td>3.5</td>\n",
       "      <td>1.4</td>\n",
       "      <td>0.2</td>\n",
       "    </tr>\n",
       "    <tr>\n",
       "      <th>1</th>\n",
       "      <td>4.9</td>\n",
       "      <td>3.0</td>\n",
       "      <td>1.4</td>\n",
       "      <td>0.2</td>\n",
       "    </tr>\n",
       "    <tr>\n",
       "      <th>2</th>\n",
       "      <td>4.7</td>\n",
       "      <td>3.2</td>\n",
       "      <td>1.3</td>\n",
       "      <td>0.2</td>\n",
       "    </tr>\n",
       "    <tr>\n",
       "      <th>3</th>\n",
       "      <td>4.6</td>\n",
       "      <td>3.1</td>\n",
       "      <td>1.5</td>\n",
       "      <td>0.2</td>\n",
       "    </tr>\n",
       "    <tr>\n",
       "      <th>4</th>\n",
       "      <td>5.0</td>\n",
       "      <td>3.6</td>\n",
       "      <td>1.4</td>\n",
       "      <td>0.2</td>\n",
       "    </tr>\n",
       "  </tbody>\n",
       "</table>\n",
       "</div>"
      ],
      "text/plain": [
       "   sepal length (cm)  sepal width (cm)  petal length (cm)  petal width (cm)\n",
       "0                5.1               3.5                1.4               0.2\n",
       "1                4.9               3.0                1.4               0.2\n",
       "2                4.7               3.2                1.3               0.2\n",
       "3                4.6               3.1                1.5               0.2\n",
       "4                5.0               3.6                1.4               0.2"
      ]
     },
     "execution_count": 7,
     "metadata": {},
     "output_type": "execute_result"
    }
   ],
   "source": [
    "X.head(5)"
   ]
  },
  {
   "cell_type": "code",
   "execution_count": 8,
   "metadata": {
    "ExecuteTime": {
     "end_time": "2023-09-26T15:01:55.950784Z",
     "start_time": "2023-09-26T15:01:55.877528Z"
    }
   },
   "outputs": [],
   "source": [
    "from sklearn.model_selection import train_test_split\n",
    "from pychemauth.preprocessing.scaling import CorrectedScaler\n",
    "\n",
    "X_train, X_test, y_train, y_test = train_test_split(\n",
    "    X.values,\n",
    "    y.values, # Let's try to predict the salary based on the other numerical features.\n",
    "    shuffle=True,\n",
    "    random_state=0,\n",
    "    test_size=0.2,\n",
    "    stratify=y # It is usually important to balance the test and train set so they have the same fraction of classes\n",
    ")\n",
    "\n",
    "# Normally we would include this in a pipeline, but for these examples we will just do this ahead of time.\n",
    "scaler = CorrectedScaler()\n",
    "X_train = scaler.fit_transform(X_train)\n",
    "X_test = scaler.transform(X_test)"
   ]
  },
  {
   "cell_type": "markdown",
   "metadata": {},
   "source": [
    "# Unequal Class Models (UNEQ) = No Dimensionality Reduction"
   ]
  },
  {
   "cell_type": "markdown",
   "metadata": {},
   "source": [
    "Unequal class models [1] are probabilistic models based on the distance from the center of ellipse fit around multivariate data.  Essentially, the empirical center of the feature matrix for a class is taken as the model, and the [Mahalonobis distance]() is computed between each point and the center.  Critical values of Hotelling's $T^2$ statistics (aka score distance) are used to define the size of the ellipse (class space) using a predetermined confidence level.  Forina and co-workers [2] suggest Beta statistics are more appropriate for defining this critical size for the training samples while the use of $T^2$ statistics is appropriate for the test set.  Here, we compute critical distances using [$\\chi^2$ statistics](https://en.wikipedia.org/wiki/Hotelling%27s_T-squared_distribution) as in DD-SIMCA and other projection methods.  Thus, when no dimensionality reduction is performed, this results in an UNEQ model.\n",
    "\n",
    "1. [\"Multivariate class modeling for the verification of food-authenticity claims,\" Oliveri, P., and Downey, G., TrAC Trends in Anal. Chem. 35 (2012) 74-86.](https://doi.org/10.1016/j.trac.2012.02.005)\n",
    "\n",
    "2. [\"UNEQ: a disjoint modelling technique for pattern recognition based on normal distribution,\" Derde, M.P., and Massart, D.L., Anal. Chim. Acta 184 (1986) 33.](https://doi.org/10.1016/S0003-2670(00)86468-5)\n",
    "\n",
    "3. [\"Distance and class space in the UNEQ class-modeling technique,\" Forina, M., Lanteri, S., and Sarabia, L., J. Chemometrics 9 (1995) 69.](https://doi.org/10.1002/cem.1180090202)"
   ]
  },
  {
   "cell_type": "code",
   "execution_count": 9,
   "metadata": {
    "ExecuteTime": {
     "end_time": "2023-09-26T15:01:56.082475Z",
     "start_time": "2023-09-26T15:01:55.952405Z"
    }
   },
   "outputs": [],
   "source": [
    "# If we do not provide a dr_model then the EllipticManifold simply fits an ellipse in the original data space.\n",
    "# For this example, let's just use the first 2 columns so that we will be able to plot the results nicely.\n",
    "\n",
    "setosa = EllipticManifold_Model(\n",
    "    alpha=0.05, \n",
    "    robust=True, # Estimate the covariance matrix for the Mahalanobis distance using a robust approach (MCD)\n",
    "    center='score' # Center the ellipse around the empirical mean of the projected data\n",
    ")\n",
    "\n",
    "_ = setosa.fit(\n",
    "    X_train[y_train == 'setosa'][:,:2], \n",
    "    y_train[y_train == 'setosa']\n",
    ")"
   ]
  },
  {
   "cell_type": "code",
   "execution_count": 10,
   "metadata": {
    "ExecuteTime": {
     "end_time": "2023-09-26T15:01:56.108048Z",
     "start_time": "2023-09-26T15:01:56.085151Z"
    }
   },
   "outputs": [
    {
     "data": {
      "text/plain": [
       "True"
      ]
     },
     "execution_count": 10,
     "metadata": {},
     "output_type": "execute_result"
    }
   ],
   "source": [
    "# No transformation occurs!\n",
    "np.allclose(setosa.transform(X_train[:,:2]), X_train[:,:2])"
   ]
  },
  {
   "cell_type": "code",
   "execution_count": 11,
   "metadata": {
    "ExecuteTime": {
     "end_time": "2023-09-26T15:01:57.052821Z",
     "start_time": "2023-09-26T15:01:56.110432Z"
    }
   },
   "outputs": [
    {
     "data": {
      "image/png": "[encoded data removed]",
      "text/plain": [
       "<Figure size 640x480 with 1 Axes>"
      ]
     },
     "metadata": {},
     "output_type": "display_data"
    }
   ],
   "source": [
    "# Here PC1 = the first column of X, and PC2 is the second column since no transformation has occured.\n",
    "_ = setosa.visualize(\n",
    "    [\n",
    "        X_train[y_train == 'setosa'][:,:2],\n",
    "        X_train[y_train == 'versicolor'][:,:2],\n",
    "        X_train[y_train == 'virginica'][:,:2]\n",
    "    ], \n",
    "    ['setosa', 'versicolor', 'virginica']\n",
    ")"
   ]
  },
  {
   "cell_type": "code",
   "execution_count": 12,
   "metadata": {
    "ExecuteTime": {
     "end_time": "2023-09-26T15:01:57.083624Z",
     "start_time": "2023-09-26T15:01:57.055202Z"
    }
   },
   "outputs": [
    {
     "data": {
      "text/plain": [
       "array([ True,  True,  True,  True,  True,  True, False,  True,  True,\n",
       "        True,  True,  True,  True,  True,  True,  True,  True,  True,\n",
       "        True, False, False,  True, False,  True,  True,  True,  True,\n",
       "        True,  True,  True,  True,  True,  True, False,  True,  True,\n",
       "        True,  True,  True,  True])"
      ]
     },
     "execution_count": 12,
     "metadata": {},
     "output_type": "execute_result"
    }
   ],
   "source": [
    "# Predict how many training examples are considered inliers\n",
    "setosa.predict(X_train[y_train == 'setosa'][:,:2])"
   ]
  },
  {
   "cell_type": "code",
   "execution_count": 13,
   "metadata": {
    "ExecuteTime": {
     "end_time": "2023-09-26T15:01:57.106866Z",
     "start_time": "2023-09-26T15:01:57.085392Z"
    }
   },
   "outputs": [
    {
     "data": {
      "text/plain": [
       "array([False, False, False, False, False, False, False, False, False,\n",
       "       False, False, False, False, False, False, False, False, False,\n",
       "       False, False, False, False, False, False, False, False, False,\n",
       "       False, False, False, False, False, False, False, False, False,\n",
       "       False, False, False, False])"
      ]
     },
     "execution_count": 13,
     "metadata": {},
     "output_type": "execute_result"
    }
   ],
   "source": [
    "setosa.predict(X_train[y_train == 'virginica'][:,:2])"
   ]
  },
  {
   "cell_type": "code",
   "execution_count": 14,
   "metadata": {
    "ExecuteTime": {
     "end_time": "2023-09-26T15:01:57.182452Z",
     "start_time": "2023-09-26T15:01:57.108714Z"
    }
   },
   "outputs": [
    {
     "data": {
      "text/plain": [
       "array([False, False, False, False, False, False, False, False, False,\n",
       "       False, False, False, False, False, False, False, False, False,\n",
       "       False, False, False, False, False, False, False, False, False,\n",
       "       False, False, False, False, False, False, False, False, False,\n",
       "       False, False, False, False])"
      ]
     },
     "execution_count": 14,
     "metadata": {},
     "output_type": "execute_result"
    }
   ],
   "source": [
    "setosa.predict(X_train[y_train == 'versicolor'][:,:2])"
   ]
  },
  {
   "cell_type": "markdown",
   "metadata": {},
   "source": [
    "Principal Components Analysis\n",
    "---\n",
    "\n",
    "We do not need to use a non-linear DR method.  As a first example, let's use PCA.\n"
   ]
  },
  {
   "cell_type": "code",
   "execution_count": 15,
   "metadata": {
    "ExecuteTime": {
     "end_time": "2023-09-26T15:01:57.296219Z",
     "start_time": "2023-09-26T15:01:57.185112Z"
    }
   },
   "outputs": [],
   "source": [
    "# If more than 1 class is used during training an exception is thrown\n",
    "setosa = EllipticManifold_Model(\n",
    "    alpha=0.05, \n",
    "    dr_model=sklearn.decomposition.PCA, # A linear approach\n",
    "    kwargs={'n_components':2}, # Keywords for the dr_model\n",
    "    ndims='n_components', # The keyword that corresponds to the dimensionality of space\n",
    "    robust=True, # Estimate the covariance matrix for the Mahalanobis distance using a robust approach\n",
    "    center='score' # Center the ellipse around the empirical mean of the projected data\n",
    ")\n",
    "\n",
    "_ = setosa.fit(\n",
    "    X_train[y_train == 'setosa'], \n",
    "    y_train[y_train == 'setosa']\n",
    ")"
   ]
  },
  {
   "cell_type": "code",
   "execution_count": 16,
   "metadata": {
    "ExecuteTime": {
     "end_time": "2023-09-26T15:01:58.139899Z",
     "start_time": "2023-09-26T15:01:57.297967Z"
    }
   },
   "outputs": [
    {
     "data": {
      "image/png": "[encoded data removed]",
      "text/plain": [
       "<Figure size 640x480 with 1 Axes>"
      ]
     },
     "metadata": {},
     "output_type": "display_data"
    }
   ],
   "source": [
    "_ = setosa.visualize(\n",
    "    [\n",
    "        X_train[y_train == 'setosa'],\n",
    "        X_train[y_train == 'versicolor'],\n",
    "        X_train[y_train == 'virginica']\n",
    "    ], \n",
    "    ['setosa', 'versicolor', 'virginica']\n",
    ")"
   ]
  },
  {
   "cell_type": "code",
   "execution_count": 17,
   "metadata": {
    "ExecuteTime": {
     "end_time": "2023-09-26T15:01:58.158910Z",
     "start_time": "2023-09-26T15:01:58.141481Z"
    }
   },
   "outputs": [
    {
     "data": {
      "text/plain": [
       "array([ True,  True,  True,  True,  True,  True, False,  True, False,\n",
       "        True,  True,  True,  True,  True,  True,  True,  True, False,\n",
       "        True, False, False,  True, False,  True,  True,  True,  True,\n",
       "        True,  True,  True,  True,  True,  True, False,  True,  True,\n",
       "        True,  True,  True,  True])"
      ]
     },
     "execution_count": 17,
     "metadata": {},
     "output_type": "execute_result"
    }
   ],
   "source": [
    "# Predict how many training examples are considered inliers\n",
    "setosa.predict(X_train[y_train == 'setosa'])"
   ]
  },
  {
   "cell_type": "code",
   "execution_count": 18,
   "metadata": {
    "ExecuteTime": {
     "end_time": "2023-09-26T15:01:58.180746Z",
     "start_time": "2023-09-26T15:01:58.160436Z"
    }
   },
   "outputs": [
    {
     "data": {
      "text/plain": [
       "array([False, False, False, False, False, False, False, False, False,\n",
       "       False, False, False, False, False, False, False, False, False,\n",
       "       False, False, False, False, False, False, False, False, False,\n",
       "       False, False, False, False, False, False, False, False, False,\n",
       "       False, False, False, False, False, False, False, False, False,\n",
       "       False, False, False, False, False, False, False, False, False,\n",
       "       False, False, False, False, False, False, False, False, False,\n",
       "       False, False, False, False, False, False, False, False, False,\n",
       "       False, False, False, False, False, False, False, False])"
      ]
     },
     "execution_count": 18,
     "metadata": {},
     "output_type": "execute_result"
    }
   ],
   "source": [
    "# Predict if the other classes are considered inliers\n",
    "setosa.predict(X_train[y_train != 'setosa'])"
   ]
  },
  {
   "cell_type": "code",
   "execution_count": 19,
   "metadata": {
    "ExecuteTime": {
     "end_time": "2023-09-26T15:01:59.657920Z",
     "start_time": "2023-09-26T15:01:58.182063Z"
    }
   },
   "outputs": [
    {
     "data": {
      "image/png": "[encoded data removed]",
      "text/plain": [
       "<Figure size 640x480 with 1 Axes>"
      ]
     },
     "metadata": {},
     "output_type": "display_data"
    }
   ],
   "source": [
    "# The extremes plot helps you understand how Gaussian the data in the reduced dimensionality space\n",
    "_ = setosa.extremes_plot(X_train[y_train == 'setosa'], upper_frac=1.0)"
   ]
  },
  {
   "cell_type": "markdown",
   "metadata": {
    "id": "z7UFwYxsAtey"
   },
   "source": [
    "Kernel PCA\n",
    "---"
   ]
  },
  {
   "cell_type": "markdown",
   "metadata": {
    "id": "fQltWuoKLdrO"
   },
   "source": [
    "PCA can be made non-linear by switching to kernel PCA. See [scikit-learn's documentation](https://scikit-learn.org/stable/modules/decomposition.html#kernel-pca) for details on hyperparameters.\n"
   ]
  },
  {
   "cell_type": "code",
   "execution_count": 20,
   "metadata": {
    "ExecuteTime": {
     "end_time": "2023-09-26T15:01:59.721453Z",
     "start_time": "2023-09-26T15:01:59.660315Z"
    },
    "colab": {
     "base_uri": "https://localhost:8080/",
     "height": 279
    },
    "executionInfo": {
     "elapsed": 408,
     "status": "ok",
     "timestamp": 1644609552614,
     "user": {
      "displayName": "Nathan Mahynski",
      "photoUrl": "https://lh3.googleusercontent.com/a-/AOh14GiUlAIKCPEpbG_va5l0d5MOrKuPRHHZGu7-AEYw-A=s64",
      "userId": "00044706541353398741"
     },
     "user_tz": 300
    },
    "id": "9fWMxkh4AriC",
    "outputId": "23213177-c780-45b0-d639-38792561642a"
   },
   "outputs": [],
   "source": [
    "setosa = EllipticManifold_Model(\n",
    "    alpha=0.05, \n",
    "    dr_model=sklearn.decomposition.KernelPCA, \n",
    "    kwargs={'n_components': 2, 'kernel': 'cosine'}, \n",
    "    ndims='n_components', \n",
    "    robust=True, \n",
    "    center='score' \n",
    ")\n",
    "\n",
    "_ = setosa.fit(\n",
    "    X_train[y_train == 'setosa'], \n",
    "    y_train[y_train == 'setosa']\n",
    ")"
   ]
  },
  {
   "cell_type": "code",
   "execution_count": 21,
   "metadata": {
    "ExecuteTime": {
     "end_time": "2023-09-26T15:02:00.618858Z",
     "start_time": "2023-09-26T15:01:59.722963Z"
    }
   },
   "outputs": [
    {
     "data": {
      "image/png": "[encoded data removed]",
      "text/plain": [
       "<Figure size 640x480 with 1 Axes>"
      ]
     },
     "metadata": {},
     "output_type": "display_data"
    }
   ],
   "source": [
    "_ = setosa.visualize(\n",
    "    [\n",
    "        X_train[y_train == 'setosa'],\n",
    "        X_train[y_train == 'versicolor'],\n",
    "        X_train[y_train == 'virginica']\n",
    "    ], \n",
    "    ['setosa', 'versicolor', 'virginica']\n",
    ")"
   ]
  },
  {
   "cell_type": "code",
   "execution_count": null,
   "metadata": {
    "ExecuteTime": {
     "start_time": "2023-09-26T15:01:54.627Z"
    }
   },
   "outputs": [],
   "source": [
    "_ = setosa.extremes_plot(X_train[y_train == 'setosa'], upper_frac=1.0)"
   ]
  },
  {
   "cell_type": "markdown",
   "metadata": {
    "id": "msxiiTfXBuXg"
   },
   "source": [
    "Isometric Mapping\n",
    "---"
   ]
  },
  {
   "cell_type": "markdown",
   "metadata": {
    "id": "J4_OiublLqaI"
   },
   "source": [
    "Isometric mapping is another non-linear DR approach.  You can read more in [scikit-learn's documentation](https://scikit-learn.org/stable/modules/manifold.html#isomap).\n"
   ]
  },
  {
   "cell_type": "code",
   "execution_count": null,
   "metadata": {
    "ExecuteTime": {
     "start_time": "2023-09-26T15:01:54.631Z"
    },
    "colab": {
     "base_uri": "https://localhost:8080/",
     "height": 441
    },
    "executionInfo": {
     "elapsed": 8248,
     "status": "ok",
     "timestamp": 1644610255071,
     "user": {
      "displayName": "Nathan Mahynski",
      "photoUrl": "https://lh3.googleusercontent.com/a-/AOh14GiUlAIKCPEpbG_va5l0d5MOrKuPRHHZGu7-AEYw-A=s64",
      "userId": "00044706541353398741"
     },
     "user_tz": 300
    },
    "id": "QSwOxyxxBwmU",
    "outputId": "74bd5354-3ec3-4be1-ddee-3dc4a632060c"
   },
   "outputs": [],
   "source": [
    "fig, axes = plt.subplots(nrows=2, ncols=4, figsize=(16,6))\n",
    "ax = axes.flatten()\n",
    "\n",
    "idx = 0\n",
    "for dims in [1, 2]:\n",
    "    for nebrs in [5, 10, 15, 20]:\n",
    "        setosa = EllipticManifold_Model(\n",
    "            alpha=0.05, \n",
    "            dr_model=sklearn.manifold.Isomap, \n",
    "            kwargs={\"n_components\": dims, \"metric\":'minkowski', \"p\":2, \"n_neighbors\":nebrs}, \n",
    "            ndims=\"n_components\", \n",
    "            robust=True, \n",
    "            center='score' \n",
    "        )\n",
    "        _ = setosa.fit(X_train[y_train == 'setosa'])\n",
    "        \n",
    "        _ = setosa.visualize(\n",
    "            [\n",
    "                X_train[y_train == 'setosa'],\n",
    "                X_train[y_train == 'versicolor'],\n",
    "                X_train[y_train == 'virginica']\n",
    "            ], \n",
    "            ['setosa', 'versicolor', 'virginica'],\n",
    "            ax=ax[idx]\n",
    "        )\n",
    "        \n",
    "        test_sns = np.sum(setosa.predict(X_test[y_test == 'setosa'])) / np.sum(y_test == 'setosa')\n",
    "        test_sps = 1.0 - np.sum(setosa.predict(X_test[y_test != 'setosa'])) / np.sum(y_test != 'setosa')\n",
    "\n",
    "        ax[idx].set_title('Nebrs = {}, Test SNS = {}, SPS = {}'.format(nebrs, '%.2f'%test_sns, '%.2f'%test_sps))\n",
    "        idx += 1\n",
    "plt.tight_layout()"
   ]
  },
  {
   "cell_type": "markdown",
   "metadata": {
    "id": "FVAdX7mcB1Pj"
   },
   "source": [
    "Locally Linear Embedding\n",
    "---"
   ]
  },
  {
   "cell_type": "markdown",
   "metadata": {
    "id": "JAd6SvbxLs0i"
   },
   "source": [
    "Locally linear embedding mapping is another non-linear DR approach.  You can read more in [scikit-learn's documentation](https://scikit-learn.org/stable/modules/manifold.html#locally-linear-embedding).\n"
   ]
  },
  {
   "cell_type": "code",
   "execution_count": null,
   "metadata": {
    "ExecuteTime": {
     "start_time": "2023-09-26T15:01:54.635Z"
    },
    "colab": {
     "base_uri": "https://localhost:8080/",
     "height": 441
    },
    "executionInfo": {
     "elapsed": 12308,
     "status": "ok",
     "timestamp": 1644610272406,
     "user": {
      "displayName": "Nathan Mahynski",
      "photoUrl": "https://lh3.googleusercontent.com/a-/AOh14GiUlAIKCPEpbG_va5l0d5MOrKuPRHHZGu7-AEYw-A=s64",
      "userId": "00044706541353398741"
     },
     "user_tz": 300
    },
    "id": "rYW4EiHbB2bP",
    "outputId": "c6d29d1a-9146-4ea9-b15e-f73a6dccf4f0"
   },
   "outputs": [],
   "source": [
    "fig, axes = plt.subplots(nrows=2, ncols=4, figsize=(16,6))\n",
    "ax = axes.flatten()\n",
    "\n",
    "idx = 0\n",
    "for dims in [1, 2]:\n",
    "    for nebrs in [5, 10, 15, 20]:\n",
    "        setosa = EllipticManifold_Model(\n",
    "            alpha=0.05, \n",
    "            dr_model=sklearn.manifold.LocallyLinearEmbedding, \n",
    "            kwargs={\"n_components\": dims, \"n_neighbors\":nebrs}, \n",
    "            ndims=\"n_components\", \n",
    "            robust=True, \n",
    "            center='score' \n",
    "        )\n",
    "        _ = setosa.fit(X_train[y_train == 'setosa'])\n",
    "        \n",
    "        _ = setosa.visualize(\n",
    "            [\n",
    "                X_train[y_train == 'setosa'],\n",
    "                X_train[y_train == 'versicolor'],\n",
    "                X_train[y_train == 'virginica']\n",
    "            ], \n",
    "            ['setosa', 'versicolor', 'virginica'],\n",
    "            ax=ax[idx]\n",
    "        )\n",
    "        \n",
    "        test_sns = np.sum(setosa.predict(X_test[y_test == 'setosa'])) / np.sum(y_test == 'setosa')\n",
    "        test_sps = 1.0 - np.sum(setosa.predict(X_test[y_test != 'setosa'])) / np.sum(y_test != 'setosa')\n",
    "\n",
    "        ax[idx].set_title('Nebrs = {}, Test SNS = {}, SPS = {}'.format(nebrs, '%.2f'%test_sns, '%.2f'%test_sps))\n",
    "        idx += 1\n",
    "plt.tight_layout()"
   ]
  },
  {
   "cell_type": "markdown",
   "metadata": {
    "id": "FGjZnMwlB3N3"
   },
   "source": [
    "UMAP Example\n",
    "---"
   ]
  },
  {
   "cell_type": "markdown",
   "metadata": {
    "id": "gonEivnBB_UN"
   },
   "source": [
    "UMAP has a lot of parameters that should be understood before using it.  See the [documentation](https://umap-learn.readthedocs.io/en/latest/parameters.html) for explanation. Briefly, there are 4 that matter the most:\n",
    "\n",
    "* n_neighbors\n",
    "* n_components\n",
    "* metric\n",
    "* min_dist\n",
    "\n",
    "**IMPORTANTLY** you should always set random_state to ensure reproducibility between runs since UMAP is stochastic."
   ]
  },
  {
   "cell_type": "code",
   "execution_count": null,
   "metadata": {
    "ExecuteTime": {
     "start_time": "2023-09-26T15:01:54.641Z"
    },
    "executionInfo": {
     "elapsed": 17199,
     "status": "ok",
     "timestamp": 1644610310347,
     "user": {
      "displayName": "Nathan Mahynski",
      "photoUrl": "https://lh3.googleusercontent.com/a-/AOh14GiUlAIKCPEpbG_va5l0d5MOrKuPRHHZGu7-AEYw-A=s64",
      "userId": "00044706541353398741"
     },
     "user_tz": 300
    },
    "id": "JJW6H37FLFd0"
   },
   "outputs": [],
   "source": [
    "import umap"
   ]
  },
  {
   "cell_type": "code",
   "execution_count": null,
   "metadata": {
    "ExecuteTime": {
     "start_time": "2023-09-26T15:01:54.643Z"
    }
   },
   "outputs": [],
   "source": [
    "fig, axes = plt.subplots(nrows=2, ncols=4, figsize=(16,6))\n",
    "ax = axes.flatten()\n",
    "\n",
    "idx = 0\n",
    "for dims in [1, 2]:\n",
    "    for nebrs in [5, 10, 15, 20]:\n",
    "        setosa = EllipticManifold_Model(\n",
    "            alpha=0.05, \n",
    "            dr_model=umap.UMAP, \n",
    "            kwargs={\n",
    "                \"n_components\": dims, \n",
    "                \"n_neighbors\": nebrs, \n",
    "                \"random_state\": 0, # Always set this for reproducibility\n",
    "                \"metric\": \"euclidean\",\n",
    "                \"min_dist\": 1.0\n",
    "            }, \n",
    "            ndims=\"n_components\", \n",
    "            robust=True, \n",
    "            center='score' \n",
    "        )\n",
    "        _ = setosa.fit(X_train[y_train == 'setosa'])\n",
    "        \n",
    "        _ = setosa.visualize(\n",
    "            [\n",
    "                X_train[y_train == 'setosa'],\n",
    "                X_train[y_train == 'versicolor'],\n",
    "                X_train[y_train == 'virginica']\n",
    "            ], \n",
    "            ['setosa', 'versicolor', 'virginica'],\n",
    "            ax=ax[idx]\n",
    "        )\n",
    "        \n",
    "        test_sns = np.sum(setosa.predict(X_test[y_test == 'setosa'])) / np.sum(y_test == 'setosa')\n",
    "        test_sps = 1.0 - np.sum(setosa.predict(X_test[y_test != 'setosa'])) / np.sum(y_test != 'setosa')\n",
    "\n",
    "        ax[idx].set_title('Nebrs = {}, Test SNS = {}, SPS = {}'.format(nebrs, '%.2f'%test_sns, '%.2f'%test_sps))\n",
    "        idx += 1\n",
    "plt.tight_layout()"
   ]
  },
  {
   "cell_type": "markdown",
   "metadata": {},
   "source": [
    "Building an Authenticator\n",
    "---\n",
    "\n",
    "In training loops and other applications it is convenient to not have to separate classes for training.  This is one thing that EllipticManifold_Authenticator conveniently does for you, which is illustrated below.  Here, we simply specify the class we care about and all others are automatically ignored like we did manually above.  \n",
    "\n",
    "Another factor we need to consider is that there are 2 ways to train an authentication model [1].  A \"rigorous\" approach would be to train a model considering only the true examples of a known class.  We could select a desired `alpha` value and adjust `n_components` to try to achieve this, since it is the desired type I error rate.  This is essentially like setting the accuracy for true positives (TSNS), while ignoring the behavior with respect to alternative classes.  \n",
    "\n",
    "Alternatively, we could use examples of alternatives and adjust our hyperparameters to optimize an overall metric like total efficiency (TEFF) which considers how often we get true positives correct (TSNS) and how often we correctly reject the true negatives (TSPS). This is a \"compliant\" approach. These sorts of models use more information and might seem more performant, but this data is always biased by the set of known alternatives we use.  Since there are an infinite number of inauthentic things, this introduces some bias which can be difficult to quantify.\n",
    "\n",
    "[[1] \"Rigorous and compliant approaches to one-class classification,\" Rodionova, O., Oliveri, P., and Pomerantsev, A. Chem. and Intell. Lab. Sys. (2016) 89-96.](https://doi.org/10.1016/j.chemolab.2016.10.002)\n",
    " "
   ]
  },
  {
   "cell_type": "code",
   "execution_count": null,
   "metadata": {
    "ExecuteTime": {
     "start_time": "2023-09-26T15:01:54.647Z"
    }
   },
   "outputs": [],
   "source": [
    "from pychemauth.manifold.elliptic import EllipticManifold_Authenticator"
   ]
  },
  {
   "cell_type": "code",
   "execution_count": null,
   "metadata": {
    "ExecuteTime": {
     "start_time": "2023-09-26T15:01:54.650Z"
    }
   },
   "outputs": [],
   "source": [
    "# First let's consider a compliant model\n",
    "compliant = EllipticManifold_Authenticator(\n",
    "    alpha=0.05, \n",
    "    dr_model=sklearn.decomposition.PCA, # A linear approach\n",
    "    kwargs={'n_components':2}, # Keywords for the dr_model\n",
    "    ndims='n_components', # The keyword that corresponds to the dimensionality of space\n",
    "    robust=True, # Estimate the covariance matrix for the Mahalanobis distance using a robust approach\n",
    "    center='score', # Center the ellipse around the empirical mean of the projected data\n",
    "    target_class='setosa', # Tell the classifier which class to use\n",
    "    use='compliant' # Using a compliant approach will use the other classes provided at training time\n",
    ")"
   ]
  },
  {
   "cell_type": "code",
   "execution_count": null,
   "metadata": {
    "ExecuteTime": {
     "start_time": "2023-09-26T15:01:54.653Z"
    }
   },
   "outputs": [],
   "source": [
    "# Note that y_train should contain examples of the target_class or else an exception will be thrown.  Otherwise,\n",
    "# all other classes will be used by the model to optimize TEFF\n",
    "_ = compliant.fit(X_train, y_train)"
   ]
  },
  {
   "cell_type": "code",
   "execution_count": null,
   "metadata": {
    "ExecuteTime": {
     "start_time": "2023-09-26T15:01:54.657Z"
    }
   },
   "outputs": [],
   "source": [
    "compliant.metrics(X_train, y_train)"
   ]
  },
  {
   "cell_type": "code",
   "execution_count": null,
   "metadata": {
    "ExecuteTime": {
     "start_time": "2023-09-26T15:01:54.660Z"
    }
   },
   "outputs": [],
   "source": [
    "# Now consider a rigorous model\n",
    "rigorous = EllipticManifold_Authenticator(\n",
    "    alpha=0.05, \n",
    "    dr_model=sklearn.decomposition.PCA, # A linear approach\n",
    "    kwargs={'n_components':2}, # Keywords for the dr_model\n",
    "    ndims='n_components', # The keyword that corresponds to the dimensionality of space\n",
    "    robust=True, # Estimate the covariance matrix for the Mahalanobis distance using a robust approach\n",
    "    center='score', # Center the ellipse around the empirical mean of the projected data\n",
    "    target_class='setosa', # Tell the classifier which class to use\n",
    "    use='rigorous' # Using a compliant approach will use the other classes provided at training time\n",
    ")"
   ]
  },
  {
   "cell_type": "code",
   "execution_count": null,
   "metadata": {
    "ExecuteTime": {
     "start_time": "2023-09-26T15:01:54.663Z"
    }
   },
   "outputs": [],
   "source": [
    "_ = rigorous.fit(X_train, y_train)"
   ]
  },
  {
   "cell_type": "code",
   "execution_count": null,
   "metadata": {
    "ExecuteTime": {
     "start_time": "2023-09-26T15:01:54.667Z"
    }
   },
   "outputs": [],
   "source": [
    "rigorous.metrics(X_train, y_train)"
   ]
  },
  {
   "cell_type": "markdown",
   "metadata": {},
   "source": [
    "The metrics are identical!  This is because the choice of rigorous vs. compliant has nothing to do with the <b>training</b> of the model.  This is important when we <b>optimize</b> the model since it determines what the optimal model looks like; i.e., should it be the one with the TSNS ~ 1-alpha, or the one with the best TEFF?\n"
   ]
  },
  {
   "cell_type": "code",
   "execution_count": null,
   "metadata": {
    "ExecuteTime": {
     "start_time": "2023-09-26T15:01:54.671Z"
    }
   },
   "outputs": [],
   "source": [
    "# The compliant model's score is the TEFF.\n",
    "compliant.score(X_train, y_train)"
   ]
  },
  {
   "cell_type": "code",
   "execution_count": null,
   "metadata": {
    "ExecuteTime": {
     "start_time": "2023-09-26T15:01:54.675Z"
    }
   },
   "outputs": [],
   "source": [
    "# We score a rigorous model as -(TSNS - (1-alpha))^2, so that a higher score is better (least negative) and a score of \n",
    "# 0 corresponds to hitting the target exactly.\n",
    "rigorous.score(X_train, y_train)"
   ]
  },
  {
   "cell_type": "markdown",
   "metadata": {},
   "source": [
    "Optimizing the Authenticator\n",
    "---"
   ]
  },
  {
   "cell_type": "markdown",
   "metadata": {},
   "source": [
    "<h3>Compliant Model</h3>"
   ]
  },
  {
   "cell_type": "code",
   "execution_count": null,
   "metadata": {
    "ExecuteTime": {
     "start_time": "2023-09-26T15:01:54.679Z"
    }
   },
   "outputs": [],
   "source": [
    "compliant_pipeline = imblearn.pipeline.Pipeline(\n",
    "    steps=[\n",
    "        (\"model\", EllipticManifold_Authenticator(\n",
    "            alpha=0.05, \n",
    "            dr_model=sklearn.decomposition.PCA, # A linear approach\n",
    "            kwargs={'n_components':1}, # Keywords for the dr_model\n",
    "            ndims='n_components', # The keyword that corresponds to the dimensionality of space\n",
    "            robust=True, # Estimate the covariance matrix for the Mahalanobis distance using a robust approach\n",
    "            center='score', # Center the ellipse around the empirical mean of the projected data\n",
    "            target_class='setosa', # Tell the classifier which class to use\n",
    "            use='compliant' # Using a compliant approach will use the other classes provided at training time\n",
    "        )\n",
    "    )\n",
    "])\n",
    "\n",
    "param_grid = [{\n",
    "    'model__kwargs':[{'n_components':i} for i in [1, 2, 3, 4]],\n",
    "}]\n",
    "\n",
    "gs = GridSearchCV(\n",
    "    estimator=compliant_pipeline,\n",
    "    param_grid=param_grid,\n",
    "    n_jobs=-1,\n",
    "    cv=sklearn.model_selection.StratifiedKFold(n_splits=3, shuffle=True, random_state=0),\n",
    "    error_score=0,\n",
    "    refit=True\n",
    ")\n",
    "\n",
    "_ = gs.fit(X_train, y_train)"
   ]
  },
  {
   "cell_type": "code",
   "execution_count": null,
   "metadata": {
    "ExecuteTime": {
     "start_time": "2023-09-26T15:01:54.682Z"
    }
   },
   "outputs": [],
   "source": [
    "gs.best_params_"
   ]
  },
  {
   "cell_type": "code",
   "execution_count": null,
   "metadata": {
    "ExecuteTime": {
     "start_time": "2023-09-26T15:01:54.685Z"
    }
   },
   "outputs": [],
   "source": [
    "print(\"Test set TEFF = {}; training set TEFF = {}\".format(\n",
    "    '%.3f'%(gs.score(X_test, y_test)),\n",
    "    '%.3f'%(gs.score(X_train, y_train)),\n",
    "    )\n",
    ")"
   ]
  },
  {
   "cell_type": "code",
   "execution_count": null,
   "metadata": {
    "ExecuteTime": {
     "start_time": "2023-09-26T15:01:54.688Z"
    }
   },
   "outputs": [],
   "source": [
    "_ = gs.best_estimator_[\"model\"].model.visualize(\n",
    "    [\n",
    "        X_train[y_train == 'setosa'],\n",
    "        X_train[y_train == 'versicolor'],\n",
    "        X_train[y_train == 'virginica']\n",
    "    ], \n",
    "    ['setosa', 'versicolor', 'virginica']\n",
    ")"
   ]
  },
  {
   "cell_type": "code",
   "execution_count": null,
   "metadata": {
    "ExecuteTime": {
     "start_time": "2023-09-26T15:01:54.690Z"
    }
   },
   "outputs": [],
   "source": [
    "gs.best_estimator_[\"model\"].metrics(X_train, y_train)"
   ]
  },
  {
   "cell_type": "code",
   "execution_count": null,
   "metadata": {
    "ExecuteTime": {
     "start_time": "2023-09-26T15:01:54.694Z"
    }
   },
   "outputs": [],
   "source": [
    "gs.best_estimator_[\"model\"].metrics(X_test, y_test)"
   ]
  },
  {
   "cell_type": "markdown",
   "metadata": {},
   "source": [
    "<h3>Rigorous Model</h3>"
   ]
  },
  {
   "cell_type": "code",
   "execution_count": null,
   "metadata": {
    "ExecuteTime": {
     "start_time": "2023-09-26T15:01:54.697Z"
    }
   },
   "outputs": [],
   "source": [
    "rigorous_pipeline = imblearn.pipeline.Pipeline(\n",
    "    steps=[\n",
    "        (\"model\", EllipticManifold_Authenticator(\n",
    "            alpha=0.05, \n",
    "            dr_model=sklearn.decomposition.PCA, # A linear approach\n",
    "            kwargs={'n_components':1}, # Keywords for the dr_model\n",
    "            ndims='n_components', # The keyword that corresponds to the dimensionality of space\n",
    "            robust=True, # Estimate the covariance matrix for the Mahalanobis distance using a robust approach\n",
    "            center='score', # Center the ellipse around the empirical mean of the projected data\n",
    "            target_class='setosa', # Tell the classifier which class to use\n",
    "            use='rigorous' # Using a rigorous approach will use the other classes provided at training time\n",
    "        )\n",
    "    )\n",
    "])\n",
    "\n",
    "param_grid = [{\n",
    "    'model__kwargs':[{'n_components':i} for i in [1, 2, 3, 4]],\n",
    "}]\n",
    "\n",
    "gs = GridSearchCV(\n",
    "    estimator=rigorous_pipeline,\n",
    "    param_grid=param_grid,\n",
    "    n_jobs=-1,\n",
    "    cv=sklearn.model_selection.StratifiedKFold(n_splits=3, shuffle=True, random_state=0),\n",
    "    error_score=0,\n",
    "    refit=True\n",
    ")\n",
    "\n",
    "_ = gs.fit(X_train, y_train)"
   ]
  },
  {
   "cell_type": "code",
   "execution_count": null,
   "metadata": {
    "ExecuteTime": {
     "start_time": "2023-09-26T15:01:54.700Z"
    }
   },
   "outputs": [],
   "source": [
    "gs.best_params_"
   ]
  },
  {
   "cell_type": "code",
   "execution_count": null,
   "metadata": {
    "ExecuteTime": {
     "start_time": "2023-09-26T15:01:54.703Z"
    }
   },
   "outputs": [],
   "source": [
    "print(\"Test set TEFF = {}; training set TEFF = {}\".format(\n",
    "    '%.4f'%(gs.score(X_test, y_test)),\n",
    "    '%.4f'%(gs.score(X_train, y_train)),\n",
    "    )\n",
    ")"
   ]
  },
  {
   "cell_type": "code",
   "execution_count": null,
   "metadata": {
    "ExecuteTime": {
     "start_time": "2023-09-26T15:01:54.707Z"
    }
   },
   "outputs": [],
   "source": [
    "# We can manually compute these scores\n",
    "tsns_test = np.sum(gs.predict(X_test[y_test == 'setosa'])) / np.sum(y_test == 'setosa')\n",
    "(tsns_test - (1.0 - 0.05))**2"
   ]
  },
  {
   "cell_type": "code",
   "execution_count": null,
   "metadata": {
    "ExecuteTime": {
     "start_time": "2023-09-26T15:01:54.710Z"
    }
   },
   "outputs": [],
   "source": [
    "# We can manually compute these scores\n",
    "tsns_train = np.sum(gs.predict(X_train[y_train == 'setosa'])) / np.sum(y_train == 'setosa')\n",
    "(tsns_train - (1.0 - 0.05))**2"
   ]
  },
  {
   "cell_type": "code",
   "execution_count": null,
   "metadata": {
    "ExecuteTime": {
     "start_time": "2023-09-26T15:01:54.713Z"
    }
   },
   "outputs": [],
   "source": [
    "_ = gs.best_estimator_[\"model\"].model.visualize(\n",
    "    [\n",
    "        X_train[y_train == 'setosa'],\n",
    "        X_train[y_train == 'versicolor'],\n",
    "        X_train[y_train == 'virginica']\n",
    "    ], \n",
    "    ['setosa', 'versicolor', 'virginica']\n",
    ")"
   ]
  },
  {
   "cell_type": "code",
   "execution_count": null,
   "metadata": {
    "ExecuteTime": {
     "start_time": "2023-09-26T15:01:54.715Z"
    }
   },
   "outputs": [],
   "source": [
    "gs.best_estimator_[\"model\"].metrics(X_train, y_train)"
   ]
  },
  {
   "cell_type": "code",
   "execution_count": null,
   "metadata": {
    "ExecuteTime": {
     "start_time": "2023-09-26T15:01:54.718Z"
    }
   },
   "outputs": [],
   "source": [
    "gs.best_estimator_[\"model\"].metrics(X_test, y_test)"
   ]
  }
 ],
 "metadata": {
  "colab": {
   "authorship_tag": "ABX9TyNYYqWGjCJD48DxOr80VFQe",
   "collapsed_sections": [
    "Xt_ihpi96oR4"
   ],
   "name": "elliptic_manifold_example.ipynb",
   "provenance": []
  },
  "kernelspec": {
   "display_name": "oyster-provenance",
   "language": "python",
   "name": "oyster-provenance"
  },
  "language_info": {
   "codemirror_mode": {
    "name": "ipython",
    "version": 3
   },
   "file_extension": ".py",
   "mimetype": "text/x-python",
   "name": "python",
   "nbconvert_exporter": "python",
   "pygments_lexer": "ipython3",
   "version": "3.11.4"
  },
  "toc": {
   "base_numbering": 1,
   "nav_menu": {},
   "number_sections": true,
   "sideBar": true,
   "skip_h1_title": false,
   "title_cell": "Table of Contents",
   "title_sidebar": "Contents",
   "toc_cell": true,
   "toc_position": {},
   "toc_section_display": true,
   "toc_window_display": false
  }
 },
 "nbformat": 4,
 "nbformat_minor": 4
}
