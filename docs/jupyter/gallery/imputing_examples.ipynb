{
 "cells": [
  {
   "cell_type": "markdown",
   "metadata": {},
   "source": [
    "Imputing Missing Values and Those Below LOD\n",
    "==="
   ]
  },
  {
   "cell_type": "markdown",
   "metadata": {},
   "source": [
    "<div class=\"alert alert-block alert-info\"> \n",
    "Author: Nathan A. Mahynski\n",
    "    \n",
    "Date: 2023/08/23\n",
    "    \n",
    "Description: Illustrate different ways to impute missing or bad data and implement this in pipelines.\n",
    "    \n",
    "</div>"
   ]
  },
  {
   "cell_type": "code",
   "execution_count": 1,
   "metadata": {
    "ExecuteTime": {
     "end_time": "2023-08-28T18:43:03.969123Z",
     "start_time": "2023-08-28T18:43:03.523933Z"
    }
   },
   "outputs": [],
   "source": [
    "using_colab = 'google.colab' in str(get_ipython())\n",
    "if using_colab:\n",
    "    !git clone https://github.com/mahynski/pychemauth.git --depth 1\n",
    "    !cd pychemauth; pip3 install .; cd ..\n",
    "\n",
    "try:\n",
    "    import pychemauth\n",
    "except:\n",
    "    raise ImportError(\"pychemauth not installed\")\n",
    "    \n",
    "import matplotlib.pyplot as plt\n",
    "%matplotlib inline\n",
    "\n",
    "import watermark\n",
    "%load_ext watermark\n",
    "\n",
    "%load_ext autoreload\n",
    "%autoreload 2"
   ]
  },
  {
   "cell_type": "code",
   "execution_count": 2,
   "metadata": {
    "ExecuteTime": {
     "end_time": "2023-08-28T18:43:04.635274Z",
     "start_time": "2023-08-28T18:43:03.971161Z"
    },
    "executionInfo": {
     "elapsed": 1626,
     "status": "ok",
     "timestamp": 1644609481227,
     "user": {
      "displayName": "Nathan Mahynski",
      "photoUrl": "https://lh3.googleusercontent.com/a-/AOh14GiUlAIKCPEpbG_va5l0d5MOrKuPRHHZGu7-AEYw-A=s64",
      "userId": "00044706541353398741"
     },
     "user_tz": 300
    },
    "id": "yO5JyxXdMaVl",
    "scrolled": true
   },
   "outputs": [],
   "source": [
    "import imblearn\n",
    "import sklearn\n",
    "\n",
    "from sklearn.model_selection import GridSearchCV\n",
    "\n",
    "import numpy as np\n",
    "import pandas as pd"
   ]
  },
  {
   "cell_type": "code",
   "execution_count": 3,
   "metadata": {
    "ExecuteTime": {
     "end_time": "2023-08-28T18:43:04.662637Z",
     "start_time": "2023-08-28T18:43:04.638040Z"
    },
    "colab": {
     "base_uri": "https://localhost:8080/"
    },
    "executionInfo": {
     "elapsed": 200,
     "status": "ok",
     "timestamp": 1644609481416,
     "user": {
      "displayName": "Nathan Mahynski",
      "photoUrl": "https://lh3.googleusercontent.com/a-/AOh14GiUlAIKCPEpbG_va5l0d5MOrKuPRHHZGu7-AEYw-A=s64",
      "userId": "00044706541353398741"
     },
     "user_tz": 300
    },
    "id": "Mc7Ip3FBMaVq",
    "outputId": "2ff67e19-fa02-4236-fcc0-d8d0c01fb650"
   },
   "outputs": [
    {
     "name": "stdout",
     "output_type": "stream",
     "text": [
      "Python implementation: CPython\n",
      "Python version       : 3.11.4\n",
      "IPython version      : 8.14.0\n",
      "\n",
      "Compiler    : GCC 12.2.0\n",
      "OS          : Linux\n",
      "Release     : 6.2.0-26-generic\n",
      "Machine     : x86_64\n",
      "Processor   : x86_64\n",
      "CPU cores   : 40\n",
      "Architecture: 64bit\n",
      "\n",
      "json      : 2.0.9\n",
      "sklearn   : 1.3.0\n",
      "pychemauth: 0.0.0b3\n",
      "watermark : 2.4.3\n",
      "matplotlib: 3.7.2\n",
      "imblearn  : 0.11.0\n",
      "pandas    : 2.0.3\n",
      "numpy     : 1.24.4\n",
      "\n"
     ]
    }
   ],
   "source": [
    "%watermark -t -m -v --iversions"
   ]
  },
  {
   "cell_type": "markdown",
   "metadata": {
    "id": "CE5NiNDDMaVs"
   },
   "source": [
    "<h3>Load the Data</h3>"
   ]
  },
  {
   "cell_type": "markdown",
   "metadata": {},
   "source": [
    "<div class=\"alert alert-block alert-info\">\n",
    "Let's load some sample data, then purposefully corrupt it so that we can try to reconstruct it with various methods.\n",
    "</div>"
   ]
  },
  {
   "cell_type": "code",
   "execution_count": 4,
   "metadata": {
    "ExecuteTime": {
     "end_time": "2023-08-28T18:43:04.717363Z",
     "start_time": "2023-08-28T18:43:04.664028Z"
    },
    "executionInfo": {
     "elapsed": 5,
     "status": "ok",
     "timestamp": 1644609481417,
     "user": {
      "displayName": "Nathan Mahynski",
      "photoUrl": "https://lh3.googleusercontent.com/a-/AOh14GiUlAIKCPEpbG_va5l0d5MOrKuPRHHZGu7-AEYw-A=s64",
      "userId": "00044706541353398741"
     },
     "user_tz": 300
    },
    "id": "KkgiFnLyMaVt"
   },
   "outputs": [],
   "source": [
    "from sklearn.datasets import fetch_california_housing\n",
    "data_bunch = fetch_california_housing(return_X_y=False, as_frame=False)\n",
    "\n",
    "# Let's just work with the first 2k datapoints in this example\n",
    "raw_X = data_bunch.data[:2000,:]\n",
    "raw_y = data_bunch.target[:2000]\n",
    "\n",
    "# Randomly delete 5% of the entries\n",
    "n_delete = int(raw_X.shape[0]*0.05)\n",
    "\n",
    "np.random.seed(42)\n",
    "row_idx = [np.random.randint(low=0, high=raw_X.shape[0]) \n",
    "     for i in range(n_delete)]\n",
    "col_idx = [np.random.randint(low=0, high=raw_X.shape[1]) \n",
    "     for i in range(n_delete)]\n",
    "\n",
    "missing_X = raw_X.copy()\n",
    "for i,j in zip(row_idx, col_idx):\n",
    "    missing_X[i,j] = np.nan "
   ]
  },
  {
   "cell_type": "markdown",
   "metadata": {
    "ExecuteTime": {
     "end_time": "2023-08-28T14:34:14.832173Z",
     "start_time": "2023-08-28T14:34:14.785366Z"
    }
   },
   "source": [
    "<div class=\"alert alert-block alert-info\">\n",
    "We'll use these functions to visualize the corrupted data and reconstructions later on.\n",
    "</div>"
   ]
  },
  {
   "cell_type": "code",
   "execution_count": 5,
   "metadata": {
    "ExecuteTime": {
     "end_time": "2023-08-28T18:43:04.758763Z",
     "start_time": "2023-08-28T18:43:04.718953Z"
    }
   },
   "outputs": [],
   "source": [
    "def compare(raw_X, reconstructed_X, first=None):\n",
    "    print('Reconstructed\\tOriginal\\tDifference\\tRelative Err')\n",
    "    for i,j in zip(row_idx[:first], col_idx[:first]):\n",
    "        print('%.3e\\t'%reconstructed_X[i,j]\n",
    "              +'%.3e\\t'%raw_X[i,j]\n",
    "              +'%.3e\\t'%(reconstructed_X[i,j]-raw_X[i,j])\n",
    "              +'%.3f'%(np.abs((reconstructed_X[i,j]-raw_X[i,j])/raw_X[i,j]))\n",
    "             )\n",
    "        \n",
    "def plot_performance(gs, components):\n",
    "    fig, axes = plt.subplots(nrows=1, ncols=2, figsize=(12,4))\n",
    "    \n",
    "    for i,ax in enumerate(axes):\n",
    "        ax.errorbar(\n",
    "            x=components,\n",
    "            y=-gs.cv_results_['mean_test_score'],\n",
    "            yerr=gs.cv_results_['std_test_score'] # Errorbars are +/- 1 standard deviation\n",
    "        )\n",
    "        if i == 0:\n",
    "            ax.set_yscale('log')\n",
    "            ax.set_title('In Log Scale')\n",
    "        else:\n",
    "            ax.set_title('Not in Log Scale')\n",
    "        ax.set_xlabel('Number of Components')\n",
    "        ax.set_ylabel('Sum Squared Error on Test Set')"
   ]
  },
  {
   "cell_type": "markdown",
   "metadata": {
    "id": "loo-98geMaVv"
   },
   "source": [
    "Iterative PCA (Missing X values)\n",
    "---\n",
    "\n",
    "PCA can be used to reconstruct the missing values using a maximum likelihood estimation method.\n",
    "\n",
    "As stated in [1]:\n",
    "\n",
    "> \"The PCA/IA algorithm in the version applied in chemometrics can be summarized as: \n",
    "> 1. fill in missing elements with their initial estimates,\n",
    "> 2. perform singular value decomposition of the complete data set,\n",
    "> 3. reconstruct X with the predefined number of factors,\n",
    "> 4. replace the missing elements with the predicted values and go to step 2 until convergence.\"\n",
    "\n",
    "References:\n",
    "\n",
    "[1] [Walczak, B. and Massart, D. L., \"Dealing with missing data: Part I,\" Chemometrics and Intelligent Laboratory Systems 58 (2001) 15-27.](https://doi.org/10.1016/S0169-7439(01)00131-9)\n",
    "\n",
    "[2] [Walczak, B. and Massart, D. L., \"Dealing with missing data: Part II,\" Chemometrics and Intelligent Laboratory Systems 58 (2001) 29-42.](https://doi.org/10.1016/S0169-7439(01)00132-0)"
   ]
  },
  {
   "cell_type": "markdown",
   "metadata": {
    "id": "_q4FFMynMaVw"
   },
   "source": [
    "<h3>Fixed Number of Components</h3>"
   ]
  },
  {
   "cell_type": "markdown",
   "metadata": {
    "id": "3AKDAs_JMaVz"
   },
   "source": [
    "<div class=\"alert alert-block alert-warning\">\n",
    "The number of components being used in the singular value decomposition is a hyperparameter that should be optimized inside a pipeline using cross-validation; however, in this first example we will just set the value for illustration.\n",
    "</div>"
   ]
  },
  {
   "cell_type": "code",
   "execution_count": 6,
   "metadata": {
    "ExecuteTime": {
     "end_time": "2023-08-28T18:43:04.849185Z",
     "start_time": "2023-08-28T18:43:04.760625Z"
    },
    "executionInfo": {
     "elapsed": 228,
     "status": "ok",
     "timestamp": 1644609481641,
     "user": {
      "displayName": "Nathan Mahynski",
      "photoUrl": "https://lh3.googleusercontent.com/a-/AOh14GiUlAIKCPEpbG_va5l0d5MOrKuPRHHZGu7-AEYw-A=s64",
      "userId": "00044706541353398741"
     },
     "user_tz": 300
    },
    "id": "UeCqtt_UMaVz"
   },
   "outputs": [],
   "source": [
    "from pychemauth.preprocessing.missing import PCA_IA"
   ]
  },
  {
   "cell_type": "code",
   "execution_count": 7,
   "metadata": {
    "ExecuteTime": {
     "end_time": "2023-08-28T18:43:04.929610Z",
     "start_time": "2023-08-28T18:43:04.851235Z"
    },
    "executionInfo": {
     "elapsed": 13,
     "status": "ok",
     "timestamp": 1644609481643,
     "user": {
      "displayName": "Nathan Mahynski",
      "photoUrl": "https://lh3.googleusercontent.com/a-/AOh14GiUlAIKCPEpbG_va5l0d5MOrKuPRHHZGu7-AEYw-A=s64",
      "userId": "00044706541353398741"
     },
     "user_tz": 300
    },
    "id": "2wIvvgHnMaV0"
   },
   "outputs": [],
   "source": [
    "itim = PCA_IA(\n",
    "    n_components=3, \n",
    "    scale_x=True,\n",
    "    missing_values=np.nan, \n",
    "    tol=1.0e-4,\n",
    "    max_iters=5000\n",
    ")"
   ]
  },
  {
   "cell_type": "code",
   "execution_count": 8,
   "metadata": {
    "ExecuteTime": {
     "end_time": "2023-08-28T18:43:05.150276Z",
     "start_time": "2023-08-28T18:43:04.935618Z"
    },
    "colab": {
     "base_uri": "https://localhost:8080/"
    },
    "executionInfo": {
     "elapsed": 158,
     "status": "ok",
     "timestamp": 1644609481790,
     "user": {
      "displayName": "Nathan Mahynski",
      "photoUrl": "https://lh3.googleusercontent.com/a-/AOh14GiUlAIKCPEpbG_va5l0d5MOrKuPRHHZGu7-AEYw-A=s64",
      "userId": "00044706541353398741"
     },
     "user_tz": 300
    },
    "id": "Jzsv3dEHMaV1",
    "outputId": "81f7f33b-e83f-455c-f4d5-89bc10a49234"
   },
   "outputs": [
    {
     "name": "stdout",
     "output_type": "stream",
     "text": [
      "Reconstructed\tOriginal\tDifference\tRelative Err\n",
      "1.528e+01\t2.300e+01\t-7.721e+00\t0.336\n",
      "1.230e+00\t9.953e-01\t2.350e-01\t0.236\n",
      "2.639e+01\t1.500e+01\t1.139e+01\t0.760\n",
      "2.772e+01\t1.300e+01\t1.472e+01\t1.132\n",
      "2.318e+00\t2.620e+00\t-3.020e-01\t0.115\n",
      "1.386e+00\t1.117e+00\t2.690e-01\t0.241\n",
      "2.400e+00\t3.728e+00\t-1.328e+00\t0.356\n",
      "3.924e+01\t3.842e+01\t8.229e-01\t0.021\n",
      "-1.222e+02\t-1.222e+02\t-5.861e-02\t0.000\n",
      "3.771e+01\t3.785e+01\t-1.373e-01\t0.004\n"
     ]
    }
   ],
   "source": [
    "reconstructed_X = itim.fit_transform(missing_X)\n",
    "compare(raw_X, reconstructed_X, first=10)"
   ]
  },
  {
   "cell_type": "markdown",
   "metadata": {
    "id": "1jXFMvlkMaV1"
   },
   "source": [
    "<h3>Unknown Number of Components</h3>"
   ]
  },
  {
   "cell_type": "markdown",
   "metadata": {
    "id": "ijZsYELkMaV2"
   },
   "source": [
    "<div class=\"alert alert-block alert-info\">\n",
    "Usually, we need to figure out what a good number of components is. We can use cross-validation for this.\n",
    "</div>"
   ]
  },
  {
   "cell_type": "code",
   "execution_count": 9,
   "metadata": {
    "ExecuteTime": {
     "end_time": "2023-08-28T18:43:09.215761Z",
     "start_time": "2023-08-28T18:43:05.152586Z"
    },
    "executionInfo": {
     "elapsed": 4909,
     "status": "ok",
     "timestamp": 1644609486696,
     "user": {
      "displayName": "Nathan Mahynski",
      "photoUrl": "https://lh3.googleusercontent.com/a-/AOh14GiUlAIKCPEpbG_va5l0d5MOrKuPRHHZGu7-AEYw-A=s64",
      "userId": "00044706541353398741"
     },
     "user_tz": 300
    },
    "id": "RswvN7JIMaV2"
   },
   "outputs": [],
   "source": [
    "pipeline = sklearn.pipeline.Pipeline(steps=[\n",
    "    (\"pca_ia\", PCA_IA(\n",
    "        n_components=1, \n",
    "        tol=1e-04,\n",
    "        max_iters=5000,\n",
    "        scale_x=True)\n",
    "    )\n",
    "])\n",
    "\n",
    "# Hyperparameters of pipeline steps are given in standard notation: step__parameter_name\n",
    "components = np.arange(1, raw_X.shape[1], 1)\n",
    "param_grid = [{\n",
    "    'pca_ia__n_components': components,\n",
    "}]\n",
    "\n",
    "# Let's use a simple grid search cross-validation stratgegy with 5-fold CV\n",
    "gs = GridSearchCV(\n",
    "    estimator=pipeline,\n",
    "    param_grid=param_grid,\n",
    "    n_jobs=-1,\n",
    "    cv=sklearn.model_selection.KFold(n_splits=5, shuffle=True, random_state=0),\n",
    "    error_score=0,\n",
    "    refit=True\n",
    ")\n",
    "\n",
    "# Fit the PCA_IA object\n",
    "_ = gs.fit(\n",
    "    missing_X, \n",
    ")"
   ]
  },
  {
   "cell_type": "code",
   "execution_count": 10,
   "metadata": {
    "ExecuteTime": {
     "end_time": "2023-08-28T18:43:09.985150Z",
     "start_time": "2023-08-28T18:43:09.218146Z"
    }
   },
   "outputs": [
    {
     "data": {
      "image/png": "[encoded data removed]",
      "text/plain": [
       "<Figure size 1200x400 with 2 Axes>"
      ]
     },
     "metadata": {},
     "output_type": "display_data"
    }
   ],
   "source": [
    "# Let's plot the results\n",
    "plot_performance(gs, components)"
   ]
  },
  {
   "cell_type": "markdown",
   "metadata": {
    "ExecuteTime": {
     "end_time": "2023-08-28T14:58:59.548078Z",
     "start_time": "2023-08-28T14:58:59.524480Z"
    }
   },
   "source": [
    "<div class=\"alert alert-block alert-success\">  \n",
    "PCA/IA is working well when there are nearly as many components as features. In log scale it is clear that the test set error is monotonically decreasing, which means the CV object will choose the maximum number of components as the optimum.  \n",
    "</div>"
   ]
  },
  {
   "cell_type": "code",
   "execution_count": 11,
   "metadata": {
    "ExecuteTime": {
     "end_time": "2023-08-28T18:43:10.010382Z",
     "start_time": "2023-08-28T18:43:09.987141Z"
    }
   },
   "outputs": [
    {
     "data": {
      "text/plain": [
       "{'pca_ia__n_components': 7}"
      ]
     },
     "execution_count": 11,
     "metadata": {},
     "output_type": "execute_result"
    }
   ],
   "source": [
    "gs.best_params_ # Indeed, N = 7 is what the CV object chooses"
   ]
  },
  {
   "cell_type": "code",
   "execution_count": 12,
   "metadata": {
    "ExecuteTime": {
     "end_time": "2023-08-28T18:43:10.115442Z",
     "start_time": "2023-08-28T18:43:10.011917Z"
    }
   },
   "outputs": [
    {
     "name": "stdout",
     "output_type": "stream",
     "text": [
      "Reconstructed\tOriginal\tDifference\tRelative Err\n",
      "2.969e+01\t2.300e+01\t6.685e+00\t0.291\n",
      "1.087e+00\t9.953e-01\t9.147e-02\t0.092\n",
      "3.107e+01\t1.500e+01\t1.607e+01\t1.071\n",
      "3.265e+01\t1.300e+01\t1.965e+01\t1.511\n",
      "2.652e+00\t2.620e+00\t3.176e-02\t0.012\n",
      "1.020e+00\t1.117e+00\t-9.738e-02\t0.087\n",
      "2.708e+00\t3.728e+00\t-1.020e+00\t0.274\n",
      "3.824e+01\t3.842e+01\t-1.844e-01\t0.005\n",
      "-1.220e+02\t-1.222e+02\t1.970e-01\t0.002\n",
      "3.831e+01\t3.785e+01\t4.560e-01\t0.012\n"
     ]
    }
   ],
   "source": [
    "reconstructed_X = gs.transform(missing_X)\n",
    "compare(raw_X, reconstructed_X, first=10)"
   ]
  },
  {
   "cell_type": "markdown",
   "metadata": {
    "id": "vxOAMWCMMaV5"
   },
   "source": [
    "<div class=\"alert alert-block alert-warning\"> \n",
    "You can then use this in other pipelines.  You can specify the imputer without any hyperparameters in those cases, for example.\n",
    "Below is an example of how you might do that when using a subsquent PLS-DA model. \n",
    "</div>"
   ]
  },
  {
   "cell_type": "markdown",
   "metadata": {
    "id": "GaD6hygpOCXC"
   },
   "source": [
    "<pre>\n",
    "<div class=\"alert alert-block alert-success\"> \n",
    "pipeline = imblearn.pipeline.Pipeline(steps=[\n",
    "    (\"pca_ia\", PCA_IA(n_components=7, scale_x=False)),\n",
    "    (\"plsda\", PLSDA(n_components=5, \n",
    "                    alpha=0.05,\n",
    "                    scale_x=True, \n",
    "                    not_assigned='UNKNOWN',\n",
    "                    style='soft', \n",
    "                   )\n",
    "    )\n",
    "])\n",
    "\n",
    "# Specify hyperparameters associated with each step\n",
    "param_grid = [{\n",
    "    \"pca_ia__n_components\": np.arange(1, 10, 2)\n",
    "    \"plsda__n_components\": np.arange(1, 10, 2),\n",
    "    \"plsda__alpha\": [0.07, 0.05, 0.03, 0.01],\n",
    "}]\n",
    "\n",
    "# Create grid search cross-validation object\n",
    "gs = GridSearchCV(\n",
    "    estimator=pipeline,\n",
    "    param_grid=param_grid,\n",
    "    n_jobs=-1,\n",
    "    cv=5,\n",
    "    error_score=0,\n",
    "    refit=True\n",
    ")\n",
    "\n",
    "# Train\n",
    "_ = gs.fit(x_train, y_train)\n",
    "</div>\n",
    "</pre>"
   ]
  },
  {
   "cell_type": "markdown",
   "metadata": {
    "id": "dm36gNf3MaV7"
   },
   "source": [
    "Iterative PLS (Missing X values)\n",
    "---\n",
    "\n",
    "PCA is an unsupervised approach and only looks at the feature matrix, X, to reconstruct the missing values. If we use PLS instead this becomes a supervised method, which now considers the response variable, y, in the reconstruction.\n",
    "\n",
    "As stated in [1]:\n",
    "\n",
    "> \"For a PLS model, the IA is included into the PLS procedure as follows:\n",
    "> 1. fill in missing elements with their initial estimates for fn=1:A (number of factors),\n",
    "> 2. calculate the mean of X and of y,\n",
    "> 3. center X and y,\n",
    "> 4. calculate weights, scores and loadings,\n",
    "> 5. substract the predicted X and y from the original X and y and go to step 4 end,\n",
    "> 6. reconstruct X with the actual set of scores and loadings (and A factors),\n",
    "> 7. fill in missing elements in X with their estimates and go to step 2 until convergence.\""
   ]
  },
  {
   "cell_type": "markdown",
   "metadata": {
    "id": "fdszcKfgMaV8"
   },
   "source": [
    "<h3>Fixed Number of Components</h3>"
   ]
  },
  {
   "cell_type": "code",
   "execution_count": 13,
   "metadata": {
    "ExecuteTime": {
     "end_time": "2023-08-28T18:43:10.131975Z",
     "start_time": "2023-08-28T18:43:10.117035Z"
    },
    "executionInfo": {
     "elapsed": 173,
     "status": "ok",
     "timestamp": 1644609488242,
     "user": {
      "displayName": "Nathan Mahynski",
      "photoUrl": "https://lh3.googleusercontent.com/a-/AOh14GiUlAIKCPEpbG_va5l0d5MOrKuPRHHZGu7-AEYw-A=s64",
      "userId": "00044706541353398741"
     },
     "user_tz": 300
    },
    "id": "DVtw4FMCMaV8"
   },
   "outputs": [],
   "source": [
    "from pychemauth.preprocessing.missing import PLS_IA"
   ]
  },
  {
   "cell_type": "code",
   "execution_count": 14,
   "metadata": {
    "ExecuteTime": {
     "end_time": "2023-08-28T18:43:10.148840Z",
     "start_time": "2023-08-28T18:43:10.133449Z"
    },
    "executionInfo": {
     "elapsed": 8,
     "status": "ok",
     "timestamp": 1644609488243,
     "user": {
      "displayName": "Nathan Mahynski",
      "photoUrl": "https://lh3.googleusercontent.com/a-/AOh14GiUlAIKCPEpbG_va5l0d5MOrKuPRHHZGu7-AEYw-A=s64",
      "userId": "00044706541353398741"
     },
     "user_tz": 300
    },
    "id": "KD1nn0FzMaV-"
   },
   "outputs": [],
   "source": [
    "itim = PLS_IA(\n",
    "    n_components=3, \n",
    "    missing_values=np.nan, \n",
    "    scale_x=True,\n",
    "    tol=1.0e-2, \n",
    "    max_iters=10000\n",
    ")"
   ]
  },
  {
   "cell_type": "code",
   "execution_count": 15,
   "metadata": {
    "ExecuteTime": {
     "end_time": "2023-08-28T18:43:10.443269Z",
     "start_time": "2023-08-28T18:43:10.150308Z"
    },
    "executionInfo": {
     "elapsed": 157,
     "status": "ok",
     "timestamp": 1644609488393,
     "user": {
      "displayName": "Nathan Mahynski",
      "photoUrl": "https://lh3.googleusercontent.com/a-/AOh14GiUlAIKCPEpbG_va5l0d5MOrKuPRHHZGu7-AEYw-A=s64",
      "userId": "00044706541353398741"
     },
     "user_tz": 300
    },
    "id": "sN1cFTdOMaV-"
   },
   "outputs": [
    {
     "name": "stdout",
     "output_type": "stream",
     "text": [
      "Reconstructed\tOriginal\tDifference\tRelative Err\n",
      "3.746e+01\t2.300e+01\t1.446e+01\t0.629\n",
      "8.934e-01\t9.953e-01\t-1.019e-01\t0.102\n",
      "2.734e+01\t1.500e+01\t1.234e+01\t0.823\n",
      "3.071e+01\t1.300e+01\t1.771e+01\t1.363\n",
      "1.992e+00\t2.620e+00\t-6.286e-01\t0.240\n",
      "-5.122e-01\t1.117e+00\t-1.629e+00\t1.459\n",
      "2.614e+00\t3.728e+00\t-1.114e+00\t0.299\n",
      "3.827e+01\t3.842e+01\t-1.507e-01\t0.004\n",
      "-1.223e+02\t-1.222e+02\t-1.529e-01\t0.001\n",
      "3.829e+01\t3.785e+01\t4.413e-01\t0.012\n"
     ]
    }
   ],
   "source": [
    "reconstructed_X = itim.fit_transform(\n",
    "    missing_X, \n",
    "    raw_y.reshape(-1,1)\n",
    ")\n",
    "compare(raw_X, reconstructed_X, first=10)"
   ]
  },
  {
   "cell_type": "markdown",
   "metadata": {
    "id": "dxBoJPAoMaV_"
   },
   "source": [
    "<h3>Unknown Number of Components</h3>"
   ]
  },
  {
   "cell_type": "code",
   "execution_count": 16,
   "metadata": {
    "ExecuteTime": {
     "end_time": "2023-08-28T18:43:11.260931Z",
     "start_time": "2023-08-28T18:43:10.445335Z"
    },
    "executionInfo": {
     "elapsed": 4191,
     "status": "ok",
     "timestamp": 1644609492756,
     "user": {
      "displayName": "Nathan Mahynski",
      "photoUrl": "https://lh3.googleusercontent.com/a-/AOh14GiUlAIKCPEpbG_va5l0d5MOrKuPRHHZGu7-AEYw-A=s64",
      "userId": "00044706541353398741"
     },
     "user_tz": 300
    },
    "id": "Ap7ZxXyYMaV_"
   },
   "outputs": [],
   "source": [
    "pipeline = sklearn.pipeline.Pipeline(steps=[\n",
    "    (\"pls_ia\", PLS_IA(\n",
    "        n_components=1, \n",
    "        max_iters=10000,\n",
    "        tol=1.0e-2,\n",
    "        scale_x=False)\n",
    "    )\n",
    "])\n",
    "\n",
    "# Hyperparameters of pipeline steps are given in standard notation: step__parameter_name\n",
    "components = np.arange(1, raw_X.shape[1], 1)\n",
    "param_grid = [{\n",
    "    'pls_ia__n_components': components,\n",
    "}]\n",
    "\n",
    "# Let's use a simple grid search cross-validation stratgegy with 5-fold CV\n",
    "gs = GridSearchCV(\n",
    "    estimator=pipeline,\n",
    "    param_grid=param_grid,\n",
    "    n_jobs=-1,\n",
    "    cv=sklearn.model_selection.KFold(n_splits=5, shuffle=True, random_state=0),\n",
    "    error_score=0,\n",
    "    refit=True\n",
    ")\n",
    "\n",
    "# Fit the PLS_IA object\n",
    "_ = gs.fit(\n",
    "    missing_X, \n",
    "    raw_y.reshape(-1,1)\n",
    ")"
   ]
  },
  {
   "cell_type": "code",
   "execution_count": 17,
   "metadata": {
    "ExecuteTime": {
     "end_time": "2023-08-28T18:43:11.819618Z",
     "start_time": "2023-08-28T18:43:11.262897Z"
    },
    "colab": {
     "base_uri": "https://localhost:8080/"
    },
    "executionInfo": {
     "elapsed": 10,
     "status": "ok",
     "timestamp": 1644609492757,
     "user": {
      "displayName": "Nathan Mahynski",
      "photoUrl": "https://lh3.googleusercontent.com/a-/AOh14GiUlAIKCPEpbG_va5l0d5MOrKuPRHHZGu7-AEYw-A=s64",
      "userId": "00044706541353398741"
     },
     "user_tz": 300
    },
    "id": "oKJhx2hRMaV_",
    "outputId": "dd2eb77d-407e-4a25-aadb-f428d95ee476"
   },
   "outputs": [
    {
     "data": {
      "image/png": "[encoded data removed]",
      "text/plain": [
       "<Figure size 1200x400 with 2 Axes>"
      ]
     },
     "metadata": {},
     "output_type": "display_data"
    }
   ],
   "source": [
    "# Let's plot the results\n",
    "plot_performance(gs, components)"
   ]
  },
  {
   "cell_type": "markdown",
   "metadata": {},
   "source": [
    "<div class=\"alert alert-block alert-success\">  \n",
    "PLS/IA seems to work much better than PCA/IA, as expected when comparing a supervised to an unsuprvised approach.  \n",
    "</div>"
   ]
  },
  {
   "cell_type": "code",
   "execution_count": 18,
   "metadata": {
    "ExecuteTime": {
     "end_time": "2023-08-28T18:43:11.838566Z",
     "start_time": "2023-08-28T18:43:11.821059Z"
    }
   },
   "outputs": [
    {
     "data": {
      "text/plain": [
       "{'pls_ia__n_components': 7}"
      ]
     },
     "execution_count": 18,
     "metadata": {},
     "output_type": "execute_result"
    }
   ],
   "source": [
    "gs.best_params_"
   ]
  },
  {
   "cell_type": "code",
   "execution_count": 19,
   "metadata": {
    "ExecuteTime": {
     "end_time": "2023-08-28T18:43:11.874809Z",
     "start_time": "2023-08-28T18:43:11.839838Z"
    }
   },
   "outputs": [
    {
     "name": "stdout",
     "output_type": "stream",
     "text": [
      "Reconstructed\tOriginal\tDifference\tRelative Err\n",
      "3.135e+01\t2.300e+01\t8.348e+00\t0.363\n",
      "1.070e+00\t9.953e-01\t7.423e-02\t0.075\n",
      "3.133e+01\t1.500e+01\t1.633e+01\t1.089\n",
      "3.133e+01\t1.300e+01\t1.833e+01\t1.410\n",
      "2.618e+00\t2.620e+00\t-2.178e-03\t0.001\n",
      "8.100e-01\t1.117e+00\t-3.071e-01\t0.275\n",
      "2.663e+00\t3.728e+00\t-1.066e+00\t0.286\n",
      "3.994e+01\t3.842e+01\t1.525e+00\t0.040\n",
      "-1.220e+02\t-1.222e+02\t2.144e-01\t0.002\n",
      "3.823e+01\t3.785e+01\t3.802e-01\t0.010\n"
     ]
    }
   ],
   "source": [
    "reconstructed_X = gs.transform(missing_X)\n",
    "compare(raw_X, reconstructed_X, first=10)"
   ]
  },
  {
   "cell_type": "markdown",
   "metadata": {
    "id": "iL_YEA7UMaWA"
   },
   "source": [
    "Below Limit of Detection (LOD)\n",
    "---\n",
    "\n",
    "<div class=\"alert alert-block alert-info\">\n",
    "Another commonly encounted case where imputation is necessary is when measurements are below an instrument's LOD. This data may be biased based on the instrument itself (e.g., could return a fixed value or have non-Gaussian behavior) and it is generally preferable to impute those value randomly to avoid introducing bias in models trained on this data.\n",
    "</div>\n",
    "\n",
    "<div class=\"alert alert-block alert-warning\">\n",
    "Data in the feature matrix (X) is assumed \"missing\" because it is\n",
    "below the limit of detection (LOD).  <b>However, any values explicitly less than\n",
    "    the LODs provided are also selected for imputation.</b> In both cases, random values\n",
    "are chosen between 0 and the LOD (which must be provided by the user).\n",
    "</div>"
   ]
  },
  {
   "cell_type": "code",
   "execution_count": 20,
   "metadata": {
    "ExecuteTime": {
     "end_time": "2023-08-28T18:43:11.889778Z",
     "start_time": "2023-08-28T18:43:11.876153Z"
    },
    "executionInfo": {
     "elapsed": 7,
     "status": "ok",
     "timestamp": 1644609492758,
     "user": {
      "displayName": "Nathan Mahynski",
      "photoUrl": "https://lh3.googleusercontent.com/a-/AOh14GiUlAIKCPEpbG_va5l0d5MOrKuPRHHZGu7-AEYw-A=s64",
      "userId": "00044706541353398741"
     },
     "user_tz": 300
    },
    "id": "AuL_bDtxMaWA"
   },
   "outputs": [],
   "source": [
    "from pychemauth.preprocessing.missing import LOD"
   ]
  },
  {
   "cell_type": "markdown",
   "metadata": {
    "id": "_ya2X0zMMaWB"
   },
   "source": [
    "<h3>Missing values are only because < LOD</h3>\n",
    "    \n",
    "<div class=\"alert alert-block alert-info\"> \n",
    "First, let's consider a feature matrix where values less than LOD have been reported as NaN.  We simply need to detect and impute.\n",
    "</div>"
   ]
  },
  {
   "cell_type": "code",
   "execution_count": 21,
   "metadata": {
    "ExecuteTime": {
     "end_time": "2023-08-28T18:43:11.906303Z",
     "start_time": "2023-08-28T18:43:11.891070Z"
    },
    "executionInfo": {
     "elapsed": 180,
     "status": "ok",
     "timestamp": 1644609492932,
     "user": {
      "displayName": "Nathan Mahynski",
      "photoUrl": "https://lh3.googleusercontent.com/a-/AOh14GiUlAIKCPEpbG_va5l0d5MOrKuPRHHZGu7-AEYw-A=s64",
      "userId": "00044706541353398741"
     },
     "user_tz": 300
    },
    "id": "OTOK2dP_MaWB"
   },
   "outputs": [],
   "source": [
    "# Hypothetical feature matrix\n",
    "X = np.array(\n",
    "    [\n",
    "        [1.0, 2.0, 3.0, 4.0],\n",
    "        [np.nan, 3.0, 2.0, np.nan],\n",
    "        [5.0, 1.0, np.nan, 5.0],\n",
    "        [2.0, 3.0, 4.0, 5.0]\n",
    "    ]\n",
    ")\n",
    "\n",
    "# Hypothetical limit of detection for each column in the feature matrix\n",
    "lod = np.array([0.01, 0.01, 1.0, 3.0])"
   ]
  },
  {
   "cell_type": "code",
   "execution_count": 22,
   "metadata": {
    "ExecuteTime": {
     "end_time": "2023-08-28T18:43:11.927440Z",
     "start_time": "2023-08-28T18:43:11.907653Z"
    },
    "colab": {
     "base_uri": "https://localhost:8080/"
    },
    "executionInfo": {
     "elapsed": 6,
     "status": "ok",
     "timestamp": 1644609492933,
     "user": {
      "displayName": "Nathan Mahynski",
      "photoUrl": "https://lh3.googleusercontent.com/a-/AOh14GiUlAIKCPEpbG_va5l0d5MOrKuPRHHZGu7-AEYw-A=s64",
      "userId": "00044706541353398741"
     },
     "user_tz": 300
    },
    "id": "8gsE0kZmMaWC",
    "outputId": "5c4c3530-37ca-48ee-9bef-62f6615126c4"
   },
   "outputs": [
    {
     "data": {
      "text/plain": [
       "array([[1.        , 2.        , 3.        , 4.        ],\n",
       "       [0.00773956, 3.        , 2.        , 2.57579376],\n",
       "       [5.        , 1.        , 0.43887844, 5.        ],\n",
       "       [2.        , 3.        , 4.        , 5.        ]])"
      ]
     },
     "execution_count": 22,
     "metadata": {},
     "output_type": "execute_result"
    }
   ],
   "source": [
    "imputer = LOD(\n",
    "    lod, \n",
    "    missing_values=np.nan, \n",
    "    seed=42\n",
    ")\n",
    "\n",
    "# Each NaN is replaced with a random value < lod for each column\n",
    "imputer.fit_transform(X)"
   ]
  },
  {
   "cell_type": "code",
   "execution_count": 23,
   "metadata": {
    "ExecuteTime": {
     "end_time": "2023-08-28T18:43:11.949243Z",
     "start_time": "2023-08-28T18:43:11.931152Z"
    }
   },
   "outputs": [
    {
     "data": {
      "text/plain": [
       "array([[1.        , 2.        , 3.        , 4.        ],\n",
       "       [0.00697368, 3.        , 2.        , 2.92686705],\n",
       "       [5.        , 1.        , 0.09417735, 5.        ],\n",
       "       [2.        , 3.        , 4.        , 5.        ]])"
      ]
     },
     "execution_count": 23,
     "metadata": {},
     "output_type": "execute_result"
    }
   ],
   "source": [
    "# However, any value less than LOD is automatically imputed so we don't technically need them to be flagged\n",
    "\n",
    "X = np.array(\n",
    "    [\n",
    "        [1.0, 2.0, 3.0, 4.0],\n",
    "        [0.001, 3.0, 2.0, 0.001],\n",
    "        [5.0, 1.0, 0.001, 5.0],\n",
    "        [2.0, 3.0, 4.0, 5.0]\n",
    "    ]\n",
    ")\n",
    "\n",
    "imputer.transform(X)"
   ]
  },
  {
   "cell_type": "markdown",
   "metadata": {
    "id": "uNwEA8f1MaWC"
   },
   "source": [
    "<h3>Missing values and < LOD are different</h3>\n",
    "    \n",
    "<div class=\"alert alert-block alert-warning\"> \n",
    "It is also possible that we may encounter cases where some data is missing and some data is < LOD.  \n",
    "In this case, we would may want to impute the missing data with PLS_IA or PCA_IA, but randomly impute the data that has been recorded, but is less than LOD.\n",
    "</div>                                                                                                "
   ]
  },
  {
   "cell_type": "code",
   "execution_count": 24,
   "metadata": {
    "ExecuteTime": {
     "end_time": "2023-08-28T18:43:11.965143Z",
     "start_time": "2023-08-28T18:43:11.950753Z"
    },
    "executionInfo": {
     "elapsed": 4,
     "status": "ok",
     "timestamp": 1644609492933,
     "user": {
      "displayName": "Nathan Mahynski",
      "photoUrl": "https://lh3.googleusercontent.com/a-/AOh14GiUlAIKCPEpbG_va5l0d5MOrKuPRHHZGu7-AEYw-A=s64",
      "userId": "00044706541353398741"
     },
     "user_tz": 300
    },
    "id": "YgTU-Ld2MaWC"
   },
   "outputs": [],
   "source": [
    "# Now assume NaN is a missing value and there are other entries that are < LOD also present.\n",
    "X = np.array(\n",
    "    [\n",
    "        [1.0, np.nan, 3.0, 4.0],\n",
    "        [0.001, 3.0, 2.0, np.nan],\n",
    "        [5.0, 1.0, np.nan, 5.0],\n",
    "        [2.0, 3.0, 0.001, 5.0]\n",
    "    ]\n",
    ")"
   ]
  },
  {
   "cell_type": "markdown",
   "metadata": {
    "ExecuteTime": {
     "end_time": "2023-08-28T15:55:07.629939Z",
     "start_time": "2023-08-28T15:55:07.590938Z"
    }
   },
   "source": [
    "<div class=\"alert alert-block alert-danger\">  \n",
    "A naive imputer will replace BOTH the < LOD values and NaNs.\n",
    "</div>"
   ]
  },
  {
   "cell_type": "code",
   "execution_count": 25,
   "metadata": {
    "ExecuteTime": {
     "end_time": "2023-08-28T18:43:11.998000Z",
     "start_time": "2023-08-28T18:43:11.966606Z"
    }
   },
   "outputs": [
    {
     "data": {
      "text/plain": [
       "array([[1.00000000e+00, 4.38878440e-03, 3.00000000e+00, 4.00000000e+00],\n",
       "       [7.73956049e-03, 3.00000000e+00, 2.00000000e+00, 2.82532044e-01],\n",
       "       [5.00000000e+00, 1.00000000e+00, 8.58597920e-01, 5.00000000e+00],\n",
       "       [2.00000000e+00, 3.00000000e+00, 6.97368029e-01, 5.00000000e+00]])"
      ]
     },
     "execution_count": 25,
     "metadata": {},
     "output_type": "execute_result"
    }
   ],
   "source": [
    "imputer = LOD(\n",
    "    lod, \n",
    "    seed=42,\n",
    "#     missing_values=np.nan \n",
    ")\n",
    "\n",
    "imputer.fit_transform(X)"
   ]
  },
  {
   "cell_type": "markdown",
   "metadata": {},
   "source": [
    "<div class=\"alert alert-block alert-warning\">\n",
    "Instead, we should ignore NaN values and let the imputer only work on the values explicitly less than LOD. One option is change the default value for missing_values to something else, e.g., -1. The other option is to specify this value as 'ignored.'\n",
    "</div>"
   ]
  },
  {
   "cell_type": "code",
   "execution_count": 26,
   "metadata": {
    "ExecuteTime": {
     "end_time": "2023-08-28T18:43:12.018602Z",
     "start_time": "2023-08-28T18:43:11.999287Z"
    },
    "colab": {
     "base_uri": "https://localhost:8080/"
    },
    "executionInfo": {
     "elapsed": 171,
     "status": "ok",
     "timestamp": 1644609493100,
     "user": {
      "displayName": "Nathan Mahynski",
      "photoUrl": "https://lh3.googleusercontent.com/a-/AOh14GiUlAIKCPEpbG_va5l0d5MOrKuPRHHZGu7-AEYw-A=s64",
      "userId": "00044706541353398741"
     },
     "user_tz": 300
    },
    "id": "UQ0ZmBDUMaWD",
    "outputId": "340be55f-0884-424d-f5f4-e8f87ebbfba4"
   },
   "outputs": [
    {
     "data": {
      "text/plain": [
       "array([[1.        ,        nan, 3.        , 4.        ],\n",
       "       [0.00773956, 3.        , 2.        ,        nan],\n",
       "       [5.        , 1.        ,        nan, 5.        ],\n",
       "       [2.        , 3.        , 0.43887844, 5.        ]])"
      ]
     },
     "execution_count": 26,
     "metadata": {},
     "output_type": "execute_result"
    }
   ],
   "source": [
    "# Step 1: Impute < LOD values while ignoring the NaNs which will be handled later\n",
    "imputer = LOD(\n",
    "    lod, \n",
    "    ignore=np.nan, \n",
    "    seed=42\n",
    ")\n",
    "X_lod = imputer.fit_transform(X)\n",
    "X_lod"
   ]
  },
  {
   "cell_type": "code",
   "execution_count": 27,
   "metadata": {
    "ExecuteTime": {
     "end_time": "2023-08-28T18:43:12.136420Z",
     "start_time": "2023-08-28T18:43:12.020117Z"
    },
    "colab": {
     "base_uri": "https://localhost:8080/"
    },
    "executionInfo": {
     "elapsed": 406,
     "status": "ok",
     "timestamp": 1644609493503,
     "user": {
      "displayName": "Nathan Mahynski",
      "photoUrl": "https://lh3.googleusercontent.com/a-/AOh14GiUlAIKCPEpbG_va5l0d5MOrKuPRHHZGu7-AEYw-A=s64",
      "userId": "00044706541353398741"
     },
     "user_tz": 300
    },
    "id": "-GWq5PFMMaWD",
    "outputId": "88a14ef9-f248-4126-a44e-0fd8573f09b9"
   },
   "outputs": [
    {
     "data": {
      "text/plain": [
       "array([[ 1.        ,  3.64184538,  3.        ,  4.        ],\n",
       "       [ 0.00773956,  3.        ,  2.        ,  4.3137826 ],\n",
       "       [ 5.        ,  1.        , -2.32238208,  5.        ],\n",
       "       [ 2.        ,  3.        ,  0.43887844,  5.        ]])"
      ]
     },
     "execution_count": 27,
     "metadata": {},
     "output_type": "execute_result"
    }
   ],
   "source": [
    "# Step 2: Now remove NaNs by doing imputation\n",
    "itim = PCA_IA(\n",
    "    n_components=1, \n",
    "    missing_values=np.nan, # NaN's were preserved during LOD imputation\n",
    "    scale_x=True,\n",
    "    tol=1.0e-6, \n",
    "    max_iters=5000\n",
    ")\n",
    "X_recon = itim.fit_transform(\n",
    "    X_lod, \n",
    ")\n",
    "X_recon"
   ]
  },
  {
   "cell_type": "markdown",
   "metadata": {
    "ExecuteTime": {
     "end_time": "2023-08-28T16:20:29.535931Z",
     "start_time": "2023-08-28T16:20:29.473810Z"
    },
    "colab": {
     "base_uri": "https://localhost:8080/"
    },
    "executionInfo": {
     "elapsed": 8,
     "status": "ok",
     "timestamp": 1644609493503,
     "user": {
      "displayName": "Nathan Mahynski",
      "photoUrl": "https://lh3.googleusercontent.com/a-/AOh14GiUlAIKCPEpbG_va5l0d5MOrKuPRHHZGu7-AEYw-A=s64",
      "userId": "00044706541353398741"
     },
     "user_tz": 300
    },
    "id": "UhGJxZK4MaWE",
    "outputId": "48d0d77b-5576-43b6-b067-bc966958646d"
   },
   "source": [
    "<div class=\"alert alert-block alert-warning\"> \n",
    "Below is an example of using these two imputation methods together in a pipeline.\n",
    "</div>"
   ]
  },
  {
   "cell_type": "markdown",
   "metadata": {
    "ExecuteTime": {
     "end_time": "2023-08-28T16:22:04.794807Z",
     "start_time": "2023-08-28T16:22:04.785790Z"
    },
    "executionInfo": {
     "elapsed": 6,
     "status": "ok",
     "timestamp": 1644609493505,
     "user": {
      "displayName": "Nathan Mahynski",
      "photoUrl": "https://lh3.googleusercontent.com/a-/AOh14GiUlAIKCPEpbG_va5l0d5MOrKuPRHHZGu7-AEYw-A=s64",
      "userId": "00044706541353398741"
     },
     "user_tz": 300
    },
    "id": "YF7qkgozMaWE"
   },
   "source": [
    "<pre>\n",
    "<div class=\"alert alert-block alert-success\"> \n",
    "pipeline = imblearn.pipeline.Pipeline(steps=[\n",
    "    (\"lod\", LOD(lod, ignore=np.nan, seed=42)),\n",
    "    (\"pca_ia\", PCA_IA(n_components=9, scale_x=False)),\n",
    "    (\"plsda\", PLSDA(n_components=5, \n",
    "                    alpha=0.05,\n",
    "                    scale_x=True, \n",
    "                    not_assigned='UNKNOWN',\n",
    "                    style='soft', \n",
    "                   )\n",
    "    )\n",
    "])\n",
    "\n",
    "# Specify hyperparameters associated with each step\n",
    "param_grid = [{\n",
    "    \"pca_ia__n_components\": np.arange(1, 10, 2)\n",
    "    \"plsda__n_components\": np.arange(1, 10, 2),\n",
    "    \"plsda__alpha\": [0.07, 0.05, 0.03, 0.01],\n",
    "}]\n",
    "\n",
    "# Create grid search cross-validation object\n",
    "gs = GridSearchCV(\n",
    "    estimator=pipeline,\n",
    "    param_grid=param_grid,\n",
    "    n_jobs=-1,\n",
    "    cv=5,\n",
    "    error_score=0,\n",
    "    refit=True\n",
    ")\n",
    "\n",
    "# Train\n",
    "_ = gs.fit(x_train, y_train)\n",
    "</div>\n",
    "</pre>"
   ]
  },
  {
   "cell_type": "code",
   "execution_count": null,
   "metadata": {},
   "outputs": [],
   "source": []
  }
 ],
 "metadata": {
  "colab": {
   "collapsed_sections": [],
   "name": "imputing_examples.ipynb",
   "provenance": []
  },
  "kernelspec": {
   "display_name": "oyster-provenance",
   "language": "python",
   "name": "oyster-provenance"
  },
  "language_info": {
   "codemirror_mode": {
    "name": "ipython",
    "version": 3
   },
   "file_extension": ".py",
   "mimetype": "text/x-python",
   "name": "python",
   "nbconvert_exporter": "python",
   "pygments_lexer": "ipython3",
   "version": "3.11.4"
  },
  "toc": {
   "base_numbering": 1,
   "nav_menu": {},
   "number_sections": true,
   "sideBar": true,
   "skip_h1_title": false,
   "title_cell": "Table of Contents",
   "title_sidebar": "Contents",
   "toc_cell": true,
   "toc_position": {},
   "toc_section_display": true,
   "toc_window_display": false
  }
 },
 "nbformat": 4,
 "nbformat_minor": 4
}
