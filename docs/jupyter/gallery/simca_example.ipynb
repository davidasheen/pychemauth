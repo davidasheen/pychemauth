{
 "cells": [
  {
   "cell_type": "markdown",
   "metadata": {
    "colab": {
     "base_uri": "https://localhost:8080/"
    },
    "executionInfo": {
     "elapsed": 6783,
     "status": "ok",
     "timestamp": 1644609150355,
     "user": {
      "displayName": "Nathan Mahynski",
      "photoUrl": "https://lh3.googleusercontent.com/a-/AOh14GiUlAIKCPEpbG_va5l0d5MOrKuPRHHZGu7-AEYw-A=s64",
      "userId": "00044706541353398741"
     },
     "user_tz": 300
    },
    "id": "OybismhiU9yW",
    "outputId": "6e332c51-7d73-4694-8ab0-6de442b9243a",
    "scrolled": true
   },
   "source": [
    "Authentication with DD-SIMCA\n",
    "==="
   ]
  },
  {
   "cell_type": "markdown",
   "metadata": {},
   "source": [
    "<div class=\"alert alert-block alert-info\"> \n",
    "Author: Nathan A. Mahynski\n",
    "\n",
    "Date: 2023/08/23\n",
    "\n",
    "Description: Illustrate building authentication models with DD-SIMCA.\n",
    "</div>"
   ]
  },
  {
   "cell_type": "code",
   "execution_count": 4,
   "metadata": {
    "ExecuteTime": {
     "end_time": "2023-09-01T14:54:47.558893Z",
     "start_time": "2023-09-01T14:54:47.521373Z"
    }
   },
   "outputs": [
    {
     "name": "stdout",
     "output_type": "stream",
     "text": [
      "The watermark extension is already loaded. To reload it, use:\n",
      "  %reload_ext watermark\n",
      "The autoreload extension is already loaded. To reload it, use:\n",
      "  %reload_ext autoreload\n"
     ]
    }
   ],
   "source": [
    "using_colab = 'google.colab' in str(get_ipython())\n",
    "if using_colab:\n",
    "    !git clone https://github.com/mahynski/pychemauth.git --depth 1\n",
    "    !cd pychemauth; pip3 install .; cd ..\n",
    "\n",
    "try:\n",
    "    import pychemauth\n",
    "except:\n",
    "    raise ImportError(\"pychemauth not installed\")\n",
    "\n",
    "import matplotlib.pyplot as plt\n",
    "%matplotlib inline\n",
    "\n",
    "import watermark\n",
    "%load_ext watermark\n",
    "\n",
    "%load_ext autoreload\n",
    "%autoreload 2"
   ]
  },
  {
   "cell_type": "code",
   "execution_count": 5,
   "metadata": {
    "ExecuteTime": {
     "end_time": "2023-09-01T14:54:48.033653Z",
     "start_time": "2023-09-01T14:54:47.793705Z"
    },
    "executionInfo": {
     "elapsed": 735,
     "status": "ok",
     "timestamp": 1644609151084,
     "user": {
      "displayName": "Nathan Mahynski",
      "photoUrl": "https://lh3.googleusercontent.com/a-/AOh14GiUlAIKCPEpbG_va5l0d5MOrKuPRHHZGu7-AEYw-A=s64",
      "userId": "00044706541353398741"
     },
     "user_tz": 300
    },
    "id": "lOPlAceEU8-1"
   },
   "outputs": [],
   "source": [
    "import imblearn\n",
    "import sklearn\n",
    "\n",
    "from sklearn.model_selection import GridSearchCV\n",
    "\n",
    "import numpy as np\n",
    "import pandas as pd"
   ]
  },
  {
   "cell_type": "code",
   "execution_count": 6,
   "metadata": {
    "ExecuteTime": {
     "end_time": "2023-09-01T14:54:48.317622Z",
     "start_time": "2023-09-01T14:54:48.280417Z"
    },
    "colab": {
     "base_uri": "https://localhost:8080/"
    },
    "executionInfo": {
     "elapsed": 185,
     "status": "ok",
     "timestamp": 1644609151260,
     "user": {
      "displayName": "Nathan Mahynski",
      "photoUrl": "https://lh3.googleusercontent.com/a-/AOh14GiUlAIKCPEpbG_va5l0d5MOrKuPRHHZGu7-AEYw-A=s64",
      "userId": "00044706541353398741"
     },
     "user_tz": 300
    },
    "id": "6J9-CAAYU8-5",
    "outputId": "8d272057-a7eb-48e5-9341-e311b9e87c19"
   },
   "outputs": [
    {
     "name": "stdout",
     "output_type": "stream",
     "text": [
      "Python implementation: CPython\n",
      "Python version       : 3.11.4\n",
      "IPython version      : 8.14.0\n",
      "\n",
      "Compiler    : GCC 12.2.0\n",
      "OS          : Linux\n",
      "Release     : 6.2.0-26-generic\n",
      "Machine     : x86_64\n",
      "Processor   : x86_64\n",
      "CPU cores   : 40\n",
      "Architecture: 64bit\n",
      "\n",
      "json      : 2.0.9\n",
      "pandas    : 2.0.3\n",
      "sklearn   : 1.3.0\n",
      "watermark : 2.4.3\n",
      "numpy     : 1.24.4\n",
      "pychemauth: 0.0.0b3\n",
      "imblearn  : 0.11.0\n",
      "matplotlib: 3.7.2\n",
      "\n"
     ]
    }
   ],
   "source": [
    "%watermark -t -m -v --iversions"
   ]
  },
  {
   "cell_type": "markdown",
   "metadata": {
    "id": "RsbfFUfbU8-6"
   },
   "source": [
    "<h3>Load the Data</h3>"
   ]
  },
  {
   "cell_type": "code",
   "execution_count": 7,
   "metadata": {
    "ExecuteTime": {
     "end_time": "2023-09-01T14:54:53.086966Z",
     "start_time": "2023-09-01T14:54:53.049838Z"
    },
    "executionInfo": {
     "elapsed": 126,
     "status": "ok",
     "timestamp": 1644609151378,
     "user": {
      "displayName": "Nathan Mahynski",
      "photoUrl": "https://lh3.googleusercontent.com/a-/AOh14GiUlAIKCPEpbG_va5l0d5MOrKuPRHHZGu7-AEYw-A=s64",
      "userId": "00044706541353398741"
     },
     "user_tz": 300
    },
    "id": "dkHgIVitU8-7"
   },
   "outputs": [],
   "source": [
    "# # Let's load some data from the tests/ for this example\n",
    "# if using_colab:\n",
    "#     loc = 'https://raw.githubusercontent.com/mahynski/pychemauth/main/tests/data/simca_train.csv'\n",
    "# else:\n",
    "#     loc = '../tests/data/simca_train.csv'\n",
    "# df = pd.read_csv(loc)"
   ]
  },
  {
   "cell_type": "code",
   "execution_count": 8,
   "metadata": {
    "ExecuteTime": {
     "end_time": "2023-09-01T14:54:53.203874Z",
     "start_time": "2023-09-01T14:54:53.170091Z"
    },
    "colab": {
     "base_uri": "https://localhost:8080/",
     "height": 560
    },
    "executionInfo": {
     "elapsed": 423,
     "status": "ok",
     "timestamp": 1644609151798,
     "user": {
      "displayName": "Nathan Mahynski",
      "photoUrl": "https://lh3.googleusercontent.com/a-/AOh14GiUlAIKCPEpbG_va5l0d5MOrKuPRHHZGu7-AEYw-A=s64",
      "userId": "00044706541353398741"
     },
     "user_tz": 300
    },
    "id": "gMNbPlU0U8-8",
    "outputId": "e433af5a-d895-484a-eef5-a8d4fc815e29"
   },
   "outputs": [],
   "source": [
    "# # You can see that samples are rows, columns are different features\n",
    "# df.head()"
   ]
  },
  {
   "cell_type": "code",
   "execution_count": 9,
   "metadata": {
    "ExecuteTime": {
     "end_time": "2023-09-01T14:54:53.340139Z",
     "start_time": "2023-09-01T14:54:53.307006Z"
    },
    "executionInfo": {
     "elapsed": 13,
     "status": "ok",
     "timestamp": 1644609151799,
     "user": {
      "displayName": "Nathan Mahynski",
      "photoUrl": "https://lh3.googleusercontent.com/a-/AOh14GiUlAIKCPEpbG_va5l0d5MOrKuPRHHZGu7-AEYw-A=s64",
      "userId": "00044706541353398741"
     },
     "user_tz": 300
    },
    "id": "VHC-8XjpU8-9"
   },
   "outputs": [],
   "source": [
    "# raw_x = np.array(df.values[:,3:], dtype=float) # Extract features\n",
    "# raw_y = np.array(df['Class'].values, dtype=str) # Take the class as the target"
   ]
  },
  {
   "cell_type": "code",
   "execution_count": 60,
   "metadata": {
    "ExecuteTime": {
     "end_time": "2023-09-01T15:22:58.134432Z",
     "start_time": "2023-09-01T15:22:58.082714Z"
    }
   },
   "outputs": [],
   "source": [
    "from sklearn.datasets import load_iris as load_data\n",
    "X, y = load_data(return_X_y=True, as_frame=True)"
   ]
  },
  {
   "cell_type": "code",
   "execution_count": 61,
   "metadata": {
    "ExecuteTime": {
     "end_time": "2023-09-01T15:22:58.291140Z",
     "start_time": "2023-09-01T15:22:58.250916Z"
    }
   },
   "outputs": [],
   "source": [
    "# Let's turn the indices into names\n",
    "names = dict(zip(np.arange(3), ['setosa', 'versicolor', 'virginica'])) \n",
    "y = y.apply(lambda x: names[x])"
   ]
  },
  {
   "cell_type": "code",
   "execution_count": 62,
   "metadata": {
    "ExecuteTime": {
     "end_time": "2023-09-01T15:22:58.483704Z",
     "start_time": "2023-09-01T15:22:58.433674Z"
    }
   },
   "outputs": [
    {
     "data": {
      "text/html": [
       "<div>\n",
       "<style scoped>\n",
       "    .dataframe tbody tr th:only-of-type {\n",
       "        vertical-align: middle;\n",
       "    }\n",
       "\n",
       "    .dataframe tbody tr th {\n",
       "        vertical-align: top;\n",
       "    }\n",
       "\n",
       "    .dataframe thead th {\n",
       "        text-align: right;\n",
       "    }\n",
       "</style>\n",
       "<table border=\"1\" class=\"dataframe\">\n",
       "  <thead>\n",
       "    <tr style=\"text-align: right;\">\n",
       "      <th></th>\n",
       "      <th>sepal length (cm)</th>\n",
       "      <th>sepal width (cm)</th>\n",
       "      <th>petal length (cm)</th>\n",
       "      <th>petal width (cm)</th>\n",
       "    </tr>\n",
       "  </thead>\n",
       "  <tbody>\n",
       "    <tr>\n",
       "      <th>0</th>\n",
       "      <td>5.1</td>\n",
       "      <td>3.5</td>\n",
       "      <td>1.4</td>\n",
       "      <td>0.2</td>\n",
       "    </tr>\n",
       "    <tr>\n",
       "      <th>1</th>\n",
       "      <td>4.9</td>\n",
       "      <td>3.0</td>\n",
       "      <td>1.4</td>\n",
       "      <td>0.2</td>\n",
       "    </tr>\n",
       "    <tr>\n",
       "      <th>2</th>\n",
       "      <td>4.7</td>\n",
       "      <td>3.2</td>\n",
       "      <td>1.3</td>\n",
       "      <td>0.2</td>\n",
       "    </tr>\n",
       "    <tr>\n",
       "      <th>3</th>\n",
       "      <td>4.6</td>\n",
       "      <td>3.1</td>\n",
       "      <td>1.5</td>\n",
       "      <td>0.2</td>\n",
       "    </tr>\n",
       "    <tr>\n",
       "      <th>4</th>\n",
       "      <td>5.0</td>\n",
       "      <td>3.6</td>\n",
       "      <td>1.4</td>\n",
       "      <td>0.2</td>\n",
       "    </tr>\n",
       "  </tbody>\n",
       "</table>\n",
       "</div>"
      ],
      "text/plain": [
       "   sepal length (cm)  sepal width (cm)  petal length (cm)  petal width (cm)\n",
       "0                5.1               3.5                1.4               0.2\n",
       "1                4.9               3.0                1.4               0.2\n",
       "2                4.7               3.2                1.3               0.2\n",
       "3                4.6               3.1                1.5               0.2\n",
       "4                5.0               3.6                1.4               0.2"
      ]
     },
     "execution_count": 62,
     "metadata": {},
     "output_type": "execute_result"
    }
   ],
   "source": [
    "X.head(5)"
   ]
  },
  {
   "cell_type": "code",
   "execution_count": 63,
   "metadata": {
    "ExecuteTime": {
     "end_time": "2023-09-01T15:22:58.742034Z",
     "start_time": "2023-09-01T15:22:58.700889Z"
    }
   },
   "outputs": [],
   "source": [
    "from sklearn.model_selection import train_test_split\n",
    "\n",
    "X_train, X_test, y_train, y_test = train_test_split(\n",
    "    X.values,\n",
    "    y.values, # Let's try to predict the salary based on the other numerical features.\n",
    "    shuffle=True,\n",
    "    random_state=42,\n",
    "    test_size=0.2,\n",
    "    stratify=y # It is usually important to balance the test and train set so they have the same fraction of classes\n",
    ")"
   ]
  },
  {
   "cell_type": "markdown",
   "metadata": {
    "id": "TVqR7_FsU8--"
   },
   "source": [
    "Fitting a DD-SIMCA Model\n",
    "---"
   ]
  },
  {
   "cell_type": "code",
   "execution_count": 90,
   "metadata": {
    "ExecuteTime": {
     "end_time": "2023-09-01T15:44:54.490089Z",
     "start_time": "2023-09-01T15:44:54.059203Z"
    },
    "executionInfo": {
     "elapsed": 10,
     "status": "ok",
     "timestamp": 1644609151800,
     "user": {
      "displayName": "Nathan Mahynski",
      "photoUrl": "https://lh3.googleusercontent.com/a-/AOh14GiUlAIKCPEpbG_va5l0d5MOrKuPRHHZGu7-AEYw-A=s64",
      "userId": "00044706541353398741"
     },
     "user_tz": 300
    },
    "id": "GhO66Uq1U8_A"
   },
   "outputs": [],
   "source": [
    "from pychemauth.classifier.simca import DDSIMCA_Model"
   ]
  },
  {
   "cell_type": "markdown",
   "metadata": {
    "id": "w6fRADxJU8_B"
   },
   "source": [
    "<h3>Modeling a Single Class</h3>\n",
    "\n",
    "<div class=\"alert alert-block alert-warning\"> \n",
    "(DD-)SIMCA is designed to model a single class - a different model is developed for each class, so we need to split up the data based on the classes we are interested in.  Each model will be able to tell us, at test time, if a new sample is <b>consistent</b> with the model's understanding of a class.  \n",
    "</div>\n",
    "\n",
    "In principle, you can then pass a single sample through many different (DD-)SIMCA models and learn that it may be consistent with 0, 1, or multiple known classes.  This is akin to soft PLS-DA, but in that case we trained a single model using a fixed set of known classes. Here we have a separate model for each known class so as we learn about more classes in the future, we can simply train new (DD-)SIMCA models for them without impacting the previously developed models."
   ]
  },
  {
   "cell_type": "code",
   "execution_count": 91,
   "metadata": {
    "ExecuteTime": {
     "end_time": "2023-09-01T15:44:55.017883Z",
     "start_time": "2023-09-01T15:44:54.984736Z"
    }
   },
   "outputs": [],
   "source": [
    "# Let's just model a single type of iris for this example\n",
    "chosen_class = 'setosa'\n",
    "\n",
    "X_train_dds = X_train[y_train == chosen_class]\n",
    "y_train_dds = y_train[y_train == chosen_class]\n",
    "\n",
    "X_test_dds = X_test[y_test == chosen_class]\n",
    "y_test_dds = y_test[y_test == chosen_class]"
   ]
  },
  {
   "cell_type": "code",
   "execution_count": 92,
   "metadata": {
    "ExecuteTime": {
     "end_time": "2023-09-01T15:44:55.374929Z",
     "start_time": "2023-09-01T15:44:55.337960Z"
    },
    "executionInfo": {
     "elapsed": 191,
     "status": "ok",
     "timestamp": 1644609151983,
     "user": {
      "displayName": "Nathan Mahynski",
      "photoUrl": "https://lh3.googleusercontent.com/a-/AOh14GiUlAIKCPEpbG_va5l0d5MOrKuPRHHZGu7-AEYw-A=s64",
      "userId": "00044706541353398741"
     },
     "user_tz": 300
    },
    "id": "-o2i9fL_U8_B"
   },
   "outputs": [],
   "source": [
    "dds = DDSIMCA_Model(\n",
    "    n_components=2, \n",
    "    alpha=0.05, \n",
    "    gamma=0.01, \n",
    "    scale_x=False,\n",
    "    robust=\"semi\",\n",
    "    sft=False\n",
    ")"
   ]
  },
  {
   "cell_type": "code",
   "execution_count": 93,
   "metadata": {
    "ExecuteTime": {
     "end_time": "2023-09-01T15:44:55.871625Z",
     "start_time": "2023-09-01T15:44:55.745922Z"
    },
    "executionInfo": {
     "elapsed": 12,
     "status": "ok",
     "timestamp": 1644609151985,
     "user": {
      "displayName": "Nathan Mahynski",
      "photoUrl": "https://lh3.googleusercontent.com/a-/AOh14GiUlAIKCPEpbG_va5l0d5MOrKuPRHHZGu7-AEYw-A=s64",
      "userId": "00044706541353398741"
     },
     "user_tz": 300
    },
    "id": "9Hp6uL9gU8_C"
   },
   "outputs": [],
   "source": [
    "# Note - for safety, DDSIMCA_Model actually checks that all y values are the same and throws an exception if you forgot\n",
    "# to use only one class!\n",
    "_ = dds.fit(X_train_dds, y_train_dds)"
   ]
  },
  {
   "cell_type": "markdown",
   "metadata": {},
   "source": [
    "<div class=\"alert alert-block alert-warning\"> \n",
    "Since SIMCA uses PCA, we can use an extremes plot to get a sense for the quality of the model. Clearly, there seem to \n",
    "be many points which are expected to be extreme when alpha is very low (bottom, left part of the figure) suggesting\n",
    "we might be able to improve this model by choosing a different value for n_components.\n",
    "</div>"
   ]
  },
  {
   "cell_type": "code",
   "execution_count": 94,
   "metadata": {
    "ExecuteTime": {
     "end_time": "2023-09-01T15:44:58.762119Z",
     "start_time": "2023-09-01T15:44:56.702560Z"
    }
   },
   "outputs": [
    {
     "data": {
      "image/png": "[encoded data removed]",
      "text/plain": [
       "<Figure size 640x480 with 1 Axes>"
      ]
     },
     "metadata": {},
     "output_type": "display_data"
    }
   ],
   "source": [
    "_ = dds.extremes_plot(X_train_dds, upper_frac=1.0)"
   ]
  },
  {
   "cell_type": "code",
   "execution_count": 95,
   "metadata": {
    "ExecuteTime": {
     "end_time": "2023-09-01T15:44:58.969722Z",
     "start_time": "2023-09-01T15:44:58.764892Z"
    },
    "colab": {
     "base_uri": "https://localhost:8080/",
     "height": 283
    },
    "executionInfo": {
     "elapsed": 864,
     "status": "ok",
     "timestamp": 1644609152839,
     "user": {
      "displayName": "Nathan Mahynski",
      "photoUrl": "https://lh3.googleusercontent.com/a-/AOh14GiUlAIKCPEpbG_va5l0d5MOrKuPRHHZGu7-AEYw-A=s64",
      "userId": "00044706541353398741"
     },
     "user_tz": 300
    },
    "id": "pq1M3VsCU8_D",
    "outputId": "1864a008-996a-4361-81a5-a0bcc8fab003"
   },
   "outputs": [
    {
     "data": {
      "image/png": "[encoded data removed]",
      "text/plain": [
       "<Figure size 640x480 with 1 Axes>"
      ]
     },
     "metadata": {},
     "output_type": "display_data"
    }
   ],
   "source": [
    "# There are no outliers in this training set, so we don't have to worry about removing any points (at least for this\n",
    "# n_components).\n",
    "_ = dds.visualize(X_train_dds, y_train_dds)"
   ]
  },
  {
   "cell_type": "code",
   "execution_count": 96,
   "metadata": {
    "ExecuteTime": {
     "end_time": "2023-09-01T15:44:59.507459Z",
     "start_time": "2023-09-01T15:44:59.483753Z"
    }
   },
   "outputs": [
    {
     "name": "stdout",
     "output_type": "stream",
     "text": [
      "There are 6 extremes and 0 outliers in the training data.\n"
     ]
    }
   ],
   "source": [
    "# Extremes and Outliers can be found using the check_outliers() function.\n",
    "extremes_mask, outliers_mask = dds.check_outliers(X_train_dds)\n",
    "\n",
    "print(\n",
    "    \"There are {} extremes and {} outliers in the training data.\".format(\n",
    "        np.sum(extremes_mask),\n",
    "        np.sum(outliers_mask)\n",
    "    )\n",
    ")"
   ]
  },
  {
   "cell_type": "code",
   "execution_count": 97,
   "metadata": {
    "ExecuteTime": {
     "end_time": "2023-09-01T15:45:00.348987Z",
     "start_time": "2023-09-01T15:45:00.017852Z"
    }
   },
   "outputs": [
    {
     "data": {
      "image/png": "[encoded data removed]",
      "text/plain": [
       "<Figure size 640x480 with 1 Axes>"
      ]
     },
     "metadata": {},
     "output_type": "display_data"
    }
   ],
   "source": [
    "# However, the test set, which is also composed of known setosa examples, has several extremes and outliers which \n",
    "# would be rejected as not \"authentic\" in this model.\n",
    "_ = dds.visualize(X_test_dds, y_test_dds)"
   ]
  },
  {
   "cell_type": "code",
   "execution_count": 98,
   "metadata": {
    "ExecuteTime": {
     "end_time": "2023-09-01T15:45:00.986739Z",
     "start_time": "2023-09-01T15:45:00.940201Z"
    },
    "colab": {
     "base_uri": "https://localhost:8080/"
    },
    "executionInfo": {
     "elapsed": 20,
     "status": "ok",
     "timestamp": 1644609152840,
     "user": {
      "displayName": "Nathan Mahynski",
      "photoUrl": "https://lh3.googleusercontent.com/a-/AOh14GiUlAIKCPEpbG_va5l0d5MOrKuPRHHZGu7-AEYw-A=s64",
      "userId": "00044706541353398741"
     },
     "user_tz": 300
    },
    "id": "2n3U4AbxU8_E",
    "outputId": "5b4872dc-18d0-4bef-eecc-ef505a5df5cf"
   },
   "outputs": [
    {
     "data": {
      "text/plain": [
       "array([[4.4, 3. , 1.3, 0.2],\n",
       "       [5. , 3.4, 1.5, 0.2],\n",
       "       [5. , 3.3, 1.4, 0.2],\n",
       "       [5.4, 3.7, 1.5, 0.2],\n",
       "       [5.2, 3.4, 1.4, 0.2]])"
      ]
     },
     "execution_count": 98,
     "metadata": {},
     "output_type": "execute_result"
    }
   ],
   "source": [
    "# We can see what samples are classified as 'Pure' using the predict() function.\n",
    "pure_sample_mask = dds.predict(X_test_dds)\n",
    "\n",
    "# These are accepted as authentic.\n",
    "X_test_dds[pure_sample_mask]"
   ]
  },
  {
   "cell_type": "code",
   "execution_count": 99,
   "metadata": {
    "ExecuteTime": {
     "end_time": "2023-09-01T15:45:01.603902Z",
     "start_time": "2023-09-01T15:45:01.561144Z"
    }
   },
   "outputs": [
    {
     "data": {
      "text/plain": [
       "array([[4.4, 3.2, 1.3, 0.2],\n",
       "       [4.6, 3.6, 1. , 0.2],\n",
       "       [5.4, 3.4, 1.7, 0.2],\n",
       "       [5.8, 4. , 1.2, 0.2],\n",
       "       [5.7, 3.8, 1.7, 0.3]])"
      ]
     },
     "execution_count": 99,
     "metadata": {},
     "output_type": "execute_result"
    }
   ],
   "source": [
    "# These are rejected\n",
    "X_test_dds[~pure_sample_mask]"
   ]
  },
  {
   "cell_type": "code",
   "execution_count": 100,
   "metadata": {
    "ExecuteTime": {
     "end_time": "2023-09-01T15:45:02.352365Z",
     "start_time": "2023-09-01T15:45:02.021502Z"
    }
   },
   "outputs": [
    {
     "data": {
      "image/png": "[encoded data removed]",
      "text/plain": [
       "<Figure size 640x480 with 1 Axes>"
      ]
     },
     "metadata": {},
     "output_type": "display_data"
    }
   ],
   "source": [
    "# We can also look at well the model rejects the other classes as authentic setosa\n",
    "X_other = X_train[y_train != chosen_class]\n",
    "y_other = y_train[y_train != chosen_class]\n",
    "\n",
    "# At least this model seems very specific since these other classes are easily rejected!\n",
    "_ = dds.visualize(X_other, y_other)"
   ]
  },
  {
   "cell_type": "code",
   "execution_count": 101,
   "metadata": {
    "ExecuteTime": {
     "end_time": "2023-09-01T15:45:03.078626Z",
     "start_time": "2023-09-01T15:45:03.032252Z"
    }
   },
   "outputs": [
    {
     "name": "stdout",
     "output_type": "stream",
     "text": [
      "Training set accuracy = 85.0%; test set accuracy = 50.0%.\n"
     ]
    }
   ],
   "source": [
    "# Accuracy is computed by simply counting the number of binary (authentic/not) assignments.\n",
    "train_acc = dds.accuracy(\n",
    "    X = X_train_dds,\n",
    "    y = [True] * len(X_train_dds) # We do not use y_train here!\n",
    ")\n",
    "\n",
    "test_acc = dds.accuracy(\n",
    "    X = X_test_dds,\n",
    "    y = [True] * len(X_test_dds)\n",
    ")\n",
    "\n",
    "print(\n",
    "    \"Training set accuracy = {}%; test set accuracy = {}%.\".format(\n",
    "        '%.1f'%(100.0*train_acc),\n",
    "        '%.1f'%(100.0*test_acc)\n",
    "    )\n",
    ")"
   ]
  },
  {
   "cell_type": "code",
   "execution_count": 102,
   "metadata": {
    "ExecuteTime": {
     "end_time": "2023-09-01T15:45:04.248182Z",
     "start_time": "2023-09-01T15:45:04.203904Z"
    }
   },
   "outputs": [
    {
     "data": {
      "text/plain": [
       "0.85"
      ]
     },
     "execution_count": 102,
     "metadata": {},
     "output_type": "execute_result"
    }
   ],
   "source": [
    "# Accuracy is also reported as the score\n",
    "dds.score(X_train_dds, [True] * len(X_train_dds))"
   ]
  },
  {
   "cell_type": "code",
   "execution_count": 103,
   "metadata": {
    "ExecuteTime": {
     "end_time": "2023-09-01T15:45:05.259136Z",
     "start_time": "2023-09-01T15:45:05.215011Z"
    }
   },
   "outputs": [
    {
     "data": {
      "text/plain": [
       "1.0"
      ]
     },
     "execution_count": 103,
     "metadata": {},
     "output_type": "execute_result"
    }
   ],
   "source": [
    "# Accuracy is also reported as the score\n",
    "dds.score(X_train[y_train == 'virginica'], [False] * np.sum(y_train == 'virginica'))"
   ]
  },
  {
   "cell_type": "markdown",
   "metadata": {
    "id": "8yTMgGbVU8_L"
   },
   "source": [
    "Building an Authenticator\n",
    "---"
   ]
  },
  {
   "cell_type": "markdown",
   "metadata": {
    "id": "s-ROBFcwU8_M"
   },
   "source": [
    "<div class=\"alert alert-block alert-info\"> \n",
    "In training loops and other applications it is convenient to not have to separate classes for training.  This is one thing that SIMCA_Authenticator conveniently does for you, which is illustrated below.  Here, we simply specify the class we care about and all others are automatically ignored like we did manually above.  \n",
    "</div>\n",
    "\n",
    "<div class=\"alert alert-block alert-warning\"> \n",
    "Another factor we need to consider is that there are 2 ways to train an authentication model [1].  A \"rigorous\" approach would be to train a model considering only the true examples of a known class.  We could select a desired `alpha` value and adjust `n_components` to try to achieve this, since it is the desired type I error rate.  This is essentially like setting the accuracy for true positives (TSNS), while ignoring the behavior with respect to alternative classes.  \n",
    "<br><br>\n",
    "Alternatively, we could use examples of alternatives and adjust our hyperparameters to optimize an overall metric like total efficiency (TEFF) which considers how often we get true positives correct (TSNS) and how often we correctly reject the true negatives (TSPS). This is a \"compliant\" approach. These sorts of models use more information and might seem more performant, but this data is always biased by the set of known alternatives we use.  Since there are an infinite number of inauthentic things, this introduces some bias which can be difficult to quantify.\n",
    "\n",
    "<a href=\"https://doi.org/10.1016/j.chemolab.2016.10.002\">[1] \"Rigorous and compliant approaches to one-class classification,\" Rodionova, O., Oliveri, P., and Pomerantsev, A. Chem. and Intell. Lab. Sys. (2016) 89-96.</a>\n",
    "    \n",
    "</div>"
   ]
  },
  {
   "cell_type": "code",
   "execution_count": null,
   "metadata": {
    "executionInfo": {
     "elapsed": 7,
     "status": "ok",
     "timestamp": 1644609154992,
     "user": {
      "displayName": "Nathan Mahynski",
      "photoUrl": "https://lh3.googleusercontent.com/a-/AOh14GiUlAIKCPEpbG_va5l0d5MOrKuPRHHZGu7-AEYw-A=s64",
      "userId": "00044706541353398741"
     },
     "user_tz": 300
    },
    "id": "ZJTsNCbPU8_M"
   },
   "outputs": [],
   "source": [
    "from pychemauth.classifier.simca import SIMCA_Authenticator"
   ]
  },
  {
   "cell_type": "code",
   "execution_count": null,
   "metadata": {
    "executionInfo": {
     "elapsed": 177,
     "status": "ok",
     "timestamp": 1644609155165,
     "user": {
      "displayName": "Nathan Mahynski",
      "photoUrl": "https://lh3.googleusercontent.com/a-/AOh14GiUlAIKCPEpbG_va5l0d5MOrKuPRHHZGu7-AEYw-A=s64",
      "userId": "00044706541353398741"
     },
     "user_tz": 300
    },
    "id": "qeVXm6o9U8_M"
   },
   "outputs": [],
   "source": [
    "compliant = SIMCA_Authenticator(\n",
    "    n_components=7, \n",
    "    alpha=0.05, \n",
    "    scale_x=False, \n",
    "    style='dd-simca', \n",
    "    target_class='setosa', # Tell the classifier\n",
    "    use='compliant'\n",
    ")"
   ]
  },
  {
   "cell_type": "code",
   "execution_count": null,
   "metadata": {
    "executionInfo": {
     "elapsed": 130,
     "status": "ok",
     "timestamp": 1644609155291,
     "user": {
      "displayName": "Nathan Mahynski",
      "photoUrl": "https://lh3.googleusercontent.com/a-/AOh14GiUlAIKCPEpbG_va5l0d5MOrKuPRHHZGu7-AEYw-A=s64",
      "userId": "00044706541353398741"
     },
     "user_tz": 300
    },
    "id": "sZQFoRQTU8_N"
   },
   "outputs": [],
   "source": [
    "# Combine the training (all Pure) and alternate data to create a new training set that has multiple (in this\n",
    "# case 2) classes.  We specified the target_class='Pure' above, which tells the classifier that we are trying\n",
    "# to model that class.  ONLY that data is used to fit the model; all other classes it is provided will be\n",
    "# ignored.\n",
    "x_train = np.vstack((raw_x, raw_x_a))\n",
    "y_train = np.hstack((raw_y, raw_y_a))\n",
    "_ = sc.fit(x_train, y_train)"
   ]
  },
  {
   "cell_type": "code",
   "execution_count": null,
   "metadata": {
    "colab": {
     "base_uri": "https://localhost:8080/"
    },
    "executionInfo": {
     "elapsed": 131,
     "status": "ok",
     "timestamp": 1644609155419,
     "user": {
      "displayName": "Nathan Mahynski",
      "photoUrl": "https://lh3.googleusercontent.com/a-/AOh14GiUlAIKCPEpbG_va5l0d5MOrKuPRHHZGu7-AEYw-A=s64",
      "userId": "00044706541353398741"
     },
     "user_tz": 300
    },
    "id": "L8OSdY46U8_N",
    "outputId": "8b141598-767b-43ae-820c-3192e72abaf7"
   },
   "outputs": [],
   "source": [
    "# By default, TEFF is used to score the classifer, you can change this when then classifier is instantiated.\n",
    "sc.score(x_train, y_train) # TEFF = sqrt(TSNS * TSPS)"
   ]
  },
  {
   "cell_type": "code",
   "execution_count": null,
   "metadata": {
    "colab": {
     "base_uri": "https://localhost:8080/"
    },
    "executionInfo": {
     "elapsed": 8,
     "status": "ok",
     "timestamp": 1644609155420,
     "user": {
      "displayName": "Nathan Mahynski",
      "photoUrl": "https://lh3.googleusercontent.com/a-/AOh14GiUlAIKCPEpbG_va5l0d5MOrKuPRHHZGu7-AEYw-A=s64",
      "userId": "00044706541353398741"
     },
     "user_tz": 300
    },
    "id": "ai7JCGhtU8_O",
    "outputId": "bc0f5f4b-a547-4898-eb7c-aef610597133"
   },
   "outputs": [],
   "source": [
    "sc.metrics(x_train, y_train)"
   ]
  },
  {
   "cell_type": "code",
   "execution_count": null,
   "metadata": {
    "colab": {
     "base_uri": "https://localhost:8080/",
     "height": 301
    },
    "executionInfo": {
     "elapsed": 1104,
     "status": "ok",
     "timestamp": 1644609156521,
     "user": {
      "displayName": "Nathan Mahynski",
      "photoUrl": "https://lh3.googleusercontent.com/a-/AOh14GiUlAIKCPEpbG_va5l0d5MOrKuPRHHZGu7-AEYw-A=s64",
      "userId": "00044706541353398741"
     },
     "user_tz": 300
    },
    "id": "6JKGAqIqU8_O",
    "outputId": "f55ca55b-af55-4345-c638-320f5b964a48"
   },
   "outputs": [],
   "source": [
    "# Look at all the data.\n",
    "_ = sc.model.visualize(x_train, y_train)"
   ]
  },
  {
   "cell_type": "code",
   "execution_count": null,
   "metadata": {
    "colab": {
     "base_uri": "https://localhost:8080/",
     "height": 301
    },
    "executionInfo": {
     "elapsed": 858,
     "status": "ok",
     "timestamp": 1644609157375,
     "user": {
      "displayName": "Nathan Mahynski",
      "photoUrl": "https://lh3.googleusercontent.com/a-/AOh14GiUlAIKCPEpbG_va5l0d5MOrKuPRHHZGu7-AEYw-A=s64",
      "userId": "00044706541353398741"
     },
     "user_tz": 300
    },
    "id": "OuglcOcvU8_P",
    "outputId": "6d239526-b41c-4d41-c68c-98b71906eead"
   },
   "outputs": [],
   "source": [
    "# Look at just the data used to train the underlying SIMCA_Model.\n",
    "_ = sc.model.visualize(raw_x, raw_y)"
   ]
  },
  {
   "cell_type": "code",
   "execution_count": null,
   "metadata": {
    "colab": {
     "base_uri": "https://localhost:8080/",
     "height": 301
    },
    "executionInfo": {
     "elapsed": 951,
     "status": "ok",
     "timestamp": 1644609158320,
     "user": {
      "displayName": "Nathan Mahynski",
      "photoUrl": "https://lh3.googleusercontent.com/a-/AOh14GiUlAIKCPEpbG_va5l0d5MOrKuPRHHZGu7-AEYw-A=s64",
      "userId": "00044706541353398741"
     },
     "user_tz": 300
    },
    "id": "eUNfcuG6U8_P",
    "outputId": "888b81a9-4899-433d-a127-6bd31bd7ddbf"
   },
   "outputs": [],
   "source": [
    "# Look at the data used to test how well the model performs by classifying alternative samples.\n",
    "_ = sc.model.visualize(raw_x_a, raw_y_a)"
   ]
  },
  {
   "cell_type": "markdown",
   "metadata": {
    "id": "vnY6Py4UU8_Q"
   },
   "source": [
    "Optimizing the Classifier\n",
    "---"
   ]
  },
  {
   "cell_type": "markdown",
   "metadata": {
    "id": "ITxXusOeU8_Q"
   },
   "source": [
    "Here we took alpha as a meaningful choice of type I error rate, but it could also be adjusted.  Moreover, we arbitrarily selected the number of PCs to use in the SIMCA model.  We can use scikit-learn's pipelines to automatically optimize hyperparameters like this."
   ]
  },
  {
   "cell_type": "code",
   "execution_count": null,
   "metadata": {
    "executionInfo": {
     "elapsed": 9128,
     "status": "ok",
     "timestamp": 1644609167445,
     "user": {
      "displayName": "Nathan Mahynski",
      "photoUrl": "https://lh3.googleusercontent.com/a-/AOh14GiUlAIKCPEpbG_va5l0d5MOrKuPRHHZGu7-AEYw-A=s64",
      "userId": "00044706541353398741"
     },
     "user_tz": 300
    },
    "id": "YnjqV-M7U8_Q"
   },
   "outputs": [],
   "source": [
    "# Here I've use an imblearn pipeline, but you can also use scikit-learn's pipeline if you don't want to \n",
    "# do any class balancing.\n",
    "\n",
    "pipeline = imblearn.pipeline.Pipeline(steps=[\n",
    "    # Insert other preprocessing steps here...\n",
    "    # (\"smote\", ScaledSMOTEENN(random_state=1)), # For example, class balancing\n",
    "    (\"simca\", SIMCA_Classifier(n_components=7, \n",
    "                               alpha=0.05, \n",
    "                               scale_x=False, \n",
    "                               style='dd-simca', \n",
    "                               target_class='Pure', \n",
    "                               use='compliant')\n",
    "    )\n",
    "])\n",
    "\n",
    "# Hyperparameters of pipeline steps are given in standard notation: step__parameter_name\n",
    "param_grid = [{\n",
    "    # 'smote__k_enn':[1, 2, 3],\n",
    "    # 'smote__k_smote':[1, 3, 3],\n",
    "    # 'smote__kind_sel_enn':['all', 'mode'],\n",
    "    'simca__n_components':np.arange(1, 10),\n",
    "    # 'simca__alpha':[0.07, 0.05, 0.03, 0.01],\n",
    "    # 'simca__style':['dd-simca', 'simca'],\n",
    "}]\n",
    "\n",
    "gs = GridSearchCV(\n",
    "    estimator=pipeline,\n",
    "    param_grid=param_grid,\n",
    "    n_jobs=-1,\n",
    "    cv=sklearn.model_selection.StratifiedKFold(n_splits=3, shuffle=True, random_state=0),\n",
    "    error_score=0,\n",
    "    refit=True\n",
    ")\n",
    "\n",
    "_ = gs.fit(x_train, y_train)"
   ]
  },
  {
   "cell_type": "code",
   "execution_count": null,
   "metadata": {
    "colab": {
     "base_uri": "https://localhost:8080/"
    },
    "executionInfo": {
     "elapsed": 13,
     "status": "ok",
     "timestamp": 1644609167446,
     "user": {
      "displayName": "Nathan Mahynski",
      "photoUrl": "https://lh3.googleusercontent.com/a-/AOh14GiUlAIKCPEpbG_va5l0d5MOrKuPRHHZGu7-AEYw-A=s64",
      "userId": "00044706541353398741"
     },
     "user_tz": 300
    },
    "id": "OIPNdeTDU8_S",
    "outputId": "f919de81-2bd3-4606-d799-b4303e360a26"
   },
   "outputs": [],
   "source": [
    "# The best parameters found can be accessed like this:\n",
    "gs.best_params_"
   ]
  },
  {
   "cell_type": "code",
   "execution_count": null,
   "metadata": {
    "colab": {
     "base_uri": "https://localhost:8080/"
    },
    "executionInfo": {
     "elapsed": 215,
     "status": "ok",
     "timestamp": 1644609167653,
     "user": {
      "displayName": "Nathan Mahynski",
      "photoUrl": "https://lh3.googleusercontent.com/a-/AOh14GiUlAIKCPEpbG_va5l0d5MOrKuPRHHZGu7-AEYw-A=s64",
      "userId": "00044706541353398741"
     },
     "user_tz": 300
    },
    "id": "pIJvEgXdU8_S",
    "outputId": "15d8882e-d951-4203-bd3f-55253d849372"
   },
   "outputs": [],
   "source": [
    "gs.best_score_ # The best score it received was..."
   ]
  },
  {
   "cell_type": "code",
   "execution_count": null,
   "metadata": {
    "colab": {
     "base_uri": "https://localhost:8080/"
    },
    "executionInfo": {
     "elapsed": 11,
     "status": "ok",
     "timestamp": 1644609167654,
     "user": {
      "displayName": "Nathan Mahynski",
      "photoUrl": "https://lh3.googleusercontent.com/a-/AOh14GiUlAIKCPEpbG_va5l0d5MOrKuPRHHZGu7-AEYw-A=s64",
      "userId": "00044706541353398741"
     },
     "user_tz": 300
    },
    "id": "1l_YGMCqU8_S",
    "outputId": "d3d7c140-22e5-4798-bd34-310a965dc035",
    "scrolled": true
   },
   "outputs": [],
   "source": [
    "# You can see detailed CV results here\n",
    "gs.cv_results_"
   ]
  },
  {
   "cell_type": "code",
   "execution_count": null,
   "metadata": {
    "colab": {
     "base_uri": "https://localhost:8080/",
     "height": 298
    },
    "executionInfo": {
     "elapsed": 642,
     "status": "ok",
     "timestamp": 1644609168292,
     "user": {
      "displayName": "Nathan Mahynski",
      "photoUrl": "https://lh3.googleusercontent.com/a-/AOh14GiUlAIKCPEpbG_va5l0d5MOrKuPRHHZGu7-AEYw-A=s64",
      "userId": "00044706541353398741"
     },
     "user_tz": 300
    },
    "id": "LQ4W-OVsU8_T",
    "outputId": "6b2ed101-2bc5-444d-b936-430164b1748e"
   },
   "outputs": [],
   "source": [
    "# For a 1D optimization you can easily visualize where the best value is\n",
    "plt.errorbar(np.arange(1, 10), gs.cv_results_['mean_test_score'], yerr=gs.cv_results_['std_test_score'])\n",
    "plt.xlabel('n_components')\n",
    "plt.ylabel('Mean Test Score (TEFF)')"
   ]
  },
  {
   "cell_type": "code",
   "execution_count": null,
   "metadata": {
    "colab": {
     "base_uri": "https://localhost:8080/"
    },
    "executionInfo": {
     "elapsed": 11,
     "status": "ok",
     "timestamp": 1644609168293,
     "user": {
      "displayName": "Nathan Mahynski",
      "photoUrl": "https://lh3.googleusercontent.com/a-/AOh14GiUlAIKCPEpbG_va5l0d5MOrKuPRHHZGu7-AEYw-A=s64",
      "userId": "00044706541353398741"
     },
     "user_tz": 300
    },
    "id": "lU9lgTmrU8_T",
    "outputId": "d686e7db-29eb-411b-ee62-f41134c05363"
   },
   "outputs": [],
   "source": [
    "# The refit=True (default) refits the model on the data in the end so you can use it directly.\n",
    "gs.best_estimator_.predict(raw_x) # raw_x was just Pure"
   ]
  },
  {
   "cell_type": "code",
   "execution_count": null,
   "metadata": {
    "colab": {
     "base_uri": "https://localhost:8080/"
    },
    "executionInfo": {
     "elapsed": 247,
     "status": "ok",
     "timestamp": 1644609168532,
     "user": {
      "displayName": "Nathan Mahynski",
      "photoUrl": "https://lh3.googleusercontent.com/a-/AOh14GiUlAIKCPEpbG_va5l0d5MOrKuPRHHZGu7-AEYw-A=s64",
      "userId": "00044706541353398741"
     },
     "user_tz": 300
    },
    "id": "AWcq070aU8_T",
    "outputId": "05381be6-1ac6-4479-c21a-b58402574b6a"
   },
   "outputs": [],
   "source": [
    "gs.best_estimator_.predict(raw_x_a) # raw_x_a was just Alternates"
   ]
  },
  {
   "cell_type": "code",
   "execution_count": null,
   "metadata": {
    "colab": {
     "base_uri": "https://localhost:8080/",
     "height": 301
    },
    "executionInfo": {
     "elapsed": 624,
     "status": "ok",
     "timestamp": 1644609169149,
     "user": {
      "displayName": "Nathan Mahynski",
      "photoUrl": "https://lh3.googleusercontent.com/a-/AOh14GiUlAIKCPEpbG_va5l0d5MOrKuPRHHZGu7-AEYw-A=s64",
      "userId": "00044706541353398741"
     },
     "user_tz": 300
    },
    "id": "21O-kVnPU8_U",
    "outputId": "66659050-c485-4f5d-9421-494acc517c20"
   },
   "outputs": [],
   "source": [
    "_ = gs.best_estimator_.named_steps['simca'].model.visualize(x_train, y_train)"
   ]
  },
  {
   "cell_type": "code",
   "execution_count": null,
   "metadata": {
    "colab": {
     "base_uri": "https://localhost:8080/"
    },
    "executionInfo": {
     "elapsed": 6,
     "status": "ok",
     "timestamp": 1644609169150,
     "user": {
      "displayName": "Nathan Mahynski",
      "photoUrl": "https://lh3.googleusercontent.com/a-/AOh14GiUlAIKCPEpbG_va5l0d5MOrKuPRHHZGu7-AEYw-A=s64",
      "userId": "00044706541353398741"
     },
     "user_tz": 300
    },
    "id": "Xj6AaqwvU8_V",
    "outputId": "107a0e05-1df6-447e-bf94-2cd2dd6d2e2d"
   },
   "outputs": [],
   "source": [
    "gs.best_estimator_.named_steps['simca'].score(x_train, y_train) # The score being used here is TEFF"
   ]
  },
  {
   "cell_type": "code",
   "execution_count": null,
   "metadata": {
    "colab": {
     "base_uri": "https://localhost:8080/"
    },
    "executionInfo": {
     "elapsed": 265,
     "status": "ok",
     "timestamp": 1644609169411,
     "user": {
      "displayName": "Nathan Mahynski",
      "photoUrl": "https://lh3.googleusercontent.com/a-/AOh14GiUlAIKCPEpbG_va5l0d5MOrKuPRHHZGu7-AEYw-A=s64",
      "userId": "00044706541353398741"
     },
     "user_tz": 300
    },
    "id": "Omv5MbjMU8_V",
    "outputId": "73425e5d-14ad-4be9-80c8-d37498f74864"
   },
   "outputs": [],
   "source": [
    "gs.best_estimator_.named_steps['simca'].metrics(x_train, y_train)['tsns']"
   ]
  },
  {
   "cell_type": "code",
   "execution_count": null,
   "metadata": {
    "colab": {
     "base_uri": "https://localhost:8080/"
    },
    "executionInfo": {
     "elapsed": 18,
     "status": "ok",
     "timestamp": 1644609169412,
     "user": {
      "displayName": "Nathan Mahynski",
      "photoUrl": "https://lh3.googleusercontent.com/a-/AOh14GiUlAIKCPEpbG_va5l0d5MOrKuPRHHZGu7-AEYw-A=s64",
      "userId": "00044706541353398741"
     },
     "user_tz": 300
    },
    "id": "X85kL3lKU8_W",
    "outputId": "abcc8685-c70a-4968-8250-586ad9426726"
   },
   "outputs": [],
   "source": [
    "gs.best_estimator_.named_steps['simca'].metrics(x_train, y_train)['tsps']"
   ]
  },
  {
   "cell_type": "code",
   "execution_count": null,
   "metadata": {
    "colab": {
     "base_uri": "https://localhost:8080/"
    },
    "executionInfo": {
     "elapsed": 14,
     "status": "ok",
     "timestamp": 1644609169413,
     "user": {
      "displayName": "Nathan Mahynski",
      "photoUrl": "https://lh3.googleusercontent.com/a-/AOh14GiUlAIKCPEpbG_va5l0d5MOrKuPRHHZGu7-AEYw-A=s64",
      "userId": "00044706541353398741"
     },
     "user_tz": 300
    },
    "id": "j5r_GKpNU8_X",
    "outputId": "195d9cfb-81db-46c6-bd87-9b2cbe827ef1"
   },
   "outputs": [],
   "source": [
    "gs.best_estimator_.named_steps['simca'].metrics(x_train, y_train)['teff'] # sqrt(TSPS*TSNS)"
   ]
  }
 ],
 "metadata": {
  "colab": {
   "collapsed_sections": [],
   "name": "simca_example.ipynb",
   "provenance": []
  },
  "kernelspec": {
   "display_name": "oyster-provenance",
   "language": "python",
   "name": "oyster-provenance"
  },
  "language_info": {
   "codemirror_mode": {
    "name": "ipython",
    "version": 3
   },
   "file_extension": ".py",
   "mimetype": "text/x-python",
   "name": "python",
   "nbconvert_exporter": "python",
   "pygments_lexer": "ipython3",
   "version": "3.11.4"
  },
  "toc": {
   "base_numbering": 1,
   "nav_menu": {},
   "number_sections": true,
   "sideBar": true,
   "skip_h1_title": false,
   "title_cell": "Table of Contents",
   "title_sidebar": "Contents",
   "toc_cell": true,
   "toc_position": {},
   "toc_section_display": true,
   "toc_window_display": false
  }
 },
 "nbformat": 4,
 "nbformat_minor": 4
}
