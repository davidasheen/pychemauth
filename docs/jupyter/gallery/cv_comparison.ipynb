{
 "cells": [
  {
   "cell_type": "markdown",
   "id": "91ee5ed3",
   "metadata": {},
   "source": [
    "Statistical Comparison between Models using Cross-Validation\n",
    "==="
   ]
  },
  {
   "cell_type": "markdown",
   "id": "569652ad",
   "metadata": {},
   "source": [
    "Author: Nathan A. Mahynski\n",
    "\n",
    "Date: 2023/09/07\n",
    "\n",
    "Description: Using cross validation to interrogate differences in model performance.\n",
    "\n",
    "In the previous notebook models were compared using nested cross-validation so that an uncertainty on the generalization error could be obtained.  **The question becomes, how do we know if these differences are statistically significant?** In principle, we can then perform standard hypothesis tests to check since we have means and uncertainties.  However, the main problem with this is that performance estimates are not independent of each other.  This tends to result in higher type I error (incorrectly reject the null hypothesis, which is two algorithms are the same) which means **you tend to see a difference in the performances when there isn't any.**"
   ]
  },
  {
   "cell_type": "markdown",
   "id": "0259a77a",
   "metadata": {},
   "source": [
    "<!-- Another issue is that many of these approaches do not account for hyperparameter selection.  They tend to use disjoint training sets to train the model and evaluate on a separate test set, but if you have to do hyperameter selection usually the final model is selected based on which performs the best on these test sets.  As a result that test performance is biased - this is the reason a separate validation set is usually introduced.  The methods below neglect this, but [recent work](https://arxiv.org/pdf/1809.09446.pdf) suggests that, while this bias exists, it does not strongly affect the relative ranking of models or pipelines.-->"
   ]
  },
  {
   "cell_type": "code",
   "execution_count": 1,
   "id": "840d4a23",
   "metadata": {
    "ExecuteTime": {
     "end_time": "2023-09-08T20:19:48.727392Z",
     "start_time": "2023-09-08T20:19:48.333338Z"
    }
   },
   "outputs": [],
   "source": [
    "using_colab = 'google.colab' in str(get_ipython())\n",
    "if using_colab:\n",
    "    !pip install git+https://github.com/mahynski/pychemauth@main\n",
    "\n",
    "try:\n",
    "    import pychemauth\n",
    "except:\n",
    "    raise ImportError(\"pychemauth not installed\")\n",
    "    \n",
    "import matplotlib.pyplot as plt\n",
    "%matplotlib inline\n",
    "\n",
    "import watermark\n",
    "%load_ext watermark\n",
    "\n",
    "%load_ext autoreload\n",
    "%autoreload 2"
   ]
  },
  {
   "cell_type": "code",
   "execution_count": 23,
   "id": "ee1613e6",
   "metadata": {
    "ExecuteTime": {
     "end_time": "2023-09-08T20:23:25.104975Z",
     "start_time": "2023-09-08T20:23:24.971391Z"
    }
   },
   "outputs": [],
   "source": [
    "import sklearn\n",
    "import scipy\n",
    "\n",
    "import numpy as np\n",
    "\n",
    "from imblearn.pipeline import Pipeline\n",
    "\n",
    "from sklearn.tree import DecisionTreeClassifier\n",
    "from sklearn.svm import SVC\n",
    "from sklearn.model_selection import cross_val_score, RepeatedKFold, train_test_split, RepeatedStratifiedKFold, GridSearchCV\n",
    "from sklearn import datasets\n",
    "\n",
    "from pychemauth.analysis.compare import BiasedNestedCV\n",
    "from pychemauth.analysis.compare import Compare\n",
    "from pychemauth.preprocessing.scaling import CorrectedScaler"
   ]
  },
  {
   "cell_type": "code",
   "execution_count": 3,
   "id": "1cf8caea",
   "metadata": {
    "ExecuteTime": {
     "end_time": "2023-09-08T20:19:49.238396Z",
     "start_time": "2023-09-08T20:19:49.214302Z"
    }
   },
   "outputs": [
    {
     "name": "stdout",
     "output_type": "stream",
     "text": [
      "Python implementation: CPython\n",
      "Python version       : 3.11.4\n",
      "IPython version      : 8.14.0\n",
      "\n",
      "Compiler    : GCC 12.2.0\n",
      "OS          : Linux\n",
      "Release     : 6.2.0-26-generic\n",
      "Machine     : x86_64\n",
      "Processor   : x86_64\n",
      "CPU cores   : 40\n",
      "Architecture: 64bit\n",
      "\n",
      "scipy     : 1.11.1\n",
      "pychemauth: 0.0.0b3\n",
      "watermark : 2.4.3\n",
      "numpy     : 1.24.4\n",
      "matplotlib: 3.7.2\n",
      "sklearn   : 1.3.0\n",
      "\n"
     ]
    }
   ],
   "source": [
    "%watermark -t -m -v --iversions"
   ]
  },
  {
   "cell_type": "markdown",
   "id": "67856194",
   "metadata": {
    "ExecuteTime": {
     "end_time": "2023-09-08T13:49:28.010723Z",
     "start_time": "2023-09-08T13:49:27.983017Z"
    }
   },
   "source": [
    "<h3>Load the Data</h3>"
   ]
  },
  {
   "cell_type": "code",
   "execution_count": 4,
   "id": "e9fcf7bd",
   "metadata": {
    "ExecuteTime": {
     "end_time": "2023-09-08T20:19:49.270199Z",
     "start_time": "2023-09-08T20:19:49.244287Z"
    }
   },
   "outputs": [],
   "source": [
    "data = datasets.load_wine()\n",
    "X, y = data.data, data.target\n",
    "\n",
    "X_train, X_test, y_train, y_test = train_test_split(\n",
    "    X, \n",
    "    y,\n",
    "    shuffle=True,\n",
    "    random_state=0,\n",
    "    test_size=0.2\n",
    ")"
   ]
  },
  {
   "cell_type": "code",
   "execution_count": 5,
   "id": "08b7aecc",
   "metadata": {
    "ExecuteTime": {
     "end_time": "2023-09-08T20:19:49.368293Z",
     "start_time": "2023-09-08T20:19:49.271772Z"
    }
   },
   "outputs": [],
   "source": [
    "# Let's re-use these models from the last example.\n",
    "def make_svc(k_inner, random_state_inner=42):\n",
    "    pipe_svc = Pipeline(steps=[\n",
    "        (\"scaler\", CorrectedScaler()),\n",
    "        (\"model\", SVC())\n",
    "    ])\n",
    "    gs_svc = GridSearchCV(\n",
    "        estimator=pipe_svc,\n",
    "        param_grid=[{'model__C': [0.0001, 0.001, 0.01, 0.1, 1.0, 10.0, 100.0, 1000.0]}],\n",
    "        scoring='accuracy',\n",
    "        cv=sklearn.model_selection.StratifiedKFold( # Since this is a classification problem we will stratify\n",
    "            n_splits=k_inner,\n",
    "            shuffle=True,\n",
    "            random_state=random_state_inner\n",
    "        ),\n",
    "        refit=True\n",
    "    )\n",
    "    \n",
    "    return gs_svc\n",
    "\n",
    "def make_tree(k_inner, random_state_inner=42):\n",
    "    gs_tree = GridSearchCV(\n",
    "        estimator=DecisionTreeClassifier(random_state=0),\n",
    "        param_grid=[{'max_depth': [1, 2, 3, 4, 5, 6, 7, None]}],\n",
    "        scoring='accuracy',\n",
    "        cv=sklearn.model_selection.StratifiedKFold( # Since this is a classification problem we will stratify\n",
    "            n_splits=k_inner,\n",
    "            shuffle=True,\n",
    "            random_state=random_state_inner\n",
    "        ),\n",
    "        refit=True\n",
    "    )\n",
    "    \n",
    "    return gs_tree"
   ]
  },
  {
   "cell_type": "markdown",
   "id": "9b33f489",
   "metadata": {},
   "source": [
    "The resampled paired t-test\n",
    "---"
   ]
  },
  {
   "cell_type": "markdown",
   "id": "610a2545",
   "metadata": {},
   "source": [
    "The first way to obtain uncertainties on generalization performance is simply to shuffle the data and repeat the holdout procedure to get many different test set performances.  Statistical significance can be assessed by obtaining the mean and standard deviation for each model and performing a paired [Student's t-test](https://en.wikipedia.org/wiki/Student%27s_t-test) on the differences.  If we use the same data split then both models are tested on the same \"chunk\" so we should use the paired version. However, a key assumption of the t-test is that measurements are independent; as you can see below for a small subset of data, reusing the data like this means points reoccur in many training (and test) sets, meaning each result is not independent.  This has been [shown](http://citeseerx.ist.psu.edu/viewdoc/download?doi=10.1.1.37.3325&rep=rep1&type=pdf) to yield an unacceptably high [type I error](https://en.wikipedia.org/wiki/Type_I_and_type_II_errors) (detection of a difference between algorithms when there is none).\n",
    "\n",
    "> Type I error is the rejection of the null hypothesis.  In [frequentist statistics](https://www.statisticshowto.com/frequentist-statistics/) the null hypothesis is usually formulated so that the onus is one proving a difference between to things (e.g., the difference of 2 means), and is usually [stated as](https://www.statisticshowto.com/probability-and-statistics/null-hypothesis/#state) the currently accepted [truth](https://www.statisticshowto.com/probability-and-statistics/hypothesis-testing/).  The burden of proof then falls on the researcher to disprove this and reject the current status quo in favor of something else."
   ]
  },
  {
   "cell_type": "code",
   "execution_count": 6,
   "id": "34021c6f",
   "metadata": {
    "ExecuteTime": {
     "end_time": "2023-09-08T20:19:50.326307Z",
     "start_time": "2023-09-08T20:19:50.289795Z"
    }
   },
   "outputs": [
    {
     "name": "stdout",
     "output_type": "stream",
     "text": [
      "Training set on fold 1 :\n",
      " [[11.62  1.99]\n",
      " [13.69  3.26]\n",
      " [12.69  1.53]]\n",
      "Test set on fold 1 :\n",
      " [[13.4   3.91]\n",
      " [13.5   1.81]]\n",
      "---------------------------------\n",
      "Training set on fold 2 :\n",
      " [[11.62  1.99]\n",
      " [12.69  1.53]\n",
      " [13.5   1.81]]\n",
      "Test set on fold 2 :\n",
      " [[13.69  3.26]\n",
      " [13.4   3.91]]\n",
      "---------------------------------\n",
      "Training set on fold 3 :\n",
      " [[11.62  1.99]\n",
      " [13.5   1.81]\n",
      " [12.69  1.53]]\n",
      "Test set on fold 3 :\n",
      " [[13.4   3.91]\n",
      " [13.69  3.26]]\n",
      "---------------------------------\n"
     ]
    }
   ],
   "source": [
    "for loop in range(3):\n",
    "    X_, y_ = sklearn.utils.shuffle(X_train[:5,:2], y_train[:5], random_state=loop)\n",
    "    X_train_ = X_[:3]\n",
    "    X_test_ = X_[3:]\n",
    "    print('Training set on fold {} :\\n {}'.format(loop+1, X_train_))\n",
    "    print('Test set on fold {} :\\n {}'.format(loop+1, X_test_))\n",
    "    print('---------------------------------')"
   ]
  },
  {
   "cell_type": "markdown",
   "id": "9c8894f5",
   "metadata": {},
   "source": [
    "The k-fold CV paired t-test\n",
    "---\n",
    "\n",
    "A slight improvement: split data into k disjoint folds (as in CV), and **using the same data split** evaluate each model.  The problem is now that each data point contributes to exactly $k-1$ training sets; therefore the scores estimated from the remaining fold will still be correlated, in general, because they are trained (and tested) on some of the same data.  However, note that when $k=2$ the data overlap problem goes away! The tradeoff is that we have only 2 estimates of the performance (2 test sets)."
   ]
  },
  {
   "cell_type": "code",
   "execution_count": 7,
   "id": "44120ab6",
   "metadata": {
    "ExecuteTime": {
     "end_time": "2023-09-08T20:19:51.127906Z",
     "start_time": "2023-09-08T20:19:51.090202Z"
    }
   },
   "outputs": [
    {
     "name": "stdout",
     "output_type": "stream",
     "text": [
      "[ 1  6  9 10 11 13 14 16 17 19] [ 0  2  3  4  5  7  8 12 15 18]\n",
      "[ 0  2  3  4  5  7  8 12 15 18] [ 1  6  9 10 11 13 14 16 17 19]\n"
     ]
    }
   ],
   "source": [
    "cv = sklearn.model_selection.StratifiedKFold(n_splits=2, random_state=42, shuffle=True)\n",
    "\n",
    "for train_index, test_index in cv.split(X_train[:20], y_train[:20]):\n",
    "    print(train_index, test_index)"
   ]
  },
  {
   "cell_type": "code",
   "execution_count": 8,
   "id": "14c4dd49",
   "metadata": {
    "ExecuteTime": {
     "end_time": "2023-09-08T20:19:51.558967Z",
     "start_time": "2023-09-08T20:19:51.513688Z"
    }
   },
   "outputs": [],
   "source": [
    "# We can then evalute a model on each test set using cross-validation\n",
    "scores = cross_val_score(\n",
    "    estimator=DecisionTreeClassifier(random_state=0, max_depth=3), \n",
    "    X=X_train[:20],\n",
    "    y=y_train[:20],\n",
    "    cv=cv\n",
    ")"
   ]
  },
  {
   "cell_type": "markdown",
   "id": "22797750",
   "metadata": {
    "ExecuteTime": {
     "end_time": "2023-09-08T14:03:57.849142Z",
     "start_time": "2023-09-08T14:03:57.809594Z"
    }
   },
   "source": [
    "This produces k estimates which we can get a mean and uncertainty from."
   ]
  },
  {
   "cell_type": "code",
   "execution_count": 9,
   "id": "06705263",
   "metadata": {
    "ExecuteTime": {
     "end_time": "2023-09-08T20:19:52.304029Z",
     "start_time": "2023-09-08T20:19:52.268935Z"
    }
   },
   "outputs": [
    {
     "name": "stdout",
     "output_type": "stream",
     "text": [
      "Raw scores: [0.6 0.5]\n",
      "Mean : 0.550\n",
      "St. Dev. : 0.050\n"
     ]
    }
   ],
   "source": [
    "print('Raw scores: {}\\nMean : {}\\nSt. Dev. : {}'.format(scores, '%.3f'%np.mean(scores), '%.3f'%np.std(scores)))"
   ]
  },
  {
   "cell_type": "markdown",
   "id": "9162b88c",
   "metadata": {},
   "source": [
    "The repeated k-fold CV paired t-test\n",
    "---"
   ]
  },
  {
   "cell_type": "markdown",
   "id": "7dae862e",
   "metadata": {},
   "source": [
    "Using $k=2$ helped remove the some bias due to re-use of data in training sets, but 2 error estimates is really not enough to be very helpful.  [Dietterich popularized](http://citeseerx.ist.psu.edu/viewdoc/download?doi=10.1.1.37.3325&rep=rep1&type=pdf) a 5x2 repeated CV scheme.  This essentially combines both ideas from the last section by shuffling the data differently 5 times, then doing 2-fold CV in each shuffle.  Of course, this re-uses data due to the reshuffling and so estimates are not completely independent, but was shown to have a tolerably elevated [Type I error rate](https://en.wikipedia.org/wiki/Type_I_and_type_II_errors).  Still, this gives us 10 estimates instead of 2."
   ]
  },
  {
   "cell_type": "code",
   "execution_count": 10,
   "id": "42ea55f7",
   "metadata": {
    "ExecuteTime": {
     "end_time": "2023-09-08T20:19:54.129834Z",
     "start_time": "2023-09-08T20:19:54.087240Z"
    }
   },
   "outputs": [
    {
     "name": "stdout",
     "output_type": "stream",
     "text": [
      "Fold 0:\n",
      "  Train: index=[0 3 5 6 7]\n",
      "  Test:  index=[1 2 4 8 9]\n",
      "Fold 1:\n",
      "  Train: index=[1 2 4 8 9]\n",
      "  Test:  index=[0 3 5 6 7]\n",
      "Fold 2:\n",
      "  Train: index=[0 4 6 7 8]\n",
      "  Test:  index=[1 2 3 5 9]\n",
      "Fold 3:\n",
      "  Train: index=[1 2 3 5 9]\n",
      "  Test:  index=[0 4 6 7 8]\n",
      "Fold 4:\n",
      "  Train: index=[0 1 6 7 9]\n",
      "  Test:  index=[2 3 4 5 8]\n",
      "Fold 5:\n",
      "  Train: index=[2 3 4 5 8]\n",
      "  Test:  index=[0 1 6 7 9]\n",
      "Fold 6:\n",
      "  Train: index=[0 3 4 5 8]\n",
      "  Test:  index=[1 2 6 7 9]\n",
      "Fold 7:\n",
      "  Train: index=[1 2 6 7 9]\n",
      "  Test:  index=[0 3 4 5 8]\n",
      "Fold 8:\n",
      "  Train: index=[0 3 6 8 9]\n",
      "  Test:  index=[1 2 4 5 7]\n",
      "Fold 9:\n",
      "  Train: index=[1 2 4 5 7]\n",
      "  Test:  index=[0 3 6 8 9]\n"
     ]
    }
   ],
   "source": [
    "# Here is a simple example of how this splitting occurs\n",
    "X_dummy = X_train[:10] \n",
    "y_dummy = y_train[:10] \n",
    "\n",
    "rkf = RepeatedKFold(n_splits=2, n_repeats=5, random_state=0)\n",
    "rkf.get_n_splits(X_dummy, y_dummy)\n",
    "\n",
    "for i, (train_index, test_index) in enumerate(rkf.split(X_dummy)):\n",
    "    print(f\"Fold {i}:\")\n",
    "    print(f\"  Train: index={train_index}\")\n",
    "    print(f\"  Test:  index={test_index}\")"
   ]
  },
  {
   "cell_type": "code",
   "execution_count": 11,
   "id": "e1fe5627",
   "metadata": {
    "ExecuteTime": {
     "end_time": "2023-09-08T20:19:54.696371Z",
     "start_time": "2023-09-08T20:19:54.586127Z"
    }
   },
   "outputs": [],
   "source": [
    "# Here is how 5x2 repeated CV is performed\n",
    "rkf = RepeatedStratifiedKFold(n_splits=2, n_repeats=5, random_state=0)\n",
    "\n",
    "pipe1 = pipe_svc = Pipeline(steps=[\n",
    "            (\"scaler\", CorrectedScaler()),\n",
    "            (\"model\", SVC(C=1.0))\n",
    "        ])\n",
    "pipe2 = DecisionTreeClassifier(random_state=0, max_depth=3)\n",
    "\n",
    "scores1 = []\n",
    "scores2 = []\n",
    "for train_index, test_index in rkf.split(X_train, y_train):\n",
    "    X_train_, X_test_ = X_train[train_index], X_train[test_index]\n",
    "    y_train_, y_test_ = y_train[train_index], y_train[test_index]\n",
    "\n",
    "    # Train both pipelines on the same data and evaluate on the same test set\n",
    "    pipe1.fit(X_train_, y_train_)\n",
    "    scores1.append(pipe1.score(X_test_, y_test_))\n",
    "\n",
    "    pipe2.fit(X_train_, y_train_)\n",
    "    scores2.append(pipe2.score(X_test_, y_test_))"
   ]
  },
  {
   "cell_type": "code",
   "execution_count": 12,
   "id": "915e091f",
   "metadata": {
    "ExecuteTime": {
     "end_time": "2023-09-08T20:19:54.993198Z",
     "start_time": "2023-09-08T20:19:54.959990Z"
    }
   },
   "outputs": [],
   "source": [
    "# We can take the difference from each run because both pipelines tested/trained on the same data each time\n",
    "difference = np.array(scores2) - np.array(scores1)"
   ]
  },
  {
   "cell_type": "code",
   "execution_count": 13,
   "id": "67f9d169",
   "metadata": {
    "ExecuteTime": {
     "end_time": "2023-09-08T20:19:55.418539Z",
     "start_time": "2023-09-08T20:19:55.381345Z"
    }
   },
   "outputs": [
    {
     "data": {
      "text/plain": [
       "array([-0.07042254, -0.12676056, -0.11267606, -0.07042254, -0.05633803,\n",
       "        0.        , -0.05633803, -0.05633803, -0.05633803,  0.        ])"
      ]
     },
     "execution_count": 13,
     "metadata": {},
     "output_type": "execute_result"
    }
   ],
   "source": [
    "difference"
   ]
  },
  {
   "cell_type": "code",
   "execution_count": 14,
   "id": "8e68ce08",
   "metadata": {
    "ExecuteTime": {
     "end_time": "2023-09-08T20:19:55.940265Z",
     "start_time": "2023-09-08T20:19:55.818685Z"
    }
   },
   "outputs": [],
   "source": [
    "# You can get identical results from cross_val_score like this\n",
    "scores1 = cross_val_score(\n",
    "    estimator=pipe1, \n",
    "    X=X_train,\n",
    "    y=y_train,\n",
    "    cv=rkf,\n",
    ")\n",
    "\n",
    "scores2 = cross_val_score(\n",
    "    estimator=pipe2, \n",
    "    X=X_train,\n",
    "    y=y_train,\n",
    "    cv=rkf\n",
    ")\n",
    "\n",
    "difference = np.array(scores2) - np.array(scores1)"
   ]
  },
  {
   "cell_type": "code",
   "execution_count": 15,
   "id": "07fcc9c9",
   "metadata": {
    "ExecuteTime": {
     "end_time": "2023-09-08T20:19:56.314456Z",
     "start_time": "2023-09-08T20:19:56.249689Z"
    }
   },
   "outputs": [
    {
     "data": {
      "text/plain": [
       "array([-0.07042254, -0.12676056, -0.11267606, -0.07042254, -0.05633803,\n",
       "        0.        , -0.05633803, -0.05633803, -0.05633803,  0.        ])"
      ]
     },
     "execution_count": 15,
     "metadata": {},
     "output_type": "execute_result"
    }
   ],
   "source": [
    "difference"
   ]
  },
  {
   "cell_type": "code",
   "execution_count": 16,
   "id": "c9413fde",
   "metadata": {
    "ExecuteTime": {
     "end_time": "2023-09-08T20:19:56.918592Z",
     "start_time": "2023-09-08T20:19:56.794635Z"
    }
   },
   "outputs": [
    {
     "data": {
      "text/plain": [
       "array([-0.07042254, -0.12676056, -0.11267606, -0.07042254, -0.05633803,\n",
       "        0.        , -0.05633803, -0.05633803, -0.05633803,  0.        ])"
      ]
     },
     "execution_count": 16,
     "metadata": {},
     "output_type": "execute_result"
    }
   ],
   "source": [
    "# PyChemAuth has a built in function to perform this.\n",
    "# Be sure any random states are set in your pipelines and to set the random_state here as well.\n",
    "scores1, scores2 = Compare.repeated_kfold(pipe1, pipe2, X_train, y_train, n_repeats=5, k=2, random_state=0)\n",
    "difference = np.array(scores2) - np.array(scores1)\n",
    "difference"
   ]
  },
  {
   "cell_type": "markdown",
   "id": "1bae51ac",
   "metadata": {},
   "source": [
    "**Importantly,** the t-statistic used by Dietterich for his 5x2 CV t-test is modified from a conventional t-statistic, but we will not use it here anyway.  A example implementation is discussed [here](https://www.kaggle.com/code/ogrellier/parameter-tuning-5-x-2-fold-cv-statistical-test/notebook).\n",
    "\n",
    "In general we can perform CV any number of times to get many test performances to improve our assessment of the relative performance. Assuming $n = r \\times k$ runs have been performed, we can define the difference in test set performances between algorithms A and B for a fold in a certain repeat as $x_j = A_j - B_j$, and $\\hat{s}^2 = \\frac{1}{n-1}\\sum(x_j - \\bar{x})^2$ (unbiased sample variance).  This is used with the Student's t distribution and $n-1$ degrees of freedom.\n",
    "\n",
    "$$\n",
    "t = \\frac{ \\frac{1}{n} \\sum_{j=1}^n x_j}{\\sqrt{ \\hat{s}^2 } /\\sqrt{n} } =  \\frac{ \\frac{1}{n} \\sum_{j=1}^n x_j}{\\sqrt{ \\frac{1}{n} \\hat{s}^2 } }\n",
    "$$\n",
    "\n",
    "Dietterich originally found that the standard t-statistic was elevated and therefore needed some correction so he used a different formula;  [Nadeau & Bengio suggested a different correction](https://link.springer.com/article/10.1023/A:1024068626366) to the t-statistic which is designed to \"overestimate the variance to yield conservative inference.\" This has a similar effect of deflating the t-statistic to account for correlations between the data folds. Here, $\\rho = 1/k$ is the fraction of the data used for training.\n",
    "\n",
    "$$\n",
    "t_{\\rm corrected} =  \\frac{ \\frac{1}{n} \\sum_{j=1}^n x_j}{\\sqrt{ \\left( \\frac{1}{n} + \\frac{\\rho}{1 - \\rho} \\right) \\hat{s}^2 } }\n",
    "$$\n",
    "\n",
    "In 2004, [Bouckaert & Frank](https://link.springer.com/chapter/10.1007/978-3-540-24775-3_3) argued that reproducility is more important than minimizing type I error; this depends strongly on how the data is partitioned since different researchers will probably have different RNG seeds when trying to repeat each others' work. Instead they recommend either (a) 100 runs of random resampling or (b) 10×10 repeated cross-validation with the Nadeau and Bengio correction (discussed above).  Interestingly, (a) is the worst thing you can do according to Dietterich, so the latter is recommended."
   ]
  },
  {
   "cell_type": "code",
   "execution_count": 17,
   "id": "54b5a617",
   "metadata": {
    "ExecuteTime": {
     "end_time": "2023-09-08T20:19:57.775112Z",
     "start_time": "2023-09-08T20:19:57.735673Z"
    }
   },
   "outputs": [
    {
     "name": "stdout",
     "output_type": "stream",
     "text": [
      "Pipelines are about the same\n"
     ]
    }
   ],
   "source": [
    "# You can perform a 2-sided test to check if algorithms are different; however, it is often the case that we develop a \n",
    "# simpler algorithm that might appear to perform a bit worse than some state-of-the-art one, and we need to check if\n",
    "# its underperformance is actually statistically significant.  For this we can perform 1-sided test to see if the mean\n",
    "# performance of the model with the better average is, in fact, better than the one that is worse.\n",
    "\n",
    "# Here the SVC (scores1) seem to be better than the decision tree (scores2).  Let's do a 1-sided hypothesis test.\n",
    "\n",
    "alpha = 0.05\n",
    "p_value = Compare.corrected_t(\n",
    "    scores1, # The one with a higher mean\n",
    "    scores2, \n",
    "    n_repeats=5\n",
    ")\n",
    "\n",
    "if p_value < alpha:\n",
    "     print('SVC outperforms the Tree') # Reject H0\n",
    "else:\n",
    "    print('Pipelines are about the same') # Fail to reject H0"
   ]
  },
  {
   "cell_type": "markdown",
   "id": "79153f72",
   "metadata": {},
   "source": [
    "The (repeated) nested k-fold paired t-test\n",
    "---"
   ]
  },
  {
   "cell_type": "markdown",
   "id": "fac5aec4",
   "metadata": {},
   "source": [
    "In the previous notebook we used nested CV because we needed to get an error estimate that accounts for **both the model and its hyperparameter search.**  In principle, we can simply apply the corrected t-statistic to the results from these test folds. \n",
    "\n",
    "![title](https://github.com/rasbt/python-machine-learning-book-3rd-edition/blob/master/ch06/images/06_07.png?raw=true){ width=500px }\n",
    "\n",
    "In this 5x2 nested CV example, we would have 5 test set estimates (r=1, k=5) and can use the corrected t-test above, and/or repeat this several times so that r > 1.\n",
    "\n",
    "There is sometimes confusion surrounding the terminology since nested CV is sometimes referred to as $m \\times n$ *nested* CV, while repeated CV is just called $m \\times n$ CV.  Both are sometimes referred to as simply $5 \\times 2$ CV, but they are **not the same.**\n",
    "\n",
    "See this stackexchange [discussion](https://stats.stackexchange.com/questions/151710/nested-cross-validation-how-is-it-different-from-model-selection-via-kfold-cv)."
   ]
  },
  {
   "cell_type": "code",
   "execution_count": 18,
   "id": "2cf5509d",
   "metadata": {
    "ExecuteTime": {
     "end_time": "2023-09-08T20:19:59.388920Z",
     "start_time": "2023-09-08T20:19:59.337928Z"
    }
   },
   "outputs": [],
   "source": [
    "def make_svc(k_inner, random_state_inner=42):\n",
    "    pipe_svc = Pipeline(steps=[\n",
    "        (\"scaler\", CorrectedScaler()),\n",
    "        (\"model\", SVC())\n",
    "    ])\n",
    "    gs_svc = GridSearchCV(\n",
    "        estimator=pipe_svc,\n",
    "        param_grid=[{'model__C': [0.0001, 0.001, 0.01, 0.1, 1.0, 10.0, 100.0, 1000.0]}],\n",
    "        scoring='accuracy',\n",
    "        cv=sklearn.model_selection.StratifiedKFold( # Since this is a classification problem we will stratify\n",
    "            n_splits=k_inner,\n",
    "            shuffle=True,\n",
    "            random_state=random_state_inner\n",
    "        ),\n",
    "        refit=True\n",
    "    )\n",
    "    \n",
    "    return gs_svc\n",
    "\n",
    "def make_tree(k_inner, random_state_inner=42):\n",
    "    gs_tree = GridSearchCV(\n",
    "        estimator=DecisionTreeClassifier(random_state=0),\n",
    "        param_grid=[{'max_depth': [1, 2, 3, 4, 5, 6, 7, None]}],\n",
    "        scoring='accuracy',\n",
    "        cv=sklearn.model_selection.StratifiedKFold( # Since this is a classification problem we will stratify\n",
    "            n_splits=k_inner,\n",
    "            shuffle=True,\n",
    "            random_state=random_state_inner\n",
    "        ),\n",
    "        refit=True\n",
    "    )\n",
    "    \n",
    "    return gs_tree\n",
    "\n",
    "def perform_nested_cv(inner_model, k_outer, random_state_outer=42):\n",
    "    scores = cross_val_score(\n",
    "        inner_model, \n",
    "        X_train, \n",
    "        y_train, \n",
    "        scoring='accuracy', \n",
    "        cv=sklearn.model_selection.StratifiedKFold(\n",
    "            n_splits=k_outer,\n",
    "            shuffle=True,\n",
    "            random_state=random_state_outer\n",
    "        )\n",
    "    )\n",
    "    \n",
    "    return scores\n",
    "    \n",
    "def compare_pipelines(k_inner, k_outer, X_train, y_train, n_repeats=1, verbose=True):\n",
    "    \"\"\"Perform Nested CV several times and collect the test set performances each time.\"\"\"\n",
    "    scores_svc = []\n",
    "    scores_tree = []\n",
    "    for r in np.arange(n_repeats):\n",
    "        k_inner = k_inner\n",
    "        k_outer = k_outer\n",
    "        random_state_inner = 42+r # Be sure to use different seeds on each repeat\n",
    "        random_state_outer = 0+r  # Be sure to use different seeds on each repeat\n",
    "\n",
    "        # Get model 1 results on a certain partitioning\n",
    "        scores = perform_nested_cv(\n",
    "            make_svc(k_inner=k_inner, random_state_inner=random_state_inner), \n",
    "            k_outer=k_outer, \n",
    "            random_state_outer=random_state_outer # Seeds need to be the same for both models so data splits the same\n",
    "        ).tolist()\n",
    "        scores_svc += scores\n",
    "        if verbose:\n",
    "            print('%d : %dx%d Nested CV accuracy for SVC: %.3f +/- %.3f' % (r+1, k_outer, k_inner, np.mean(scores), np.std(scores)))\n",
    "\n",
    "        # Get model 2 results on the same data partitioning\n",
    "        scores = perform_nested_cv(\n",
    "            make_tree(k_inner=k_inner, random_state_inner=random_state_inner), \n",
    "            k_outer=k_outer, \n",
    "            random_state_outer=random_state_outer # Seeds need to be the same for both models so data splits the same\n",
    "        ).tolist()\n",
    "        scores_tree += scores\n",
    "        if verbose:\n",
    "            print('%d : %dx%d Nested CV accuracy for Tree: %.3f +/- %.3f' % (r+1, k_outer, k_inner, np.mean(scores), np.std(scores)))\n",
    "    \n",
    "    return scores_svc, scores_tree\n",
    "\n",
    "def significance(alpha, scores_svc, scores_tree, n_repeats):\n",
    "    \"\"\"Check the significance of any differences.\"\"\"\n",
    "    p_value = Compare.corrected_t(\n",
    "        scores_svc, # One with the best average\n",
    "        scores_tree,\n",
    "        n_repeats=n_repeats \n",
    "    )\n",
    "\n",
    "    if p_value < alpha:\n",
    "        print('SVC outperforms the Tree ({} < {})'.format('%.4f'%p_value, '%.2f'%alpha)) \n",
    "    else:\n",
    "        print('Pipelines are about the same ({} >= {})'.format('%.4f'%p_value, '%.2f'%alpha))"
   ]
  },
  {
   "cell_type": "code",
   "execution_count": 19,
   "id": "51a52c4e",
   "metadata": {
    "ExecuteTime": {
     "end_time": "2023-09-08T20:20:00.487743Z",
     "start_time": "2023-09-08T20:19:59.951332Z"
    }
   },
   "outputs": [
    {
     "name": "stdout",
     "output_type": "stream",
     "text": [
      "1 : 5x2 Nested CV accuracy for SVC: 0.979 +/- 0.041\n",
      "1 : 5x2 Nested CV accuracy for Tree: 0.915 +/- 0.043\n",
      "Pipelines are about the same (0.0900 >= 0.05)\n"
     ]
    }
   ],
   "source": [
    "# With only 1 repeat of 5x2 nested CV it seems like the pipelines are actually about the same.\n",
    "# This is because the uncertainty is quite high.\n",
    "n_repeats = 1\n",
    "scores_svc, scores_tree = compare_pipelines(k_inner=2, k_outer=5, X_train=X_train, y_train=y_train, n_repeats=n_repeats)\n",
    "significance(0.05, scores_svc, scores_tree, n_repeats=n_repeats)"
   ]
  },
  {
   "cell_type": "code",
   "execution_count": 20,
   "id": "4c8923bf",
   "metadata": {
    "ExecuteTime": {
     "end_time": "2023-09-08T20:20:06.090225Z",
     "start_time": "2023-09-08T20:20:02.566043Z"
    }
   },
   "outputs": [
    {
     "name": "stdout",
     "output_type": "stream",
     "text": [
      "1 : 10x10 Nested CV accuracy for SVC: 0.987 +/- 0.027\n",
      "1 : 10x10 Nested CV accuracy for Tree: 0.937 +/- 0.037\n",
      "SVC outperforms the Tree (0.0059 < 0.05)\n"
     ]
    }
   ],
   "source": [
    "# If we use a larger set of k values we use more data to train each model and get more estimates of the performance.\n",
    "# Even with only 1 repeat, it seems like the SVC is pulling away from the tree.\n",
    "n_repeats = 1\n",
    "scores_svc, scores_tree = compare_pipelines(k_inner=10, k_outer=10, X_train=X_train, y_train=y_train, n_repeats=n_repeats)\n",
    "significance(0.05, scores_svc, scores_tree, n_repeats=n_repeats)"
   ]
  },
  {
   "cell_type": "code",
   "execution_count": 21,
   "id": "cd41091c",
   "metadata": {
    "ExecuteTime": {
     "end_time": "2023-09-08T20:20:09.472455Z",
     "start_time": "2023-09-08T20:20:06.093210Z"
    }
   },
   "outputs": [
    {
     "name": "stdout",
     "output_type": "stream",
     "text": [
      "SVC outperforms the Tree (0.0025 < 0.05)\n"
     ]
    }
   ],
   "source": [
    "# We can obtain similar results by doing 5x2 nested CV many times.\n",
    "n_repeats = 10\n",
    "scores_svc, scores_tree = compare_pipelines(k_inner=2, k_outer=5, X_train=X_train, y_train=y_train, n_repeats=n_repeats, verbose=False)\n",
    "significance(0.05, scores_svc, scores_tree, n_repeats=n_repeats)"
   ]
  },
  {
   "cell_type": "code",
   "execution_count": 24,
   "id": "7591ba33",
   "metadata": {
    "ExecuteTime": {
     "end_time": "2023-09-08T20:23:28.753331Z",
     "start_time": "2023-09-08T20:23:28.730698Z"
    }
   },
   "outputs": [],
   "source": [
    "def repeated_kfold_cv(k, n_repeats, k_train, random_state_inner, random_state_outer):\n",
    "    p_values = []\n",
    "    \n",
    "    for n in n_repeats:\n",
    "        scores_svc, scores_tree = Compare.repeated_kfold(\n",
    "            make_svc(k_train, random_state_inner=random_state_inner),\n",
    "            make_tree(k_train, random_state_inner=random_state_inner),\n",
    "            X_train, \n",
    "            y_train, \n",
    "            n_repeats=n, \n",
    "            k=k, \n",
    "            stratify=True, \n",
    "            random_state=random_state_outer\n",
    "        )\n",
    "\n",
    "        p_values += [Compare.corrected_t(\n",
    "            scores_svc, # One with the best average\n",
    "            scores_tree,\n",
    "            n_repeats=n \n",
    "        )]\n",
    "        \n",
    "    return p_values\n",
    "\n",
    "def compare_biased_ncv(k, k_train):\n",
    "    ncv = BiasedNestedCV(k_inner=k_train, k_outer=k)\n",
    "    scores_svc = ncv.grid_search(\n",
    "        pipeline = Pipeline(steps=[\n",
    "            (\"scaler\", CorrectedScaler()),\n",
    "            (\"model\", SVC())\n",
    "        ]),\n",
    "        param_grid=[{'model__C': [0.0001, 0.001, 0.01, 0.1, 1.0, 10.0, 100.0, 1000.0]}],\n",
    "        X=X_train,\n",
    "        y=y_train,\n",
    "        classification=True,\n",
    "    )\n",
    "    \n",
    "    ncv = BiasedNestedCV(k_inner=k_train, k_outer=k)\n",
    "    scores_tree = ncv.grid_search(\n",
    "        pipeline = Pipeline(steps=[\n",
    "            (\"tree\", DecisionTreeClassifier(random_state=0)),\n",
    "        ]),\n",
    "        param_grid=[{'tree__max_depth': [1, 2, 3, 4, 5, 6, 7, None]}],\n",
    "        X=X_train,\n",
    "        y=y_train,\n",
    "        classification=True,\n",
    "    )\n",
    "    \n",
    "    p_value = Compare.corrected_t(\n",
    "        scores_svc, # One with the best average\n",
    "        scores_tree,\n",
    "        n_repeats=k\n",
    "    )\n",
    "    \n",
    "    return p_value"
   ]
  },
  {
   "cell_type": "code",
   "execution_count": 27,
   "id": "d889ec72",
   "metadata": {
    "ExecuteTime": {
     "end_time": "2023-09-08T20:25:02.422531Z",
     "start_time": "2023-09-08T20:25:02.398518Z"
    }
   },
   "outputs": [],
   "source": [
    "def compare_methods(k_linked, n_repeats=[1, 2, 3, 4, 5, 6, 7, 8]):\n",
    "    # Each loop has k*n_repeats total values\n",
    "    p_values_rkf = repeated_kfold_cv(\n",
    "        k=k_linked, \n",
    "        n_repeats=n_repeats, \n",
    "        k_train=5, \n",
    "        random_state_inner=42, \n",
    "        random_state_outer=0\n",
    "    )\n",
    "\n",
    "    # Each loop here has k*k_train total values\n",
    "    p_values_bncv = []\n",
    "    for k in n_repeats[1:]:\n",
    "        p_values_bncv += [compare_biased_ncv(k=k, k_train=k_linked)]\n",
    "\n",
    "    # Each loop here has k_outer*n_repeats total values\n",
    "    p_values_rncv = []\n",
    "    for n in n_repeats:\n",
    "        scores_svc, scores_tree = compare_pipelines(k_inner=5, k_outer=k_linked, X_train=X_train, y_train=y_train, n_repeats=n, verbose=False)\n",
    "        p_values_rncv += [Compare.corrected_t(\n",
    "            scores_svc, # One with the best average\n",
    "            scores_tree,\n",
    "            n_repeats=n \n",
    "        )]\n",
    "        \n",
    "    plt.plot(n_repeats, p_values_rkf, label='Repeated K-Fold CV')\n",
    "    plt.plot(n_repeats, p_values_rncv, label='Repeated Nested CV')\n",
    "    plt.plot(n_repeats[1:], p_values_bncv, label='Biased Nested CV')\n",
    "    plt.axhline(0.05, color='red')\n",
    "    plt.xlabel('Number of Repeats')\n",
    "    plt.ylabel('P Value')\n",
    "    plt.legend(loc='best')\n",
    "    _ = plt.xticks(n_repeats)"
   ]
  },
  {
   "cell_type": "code",
   "execution_count": 28,
   "id": "7752064d",
   "metadata": {
    "ExecuteTime": {
     "end_time": "2023-09-08T20:25:42.306791Z",
     "start_time": "2023-09-08T20:25:03.046974Z"
    }
   },
   "outputs": [
    {
     "data": {
      "image/png": "[encoded data removed]",
      "text/plain": [
       "<Figure size 640x480 with 1 Axes>"
      ]
     },
     "metadata": {},
     "output_type": "display_data"
    }
   ],
   "source": [
    "compare_methods(k_linked=3, n_repeats=[1, 2, 3, 4, 5, 6, 7, 8])"
   ]
  },
  {
   "cell_type": "code",
   "execution_count": 29,
   "id": "6665272e",
   "metadata": {
    "ExecuteTime": {
     "end_time": "2023-09-08T20:28:15.667353Z",
     "start_time": "2023-09-08T20:26:02.155138Z"
    }
   },
   "outputs": [
    {
     "data": {
      "image/png": "[encoded data removed]",
      "text/plain": [
       "<Figure size 640x480 with 1 Axes>"
      ]
     },
     "metadata": {},
     "output_type": "display_data"
    }
   ],
   "source": [
    "compare_methods(k_linked=10, n_repeats=[1, 2, 3, 4, 5, 6, 7, 8])"
   ]
  },
  {
   "cell_type": "code",
   "execution_count": 30,
   "id": "c59388b4",
   "metadata": {
    "ExecuteTime": {
     "end_time": "2023-09-08T20:32:43.176216Z",
     "start_time": "2023-09-08T20:28:15.669535Z"
    }
   },
   "outputs": [
    {
     "data": {
      "image/png": "[encoded data removed]",
      "text/plain": [
       "<Figure size 640x480 with 1 Axes>"
      ]
     },
     "metadata": {},
     "output_type": "display_data"
    }
   ],
   "source": [
    "compare_methods(k_linked=20, n_repeats=[1, 2, 3, 4, 5, 6, 7, 8])"
   ]
  },
  {
   "cell_type": "code",
   "execution_count": null,
   "id": "39308eeb",
   "metadata": {},
   "outputs": [],
   "source": []
  },
  {
   "cell_type": "code",
   "execution_count": null,
   "id": "4542c5b4",
   "metadata": {},
   "outputs": [],
   "source": []
  },
  {
   "cell_type": "code",
   "execution_count": null,
   "id": "4a652955",
   "metadata": {},
   "outputs": [],
   "source": []
  },
  {
   "cell_type": "markdown",
   "id": "c2658066",
   "metadata": {
    "ExecuteTime": {
     "end_time": "2023-09-07T15:08:42.925280Z",
     "start_time": "2023-09-07T15:08:42.905020Z"
    }
   },
   "source": [
    "Bayesian Comparison\n",
    "---"
   ]
  },
  {
   "cell_type": "markdown",
   "id": "62504963",
   "metadata": {},
   "source": [
    "See \"Time for a Change: a Tutorial for Comparing Multiple Classifiers Through Bayesian Analysis\", Alessio Benavoli, Giorgio Corani, Janez Demšar, Marco Zaffalon. Journal of Machine Learning Research, 18 (2017) 1-36.\n",
    "\n",
    "They have an associated [github repo](https://github.com/janezd/baycomp) and [documentation](https://baycomp.readthedocs.io/en/latest/) that discusses the advantages of using Bayesian methods to compare ML pipelines instead of frequentist statistics (hypothesis testing).\n",
    "\n",
    "More discussion [here](https://www.statisticshowto.com/probability-and-statistics/hypothesis-testing/) on the argument for (and against) using Bayesian statistics instead of frequentist."
   ]
  }
 ],
 "metadata": {
  "kernelspec": {
   "display_name": "oyster-provenance",
   "language": "python",
   "name": "oyster-provenance"
  },
  "language_info": {
   "codemirror_mode": {
    "name": "ipython",
    "version": 3
   },
   "file_extension": ".py",
   "mimetype": "text/x-python",
   "name": "python",
   "nbconvert_exporter": "python",
   "pygments_lexer": "ipython3",
   "version": "3.11.4"
  }
 },
 "nbformat": 4,
 "nbformat_minor": 5
}
