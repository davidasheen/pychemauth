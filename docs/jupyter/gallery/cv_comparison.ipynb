{
 "cells": [
  {
   "cell_type": "markdown",
   "id": "91ee5ed3",
   "metadata": {},
   "source": [
    "Statistical Comparison between Models using Cross-Validation\n",
    "==="
   ]
  },
  {
   "cell_type": "markdown",
   "id": "569652ad",
   "metadata": {},
   "source": [
    "Author: Nathan A. Mahynski\n",
    "\n",
    "Date: 2023/09/07\n",
    "\n",
    "Description: Using cross validation to interrogate differences in model performance.\n",
    "\n",
    "In the previous notebook models were compared using nested cross-validation so that an uncertainty on the generalization error could be obtained.  **The question becomes, how do we know if these differences are statistically significant?** In principle, we can then perform standard hypothesis tests to check since we have means and uncertainties.  However, the main problem with this is that performance estimates are not independent of each other.  This tends to result in higher type I error (incorrectly reject the null hypothesis, which is two algorithms are the same) which means **you tend to see a difference in the performances when there isn't any.**"
   ]
  },
  {
   "cell_type": "markdown",
   "id": "9e681e37",
   "metadata": {},
   "source": [
    "Another issue is that many of these approaches do not account for hyperparameter selection.  They tend to use disjoint training sets to train the model and evaluate on a separate test set, but if you have to do hyperameter selection usually the final model is selected based on which performs the best on these test sets.  As a result that test performance is biased - this is the reason a separate validation set is usually introduced.  The methods below neglect this, but [recent work](https://arxiv.org/pdf/1809.09446.pdf) suggests that, while this bias exists, it does not strongly affect the relative ranking of models or pipelines."
   ]
  },
  {
   "cell_type": "code",
   "execution_count": 1,
   "id": "840d4a23",
   "metadata": {
    "ExecuteTime": {
     "end_time": "2023-09-07T15:07:10.310029Z",
     "start_time": "2023-09-07T15:07:09.848539Z"
    }
   },
   "outputs": [],
   "source": [
    "using_colab = 'google.colab' in str(get_ipython())\n",
    "if using_colab:\n",
    "    !pip install git+https://github.com/mahynski/pychemauth@main\n",
    "\n",
    "try:\n",
    "    import pychemauth\n",
    "except:\n",
    "    raise ImportError(\"pychemauth not installed\")\n",
    "    \n",
    "import matplotlib.pyplot as plt\n",
    "%matplotlib inline\n",
    "\n",
    "import watermark\n",
    "%load_ext watermark\n",
    "\n",
    "%load_ext autoreload\n",
    "%autoreload 2"
   ]
  },
  {
   "cell_type": "code",
   "execution_count": 161,
   "id": "ee1613e6",
   "metadata": {
    "ExecuteTime": {
     "end_time": "2023-09-08T17:06:23.656080Z",
     "start_time": "2023-09-08T17:06:23.615633Z"
    }
   },
   "outputs": [],
   "source": [
    "import sklearn\n",
    "import scipy\n",
    "\n",
    "import numpy as np\n",
    "\n",
    "from imblearn.pipeline import Pipeline\n",
    "\n",
    "from sklearn.tree import DecisionTreeClassifier\n",
    "from sklearn.svm import SVC\n",
    "from sklearn.model_selection import cross_val_score, RepeatedKFold, train_test_split, RepeatedStratifiedKFold, GridSearchCV\n",
    "from sklearn import datasets\n",
    "\n",
    "from pychemauth.preprocessing.scaling import CorrectedScaler"
   ]
  },
  {
   "cell_type": "code",
   "execution_count": 13,
   "id": "1cf8caea",
   "metadata": {
    "ExecuteTime": {
     "end_time": "2023-09-08T13:55:52.136579Z",
     "start_time": "2023-09-08T13:55:52.085571Z"
    }
   },
   "outputs": [
    {
     "name": "stdout",
     "output_type": "stream",
     "text": [
      "Python implementation: CPython\n",
      "Python version       : 3.11.4\n",
      "IPython version      : 8.14.0\n",
      "\n",
      "Compiler    : GCC 12.2.0\n",
      "OS          : Linux\n",
      "Release     : 6.2.0-26-generic\n",
      "Machine     : x86_64\n",
      "Processor   : x86_64\n",
      "CPU cores   : 40\n",
      "Architecture: 64bit\n",
      "\n",
      "matplotlib: 3.7.2\n",
      "numpy     : 1.24.4\n",
      "json      : 2.0.9\n",
      "sklearn   : 1.3.0\n",
      "pychemauth: 0.0.0b3\n",
      "scipy     : 1.11.1\n",
      "watermark : 2.4.3\n",
      "\n"
     ]
    }
   ],
   "source": [
    "%watermark -t -m -v --iversions"
   ]
  },
  {
   "cell_type": "markdown",
   "id": "443d3113",
   "metadata": {
    "ExecuteTime": {
     "end_time": "2023-09-08T13:49:28.010723Z",
     "start_time": "2023-09-08T13:49:27.983017Z"
    }
   },
   "source": [
    "<h3>Load the Data</h3>"
   ]
  },
  {
   "cell_type": "code",
   "execution_count": 50,
   "id": "7f64ad34",
   "metadata": {
    "ExecuteTime": {
     "end_time": "2023-09-08T14:16:26.340072Z",
     "start_time": "2023-09-08T14:16:26.309474Z"
    }
   },
   "outputs": [],
   "source": [
    "data = datasets.load_wine()\n",
    "X, y = data.data, data.target\n",
    "\n",
    "X_train, X_test, y_train, y_test = train_test_split(\n",
    "    X, \n",
    "    y,\n",
    "    shuffle=True,\n",
    "    random_state=0,\n",
    "    test_size=0.2\n",
    ")"
   ]
  },
  {
   "cell_type": "code",
   "execution_count": 51,
   "id": "0fe1ead5",
   "metadata": {
    "ExecuteTime": {
     "end_time": "2023-09-08T14:16:26.486215Z",
     "start_time": "2023-09-08T14:16:26.445879Z"
    }
   },
   "outputs": [],
   "source": [
    "# Let's re-use these from the last example.\n",
    "def make_svc(k_inner, random_state_inner=42):\n",
    "    pipe_svc = Pipeline(steps=[\n",
    "        (\"scaler\", CorrectedScaler()),\n",
    "        (\"model\", SVC())\n",
    "    ])\n",
    "    gs_svc = GridSearchCV(\n",
    "        estimator=pipe_svc,\n",
    "        param_grid=[{'model__C': [0.0001, 0.001, 0.01, 0.1, 1.0, 10.0, 100.0, 1000.0]}],\n",
    "        scoring='accuracy',\n",
    "        cv=sklearn.model_selection.StratifiedKFold( # Since this is a classification problem we will stratify\n",
    "            n_splits=k_inner,\n",
    "            shuffle=True,\n",
    "            random_state=random_state_inner\n",
    "        ),\n",
    "        refit=True\n",
    "    )\n",
    "    \n",
    "    return gs_svc\n",
    "\n",
    "def make_tree(k_inner, random_state_inner=42):\n",
    "    gs_tree = GridSearchCV(\n",
    "        estimator=DecisionTreeClassifier(random_state=0),\n",
    "        param_grid=[{'max_depth': [1, 2, 3, 4, 5, 6, 7, None]}],\n",
    "        scoring='accuracy',\n",
    "        cv=sklearn.model_selection.StratifiedKFold( # Since this is a classification problem we will stratify\n",
    "            n_splits=k_inner,\n",
    "            shuffle=True,\n",
    "            random_state=random_state_inner\n",
    "        ),\n",
    "        refit=True\n",
    "    )\n",
    "    \n",
    "    return gs_tree"
   ]
  },
  {
   "cell_type": "markdown",
   "id": "9b33f489",
   "metadata": {},
   "source": [
    "The resampled paired t-test\n",
    "---"
   ]
  },
  {
   "cell_type": "markdown",
   "id": "306851f0",
   "metadata": {},
   "source": [
    "The first way to obtain uncertainties on generalization performance is simply to shuffle the data and repeat the holdout procedure to get many different test set performances.  Statistical significance can be assessed by obtaining the mean and standard deviation for each model and performing a paired [Student's t-test](https://en.wikipedia.org/wiki/Student%27s_t-test) on the differences.  If we use the same data split then both models are tested on the same \"chunk\" so we should use the paired version. However, a key assumption of the t-test is that measurements are independent; as you can see below for a small subset of data, reusing the data like this means points reoccur in many training (and test) sets, meaning each result is not independent.  This has been [shown](http://citeseerx.ist.psu.edu/viewdoc/download?doi=10.1.1.37.3325&rep=rep1&type=pdf) to yield an unacceptably high [type I error](https://en.wikipedia.org/wiki/Type_I_and_type_II_errors) (detection of a difference between algorithms when there is none).\n",
    "\n",
    "> Type I error is the rejection of the null hypothesis.  In [frequentist statistics](https://www.statisticshowto.com/frequentist-statistics/) the null hypothesis is usually formulated so that the onus is one proving a difference between to things (e.g., the difference of 2 means), and is usually [stated as](https://www.statisticshowto.com/probability-and-statistics/null-hypothesis/#state) the currently accepted [truth](https://www.statisticshowto.com/probability-and-statistics/hypothesis-testing/).  The burden of proof then falls on the researcher to disprove this and reject the current status quo in favor of something else."
   ]
  },
  {
   "cell_type": "code",
   "execution_count": 59,
   "id": "eee16ede",
   "metadata": {
    "ExecuteTime": {
     "end_time": "2023-09-08T14:20:08.062342Z",
     "start_time": "2023-09-08T14:20:08.015285Z"
    }
   },
   "outputs": [
    {
     "name": "stdout",
     "output_type": "stream",
     "text": [
      "Training set on fold 1 :\n",
      " [[11.62  1.99]\n",
      " [13.69  3.26]\n",
      " [12.69  1.53]]\n",
      "Test set on fold 1 :\n",
      " [[13.4   3.91]\n",
      " [13.5   1.81]]\n",
      "---------------------------------\n",
      "Training set on fold 2 :\n",
      " [[11.62  1.99]\n",
      " [12.69  1.53]\n",
      " [13.5   1.81]]\n",
      "Test set on fold 2 :\n",
      " [[13.69  3.26]\n",
      " [13.4   3.91]]\n",
      "---------------------------------\n",
      "Training set on fold 3 :\n",
      " [[11.62  1.99]\n",
      " [13.5   1.81]\n",
      " [12.69  1.53]]\n",
      "Test set on fold 3 :\n",
      " [[13.4   3.91]\n",
      " [13.69  3.26]]\n",
      "---------------------------------\n"
     ]
    }
   ],
   "source": [
    "for loop in range(3):\n",
    "    X_, y_ = sklearn.utils.shuffle(X_train[:5,:2], y_train[:5], random_state=loop)\n",
    "    X_train_ = X_[:3]\n",
    "    X_test_ = X_[3:]\n",
    "    print('Training set on fold {} :\\n {}'.format(loop+1, X_train_))\n",
    "    print('Test set on fold {} :\\n {}'.format(loop+1, X_test_))\n",
    "    print('---------------------------------')"
   ]
  },
  {
   "cell_type": "markdown",
   "id": "884867dd",
   "metadata": {},
   "source": [
    "The k-fold CV paired t-test\n",
    "---\n",
    "\n",
    "A slight improvement: split data into k disjoint folds (as in CV), and **using the same data split** evaluate each model.  The problem is now that each data point contributes to exactly $k-1$ training sets; therefore the scores estimated from the remaining fold will still be correlated, in general, because they are trained (and tested) on some of the same data.  However, note that when $k=2$ the data overlap problem goes away! The tradeoff is that we have only 2 estimates of the performance (2 test sets)."
   ]
  },
  {
   "cell_type": "code",
   "execution_count": 119,
   "id": "1e02c239",
   "metadata": {
    "ExecuteTime": {
     "end_time": "2023-09-08T15:49:54.768575Z",
     "start_time": "2023-09-08T15:49:54.722597Z"
    }
   },
   "outputs": [
    {
     "name": "stdout",
     "output_type": "stream",
     "text": [
      "[ 1  6  9 10 11 13 14 16 17 19] [ 0  2  3  4  5  7  8 12 15 18]\n",
      "[ 0  2  3  4  5  7  8 12 15 18] [ 1  6  9 10 11 13 14 16 17 19]\n"
     ]
    }
   ],
   "source": [
    "cv = sklearn.model_selection.StratifiedKFold(n_splits=2, random_state=42, shuffle=True)\n",
    "\n",
    "for train_index, test_index in cv.split(X_train[:20], y_train[:20]):\n",
    "    print(train_index, test_index)"
   ]
  },
  {
   "cell_type": "code",
   "execution_count": 120,
   "id": "14c4dd49",
   "metadata": {
    "ExecuteTime": {
     "end_time": "2023-09-08T15:49:58.733737Z",
     "start_time": "2023-09-08T15:49:58.682831Z"
    }
   },
   "outputs": [],
   "source": [
    "# We can then evalute a model on each test set using cross-validation\n",
    "scores = cross_val_score(\n",
    "    estimator=DecisionTreeClassifier(random_state=0, max_depth=3), \n",
    "    X=X_train[:20],\n",
    "    y=y_train[:20],\n",
    "    cv=cv\n",
    ")"
   ]
  },
  {
   "cell_type": "markdown",
   "id": "14201ecc",
   "metadata": {
    "ExecuteTime": {
     "end_time": "2023-09-08T14:03:57.849142Z",
     "start_time": "2023-09-08T14:03:57.809594Z"
    }
   },
   "source": [
    "This produces k estimates which we can get a mean and uncertainty from."
   ]
  },
  {
   "cell_type": "code",
   "execution_count": 121,
   "id": "fa21b10b",
   "metadata": {
    "ExecuteTime": {
     "end_time": "2023-09-08T15:49:59.756331Z",
     "start_time": "2023-09-08T15:49:59.716314Z"
    }
   },
   "outputs": [
    {
     "name": "stdout",
     "output_type": "stream",
     "text": [
      "Raw scores: [0.6 0.5]\n",
      "Mean : 0.550\n",
      "St. Dev. : 0.050\n"
     ]
    }
   ],
   "source": [
    "print('Raw scores: {}\\nMean : {}\\nSt. Dev. : {}'.format(scores, '%.3f'%np.mean(scores), '%.3f'%np.std(scores)))"
   ]
  },
  {
   "cell_type": "markdown",
   "id": "9162b88c",
   "metadata": {},
   "source": [
    "The repeated k-fold CV paired t-test\n",
    "---"
   ]
  },
  {
   "cell_type": "markdown",
   "id": "f45ee2b0",
   "metadata": {},
   "source": [
    "Using $k=2$ helped remove the some bias due to re-use of data in training sets, but 2 error estimates is really not enough to be very helpful.  [Dietterich popularized](http://citeseerx.ist.psu.edu/viewdoc/download?doi=10.1.1.37.3325&rep=rep1&type=pdf) a 5x2 repeated CV scheme.  This essentially combines both ideas from the last section by shuffling the data differently 5 times, then doing 2-fold CV in each shuffle.  Of course, this re-uses data due to the reshuffling and so estimates are not completely independent, but was shown to have a tolerably elevated [Type I error rate](https://en.wikipedia.org/wiki/Type_I_and_type_II_errors).  Still, this gives us 10 estimates instead of 2."
   ]
  },
  {
   "cell_type": "code",
   "execution_count": 125,
   "id": "e2c1d065",
   "metadata": {
    "ExecuteTime": {
     "end_time": "2023-09-08T15:55:29.108010Z",
     "start_time": "2023-09-08T15:55:29.059363Z"
    }
   },
   "outputs": [
    {
     "name": "stdout",
     "output_type": "stream",
     "text": [
      "Fold 0:\n",
      "  Train: index=[0 3 5 6 7]\n",
      "  Test:  index=[1 2 4 8 9]\n",
      "Fold 1:\n",
      "  Train: index=[1 2 4 8 9]\n",
      "  Test:  index=[0 3 5 6 7]\n",
      "Fold 2:\n",
      "  Train: index=[0 4 6 7 8]\n",
      "  Test:  index=[1 2 3 5 9]\n",
      "Fold 3:\n",
      "  Train: index=[1 2 3 5 9]\n",
      "  Test:  index=[0 4 6 7 8]\n",
      "Fold 4:\n",
      "  Train: index=[0 1 6 7 9]\n",
      "  Test:  index=[2 3 4 5 8]\n",
      "Fold 5:\n",
      "  Train: index=[2 3 4 5 8]\n",
      "  Test:  index=[0 1 6 7 9]\n",
      "Fold 6:\n",
      "  Train: index=[0 3 4 5 8]\n",
      "  Test:  index=[1 2 6 7 9]\n",
      "Fold 7:\n",
      "  Train: index=[1 2 6 7 9]\n",
      "  Test:  index=[0 3 4 5 8]\n",
      "Fold 8:\n",
      "  Train: index=[0 3 6 8 9]\n",
      "  Test:  index=[1 2 4 5 7]\n",
      "Fold 9:\n",
      "  Train: index=[1 2 4 5 7]\n",
      "  Test:  index=[0 3 6 8 9]\n"
     ]
    }
   ],
   "source": [
    "# Here is a simple example of how this splitting occurs\n",
    "X_dummy = X_train[:10] \n",
    "y_dummy = y_train[:10] \n",
    "\n",
    "rkf = RepeatedKFold(n_splits=2, n_repeats=5, random_state=0)\n",
    "rkf.get_n_splits(X_dummy, y_dummy)\n",
    "\n",
    "for i, (train_index, test_index) in enumerate(rkf.split(X_dummy)):\n",
    "    print(f\"Fold {i}:\")\n",
    "    print(f\"  Train: index={train_index}\")\n",
    "    print(f\"  Test:  index={test_index}\")"
   ]
  },
  {
   "cell_type": "code",
   "execution_count": 153,
   "id": "bb326c2c",
   "metadata": {
    "ExecuteTime": {
     "end_time": "2023-09-08T16:49:55.806203Z",
     "start_time": "2023-09-08T16:49:55.693759Z"
    }
   },
   "outputs": [],
   "source": [
    "# Here is how 5x2 repeated CV is performed\n",
    "rkf = RepeatedStratifiedKFold(n_splits=2, n_repeats=5, random_state=0)\n",
    "\n",
    "pipe1 = pipe_svc = Pipeline(steps=[\n",
    "            (\"scaler\", CorrectedScaler()),\n",
    "            (\"model\", SVC(C=1.0))\n",
    "        ])\n",
    "pipe2 = DecisionTreeClassifier(random_state=0, max_depth=3)\n",
    "\n",
    "scores1 = []\n",
    "scores2 = []\n",
    "for train_index, test_index in rkf.split(X_train, y_train):\n",
    "    X_train_, X_test_ = X_train[train_index], X_train[test_index]\n",
    "    y_train_, y_test_ = y_train[train_index], y_train[test_index]\n",
    "\n",
    "    # Train both pipelines on the same data and evaluate on the same test set\n",
    "    pipe1.fit(X_train_, y_train_)\n",
    "    scores1.append(pipe1.score(X_test_, y_test_))\n",
    "\n",
    "    pipe2.fit(X_train_, y_train_)\n",
    "    scores2.append(pipe2.score(X_test_, y_test_))"
   ]
  },
  {
   "cell_type": "code",
   "execution_count": 154,
   "id": "93f6cd24",
   "metadata": {
    "ExecuteTime": {
     "end_time": "2023-09-08T16:49:55.891514Z",
     "start_time": "2023-09-08T16:49:55.857679Z"
    }
   },
   "outputs": [],
   "source": [
    "# We can take the difference from each run because both pipelines tested/trained on the same data each time\n",
    "difference = np.array(scores2) - np.array(scores1)"
   ]
  },
  {
   "cell_type": "code",
   "execution_count": 155,
   "id": "126b2dae",
   "metadata": {
    "ExecuteTime": {
     "end_time": "2023-09-08T16:49:56.023416Z",
     "start_time": "2023-09-08T16:49:55.987074Z"
    }
   },
   "outputs": [
    {
     "data": {
      "text/plain": [
       "array([-0.07042254, -0.12676056, -0.11267606, -0.07042254, -0.05633803,\n",
       "        0.        , -0.05633803, -0.05633803, -0.05633803,  0.        ])"
      ]
     },
     "execution_count": 155,
     "metadata": {},
     "output_type": "execute_result"
    }
   ],
   "source": [
    "difference"
   ]
  },
  {
   "cell_type": "code",
   "execution_count": 156,
   "id": "59e0a6c4",
   "metadata": {
    "ExecuteTime": {
     "end_time": "2023-09-08T16:49:56.241305Z",
     "start_time": "2023-09-08T16:49:56.124071Z"
    }
   },
   "outputs": [],
   "source": [
    "# You can get identical results from cross_val_score like this\n",
    "scores1 = cross_val_score(\n",
    "    estimator=pipe1, \n",
    "    X=X_train,\n",
    "    y=y_train,\n",
    "    cv=rkf,\n",
    ")\n",
    "\n",
    "scores2 = cross_val_score(\n",
    "    estimator=pipe2, \n",
    "    X=X_train,\n",
    "    y=y_train,\n",
    "    cv=rkf\n",
    ")\n",
    "\n",
    "difference = np.array(scores2) - np.array(scores1)"
   ]
  },
  {
   "cell_type": "code",
   "execution_count": 157,
   "id": "004b671f",
   "metadata": {
    "ExecuteTime": {
     "end_time": "2023-09-08T16:49:56.489599Z",
     "start_time": "2023-09-08T16:49:56.453239Z"
    }
   },
   "outputs": [
    {
     "data": {
      "text/plain": [
       "array([-0.07042254, -0.12676056, -0.11267606, -0.07042254, -0.05633803,\n",
       "        0.        , -0.05633803, -0.05633803, -0.05633803,  0.        ])"
      ]
     },
     "execution_count": 157,
     "metadata": {},
     "output_type": "execute_result"
    }
   ],
   "source": [
    "difference"
   ]
  },
  {
   "cell_type": "markdown",
   "id": "0f3473c5",
   "metadata": {},
   "source": [
    "**Importantly,** the t-statistic used by Dietterich is modified from a conventional t-statistic, but we will not use it here anyway.  A example implementation is discussed [here](https://www.kaggle.com/code/ogrellier/parameter-tuning-5-x-2-fold-cv-statistical-test/notebook).\n",
    "\n",
    "In general we can perform CV any number of times to get many test performances.  The main use for repeated k-fold CV is to compare different ML models to assess their relative performance.  Because of the repetition, you can get a good mean and error estimate of each model to perform a t-test to see if one statistically outperforms others.   \n",
    "\n",
    "Assuming $n = r \\times k$ runs have been performed, we can define the difference in test set performances between algorithms A and B for a fold in a certain repeat is $x_j = A_j - B_j$, and $\\hat{s}^2 = \\frac{1}{n-1}\\sum(x_j - \\bar{x})^2$ (unbiased sample variance).  This is used with the Student's t distribution and $n-1$ degrees of freedom.\n",
    "\n",
    "$$\n",
    "t = \\frac{ \\frac{1}{n} \\sum_{j=1}^n x_j}{\\sqrt{ \\hat{s}^2 } /\\sqrt{n} } =  \\frac{ \\frac{1}{n} \\sum_{j=1}^n x_j}{\\sqrt{ \\frac{1}{n} \\hat{s}^2 } }\n",
    "$$\n",
    "\n",
    "Dietterich originally found that the standard t-statistic was elevated and therefore needed some correction so he used a different forumala;  [Nadeau & Bengio suggested a different correction](https://link.springer.com/article/10.1023/A:1024068626366) to the t-statistic which is designed to \"overestimate the variance to yield conservative inference.\" This has a similar effect of deflating the t-statistic to account for correlations between the data folds. Here, $\\rho = 1/k$ is the fraction of the data used for training.\n",
    "\n",
    "$$\n",
    "t_{\\rm corrected} =  \\frac{ \\frac{1}{n} \\sum_{j=1}^n x_j}{\\sqrt{ \\left( \\frac{1}{n} + \\frac{\\rho}{1 - \\rho} \\right) \\hat{s}^2 } }\n",
    "$$\n",
    "\n",
    "In 2004, [Bouckaert & Frank](https://link.springer.com/chapter/10.1007/978-3-540-24775-3_3) argued that reproducility is more important than minimizing type I error; this depends strongly on how the data is partitioned since different researchers will probably have different RNG seeds when trying to repeat each others' work. Instead they recommend either (a) 100 runs of random resampling or (b) 10×10 repeated cross-validation with the Nadeau and Bengio correction (discussed above).  Interestingly, (a) is the worst thing you can do according to Dietterich, so the latter is recommended."
   ]
  },
  {
   "cell_type": "code",
   "execution_count": 158,
   "id": "0bda45e1",
   "metadata": {
    "ExecuteTime": {
     "end_time": "2023-09-08T16:49:59.517730Z",
     "start_time": "2023-09-08T16:49:59.479000Z"
    }
   },
   "outputs": [
    {
     "name": "stdout",
     "output_type": "stream",
     "text": [
      "SVC outperforms the Tree\n"
     ]
    }
   ],
   "source": [
    "from pychemauth.analysis.compare import Compare\n",
    "\n",
    "# You can perform a 2-sided test to check if algorithms are different; however, it is often the case that we develop a \n",
    "# simpler algorithm that might appear to perform a bit worse than some state-of-the-art one, and we need to check if\n",
    "# its underperformance is actually statistically significant.  For this we can perform 1-sided test to see if the mean\n",
    "# performance of the model with the better average is, in fact, better than the one that is worse.\n",
    "\n",
    "# Here the SVC (scores1) seem to be better than the decision tree (scores2).  Let's do a 1-sided hypothesis test.\n",
    "\n",
    "alpha = 0.05\n",
    "p_value = Compare.corrected_t(scores1, scores2, n_repeats=5)\n",
    "\n",
    "if p_value < alpha:\n",
    "    print('Pipelines are about the same')\n",
    "else:\n",
    "    print('SVC outperforms the Tree')"
   ]
  },
  {
   "cell_type": "markdown",
   "id": "f7ebaefa",
   "metadata": {},
   "source": [
    "The nested k-fold paired t-test\n",
    "---"
   ]
  },
  {
   "cell_type": "markdown",
   "id": "d3431680",
   "metadata": {},
   "source": [
    "In the previous notebook we used nested CV because we needed to get an error estimate that accounts for both the model and its hyperparameter search.  In principle, we can simply apply the corrected t-statistic to the results from these test folds. \n",
    "\n",
    "![title](https://github.com/rasbt/python-machine-learning-book-3rd-edition/blob/master/ch06/images/06_07.png?raw=true){ width=500px }\n",
    "\n",
    "In this 5x2 nested CV example, we would have 5 test set estimates (r=1, k=5) and can use the corrected t-test above, and/or repeat this several times so that r > 1.\n",
    "\n"
   ]
  },
  {
   "cell_type": "code",
   "execution_count": 355,
   "id": "7e610f18",
   "metadata": {
    "ExecuteTime": {
     "end_time": "2023-09-08T19:30:01.680117Z",
     "start_time": "2023-09-08T19:30:01.634845Z"
    }
   },
   "outputs": [],
   "source": [
    "def make_svc(k_inner, random_state_inner=42):\n",
    "    pipe_svc = Pipeline(steps=[\n",
    "        (\"scaler\", CorrectedScaler()),\n",
    "        (\"model\", SVC())\n",
    "    ])\n",
    "    gs_svc = GridSearchCV(\n",
    "        estimator=pipe_svc,\n",
    "        param_grid=[{'model__C': [0.0001, 0.001, 0.01, 0.1, 1.0, 10.0, 100.0, 1000.0]}],\n",
    "        scoring='accuracy',\n",
    "        cv=sklearn.model_selection.StratifiedKFold( # Since this is a classification problem we will stratify\n",
    "            n_splits=k_inner,\n",
    "            shuffle=True,\n",
    "            random_state=random_state_inner\n",
    "        ),\n",
    "        refit=True\n",
    "    )\n",
    "    \n",
    "    return gs_svc\n",
    "\n",
    "def make_tree(k_inner, random_state_inner=42):\n",
    "    gs_tree = GridSearchCV(\n",
    "        estimator=DecisionTreeClassifier(random_state=0),\n",
    "        param_grid=[{'max_depth': [1, 2, 3, 4, 5, 6, 7, None]}],\n",
    "        scoring='accuracy',\n",
    "        cv=sklearn.model_selection.StratifiedKFold( # Since this is a classification problem we will stratify\n",
    "            n_splits=k_inner,\n",
    "            shuffle=True,\n",
    "            random_state=random_state_inner\n",
    "        ),\n",
    "        refit=True\n",
    "    )\n",
    "    \n",
    "    return gs_tree\n",
    "\n",
    "def perform_nested_cv(inner_model, k_outer, random_state_outer=42):\n",
    "    scores = cross_val_score(\n",
    "        inner_model, \n",
    "        X_train, \n",
    "        y_train, \n",
    "        scoring='accuracy', \n",
    "        cv=sklearn.model_selection.StratifiedKFold(\n",
    "            n_splits=k_outer,\n",
    "            shuffle=True,\n",
    "            random_state=random_state_outer\n",
    "        )\n",
    "    )\n",
    "    \n",
    "    return scores\n",
    "    \n",
    "def compare_pipelines(k_inner, k_outer, X_train, y_train, n_repeats=1, verbose=True):\n",
    "    \"\"\"These values need to be the same to make a fair comparison\"\"\"\n",
    "    \n",
    "    scores_svc = []\n",
    "    scores_tree = []\n",
    "    for r in np.arange(n_repeats):\n",
    "        k_inner = k_inner\n",
    "        k_outer = k_outer\n",
    "        random_state_inner = 42+r # Be sure to use different seeds on each repeat\n",
    "        random_state_outer = 0+r  # Be sure to use different seeds on each repeat\n",
    "\n",
    "        scores = perform_nested_cv(\n",
    "            make_svc(k_inner=k_inner, random_state_inner=random_state_inner), \n",
    "            k_outer=k_outer, \n",
    "            random_state_outer=random_state_outer\n",
    "        ).tolist()\n",
    "        scores_svc += scores\n",
    "        if verbose:\n",
    "            print('%d : %dx%d Nested CV accuracy for SVC: %.3f +/- %.3f' % (r+1, k_outer, k_inner, np.mean(scores), np.std(scores)))\n",
    "\n",
    "        scores = perform_nested_cv(\n",
    "            make_tree(k_inner=k_inner, random_state_inner=random_state_inner), \n",
    "            k_outer=k_outer, \n",
    "            random_state_outer=random_state_outer\n",
    "        ).tolist()\n",
    "        scores_tree += scores\n",
    "        if verbose:\n",
    "            print('%d : %dx%d Nested CV accuracy for Tree: %.3f +/- %.3f' % (r+1, k_outer, k_inner, np.mean(scores), np.std(scores)))\n",
    "    \n",
    "    return scores_svc, scores_tree"
   ]
  },
  {
   "cell_type": "code",
   "execution_count": 356,
   "id": "35c17f73",
   "metadata": {
    "ExecuteTime": {
     "end_time": "2023-09-08T19:30:02.433579Z",
     "start_time": "2023-09-08T19:30:01.902700Z"
    }
   },
   "outputs": [
    {
     "name": "stdout",
     "output_type": "stream",
     "text": [
      "1 : 5x2 Nested CV accuracy for SVC: 0.979 +/- 0.041\n",
      "1 : 5x2 Nested CV accuracy for Tree: 0.915 +/- 0.043\n"
     ]
    }
   ],
   "source": [
    "n_repeats = 1\n",
    "scores_svc, scores_tree = compare_pipelines(k_inner=2, k_outer=5, X_train=X_train, y_train=y_train, n_repeats=n_repeats)"
   ]
  },
  {
   "cell_type": "code",
   "execution_count": 357,
   "id": "abaf666d",
   "metadata": {
    "ExecuteTime": {
     "end_time": "2023-09-08T19:30:02.463206Z",
     "start_time": "2023-09-08T19:30:02.436501Z"
    }
   },
   "outputs": [
    {
     "name": "stdout",
     "output_type": "stream",
     "text": [
      "Pipelines are about the same\n"
     ]
    }
   ],
   "source": [
    "alpha = 0.05\n",
    "p_value = Compare.corrected_t(\n",
    "    scores_svc, # One with the best average\n",
    "    scores_tree,\n",
    "    n_repeats=n_repeats \n",
    ")\n",
    "\n",
    "if p_value < alpha:\n",
    "    print('SVC outperforms the Tree') \n",
    "else:\n",
    "    print('Pipelines are about the same')"
   ]
  },
  {
   "cell_type": "code",
   "execution_count": 316,
   "id": "88669e42",
   "metadata": {
    "ExecuteTime": {
     "end_time": "2023-09-08T18:29:50.600656Z",
     "start_time": "2023-09-08T18:29:20.933444Z"
    }
   },
   "outputs": [
    {
     "name": "stdout",
     "output_type": "stream",
     "text": [
      "0.9793103448275862 0.04137931034482758 0.9295566502463055 0.0448072817113249\n",
      "0.9171638385682799\n",
      "0.9789408866995073 0.03176981879244792 0.929679802955665 0.038586123882763286\n",
      "1.4617850564528059\n",
      "0.9790640394088669 0.03043973599692923 0.9273399014778324 0.03508159358988015\n",
      "2.1280522448869092\n",
      "0.9789408866995073 0.02998433387778676 0.9241995073891625 0.0377387708549826\n",
      "2.79884855256257\n",
      "0.9775369458128079 0.02935539031460323 0.9280788177339904 0.038085858932608706\n",
      "2.878787710839061\n",
      "0.9788998357963875 0.029384648221041098 0.9260673234811166 0.041897851689458074\n",
      "2.874104135651142\n",
      "0.977832512315271 0.034834090371882585 0.9254750175932444 0.041960178778806485\n",
      "3.1549123662292797\n",
      "0.9779556650246304 0.03315507900387305 0.9232758620689655 0.042547612480804846\n",
      "3.5910471622822406\n"
     ]
    }
   ],
   "source": [
    "p_values = []\n",
    "n_repeats = [1, 2, 3, 4, 5, 6, 7, 8]\n",
    "\n",
    "for n in n_repeats:\n",
    "    scores_svc, scores_tree = compare_pipelines(X_train, y_train, n_repeats=n, verbose=False)\n",
    "    p_values += [Compare.corrected_t(\n",
    "        scores_svc, # One with the best average\n",
    "        scores_tree,\n",
    "        n_repeats=n \n",
    "    )]"
   ]
  },
  {
   "cell_type": "code",
   "execution_count": 301,
   "id": "6e14dc66",
   "metadata": {
    "ExecuteTime": {
     "end_time": "2023-09-08T18:17:18.223874Z",
     "start_time": "2023-09-08T18:17:18.046536Z"
    }
   },
   "outputs": [
    {
     "data": {
      "image/png": "[encoded data removed]",
      "text/plain": [
       "<Figure size 640x480 with 1 Axes>"
      ]
     },
     "metadata": {},
     "output_type": "display_data"
    }
   ],
   "source": [
    "plt.plot(n_repeats, p_values)\n",
    "plt.axhline(0.05, color='red')\n",
    "plt.xlabel('Number of Repeats')\n",
    "plt.ylabel('P Value')\n",
    "_ = plt.xticks(n_repeats)"
   ]
  },
  {
   "cell_type": "code",
   "execution_count": null,
   "id": "b8d7b7ad",
   "metadata": {},
   "outputs": [],
   "source": []
  },
  {
   "cell_type": "code",
   "execution_count": null,
   "id": "c343bd29",
   "metadata": {},
   "outputs": [],
   "source": []
  },
  {
   "cell_type": "code",
   "execution_count": null,
   "id": "03f7bf0a",
   "metadata": {},
   "outputs": [],
   "source": []
  },
  {
   "cell_type": "code",
   "execution_count": null,
   "id": "1deb15d6",
   "metadata": {},
   "outputs": [],
   "source": []
  },
  {
   "cell_type": "code",
   "execution_count": 334,
   "id": "5b5c1634",
   "metadata": {
    "ExecuteTime": {
     "end_time": "2023-09-08T18:54:25.140577Z",
     "start_time": "2023-09-08T18:54:25.094605Z"
    }
   },
   "outputs": [],
   "source": [
    "def repeated_kfold_cv(k, n_repeats, k_train, random_state_inner, random_state_outer):\n",
    "    p_values = []\n",
    "    \n",
    "    for n in n_repeats:\n",
    "        scores_svc, scores_tree = Compare.repeated_kfold(\n",
    "            make_svc(k_train, random_state_inner=random_state_inner),\n",
    "            make_tree(k_train, random_state_inner=random_state_inner),\n",
    "            X_train, \n",
    "            y_train, \n",
    "            n_repeats=n, \n",
    "            k=k, \n",
    "            stratify=True, \n",
    "            random_state=random_state_outer\n",
    "        )\n",
    "\n",
    "        p_values += [Compare.corrected_t(\n",
    "            scores_svc, # One with the best average\n",
    "            scores_tree,\n",
    "            n_repeats=n \n",
    "        )]\n",
    "        \n",
    "    return p_values\n",
    "\n",
    "from pychemauth.analysis.cross_validation import NestedCV\n",
    "\n",
    "def compare_ncv(k, k_train):\n",
    "    ncv = NestedCV(k_inner=k_train, k_outer=k)\n",
    "    scores_svc = ncv.grid_search(\n",
    "        pipeline = Pipeline(steps=[\n",
    "            (\"scaler\", CorrectedScaler()),\n",
    "            (\"model\", SVC())\n",
    "        ]),\n",
    "        param_grid=[{'model__C': [0.0001, 0.001, 0.01, 0.1, 1.0, 10.0, 100.0, 1000.0]}],\n",
    "        X=X_train,\n",
    "        y=y_train,\n",
    "        classification=True,\n",
    "    )\n",
    "    \n",
    "    ncv = NestedCV(k_inner=k_train, k_outer=k)\n",
    "    scores_tree = ncv.grid_search(\n",
    "        pipeline = Pipeline(steps=[\n",
    "            (\"tree\", DecisionTreeClassifier(random_state=0)),\n",
    "        ]),\n",
    "        param_grid=[{'tree__max_depth': [1, 2, 3, 4, 5, 6, 7, None]}],\n",
    "        X=X_train,\n",
    "        y=y_train,\n",
    "        classification=True,\n",
    "    )\n",
    "    \n",
    "    p_value = Compare.corrected_t(\n",
    "        scores_svc, # One with the best average\n",
    "        scores_tree,\n",
    "        n_repeats=k\n",
    "    )\n",
    "    \n",
    "    return p_value"
   ]
  },
  {
   "cell_type": "code",
   "execution_count": 353,
   "id": "d1ea872c",
   "metadata": {
    "ExecuteTime": {
     "end_time": "2023-09-08T19:18:18.987909Z",
     "start_time": "2023-09-08T19:13:44.289627Z"
    }
   },
   "outputs": [],
   "source": [
    "n_repeats=[1, 2, 3, 4, 5, 6, 7, 8]\n",
    "k_linked = 20\n",
    "\n",
    "# Each loop has k*n_repeats total values\n",
    "p_values_rkf = repeated_kfold_cv(\n",
    "    k=k_linked, \n",
    "    n_repeats=n_repeats, \n",
    "    k_train=5, \n",
    "    random_state_inner=42, \n",
    "    random_state_outer=0\n",
    ")\n",
    "\n",
    "# Each loop here has k*k_train total values\n",
    "p_values_ncv = []\n",
    "for k in n_repeats[1:]:\n",
    "    p_values_ncv += [compare_ncv(k=k, k_train=k_linked)]\n",
    "    \n",
    "# Each loop here has k_outer*n_repeats total values\n",
    "p_values_on = []\n",
    "for n in n_repeats:\n",
    "    scores_svc, scores_tree = compare_pipelines(k_inner=5, k_outer=k_linked, X_train=X_train, y_train=y_train, n_repeats=n, verbose=False)\n",
    "    p_values_on += [Compare.corrected_t(\n",
    "        scores_svc, # One with the best average\n",
    "        scores_tree,\n",
    "        n_repeats=n \n",
    "    )]"
   ]
  },
  {
   "cell_type": "code",
   "execution_count": 354,
   "id": "169d4e56",
   "metadata": {
    "ExecuteTime": {
     "end_time": "2023-09-08T19:19:17.655615Z",
     "start_time": "2023-09-08T19:19:17.453783Z"
    }
   },
   "outputs": [
    {
     "data": {
      "image/png": "[encoded data removed]",
      "text/plain": [
       "<Figure size 640x480 with 1 Axes>"
      ]
     },
     "metadata": {},
     "output_type": "display_data"
    }
   ],
   "source": [
    "plt.plot(n_repeats, p_values_rkf, label='RKF')\n",
    "plt.plot(n_repeats[1:], p_values_ncv, label='NCV')\n",
    "plt.plot(n_repeats, p_values_on, label='Outer NCV')\n",
    "plt.axhline(0.05, color='red')\n",
    "plt.xlabel('Number of Repeats')\n",
    "plt.ylabel('P Value')\n",
    "_ = plt.xticks(n_repeats)"
   ]
  },
  {
   "cell_type": "code",
   "execution_count": null,
   "id": "9f9776ba",
   "metadata": {},
   "outputs": [],
   "source": []
  },
  {
   "cell_type": "code",
   "execution_count": null,
   "id": "7c79556e",
   "metadata": {},
   "outputs": [],
   "source": []
  },
  {
   "cell_type": "code",
   "execution_count": null,
   "id": "e118797a",
   "metadata": {},
   "outputs": [],
   "source": []
  },
  {
   "cell_type": "code",
   "execution_count": null,
   "id": "5821e7fd",
   "metadata": {},
   "outputs": [],
   "source": []
  },
  {
   "cell_type": "code",
   "execution_count": null,
   "id": "8a345123",
   "metadata": {},
   "outputs": [],
   "source": []
  },
  {
   "cell_type": "markdown",
   "id": "23a89688",
   "metadata": {},
   "source": [
    "There is sometimes confusion surrounding the terminology since nested CV is sometimes referred to as $m \\times n$ *nested* CV, while repeated CV is just called $m \\times n$ CV.  Because of the cost $5 \\times 2$ nested CV is commonly employed, but historically, $5 \\times 2$ repeated CV has been used to compare model performances by using statistical tests.  Both are sometimes referred to as simply $5 \\times 2$ CV, but they are **not the same.**\n",
    "\n",
    "See this stackexchange [discussion](https://stats.stackexchange.com/questions/151710/nested-cross-validation-how-is-it-different-from-model-selection-via-kfold-cv)."
   ]
  },
  {
   "cell_type": "code",
   "execution_count": null,
   "id": "6d859c55",
   "metadata": {},
   "outputs": [],
   "source": [
    "however, because of Cawley paper we can also just try to use the inner folds\n",
    "\n",
    "so many other biases anywy..."
   ]
  },
  {
   "cell_type": "code",
   "execution_count": null,
   "id": "5ead63fd",
   "metadata": {},
   "outputs": [],
   "source": []
  },
  {
   "cell_type": "markdown",
   "id": "c2658066",
   "metadata": {
    "ExecuteTime": {
     "end_time": "2023-09-07T15:08:42.925280Z",
     "start_time": "2023-09-07T15:08:42.905020Z"
    }
   },
   "source": [
    "Bayesian Comparison\n",
    "---"
   ]
  },
  {
   "cell_type": "markdown",
   "id": "a9be59b5",
   "metadata": {},
   "source": [
    "See \"Time for a Change: a Tutorial for Comparing Multiple Classifiers Through Bayesian Analysis\", Alessio Benavoli, Giorgio Corani, Janez Demšar, Marco Zaffalon. Journal of Machine Learning Research, 18 (2017) 1-36.\n",
    "\n",
    "They have an associated [github repo](https://github.com/janezd/baycomp) and [documentation](https://baycomp.readthedocs.io/en/latest/) that discusses the advantages of using Bayesian methods to compare ML pipelines instead of frequentist statistics (hypothesis testing).\n",
    "\n",
    "More discussion [here](https://www.statisticshowto.com/probability-and-statistics/hypothesis-testing/) on the argument for (and against) using Bayesian statistics instead of frequentist."
   ]
  }
 ],
 "metadata": {
  "kernelspec": {
   "display_name": "oyster-provenance",
   "language": "python",
   "name": "oyster-provenance"
  },
  "language_info": {
   "codemirror_mode": {
    "name": "ipython",
    "version": 3
   },
   "file_extension": ".py",
   "mimetype": "text/x-python",
   "name": "python",
   "nbconvert_exporter": "python",
   "pygments_lexer": "ipython3",
   "version": "3.11.4"
  }
 },
 "nbformat": 4,
 "nbformat_minor": 5
}
