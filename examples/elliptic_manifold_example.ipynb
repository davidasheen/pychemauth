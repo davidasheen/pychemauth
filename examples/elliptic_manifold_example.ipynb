{
 "cells": [
  {
   "cell_type": "markdown",
   "metadata": {
    "toc": true
   },
   "source": [
    "<h1>Table of Contents<span class=\"tocSkip\"></span></h1>\n",
    "<div class=\"toc\"><ul class=\"toc-item\"><li><ul class=\"toc-item\"><li><span><a href=\"#Overview\" data-toc-modified-id=\"Overview-0.1\"><span class=\"toc-item-num\">0.1&nbsp;&nbsp;</span>Overview</a></span></li></ul></li><li><span><a href=\"#Load-Data\" data-toc-modified-id=\"Load-Data-1\"><span class=\"toc-item-num\">1&nbsp;&nbsp;</span>Load Data</a></span></li><li><span><a href=\"#Kernel-PCA-Example\" data-toc-modified-id=\"Kernel-PCA-Example-2\"><span class=\"toc-item-num\">2&nbsp;&nbsp;</span>Kernel PCA Example</a></span></li><li><span><a href=\"#Isomap-Example\" data-toc-modified-id=\"Isomap-Example-3\"><span class=\"toc-item-num\">3&nbsp;&nbsp;</span>Isomap Example</a></span></li><li><span><a href=\"#LLE-Example\" data-toc-modified-id=\"LLE-Example-4\"><span class=\"toc-item-num\">4&nbsp;&nbsp;</span>LLE Example</a></span></li><li><span><a href=\"#UMAP-Example\" data-toc-modified-id=\"UMAP-Example-5\"><span class=\"toc-item-num\">5&nbsp;&nbsp;</span>UMAP Example</a></span></li></ul></div>"
   ]
  },
  {
   "cell_type": "code",
   "execution_count": null,
   "metadata": {
    "colab": {
     "base_uri": "https://localhost:8080/"
    },
    "executionInfo": {
     "elapsed": 19148,
     "status": "ok",
     "timestamp": 1644609550437,
     "user": {
      "displayName": "Nathan Mahynski",
      "photoUrl": "https://lh3.googleusercontent.com/a-/AOh14GiUlAIKCPEpbG_va5l0d5MOrKuPRHHZGu7-AEYw-A=s64",
      "userId": "00044706541353398741"
     },
     "user_tz": 300
    },
    "id": "iwjivImc5erp",
    "outputId": "1c060067-7b0e-4092-a48d-f97fca4d27a4"
   },
   "outputs": [],
   "source": [
    "using_colab = 'google.colab' in str(get_ipython())\n",
    "if using_colab:\n",
    "    !git clone https://github.com/mahynski/pychemauth.git --depth 1\n",
    "    !cd pychemauth; pip3 install .; cd ..\n",
    "\n",
    "import pychemauth\n",
    "\n",
    "import matplotlib.pyplot as plt\n",
    "%matplotlib notebook\n",
    "\n",
    "import watermark\n",
    "%load_ext watermark\n",
    "\n",
    "%load_ext autoreload\n",
    "%autoreload 2"
   ]
  },
  {
   "cell_type": "code",
   "execution_count": null,
   "metadata": {
    "executionInfo": {
     "elapsed": 1088,
     "status": "ok",
     "timestamp": 1644609551518,
     "user": {
      "displayName": "Nathan Mahynski",
      "photoUrl": "https://lh3.googleusercontent.com/a-/AOh14GiUlAIKCPEpbG_va5l0d5MOrKuPRHHZGu7-AEYw-A=s64",
      "userId": "00044706541353398741"
     },
     "user_tz": 300
    },
    "id": "hUTuGcIu7hwn"
   },
   "outputs": [],
   "source": [
    "import numpy as np\n",
    "import sklearn.decomposition\n",
    "import sklearn.manifold\n",
    "\n",
    "from pychemauth.manifold.elliptic import EllipticManifold"
   ]
  },
  {
   "cell_type": "markdown",
   "metadata": {
    "id": "Xt_ihpi96oR4"
   },
   "source": [
    "Overview\n",
    "--------\n",
    "This is a set of simple examples using various manifold methods to perform dimensionality reduction, followed by fitting with an elliptical boundary."
   ]
  },
  {
   "cell_type": "code",
   "execution_count": null,
   "metadata": {
    "colab": {
     "base_uri": "https://localhost:8080/"
    },
    "executionInfo": {
     "elapsed": 12,
     "status": "ok",
     "timestamp": 1644609552046,
     "user": {
      "displayName": "Nathan Mahynski",
      "photoUrl": "https://lh3.googleusercontent.com/a-/AOh14GiUlAIKCPEpbG_va5l0d5MOrKuPRHHZGu7-AEYw-A=s64",
      "userId": "00044706541353398741"
     },
     "user_tz": 300
    },
    "id": "zU1dlyaO6J4c",
    "outputId": "c321db86-18ab-440b-b6fe-be96b81ab56e"
   },
   "outputs": [],
   "source": [
    "%watermark -t -m -v --iversions"
   ]
  },
  {
   "cell_type": "markdown",
   "metadata": {
    "heading_collapsed": true,
    "id": "yA4iLdbsAnXP"
   },
   "source": [
    "# Load Data"
   ]
  },
  {
   "cell_type": "code",
   "execution_count": null,
   "metadata": {
    "executionInfo": {
     "elapsed": 170,
     "status": "ok",
     "timestamp": 1644609552210,
     "user": {
      "displayName": "Nathan Mahynski",
      "photoUrl": "https://lh3.googleusercontent.com/a-/AOh14GiUlAIKCPEpbG_va5l0d5MOrKuPRHHZGu7-AEYw-A=s64",
      "userId": "00044706541353398741"
     },
     "user_tz": 300
    },
    "hidden": true,
    "id": "AQIEH1OFAn2k"
   },
   "outputs": [],
   "source": [
    "import sklearn.datasets\n",
    "data = sklearn.datasets.load_iris()\n",
    "\n",
    "X = data.data\n",
    "y = data.target\n",
    "\n",
    "X_0 = X[y == 0]\n",
    "y_0 = y[y == 0]\n",
    "\n",
    "X_1 = X[y == 1]\n",
    "y_1 = y[y == 1]\n",
    "\n",
    "X_2 = X[y == 2]\n",
    "y_2 = y[y == 2]\n",
    "\n",
    "import sklearn.model_selection\n",
    "X_train, X_test, y_train, y_test = sklearn.model_selection.train_test_split(X_0, \n",
    "                                                                            y_0,\n",
    "                                                                            test_size=0.2, \n",
    "                                                                            shuffle=True, \n",
    "                                                                            random_state=0)\n",
    "\n",
    "from sklearn.preprocessing import StandardScaler\n",
    "ss = StandardScaler(with_mean=False, with_std=False)\n",
    "\n",
    "ss.fit(X_train)\n",
    "X_train_scaled = ss.transform(X_train)\n",
    "X_test_scaled = ss.transform(X_test)\n",
    "X_1_scaled = ss.transform(X_1)\n",
    "X_2_scaled = ss.transform(X_2)"
   ]
  },
  {
   "cell_type": "markdown",
   "metadata": {
    "heading_collapsed": true,
    "id": "z7UFwYxsAtey"
   },
   "source": [
    "# Kernel PCA Example"
   ]
  },
  {
   "cell_type": "markdown",
   "metadata": {
    "hidden": true,
    "id": "fQltWuoKLdrO"
   },
   "source": [
    "See [scikit-learn's documentation](https://scikit-learn.org/stable/modules/generated/sklearn.decomposition.KernelPCA.html?highlight=kernel%20pca#sklearn.decomposition.KernelPCA) for details on hyperparameters."
   ]
  },
  {
   "cell_type": "code",
   "execution_count": null,
   "metadata": {
    "colab": {
     "base_uri": "https://localhost:8080/",
     "height": 279
    },
    "executionInfo": {
     "elapsed": 408,
     "status": "ok",
     "timestamp": 1644609552614,
     "user": {
      "displayName": "Nathan Mahynski",
      "photoUrl": "https://lh3.googleusercontent.com/a-/AOh14GiUlAIKCPEpbG_va5l0d5MOrKuPRHHZGu7-AEYw-A=s64",
      "userId": "00044706541353398741"
     },
     "user_tz": 300
    },
    "hidden": true,
    "id": "9fWMxkh4AriC",
    "outputId": "23213177-c780-45b0-d639-38792561642a"
   },
   "outputs": [],
   "source": [
    "model = sklearn.decomposition.KernelPCA\n",
    "kwargs = {\"n_components\":1, \"kernel\":\"linear\"}\n",
    "\n",
    "m = EllipticManifold(0.05, model, kwargs)\n",
    "_ = m.fit(X_train)\n",
    "\n",
    "_ = m.visualize([X_train_scaled, X_test_scaled, X_1_scaled, X_2_scaled], [\"Training Set\", \"Test Set\", \"Class 1\", \"Class 2\"])"
   ]
  },
  {
   "cell_type": "code",
   "execution_count": null,
   "metadata": {
    "colab": {
     "base_uri": "https://localhost:8080/"
    },
    "executionInfo": {
     "elapsed": 181,
     "status": "ok",
     "timestamp": 1644609552781,
     "user": {
      "displayName": "Nathan Mahynski",
      "photoUrl": "https://lh3.googleusercontent.com/a-/AOh14GiUlAIKCPEpbG_va5l0d5MOrKuPRHHZGu7-AEYw-A=s64",
      "userId": "00044706541353398741"
     },
     "user_tz": 300
    },
    "hidden": true,
    "id": "CmTvpBxZBZ3-",
    "outputId": "346602f9-340a-49a2-8e68-0c4142f0f9d9"
   },
   "outputs": [],
   "source": [
    "m.score(X_test_scaled, [1]*len(X_test_scaled))"
   ]
  },
  {
   "cell_type": "code",
   "execution_count": null,
   "metadata": {
    "colab": {
     "base_uri": "https://localhost:8080/"
    },
    "executionInfo": {
     "elapsed": 11,
     "status": "ok",
     "timestamp": 1644609552781,
     "user": {
      "displayName": "Nathan Mahynski",
      "photoUrl": "https://lh3.googleusercontent.com/a-/AOh14GiUlAIKCPEpbG_va5l0d5MOrKuPRHHZGu7-AEYw-A=s64",
      "userId": "00044706541353398741"
     },
     "user_tz": 300
    },
    "hidden": true,
    "id": "U46w52MdBZ6U",
    "outputId": "3da910aa-38df-47d3-e4ed-e70c49cbe5fd"
   },
   "outputs": [],
   "source": [
    "m.score(X_1_scaled, [0]*len(X_1_scaled)) # 1D is not enough to distinguish class 0 from 1"
   ]
  },
  {
   "cell_type": "code",
   "execution_count": null,
   "metadata": {
    "executionInfo": {
     "elapsed": 8,
     "status": "ok",
     "timestamp": 1644609552782,
     "user": {
      "displayName": "Nathan Mahynski",
      "photoUrl": "https://lh3.googleusercontent.com/a-/AOh14GiUlAIKCPEpbG_va5l0d5MOrKuPRHHZGu7-AEYw-A=s64",
      "userId": "00044706541353398741"
     },
     "user_tz": 300
    },
    "hidden": true,
    "id": "nSJ4JGM_Bba5"
   },
   "outputs": [],
   "source": [
    "# Try a 2D model instead\n",
    "kwargs = {\"n_components\":2, \"kernel\":\"linear\"}\n",
    "\n",
    "m = EllipticManifold(0.05, model, kwargs)"
   ]
  },
  {
   "cell_type": "code",
   "execution_count": null,
   "metadata": {
    "executionInfo": {
     "elapsed": 8,
     "status": "ok",
     "timestamp": 1644609552783,
     "user": {
      "displayName": "Nathan Mahynski",
      "photoUrl": "https://lh3.googleusercontent.com/a-/AOh14GiUlAIKCPEpbG_va5l0d5MOrKuPRHHZGu7-AEYw-A=s64",
      "userId": "00044706541353398741"
     },
     "user_tz": 300
    },
    "hidden": true,
    "id": "cp6sCjuxBbdJ"
   },
   "outputs": [],
   "source": [
    "_ = m.fit(X_train_scaled)"
   ]
  },
  {
   "cell_type": "code",
   "execution_count": null,
   "metadata": {
    "colab": {
     "base_uri": "https://localhost:8080/",
     "height": 279
    },
    "executionInfo": {
     "elapsed": 4776,
     "status": "ok",
     "timestamp": 1644609557706,
     "user": {
      "displayName": "Nathan Mahynski",
      "photoUrl": "https://lh3.googleusercontent.com/a-/AOh14GiUlAIKCPEpbG_va5l0d5MOrKuPRHHZGu7-AEYw-A=s64",
      "userId": "00044706541353398741"
     },
     "user_tz": 300
    },
    "hidden": true,
    "id": "E-ZMafTHBbfd",
    "outputId": "a68afa15-9147-4ce1-cda7-56a60857bb49"
   },
   "outputs": [],
   "source": [
    "_ = m.visualize([X_train_scaled, X_test_scaled, X_1_scaled, X_2_scaled], [\"Training Set\", \"Test Set\", \"Class 1\", \"Class 2\"])"
   ]
  },
  {
   "cell_type": "code",
   "execution_count": null,
   "metadata": {
    "colab": {
     "base_uri": "https://localhost:8080/"
    },
    "executionInfo": {
     "elapsed": 12,
     "status": "ok",
     "timestamp": 1644609557706,
     "user": {
      "displayName": "Nathan Mahynski",
      "photoUrl": "https://lh3.googleusercontent.com/a-/AOh14GiUlAIKCPEpbG_va5l0d5MOrKuPRHHZGu7-AEYw-A=s64",
      "userId": "00044706541353398741"
     },
     "user_tz": 300
    },
    "hidden": true,
    "id": "Tl9U0LS0BhnU",
    "outputId": "60ed2c63-9e35-4e4e-bca1-7c00d5de6f8d"
   },
   "outputs": [],
   "source": [
    "m.predict(X_test_scaled, y_test) # 1 = inliner, 0 = outlier"
   ]
  },
  {
   "cell_type": "code",
   "execution_count": null,
   "metadata": {
    "colab": {
     "base_uri": "https://localhost:8080/"
    },
    "executionInfo": {
     "elapsed": 171,
     "status": "ok",
     "timestamp": 1644609557870,
     "user": {
      "displayName": "Nathan Mahynski",
      "photoUrl": "https://lh3.googleusercontent.com/a-/AOh14GiUlAIKCPEpbG_va5l0d5MOrKuPRHHZGu7-AEYw-A=s64",
      "userId": "00044706541353398741"
     },
     "user_tz": 300
    },
    "hidden": true,
    "id": "WE3IhpEIBhp5",
    "outputId": "04bb229a-79f0-4f2c-824f-a4d27aaf8778"
   },
   "outputs": [],
   "source": [
    "m.score(X_test_scaled, [1]*len(X_test_scaled)) # Score the test set (all same class as training)"
   ]
  },
  {
   "cell_type": "code",
   "execution_count": null,
   "metadata": {
    "colab": {
     "base_uri": "https://localhost:8080/"
    },
    "executionInfo": {
     "elapsed": 6,
     "status": "ok",
     "timestamp": 1644609557871,
     "user": {
      "displayName": "Nathan Mahynski",
      "photoUrl": "https://lh3.googleusercontent.com/a-/AOh14GiUlAIKCPEpbG_va5l0d5MOrKuPRHHZGu7-AEYw-A=s64",
      "userId": "00044706541353398741"
     },
     "user_tz": 300
    },
    "hidden": true,
    "id": "xz3tSeDQBhsX",
    "outputId": "eede8715-4546-480b-e5ec-5ba9e65506eb"
   },
   "outputs": [],
   "source": [
    "m.score(X_1_scaled, [0]*len(X_1_scaled)) # Score a different class (different from training)"
   ]
  },
  {
   "cell_type": "code",
   "execution_count": null,
   "metadata": {
    "colab": {
     "base_uri": "https://localhost:8080/",
     "height": 441
    },
    "executionInfo": {
     "elapsed": 18325,
     "status": "ok",
     "timestamp": 1644610006668,
     "user": {
      "displayName": "Nathan Mahynski",
      "photoUrl": "https://lh3.googleusercontent.com/a-/AOh14GiUlAIKCPEpbG_va5l0d5MOrKuPRHHZGu7-AEYw-A=s64",
      "userId": "00044706541353398741"
     },
     "user_tz": 300
    },
    "hidden": true,
    "id": "VLJXBUy1J35p",
    "outputId": "173eeeeb-3e11-455c-9d21-15432ba841ec"
   },
   "outputs": [],
   "source": [
    "fig, axes = plt.subplots(nrows=2, ncols=4, figsize=(16,6))\n",
    "ax = axes.flatten()\n",
    "\n",
    "idx = 0\n",
    "for dims in [1, 2]:\n",
    "    scores = []\n",
    "    for degree in [1, 3, 5]:\n",
    "        model = sklearn.decomposition.KernelPCA\n",
    "        kwargs = {\"n_components\":dims, \n",
    "                  \"kernel\":\"poly\", \n",
    "                  \"degree\":degree \n",
    "                 }\n",
    "        m = EllipticManifold(0.05, model, kwargs)\n",
    "        _ = m.fit(X_train_scaled)\n",
    "        train_score = m.score(X_train_scaled, [1]*len(X_train_scaled))\n",
    "        test_score = m.score(X_test_scaled, [1]*len(X_test_scaled))\n",
    "        x1_score = m.score(X_1_scaled, [0]*len(X_1_scaled))\n",
    "        x2_score = m.score(X_2_scaled, [0]*len(X_2_scaled))\n",
    "        scores.append([train_score, test_score, x1_score, x2_score])\n",
    "        \n",
    "        ax_ = m.visualize([X_train_scaled, X_test_scaled, X_1_scaled, X_2_scaled], [\"Training Set\", \"Test Set\", \"Class 1\", \"Class 2\"], ax[idx])\n",
    "        ax_.set_title('Degree = {}, Test Score = {}\\nX_1 Score = {}, X_2 Score = {}'.format(\n",
    "            '%.3f'%degree, '%.3f'%test_score, '%.3f'%x1_score, '%.3f'%x2_score))\n",
    "        idx += 1\n",
    "    scores = np.array(scores)\n",
    "    ax[idx].plot([1, 3, 5], scores[:, 0], '-o', alpha=0.5, label='Train')\n",
    "    ax[idx].plot([1, 3, 5], scores[:, 1], '-s', alpha=0.5, label='Test')\n",
    "    ax[idx].plot([1, 3, 5], scores[:, 2], '-*', alpha=0.5, label='X_1')\n",
    "    ax[idx].plot([1, 3, 5], scores[:, 3], '-^', alpha=0.5, label='X_2')\n",
    "    ax[idx].set_xlabel('Degree')\n",
    "    ax[idx].set_ylabel('Score')\n",
    "    ax[idx].legend(loc='best')\n",
    "    idx += 1\n",
    "\n",
    "plt.tight_layout()"
   ]
  },
  {
   "cell_type": "markdown",
   "metadata": {
    "heading_collapsed": true,
    "id": "msxiiTfXBuXg"
   },
   "source": [
    "# Isomap Example"
   ]
  },
  {
   "cell_type": "markdown",
   "metadata": {
    "hidden": true,
    "id": "J4_OiublLqaI"
   },
   "source": [
    "See [scikit-learn's documentation](https://scikit-learn.org/stable/modules/generated/sklearn.manifold.Isomap.html?highlight=isomap#sklearn.manifold.Isomap) for details on hyperparameters."
   ]
  },
  {
   "cell_type": "code",
   "execution_count": null,
   "metadata": {
    "colab": {
     "base_uri": "https://localhost:8080/",
     "height": 441
    },
    "executionInfo": {
     "elapsed": 8248,
     "status": "ok",
     "timestamp": 1644610255071,
     "user": {
      "displayName": "Nathan Mahynski",
      "photoUrl": "https://lh3.googleusercontent.com/a-/AOh14GiUlAIKCPEpbG_va5l0d5MOrKuPRHHZGu7-AEYw-A=s64",
      "userId": "00044706541353398741"
     },
     "user_tz": 300
    },
    "hidden": true,
    "id": "QSwOxyxxBwmU",
    "outputId": "74bd5354-3ec3-4be1-ddee-3dc4a632060c"
   },
   "outputs": [],
   "source": [
    "fig, axes = plt.subplots(nrows=2, ncols=4, figsize=(16,6))\n",
    "ax = axes.flatten()\n",
    "\n",
    "idx = 0\n",
    "for dims in [1, 2]:\n",
    "    scores = []\n",
    "    for nebrs in [5, 10, 20]:\n",
    "        model = sklearn.manifold.Isomap\n",
    "        kwargs = {\"n_neighbors\":nebrs, \n",
    "                  \"n_components\":dims, \n",
    "                  \"metric\":'minkowski', \n",
    "                  \"p\":2, \n",
    "                 }\n",
    "        m = EllipticManifold(0.05, model, kwargs)\n",
    "        _ = m.fit(X_train_scaled)\n",
    "        train_score = m.score(X_train_scaled, [1]*len(X_train_scaled))\n",
    "        test_score = m.score(X_test_scaled, [1]*len(X_test_scaled))\n",
    "        x1_score = m.score(X_1_scaled, [0]*len(X_1_scaled))\n",
    "        x2_score = m.score(X_2_scaled, [0]*len(X_2_scaled))\n",
    "        scores.append([train_score, test_score, x1_score, x2_score])\n",
    "        \n",
    "        ax_ = m.visualize([X_train_scaled, X_test_scaled, X_1_scaled, X_2_scaled], [\"Training Set\", \"Test Set\", \"Class 1\", \"Class 2\"], ax[idx])\n",
    "        ax_.set_title('Nebrs = {}, Test Score = {}\\nX_1 Score = {}, X_2 Score = {}'.format(\n",
    "            nebrs, '%.3f'%test_score, '%.3f'%x1_score, '%.3f'%x2_score))\n",
    "        idx += 1\n",
    "    scores = np.array(scores)\n",
    "    ax[idx].plot([5, 15, 30], scores[:, 0], '-o', alpha=0.5, label='Train')\n",
    "    ax[idx].plot([5, 15, 30], scores[:, 1], '-s', alpha=0.5, label='Test')\n",
    "    ax[idx].plot([5, 15, 30], scores[:, 2], '-*', alpha=0.5, label='X_1')\n",
    "    ax[idx].plot([5, 15, 30], scores[:, 3], '-^', alpha=0.5, label='X_2')\n",
    "    ax[idx].set_xlabel('Nebrs')\n",
    "    ax[idx].set_ylabel('Score')\n",
    "    ax[idx].legend(loc='best')\n",
    "    idx += 1\n",
    "\n",
    "plt.tight_layout()"
   ]
  },
  {
   "cell_type": "markdown",
   "metadata": {
    "heading_collapsed": true,
    "id": "FVAdX7mcB1Pj"
   },
   "source": [
    "# LLE Example"
   ]
  },
  {
   "cell_type": "markdown",
   "metadata": {
    "hidden": true,
    "id": "JAd6SvbxLs0i"
   },
   "source": [
    "See [scikit-learn's documentation](https://scikit-learn.org/stable/modules/generated/sklearn.manifold.LocallyLinearEmbedding.html?highlight=locally%20linear#sklearn.manifold.LocallyLinearEmbedding) for details on hyperparameters."
   ]
  },
  {
   "cell_type": "code",
   "execution_count": null,
   "metadata": {
    "colab": {
     "base_uri": "https://localhost:8080/",
     "height": 441
    },
    "executionInfo": {
     "elapsed": 12308,
     "status": "ok",
     "timestamp": 1644610272406,
     "user": {
      "displayName": "Nathan Mahynski",
      "photoUrl": "https://lh3.googleusercontent.com/a-/AOh14GiUlAIKCPEpbG_va5l0d5MOrKuPRHHZGu7-AEYw-A=s64",
      "userId": "00044706541353398741"
     },
     "user_tz": 300
    },
    "hidden": true,
    "id": "rYW4EiHbB2bP",
    "outputId": "c6d29d1a-9146-4ea9-b15e-f73a6dccf4f0"
   },
   "outputs": [],
   "source": [
    "fig, axes = plt.subplots(nrows=2, ncols=4, figsize=(16,6))\n",
    "ax = axes.flatten()\n",
    "\n",
    "idx = 0\n",
    "for dims in [1, 2]:\n",
    "    scores = []\n",
    "    for nebrs in [5, 15, 30]:\n",
    "        model = sklearn.manifold.LocallyLinearEmbedding\n",
    "        kwargs = {\"n_neighbors\":nebrs, \n",
    "                  \"n_components\":dims,\n",
    "                 }\n",
    "        m = EllipticManifold(0.05, model, kwargs)\n",
    "        _ = m.fit(X_train_scaled)\n",
    "        train_score = m.score(X_train_scaled, [1]*len(X_train_scaled))\n",
    "        test_score = m.score(X_test_scaled, [1]*len(X_test_scaled))\n",
    "        x1_score = m.score(X_1_scaled, [0]*len(X_1_scaled))\n",
    "        x2_score = m.score(X_2_scaled, [0]*len(X_2_scaled))\n",
    "        scores.append([train_score, test_score, x1_score, x2_score])\n",
    "        \n",
    "        ax_ = m.visualize([X_train_scaled, X_test_scaled, X_1_scaled, X_2_scaled], [\"Training Set\", \"Test Set\", \"Class 1\", \"Class 2\"], ax[idx])\n",
    "        ax_.set_title('Nebrs = {}, Test Score = {}\\nX_1 Score = {}, X_2 Score = {}'.format(\n",
    "            nebrs, '%.3f'%test_score, '%.3f'%x1_score, '%.3f'%x2_score))\n",
    "        idx += 1\n",
    "    scores = np.array(scores)\n",
    "    ax[idx].plot([5, 15, 30], scores[:, 0], '-o', alpha=0.5, label='Train')\n",
    "    ax[idx].plot([5, 15, 30], scores[:, 1], '-s', alpha=0.5, label='Test')\n",
    "    ax[idx].plot([5, 15, 30], scores[:, 2], '-*', alpha=0.5, label='X_1')\n",
    "    ax[idx].plot([5, 15, 30], scores[:, 3], '-^', alpha=0.5, label='X_2')\n",
    "    ax[idx].set_xlabel('Nebrs')\n",
    "    ax[idx].set_ylabel('Score')\n",
    "    ax[idx].legend(loc='best')\n",
    "    idx += 1\n",
    "\n",
    "plt.tight_layout()"
   ]
  },
  {
   "cell_type": "markdown",
   "metadata": {
    "heading_collapsed": true,
    "id": "FGjZnMwlB3N3"
   },
   "source": [
    "# UMAP Example"
   ]
  },
  {
   "cell_type": "markdown",
   "metadata": {
    "hidden": true,
    "id": "gonEivnBB_UN"
   },
   "source": [
    "UMAP has a lot of parameters that should be understood before using it.  See the [documentation](https://umap-learn.readthedocs.io/en/latest/parameters.html) for explanation. Briefly, there are 4 that matter the most:\n",
    "* n_neighbors\n",
    "* n_components\n",
    "* metric\n",
    "* min_dist\n",
    "\n",
    "**IMPORTANTLY** you should always set random_state to ensure reproducibility between runs since UMAP is stochastic."
   ]
  },
  {
   "cell_type": "code",
   "execution_count": null,
   "metadata": {
    "executionInfo": {
     "elapsed": 17199,
     "status": "ok",
     "timestamp": 1644610310347,
     "user": {
      "displayName": "Nathan Mahynski",
      "photoUrl": "https://lh3.googleusercontent.com/a-/AOh14GiUlAIKCPEpbG_va5l0d5MOrKuPRHHZGu7-AEYw-A=s64",
      "userId": "00044706541353398741"
     },
     "user_tz": 300
    },
    "hidden": true,
    "id": "JJW6H37FLFd0"
   },
   "outputs": [],
   "source": [
    "import umap"
   ]
  },
  {
   "cell_type": "code",
   "execution_count": null,
   "metadata": {
    "colab": {
     "base_uri": "https://localhost:8080/",
     "height": 498
    },
    "executionInfo": {
     "elapsed": 71449,
     "status": "ok",
     "timestamp": 1644610381792,
     "user": {
      "displayName": "Nathan Mahynski",
      "photoUrl": "https://lh3.googleusercontent.com/a-/AOh14GiUlAIKCPEpbG_va5l0d5MOrKuPRHHZGu7-AEYw-A=s64",
      "userId": "00044706541353398741"
     },
     "user_tz": 300
    },
    "hidden": true,
    "id": "_KSF8aItB7Ln",
    "outputId": "e4c0854e-6cac-4d4f-de3b-1ea76da6b876"
   },
   "outputs": [],
   "source": [
    "fig, axes = plt.subplots(nrows=2, ncols=4, figsize=(16,6))\n",
    "ax = axes.flatten()\n",
    "\n",
    "idx = 0\n",
    "for dims in [1, 2]:\n",
    "    scores = []\n",
    "    for nebrs in [5, 15, 30]:\n",
    "        model = umap.UMAP\n",
    "        kwargs = {\"n_neighbors\":nebrs, # Less focuses on finer detail, more is \"bigger picture\"\n",
    "                  \"n_components\":dims, # Final dimensionality\n",
    "                  \"random_state\":0, # Always set this for reproducibility\n",
    "                  \"metric\":\"euclidean\", # How to compute distance between points in the ambient input space\n",
    "                  \"min_dist\":1.0 # Closest points are allowed to come in the embedding (only controls training data, test can end up closer)\n",
    "                 }\n",
    "        m = EllipticManifold(0.05, model, kwargs)\n",
    "        _ = m.fit(X_train_scaled)\n",
    "        train_score = m.score(X_train_scaled, [1]*len(X_train_scaled))\n",
    "        test_score = m.score(X_test_scaled, [1]*len(X_test_scaled))\n",
    "        x1_score = m.score(X_1_scaled, [0]*len(X_1_scaled))\n",
    "        x2_score = m.score(X_2_scaled, [0]*len(X_2_scaled))\n",
    "        scores.append([train_score, test_score, x1_score, x2_score])\n",
    "        \n",
    "        ax_ = m.visualize([X_train_scaled, X_test_scaled, X_1_scaled, X_2_scaled], [\"Training Set\", \"Test Set\", \"Class 1\", \"Class 2\"], ax[idx])\n",
    "        ax_.set_title('Nebrs = {}, Test Score = {}\\nX_1 Score = {}, X_2 Score = {}'.format(\n",
    "            nebrs, '%.3f'%test_score, '%.3f'%x1_score, '%.3f'%x2_score))\n",
    "        idx += 1\n",
    "    scores = np.array(scores)\n",
    "    ax[idx].plot([5, 15, 30], scores[:, 0], '-o', alpha=0.5, label='Train')\n",
    "    ax[idx].plot([5, 15, 30], scores[:, 1], '-s', alpha=0.5, label='Test')\n",
    "    ax[idx].plot([5, 15, 30], scores[:, 2], '-*', alpha=0.5, label='X_1')\n",
    "    ax[idx].plot([5, 15, 30], scores[:, 3], '-^', alpha=0.5, label='X_2')\n",
    "    ax[idx].set_xlabel('Nebrs')\n",
    "    ax[idx].set_ylabel('Score')\n",
    "    ax[idx].legend(loc='best')\n",
    "    idx += 1\n",
    "\n",
    "plt.tight_layout()"
   ]
  },
  {
   "cell_type": "code",
   "execution_count": null,
   "metadata": {
    "hidden": true,
    "id": "erB3QOUpaZJW"
   },
   "outputs": [],
   "source": []
  }
 ],
 "metadata": {
  "colab": {
   "authorship_tag": "ABX9TyNYYqWGjCJD48DxOr80VFQe",
   "collapsed_sections": [
    "Xt_ihpi96oR4"
   ],
   "name": "elliptic_manifold_example.ipynb",
   "provenance": []
  },
  "kernelspec": {
   "display_name": "py37",
   "language": "python",
   "name": "py37"
  },
  "language_info": {
   "codemirror_mode": {
    "name": "ipython",
    "version": 3
   },
   "file_extension": ".py",
   "mimetype": "text/x-python",
   "name": "python",
   "nbconvert_exporter": "python",
   "pygments_lexer": "ipython3",
   "version": "3.7.13"
  },
  "toc": {
   "base_numbering": 1,
   "nav_menu": {},
   "number_sections": true,
   "sideBar": true,
   "skip_h1_title": false,
   "title_cell": "Table of Contents",
   "title_sidebar": "Contents",
   "toc_cell": true,
   "toc_position": {},
   "toc_section_display": true,
   "toc_window_display": false
  }
 },
 "nbformat": 4,
 "nbformat_minor": 4
}
