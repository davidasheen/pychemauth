{
 "cells": [
  {
   "cell_type": "markdown",
   "metadata": {
    "toc": true
   },
   "source": [
    "<h1>Table of Contents<span class=\"tocSkip\"></span></h1>\n",
    "<div class=\"toc\"><ul class=\"toc-item\"><li><ul class=\"toc-item\"><li><span><a href=\"#Overview\" data-toc-modified-id=\"Overview-0.1\"><span class=\"toc-item-num\">0.1&nbsp;&nbsp;</span>Overview</a></span></li></ul></li><li><span><a href=\"#Load-the-Data\" data-toc-modified-id=\"Load-the-Data-1\"><span class=\"toc-item-num\">1&nbsp;&nbsp;</span>Load the Data</a></span></li><li><span><a href=\"#Model-the-Data-with-DD-SIMCA\" data-toc-modified-id=\"Model-the-Data-with-DD-SIMCA-2\"><span class=\"toc-item-num\">2&nbsp;&nbsp;</span>Model the Data with DD-SIMCA</a></span><ul class=\"toc-item\"><li><span><a href=\"#Training\" data-toc-modified-id=\"Training-2.1\"><span class=\"toc-item-num\">2.1&nbsp;&nbsp;</span>Training</a></span></li><li><span><a href=\"#Testing\" data-toc-modified-id=\"Testing-2.2\"><span class=\"toc-item-num\">2.2&nbsp;&nbsp;</span>Testing</a></span></li></ul></li><li><span><a href=\"#Create-a-Classifier\" data-toc-modified-id=\"Create-a-Classifier-3\"><span class=\"toc-item-num\">3&nbsp;&nbsp;</span>Create a Classifier</a></span></li><li><span><a href=\"#Optimizing-the-Classifier\" data-toc-modified-id=\"Optimizing-the-Classifier-4\"><span class=\"toc-item-num\">4&nbsp;&nbsp;</span>Optimizing the Classifier</a></span></li></ul></div>"
   ]
  },
  {
   "cell_type": "code",
   "execution_count": 1,
   "metadata": {},
   "outputs": [
    {
     "name": "stderr",
     "output_type": "stream",
     "text": [
      "/home/nam/anaconda3/lib/python3.7/site-packages/sklearn/utils/deprecation.py:144: FutureWarning: The sklearn.neighbors.base module is  deprecated in version 0.22 and will be removed in version 0.24. The corresponding classes / functions should instead be imported from sklearn.neighbors. Anything that cannot be imported from sklearn.neighbors is now part of the private API.\n",
      "  warnings.warn(message, FutureWarning)\n",
      "/home/nam/anaconda3/lib/python3.7/site-packages/sklearn/utils/deprecation.py:144: FutureWarning: The sklearn.ensemble.bagging module is  deprecated in version 0.22 and will be removed in version 0.24. The corresponding classes / functions should instead be imported from sklearn.ensemble. Anything that cannot be imported from sklearn.ensemble is now part of the private API.\n",
      "  warnings.warn(message, FutureWarning)\n",
      "/home/nam/anaconda3/lib/python3.7/site-packages/sklearn/utils/deprecation.py:144: FutureWarning: The sklearn.ensemble.base module is  deprecated in version 0.22 and will be removed in version 0.24. The corresponding classes / functions should instead be imported from sklearn.ensemble. Anything that cannot be imported from sklearn.ensemble is now part of the private API.\n",
      "  warnings.warn(message, FutureWarning)\n",
      "/home/nam/anaconda3/lib/python3.7/site-packages/sklearn/utils/deprecation.py:144: FutureWarning: The sklearn.ensemble.forest module is  deprecated in version 0.22 and will be removed in version 0.24. The corresponding classes / functions should instead be imported from sklearn.ensemble. Anything that cannot be imported from sklearn.ensemble is now part of the private API.\n",
      "  warnings.warn(message, FutureWarning)\n",
      "/home/nam/anaconda3/lib/python3.7/site-packages/sklearn/utils/deprecation.py:144: FutureWarning: The sklearn.utils.testing module is  deprecated in version 0.22 and will be removed in version 0.24. The corresponding classes / functions should instead be imported from sklearn.utils. Anything that cannot be imported from sklearn.utils is now part of the private API.\n",
      "  warnings.warn(message, FutureWarning)\n",
      "/home/nam/anaconda3/lib/python3.7/site-packages/sklearn/utils/deprecation.py:144: FutureWarning: The sklearn.metrics.classification module is  deprecated in version 0.22 and will be removed in version 0.24. The corresponding classes / functions should instead be imported from sklearn.metrics. Anything that cannot be imported from sklearn.metrics is now part of the private API.\n",
      "  warnings.warn(message, FutureWarning)\n"
     ]
    }
   ],
   "source": [
    "import matplotlib.pyplot as plt\n",
    "%matplotlib notebook\n",
    "\n",
    "import imblearn\n",
    "import sklearn\n",
    "\n",
    "from sklearn.model_selection import GridSearchCV\n",
    "\n",
    "import sys\n",
    "sys.path.append('../../')\n",
    "import chemometrics\n",
    "\n",
    "import numpy as np\n",
    "import pandas as pd\n",
    "\n",
    "import watermark\n",
    "%load_ext watermark"
   ]
  },
  {
   "cell_type": "markdown",
   "metadata": {},
   "source": [
    "Overview\n",
    "--------\n",
    "This is a simple example of using DD-SIMCA to do some analysis."
   ]
  },
  {
   "cell_type": "code",
   "execution_count": 2,
   "metadata": {},
   "outputs": [
    {
     "name": "stdout",
     "output_type": "stream",
     "text": [
      "imblearn  0.5.0\n",
      "numpy     1.21.4\n",
      "pandas    0.25.1\n",
      "sklearn   0.22.2.post1\n",
      "watermark 2.0.2\n",
      "15:55:19 \n",
      "\n",
      "CPython 3.7.4\n",
      "IPython 7.8.0\n",
      "\n",
      "compiler   : GCC 7.3.0\n",
      "system     : Linux\n",
      "release    : 4.15.0-163-generic\n",
      "machine    : x86_64\n",
      "processor  : x86_64\n",
      "CPU cores  : 8\n",
      "interpreter: 64bit\n"
     ]
    }
   ],
   "source": [
    "%watermark -t -m -v --iversions"
   ]
  },
  {
   "cell_type": "markdown",
   "metadata": {
    "heading_collapsed": true
   },
   "source": [
    "# Load the Data"
   ]
  },
  {
   "cell_type": "code",
   "execution_count": 3,
   "metadata": {
    "hidden": true
   },
   "outputs": [],
   "source": [
    "# Let's load some data from the tests/ for this example\n",
    "df = pd.read_csv('../tests/data/simca_train.csv')"
   ]
  },
  {
   "cell_type": "code",
   "execution_count": 4,
   "metadata": {
    "hidden": true
   },
   "outputs": [
    {
     "data": {
      "text/html": [
       "<div>\n",
       "<style scoped>\n",
       "    .dataframe tbody tr th:only-of-type {\n",
       "        vertical-align: middle;\n",
       "    }\n",
       "\n",
       "    .dataframe tbody tr th {\n",
       "        vertical-align: top;\n",
       "    }\n",
       "\n",
       "    .dataframe thead th {\n",
       "        text-align: right;\n",
       "    }\n",
       "</style>\n",
       "<table border=\"1\" class=\"dataframe\">\n",
       "  <thead>\n",
       "    <tr style=\"text-align: right;\">\n",
       "      <th></th>\n",
       "      <th>Group</th>\n",
       "      <th>Class</th>\n",
       "      <th>Name</th>\n",
       "      <th>3999</th>\n",
       "      <th>3991</th>\n",
       "      <th>3983</th>\n",
       "      <th>3975</th>\n",
       "      <th>3967</th>\n",
       "      <th>3959</th>\n",
       "      <th>3951</th>\n",
       "      <th>...</th>\n",
       "      <th>527</th>\n",
       "      <th>519</th>\n",
       "      <th>511</th>\n",
       "      <th>503</th>\n",
       "      <th>495</th>\n",
       "      <th>487</th>\n",
       "      <th>479</th>\n",
       "      <th>471</th>\n",
       "      <th>463</th>\n",
       "      <th>455</th>\n",
       "    </tr>\n",
       "  </thead>\n",
       "  <tbody>\n",
       "    <tr>\n",
       "      <td>0</td>\n",
       "      <td>1</td>\n",
       "      <td>Pure</td>\n",
       "      <td>F 16 08 001 D</td>\n",
       "      <td>-0.968873</td>\n",
       "      <td>-0.969487</td>\n",
       "      <td>-0.970409</td>\n",
       "      <td>-0.969794</td>\n",
       "      <td>-0.970101</td>\n",
       "      <td>-0.971944</td>\n",
       "      <td>-0.970409</td>\n",
       "      <td>...</td>\n",
       "      <td>2.629155</td>\n",
       "      <td>2.652808</td>\n",
       "      <td>2.665095</td>\n",
       "      <td>2.684140</td>\n",
       "      <td>2.700114</td>\n",
       "      <td>2.693664</td>\n",
       "      <td>2.721617</td>\n",
       "      <td>2.728067</td>\n",
       "      <td>2.718238</td>\n",
       "      <td>2.668986</td>\n",
       "    </tr>\n",
       "    <tr>\n",
       "      <td>1</td>\n",
       "      <td>1</td>\n",
       "      <td>Pure</td>\n",
       "      <td>F 16 08 002 D</td>\n",
       "      <td>-0.965465</td>\n",
       "      <td>-0.964848</td>\n",
       "      <td>-0.965465</td>\n",
       "      <td>-0.966697</td>\n",
       "      <td>-0.966389</td>\n",
       "      <td>-0.968238</td>\n",
       "      <td>-0.968546</td>\n",
       "      <td>...</td>\n",
       "      <td>2.669310</td>\n",
       "      <td>2.672083</td>\n",
       "      <td>2.703205</td>\n",
       "      <td>2.711524</td>\n",
       "      <td>2.749117</td>\n",
       "      <td>2.733402</td>\n",
       "      <td>2.765756</td>\n",
       "      <td>2.758977</td>\n",
       "      <td>2.775000</td>\n",
       "      <td>2.714092</td>\n",
       "    </tr>\n",
       "    <tr>\n",
       "      <td>2</td>\n",
       "      <td>1</td>\n",
       "      <td>Pure</td>\n",
       "      <td>F 16 08 003 D</td>\n",
       "      <td>-0.968031</td>\n",
       "      <td>-0.969617</td>\n",
       "      <td>-0.968665</td>\n",
       "      <td>-0.970568</td>\n",
       "      <td>-0.970568</td>\n",
       "      <td>-0.970568</td>\n",
       "      <td>-0.971203</td>\n",
       "      <td>...</td>\n",
       "      <td>2.538191</td>\n",
       "      <td>2.525503</td>\n",
       "      <td>2.544218</td>\n",
       "      <td>2.570861</td>\n",
       "      <td>2.570544</td>\n",
       "      <td>2.567690</td>\n",
       "      <td>2.566421</td>\n",
       "      <td>2.566739</td>\n",
       "      <td>2.547390</td>\n",
       "      <td>2.592536</td>\n",
       "    </tr>\n",
       "    <tr>\n",
       "      <td>3</td>\n",
       "      <td>1</td>\n",
       "      <td>Pure</td>\n",
       "      <td>F 16 08 005 D</td>\n",
       "      <td>-0.957622</td>\n",
       "      <td>-0.957622</td>\n",
       "      <td>-0.958654</td>\n",
       "      <td>-0.958654</td>\n",
       "      <td>-0.960374</td>\n",
       "      <td>-0.959686</td>\n",
       "      <td>-0.957622</td>\n",
       "      <td>...</td>\n",
       "      <td>2.626278</td>\n",
       "      <td>2.622494</td>\n",
       "      <td>2.646919</td>\n",
       "      <td>2.666528</td>\n",
       "      <td>2.685448</td>\n",
       "      <td>2.685792</td>\n",
       "      <td>2.708497</td>\n",
       "      <td>2.693705</td>\n",
       "      <td>2.689920</td>\n",
       "      <td>2.707809</td>\n",
       "    </tr>\n",
       "    <tr>\n",
       "      <td>4</td>\n",
       "      <td>1</td>\n",
       "      <td>Pure</td>\n",
       "      <td>F 16 08 006 D</td>\n",
       "      <td>-0.960211</td>\n",
       "      <td>-0.961166</td>\n",
       "      <td>-0.961166</td>\n",
       "      <td>-0.961803</td>\n",
       "      <td>-0.961803</td>\n",
       "      <td>-0.962758</td>\n",
       "      <td>-0.963713</td>\n",
       "      <td>...</td>\n",
       "      <td>2.698431</td>\n",
       "      <td>2.711802</td>\n",
       "      <td>2.710846</td>\n",
       "      <td>2.746185</td>\n",
       "      <td>2.777385</td>\n",
       "      <td>2.767516</td>\n",
       "      <td>2.800307</td>\n",
       "      <td>2.807311</td>\n",
       "      <td>2.764331</td>\n",
       "      <td>2.773564</td>\n",
       "    </tr>\n",
       "    <tr>\n",
       "      <td>...</td>\n",
       "      <td>...</td>\n",
       "      <td>...</td>\n",
       "      <td>...</td>\n",
       "      <td>...</td>\n",
       "      <td>...</td>\n",
       "      <td>...</td>\n",
       "      <td>...</td>\n",
       "      <td>...</td>\n",
       "      <td>...</td>\n",
       "      <td>...</td>\n",
       "      <td>...</td>\n",
       "      <td>...</td>\n",
       "      <td>...</td>\n",
       "      <td>...</td>\n",
       "      <td>...</td>\n",
       "      <td>...</td>\n",
       "      <td>...</td>\n",
       "      <td>...</td>\n",
       "      <td>...</td>\n",
       "      <td>...</td>\n",
       "      <td>...</td>\n",
       "    </tr>\n",
       "    <tr>\n",
       "      <td>67</td>\n",
       "      <td>1</td>\n",
       "      <td>Pure</td>\n",
       "      <td>F 16 10 073 D</td>\n",
       "      <td>-0.969603</td>\n",
       "      <td>-0.969603</td>\n",
       "      <td>-0.966800</td>\n",
       "      <td>-0.967267</td>\n",
       "      <td>-0.969136</td>\n",
       "      <td>-0.966800</td>\n",
       "      <td>-0.969136</td>\n",
       "      <td>...</td>\n",
       "      <td>2.636443</td>\n",
       "      <td>2.648588</td>\n",
       "      <td>2.671476</td>\n",
       "      <td>2.672410</td>\n",
       "      <td>2.735469</td>\n",
       "      <td>2.735937</td>\n",
       "      <td>2.742009</td>\n",
       "      <td>2.776107</td>\n",
       "      <td>2.732200</td>\n",
       "      <td>2.722234</td>\n",
       "    </tr>\n",
       "    <tr>\n",
       "      <td>68</td>\n",
       "      <td>1</td>\n",
       "      <td>Pure</td>\n",
       "      <td>F 16 10 075 D</td>\n",
       "      <td>-0.955665</td>\n",
       "      <td>-0.957460</td>\n",
       "      <td>-0.956024</td>\n",
       "      <td>-0.958178</td>\n",
       "      <td>-0.958178</td>\n",
       "      <td>-0.958178</td>\n",
       "      <td>-0.960692</td>\n",
       "      <td>...</td>\n",
       "      <td>2.701744</td>\n",
       "      <td>2.707488</td>\n",
       "      <td>2.719695</td>\n",
       "      <td>2.747340</td>\n",
       "      <td>2.732261</td>\n",
       "      <td>2.743750</td>\n",
       "      <td>2.733338</td>\n",
       "      <td>2.737647</td>\n",
       "      <td>2.741955</td>\n",
       "      <td>2.696239</td>\n",
       "    </tr>\n",
       "    <tr>\n",
       "      <td>69</td>\n",
       "      <td>1</td>\n",
       "      <td>Pure</td>\n",
       "      <td>F 16 10 076 D</td>\n",
       "      <td>-0.970511</td>\n",
       "      <td>-0.968855</td>\n",
       "      <td>-0.972167</td>\n",
       "      <td>-0.971339</td>\n",
       "      <td>-0.974236</td>\n",
       "      <td>-0.971753</td>\n",
       "      <td>-0.972580</td>\n",
       "      <td>...</td>\n",
       "      <td>2.724657</td>\n",
       "      <td>2.727968</td>\n",
       "      <td>2.746593</td>\n",
       "      <td>2.754457</td>\n",
       "      <td>2.782601</td>\n",
       "      <td>2.801640</td>\n",
       "      <td>2.832681</td>\n",
       "      <td>2.874069</td>\n",
       "      <td>2.798743</td>\n",
       "      <td>2.745627</td>\n",
       "    </tr>\n",
       "    <tr>\n",
       "      <td>70</td>\n",
       "      <td>1</td>\n",
       "      <td>Pure</td>\n",
       "      <td>F 16 10 078 D</td>\n",
       "      <td>-0.966621</td>\n",
       "      <td>-0.964083</td>\n",
       "      <td>-0.967637</td>\n",
       "      <td>-0.967637</td>\n",
       "      <td>-0.965606</td>\n",
       "      <td>-0.967637</td>\n",
       "      <td>-0.967637</td>\n",
       "      <td>...</td>\n",
       "      <td>2.693649</td>\n",
       "      <td>2.694664</td>\n",
       "      <td>2.704819</td>\n",
       "      <td>2.753562</td>\n",
       "      <td>2.762701</td>\n",
       "      <td>2.781995</td>\n",
       "      <td>2.783518</td>\n",
       "      <td>2.802812</td>\n",
       "      <td>2.751531</td>\n",
       "      <td>2.759993</td>\n",
       "    </tr>\n",
       "    <tr>\n",
       "      <td>71</td>\n",
       "      <td>1</td>\n",
       "      <td>Pure</td>\n",
       "      <td>F 16 10 079 D</td>\n",
       "      <td>-0.973212</td>\n",
       "      <td>-0.972429</td>\n",
       "      <td>-0.973996</td>\n",
       "      <td>-0.972429</td>\n",
       "      <td>-0.973604</td>\n",
       "      <td>-0.973996</td>\n",
       "      <td>-0.974388</td>\n",
       "      <td>...</td>\n",
       "      <td>2.698725</td>\n",
       "      <td>2.695982</td>\n",
       "      <td>2.706562</td>\n",
       "      <td>2.721453</td>\n",
       "      <td>2.728508</td>\n",
       "      <td>2.757506</td>\n",
       "      <td>2.727724</td>\n",
       "      <td>2.754764</td>\n",
       "      <td>2.781020</td>\n",
       "      <td>2.730989</td>\n",
       "    </tr>\n",
       "  </tbody>\n",
       "</table>\n",
       "<p>72 rows × 447 columns</p>\n",
       "</div>"
      ],
      "text/plain": [
       "    Group Class           Name      3999      3991      3983      3975  \\\n",
       "0       1  Pure  F 16 08 001 D -0.968873 -0.969487 -0.970409 -0.969794   \n",
       "1       1  Pure  F 16 08 002 D -0.965465 -0.964848 -0.965465 -0.966697   \n",
       "2       1  Pure  F 16 08 003 D -0.968031 -0.969617 -0.968665 -0.970568   \n",
       "3       1  Pure  F 16 08 005 D -0.957622 -0.957622 -0.958654 -0.958654   \n",
       "4       1  Pure  F 16 08 006 D -0.960211 -0.961166 -0.961166 -0.961803   \n",
       "..    ...   ...            ...       ...       ...       ...       ...   \n",
       "67      1  Pure  F 16 10 073 D -0.969603 -0.969603 -0.966800 -0.967267   \n",
       "68      1  Pure  F 16 10 075 D -0.955665 -0.957460 -0.956024 -0.958178   \n",
       "69      1  Pure  F 16 10 076 D -0.970511 -0.968855 -0.972167 -0.971339   \n",
       "70      1  Pure  F 16 10 078 D -0.966621 -0.964083 -0.967637 -0.967637   \n",
       "71      1  Pure  F 16 10 079 D -0.973212 -0.972429 -0.973996 -0.972429   \n",
       "\n",
       "        3967      3959      3951  ...       527       519       511       503  \\\n",
       "0  -0.970101 -0.971944 -0.970409  ...  2.629155  2.652808  2.665095  2.684140   \n",
       "1  -0.966389 -0.968238 -0.968546  ...  2.669310  2.672083  2.703205  2.711524   \n",
       "2  -0.970568 -0.970568 -0.971203  ...  2.538191  2.525503  2.544218  2.570861   \n",
       "3  -0.960374 -0.959686 -0.957622  ...  2.626278  2.622494  2.646919  2.666528   \n",
       "4  -0.961803 -0.962758 -0.963713  ...  2.698431  2.711802  2.710846  2.746185   \n",
       "..       ...       ...       ...  ...       ...       ...       ...       ...   \n",
       "67 -0.969136 -0.966800 -0.969136  ...  2.636443  2.648588  2.671476  2.672410   \n",
       "68 -0.958178 -0.958178 -0.960692  ...  2.701744  2.707488  2.719695  2.747340   \n",
       "69 -0.974236 -0.971753 -0.972580  ...  2.724657  2.727968  2.746593  2.754457   \n",
       "70 -0.965606 -0.967637 -0.967637  ...  2.693649  2.694664  2.704819  2.753562   \n",
       "71 -0.973604 -0.973996 -0.974388  ...  2.698725  2.695982  2.706562  2.721453   \n",
       "\n",
       "         495       487       479       471       463       455  \n",
       "0   2.700114  2.693664  2.721617  2.728067  2.718238  2.668986  \n",
       "1   2.749117  2.733402  2.765756  2.758977  2.775000  2.714092  \n",
       "2   2.570544  2.567690  2.566421  2.566739  2.547390  2.592536  \n",
       "3   2.685448  2.685792  2.708497  2.693705  2.689920  2.707809  \n",
       "4   2.777385  2.767516  2.800307  2.807311  2.764331  2.773564  \n",
       "..       ...       ...       ...       ...       ...       ...  \n",
       "67  2.735469  2.735937  2.742009  2.776107  2.732200  2.722234  \n",
       "68  2.732261  2.743750  2.733338  2.737647  2.741955  2.696239  \n",
       "69  2.782601  2.801640  2.832681  2.874069  2.798743  2.745627  \n",
       "70  2.762701  2.781995  2.783518  2.802812  2.751531  2.759993  \n",
       "71  2.728508  2.757506  2.727724  2.754764  2.781020  2.730989  \n",
       "\n",
       "[72 rows x 447 columns]"
      ]
     },
     "execution_count": 4,
     "metadata": {},
     "output_type": "execute_result"
    }
   ],
   "source": [
    "# You can see that samples are rows, columns are different features\n",
    "df"
   ]
  },
  {
   "cell_type": "code",
   "execution_count": 5,
   "metadata": {
    "hidden": true
   },
   "outputs": [],
   "source": [
    "raw_x = np.array(df.values[:,3:], dtype=float) # Extract features\n",
    "raw_y = np.array(df['Class'].values, dtype=str) # Take the class as the target"
   ]
  },
  {
   "cell_type": "markdown",
   "metadata": {
    "heading_collapsed": true
   },
   "source": [
    "# Model the Data with DD-SIMCA"
   ]
  },
  {
   "cell_type": "code",
   "execution_count": 6,
   "metadata": {
    "hidden": true
   },
   "outputs": [],
   "source": [
    "from chemometrics.classifier.simca import DDSIMCA_Model"
   ]
  },
  {
   "cell_type": "markdown",
   "metadata": {
    "hidden": true
   },
   "source": [
    "## Training"
   ]
  },
  {
   "cell_type": "code",
   "execution_count": 7,
   "metadata": {
    "hidden": true
   },
   "outputs": [],
   "source": [
    "# Here the data is spectra so we will not scale the X data\n",
    "dds = DDSIMCA_Model(n_components=7, alpha=0.05, gamma=0.01, scale_x=False)"
   ]
  },
  {
   "cell_type": "code",
   "execution_count": 8,
   "metadata": {
    "hidden": true
   },
   "outputs": [],
   "source": [
    "_ = dds.fit(raw_x, raw_y)"
   ]
  },
  {
   "cell_type": "code",
   "execution_count": 9,
   "metadata": {
    "hidden": true
   },
   "outputs": [
    {
     "data": {
      "image/png": "[encoded data removed]",
      "text/plain": [
       "<Figure size 432x288 with 1 Axes>"
      ]
     },
     "metadata": {
      "needs_background": "light"
     },
     "output_type": "display_data"
    }
   ],
   "source": [
    "_ = dds.visualize(raw_x, raw_y)"
   ]
  },
  {
   "cell_type": "code",
   "execution_count": 10,
   "metadata": {
    "hidden": true
   },
   "outputs": [
    {
     "data": {
      "text/plain": [
       "72"
      ]
     },
     "execution_count": 10,
     "metadata": {},
     "output_type": "execute_result"
    }
   ],
   "source": [
    "# We can see what samples are classified as 'Pure' using the predict() function.\n",
    "pure_sample_mask = dds.predict(raw_x)\n",
    "len(pure_sample_mask)"
   ]
  },
  {
   "cell_type": "code",
   "execution_count": 11,
   "metadata": {
    "hidden": true
   },
   "outputs": [],
   "source": [
    "# We could extract that data as follows:\n",
    "pure = raw_x[pure_sample_mask]"
   ]
  },
  {
   "cell_type": "code",
   "execution_count": 12,
   "metadata": {
    "hidden": true
   },
   "outputs": [],
   "source": [
    "# Extremes and Outliers can be found using the check_outliers() function.\n",
    "extremes_mask, outliers_mask = dds.check_outliers(raw_x)"
   ]
  },
  {
   "cell_type": "code",
   "execution_count": 13,
   "metadata": {
    "hidden": true
   },
   "outputs": [],
   "source": [
    "# We could extract that data as follows:\n",
    "extremes = raw_x[extremes_mask]\n",
    "outliers = raw_x[outliers_mask]"
   ]
  },
  {
   "cell_type": "code",
   "execution_count": 14,
   "metadata": {
    "hidden": true
   },
   "outputs": [
    {
     "data": {
      "text/plain": [
       "0"
      ]
     },
     "execution_count": 14,
     "metadata": {},
     "output_type": "execute_result"
    }
   ],
   "source": [
    "# Number of outliers, for example?\n",
    "np.sum(outliers_mask)"
   ]
  },
  {
   "cell_type": "code",
   "execution_count": 15,
   "metadata": {
    "hidden": true
   },
   "outputs": [
    {
     "data": {
      "text/plain": [
       "5"
      ]
     },
     "execution_count": 15,
     "metadata": {},
     "output_type": "execute_result"
    }
   ],
   "source": [
    "# Number of extremes, for example?\n",
    "np.sum(extremes_mask)"
   ]
  },
  {
   "cell_type": "markdown",
   "metadata": {
    "hidden": true
   },
   "source": [
    "## Testing"
   ]
  },
  {
   "cell_type": "markdown",
   "metadata": {
    "hidden": true
   },
   "source": [
    "First, let's test on other pure samples that weren't in the training set."
   ]
  },
  {
   "cell_type": "code",
   "execution_count": 16,
   "metadata": {
    "hidden": true
   },
   "outputs": [],
   "source": [
    "df = pd.read_csv('../tests/data/simca_test.csv')\n",
    "raw_x_t = np.array(df.values[:,3:], dtype=float)\n",
    "raw_y_t = np.array(df.values[:,1], dtype=str)"
   ]
  },
  {
   "cell_type": "code",
   "execution_count": 17,
   "metadata": {
    "hidden": true
   },
   "outputs": [
    {
     "data": {
      "image/png": "[encoded data removed]",
      "text/plain": [
       "<Figure size 432x288 with 1 Axes>"
      ]
     },
     "metadata": {
      "needs_background": "light"
     },
     "output_type": "display_data"
    }
   ],
   "source": [
    "# Here, we would like to see all the points fall INSIDE the green acceptance region since we know they\n",
    "# all belong to the 'Pure' class.\n",
    "_ = dds.visualize(raw_x_t, raw_y_t)"
   ]
  },
  {
   "cell_type": "markdown",
   "metadata": {
    "hidden": true
   },
   "source": [
    "We could also check against known alternates."
   ]
  },
  {
   "cell_type": "code",
   "execution_count": 18,
   "metadata": {
    "hidden": true
   },
   "outputs": [],
   "source": [
    "df = pd.read_csv('../tests/data/simca_test_alt.csv', header=None)\n",
    "raw_x_a = np.array(df.values[:,3:], dtype=float)\n",
    "raw_y_a = np.array(df.values[:,1], dtype=str)"
   ]
  },
  {
   "cell_type": "code",
   "execution_count": 19,
   "metadata": {
    "hidden": true
   },
   "outputs": [
    {
     "data": {
      "image/png": "[encoded data removed]",
      "text/plain": [
       "<Figure size 432x288 with 1 Axes>"
      ]
     },
     "metadata": {
      "needs_background": "light"
     },
     "output_type": "display_data"
    }
   ],
   "source": [
    "# Here, we would like to see all the points fall OUTSIDE the green acceptance region since we know they\n",
    "# are not the 'Pure' class.\n",
    "_ = dds.visualize(raw_x_a, raw_y_a)"
   ]
  },
  {
   "cell_type": "markdown",
   "metadata": {
    "heading_collapsed": true
   },
   "source": [
    "# Create a Classifier"
   ]
  },
  {
   "cell_type": "markdown",
   "metadata": {
    "hidden": true
   },
   "source": [
    "In the last section, we just created a DD-SIMCA Model. In practice, we would like to turn that into a classifier.  "
   ]
  },
  {
   "cell_type": "code",
   "execution_count": 20,
   "metadata": {
    "hidden": true
   },
   "outputs": [],
   "source": [
    "from chemometrics.classifier.simca import SIMCA_Classifier"
   ]
  },
  {
   "cell_type": "code",
   "execution_count": 21,
   "metadata": {
    "hidden": true
   },
   "outputs": [],
   "source": [
    "sc = SIMCA_Classifier(n_components=7, \n",
    "                      alpha=0.05, \n",
    "                      scale_x=False, \n",
    "                      style='dd-simca', \n",
    "                      target_class='Pure', \n",
    "                      use='TEFF')"
   ]
  },
  {
   "cell_type": "code",
   "execution_count": 22,
   "metadata": {
    "hidden": true
   },
   "outputs": [],
   "source": [
    "# Combine the training (all Pure) and alternate data to create a new training set that has multiple (in this\n",
    "# case 2) classes.  We specified the target_class='Pure' above, which tells the classifier that we are trying\n",
    "# to model that class.  ONLY that data is used to fit the model; all other classes it is provided will be\n",
    "# ignored.\n",
    "x_train = np.vstack((raw_x, raw_x_a))\n",
    "y_train = np.hstack((raw_y, raw_y_a))\n",
    "_ = sc.fit(x_train, y_train)"
   ]
  },
  {
   "cell_type": "code",
   "execution_count": 23,
   "metadata": {
    "hidden": true
   },
   "outputs": [
    {
     "data": {
      "text/plain": [
       "0.8197974757429837"
      ]
     },
     "execution_count": 23,
     "metadata": {},
     "output_type": "execute_result"
    }
   ],
   "source": [
    "# By default, TEFF is used to score the classifer, you can change this when then classifier is instantiated.\n",
    "sc.score(x_train, y_train) # TEFF = sqrt(TSNS * TSPS)"
   ]
  },
  {
   "cell_type": "code",
   "execution_count": 24,
   "metadata": {
    "hidden": true
   },
   "outputs": [
    {
     "data": {
      "text/plain": [
       "(0.9305555555555556, 0.7222222222222222, 0.8197974757429837)"
      ]
     },
     "execution_count": 24,
     "metadata": {},
     "output_type": "execute_result"
    }
   ],
   "source": [
    "sc.TSNS, sc.TSPS, sc.TEFF"
   ]
  },
  {
   "cell_type": "code",
   "execution_count": 25,
   "metadata": {
    "hidden": true
   },
   "outputs": [
    {
     "data": {
      "text/plain": [
       "<matplotlib.axes._subplots.AxesSubplot at 0x7f05b88e5a90>"
      ]
     },
     "execution_count": 25,
     "metadata": {},
     "output_type": "execute_result"
    },
    {
     "data": {
      "image/png": "[encoded data removed]",
      "text/plain": [
       "<Figure size 432x288 with 1 Axes>"
      ]
     },
     "metadata": {
      "needs_background": "light"
     },
     "output_type": "display_data"
    }
   ],
   "source": [
    "# Look at all the data.\n",
    "sc.model.visualize(x_train, y_train)"
   ]
  },
  {
   "cell_type": "code",
   "execution_count": 26,
   "metadata": {
    "hidden": true
   },
   "outputs": [
    {
     "data": {
      "text/plain": [
       "<matplotlib.axes._subplots.AxesSubplot at 0x7f05b880c210>"
      ]
     },
     "execution_count": 26,
     "metadata": {},
     "output_type": "execute_result"
    },
    {
     "data": {
      "image/png": "[encoded data removed]",
      "text/plain": [
       "<Figure size 432x288 with 1 Axes>"
      ]
     },
     "metadata": {
      "needs_background": "light"
     },
     "output_type": "display_data"
    }
   ],
   "source": [
    "# Look at just the data used to train the underlying SIMCA_Model.\n",
    "sc.model.visualize(raw_x, raw_y)"
   ]
  },
  {
   "cell_type": "code",
   "execution_count": 27,
   "metadata": {
    "hidden": true
   },
   "outputs": [
    {
     "data": {
      "text/plain": [
       "<matplotlib.axes._subplots.AxesSubplot at 0x7f05b8801110>"
      ]
     },
     "execution_count": 27,
     "metadata": {},
     "output_type": "execute_result"
    },
    {
     "data": {
      "image/png": "[encoded data removed]",
      "text/plain": [
       "<Figure size 432x288 with 1 Axes>"
      ]
     },
     "metadata": {
      "needs_background": "light"
     },
     "output_type": "display_data"
    }
   ],
   "source": [
    "# Look at the data used to test how well the model performs by classifying alternative samples.\n",
    "sc.model.visualize(raw_x_a, raw_y_a)"
   ]
  },
  {
   "cell_type": "markdown",
   "metadata": {
    "heading_collapsed": true
   },
   "source": [
    "# Optimizing the Classifier"
   ]
  },
  {
   "cell_type": "markdown",
   "metadata": {
    "hidden": true
   },
   "source": [
    "Here we took alpha as a meaningful choice of type I error rate, but it could also be adjusted.  Moreover, we arbitrarily selected the number of PCs to use in the SIMCA model.  We can use scikit-learn's pipelines to automatically optimize hyperparameters like this."
   ]
  },
  {
   "cell_type": "code",
   "execution_count": 67,
   "metadata": {
    "hidden": true
   },
   "outputs": [],
   "source": [
    "# Here I've use an imblearn pipeline, but you can also use scikit-learn's pipeline if you don't want to \n",
    "# do any class balancing.\n",
    "\n",
    "pipeline = imblearn.pipeline.Pipeline(steps=[\n",
    "    # Insert other preprocessing steps here...\n",
    "    # (\"smote\", ScaledSMOTEENN(random_state=1)), # For example, class balancing\n",
    "    (\"simca\", SIMCA_Classifier(n_components=7, \n",
    "                               alpha=0.05, \n",
    "                               scale_x=False, \n",
    "                               style='dd-simca', \n",
    "                               target_class='Pure', \n",
    "                               use='TEFF')\n",
    "    )\n",
    "])\n",
    "\n",
    "# Hyperparameters of pipeline steps are given in standard notation: step__parameter_name\n",
    "param_grid = [{\n",
    "    # 'smote__k_enn':[1, 2, 3],\n",
    "    # 'smote__k_smote':[1, 3, 3],\n",
    "    # 'smote__kind_sel_enn':['all', 'mode'],\n",
    "    'simca__n_components':np.arange(1, 10),\n",
    "    #'simca__alpha':[0.07, 0.05, 0.03, 0.01],\n",
    "    #'simca__style':['dd-simca', 'simca'],\n",
    "}]\n",
    "\n",
    "gs = GridSearchCV(\n",
    "    estimator=pipeline,\n",
    "    param_grid=param_grid,\n",
    "    n_jobs=-1,\n",
    "    cv=sklearn.model_selection.StratifiedKFold(n_splits=3, shuffle=True, random_state=0),\n",
    "    error_score=0,\n",
    "    refit=True\n",
    ")\n",
    "\n",
    "_ = gs.fit(x_train, y_train)"
   ]
  },
  {
   "cell_type": "code",
   "execution_count": 68,
   "metadata": {
    "hidden": true
   },
   "outputs": [
    {
     "data": {
      "text/plain": [
       "{'simca__n_components': 6}"
      ]
     },
     "execution_count": 68,
     "metadata": {},
     "output_type": "execute_result"
    }
   ],
   "source": [
    "# The best parameters found can be accessed like this:\n",
    "gs.best_params_"
   ]
  },
  {
   "cell_type": "code",
   "execution_count": 69,
   "metadata": {
    "hidden": true
   },
   "outputs": [
    {
     "data": {
      "text/plain": [
       "0.8413590987427072"
      ]
     },
     "execution_count": 69,
     "metadata": {},
     "output_type": "execute_result"
    }
   ],
   "source": [
    "gs.best_score_ # The best score it recieved was..."
   ]
  },
  {
   "cell_type": "code",
   "execution_count": 70,
   "metadata": {
    "hidden": true
   },
   "outputs": [
    {
     "data": {
      "text/plain": [
       "{'mean_fit_time': array([0.30326374, 0.28212611, 0.35160867, 0.24655326, 0.30190007,\n",
       "        0.2085797 , 0.22400387, 0.15863276, 0.13817771]),\n",
       " 'std_fit_time': array([0.08719398, 0.02960608, 0.07069978, 0.05644194, 0.01043722,\n",
       "        0.02503004, 0.02231856, 0.02503231, 0.02232168]),\n",
       " 'mean_score_time': array([0.0245595 , 0.01143607, 0.0029401 , 0.0104653 , 0.00163221,\n",
       "        0.00414181, 0.0017213 , 0.00415166, 0.00182486]),\n",
       " 'std_score_time': array([5.91685337e-03, 6.90501848e-03, 1.88106925e-03, 1.25266560e-02,\n",
       "        9.27281753e-05, 3.43737760e-03, 1.62517471e-04, 3.31493604e-03,\n",
       "        4.27295362e-04]),\n",
       " 'param_simca__n_components': masked_array(data=[1, 2, 3, 4, 5, 6, 7, 8, 9],\n",
       "              mask=[False, False, False, False, False, False, False, False,\n",
       "                    False],\n",
       "        fill_value='?',\n",
       "             dtype=object),\n",
       " 'params': [{'simca__n_components': 1},\n",
       "  {'simca__n_components': 2},\n",
       "  {'simca__n_components': 3},\n",
       "  {'simca__n_components': 4},\n",
       "  {'simca__n_components': 5},\n",
       "  {'simca__n_components': 6},\n",
       "  {'simca__n_components': 7},\n",
       "  {'simca__n_components': 8},\n",
       "  {'simca__n_components': 9}],\n",
       " 'split0_test_score': array([0.39086798, 0.57735027, 0.78173596, 0.93541435, 0.74535599,\n",
       "        0.8660254 , 0.81649658, 0.76376262, 0.73598007]),\n",
       " 'split1_test_score': array([0.39965263, 0.39965263, 0.39965263, 0.5527708 , 0.76376262,\n",
       "        0.88975652, 0.83333333, 0.93541435, 0.88975652]),\n",
       " 'split2_test_score': array([0.62915287, 0.64549722, 0.61237244, 0.59511904, 0.68718427,\n",
       "        0.76829537, 0.74535599, 0.72168784, 0.64549722]),\n",
       " 'mean_test_score': array([0.47322449, 0.54083337, 0.59792034, 0.69443473, 0.73210096,\n",
       "        0.8413591 , 0.7983953 , 0.80695493, 0.75707794]),\n",
       " 'std_test_score': array([0.11031632, 0.10363399, 0.15631926, 0.17127313, 0.03263774,\n",
       "        0.05256439, 0.03812913, 0.09244435, 0.10082821]),\n",
       " 'rank_test_score': array([9, 8, 7, 6, 5, 1, 3, 2, 4], dtype=int32)}"
      ]
     },
     "execution_count": 70,
     "metadata": {},
     "output_type": "execute_result"
    }
   ],
   "source": [
    "# You can see detailed CV results here\n",
    "gs.cv_results_"
   ]
  },
  {
   "cell_type": "code",
   "execution_count": 71,
   "metadata": {
    "hidden": true
   },
   "outputs": [
    {
     "data": {
      "text/plain": [
       "Text(0, 0.5, 'Mean Test Score (TEFF)')"
      ]
     },
     "execution_count": 71,
     "metadata": {},
     "output_type": "execute_result"
    },
    {
     "data": {
      "image/png": "[encoded data removed]",
      "text/plain": [
       "<Figure size 432x288 with 1 Axes>"
      ]
     },
     "metadata": {
      "needs_background": "light"
     },
     "output_type": "display_data"
    }
   ],
   "source": [
    "# For a 1D optimization you can easily visualize where the best value is\n",
    "plt.errorbar(np.arange(1, 10), gs.cv_results_['mean_test_score'], yerr=gs.cv_results_['std_test_score'])\n",
    "plt.xlabel('n_components')\n",
    "plt.ylabel('Mean Test Score (TEFF)')"
   ]
  },
  {
   "cell_type": "code",
   "execution_count": 72,
   "metadata": {
    "hidden": true
   },
   "outputs": [
    {
     "data": {
      "text/plain": [
       "array([ True,  True,  True,  True,  True,  True,  True,  True,  True,\n",
       "        True,  True,  True,  True,  True, False,  True,  True,  True,\n",
       "       False,  True, False, False,  True,  True,  True,  True,  True,\n",
       "        True,  True,  True,  True,  True,  True,  True,  True,  True,\n",
       "        True,  True,  True,  True,  True,  True,  True,  True,  True,\n",
       "        True,  True,  True,  True,  True,  True,  True,  True,  True,\n",
       "        True,  True,  True,  True,  True,  True,  True,  True,  True,\n",
       "        True,  True, False,  True,  True,  True,  True,  True,  True])"
      ]
     },
     "execution_count": 72,
     "metadata": {},
     "output_type": "execute_result"
    }
   ],
   "source": [
    "# The refit=True (default) refits the model on the data in the end so you can use it directly.\n",
    "gs.best_estimator_.predict(raw_x) # raw_x was just Pure"
   ]
  },
  {
   "cell_type": "code",
   "execution_count": 73,
   "metadata": {
    "hidden": true
   },
   "outputs": [
    {
     "data": {
      "text/plain": [
       "array([ True, False, False,  True, False, False,  True,  True, False,\n",
       "        True, False, False, False, False, False,  True, False, False])"
      ]
     },
     "execution_count": 73,
     "metadata": {},
     "output_type": "execute_result"
    }
   ],
   "source": [
    "gs.best_estimator_.predict(raw_x_a) # raw_x_a was just Alternates"
   ]
  },
  {
   "cell_type": "code",
   "execution_count": 74,
   "metadata": {
    "hidden": true
   },
   "outputs": [
    {
     "data": {
      "text/plain": [
       "<matplotlib.axes._subplots.AxesSubplot at 0x7f05b1342790>"
      ]
     },
     "execution_count": 74,
     "metadata": {},
     "output_type": "execute_result"
    },
    {
     "data": {
      "image/png": "[encoded data removed]",
      "text/plain": [
       "<Figure size 432x288 with 1 Axes>"
      ]
     },
     "metadata": {
      "needs_background": "light"
     },
     "output_type": "display_data"
    }
   ],
   "source": [
    "gs.best_estimator_.named_steps['simca'].model.visualize(x_train, y_train)"
   ]
  },
  {
   "cell_type": "code",
   "execution_count": 54,
   "metadata": {
    "hidden": true
   },
   "outputs": [
    {
     "data": {
      "text/plain": [
       "0.7876359377087682"
      ]
     },
     "execution_count": 54,
     "metadata": {},
     "output_type": "execute_result"
    }
   ],
   "source": [
    "gs.best_estimator_.named_steps['simca'].score(x_train, y_train) # The score being used here is TEFF"
   ]
  },
  {
   "cell_type": "code",
   "execution_count": 55,
   "metadata": {
    "hidden": true
   },
   "outputs": [
    {
     "data": {
      "text/plain": [
       "0.9305555555555556"
      ]
     },
     "execution_count": 55,
     "metadata": {},
     "output_type": "execute_result"
    }
   ],
   "source": [
    "gs.best_estimator_.named_steps['simca'].TSNS # 67 / (67+5)"
   ]
  },
  {
   "cell_type": "code",
   "execution_count": 56,
   "metadata": {
    "hidden": true
   },
   "outputs": [
    {
     "data": {
      "text/plain": [
       "0.6666666666666667"
      ]
     },
     "execution_count": 56,
     "metadata": {},
     "output_type": "execute_result"
    }
   ],
   "source": [
    "gs.best_estimator_.named_steps['simca'].TSPS # 1 - 6/(6+5+7)"
   ]
  },
  {
   "cell_type": "code",
   "execution_count": 57,
   "metadata": {
    "hidden": true
   },
   "outputs": [
    {
     "data": {
      "text/plain": [
       "0.7876359377087682"
      ]
     },
     "execution_count": 57,
     "metadata": {},
     "output_type": "execute_result"
    }
   ],
   "source": [
    "gs.best_estimator_.named_steps['simca'].TEFF # sqrt(TSPS*TSNS)"
   ]
  },
  {
   "cell_type": "code",
   "execution_count": null,
   "metadata": {
    "hidden": true
   },
   "outputs": [],
   "source": []
  }
 ],
 "metadata": {
  "kernelspec": {
   "display_name": "Python 3",
   "language": "python",
   "name": "python3"
  },
  "language_info": {
   "codemirror_mode": {
    "name": "ipython",
    "version": 3
   },
   "file_extension": ".py",
   "mimetype": "text/x-python",
   "name": "python",
   "nbconvert_exporter": "python",
   "pygments_lexer": "ipython3",
   "version": "3.7.4"
  },
  "toc": {
   "base_numbering": 1,
   "nav_menu": {},
   "number_sections": true,
   "sideBar": true,
   "skip_h1_title": false,
   "title_cell": "Table of Contents",
   "title_sidebar": "Contents",
   "toc_cell": true,
   "toc_position": {},
   "toc_section_display": true,
   "toc_window_display": false
  }
 },
 "nbformat": 4,
 "nbformat_minor": 2
}
