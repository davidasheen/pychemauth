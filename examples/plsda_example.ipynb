{
 "cells": [
  {
   "cell_type": "markdown",
   "metadata": {
    "toc": true
   },
   "source": [
    "<h1>Table of Contents<span class=\"tocSkip\"></span></h1>\n",
    "<div class=\"toc\"><ul class=\"toc-item\"><li><ul class=\"toc-item\"><li><span><a href=\"#Overview\" data-toc-modified-id=\"Overview-0.1\"><span class=\"toc-item-num\">0.1&nbsp;&nbsp;</span>Overview</a></span></li></ul></li><li><span><a href=\"#Load-the-Data\" data-toc-modified-id=\"Load-the-Data-1\"><span class=\"toc-item-num\">1&nbsp;&nbsp;</span>Load the Data</a></span></li><li><span><a href=\"#Model-the-Data-with-PLS-DA\" data-toc-modified-id=\"Model-the-Data-with-PLS-DA-2\"><span class=\"toc-item-num\">2&nbsp;&nbsp;</span>Model the Data with PLS-DA</a></span><ul class=\"toc-item\"><li><span><a href=\"#Training-a-Hard-Model\" data-toc-modified-id=\"Training-a-Hard-Model-2.1\"><span class=\"toc-item-num\">2.1&nbsp;&nbsp;</span>Training a Hard Model</a></span></li><li><span><a href=\"#Training-a-Soft-Model\" data-toc-modified-id=\"Training-a-Soft-Model-2.2\"><span class=\"toc-item-num\">2.2&nbsp;&nbsp;</span>Training a Soft Model</a></span></li><li><span><a href=\"#Testing\" data-toc-modified-id=\"Testing-2.3\"><span class=\"toc-item-num\">2.3&nbsp;&nbsp;</span>Testing</a></span></li></ul></li><li><span><a href=\"#Optimizing-the-Classifier\" data-toc-modified-id=\"Optimizing-the-Classifier-3\"><span class=\"toc-item-num\">3&nbsp;&nbsp;</span>Optimizing the Classifier</a></span></li></ul></div>"
   ]
  },
  {
   "cell_type": "code",
   "execution_count": 1,
   "metadata": {},
   "outputs": [
    {
     "name": "stderr",
     "output_type": "stream",
     "text": [
      "/home/nam/anaconda3/lib/python3.7/site-packages/sklearn/utils/deprecation.py:144: FutureWarning: The sklearn.neighbors.base module is  deprecated in version 0.22 and will be removed in version 0.24. The corresponding classes / functions should instead be imported from sklearn.neighbors. Anything that cannot be imported from sklearn.neighbors is now part of the private API.\n",
      "  warnings.warn(message, FutureWarning)\n",
      "/home/nam/anaconda3/lib/python3.7/site-packages/sklearn/utils/deprecation.py:144: FutureWarning: The sklearn.ensemble.bagging module is  deprecated in version 0.22 and will be removed in version 0.24. The corresponding classes / functions should instead be imported from sklearn.ensemble. Anything that cannot be imported from sklearn.ensemble is now part of the private API.\n",
      "  warnings.warn(message, FutureWarning)\n",
      "/home/nam/anaconda3/lib/python3.7/site-packages/sklearn/utils/deprecation.py:144: FutureWarning: The sklearn.ensemble.base module is  deprecated in version 0.22 and will be removed in version 0.24. The corresponding classes / functions should instead be imported from sklearn.ensemble. Anything that cannot be imported from sklearn.ensemble is now part of the private API.\n",
      "  warnings.warn(message, FutureWarning)\n",
      "/home/nam/anaconda3/lib/python3.7/site-packages/sklearn/utils/deprecation.py:144: FutureWarning: The sklearn.ensemble.forest module is  deprecated in version 0.22 and will be removed in version 0.24. The corresponding classes / functions should instead be imported from sklearn.ensemble. Anything that cannot be imported from sklearn.ensemble is now part of the private API.\n",
      "  warnings.warn(message, FutureWarning)\n",
      "/home/nam/anaconda3/lib/python3.7/site-packages/sklearn/utils/deprecation.py:144: FutureWarning: The sklearn.utils.testing module is  deprecated in version 0.22 and will be removed in version 0.24. The corresponding classes / functions should instead be imported from sklearn.utils. Anything that cannot be imported from sklearn.utils is now part of the private API.\n",
      "  warnings.warn(message, FutureWarning)\n",
      "/home/nam/anaconda3/lib/python3.7/site-packages/sklearn/utils/deprecation.py:144: FutureWarning: The sklearn.metrics.classification module is  deprecated in version 0.22 and will be removed in version 0.24. The corresponding classes / functions should instead be imported from sklearn.metrics. Anything that cannot be imported from sklearn.metrics is now part of the private API.\n",
      "  warnings.warn(message, FutureWarning)\n"
     ]
    }
   ],
   "source": [
    "import matplotlib.pyplot as plt\n",
    "%matplotlib notebook\n",
    "\n",
    "import imblearn\n",
    "import sklearn\n",
    "\n",
    "from sklearn.model_selection import GridSearchCV\n",
    "\n",
    "import sys\n",
    "sys.path.append('../../')\n",
    "import chemometrics\n",
    "\n",
    "import numpy as np\n",
    "import pandas as pd\n",
    "\n",
    "import watermark\n",
    "%load_ext watermark"
   ]
  },
  {
   "cell_type": "markdown",
   "metadata": {},
   "source": [
    "Overview\n",
    "--------\n",
    "This is a simple example of using variants of PLS-DA to do some analysis."
   ]
  },
  {
   "cell_type": "code",
   "execution_count": 2,
   "metadata": {},
   "outputs": [
    {
     "name": "stdout",
     "output_type": "stream",
     "text": [
      "json      2.0.9\n",
      "sklearn   0.22.2.post1\n",
      "numpy     1.21.4\n",
      "imblearn  0.5.0\n",
      "pandas    0.25.1\n",
      "watermark 2.0.2\n",
      "16:19:47 \n",
      "\n",
      "CPython 3.7.4\n",
      "IPython 7.8.0\n",
      "\n",
      "compiler   : GCC 7.3.0\n",
      "system     : Linux\n",
      "release    : 4.15.0-163-generic\n",
      "machine    : x86_64\n",
      "processor  : x86_64\n",
      "CPU cores  : 8\n",
      "interpreter: 64bit\n"
     ]
    }
   ],
   "source": [
    "%watermark -t -m -v --iversions"
   ]
  },
  {
   "cell_type": "markdown",
   "metadata": {
    "heading_collapsed": true
   },
   "source": [
    "# Load the Data"
   ]
  },
  {
   "cell_type": "code",
   "execution_count": 3,
   "metadata": {
    "hidden": true
   },
   "outputs": [],
   "source": [
    "# Let's load some data from the tests/ for this example\n",
    "df = pd.read_csv('../tests/data/plsda3_train.csv')"
   ]
  },
  {
   "cell_type": "code",
   "execution_count": 4,
   "metadata": {
    "hidden": true
   },
   "outputs": [
    {
     "data": {
      "text/html": [
       "<div>\n",
       "<style scoped>\n",
       "    .dataframe tbody tr th:only-of-type {\n",
       "        vertical-align: middle;\n",
       "    }\n",
       "\n",
       "    .dataframe tbody tr th {\n",
       "        vertical-align: top;\n",
       "    }\n",
       "\n",
       "    .dataframe thead th {\n",
       "        text-align: right;\n",
       "    }\n",
       "</style>\n",
       "<table border=\"1\" class=\"dataframe\">\n",
       "  <thead>\n",
       "    <tr style=\"text-align: right;\">\n",
       "      <th></th>\n",
       "      <th>Group</th>\n",
       "      <th>Class</th>\n",
       "      <th>Name</th>\n",
       "      <th>Li</th>\n",
       "      <th>B</th>\n",
       "      <th>Na</th>\n",
       "      <th>Mg</th>\n",
       "      <th>Al</th>\n",
       "      <th>K</th>\n",
       "      <th>Ca</th>\n",
       "      <th>...</th>\n",
       "      <th>Eu</th>\n",
       "      <th>Gd</th>\n",
       "      <th>Dy</th>\n",
       "      <th>Ho</th>\n",
       "      <th>Er</th>\n",
       "      <th>Tm</th>\n",
       "      <th>Yb</th>\n",
       "      <th>Lu</th>\n",
       "      <th>Pb</th>\n",
       "      <th>U</th>\n",
       "    </tr>\n",
       "  </thead>\n",
       "  <tbody>\n",
       "    <tr>\n",
       "      <td>0</td>\n",
       "      <td>1</td>\n",
       "      <td>JPN1</td>\n",
       "      <td>jpn_001</td>\n",
       "      <td>0.001287</td>\n",
       "      <td>0.435363</td>\n",
       "      <td>2.567587</td>\n",
       "      <td>143.601117</td>\n",
       "      <td>0.009235</td>\n",
       "      <td>818.961080</td>\n",
       "      <td>36.075419</td>\n",
       "      <td>...</td>\n",
       "      <td>1.318100e-04</td>\n",
       "      <td>0.000629</td>\n",
       "      <td>0.000041</td>\n",
       "      <td>0.000108</td>\n",
       "      <td>0.000385</td>\n",
       "      <td>0.000182</td>\n",
       "      <td>2.953350e-04</td>\n",
       "      <td>0.000059</td>\n",
       "      <td>0.000182</td>\n",
       "      <td>0.000174</td>\n",
       "    </tr>\n",
       "    <tr>\n",
       "      <td>1</td>\n",
       "      <td>1</td>\n",
       "      <td>JPN1</td>\n",
       "      <td>jpn_002</td>\n",
       "      <td>0.001474</td>\n",
       "      <td>0.385210</td>\n",
       "      <td>4.595786</td>\n",
       "      <td>276.591018</td>\n",
       "      <td>0.084693</td>\n",
       "      <td>863.273852</td>\n",
       "      <td>50.704790</td>\n",
       "      <td>...</td>\n",
       "      <td>1.823270e-04</td>\n",
       "      <td>0.000592</td>\n",
       "      <td>0.000386</td>\n",
       "      <td>0.000051</td>\n",
       "      <td>0.000148</td>\n",
       "      <td>0.000021</td>\n",
       "      <td>3.067320e-06</td>\n",
       "      <td>0.000023</td>\n",
       "      <td>0.000443</td>\n",
       "      <td>0.000723</td>\n",
       "    </tr>\n",
       "    <tr>\n",
       "      <td>2</td>\n",
       "      <td>1</td>\n",
       "      <td>JPN1</td>\n",
       "      <td>jpn_003</td>\n",
       "      <td>0.000748</td>\n",
       "      <td>0.289601</td>\n",
       "      <td>5.806715</td>\n",
       "      <td>117.037380</td>\n",
       "      <td>0.119564</td>\n",
       "      <td>851.174760</td>\n",
       "      <td>46.020288</td>\n",
       "      <td>...</td>\n",
       "      <td>7.401510e-07</td>\n",
       "      <td>0.000717</td>\n",
       "      <td>0.000353</td>\n",
       "      <td>0.000192</td>\n",
       "      <td>0.000434</td>\n",
       "      <td>0.000194</td>\n",
       "      <td>5.446410e-05</td>\n",
       "      <td>0.000016</td>\n",
       "      <td>0.001359</td>\n",
       "      <td>0.000029</td>\n",
       "    </tr>\n",
       "    <tr>\n",
       "      <td>3</td>\n",
       "      <td>1</td>\n",
       "      <td>JPN1</td>\n",
       "      <td>jpn_004</td>\n",
       "      <td>0.000882</td>\n",
       "      <td>0.525801</td>\n",
       "      <td>0.554544</td>\n",
       "      <td>335.195531</td>\n",
       "      <td>0.388480</td>\n",
       "      <td>836.126629</td>\n",
       "      <td>45.437616</td>\n",
       "      <td>...</td>\n",
       "      <td>1.283760e-04</td>\n",
       "      <td>0.000481</td>\n",
       "      <td>0.000124</td>\n",
       "      <td>0.000041</td>\n",
       "      <td>0.000012</td>\n",
       "      <td>0.000180</td>\n",
       "      <td>2.635580e-04</td>\n",
       "      <td>0.000029</td>\n",
       "      <td>0.000948</td>\n",
       "      <td>0.000236</td>\n",
       "    </tr>\n",
       "    <tr>\n",
       "      <td>4</td>\n",
       "      <td>1</td>\n",
       "      <td>JPN1</td>\n",
       "      <td>jpn_005</td>\n",
       "      <td>0.001387</td>\n",
       "      <td>0.659031</td>\n",
       "      <td>3.102831</td>\n",
       "      <td>213.051823</td>\n",
       "      <td>0.106865</td>\n",
       "      <td>756.238004</td>\n",
       "      <td>39.155470</td>\n",
       "      <td>...</td>\n",
       "      <td>1.014040e-04</td>\n",
       "      <td>0.000464</td>\n",
       "      <td>0.000608</td>\n",
       "      <td>0.000031</td>\n",
       "      <td>0.000178</td>\n",
       "      <td>0.000102</td>\n",
       "      <td>4.990830e-05</td>\n",
       "      <td>0.000125</td>\n",
       "      <td>0.001060</td>\n",
       "      <td>0.000130</td>\n",
       "    </tr>\n",
       "    <tr>\n",
       "      <td>...</td>\n",
       "      <td>...</td>\n",
       "      <td>...</td>\n",
       "      <td>...</td>\n",
       "      <td>...</td>\n",
       "      <td>...</td>\n",
       "      <td>...</td>\n",
       "      <td>...</td>\n",
       "      <td>...</td>\n",
       "      <td>...</td>\n",
       "      <td>...</td>\n",
       "      <td>...</td>\n",
       "      <td>...</td>\n",
       "      <td>...</td>\n",
       "      <td>...</td>\n",
       "      <td>...</td>\n",
       "      <td>...</td>\n",
       "      <td>...</td>\n",
       "      <td>...</td>\n",
       "      <td>...</td>\n",
       "      <td>...</td>\n",
       "      <td>...</td>\n",
       "    </tr>\n",
       "    <tr>\n",
       "      <td>340</td>\n",
       "      <td>1</td>\n",
       "      <td>THA1</td>\n",
       "      <td>tha_372</td>\n",
       "      <td>0.008112</td>\n",
       "      <td>0.515135</td>\n",
       "      <td>3.623354</td>\n",
       "      <td>227.360308</td>\n",
       "      <td>0.075525</td>\n",
       "      <td>830.443160</td>\n",
       "      <td>39.884393</td>\n",
       "      <td>...</td>\n",
       "      <td>1.861820e-04</td>\n",
       "      <td>0.000506</td>\n",
       "      <td>0.000387</td>\n",
       "      <td>0.000062</td>\n",
       "      <td>0.000193</td>\n",
       "      <td>0.000139</td>\n",
       "      <td>7.063200e-07</td>\n",
       "      <td>0.000063</td>\n",
       "      <td>0.001554</td>\n",
       "      <td>0.000056</td>\n",
       "    </tr>\n",
       "    <tr>\n",
       "      <td>341</td>\n",
       "      <td>1</td>\n",
       "      <td>THA1</td>\n",
       "      <td>tha_373</td>\n",
       "      <td>0.000198</td>\n",
       "      <td>0.554359</td>\n",
       "      <td>2.752819</td>\n",
       "      <td>397.151899</td>\n",
       "      <td>0.171857</td>\n",
       "      <td>879.746835</td>\n",
       "      <td>45.727848</td>\n",
       "      <td>...</td>\n",
       "      <td>2.826660e-05</td>\n",
       "      <td>0.000265</td>\n",
       "      <td>0.000556</td>\n",
       "      <td>0.000160</td>\n",
       "      <td>0.000157</td>\n",
       "      <td>0.000057</td>\n",
       "      <td>1.746930e-04</td>\n",
       "      <td>0.000183</td>\n",
       "      <td>0.000947</td>\n",
       "      <td>0.000180</td>\n",
       "    </tr>\n",
       "    <tr>\n",
       "      <td>342</td>\n",
       "      <td>1</td>\n",
       "      <td>THA1</td>\n",
       "      <td>tha_374</td>\n",
       "      <td>0.006398</td>\n",
       "      <td>0.729045</td>\n",
       "      <td>3.337994</td>\n",
       "      <td>385.826772</td>\n",
       "      <td>0.268925</td>\n",
       "      <td>938.976378</td>\n",
       "      <td>41.141732</td>\n",
       "      <td>...</td>\n",
       "      <td>4.206440e-06</td>\n",
       "      <td>0.000730</td>\n",
       "      <td>0.000662</td>\n",
       "      <td>0.000173</td>\n",
       "      <td>0.000183</td>\n",
       "      <td>0.000141</td>\n",
       "      <td>2.974180e-04</td>\n",
       "      <td>0.000193</td>\n",
       "      <td>0.003334</td>\n",
       "      <td>0.000208</td>\n",
       "    </tr>\n",
       "    <tr>\n",
       "      <td>343</td>\n",
       "      <td>1</td>\n",
       "      <td>THA1</td>\n",
       "      <td>tha_375</td>\n",
       "      <td>0.009893</td>\n",
       "      <td>0.457777</td>\n",
       "      <td>3.021736</td>\n",
       "      <td>364.285714</td>\n",
       "      <td>0.144162</td>\n",
       "      <td>978.571429</td>\n",
       "      <td>49.285714</td>\n",
       "      <td>...</td>\n",
       "      <td>1.831960e-04</td>\n",
       "      <td>0.000115</td>\n",
       "      <td>0.000521</td>\n",
       "      <td>0.000150</td>\n",
       "      <td>0.000148</td>\n",
       "      <td>0.000111</td>\n",
       "      <td>2.903890e-04</td>\n",
       "      <td>0.000099</td>\n",
       "      <td>0.000721</td>\n",
       "      <td>0.000079</td>\n",
       "    </tr>\n",
       "    <tr>\n",
       "      <td>344</td>\n",
       "      <td>1</td>\n",
       "      <td>THA1</td>\n",
       "      <td>tha_376</td>\n",
       "      <td>0.006411</td>\n",
       "      <td>0.575608</td>\n",
       "      <td>1.506174</td>\n",
       "      <td>439.939940</td>\n",
       "      <td>0.227648</td>\n",
       "      <td>1139.639640</td>\n",
       "      <td>49.849850</td>\n",
       "      <td>...</td>\n",
       "      <td>9.359490e-05</td>\n",
       "      <td>0.000240</td>\n",
       "      <td>0.000490</td>\n",
       "      <td>0.000095</td>\n",
       "      <td>0.000091</td>\n",
       "      <td>0.000140</td>\n",
       "      <td>1.980240e-04</td>\n",
       "      <td>0.000027</td>\n",
       "      <td>0.001252</td>\n",
       "      <td>0.000179</td>\n",
       "    </tr>\n",
       "  </tbody>\n",
       "</table>\n",
       "<p>345 rows × 44 columns</p>\n",
       "</div>"
      ],
      "text/plain": [
       "     Group Class     Name        Li         B        Na          Mg        Al  \\\n",
       "0        1  JPN1  jpn_001  0.001287  0.435363  2.567587  143.601117  0.009235   \n",
       "1        1  JPN1  jpn_002  0.001474  0.385210  4.595786  276.591018  0.084693   \n",
       "2        1  JPN1  jpn_003  0.000748  0.289601  5.806715  117.037380  0.119564   \n",
       "3        1  JPN1  jpn_004  0.000882  0.525801  0.554544  335.195531  0.388480   \n",
       "4        1  JPN1  jpn_005  0.001387  0.659031  3.102831  213.051823  0.106865   \n",
       "..     ...   ...      ...       ...       ...       ...         ...       ...   \n",
       "340      1  THA1  tha_372  0.008112  0.515135  3.623354  227.360308  0.075525   \n",
       "341      1  THA1  tha_373  0.000198  0.554359  2.752819  397.151899  0.171857   \n",
       "342      1  THA1  tha_374  0.006398  0.729045  3.337994  385.826772  0.268925   \n",
       "343      1  THA1  tha_375  0.009893  0.457777  3.021736  364.285714  0.144162   \n",
       "344      1  THA1  tha_376  0.006411  0.575608  1.506174  439.939940  0.227648   \n",
       "\n",
       "               K         Ca  ...            Eu        Gd        Dy        Ho  \\\n",
       "0     818.961080  36.075419  ...  1.318100e-04  0.000629  0.000041  0.000108   \n",
       "1     863.273852  50.704790  ...  1.823270e-04  0.000592  0.000386  0.000051   \n",
       "2     851.174760  46.020288  ...  7.401510e-07  0.000717  0.000353  0.000192   \n",
       "3     836.126629  45.437616  ...  1.283760e-04  0.000481  0.000124  0.000041   \n",
       "4     756.238004  39.155470  ...  1.014040e-04  0.000464  0.000608  0.000031   \n",
       "..           ...        ...  ...           ...       ...       ...       ...   \n",
       "340   830.443160  39.884393  ...  1.861820e-04  0.000506  0.000387  0.000062   \n",
       "341   879.746835  45.727848  ...  2.826660e-05  0.000265  0.000556  0.000160   \n",
       "342   938.976378  41.141732  ...  4.206440e-06  0.000730  0.000662  0.000173   \n",
       "343   978.571429  49.285714  ...  1.831960e-04  0.000115  0.000521  0.000150   \n",
       "344  1139.639640  49.849850  ...  9.359490e-05  0.000240  0.000490  0.000095   \n",
       "\n",
       "           Er        Tm            Yb        Lu        Pb         U  \n",
       "0    0.000385  0.000182  2.953350e-04  0.000059  0.000182  0.000174  \n",
       "1    0.000148  0.000021  3.067320e-06  0.000023  0.000443  0.000723  \n",
       "2    0.000434  0.000194  5.446410e-05  0.000016  0.001359  0.000029  \n",
       "3    0.000012  0.000180  2.635580e-04  0.000029  0.000948  0.000236  \n",
       "4    0.000178  0.000102  4.990830e-05  0.000125  0.001060  0.000130  \n",
       "..        ...       ...           ...       ...       ...       ...  \n",
       "340  0.000193  0.000139  7.063200e-07  0.000063  0.001554  0.000056  \n",
       "341  0.000157  0.000057  1.746930e-04  0.000183  0.000947  0.000180  \n",
       "342  0.000183  0.000141  2.974180e-04  0.000193  0.003334  0.000208  \n",
       "343  0.000148  0.000111  2.903890e-04  0.000099  0.000721  0.000079  \n",
       "344  0.000091  0.000140  1.980240e-04  0.000027  0.001252  0.000179  \n",
       "\n",
       "[345 rows x 44 columns]"
      ]
     },
     "execution_count": 4,
     "metadata": {},
     "output_type": "execute_result"
    }
   ],
   "source": [
    "# You can see that samples are rows, columns are different features\n",
    "df"
   ]
  },
  {
   "cell_type": "code",
   "execution_count": 5,
   "metadata": {
    "hidden": true
   },
   "outputs": [],
   "source": [
    "raw_x = np.array(df.values[:,3:], dtype=float) # Extract features\n",
    "raw_y = np.array(df['Class'].values, dtype=str) # Take the class as the target"
   ]
  },
  {
   "cell_type": "markdown",
   "metadata": {
    "heading_collapsed": true
   },
   "source": [
    "# Model the Data with PLS-DA"
   ]
  },
  {
   "cell_type": "code",
   "execution_count": 6,
   "metadata": {
    "hidden": true
   },
   "outputs": [],
   "source": [
    "from chemometrics.classifier.plsda import PLSDA"
   ]
  },
  {
   "cell_type": "markdown",
   "metadata": {
    "heading_collapsed": true,
    "hidden": true
   },
   "source": [
    "## Training a Hard Model"
   ]
  },
  {
   "cell_type": "code",
   "execution_count": 7,
   "metadata": {
    "hidden": true
   },
   "outputs": [],
   "source": [
    "# Here the data are elemental levels so we will scale the X data\n",
    "plsda = PLSDA(n_components=5, \n",
    "              alpha=0.05, \n",
    "              gamma=0.01, \n",
    "              not_assigned='UNKNOWN', \n",
    "              style=\"hard\", \n",
    "              scale_x=True)"
   ]
  },
  {
   "cell_type": "code",
   "execution_count": 8,
   "metadata": {
    "hidden": true
   },
   "outputs": [],
   "source": [
    "_ = plsda.fit(raw_x, raw_y)"
   ]
  },
  {
   "cell_type": "code",
   "execution_count": 10,
   "metadata": {
    "hidden": true
   },
   "outputs": [
    {
     "data": {
      "image/png": "[encoded data removed]",
      "text/plain": [
       "<Figure size 432x288 with 1 Axes>"
      ]
     },
     "metadata": {
      "needs_background": "light"
     },
     "output_type": "display_data"
    }
   ],
   "source": [
    "_ = plsda.visualize_2d(styles=['hard'])"
   ]
  },
  {
   "cell_type": "code",
   "execution_count": 13,
   "metadata": {
    "hidden": true
   },
   "outputs": [],
   "source": [
    "# We can see what samples are predicted to be using the predict() function.\n",
    "pred = plsda.predict(raw_x)"
   ]
  },
  {
   "cell_type": "code",
   "execution_count": 15,
   "metadata": {
    "hidden": true
   },
   "outputs": [
    {
     "data": {
      "text/plain": [
       "0.9565217391304348"
      ]
     },
     "execution_count": 15,
     "metadata": {},
     "output_type": "execute_result"
    }
   ],
   "source": [
    "plsda.score(raw_x, raw_y)"
   ]
  },
  {
   "cell_type": "code",
   "execution_count": 25,
   "metadata": {
    "hidden": true
   },
   "outputs": [
    {
     "data": {
      "text/plain": [
       "0.9565217391304348"
      ]
     },
     "execution_count": 25,
     "metadata": {},
     "output_type": "execute_result"
    }
   ],
   "source": [
    "# The score() function is just tetsing how many are correctly predicted.  You can do this directly and \n",
    "# easily with the \"hard\" version of PLS-DA.\n",
    "np.sum(np.array(pred).ravel() == raw_y) / raw_y.shape[0]"
   ]
  },
  {
   "cell_type": "code",
   "execution_count": 29,
   "metadata": {
    "hidden": true
   },
   "outputs": [],
   "source": [
    "# More complete figures of merit can be computed.\n",
    "df, I, CSNS, CSPS, CEFF, TSNS, TSPS, TEFF = plsda.figures_of_merit(pred, raw_y)"
   ]
  },
  {
   "cell_type": "code",
   "execution_count": 30,
   "metadata": {
    "hidden": true
   },
   "outputs": [
    {
     "data": {
      "text/html": [
       "<div>\n",
       "<style scoped>\n",
       "    .dataframe tbody tr th:only-of-type {\n",
       "        vertical-align: middle;\n",
       "    }\n",
       "\n",
       "    .dataframe tbody tr th {\n",
       "        vertical-align: top;\n",
       "    }\n",
       "\n",
       "    .dataframe thead th {\n",
       "        text-align: right;\n",
       "    }\n",
       "</style>\n",
       "<table border=\"1\" class=\"dataframe\">\n",
       "  <thead>\n",
       "    <tr style=\"text-align: right;\">\n",
       "      <th></th>\n",
       "      <th>JPN1</th>\n",
       "      <th>PHI</th>\n",
       "      <th>THA1</th>\n",
       "      <th>UNKNOWN</th>\n",
       "    </tr>\n",
       "  </thead>\n",
       "  <tbody>\n",
       "    <tr>\n",
       "      <td>JPN1</td>\n",
       "      <td>87</td>\n",
       "      <td>0</td>\n",
       "      <td>10</td>\n",
       "      <td>0</td>\n",
       "    </tr>\n",
       "    <tr>\n",
       "      <td>PHI</td>\n",
       "      <td>2</td>\n",
       "      <td>24</td>\n",
       "      <td>3</td>\n",
       "      <td>0</td>\n",
       "    </tr>\n",
       "    <tr>\n",
       "      <td>THA1</td>\n",
       "      <td>0</td>\n",
       "      <td>0</td>\n",
       "      <td>219</td>\n",
       "      <td>0</td>\n",
       "    </tr>\n",
       "  </tbody>\n",
       "</table>\n",
       "</div>"
      ],
      "text/plain": [
       "      JPN1  PHI  THA1  UNKNOWN\n",
       "JPN1    87    0    10        0\n",
       "PHI      2   24     3        0\n",
       "THA1     0    0   219        0"
      ]
     },
     "execution_count": 30,
     "metadata": {},
     "output_type": "execute_result"
    }
   ],
   "source": [
    "df # Each row is what the sample IS, each column is what the PREDICTION is."
   ]
  },
  {
   "cell_type": "code",
   "execution_count": 31,
   "metadata": {
    "hidden": true
   },
   "outputs": [
    {
     "data": {
      "text/plain": [
       "JPN1     97\n",
       "PHI      29\n",
       "THA1    219\n",
       "dtype: int64"
      ]
     },
     "execution_count": 31,
     "metadata": {},
     "output_type": "execute_result"
    }
   ],
   "source": [
    "I # Total fo each category"
   ]
  },
  {
   "cell_type": "code",
   "execution_count": 34,
   "metadata": {
    "hidden": true
   },
   "outputs": [
    {
     "data": {
      "text/plain": [
       "JPN1    0.896907\n",
       "PHI     0.827586\n",
       "THA1    1.000000\n",
       "dtype: float64"
      ]
     },
     "execution_count": 34,
     "metadata": {},
     "output_type": "execute_result"
    }
   ],
   "source": [
    "CSNS"
   ]
  },
  {
   "cell_type": "code",
   "execution_count": 35,
   "metadata": {
    "hidden": true
   },
   "outputs": [
    {
     "data": {
      "text/plain": [
       "JPN1    0.991935\n",
       "PHI     1.000000\n",
       "THA1    0.896825\n",
       "dtype: float64"
      ]
     },
     "execution_count": 35,
     "metadata": {},
     "output_type": "execute_result"
    }
   ],
   "source": [
    "CSPS"
   ]
  },
  {
   "cell_type": "code",
   "execution_count": 36,
   "metadata": {
    "hidden": true
   },
   "outputs": [
    {
     "data": {
      "text/plain": [
       "JPN1    0.943225\n",
       "PHI     0.909718\n",
       "THA1    0.947009\n",
       "dtype: float64"
      ]
     },
     "execution_count": 36,
     "metadata": {},
     "output_type": "execute_result"
    }
   ],
   "source": [
    "CEFF"
   ]
  },
  {
   "cell_type": "code",
   "execution_count": 37,
   "metadata": {
    "hidden": true
   },
   "outputs": [
    {
     "data": {
      "text/plain": [
       "(0.9565217391304348, 0.9565217391304348, 0.9565217391304348)"
      ]
     },
     "execution_count": 37,
     "metadata": {},
     "output_type": "execute_result"
    }
   ],
   "source": [
    "TSNS, TSPS, TEFF"
   ]
  },
  {
   "cell_type": "markdown",
   "metadata": {
    "heading_collapsed": true,
    "hidden": true
   },
   "source": [
    "## Training a Soft Model"
   ]
  },
  {
   "cell_type": "code",
   "execution_count": 38,
   "metadata": {
    "hidden": true
   },
   "outputs": [],
   "source": [
    "# Here the data are elemental levels so we will scale the X data\n",
    "plsda = PLSDA(n_components=5, \n",
    "              alpha=0.05, \n",
    "              gamma=0.01, \n",
    "              not_assigned='UNKNOWN', \n",
    "              style=\"soft\", \n",
    "              scale_x=True)"
   ]
  },
  {
   "cell_type": "code",
   "execution_count": 39,
   "metadata": {
    "hidden": true
   },
   "outputs": [],
   "source": [
    "_ = plsda.fit(raw_x, raw_y)"
   ]
  },
  {
   "cell_type": "code",
   "execution_count": 41,
   "metadata": {
    "hidden": true
   },
   "outputs": [
    {
     "data": {
      "image/png": "[encoded data removed]",
      "text/plain": [
       "<Figure size 432x288 with 1 Axes>"
      ]
     },
     "metadata": {
      "needs_background": "light"
     },
     "output_type": "display_data"
    }
   ],
   "source": [
    "# You can visualize both the hard and soft boundaries if you train a soft model.\n",
    "# With a hard model, you only get the hard boundaries by default.\n",
    "_ = plsda.visualize_2d(styles=['hard', 'soft'])"
   ]
  },
  {
   "cell_type": "code",
   "execution_count": 44,
   "metadata": {
    "hidden": true
   },
   "outputs": [],
   "source": [
    "# We can see what samples are predicted to be using the predict() function.\n",
    "pred = plsda.predict(raw_x)"
   ]
  },
  {
   "cell_type": "code",
   "execution_count": 46,
   "metadata": {
    "hidden": true
   },
   "outputs": [
    {
     "data": {
      "text/plain": [
       "[['PHI'],\n",
       " ['JPN1', 'PHI'],\n",
       " ['PHI', 'JPN1'],\n",
       " ['JPN1', 'PHI'],\n",
       " ['JPN1', 'PHI'],\n",
       " ['PHI'],\n",
       " ['PHI'],\n",
       " ['PHI', 'JPN1'],\n",
       " ['PHI', 'JPN1'],\n",
       " ['PHI']]"
      ]
     },
     "execution_count": 46,
     "metadata": {},
     "output_type": "execute_result"
    }
   ],
   "source": [
    "# Samples can now be predicted to belong to multiple classes.\n",
    "pred[:10]"
   ]
  },
  {
   "cell_type": "code",
   "execution_count": 47,
   "metadata": {
    "hidden": true
   },
   "outputs": [],
   "source": [
    "# More complete figures of merit can be computed.\n",
    "df, I, CSNS, CSPS, CEFF, TSNS, TSPS, TEFF = plsda.figures_of_merit(pred, raw_y)"
   ]
  },
  {
   "cell_type": "code",
   "execution_count": 48,
   "metadata": {
    "hidden": true
   },
   "outputs": [
    {
     "data": {
      "text/html": [
       "<div>\n",
       "<style scoped>\n",
       "    .dataframe tbody tr th:only-of-type {\n",
       "        vertical-align: middle;\n",
       "    }\n",
       "\n",
       "    .dataframe tbody tr th {\n",
       "        vertical-align: top;\n",
       "    }\n",
       "\n",
       "    .dataframe thead th {\n",
       "        text-align: right;\n",
       "    }\n",
       "</style>\n",
       "<table border=\"1\" class=\"dataframe\">\n",
       "  <thead>\n",
       "    <tr style=\"text-align: right;\">\n",
       "      <th></th>\n",
       "      <th>JPN1</th>\n",
       "      <th>PHI</th>\n",
       "      <th>THA1</th>\n",
       "      <th>UNKNOWN</th>\n",
       "    </tr>\n",
       "  </thead>\n",
       "  <tbody>\n",
       "    <tr>\n",
       "      <td>JPN1</td>\n",
       "      <td>91</td>\n",
       "      <td>17</td>\n",
       "      <td>0</td>\n",
       "      <td>2</td>\n",
       "    </tr>\n",
       "    <tr>\n",
       "      <td>PHI</td>\n",
       "      <td>0</td>\n",
       "      <td>27</td>\n",
       "      <td>0</td>\n",
       "      <td>2</td>\n",
       "    </tr>\n",
       "    <tr>\n",
       "      <td>THA1</td>\n",
       "      <td>2</td>\n",
       "      <td>2</td>\n",
       "      <td>203</td>\n",
       "      <td>13</td>\n",
       "    </tr>\n",
       "  </tbody>\n",
       "</table>\n",
       "</div>"
      ],
      "text/plain": [
       "      JPN1  PHI  THA1  UNKNOWN\n",
       "JPN1    91   17     0        2\n",
       "PHI      0   27     0        2\n",
       "THA1     2    2   203       13"
      ]
     },
     "execution_count": 48,
     "metadata": {},
     "output_type": "execute_result"
    }
   ],
   "source": [
    "df"
   ]
  },
  {
   "cell_type": "markdown",
   "metadata": {
    "heading_collapsed": true,
    "hidden": true
   },
   "source": [
    "## Testing"
   ]
  },
  {
   "cell_type": "markdown",
   "metadata": {
    "hidden": true
   },
   "source": [
    "First, let's test on other pure samples that weren't in the training set."
   ]
  },
  {
   "cell_type": "code",
   "execution_count": 49,
   "metadata": {
    "hidden": true
   },
   "outputs": [],
   "source": [
    "df = pd.read_csv('../tests/data/plsda3_test.csv')\n",
    "raw_x_t = np.array(df.values[:,3:], dtype=float)\n",
    "raw_y_t = np.array(['THA2']*len(raw_x), dtype=str)"
   ]
  },
  {
   "cell_type": "code",
   "execution_count": 50,
   "metadata": {
    "hidden": true
   },
   "outputs": [],
   "source": [
    "pred = plsda.predict(raw_x_t)\n",
    "df, I, CSNS, CSPS, CEFF, TSNS, TSPS, TEFF = plsda.figures_of_merit(pred, raw_y_t)"
   ]
  },
  {
   "cell_type": "code",
   "execution_count": 51,
   "metadata": {
    "hidden": true
   },
   "outputs": [
    {
     "data": {
      "text/html": [
       "<div>\n",
       "<style scoped>\n",
       "    .dataframe tbody tr th:only-of-type {\n",
       "        vertical-align: middle;\n",
       "    }\n",
       "\n",
       "    .dataframe tbody tr th {\n",
       "        vertical-align: top;\n",
       "    }\n",
       "\n",
       "    .dataframe thead th {\n",
       "        text-align: right;\n",
       "    }\n",
       "</style>\n",
       "<table border=\"1\" class=\"dataframe\">\n",
       "  <thead>\n",
       "    <tr style=\"text-align: right;\">\n",
       "      <th></th>\n",
       "      <th>JPN1</th>\n",
       "      <th>PHI</th>\n",
       "      <th>THA1</th>\n",
       "      <th>UNKNOWN</th>\n",
       "    </tr>\n",
       "  </thead>\n",
       "  <tbody>\n",
       "    <tr>\n",
       "      <td>THA2</td>\n",
       "      <td>0</td>\n",
       "      <td>0</td>\n",
       "      <td>2</td>\n",
       "      <td>129</td>\n",
       "    </tr>\n",
       "  </tbody>\n",
       "</table>\n",
       "</div>"
      ],
      "text/plain": [
       "      JPN1  PHI  THA1  UNKNOWN\n",
       "THA2     0    0     2      129"
      ]
     },
     "execution_count": 51,
     "metadata": {},
     "output_type": "execute_result"
    }
   ],
   "source": [
    "df # Most foreign samples were CORRECTLY identified as being unknown"
   ]
  },
  {
   "cell_type": "markdown",
   "metadata": {
    "heading_collapsed": true
   },
   "source": [
    "# Optimizing the Classifier"
   ]
  },
  {
   "cell_type": "markdown",
   "metadata": {
    "hidden": true
   },
   "source": [
    "Here we took alpha as a meaningful choice of type I error rate, but it could also be adjusted.  Moreover, we arbitrarily selected the number of PCs to use in the PLSDA model.  We can use scikit-learn's pipelines to automatically optimize hyperparameters like this."
   ]
  },
  {
   "cell_type": "code",
   "execution_count": 68,
   "metadata": {
    "hidden": true
   },
   "outputs": [],
   "source": [
    "# Here I've use an imblearn pipeline, but you can also use scikit-learn's pipeline if you don't want to \n",
    "# do any class balancing.\n",
    "\n",
    "pipeline = imblearn.pipeline.Pipeline(steps=[\n",
    "    # Insert other preprocessing steps here...\n",
    "    # (\"smote\", ScaledSMOTEENN(random_state=1)), # For example, class balancing\n",
    "    (\"plsda\", PLSDA(n_components=5, \n",
    "                    alpha=0.05,\n",
    "                    scale_x=True, \n",
    "                    not_assigned='UNKNOWN',\n",
    "                    style='soft', \n",
    "                   )\n",
    "    )\n",
    "])\n",
    "\n",
    "# Hyperparameters of pipeline steps are given in standard notation: step__parameter_name\n",
    "param_grid = [{\n",
    "    # 'smote__k_enn':[1, 2, 3],\n",
    "    # 'smote__k_smote':[1, 3, 3],\n",
    "    # 'smote__kind_sel_enn':['all', 'mode'],\n",
    "    'plsda__n_components':np.arange(1, 20, 2),\n",
    "    'plsda__alpha': [0.07, 0.05, 0.03, 0.01],\n",
    "    #'plsda__scale_x':[True, False],\n",
    "    #'plsda__style':['hard', 'soft'],\n",
    "}]\n",
    "\n",
    "gs = GridSearchCV(\n",
    "    estimator=pipeline,\n",
    "    param_grid=param_grid,\n",
    "    n_jobs=-1,\n",
    "    cv=sklearn.model_selection.StratifiedKFold(n_splits=3, shuffle=True, random_state=0),\n",
    "    error_score=0,\n",
    "    refit=True\n",
    ")\n",
    "\n",
    "_ = gs.fit(raw_x, raw_y)"
   ]
  },
  {
   "cell_type": "code",
   "execution_count": 69,
   "metadata": {
    "hidden": true
   },
   "outputs": [
    {
     "data": {
      "text/plain": [
       "{'plsda__alpha': 0.01, 'plsda__n_components': 17}"
      ]
     },
     "execution_count": 69,
     "metadata": {},
     "output_type": "execute_result"
    }
   ],
   "source": [
    "# The best parameters found can be accessed like this:\n",
    "gs.best_params_"
   ]
  },
  {
   "cell_type": "code",
   "execution_count": 70,
   "metadata": {
    "hidden": true
   },
   "outputs": [
    {
     "data": {
      "text/plain": [
       "0.9446813969750131"
      ]
     },
     "execution_count": 70,
     "metadata": {},
     "output_type": "execute_result"
    }
   ],
   "source": [
    "gs.best_score_ # The best score it recieved was..."
   ]
  },
  {
   "cell_type": "code",
   "execution_count": 71,
   "metadata": {
    "hidden": true
   },
   "outputs": [
    {
     "data": {
      "text/plain": [
       "{'mean_fit_time': array([0.03112793, 0.0421687 , 0.21751253, 0.19740542, 0.22638766,\n",
       "        0.30567273, 0.43977269, 0.28914261, 0.69669692, 0.57967488,\n",
       "        0.11097296, 0.13863158, 0.15809178, 0.24364058, 0.31838799,\n",
       "        0.3027757 , 0.26194708, 0.52958894, 0.45093656, 0.51302306,\n",
       "        0.09555054, 0.10808786, 0.14111757, 0.34709787, 0.22556941,\n",
       "        0.34662294, 0.29701487, 0.39607461, 0.27603086, 0.45788447,\n",
       "        0.07818254, 0.09091751, 0.20977012, 0.31567589, 0.21590082,\n",
       "        0.31762942, 0.38640221, 0.33978105, 0.3923893 , 0.30695661]),\n",
       " 'std_fit_time': array([0.0250123 , 0.02377157, 0.10387651, 0.01704162, 0.09617969,\n",
       "        0.06245745, 0.20130332, 0.07511074, 0.2371326 , 0.10506917,\n",
       "        0.0351331 , 0.03120406, 0.0370441 , 0.03583325, 0.07648771,\n",
       "        0.06919303, 0.06939128, 0.34377202, 0.01053736, 0.09616427,\n",
       "        0.02940842, 0.02757111, 0.06230777, 0.01055465, 0.06426243,\n",
       "        0.0647017 , 0.09654324, 0.06456925, 0.03682501, 0.03676745,\n",
       "        0.03700131, 0.0250562 , 0.04946989, 0.03842769, 0.0518404 ,\n",
       "        0.03686403, 0.06118597, 0.13302316, 0.02041513, 0.08938873]),\n",
       " 'mean_score_time': array([0.29531089, 0.19822256, 0.15254498, 0.29688303, 0.22205281,\n",
       "        0.30918765, 0.2642173 , 0.28256059, 0.19980009, 0.22523228,\n",
       "        0.09519831, 0.34201407, 0.24471331, 0.28512971, 0.28391576,\n",
       "        0.19967373, 0.26016402, 0.25501847, 0.30055761, 0.25505988,\n",
       "        0.25046293, 0.27463865, 0.2511642 , 0.25408816, 0.30504227,\n",
       "        0.16368596, 0.3174564 , 0.25450619, 0.13938141, 0.13761433,\n",
       "        0.33289806, 0.31260419, 0.25799354, 0.26644246, 0.16769544,\n",
       "        0.18470343, 0.20094252, 0.2537938 , 0.11174361, 0.08450278]),\n",
       " 'std_score_time': array([0.12629776, 0.02823316, 0.05305036, 0.10415573, 0.0928608 ,\n",
       "        0.08760038, 0.07169213, 0.01813324, 0.11971388, 0.01538832,\n",
       "        0.02286295, 0.05313012, 0.02483758, 0.01584795, 0.04297964,\n",
       "        0.10489721, 0.11327635, 0.07082833, 0.1050626 , 0.14509606,\n",
       "        0.11701761, 0.02644576, 0.0086802 , 0.10005393, 0.09361942,\n",
       "        0.08668603, 0.0542109 , 0.05301214, 0.04800596, 0.04398586,\n",
       "        0.01829111, 0.05255852, 0.11762406, 0.16668891, 0.03558897,\n",
       "        0.06942944, 0.04332412, 0.05060353, 0.05268443, 0.033077  ]),\n",
       " 'param_plsda__alpha': masked_array(data=[0.07, 0.07, 0.07, 0.07, 0.07, 0.07, 0.07, 0.07, 0.07,\n",
       "                    0.07, 0.05, 0.05, 0.05, 0.05, 0.05, 0.05, 0.05, 0.05,\n",
       "                    0.05, 0.05, 0.03, 0.03, 0.03, 0.03, 0.03, 0.03, 0.03,\n",
       "                    0.03, 0.03, 0.03, 0.01, 0.01, 0.01, 0.01, 0.01, 0.01,\n",
       "                    0.01, 0.01, 0.01, 0.01],\n",
       "              mask=[False, False, False, False, False, False, False, False,\n",
       "                    False, False, False, False, False, False, False, False,\n",
       "                    False, False, False, False, False, False, False, False,\n",
       "                    False, False, False, False, False, False, False, False,\n",
       "                    False, False, False, False, False, False, False, False],\n",
       "        fill_value='?',\n",
       "             dtype=object),\n",
       " 'param_plsda__n_components': masked_array(data=[1, 3, 5, 7, 9, 11, 13, 15, 17, 19, 1, 3, 5, 7, 9, 11,\n",
       "                    13, 15, 17, 19, 1, 3, 5, 7, 9, 11, 13, 15, 17, 19, 1,\n",
       "                    3, 5, 7, 9, 11, 13, 15, 17, 19],\n",
       "              mask=[False, False, False, False, False, False, False, False,\n",
       "                    False, False, False, False, False, False, False, False,\n",
       "                    False, False, False, False, False, False, False, False,\n",
       "                    False, False, False, False, False, False, False, False,\n",
       "                    False, False, False, False, False, False, False, False],\n",
       "        fill_value='?',\n",
       "             dtype=object),\n",
       " 'params': [{'plsda__alpha': 0.07, 'plsda__n_components': 1},\n",
       "  {'plsda__alpha': 0.07, 'plsda__n_components': 3},\n",
       "  {'plsda__alpha': 0.07, 'plsda__n_components': 5},\n",
       "  {'plsda__alpha': 0.07, 'plsda__n_components': 7},\n",
       "  {'plsda__alpha': 0.07, 'plsda__n_components': 9},\n",
       "  {'plsda__alpha': 0.07, 'plsda__n_components': 11},\n",
       "  {'plsda__alpha': 0.07, 'plsda__n_components': 13},\n",
       "  {'plsda__alpha': 0.07, 'plsda__n_components': 15},\n",
       "  {'plsda__alpha': 0.07, 'plsda__n_components': 17},\n",
       "  {'plsda__alpha': 0.07, 'plsda__n_components': 19},\n",
       "  {'plsda__alpha': 0.05, 'plsda__n_components': 1},\n",
       "  {'plsda__alpha': 0.05, 'plsda__n_components': 3},\n",
       "  {'plsda__alpha': 0.05, 'plsda__n_components': 5},\n",
       "  {'plsda__alpha': 0.05, 'plsda__n_components': 7},\n",
       "  {'plsda__alpha': 0.05, 'plsda__n_components': 9},\n",
       "  {'plsda__alpha': 0.05, 'plsda__n_components': 11},\n",
       "  {'plsda__alpha': 0.05, 'plsda__n_components': 13},\n",
       "  {'plsda__alpha': 0.05, 'plsda__n_components': 15},\n",
       "  {'plsda__alpha': 0.05, 'plsda__n_components': 17},\n",
       "  {'plsda__alpha': 0.05, 'plsda__n_components': 19},\n",
       "  {'plsda__alpha': 0.03, 'plsda__n_components': 1},\n",
       "  {'plsda__alpha': 0.03, 'plsda__n_components': 3},\n",
       "  {'plsda__alpha': 0.03, 'plsda__n_components': 5},\n",
       "  {'plsda__alpha': 0.03, 'plsda__n_components': 7},\n",
       "  {'plsda__alpha': 0.03, 'plsda__n_components': 9},\n",
       "  {'plsda__alpha': 0.03, 'plsda__n_components': 11},\n",
       "  {'plsda__alpha': 0.03, 'plsda__n_components': 13},\n",
       "  {'plsda__alpha': 0.03, 'plsda__n_components': 15},\n",
       "  {'plsda__alpha': 0.03, 'plsda__n_components': 17},\n",
       "  {'plsda__alpha': 0.03, 'plsda__n_components': 19},\n",
       "  {'plsda__alpha': 0.01, 'plsda__n_components': 1},\n",
       "  {'plsda__alpha': 0.01, 'plsda__n_components': 3},\n",
       "  {'plsda__alpha': 0.01, 'plsda__n_components': 5},\n",
       "  {'plsda__alpha': 0.01, 'plsda__n_components': 7},\n",
       "  {'plsda__alpha': 0.01, 'plsda__n_components': 9},\n",
       "  {'plsda__alpha': 0.01, 'plsda__n_components': 11},\n",
       "  {'plsda__alpha': 0.01, 'plsda__n_components': 13},\n",
       "  {'plsda__alpha': 0.01, 'plsda__n_components': 15},\n",
       "  {'plsda__alpha': 0.01, 'plsda__n_components': 17},\n",
       "  {'plsda__alpha': 0.01, 'plsda__n_components': 19}],\n",
       " 'split0_test_score': array([0.73476975, 0.88627425, 0.88131196, 0.9074362 , 0.92026133,\n",
       "        0.91038952, 0.91911028, 0.92783057, 0.91841073, 0.91841073,\n",
       "        0.67859524, 0.88691389, 0.89990548, 0.91688632, 0.92583177,\n",
       "        0.93812345, 0.92897081, 0.93307225, 0.93307225, 0.93307225,\n",
       "        0.62897883, 0.83776641, 0.85928708, 0.92173913, 0.92607675,\n",
       "        0.93896939, 0.93848609, 0.93848609, 0.93848609, 0.93848609,\n",
       "        0.40469831, 0.77566972, 0.82209562, 0.86603632, 0.8848654 ,\n",
       "        0.91238071, 0.91688632, 0.92583177, 0.93027223, 0.93027223]),\n",
       " 'split1_test_score': array([0.77337549, 0.90785274, 0.90166827, 0.88955289, 0.90889326,\n",
       "        0.89927507, 0.90889326, 0.89927507, 0.90409696, 0.90889326,\n",
       "        0.7394884 , 0.92607675, 0.91101223, 0.91911028, 0.91366439,\n",
       "        0.91841073, 0.92313266, 0.91841073, 0.91841073, 0.91366439,\n",
       "        0.64990911, 0.9161438 , 0.90418059, 0.92485119, 0.92378772,\n",
       "        0.92378772, 0.93307225, 0.93307225, 0.93250481, 0.93250481,\n",
       "        0.42732739, 0.83704404, 0.87614899, 0.89527219, 0.91729857,\n",
       "        0.9259951 , 0.9346916 , 0.94322778, 0.95208457, 0.95208457]),\n",
       " 'split2_test_score': array([0.63257508, 0.92169811, 0.92583177, 0.91200769, 0.91200769,\n",
       "        0.91564846, 0.93307225, 0.93307225, 0.92844159, 0.93307225,\n",
       "        0.58461692, 0.91729857, 0.9347725 , 0.92108262, 0.92558672,\n",
       "        0.93428703, 0.94298725, 0.95168739, 0.95168739, 0.95616594,\n",
       "        0.43356351, 0.9069361 , 0.93896939, 0.93039415, 0.9347725 ,\n",
       "        0.93039415, 0.95648221, 0.95648221, 0.95648221, 0.95648221,\n",
       "        0.        , 0.84441902, 0.89695979, 0.93428703, 0.94746702,\n",
       "        0.93896939, 0.94718766, 0.95168739, 0.95168739, 0.95168739]),\n",
       " 'mean_test_score': array([0.71357344, 0.90527503, 0.90293733, 0.90299893, 0.91372076,\n",
       "        0.90843768, 0.9203586 , 0.9200593 , 0.91698309, 0.92012541,\n",
       "        0.66756685, 0.91009641, 0.91523007, 0.91902641, 0.92169429,\n",
       "        0.93027374, 0.93169691, 0.93439012, 0.93439012, 0.93430086,\n",
       "        0.57081715, 0.88694877, 0.90081235, 0.92566149, 0.92821232,\n",
       "        0.93105042, 0.94268018, 0.94268018, 0.94249104, 0.94249104,\n",
       "        0.2773419 , 0.81904426, 0.86506813, 0.89853184, 0.91654366,\n",
       "        0.92578173, 0.93292186, 0.94024898, 0.9446814 , 0.9446814 ]),\n",
       " 'std_test_score': array([0.05940343, 0.01457614, 0.01819727, 0.00968922, 0.00479647,\n",
       "        0.0068254 , 0.00991042, 0.01485164, 0.00998979, 0.00994522,\n",
       "        0.06370512, 0.01677966, 0.0145435 , 0.00171416, 0.00567888,\n",
       "        0.00853338, 0.00833166, 0.01361706, 0.01361706, 0.01737292,\n",
       "        0.0974284 , 0.03497975, 0.03261724, 0.00357955, 0.00473194,\n",
       "        0.00621524, 0.01000665, 0.01000665, 0.01019015, 0.01019015,\n",
       "        0.19632781, 0.03081786, 0.03155154, 0.02795841, 0.02556258,\n",
       "        0.01085583, 0.0124336 , 0.01076362, 0.01019011, 0.01019011]),\n",
       " 'rank_test_score': array([37, 29, 31, 30, 26, 28, 19, 21, 23, 20, 38, 27, 25, 22, 18, 14, 12,\n",
       "         8,  8, 10, 39, 34, 32, 17, 15, 13,  3,  3,  5,  5, 40, 36, 35, 33,\n",
       "        24, 16, 11,  7,  1,  1], dtype=int32)}"
      ]
     },
     "execution_count": 71,
     "metadata": {},
     "output_type": "execute_result"
    }
   ],
   "source": [
    "# You can see detailed CV results here\n",
    "gs.cv_results_"
   ]
  },
  {
   "cell_type": "code",
   "execution_count": 72,
   "metadata": {
    "hidden": true
   },
   "outputs": [],
   "source": [
    "# For a 1D optimization you can easily visualize where the best value is:\n",
    "# plt.errorbar(np.arange(1, 20, 2), gs.cv_results_['mean_test_score'], yerr=gs.cv_results_['std_test_score'])\n",
    "# plt.xlabel('n_components')\n",
    "# plt.ylabel('Mean Test Score (TEFF)')"
   ]
  },
  {
   "cell_type": "code",
   "execution_count": null,
   "metadata": {
    "hidden": true
   },
   "outputs": [],
   "source": [
    "# scikit-learn finds the optimum over the range, however, you may wish to simply look at these results\n",
    "# and use a smaller value, perhaps at an \"elbow\", and re-train a new model separately."
   ]
  },
  {
   "cell_type": "code",
   "execution_count": 73,
   "metadata": {
    "hidden": true
   },
   "outputs": [
    {
     "data": {
      "text/plain": [
       "[['JPN1', 'PHI'],\n",
       " ['JPN1', 'PHI'],\n",
       " ['JPN1', 'PHI'],\n",
       " ['JPN1', 'PHI'],\n",
       " ['JPN1', 'PHI'],\n",
       " ['PHI', 'JPN1'],\n",
       " ['JPN1', 'PHI'],\n",
       " ['JPN1', 'PHI'],\n",
       " ['JPN1', 'PHI'],\n",
       " ['JPN1', 'PHI'],\n",
       " ['JPN1', 'PHI'],\n",
       " ['PHI', 'JPN1'],\n",
       " ['JPN1'],\n",
       " ['JPN1', 'PHI'],\n",
       " ['JPN1', 'PHI'],\n",
       " ['JPN1'],\n",
       " ['JPN1'],\n",
       " ['JPN1'],\n",
       " ['JPN1'],\n",
       " ['JPN1'],\n",
       " ['JPN1'],\n",
       " ['JPN1'],\n",
       " ['JPN1'],\n",
       " ['JPN1'],\n",
       " ['JPN1'],\n",
       " ['JPN1'],\n",
       " ['JPN1', 'PHI'],\n",
       " ['JPN1'],\n",
       " ['JPN1'],\n",
       " ['JPN1'],\n",
       " ['JPN1'],\n",
       " ['JPN1'],\n",
       " ['JPN1'],\n",
       " ['JPN1'],\n",
       " ['JPN1'],\n",
       " ['JPN1'],\n",
       " ['JPN1'],\n",
       " ['JPN1'],\n",
       " ['JPN1'],\n",
       " ['JPN1', 'PHI'],\n",
       " ['JPN1', 'PHI'],\n",
       " ['JPN1'],\n",
       " ['JPN1'],\n",
       " ['JPN1'],\n",
       " ['JPN1'],\n",
       " ['JPN1'],\n",
       " ['JPN1'],\n",
       " ['JPN1'],\n",
       " ['JPN1'],\n",
       " ['JPN1'],\n",
       " ['JPN1'],\n",
       " ['JPN1'],\n",
       " ['JPN1'],\n",
       " ['JPN1', 'PHI'],\n",
       " ['JPN1', 'PHI'],\n",
       " ['PHI'],\n",
       " ['JPN1'],\n",
       " ['JPN1'],\n",
       " ['JPN1'],\n",
       " ['JPN1'],\n",
       " ['JPN1'],\n",
       " ['JPN1'],\n",
       " ['JPN1', 'PHI'],\n",
       " ['JPN1'],\n",
       " ['JPN1'],\n",
       " ['JPN1'],\n",
       " ['JPN1'],\n",
       " ['JPN1'],\n",
       " ['JPN1'],\n",
       " ['JPN1'],\n",
       " ['JPN1'],\n",
       " ['JPN1'],\n",
       " ['JPN1'],\n",
       " ['JPN1'],\n",
       " ['JPN1'],\n",
       " ['JPN1'],\n",
       " ['JPN1'],\n",
       " ['JPN1', 'PHI'],\n",
       " ['JPN1'],\n",
       " ['JPN1'],\n",
       " ['JPN1'],\n",
       " ['JPN1'],\n",
       " ['JPN1'],\n",
       " ['JPN1', 'PHI'],\n",
       " ['JPN1'],\n",
       " ['JPN1'],\n",
       " ['JPN1'],\n",
       " ['JPN1', 'PHI'],\n",
       " ['JPN1'],\n",
       " ['JPN1', 'PHI'],\n",
       " ['JPN1'],\n",
       " ['JPN1', 'PHI'],\n",
       " ['JPN1'],\n",
       " ['JPN1'],\n",
       " ['JPN1'],\n",
       " ['JPN1'],\n",
       " ['JPN1'],\n",
       " ['PHI'],\n",
       " ['PHI'],\n",
       " ['PHI'],\n",
       " ['PHI'],\n",
       " ['PHI'],\n",
       " ['PHI'],\n",
       " ['PHI'],\n",
       " ['PHI'],\n",
       " ['PHI'],\n",
       " ['PHI'],\n",
       " ['PHI'],\n",
       " ['PHI'],\n",
       " ['PHI'],\n",
       " ['PHI'],\n",
       " ['PHI'],\n",
       " ['PHI'],\n",
       " ['PHI'],\n",
       " ['PHI'],\n",
       " ['PHI'],\n",
       " ['PHI'],\n",
       " ['PHI'],\n",
       " ['PHI'],\n",
       " ['PHI'],\n",
       " ['PHI'],\n",
       " ['PHI'],\n",
       " ['PHI'],\n",
       " ['PHI'],\n",
       " ['PHI'],\n",
       " ['PHI'],\n",
       " ['THA1'],\n",
       " ['THA1'],\n",
       " ['THA1'],\n",
       " ['THA1'],\n",
       " ['THA1'],\n",
       " ['THA1'],\n",
       " ['THA1'],\n",
       " ['THA1'],\n",
       " ['THA1'],\n",
       " ['THA1'],\n",
       " ['THA1'],\n",
       " ['THA1'],\n",
       " ['THA1'],\n",
       " ['THA1'],\n",
       " ['THA1'],\n",
       " ['THA1'],\n",
       " ['THA1'],\n",
       " ['THA1'],\n",
       " ['THA1'],\n",
       " ['THA1'],\n",
       " ['THA1'],\n",
       " ['THA1'],\n",
       " ['THA1'],\n",
       " ['THA1'],\n",
       " ['THA1'],\n",
       " ['THA1'],\n",
       " ['THA1'],\n",
       " ['THA1'],\n",
       " ['THA1'],\n",
       " ['THA1'],\n",
       " ['THA1'],\n",
       " ['THA1'],\n",
       " ['THA1'],\n",
       " ['THA1'],\n",
       " ['THA1'],\n",
       " ['THA1'],\n",
       " ['THA1'],\n",
       " ['THA1'],\n",
       " ['THA1'],\n",
       " ['THA1'],\n",
       " ['THA1'],\n",
       " ['THA1'],\n",
       " ['THA1'],\n",
       " ['THA1'],\n",
       " ['THA1'],\n",
       " ['THA1'],\n",
       " ['THA1'],\n",
       " ['THA1'],\n",
       " ['THA1'],\n",
       " ['THA1'],\n",
       " ['THA1'],\n",
       " ['THA1'],\n",
       " ['THA1'],\n",
       " ['THA1'],\n",
       " ['THA1'],\n",
       " ['THA1'],\n",
       " ['THA1'],\n",
       " ['THA1'],\n",
       " ['THA1'],\n",
       " ['THA1'],\n",
       " ['THA1'],\n",
       " ['THA1'],\n",
       " ['THA1'],\n",
       " ['THA1'],\n",
       " ['THA1'],\n",
       " ['THA1'],\n",
       " ['THA1'],\n",
       " ['THA1'],\n",
       " ['THA1'],\n",
       " ['THA1'],\n",
       " ['THA1'],\n",
       " ['THA1'],\n",
       " ['THA1'],\n",
       " ['THA1'],\n",
       " ['THA1'],\n",
       " ['THA1'],\n",
       " ['JPN1', 'PHI'],\n",
       " ['THA1'],\n",
       " ['THA1'],\n",
       " ['THA1'],\n",
       " ['THA1'],\n",
       " ['THA1'],\n",
       " ['THA1'],\n",
       " ['THA1'],\n",
       " ['THA1'],\n",
       " ['THA1'],\n",
       " ['THA1'],\n",
       " ['THA1'],\n",
       " ['THA1'],\n",
       " ['THA1'],\n",
       " ['THA1'],\n",
       " ['THA1'],\n",
       " ['THA1'],\n",
       " ['THA1'],\n",
       " ['THA1'],\n",
       " ['THA1'],\n",
       " ['THA1'],\n",
       " ['THA1'],\n",
       " ['THA1'],\n",
       " ['THA1'],\n",
       " ['THA1'],\n",
       " ['THA1'],\n",
       " ['THA1'],\n",
       " ['THA1'],\n",
       " ['THA1'],\n",
       " ['THA1'],\n",
       " ['THA1'],\n",
       " ['THA1'],\n",
       " ['THA1'],\n",
       " ['THA1'],\n",
       " ['THA1'],\n",
       " ['THA1'],\n",
       " ['THA1'],\n",
       " ['THA1'],\n",
       " ['THA1'],\n",
       " ['THA1'],\n",
       " ['THA1'],\n",
       " ['THA1'],\n",
       " ['THA1'],\n",
       " ['THA1'],\n",
       " ['THA1'],\n",
       " ['THA1'],\n",
       " ['THA1'],\n",
       " ['THA1'],\n",
       " ['THA1'],\n",
       " ['THA1'],\n",
       " ['THA1'],\n",
       " ['THA1'],\n",
       " ['THA1'],\n",
       " ['THA1'],\n",
       " ['THA1'],\n",
       " ['THA1'],\n",
       " ['THA1'],\n",
       " ['THA1'],\n",
       " ['THA1'],\n",
       " ['THA1'],\n",
       " ['THA1'],\n",
       " ['THA1'],\n",
       " ['THA1'],\n",
       " ['THA1'],\n",
       " ['THA1'],\n",
       " ['THA1'],\n",
       " ['THA1'],\n",
       " ['THA1'],\n",
       " ['THA1'],\n",
       " ['THA1'],\n",
       " ['THA1'],\n",
       " ['THA1'],\n",
       " ['THA1'],\n",
       " ['THA1'],\n",
       " ['THA1'],\n",
       " ['THA1'],\n",
       " ['THA1'],\n",
       " ['THA1'],\n",
       " ['THA1'],\n",
       " ['THA1'],\n",
       " ['THA1'],\n",
       " ['THA1'],\n",
       " ['THA1'],\n",
       " ['THA1'],\n",
       " ['THA1'],\n",
       " ['THA1'],\n",
       " ['THA1'],\n",
       " ['THA1'],\n",
       " ['THA1'],\n",
       " ['THA1'],\n",
       " ['THA1'],\n",
       " ['THA1'],\n",
       " ['THA1'],\n",
       " ['THA1'],\n",
       " ['THA1'],\n",
       " ['THA1'],\n",
       " ['THA1'],\n",
       " ['THA1'],\n",
       " ['THA1'],\n",
       " ['THA1'],\n",
       " ['THA1'],\n",
       " ['THA1'],\n",
       " ['THA1'],\n",
       " ['THA1'],\n",
       " ['THA1'],\n",
       " ['THA1'],\n",
       " ['THA1'],\n",
       " ['THA1'],\n",
       " ['THA1'],\n",
       " ['THA1'],\n",
       " ['THA1'],\n",
       " ['THA1'],\n",
       " ['THA1'],\n",
       " ['THA1'],\n",
       " ['THA1'],\n",
       " ['THA1'],\n",
       " ['THA1'],\n",
       " ['THA1'],\n",
       " ['THA1'],\n",
       " ['THA1'],\n",
       " ['THA1'],\n",
       " ['THA1'],\n",
       " ['THA1'],\n",
       " ['THA1'],\n",
       " ['THA1'],\n",
       " ['THA1'],\n",
       " ['THA1'],\n",
       " ['THA1'],\n",
       " ['THA1'],\n",
       " ['THA1'],\n",
       " ['THA1'],\n",
       " ['THA1'],\n",
       " ['THA1'],\n",
       " ['THA1'],\n",
       " ['THA1'],\n",
       " ['UNKNOWN'],\n",
       " ['THA1'],\n",
       " ['JPN1'],\n",
       " ['THA1'],\n",
       " ['THA1'],\n",
       " ['PHI'],\n",
       " ['THA1'],\n",
       " ['THA1']]"
      ]
     },
     "execution_count": 73,
     "metadata": {},
     "output_type": "execute_result"
    }
   ],
   "source": [
    "# The refit=True (default) refits the model on the data in the end so you can use it directly.\n",
    "gs.best_estimator_.predict(raw_x)"
   ]
  },
  {
   "cell_type": "code",
   "execution_count": 74,
   "metadata": {
    "hidden": true
   },
   "outputs": [
    {
     "data": {
      "text/plain": [
       "<matplotlib.axes._subplots.AxesSubplot at 0x7facd4510f10>"
      ]
     },
     "execution_count": 74,
     "metadata": {},
     "output_type": "execute_result"
    },
    {
     "data": {
      "image/png": "[encoded data removed]",
      "text/plain": [
       "<Figure size 432x288 with 1 Axes>"
      ]
     },
     "metadata": {
      "needs_background": "light"
     },
     "output_type": "display_data"
    }
   ],
   "source": [
    "# You can visualize the training results\n",
    "gs.best_estimator_.named_steps['plsda'].visualize_2d(styles=['hard', 'soft'])"
   ]
  },
  {
   "cell_type": "code",
   "execution_count": 75,
   "metadata": {
    "hidden": true
   },
   "outputs": [
    {
     "data": {
      "text/plain": [
       "0.9485836621422361"
      ]
     },
     "execution_count": 75,
     "metadata": {},
     "output_type": "execute_result"
    }
   ],
   "source": [
    "# Train \n",
    "gs.best_estimator_.named_steps['plsda'].score(raw_x, raw_y) # The score being used here is TEFF"
   ]
  },
  {
   "cell_type": "code",
   "execution_count": 77,
   "metadata": {
    "hidden": true
   },
   "outputs": [],
   "source": [
    "pred = gs.best_estimator_.named_steps['plsda'].predict(raw_x)\n",
    "df, I, CSNS, CSPS, CEFF, TSNS, TSPS, TEFF = plsda.figures_of_merit(pred, raw_y)"
   ]
  },
  {
   "cell_type": "code",
   "execution_count": 87,
   "metadata": {
    "hidden": true
   },
   "outputs": [
    {
     "data": {
      "text/plain": [
       "[['JPN1', 'PHI'],\n",
       " ['JPN1', 'PHI'],\n",
       " ['JPN1', 'PHI'],\n",
       " ['JPN1', 'PHI'],\n",
       " ['JPN1', 'PHI'],\n",
       " ['PHI', 'JPN1'],\n",
       " ['JPN1', 'PHI'],\n",
       " ['JPN1', 'PHI'],\n",
       " ['JPN1', 'PHI'],\n",
       " ['JPN1', 'PHI'],\n",
       " ['JPN1', 'PHI'],\n",
       " ['PHI', 'JPN1'],\n",
       " ['JPN1'],\n",
       " ['JPN1', 'PHI'],\n",
       " ['JPN1', 'PHI'],\n",
       " ['JPN1'],\n",
       " ['JPN1'],\n",
       " ['JPN1'],\n",
       " ['JPN1'],\n",
       " ['JPN1']]"
      ]
     },
     "execution_count": 87,
     "metadata": {},
     "output_type": "execute_result"
    }
   ],
   "source": [
    "pred[:20]"
   ]
  },
  {
   "cell_type": "code",
   "execution_count": 78,
   "metadata": {
    "hidden": true
   },
   "outputs": [
    {
     "data": {
      "text/html": [
       "<div>\n",
       "<style scoped>\n",
       "    .dataframe tbody tr th:only-of-type {\n",
       "        vertical-align: middle;\n",
       "    }\n",
       "\n",
       "    .dataframe tbody tr th {\n",
       "        vertical-align: top;\n",
       "    }\n",
       "\n",
       "    .dataframe thead th {\n",
       "        text-align: right;\n",
       "    }\n",
       "</style>\n",
       "<table border=\"1\" class=\"dataframe\">\n",
       "  <thead>\n",
       "    <tr style=\"text-align: right;\">\n",
       "      <th></th>\n",
       "      <th>JPN1</th>\n",
       "      <th>PHI</th>\n",
       "      <th>THA1</th>\n",
       "      <th>UNKNOWN</th>\n",
       "    </tr>\n",
       "  </thead>\n",
       "  <tbody>\n",
       "    <tr>\n",
       "      <td>JPN1</td>\n",
       "      <td>96</td>\n",
       "      <td>26</td>\n",
       "      <td>0</td>\n",
       "      <td>0</td>\n",
       "    </tr>\n",
       "    <tr>\n",
       "      <td>PHI</td>\n",
       "      <td>0</td>\n",
       "      <td>29</td>\n",
       "      <td>0</td>\n",
       "      <td>0</td>\n",
       "    </tr>\n",
       "    <tr>\n",
       "      <td>THA1</td>\n",
       "      <td>2</td>\n",
       "      <td>2</td>\n",
       "      <td>215</td>\n",
       "      <td>1</td>\n",
       "    </tr>\n",
       "  </tbody>\n",
       "</table>\n",
       "</div>"
      ],
      "text/plain": [
       "      JPN1  PHI  THA1  UNKNOWN\n",
       "JPN1    96   26     0        0\n",
       "PHI      0   29     0        0\n",
       "THA1     2    2   215        1"
      ]
     },
     "execution_count": 78,
     "metadata": {},
     "output_type": "execute_result"
    }
   ],
   "source": [
    "df"
   ]
  },
  {
   "cell_type": "code",
   "execution_count": 79,
   "metadata": {
    "hidden": true
   },
   "outputs": [
    {
     "data": {
      "text/plain": [
       "JPN1    0.989691\n",
       "PHI     1.000000\n",
       "THA1    0.981735\n",
       "dtype: float64"
      ]
     },
     "execution_count": 79,
     "metadata": {},
     "output_type": "execute_result"
    }
   ],
   "source": [
    "CSNS"
   ]
  },
  {
   "cell_type": "code",
   "execution_count": 80,
   "metadata": {
    "hidden": true
   },
   "outputs": [
    {
     "data": {
      "text/plain": [
       "JPN1    0.991935\n",
       "PHI     0.911392\n",
       "THA1    1.000000\n",
       "dtype: float64"
      ]
     },
     "execution_count": 80,
     "metadata": {},
     "output_type": "execute_result"
    }
   ],
   "source": [
    "CSPS"
   ]
  },
  {
   "cell_type": "code",
   "execution_count": 81,
   "metadata": {
    "hidden": true
   },
   "outputs": [
    {
     "data": {
      "text/plain": [
       "JPN1    0.990812\n",
       "PHI     0.954669\n",
       "THA1    0.990825\n",
       "dtype: float64"
      ]
     },
     "execution_count": 81,
     "metadata": {},
     "output_type": "execute_result"
    }
   ],
   "source": [
    "CEFF"
   ]
  },
  {
   "cell_type": "code",
   "execution_count": 82,
   "metadata": {
    "hidden": true
   },
   "outputs": [
    {
     "data": {
      "text/plain": [
       "(0.9130434782608696, 0.9855072463768116, 0.9485836621422361)"
      ]
     },
     "execution_count": 82,
     "metadata": {},
     "output_type": "execute_result"
    }
   ],
   "source": [
    "TSPS, TSNS, TEFF"
   ]
  },
  {
   "cell_type": "code",
   "execution_count": 85,
   "metadata": {
    "hidden": true
   },
   "outputs": [
    {
     "data": {
      "text/plain": [
       "False"
      ]
     },
     "execution_count": 85,
     "metadata": {},
     "output_type": "execute_result"
    }
   ],
   "source": [
    "np.any(gs.best_estimator_.named_steps['plsda'].check_outliers())"
   ]
  },
  {
   "cell_type": "code",
   "execution_count": 89,
   "metadata": {
    "hidden": true
   },
   "outputs": [
    {
     "data": {
      "text/plain": [
       "0.9884057971014493"
      ]
     },
     "execution_count": 89,
     "metadata": {},
     "output_type": "execute_result"
    }
   ],
   "source": [
    "# Test\n",
    "gs.best_estimator_.named_steps['plsda'].score(raw_x_t, raw_y_t) # The score being used here is TEFF"
   ]
  },
  {
   "cell_type": "code",
   "execution_count": 90,
   "metadata": {
    "hidden": true
   },
   "outputs": [],
   "source": [
    "pred = gs.best_estimator_.named_steps['plsda'].predict(raw_x_t)\n",
    "df, I, CSNS, CSPS, CEFF, TSNS, TSPS, TEFF = plsda.figures_of_merit(pred, raw_y_t)"
   ]
  },
  {
   "cell_type": "code",
   "execution_count": 92,
   "metadata": {
    "hidden": true
   },
   "outputs": [
    {
     "data": {
      "text/plain": [
       "[['UNKNOWN'],\n",
       " ['THA1'],\n",
       " ['THA1'],\n",
       " ['UNKNOWN'],\n",
       " ['UNKNOWN'],\n",
       " ['UNKNOWN'],\n",
       " ['UNKNOWN'],\n",
       " ['UNKNOWN'],\n",
       " ['UNKNOWN'],\n",
       " ['UNKNOWN'],\n",
       " ['UNKNOWN'],\n",
       " ['UNKNOWN'],\n",
       " ['UNKNOWN'],\n",
       " ['UNKNOWN'],\n",
       " ['UNKNOWN'],\n",
       " ['UNKNOWN'],\n",
       " ['UNKNOWN'],\n",
       " ['UNKNOWN'],\n",
       " ['UNKNOWN'],\n",
       " ['UNKNOWN']]"
      ]
     },
     "execution_count": 92,
     "metadata": {},
     "output_type": "execute_result"
    }
   ],
   "source": [
    "pred[:20]"
   ]
  },
  {
   "cell_type": "code",
   "execution_count": 93,
   "metadata": {
    "hidden": true
   },
   "outputs": [
    {
     "data": {
      "text/html": [
       "<div>\n",
       "<style scoped>\n",
       "    .dataframe tbody tr th:only-of-type {\n",
       "        vertical-align: middle;\n",
       "    }\n",
       "\n",
       "    .dataframe tbody tr th {\n",
       "        vertical-align: top;\n",
       "    }\n",
       "\n",
       "    .dataframe thead th {\n",
       "        text-align: right;\n",
       "    }\n",
       "</style>\n",
       "<table border=\"1\" class=\"dataframe\">\n",
       "  <thead>\n",
       "    <tr style=\"text-align: right;\">\n",
       "      <th></th>\n",
       "      <th>JPN1</th>\n",
       "      <th>PHI</th>\n",
       "      <th>THA1</th>\n",
       "      <th>UNKNOWN</th>\n",
       "    </tr>\n",
       "  </thead>\n",
       "  <tbody>\n",
       "    <tr>\n",
       "      <td>THA2</td>\n",
       "      <td>0</td>\n",
       "      <td>0</td>\n",
       "      <td>4</td>\n",
       "      <td>127</td>\n",
       "    </tr>\n",
       "  </tbody>\n",
       "</table>\n",
       "</div>"
      ],
      "text/plain": [
       "      JPN1  PHI  THA1  UNKNOWN\n",
       "THA2     0    0     4      127"
      ]
     },
     "execution_count": 93,
     "metadata": {},
     "output_type": "execute_result"
    }
   ],
   "source": [
    "df"
   ]
  },
  {
   "cell_type": "code",
   "execution_count": null,
   "metadata": {
    "hidden": true
   },
   "outputs": [],
   "source": []
  }
 ],
 "metadata": {
  "kernelspec": {
   "display_name": "Python 3",
   "language": "python",
   "name": "python3"
  },
  "language_info": {
   "codemirror_mode": {
    "name": "ipython",
    "version": 3
   },
   "file_extension": ".py",
   "mimetype": "text/x-python",
   "name": "python",
   "nbconvert_exporter": "python",
   "pygments_lexer": "ipython3",
   "version": "3.7.4"
  },
  "toc": {
   "base_numbering": 1,
   "nav_menu": {},
   "number_sections": true,
   "sideBar": true,
   "skip_h1_title": false,
   "title_cell": "Table of Contents",
   "title_sidebar": "Contents",
   "toc_cell": true,
   "toc_position": {},
   "toc_section_display": true,
   "toc_window_display": false
  }
 },
 "nbformat": 4,
 "nbformat_minor": 2
}
