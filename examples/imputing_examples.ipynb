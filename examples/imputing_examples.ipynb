{
 "cells": [
  {
   "cell_type": "markdown",
   "metadata": {
    "toc": true
   },
   "source": [
    "<h1>Table of Contents<span class=\"tocSkip\"></span></h1>\n",
    "<div class=\"toc\"><ul class=\"toc-item\"><li><ul class=\"toc-item\"><li><span><a href=\"#Overview\" data-toc-modified-id=\"Overview-0.1\"><span class=\"toc-item-num\">0.1&nbsp;&nbsp;</span>Overview</a></span></li></ul></li><li><span><a href=\"#Load-some-Data\" data-toc-modified-id=\"Load-some-Data-1\"><span class=\"toc-item-num\">1&nbsp;&nbsp;</span>Load some Data</a></span></li><li><span><a href=\"#Iterative-PCA-(Missing-X-values)\" data-toc-modified-id=\"Iterative-PCA-(Missing-X-values)-2\"><span class=\"toc-item-num\">2&nbsp;&nbsp;</span>Iterative PCA (Missing X values)</a></span><ul class=\"toc-item\"><li><span><a href=\"#Fixed-n_components\" data-toc-modified-id=\"Fixed-n_components-2.1\"><span class=\"toc-item-num\">2.1&nbsp;&nbsp;</span>Fixed n_components</a></span></li><li><span><a href=\"#Unknown-n_components\" data-toc-modified-id=\"Unknown-n_components-2.2\"><span class=\"toc-item-num\">2.2&nbsp;&nbsp;</span>Unknown n_components</a></span></li></ul></li><li><span><a href=\"#Iterative-PLS-(Missing-X-values)\" data-toc-modified-id=\"Iterative-PLS-(Missing-X-values)-3\"><span class=\"toc-item-num\">3&nbsp;&nbsp;</span>Iterative PLS (Missing X values)</a></span><ul class=\"toc-item\"><li><span><a href=\"#Fixed-n_components\" data-toc-modified-id=\"Fixed-n_components-3.1\"><span class=\"toc-item-num\">3.1&nbsp;&nbsp;</span>Fixed n_components</a></span></li><li><span><a href=\"#Unknown-n_components\" data-toc-modified-id=\"Unknown-n_components-3.2\"><span class=\"toc-item-num\">3.2&nbsp;&nbsp;</span>Unknown n_components</a></span></li></ul></li><li><span><a href=\"#Below-LOD\" data-toc-modified-id=\"Below-LOD-4\"><span class=\"toc-item-num\">4&nbsp;&nbsp;</span>Below LOD</a></span><ul class=\"toc-item\"><li><span><a href=\"#Missing-values-<-LOD-only\" data-toc-modified-id=\"Missing-values-<-LOD-only-4.1\"><span class=\"toc-item-num\">4.1&nbsp;&nbsp;</span>Missing values &lt; LOD only</a></span></li><li><span><a href=\"#Missing-values-and-<-LOD\" data-toc-modified-id=\"Missing-values-and-<-LOD-4.2\"><span class=\"toc-item-num\">4.2&nbsp;&nbsp;</span>Missing values and &lt; LOD</a></span></li></ul></li></ul></div>"
   ]
  },
  {
   "cell_type": "code",
   "execution_count": null,
   "metadata": {
    "colab": {
     "base_uri": "https://localhost:8080/"
    },
    "executionInfo": {
     "elapsed": 20002,
     "status": "ok",
     "timestamp": 1644609479609,
     "user": {
      "displayName": "Nathan Mahynski",
      "photoUrl": "https://lh3.googleusercontent.com/a-/AOh14GiUlAIKCPEpbG_va5l0d5MOrKuPRHHZGu7-AEYw-A=s64",
      "userId": "00044706541353398741"
     },
     "user_tz": 300
    },
    "id": "ZHhEP1_EMfIg",
    "outputId": "3585a75c-0b57-4169-a502-352d5dada850"
   },
   "outputs": [],
   "source": [
    "using_colab = 'google.colab' in str(get_ipython())\n",
    "if using_colab:\n",
    "    !git clone https://github.com/mahynski/pychemauth.git --depth 1\n",
    "    !cd pychemauth; pip3 install .; cd ..\n",
    "\n",
    "import pychemauth\n",
    "\n",
    "import matplotlib.pyplot as plt\n",
    "%matplotlib notebook\n",
    "\n",
    "import watermark\n",
    "%load_ext watermark\n",
    "\n",
    "%load_ext autoreload\n",
    "%autoreload 2"
   ]
  },
  {
   "cell_type": "code",
   "execution_count": null,
   "metadata": {
    "executionInfo": {
     "elapsed": 1626,
     "status": "ok",
     "timestamp": 1644609481227,
     "user": {
      "displayName": "Nathan Mahynski",
      "photoUrl": "https://lh3.googleusercontent.com/a-/AOh14GiUlAIKCPEpbG_va5l0d5MOrKuPRHHZGu7-AEYw-A=s64",
      "userId": "00044706541353398741"
     },
     "user_tz": 300
    },
    "id": "yO5JyxXdMaVl",
    "scrolled": true
   },
   "outputs": [],
   "source": [
    "import imblearn\n",
    "import sklearn\n",
    "\n",
    "from sklearn.model_selection import GridSearchCV\n",
    "\n",
    "import numpy as np\n",
    "import pandas as pd"
   ]
  },
  {
   "cell_type": "markdown",
   "metadata": {
    "id": "8gkcYvF_MaVp"
   },
   "source": [
    "Overview\n",
    "--------\n",
    "This are some examples ways to impute missing data. scikit-learn has a [library](https://scikit-learn.org/stable/modules/impute.html#univariate-vs-multivariate-imputation) for simple methods which is also very useful. "
   ]
  },
  {
   "cell_type": "code",
   "execution_count": null,
   "metadata": {
    "colab": {
     "base_uri": "https://localhost:8080/"
    },
    "executionInfo": {
     "elapsed": 200,
     "status": "ok",
     "timestamp": 1644609481416,
     "user": {
      "displayName": "Nathan Mahynski",
      "photoUrl": "https://lh3.googleusercontent.com/a-/AOh14GiUlAIKCPEpbG_va5l0d5MOrKuPRHHZGu7-AEYw-A=s64",
      "userId": "00044706541353398741"
     },
     "user_tz": 300
    },
    "id": "Mc7Ip3FBMaVq",
    "outputId": "2ff67e19-fa02-4236-fcc0-d8d0c01fb650"
   },
   "outputs": [],
   "source": [
    "%watermark -t -m -v --iversions"
   ]
  },
  {
   "cell_type": "markdown",
   "metadata": {
    "heading_collapsed": true,
    "id": "CE5NiNDDMaVs"
   },
   "source": [
    "# Load some Data"
   ]
  },
  {
   "cell_type": "code",
   "execution_count": null,
   "metadata": {
    "executionInfo": {
     "elapsed": 5,
     "status": "ok",
     "timestamp": 1644609481417,
     "user": {
      "displayName": "Nathan Mahynski",
      "photoUrl": "https://lh3.googleusercontent.com/a-/AOh14GiUlAIKCPEpbG_va5l0d5MOrKuPRHHZGu7-AEYw-A=s64",
      "userId": "00044706541353398741"
     },
     "user_tz": 300
    },
    "hidden": true,
    "id": "KkgiFnLyMaVt"
   },
   "outputs": [],
   "source": [
    "if using_colab:\n",
    "    loc = 'https://raw.githubusercontent.com/mahynski/pychemauth/main/tests/data/pls_train.csv'\n",
    "else:\n",
    "    loc = '../tests/data/pls_train.csv'\n",
    "df = pd.read_csv(loc)\n",
    "\n",
    "raw_X = np.array(df.values[:,3:], dtype=float) # Extract features\n",
    "raw_y = np.array(df['Water'].values, dtype=float) # Take the water content as the target\n",
    "\n",
    "# Randomly delete some entries\n",
    "n_delete = 10\n",
    "\n",
    "np.random.seed(0)\n",
    "a = [np.random.randint(low=0, high=raw_X.shape[0]) \n",
    "     for i in range(n_delete)]\n",
    "b = [np.random.randint(low=0, high=raw_X.shape[1]) \n",
    "     for i in range(n_delete)]\n",
    "\n",
    "missing_X = raw_X.copy()\n",
    "for i,j in zip(a,b):\n",
    "    missing_X[i,j] = np.nan \n",
    "    \n",
    "def compare(raw_X, reconstructed_X):\n",
    "    print('Reconstructed\\tOriginal\\tDifference\\tRelative Err')\n",
    "    for i,j in zip(a,b):\n",
    "        print('%.3e\\t'%reconstructed_X[i,j]\n",
    "              +'%.3e\\t'%raw_X[i,j]\n",
    "              +'%.3e\\t'%(reconstructed_X[i,j]-raw_X[i,j])\n",
    "              +'%.3f'%(np.abs((reconstructed_X[i,j]-raw_X[i,j])/raw_X[i,j]))\n",
    "             )"
   ]
  },
  {
   "cell_type": "markdown",
   "metadata": {
    "heading_collapsed": true,
    "id": "loo-98geMaVv"
   },
   "source": [
    "# Iterative PCA (Missing X values)"
   ]
  },
  {
   "cell_type": "markdown",
   "metadata": {
    "heading_collapsed": true,
    "hidden": true,
    "id": "_q4FFMynMaVw"
   },
   "source": [
    "## Fixed n_components"
   ]
  },
  {
   "cell_type": "markdown",
   "metadata": {
    "hidden": true,
    "id": "3AKDAs_JMaVz"
   },
   "source": [
    "If you know the number of components to use you can just perform this directly."
   ]
  },
  {
   "cell_type": "code",
   "execution_count": null,
   "metadata": {
    "executionInfo": {
     "elapsed": 228,
     "status": "ok",
     "timestamp": 1644609481641,
     "user": {
      "displayName": "Nathan Mahynski",
      "photoUrl": "https://lh3.googleusercontent.com/a-/AOh14GiUlAIKCPEpbG_va5l0d5MOrKuPRHHZGu7-AEYw-A=s64",
      "userId": "00044706541353398741"
     },
     "user_tz": 300
    },
    "hidden": true,
    "id": "UeCqtt_UMaVz"
   },
   "outputs": [],
   "source": [
    "from pychemauth.preprocessing.missing import PCA_IA"
   ]
  },
  {
   "cell_type": "code",
   "execution_count": null,
   "metadata": {
    "executionInfo": {
     "elapsed": 13,
     "status": "ok",
     "timestamp": 1644609481643,
     "user": {
      "displayName": "Nathan Mahynski",
      "photoUrl": "https://lh3.googleusercontent.com/a-/AOh14GiUlAIKCPEpbG_va5l0d5MOrKuPRHHZGu7-AEYw-A=s64",
      "userId": "00044706541353398741"
     },
     "user_tz": 300
    },
    "hidden": true,
    "id": "2wIvvgHnMaV0"
   },
   "outputs": [],
   "source": [
    "itim = PCA_IA(n_components=3, \n",
    "              scale_x=True,\n",
    "              missing_values=np.nan, \n",
    "              tol=1.0e-6, \n",
    "              max_iters=5000)"
   ]
  },
  {
   "cell_type": "code",
   "execution_count": null,
   "metadata": {
    "colab": {
     "base_uri": "https://localhost:8080/"
    },
    "executionInfo": {
     "elapsed": 158,
     "status": "ok",
     "timestamp": 1644609481790,
     "user": {
      "displayName": "Nathan Mahynski",
      "photoUrl": "https://lh3.googleusercontent.com/a-/AOh14GiUlAIKCPEpbG_va5l0d5MOrKuPRHHZGu7-AEYw-A=s64",
      "userId": "00044706541353398741"
     },
     "user_tz": 300
    },
    "hidden": true,
    "id": "Jzsv3dEHMaV1",
    "outputId": "81f7f33b-e83f-455c-f4d5-89bc10a49234"
   },
   "outputs": [],
   "source": [
    "reconstructed_X = itim.fit_transform(missing_X)\n",
    "compare(raw_X, reconstructed_X)"
   ]
  },
  {
   "cell_type": "markdown",
   "metadata": {
    "heading_collapsed": true,
    "hidden": true,
    "id": "1jXFMvlkMaV1"
   },
   "source": [
    "## Unknown n_components"
   ]
  },
  {
   "cell_type": "markdown",
   "metadata": {
    "hidden": true,
    "id": "ijZsYELkMaV2"
   },
   "source": [
    "Usually, we need to figure out what a good n_components value is. We can use cross-validation for this."
   ]
  },
  {
   "cell_type": "code",
   "execution_count": null,
   "metadata": {
    "executionInfo": {
     "elapsed": 4909,
     "status": "ok",
     "timestamp": 1644609486696,
     "user": {
      "displayName": "Nathan Mahynski",
      "photoUrl": "https://lh3.googleusercontent.com/a-/AOh14GiUlAIKCPEpbG_va5l0d5MOrKuPRHHZGu7-AEYw-A=s64",
      "userId": "00044706541353398741"
     },
     "user_tz": 300
    },
    "hidden": true,
    "id": "RswvN7JIMaV2"
   },
   "outputs": [],
   "source": [
    "pipeline = sklearn.pipeline.Pipeline(steps=[\n",
    "    (\"pca_ia\", PCA_IA(\n",
    "        n_components=1, \n",
    "        scale_x=True)\n",
    "    )\n",
    "])\n",
    "\n",
    "# Hyperparameters of pipeline steps are given in standard notation: step__parameter_name\n",
    "param_grid = [{\n",
    "    'pca_ia__n_components': np.arange(1, 10, 2),\n",
    "    'pca_ia__scale_x': [True, False],\n",
    "}]\n",
    "\n",
    "gs = GridSearchCV(\n",
    "    estimator=pipeline,\n",
    "    param_grid=param_grid,\n",
    "    n_jobs=-1,\n",
    "    cv=sklearn.model_selection.KFold(n_splits=3, shuffle=True, random_state=0),\n",
    "    error_score=0,\n",
    "    refit=True\n",
    ")\n",
    "\n",
    "_ = gs.fit(missing_X, raw_y.reshape(-1,1))"
   ]
  },
  {
   "cell_type": "code",
   "execution_count": null,
   "metadata": {
    "colab": {
     "base_uri": "https://localhost:8080/"
    },
    "executionInfo": {
     "elapsed": 201,
     "status": "ok",
     "timestamp": 1644609486892,
     "user": {
      "displayName": "Nathan Mahynski",
      "photoUrl": "https://lh3.googleusercontent.com/a-/AOh14GiUlAIKCPEpbG_va5l0d5MOrKuPRHHZGu7-AEYw-A=s64",
      "userId": "00044706541353398741"
     },
     "user_tz": 300
    },
    "hidden": true,
    "id": "mnpvNz85MaV3",
    "outputId": "0b18e2f9-d399-4c88-f9d4-338ab9913a89"
   },
   "outputs": [],
   "source": [
    "gs.best_params_"
   ]
  },
  {
   "cell_type": "code",
   "execution_count": null,
   "metadata": {
    "executionInfo": {
     "elapsed": 1186,
     "status": "ok",
     "timestamp": 1644609488074,
     "user": {
      "displayName": "Nathan Mahynski",
      "photoUrl": "https://lh3.googleusercontent.com/a-/AOh14GiUlAIKCPEpbG_va5l0d5MOrKuPRHHZGu7-AEYw-A=s64",
      "userId": "00044706541353398741"
     },
     "user_tz": 300
    },
    "hidden": true,
    "id": "lhM7uoDeMaV4"
   },
   "outputs": [],
   "source": [
    "filler = PCA_IA(\n",
    "        n_components=9, \n",
    "        scale_x=False)\n",
    "reconstructed_X = filler.fit_transform(missing_X, \n",
    "                                       raw_y.reshape(-1,1))"
   ]
  },
  {
   "cell_type": "code",
   "execution_count": null,
   "metadata": {
    "colab": {
     "base_uri": "https://localhost:8080/"
    },
    "executionInfo": {
     "elapsed": 12,
     "status": "ok",
     "timestamp": 1644609488074,
     "user": {
      "displayName": "Nathan Mahynski",
      "photoUrl": "https://lh3.googleusercontent.com/a-/AOh14GiUlAIKCPEpbG_va5l0d5MOrKuPRHHZGu7-AEYw-A=s64",
      "userId": "00044706541353398741"
     },
     "user_tz": 300
    },
    "hidden": true,
    "id": "82Zz8wodMaV5",
    "outputId": "d66a1ab5-8bbb-428c-df37-e93c55fdd93c"
   },
   "outputs": [],
   "source": [
    "compare(raw_X, reconstructed_X)"
   ]
  },
  {
   "cell_type": "markdown",
   "metadata": {
    "hidden": true,
    "id": "vxOAMWCMMaV5"
   },
   "source": [
    "You can then use this in other pipelines.  You can specify the imputer without any hyperparameters in those cases, for example.\n",
    "Below is an example of how you might do that. Of course, you can also include the imputer's hyperparameters as part of the CV, too."
   ]
  },
  {
   "cell_type": "markdown",
   "metadata": {
    "hidden": true,
    "id": "GaD6hygpOCXC"
   },
   "source": [
    "```\n",
    "\n",
    "pipeline = imblearn.pipeline.Pipeline(steps=[\n",
    "    # Insert other preprocessing steps here...\n",
    "    (\"pca_ia\", PCA_IA(n_components=9, scale_x=False)),\n",
    "    (\"plsda\", PLSDA(n_components=5, \n",
    "                    alpha=0.05,\n",
    "                    scale_x=True, \n",
    "                    not_assigned='UNKNOWN',\n",
    "                    style='soft', \n",
    "                   )\n",
    "    )\n",
    "])\n",
    "\n",
    "# NO HYPERPARAMETERS ASSOCIATED WITH THE IMPUTER\n",
    "param_grid = [{\n",
    "    'plsda__n_components':np.arange(1, 10, 2),\n",
    "    'plsda__alpha': [0.07, 0.05, 0.03, 0.01],\n",
    "}]\n",
    "\n",
    "gs = GridSearchCV(\n",
    "    estimator=pipeline,\n",
    "    param_grid=param_grid,\n",
    "    n_jobs=-1,\n",
    "    cv=5,\n",
    "    error_score=0,\n",
    "    refit=True\n",
    ")\n",
    "\n",
    "_ = gs.fit(x_train, y_train)\n",
    "```"
   ]
  },
  {
   "cell_type": "markdown",
   "metadata": {
    "heading_collapsed": true,
    "id": "dm36gNf3MaV7"
   },
   "source": [
    "# Iterative PLS (Missing X values)"
   ]
  },
  {
   "cell_type": "markdown",
   "metadata": {
    "heading_collapsed": true,
    "hidden": true,
    "id": "fdszcKfgMaV8"
   },
   "source": [
    "## Fixed n_components"
   ]
  },
  {
   "cell_type": "code",
   "execution_count": null,
   "metadata": {
    "executionInfo": {
     "elapsed": 173,
     "status": "ok",
     "timestamp": 1644609488242,
     "user": {
      "displayName": "Nathan Mahynski",
      "photoUrl": "https://lh3.googleusercontent.com/a-/AOh14GiUlAIKCPEpbG_va5l0d5MOrKuPRHHZGu7-AEYw-A=s64",
      "userId": "00044706541353398741"
     },
     "user_tz": 300
    },
    "hidden": true,
    "id": "DVtw4FMCMaV8"
   },
   "outputs": [],
   "source": [
    "from pychemauth.preprocessing.missing import PLS_IA"
   ]
  },
  {
   "cell_type": "code",
   "execution_count": null,
   "metadata": {
    "executionInfo": {
     "elapsed": 8,
     "status": "ok",
     "timestamp": 1644609488243,
     "user": {
      "displayName": "Nathan Mahynski",
      "photoUrl": "https://lh3.googleusercontent.com/a-/AOh14GiUlAIKCPEpbG_va5l0d5MOrKuPRHHZGu7-AEYw-A=s64",
      "userId": "00044706541353398741"
     },
     "user_tz": 300
    },
    "hidden": true,
    "id": "KD1nn0FzMaV-"
   },
   "outputs": [],
   "source": [
    "itim = PLS_IA(\n",
    "    n_components=3, \n",
    "    missing_values=np.nan, \n",
    "    scale_x=True,\n",
    "    tol=1.0e-6, \n",
    "    max_iters=5000)"
   ]
  },
  {
   "cell_type": "code",
   "execution_count": null,
   "metadata": {
    "executionInfo": {
     "elapsed": 157,
     "status": "ok",
     "timestamp": 1644609488393,
     "user": {
      "displayName": "Nathan Mahynski",
      "photoUrl": "https://lh3.googleusercontent.com/a-/AOh14GiUlAIKCPEpbG_va5l0d5MOrKuPRHHZGu7-AEYw-A=s64",
      "userId": "00044706541353398741"
     },
     "user_tz": 300
    },
    "hidden": true,
    "id": "sN1cFTdOMaV-"
   },
   "outputs": [],
   "source": [
    "reconstructed_X = itim.fit_transform(missing_X, raw_y.reshape(-1,1))"
   ]
  },
  {
   "cell_type": "code",
   "execution_count": null,
   "metadata": {
    "colab": {
     "base_uri": "https://localhost:8080/"
    },
    "executionInfo": {
     "elapsed": 181,
     "status": "ok",
     "timestamp": 1644609488569,
     "user": {
      "displayName": "Nathan Mahynski",
      "photoUrl": "https://lh3.googleusercontent.com/a-/AOh14GiUlAIKCPEpbG_va5l0d5MOrKuPRHHZGu7-AEYw-A=s64",
      "userId": "00044706541353398741"
     },
     "user_tz": 300
    },
    "hidden": true,
    "id": "y_6auQbXMaV-",
    "outputId": "8290c964-0a74-4d5b-e7e0-8368e22eb42d"
   },
   "outputs": [],
   "source": [
    "compare(raw_X, reconstructed_X)"
   ]
  },
  {
   "cell_type": "markdown",
   "metadata": {
    "heading_collapsed": true,
    "hidden": true,
    "id": "dxBoJPAoMaV_"
   },
   "source": [
    "## Unknown n_components"
   ]
  },
  {
   "cell_type": "code",
   "execution_count": null,
   "metadata": {
    "executionInfo": {
     "elapsed": 4191,
     "status": "ok",
     "timestamp": 1644609492756,
     "user": {
      "displayName": "Nathan Mahynski",
      "photoUrl": "https://lh3.googleusercontent.com/a-/AOh14GiUlAIKCPEpbG_va5l0d5MOrKuPRHHZGu7-AEYw-A=s64",
      "userId": "00044706541353398741"
     },
     "user_tz": 300
    },
    "hidden": true,
    "id": "Ap7ZxXyYMaV_"
   },
   "outputs": [],
   "source": [
    "pipeline = sklearn.pipeline.Pipeline(steps=[\n",
    "    (\"pls_ia\", PLS_IA(\n",
    "        n_components=1, \n",
    "        scale_x=True)\n",
    "    )\n",
    "])\n",
    "\n",
    "# Hyperparameters of pipeline steps are given in standard notation: step__parameter_name\n",
    "param_grid = [{\n",
    "    'pls_ia__n_components': np.arange(1, 10, 2),\n",
    "    'pls_ia__scale_x': [True, False],\n",
    "}]\n",
    "\n",
    "gs = GridSearchCV(\n",
    "    estimator=pipeline,\n",
    "    param_grid=param_grid,\n",
    "    n_jobs=-1,\n",
    "    cv=sklearn.model_selection.KFold(n_splits=3, shuffle=True, random_state=0),\n",
    "    error_score=0,\n",
    "    refit=True\n",
    ")\n",
    "\n",
    "_ = gs.fit(missing_X, raw_y.reshape(-1,1))"
   ]
  },
  {
   "cell_type": "code",
   "execution_count": null,
   "metadata": {
    "colab": {
     "base_uri": "https://localhost:8080/"
    },
    "executionInfo": {
     "elapsed": 10,
     "status": "ok",
     "timestamp": 1644609492757,
     "user": {
      "displayName": "Nathan Mahynski",
      "photoUrl": "https://lh3.googleusercontent.com/a-/AOh14GiUlAIKCPEpbG_va5l0d5MOrKuPRHHZGu7-AEYw-A=s64",
      "userId": "00044706541353398741"
     },
     "user_tz": 300
    },
    "hidden": true,
    "id": "oKJhx2hRMaV_",
    "outputId": "dd2eb77d-407e-4a25-aadb-f428d95ee476"
   },
   "outputs": [],
   "source": [
    "gs.best_params_"
   ]
  },
  {
   "cell_type": "markdown",
   "metadata": {
    "heading_collapsed": true,
    "id": "iL_YEA7UMaWA"
   },
   "source": [
    "# Below LOD"
   ]
  },
  {
   "cell_type": "code",
   "execution_count": null,
   "metadata": {
    "executionInfo": {
     "elapsed": 7,
     "status": "ok",
     "timestamp": 1644609492758,
     "user": {
      "displayName": "Nathan Mahynski",
      "photoUrl": "https://lh3.googleusercontent.com/a-/AOh14GiUlAIKCPEpbG_va5l0d5MOrKuPRHHZGu7-AEYw-A=s64",
      "userId": "00044706541353398741"
     },
     "user_tz": 300
    },
    "hidden": true,
    "id": "AuL_bDtxMaWA"
   },
   "outputs": [],
   "source": [
    "from pychemauth.preprocessing.missing import LOD"
   ]
  },
  {
   "cell_type": "markdown",
   "metadata": {
    "heading_collapsed": true,
    "hidden": true,
    "id": "_ya2X0zMMaWB"
   },
   "source": [
    "## Missing values < LOD only"
   ]
  },
  {
   "cell_type": "code",
   "execution_count": null,
   "metadata": {
    "executionInfo": {
     "elapsed": 180,
     "status": "ok",
     "timestamp": 1644609492932,
     "user": {
      "displayName": "Nathan Mahynski",
      "photoUrl": "https://lh3.googleusercontent.com/a-/AOh14GiUlAIKCPEpbG_va5l0d5MOrKuPRHHZGu7-AEYw-A=s64",
      "userId": "00044706541353398741"
     },
     "user_tz": 300
    },
    "hidden": true,
    "id": "OTOK2dP_MaWB"
   },
   "outputs": [],
   "source": [
    "X = np.array(\n",
    "    [\n",
    "        [1.0, 2.0, 3.0, 4.0],\n",
    "        [np.nan, 3.0, 2.0, np.nan],\n",
    "        [5.0, 1.0, np.nan, 5.0],\n",
    "        [2.0, 3.0, 4.0, 5.0]\n",
    "    ]\n",
    ")\n",
    "\n",
    "lod = np.array([0.15, 0.15, 0.25, 0.15])"
   ]
  },
  {
   "cell_type": "code",
   "execution_count": null,
   "metadata": {
    "colab": {
     "base_uri": "https://localhost:8080/"
    },
    "executionInfo": {
     "elapsed": 6,
     "status": "ok",
     "timestamp": 1644609492933,
     "user": {
      "displayName": "Nathan Mahynski",
      "photoUrl": "https://lh3.googleusercontent.com/a-/AOh14GiUlAIKCPEpbG_va5l0d5MOrKuPRHHZGu7-AEYw-A=s64",
      "userId": "00044706541353398741"
     },
     "user_tz": 300
    },
    "hidden": true,
    "id": "8gsE0kZmMaWC",
    "outputId": "5c4c3530-37ca-48ee-9bef-62f6615126c4"
   },
   "outputs": [],
   "source": [
    "imputer = LOD(lod, missing_values=np.nan, seed=0)\n",
    "imputer.fit_transform(X)"
   ]
  },
  {
   "cell_type": "markdown",
   "metadata": {
    "heading_collapsed": true,
    "hidden": true,
    "id": "uNwEA8f1MaWC"
   },
   "source": [
    "## Missing values and < LOD"
   ]
  },
  {
   "cell_type": "code",
   "execution_count": null,
   "metadata": {
    "executionInfo": {
     "elapsed": 4,
     "status": "ok",
     "timestamp": 1644609492933,
     "user": {
      "displayName": "Nathan Mahynski",
      "photoUrl": "https://lh3.googleusercontent.com/a-/AOh14GiUlAIKCPEpbG_va5l0d5MOrKuPRHHZGu7-AEYw-A=s64",
      "userId": "00044706541353398741"
     },
     "user_tz": 300
    },
    "hidden": true,
    "id": "YgTU-Ld2MaWC"
   },
   "outputs": [],
   "source": [
    "# Now assume -1 indicates < LOD and a corrupted data entry is\n",
    "# indicated by a NaN\n",
    "X = np.array(\n",
    "    [\n",
    "        [1.0, np.nan, 3.0, 4.0],\n",
    "        [-1, 3.0, 2.0, -1],\n",
    "        [5.0, 1.0, -1, 5.0],\n",
    "        [2.0, 3.0, np.nan, 5.0]\n",
    "    ]\n",
    ")\n",
    "\n",
    "lod = np.array([0.15, 0.15, 0.25, 0.15])"
   ]
  },
  {
   "cell_type": "code",
   "execution_count": null,
   "metadata": {
    "colab": {
     "base_uri": "https://localhost:8080/"
    },
    "executionInfo": {
     "elapsed": 171,
     "status": "ok",
     "timestamp": 1644609493100,
     "user": {
      "displayName": "Nathan Mahynski",
      "photoUrl": "https://lh3.googleusercontent.com/a-/AOh14GiUlAIKCPEpbG_va5l0d5MOrKuPRHHZGu7-AEYw-A=s64",
      "userId": "00044706541353398741"
     },
     "user_tz": 300
    },
    "hidden": true,
    "id": "UQ0ZmBDUMaWD",
    "outputId": "340be55f-0884-424d-f5f4-e8f87ebbfba4"
   },
   "outputs": [],
   "source": [
    "# If you leave \"-1\" then when doing imputation that will be \n",
    "# considered a \"real\" value which is not what you (probably) want.\n",
    "\n",
    "# Step 1: Remove values encoded by numbers. \n",
    "imputer = LOD(lod, missing_values=-1, seed=0)\n",
    "X_lod = imputer.fit_transform(X)\n",
    "X_lod"
   ]
  },
  {
   "cell_type": "code",
   "execution_count": null,
   "metadata": {
    "colab": {
     "base_uri": "https://localhost:8080/"
    },
    "executionInfo": {
     "elapsed": 406,
     "status": "ok",
     "timestamp": 1644609493503,
     "user": {
      "displayName": "Nathan Mahynski",
      "photoUrl": "https://lh3.googleusercontent.com/a-/AOh14GiUlAIKCPEpbG_va5l0d5MOrKuPRHHZGu7-AEYw-A=s64",
      "userId": "00044706541353398741"
     },
     "user_tz": 300
    },
    "hidden": true,
    "id": "-GWq5PFMMaWD",
    "outputId": "88a14ef9-f248-4126-a44e-0fd8573f09b9"
   },
   "outputs": [],
   "source": [
    "# Step 2: Remove NaNs by doing imputation\n",
    "itim = PLS_IA(\n",
    "    n_components=2, \n",
    "    missing_values=np.nan, \n",
    "    scale_x=True,\n",
    "    tol=1.0e-6, \n",
    "    max_iters=5000)\n",
    "X_recon = itim.fit_transform(X_lod, np.arange(X.shape[0]).reshape(-1,1))\n",
    "X_recon"
   ]
  },
  {
   "cell_type": "code",
   "execution_count": null,
   "metadata": {
    "colab": {
     "base_uri": "https://localhost:8080/"
    },
    "executionInfo": {
     "elapsed": 8,
     "status": "ok",
     "timestamp": 1644609493503,
     "user": {
      "displayName": "Nathan Mahynski",
      "photoUrl": "https://lh3.googleusercontent.com/a-/AOh14GiUlAIKCPEpbG_va5l0d5MOrKuPRHHZGu7-AEYw-A=s64",
      "userId": "00044706541353398741"
     },
     "user_tz": 300
    },
    "hidden": true,
    "id": "UhGJxZK4MaWE",
    "outputId": "48d0d77b-5576-43b6-b067-bc966958646d"
   },
   "outputs": [],
   "source": [
    "# Note how some imputed values are now < 0.  This may, or may\n",
    "# not be sensible. If you want, you can re-perform the LOD\n",
    "# check because this will register as < LOD due to the sign.\n",
    "\n",
    "imputer = LOD(lod, missing_values=-1, seed=0)\n",
    "X_lod = imputer.fit_transform(X_recon)\n",
    "X_lod"
   ]
  },
  {
   "cell_type": "code",
   "execution_count": null,
   "metadata": {
    "executionInfo": {
     "elapsed": 6,
     "status": "ok",
     "timestamp": 1644609493505,
     "user": {
      "displayName": "Nathan Mahynski",
      "photoUrl": "https://lh3.googleusercontent.com/a-/AOh14GiUlAIKCPEpbG_va5l0d5MOrKuPRHHZGu7-AEYw-A=s64",
      "userId": "00044706541353398741"
     },
     "user_tz": 300
    },
    "hidden": true,
    "id": "YF7qkgozMaWE"
   },
   "outputs": [],
   "source": [
    "# Lesson: Be careful when combining preprocessing!"
   ]
  }
 ],
 "metadata": {
  "colab": {
   "collapsed_sections": [],
   "name": "imputing_examples.ipynb",
   "provenance": []
  },
  "kernelspec": {
   "display_name": "py37",
   "language": "python",
   "name": "py37"
  },
  "language_info": {
   "codemirror_mode": {
    "name": "ipython",
    "version": 3
   },
   "file_extension": ".py",
   "mimetype": "text/x-python",
   "name": "python",
   "nbconvert_exporter": "python",
   "pygments_lexer": "ipython3",
   "version": "3.7.13"
  },
  "toc": {
   "base_numbering": 1,
   "nav_menu": {},
   "number_sections": true,
   "sideBar": true,
   "skip_h1_title": false,
   "title_cell": "Table of Contents",
   "title_sidebar": "Contents",
   "toc_cell": true,
   "toc_position": {},
   "toc_section_display": true,
   "toc_window_display": false
  }
 },
 "nbformat": 4,
 "nbformat_minor": 4
}
