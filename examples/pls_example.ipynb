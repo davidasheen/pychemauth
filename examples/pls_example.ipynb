{
 "cells": [
  {
   "cell_type": "markdown",
   "metadata": {
    "toc": true
   },
   "source": [
    "<h1>Table of Contents<span class=\"tocSkip\"></span></h1>\n",
    "<div class=\"toc\"><ul class=\"toc-item\"><li><ul class=\"toc-item\"><li><span><a href=\"#Overview\" data-toc-modified-id=\"Overview-0.1\"><span class=\"toc-item-num\">0.1&nbsp;&nbsp;</span>Overview</a></span></li></ul></li><li><span><a href=\"#Load-the-Data\" data-toc-modified-id=\"Load-the-Data-1\"><span class=\"toc-item-num\">1&nbsp;&nbsp;</span>Load the Data</a></span></li><li><span><a href=\"#Model-the-Data-with-PLS\" data-toc-modified-id=\"Model-the-Data-with-PLS-2\"><span class=\"toc-item-num\">2&nbsp;&nbsp;</span>Model the Data with PLS</a></span><ul class=\"toc-item\"><li><span><a href=\"#Training\" data-toc-modified-id=\"Training-2.1\"><span class=\"toc-item-num\">2.1&nbsp;&nbsp;</span>Training</a></span></li><li><span><a href=\"#Testing\" data-toc-modified-id=\"Testing-2.2\"><span class=\"toc-item-num\">2.2&nbsp;&nbsp;</span>Testing</a></span></li></ul></li><li><span><a href=\"#Optimizing-the-Model\" data-toc-modified-id=\"Optimizing-the-Model-3\"><span class=\"toc-item-num\">3&nbsp;&nbsp;</span>Optimizing the Model</a></span></li><li><span><a href=\"#Outlier-Detection\" data-toc-modified-id=\"Outlier-Detection-4\"><span class=\"toc-item-num\">4&nbsp;&nbsp;</span>Outlier Detection</a></span><ul class=\"toc-item\"><li><span><a href=\"#Step-3\" data-toc-modified-id=\"Step-3-4.1\"><span class=\"toc-item-num\">4.1&nbsp;&nbsp;</span>Step 3</a></span></li><li><span><a href=\"#Step-4\" data-toc-modified-id=\"Step-4-4.2\"><span class=\"toc-item-num\">4.2&nbsp;&nbsp;</span>Step 4</a></span></li><li><span><a href=\"#Step-5\" data-toc-modified-id=\"Step-5-4.3\"><span class=\"toc-item-num\">4.3&nbsp;&nbsp;</span>Step 5</a></span></li></ul></li></ul></div>"
   ]
  },
  {
   "cell_type": "code",
   "execution_count": 1,
   "metadata": {
    "scrolled": true
   },
   "outputs": [
    {
     "name": "stderr",
     "output_type": "stream",
     "text": [
      "/home/nam/anaconda3/lib/python3.7/site-packages/sklearn/utils/deprecation.py:144: FutureWarning: The sklearn.neighbors.base module is  deprecated in version 0.22 and will be removed in version 0.24. The corresponding classes / functions should instead be imported from sklearn.neighbors. Anything that cannot be imported from sklearn.neighbors is now part of the private API.\n",
      "  warnings.warn(message, FutureWarning)\n",
      "/home/nam/anaconda3/lib/python3.7/site-packages/sklearn/utils/deprecation.py:144: FutureWarning: The sklearn.ensemble.bagging module is  deprecated in version 0.22 and will be removed in version 0.24. The corresponding classes / functions should instead be imported from sklearn.ensemble. Anything that cannot be imported from sklearn.ensemble is now part of the private API.\n",
      "  warnings.warn(message, FutureWarning)\n",
      "/home/nam/anaconda3/lib/python3.7/site-packages/sklearn/utils/deprecation.py:144: FutureWarning: The sklearn.ensemble.base module is  deprecated in version 0.22 and will be removed in version 0.24. The corresponding classes / functions should instead be imported from sklearn.ensemble. Anything that cannot be imported from sklearn.ensemble is now part of the private API.\n",
      "  warnings.warn(message, FutureWarning)\n",
      "/home/nam/anaconda3/lib/python3.7/site-packages/sklearn/utils/deprecation.py:144: FutureWarning: The sklearn.ensemble.forest module is  deprecated in version 0.22 and will be removed in version 0.24. The corresponding classes / functions should instead be imported from sklearn.ensemble. Anything that cannot be imported from sklearn.ensemble is now part of the private API.\n",
      "  warnings.warn(message, FutureWarning)\n",
      "/home/nam/anaconda3/lib/python3.7/site-packages/sklearn/utils/deprecation.py:144: FutureWarning: The sklearn.utils.testing module is  deprecated in version 0.22 and will be removed in version 0.24. The corresponding classes / functions should instead be imported from sklearn.utils. Anything that cannot be imported from sklearn.utils is now part of the private API.\n",
      "  warnings.warn(message, FutureWarning)\n",
      "/home/nam/anaconda3/lib/python3.7/site-packages/sklearn/utils/deprecation.py:144: FutureWarning: The sklearn.metrics.classification module is  deprecated in version 0.22 and will be removed in version 0.24. The corresponding classes / functions should instead be imported from sklearn.metrics. Anything that cannot be imported from sklearn.metrics is now part of the private API.\n",
      "  warnings.warn(message, FutureWarning)\n"
     ]
    }
   ],
   "source": [
    "import matplotlib.pyplot as plt\n",
    "%matplotlib notebook\n",
    "\n",
    "import imblearn\n",
    "import sklearn\n",
    "\n",
    "from sklearn.model_selection import GridSearchCV\n",
    "\n",
    "import sys\n",
    "sys.path.append('../../')\n",
    "import chemometrics\n",
    "\n",
    "import numpy as np\n",
    "import pandas as pd\n",
    "\n",
    "import watermark\n",
    "%load_ext watermark"
   ]
  },
  {
   "cell_type": "markdown",
   "metadata": {},
   "source": [
    "Overview\n",
    "-------------"
   ]
  },
  {
   "cell_type": "markdown",
   "metadata": {},
   "source": [
    "This is an example of using PLS to create a model, following the procedures outlined in [\"Detection of Outliers in Projection-Based Modeling,\" Rodionova and Pomerantsev, Analytical\n",
    "    Chemistry 92 (2020) 2656−2664.](https://doi.org/10.1021/acs.analchem.9b04611)\n",
    "    \n",
    "Figure 1 from this paper illustrates the workflow:\n",
    "![](./pls_example_fig1.png)"
   ]
  },
  {
   "cell_type": "code",
   "execution_count": 2,
   "metadata": {},
   "outputs": [
    {
     "name": "stdout",
     "output_type": "stream",
     "text": [
      "imblearn  0.5.0\n",
      "pandas    0.25.1\n",
      "sklearn   0.22.2.post1\n",
      "json      2.0.9\n",
      "watermark 2.0.2\n",
      "numpy     1.21.4\n",
      "12:16:39 \n",
      "\n",
      "CPython 3.7.4\n",
      "IPython 7.8.0\n",
      "\n",
      "compiler   : GCC 7.3.0\n",
      "system     : Linux\n",
      "release    : 4.15.0-166-generic\n",
      "machine    : x86_64\n",
      "processor  : x86_64\n",
      "CPU cores  : 8\n",
      "interpreter: 64bit\n"
     ]
    }
   ],
   "source": [
    "%watermark -t -m -v --iversions"
   ]
  },
  {
   "cell_type": "markdown",
   "metadata": {},
   "source": [
    "# Load the Data"
   ]
  },
  {
   "cell_type": "code",
   "execution_count": 3,
   "metadata": {},
   "outputs": [],
   "source": [
    "# Let's load some data from the tests/ for this example\n",
    "df = pd.read_csv('../tests/data/pls_train.csv')"
   ]
  },
  {
   "cell_type": "code",
   "execution_count": 4,
   "metadata": {},
   "outputs": [
    {
     "data": {
      "text/html": [
       "<div>\n",
       "<style scoped>\n",
       "    .dataframe tbody tr th:only-of-type {\n",
       "        vertical-align: middle;\n",
       "    }\n",
       "\n",
       "    .dataframe tbody tr th {\n",
       "        vertical-align: top;\n",
       "    }\n",
       "\n",
       "    .dataframe thead th {\n",
       "        text-align: right;\n",
       "    }\n",
       "</style>\n",
       "<table border=\"1\" class=\"dataframe\">\n",
       "  <thead>\n",
       "    <tr style=\"text-align: right;\">\n",
       "      <th></th>\n",
       "      <th>Group</th>\n",
       "      <th>Name</th>\n",
       "      <th>Water</th>\n",
       "      <th>9000</th>\n",
       "      <th>9016</th>\n",
       "      <th>9032</th>\n",
       "      <th>9048</th>\n",
       "      <th>9064</th>\n",
       "      <th>9080</th>\n",
       "      <th>9096</th>\n",
       "      <th>...</th>\n",
       "      <th>10728</th>\n",
       "      <th>10744</th>\n",
       "      <th>10760</th>\n",
       "      <th>10776</th>\n",
       "      <th>10792</th>\n",
       "      <th>10808</th>\n",
       "      <th>10824</th>\n",
       "      <th>10840</th>\n",
       "      <th>10856</th>\n",
       "      <th>10872</th>\n",
       "    </tr>\n",
       "  </thead>\n",
       "  <tbody>\n",
       "    <tr>\n",
       "      <td>0</td>\n",
       "      <td>1</td>\n",
       "      <td>psh1079</td>\n",
       "      <td>13.1</td>\n",
       "      <td>1.200471</td>\n",
       "      <td>1.200235</td>\n",
       "      <td>1.197285</td>\n",
       "      <td>1.191587</td>\n",
       "      <td>1.182786</td>\n",
       "      <td>1.170456</td>\n",
       "      <td>1.154333</td>\n",
       "      <td>...</td>\n",
       "      <td>0.947764</td>\n",
       "      <td>0.911444</td>\n",
       "      <td>0.874897</td>\n",
       "      <td>0.838401</td>\n",
       "      <td>0.802317</td>\n",
       "      <td>0.767152</td>\n",
       "      <td>0.733518</td>\n",
       "      <td>0.702013</td>\n",
       "      <td>0.673171</td>\n",
       "      <td>0.647416</td>\n",
       "    </tr>\n",
       "    <tr>\n",
       "      <td>1</td>\n",
       "      <td>1</td>\n",
       "      <td>psh1080</td>\n",
       "      <td>13.1</td>\n",
       "      <td>1.118446</td>\n",
       "      <td>1.120228</td>\n",
       "      <td>1.119543</td>\n",
       "      <td>1.116151</td>\n",
       "      <td>1.109550</td>\n",
       "      <td>1.099261</td>\n",
       "      <td>1.085294</td>\n",
       "      <td>...</td>\n",
       "      <td>1.019738</td>\n",
       "      <td>0.986162</td>\n",
       "      <td>0.952236</td>\n",
       "      <td>0.918314</td>\n",
       "      <td>0.884795</td>\n",
       "      <td>0.852187</td>\n",
       "      <td>0.821023</td>\n",
       "      <td>0.791809</td>\n",
       "      <td>0.765117</td>\n",
       "      <td>0.741465</td>\n",
       "    </tr>\n",
       "    <tr>\n",
       "      <td>2</td>\n",
       "      <td>1</td>\n",
       "      <td>psh1082</td>\n",
       "      <td>12.5</td>\n",
       "      <td>1.151631</td>\n",
       "      <td>1.153625</td>\n",
       "      <td>1.153154</td>\n",
       "      <td>1.149782</td>\n",
       "      <td>1.142985</td>\n",
       "      <td>1.132223</td>\n",
       "      <td>1.117273</td>\n",
       "      <td>...</td>\n",
       "      <td>0.960466</td>\n",
       "      <td>0.920775</td>\n",
       "      <td>0.880692</td>\n",
       "      <td>0.840490</td>\n",
       "      <td>0.800624</td>\n",
       "      <td>0.761642</td>\n",
       "      <td>0.724088</td>\n",
       "      <td>0.688496</td>\n",
       "      <td>0.655518</td>\n",
       "      <td>0.625669</td>\n",
       "    </tr>\n",
       "    <tr>\n",
       "      <td>3</td>\n",
       "      <td>1</td>\n",
       "      <td>psh1104</td>\n",
       "      <td>11.3</td>\n",
       "      <td>1.249430</td>\n",
       "      <td>1.246106</td>\n",
       "      <td>1.240054</td>\n",
       "      <td>1.231071</td>\n",
       "      <td>1.218746</td>\n",
       "      <td>1.202648</td>\n",
       "      <td>1.182540</td>\n",
       "      <td>...</td>\n",
       "      <td>0.857823</td>\n",
       "      <td>0.811211</td>\n",
       "      <td>0.764474</td>\n",
       "      <td>0.717992</td>\n",
       "      <td>0.672193</td>\n",
       "      <td>0.627514</td>\n",
       "      <td>0.584488</td>\n",
       "      <td>0.543758</td>\n",
       "      <td>0.505945</td>\n",
       "      <td>0.471541</td>\n",
       "    </tr>\n",
       "    <tr>\n",
       "      <td>4</td>\n",
       "      <td>1</td>\n",
       "      <td>psh1108</td>\n",
       "      <td>11.8</td>\n",
       "      <td>1.249200</td>\n",
       "      <td>1.249285</td>\n",
       "      <td>1.246747</td>\n",
       "      <td>1.241193</td>\n",
       "      <td>1.232022</td>\n",
       "      <td>1.218881</td>\n",
       "      <td>1.201564</td>\n",
       "      <td>...</td>\n",
       "      <td>0.851214</td>\n",
       "      <td>0.805609</td>\n",
       "      <td>0.759625</td>\n",
       "      <td>0.713541</td>\n",
       "      <td>0.667789</td>\n",
       "      <td>0.622848</td>\n",
       "      <td>0.579296</td>\n",
       "      <td>0.537772</td>\n",
       "      <td>0.498901</td>\n",
       "      <td>0.463128</td>\n",
       "    </tr>\n",
       "    <tr>\n",
       "      <td>...</td>\n",
       "      <td>...</td>\n",
       "      <td>...</td>\n",
       "      <td>...</td>\n",
       "      <td>...</td>\n",
       "      <td>...</td>\n",
       "      <td>...</td>\n",
       "      <td>...</td>\n",
       "      <td>...</td>\n",
       "      <td>...</td>\n",
       "      <td>...</td>\n",
       "      <td>...</td>\n",
       "      <td>...</td>\n",
       "      <td>...</td>\n",
       "      <td>...</td>\n",
       "      <td>...</td>\n",
       "      <td>...</td>\n",
       "      <td>...</td>\n",
       "      <td>...</td>\n",
       "      <td>...</td>\n",
       "      <td>...</td>\n",
       "      <td>...</td>\n",
       "    </tr>\n",
       "    <tr>\n",
       "      <td>99</td>\n",
       "      <td>1</td>\n",
       "      <td>psh1572</td>\n",
       "      <td>12.1</td>\n",
       "      <td>1.208627</td>\n",
       "      <td>1.206364</td>\n",
       "      <td>1.201533</td>\n",
       "      <td>1.193940</td>\n",
       "      <td>1.183109</td>\n",
       "      <td>1.168546</td>\n",
       "      <td>1.150101</td>\n",
       "      <td>...</td>\n",
       "      <td>0.920882</td>\n",
       "      <td>0.880061</td>\n",
       "      <td>0.839070</td>\n",
       "      <td>0.798221</td>\n",
       "      <td>0.757988</td>\n",
       "      <td>0.718879</td>\n",
       "      <td>0.681480</td>\n",
       "      <td>0.646393</td>\n",
       "      <td>0.614156</td>\n",
       "      <td>0.585222</td>\n",
       "    </tr>\n",
       "    <tr>\n",
       "      <td>100</td>\n",
       "      <td>1</td>\n",
       "      <td>psh1581</td>\n",
       "      <td>11.1</td>\n",
       "      <td>1.309433</td>\n",
       "      <td>1.306744</td>\n",
       "      <td>1.301490</td>\n",
       "      <td>1.293203</td>\n",
       "      <td>1.281229</td>\n",
       "      <td>1.265039</td>\n",
       "      <td>1.244515</td>\n",
       "      <td>...</td>\n",
       "      <td>0.786403</td>\n",
       "      <td>0.736794</td>\n",
       "      <td>0.687120</td>\n",
       "      <td>0.637611</td>\n",
       "      <td>0.588602</td>\n",
       "      <td>0.540568</td>\n",
       "      <td>0.494092</td>\n",
       "      <td>0.449807</td>\n",
       "      <td>0.408333</td>\n",
       "      <td>0.370142</td>\n",
       "    </tr>\n",
       "    <tr>\n",
       "      <td>101</td>\n",
       "      <td>1</td>\n",
       "      <td>psh1583</td>\n",
       "      <td>11.9</td>\n",
       "      <td>1.242202</td>\n",
       "      <td>1.241043</td>\n",
       "      <td>1.237199</td>\n",
       "      <td>1.230210</td>\n",
       "      <td>1.219605</td>\n",
       "      <td>1.205144</td>\n",
       "      <td>1.186659</td>\n",
       "      <td>...</td>\n",
       "      <td>0.885069</td>\n",
       "      <td>0.841860</td>\n",
       "      <td>0.798274</td>\n",
       "      <td>0.754636</td>\n",
       "      <td>0.711474</td>\n",
       "      <td>0.669237</td>\n",
       "      <td>0.628333</td>\n",
       "      <td>0.589353</td>\n",
       "      <td>0.552943</td>\n",
       "      <td>0.519681</td>\n",
       "    </tr>\n",
       "    <tr>\n",
       "      <td>102</td>\n",
       "      <td>1</td>\n",
       "      <td>psh1593</td>\n",
       "      <td>12.1</td>\n",
       "      <td>1.260220</td>\n",
       "      <td>1.259043</td>\n",
       "      <td>1.255041</td>\n",
       "      <td>1.247895</td>\n",
       "      <td>1.237305</td>\n",
       "      <td>1.222779</td>\n",
       "      <td>1.204197</td>\n",
       "      <td>...</td>\n",
       "      <td>0.858332</td>\n",
       "      <td>0.812683</td>\n",
       "      <td>0.766794</td>\n",
       "      <td>0.721072</td>\n",
       "      <td>0.675887</td>\n",
       "      <td>0.631626</td>\n",
       "      <td>0.588853</td>\n",
       "      <td>0.548129</td>\n",
       "      <td>0.510001</td>\n",
       "      <td>0.475069</td>\n",
       "    </tr>\n",
       "    <tr>\n",
       "      <td>103</td>\n",
       "      <td>1</td>\n",
       "      <td>psh1599</td>\n",
       "      <td>11.9</td>\n",
       "      <td>1.252819</td>\n",
       "      <td>1.252676</td>\n",
       "      <td>1.249945</td>\n",
       "      <td>1.244167</td>\n",
       "      <td>1.234766</td>\n",
       "      <td>1.221271</td>\n",
       "      <td>1.203461</td>\n",
       "      <td>...</td>\n",
       "      <td>0.851692</td>\n",
       "      <td>0.805380</td>\n",
       "      <td>0.758835</td>\n",
       "      <td>0.712328</td>\n",
       "      <td>0.666156</td>\n",
       "      <td>0.620795</td>\n",
       "      <td>0.576917</td>\n",
       "      <td>0.535123</td>\n",
       "      <td>0.495937</td>\n",
       "      <td>0.459870</td>\n",
       "    </tr>\n",
       "  </tbody>\n",
       "</table>\n",
       "<p>104 rows × 121 columns</p>\n",
       "</div>"
      ],
      "text/plain": [
       "     Group     Name  Water      9000      9016      9032      9048      9064  \\\n",
       "0        1  psh1079   13.1  1.200471  1.200235  1.197285  1.191587  1.182786   \n",
       "1        1  psh1080   13.1  1.118446  1.120228  1.119543  1.116151  1.109550   \n",
       "2        1  psh1082   12.5  1.151631  1.153625  1.153154  1.149782  1.142985   \n",
       "3        1  psh1104   11.3  1.249430  1.246106  1.240054  1.231071  1.218746   \n",
       "4        1  psh1108   11.8  1.249200  1.249285  1.246747  1.241193  1.232022   \n",
       "..     ...      ...    ...       ...       ...       ...       ...       ...   \n",
       "99       1  psh1572   12.1  1.208627  1.206364  1.201533  1.193940  1.183109   \n",
       "100      1  psh1581   11.1  1.309433  1.306744  1.301490  1.293203  1.281229   \n",
       "101      1  psh1583   11.9  1.242202  1.241043  1.237199  1.230210  1.219605   \n",
       "102      1  psh1593   12.1  1.260220  1.259043  1.255041  1.247895  1.237305   \n",
       "103      1  psh1599   11.9  1.252819  1.252676  1.249945  1.244167  1.234766   \n",
       "\n",
       "         9080      9096  ...     10728     10744     10760     10776  \\\n",
       "0    1.170456  1.154333  ...  0.947764  0.911444  0.874897  0.838401   \n",
       "1    1.099261  1.085294  ...  1.019738  0.986162  0.952236  0.918314   \n",
       "2    1.132223  1.117273  ...  0.960466  0.920775  0.880692  0.840490   \n",
       "3    1.202648  1.182540  ...  0.857823  0.811211  0.764474  0.717992   \n",
       "4    1.218881  1.201564  ...  0.851214  0.805609  0.759625  0.713541   \n",
       "..        ...       ...  ...       ...       ...       ...       ...   \n",
       "99   1.168546  1.150101  ...  0.920882  0.880061  0.839070  0.798221   \n",
       "100  1.265039  1.244515  ...  0.786403  0.736794  0.687120  0.637611   \n",
       "101  1.205144  1.186659  ...  0.885069  0.841860  0.798274  0.754636   \n",
       "102  1.222779  1.204197  ...  0.858332  0.812683  0.766794  0.721072   \n",
       "103  1.221271  1.203461  ...  0.851692  0.805380  0.758835  0.712328   \n",
       "\n",
       "        10792     10808     10824     10840     10856     10872  \n",
       "0    0.802317  0.767152  0.733518  0.702013  0.673171  0.647416  \n",
       "1    0.884795  0.852187  0.821023  0.791809  0.765117  0.741465  \n",
       "2    0.800624  0.761642  0.724088  0.688496  0.655518  0.625669  \n",
       "3    0.672193  0.627514  0.584488  0.543758  0.505945  0.471541  \n",
       "4    0.667789  0.622848  0.579296  0.537772  0.498901  0.463128  \n",
       "..        ...       ...       ...       ...       ...       ...  \n",
       "99   0.757988  0.718879  0.681480  0.646393  0.614156  0.585222  \n",
       "100  0.588602  0.540568  0.494092  0.449807  0.408333  0.370142  \n",
       "101  0.711474  0.669237  0.628333  0.589353  0.552943  0.519681  \n",
       "102  0.675887  0.631626  0.588853  0.548129  0.510001  0.475069  \n",
       "103  0.666156  0.620795  0.576917  0.535123  0.495937  0.459870  \n",
       "\n",
       "[104 rows x 121 columns]"
      ]
     },
     "execution_count": 4,
     "metadata": {},
     "output_type": "execute_result"
    }
   ],
   "source": [
    "df"
   ]
  },
  {
   "cell_type": "code",
   "execution_count": 5,
   "metadata": {},
   "outputs": [],
   "source": [
    "raw_x = np.array(df.values[:,3:], dtype=float) # Extract features\n",
    "raw_y = np.array(df['Water'].values, dtype=float) # Take the water content as the target"
   ]
  },
  {
   "cell_type": "markdown",
   "metadata": {},
   "source": [
    "# Model the Data with PLS"
   ]
  },
  {
   "cell_type": "code",
   "execution_count": 6,
   "metadata": {},
   "outputs": [],
   "source": [
    "from chemometrics.regressor.pls import PLS"
   ]
  },
  {
   "cell_type": "markdown",
   "metadata": {},
   "source": [
    "## Training"
   ]
  },
  {
   "cell_type": "code",
   "execution_count": 7,
   "metadata": {},
   "outputs": [],
   "source": [
    "model = PLS(n_components=1, alpha=0.05, gamma=0.01, scale_x=True)"
   ]
  },
  {
   "cell_type": "code",
   "execution_count": 8,
   "metadata": {},
   "outputs": [],
   "source": [
    "_ = model.fit(raw_x, raw_y)"
   ]
  },
  {
   "cell_type": "code",
   "execution_count": null,
   "metadata": {},
   "outputs": [],
   "source": [
    "_ = model.visualize(raw_x, raw_y)"
   ]
  },
  {
   "cell_type": "code",
   "execution_count": null,
   "metadata": {
    "scrolled": true
   },
   "outputs": [],
   "source": [
    "# We can predict the water content with model.predict(raw_x)\n",
    "model.predict(raw_x)"
   ]
  },
  {
   "cell_type": "code",
   "execution_count": null,
   "metadata": {},
   "outputs": [],
   "source": [
    "# We can see what X data (if any) is extreme or is an outlier\n",
    "extremes_mask, outliers_mask = model.check_x_outliers(raw_x)"
   ]
  },
  {
   "cell_type": "code",
   "execution_count": null,
   "metadata": {},
   "outputs": [],
   "source": [
    "# We could extract that data as follows:\n",
    "extremes = raw_x[extremes_mask]\n",
    "outliers = raw_x[outliers_mask]"
   ]
  },
  {
   "cell_type": "code",
   "execution_count": null,
   "metadata": {},
   "outputs": [],
   "source": [
    "# Number of X outliers, for example?\n",
    "np.sum(outliers_mask)"
   ]
  },
  {
   "cell_type": "code",
   "execution_count": null,
   "metadata": {},
   "outputs": [],
   "source": [
    "# Number of X extremes, for example?\n",
    "np.sum(extremes_mask)"
   ]
  },
  {
   "cell_type": "code",
   "execution_count": null,
   "metadata": {},
   "outputs": [],
   "source": [
    "# We can see what XY data (if any) is extreme or is an outlier\n",
    "extremes_mask, outliers_mask = model.check_xy_outliers(raw_x, raw_y)"
   ]
  },
  {
   "cell_type": "code",
   "execution_count": null,
   "metadata": {},
   "outputs": [],
   "source": [
    "# Number of X outliers, for example?\n",
    "np.sum(outliers_mask)"
   ]
  },
  {
   "cell_type": "code",
   "execution_count": null,
   "metadata": {},
   "outputs": [],
   "source": [
    "# Number of X extremes, for example?\n",
    "np.sum(extremes_mask)"
   ]
  },
  {
   "cell_type": "markdown",
   "metadata": {
    "heading_collapsed": true
   },
   "source": [
    "## Testing"
   ]
  },
  {
   "cell_type": "code",
   "execution_count": null,
   "metadata": {
    "hidden": true
   },
   "outputs": [],
   "source": [
    "df = pd.read_csv('../tests/data/pls_test.csv', header=None)\n",
    "raw_x_t = np.array(df.values[:,3:], dtype=float)\n",
    "raw_y_t = np.array(df.values[:,2], dtype=float)"
   ]
  },
  {
   "cell_type": "code",
   "execution_count": null,
   "metadata": {
    "hidden": true
   },
   "outputs": [],
   "source": [
    "_ = model.visualize(raw_x_t, raw_y_t)"
   ]
  },
  {
   "cell_type": "code",
   "execution_count": null,
   "metadata": {
    "hidden": true
   },
   "outputs": [],
   "source": [
    "extremes_mask, outliers_mask = model.check_x_outliers(raw_x_t)"
   ]
  },
  {
   "cell_type": "code",
   "execution_count": null,
   "metadata": {
    "hidden": true
   },
   "outputs": [],
   "source": [
    "# Number of X extremes, for example?\n",
    "np.sum(extremes_mask)"
   ]
  },
  {
   "cell_type": "code",
   "execution_count": null,
   "metadata": {
    "hidden": true
   },
   "outputs": [],
   "source": [
    "# Number of X outliers, for example?\n",
    "np.sum(outliers_mask)"
   ]
  },
  {
   "cell_type": "markdown",
   "metadata": {
    "heading_collapsed": true
   },
   "source": [
    "# Optimizing the Model"
   ]
  },
  {
   "cell_type": "code",
   "execution_count": null,
   "metadata": {
    "hidden": true
   },
   "outputs": [],
   "source": [
    "# Here I've use an imblearn pipeline, but you can also use scikit-learn's pipeline if you don't want to \n",
    "# do any class balancing.\n",
    "\n",
    "pipeline = imblearn.pipeline.Pipeline(steps=[\n",
    "    # Insert other preprocessing steps here...\n",
    "    # (\"smote\", ScaledSMOTEENN(random_state=1)), # For example, class balancing\n",
    "    (\"pls\", PLS(n_components=1, alpha=0.05, gamma=0.01, scale_x=True)\n",
    "    )\n",
    "])\n",
    "\n",
    "# Hyperparameters of pipeline steps are given in standard notation: step__parameter_name\n",
    "param_grid = [{\n",
    "    # 'smote__k_enn':[1, 2, 3],\n",
    "    # 'smote__k_smote':[1, 3, 3],\n",
    "    # 'smote__kind_sel_enn':['all', 'mode'],\n",
    "    'pls__n_components':np.arange(1, 10),\n",
    "    # 'pls__alpha':[0.07, 0.05, 0.03, 0.01],\n",
    "    # 'pls__scale_x': [True, False]\n",
    "}]\n",
    "\n",
    "gs = GridSearchCV(\n",
    "    estimator=pipeline,\n",
    "    param_grid=param_grid,\n",
    "    n_jobs=-1,\n",
    "    cv=sklearn.model_selection.KFold(n_splits=3, shuffle=True, random_state=0),\n",
    "    error_score=0,\n",
    "    refit=True\n",
    ")\n",
    "\n",
    "_ = gs.fit(raw_x, raw_y)"
   ]
  },
  {
   "cell_type": "code",
   "execution_count": null,
   "metadata": {
    "hidden": true
   },
   "outputs": [],
   "source": [
    "# The best parameters found can be accessed like this:\n",
    "gs.best_params_"
   ]
  },
  {
   "cell_type": "code",
   "execution_count": null,
   "metadata": {
    "hidden": true
   },
   "outputs": [],
   "source": [
    "gs.best_score_ # The best (default is R^2, coefficient of determination) score it recieved was..."
   ]
  },
  {
   "cell_type": "code",
   "execution_count": null,
   "metadata": {
    "hidden": true
   },
   "outputs": [],
   "source": [
    "# You can see detailed CV results here\n",
    "gs.cv_results_"
   ]
  },
  {
   "cell_type": "code",
   "execution_count": null,
   "metadata": {
    "hidden": true
   },
   "outputs": [],
   "source": [
    "# For a 1D optimization you can easily visualize where the best value is\n",
    "plt.errorbar(gs.cv_results_['param_pls__n_components'].data, \n",
    "             gs.cv_results_['mean_test_score'], \n",
    "             yerr=gs.cv_results_['std_test_score'])\n",
    "plt.xlabel('n_components')\n",
    "plt.ylabel(r'$R^2$')\n",
    "\n",
    "plt.axvline(gs.best_params_['pls__n_components'], color='red')"
   ]
  },
  {
   "cell_type": "code",
   "execution_count": null,
   "metadata": {
    "hidden": true,
    "scrolled": true
   },
   "outputs": [],
   "source": [
    "# The refit=True (default) refits the model on the data in the end so you can use it directly on the test set.\n",
    "gs.score(raw_x_t, raw_y_t)"
   ]
  },
  {
   "cell_type": "code",
   "execution_count": null,
   "metadata": {
    "hidden": true
   },
   "outputs": [],
   "source": [
    "plt.plot(raw_y_t, gs.predict(raw_x_t), 'o')\n",
    "plt.plot(np.linspace(10,14,100), np.linspace(10,14,100), 'k-')\n",
    "plt.xlim(10,14)\n",
    "plt.ylim(10,14)\n",
    "_ = plt.axis('equal')\n",
    "plt.xlabel('Actual Water Content')\n",
    "plt.ylabel('Predicted Water Content')"
   ]
  },
  {
   "cell_type": "markdown",
   "metadata": {
    "heading_collapsed": true
   },
   "source": [
    "# Outlier Detection"
   ]
  },
  {
   "cell_type": "markdown",
   "metadata": {
    "hidden": true
   },
   "source": [
    "Steps 1 and 2 in the workflow at the beginning of this document are handled by the last step with CV. Now we can turn to optimizing the training set by removing outliers."
   ]
  },
  {
   "cell_type": "code",
   "execution_count": null,
   "metadata": {
    "hidden": true
   },
   "outputs": [],
   "source": [
    "optimal_model = PLS(n_components=8, alpha=0.05, gamma=0.01, scale_x=True)\n",
    "_ = optimal_model.fit(raw_x, raw_y)"
   ]
  },
  {
   "cell_type": "markdown",
   "metadata": {
    "heading_collapsed": true,
    "hidden": true
   },
   "source": [
    "## Step 3"
   ]
  },
  {
   "cell_type": "code",
   "execution_count": null,
   "metadata": {
    "hidden": true
   },
   "outputs": [],
   "source": [
    "_ = optimal_model.visualize(raw_x, raw_y)"
   ]
  },
  {
   "cell_type": "code",
   "execution_count": null,
   "metadata": {
    "hidden": true
   },
   "outputs": [],
   "source": [
    "extremes, outliers = optimal_model.check_xy_outliers(raw_x, raw_y)"
   ]
  },
  {
   "cell_type": "code",
   "execution_count": null,
   "metadata": {
    "hidden": true
   },
   "outputs": [],
   "source": [
    "np.sum(outliers) # Indeed, we have 1 outlier"
   ]
  },
  {
   "cell_type": "markdown",
   "metadata": {
    "heading_collapsed": true,
    "hidden": true
   },
   "source": [
    "## Step 4"
   ]
  },
  {
   "cell_type": "code",
   "execution_count": null,
   "metadata": {
    "hidden": true
   },
   "outputs": [],
   "source": [
    "# Select data that is NOT an outlier (regular and extreme points)\n",
    "new_x = raw_x[~outliers]\n",
    "new_y = raw_y[~outliers]"
   ]
  },
  {
   "cell_type": "code",
   "execution_count": null,
   "metadata": {
    "hidden": true
   },
   "outputs": [],
   "source": [
    "# After retraining the model we see there are no outliers - a \"clean\" training set\n",
    "_ = optimal_model.fit(new_x, new_y)\n",
    "_ = optimal_model.visualize(new_x, new_y)"
   ]
  },
  {
   "cell_type": "markdown",
   "metadata": {
    "heading_collapsed": true,
    "hidden": true
   },
   "source": [
    "## Step 5"
   ]
  },
  {
   "cell_type": "code",
   "execution_count": null,
   "metadata": {
    "hidden": true
   },
   "outputs": [],
   "source": [
    "_ = optimal_model.visualize(raw_x[outliers], raw_y[outliers])"
   ]
  },
  {
   "cell_type": "markdown",
   "metadata": {
    "hidden": true
   },
   "source": [
    "Outliers remain outliers, so the model is \"stable\" and Step 6 is not required.  This code always uses robust statistical methods for estimating internal parameters, so Step 7 is not performed."
   ]
  },
  {
   "cell_type": "code",
   "execution_count": null,
   "metadata": {
    "hidden": true
   },
   "outputs": [],
   "source": []
  }
 ],
 "metadata": {
  "kernelspec": {
   "display_name": "Python 3",
   "language": "python",
   "name": "python3"
  },
  "language_info": {
   "codemirror_mode": {
    "name": "ipython",
    "version": 3
   },
   "file_extension": ".py",
   "mimetype": "text/x-python",
   "name": "python",
   "nbconvert_exporter": "python",
   "pygments_lexer": "ipython3",
   "version": "3.7.4"
  },
  "toc": {
   "base_numbering": 1,
   "nav_menu": {},
   "number_sections": true,
   "sideBar": true,
   "skip_h1_title": false,
   "title_cell": "Table of Contents",
   "title_sidebar": "Contents",
   "toc_cell": true,
   "toc_position": {},
   "toc_section_display": true,
   "toc_window_display": false
  }
 },
 "nbformat": 4,
 "nbformat_minor": 2
}
